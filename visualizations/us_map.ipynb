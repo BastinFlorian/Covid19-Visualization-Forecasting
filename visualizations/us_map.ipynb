{
 "cells": [
  {
   "cell_type": "markdown",
   "metadata": {},
   "source": [
    "## US map of confirmed cases "
   ]
  },
  {
   "cell_type": "markdown",
   "metadata": {},
   "source": [
    "In this notebook we would like to study the number of confirmed cases per state in the US.\n",
    "\n",
    "We will also correlate the spread of the desease with the size of the population per state"
   ]
  },
  {
   "cell_type": "code",
   "execution_count": 7,
   "metadata": {},
   "outputs": [],
   "source": [
    "import pandas as pd\n",
    "import os\n",
    "import utils.preprocess_data as ppd\n",
    "import dash \n",
    "import plotly.express as px\n",
    "import json "
   ]
  },
  {
   "cell_type": "code",
   "execution_count": 8,
   "metadata": {},
   "outputs": [
    {
     "name": "stdout",
     "output_type": "stream",
     "text": [
      "['NE (From Diamond Princess)', 'CA (From Diamond Princess)', 'TX (From Diamond Princess)', 'Unassigned Location (From Diamond Princess)', 'Grand Princess Cruise Ship', 'D.C.', 'Diamond Princess', 'Grand Princess', 'PR', 'U.S.', 'Guam', 'Virgin Islands', 'United States Virgin Islands', 'US', 'Wuhan Evacuee', 'American Samoa', 'Northern Mariana Islands', 'Recovered']\n",
      "{'Acmar': 'AL', 'Adamsville': 'TN', 'Adger': 'AL', 'Keystone': 'WV', 'New site': 'MS', 'Alpine': 'WY', 'Arab': 'AL', 'Baileyton': 'TN', 'Bessemer': 'PA', 'Zcta 35022': 'AL', 'Hueytown': 'AL', 'Blountsville': 'AL', 'Bremen': 'KY', 'Brent': 'AL', 'Brierfield': 'AL', 'Brookside': 'AL', 'Calera': 'OK', 'Centreville': 'MS', 'Chelsea': 'VT', 'Coosa pines': 'AL', 'Clanton': 'AL', 'Zcta 35046': 'AL', 'Cleveland': 'WI', 'Columbiana': 'OH', 'Cook springs': 'AL', 'Crane hill': 'AL', 'Cropwell': 'AL', 'Cullman': 'AL', 'Zcta 35058': 'AL', 'Docena': 'AL', 'Dolomite': 'AL', 'Dora': 'NM', 'Empire': 'OH', 'Fairfield': 'WA', 'Coalburg': 'AL', 'Garden city': 'UT', 'Gardendale': 'TX', 'Goodwater': 'AL', 'Alden': 'NY', 'Green pond': 'SC', 'Hanceville': 'AL', 'Harpersville': 'AL', 'Hayden': 'CO', 'Helena': 'OK', 'Hollins': 'VA', 'Holly pond': 'AL', 'Jemison': 'AL', 'Joppa': 'MD', 'Kellyton': 'AL', 'Kimberly': 'WI', 'Leeds': 'NY', 'Lincoln': 'TX', 'Locust fork': 'AL', 'Logan': 'UT', 'Zcta 350hh': 'AL', 'Zcta 350xx': 'AL', 'Mc calla': 'AL', 'Margaret': 'AL', 'Maylene': 'AL', 'Montevallo': 'AL', 'Morris': 'PA', 'Mount olive': 'NC', 'Sylvan springs': 'AL', 'New castle': 'VA', 'Odenville': 'AL', 'Oneonta': 'NY', 'Indian springs': 'NV', 'Pell city': 'AL', 'Dixiana': 'AL', 'Pleasant grove': 'UT', 'Zcta 35128': 'AL', 'Quinton': 'VA', 'Ragland': 'AL', 'Remlap': 'AL', 'Riverside': 'WA', 'Rockford': 'WA', 'Sayre': 'PA', 'Shelby': 'OH', 'Springville': 'UT', 'Sterrett': 'AL', 'Sumiton': 'AL', 'Sycamore': 'SC', 'Sylacauga': 'AL', 'Zcta 35151': 'AL', 'Talladega': 'AL', 'Thorsby': 'AL', 'Trafford': 'AL', 'Trussville': 'AL', 'Union grove': 'WI', 'Vandiver': 'AL', 'Vincent': 'OH', 'Vinemont': 'AL', 'Warrior': 'AL', 'Weogufka': 'AL', 'West blocton': 'AL', 'Wilsonville': 'OR', 'Woodstock': 'VA', 'Zcta 351hh': 'AL', 'Zcta 351xx': 'AL', 'Birmingham': 'OH', 'Homewood': 'PA', 'Irondale': 'OH', 'Crestline height': 'AL', 'Center point': 'WV', 'Vestavia hills': 'AL', 'Mountain brook': 'AL', 'Bluff park': 'AL', 'Midfield': 'TX', 'Shoal creek': 'AL', 'Cahaba heights': 'AL', 'Hoover': 'AL', 'Zcta 352hh': 'AL', 'Tuscaloosa': 'AL', 'Holt': 'MO', 'Stewart': 'TN', 'Aliceville': 'AL', 'Boligee': 'AL', 'Brookwood': 'AL', 'Buhl': 'MN', 'Carrollton': 'VA', 'Coker': 'AL', 'Cottondale': 'FL', 'Duncanville': 'TX', 'Echola': 'AL', 'Elrod': 'AL', 'Emelle': 'AL', 'Epes': 'AL', 'Ethelsville': 'AL', 'Eutaw': 'AL', 'Fosters': 'AL', 'Gainesville': 'NY', 'Gordo': 'AL', 'Knoxville': 'TN', 'Coatopa': 'AL', 'Mc shan': 'AL', 'Zcta 35473': 'AL', 'Cypress': 'TX', 'Zcta 35475': 'AL', 'Northport': 'WA', 'Panola': 'AL', 'Ralph': 'SD', 'Reform': 'AL', 'Vance': 'SC', 'Zcta 354hh': 'AL', 'Zcta 354xx': 'AL', 'Jasper': 'OH', 'Zcta 35503': 'AL', 'Zcta 35504': 'AL', 'Addison': 'TX', 'Arley': 'AL', 'Bankston': 'AL', 'Bear creek': 'WI', 'Beaverton': 'OR', 'Belk': 'AL', 'Berry': 'KY', 'Brilliant': 'OH', 'Carbon hill': 'OH', 'Cordova': 'TN', 'Detroit': 'TX', 'Double springs': 'AL', 'Eldridge': 'ND', 'Fayette': 'UT', 'Glen allen': 'VA', 'Guin': 'AL', 'Hackleburg': 'AL', 'Haleyville': 'AL', 'Hamilton': 'TX', 'Hodges': 'SC', 'Houston': 'TX', 'Kennedy': 'NY', 'Lynn': 'MA', 'Millport': 'NY', 'Nauvoo': 'IL', 'Oakman': 'AL', 'Parrish': 'FL', 'Phil campbell': 'AL', 'Red bay': 'AL', 'Sipsey': 'AL', 'Spruce pine': 'NC', 'Sulligent': 'AL', 'Townley': 'AL', 'Vernon': 'VT', 'Vina': 'CA', 'Winfield': 'WV', 'Zcta 355hh': 'AL', 'Zcta 355xx': 'AL', 'Decatur': 'TX', 'Anderson': 'TX', 'Athens': 'WV', 'Zcta 35613': 'AL', 'Zcta 35614': 'AL', 'Cherokee': 'TX', 'Courtland': 'VA', 'Danville': 'WV', 'Elkmont': 'AL', 'Eva': 'TN', 'Falkville': 'AL', 'Florence': 'WI', 'Zcta 35634': 'AL', 'Hartselle': 'AL', 'Hillsboro': 'TX', 'Killen': 'AL', 'Leighton': 'IA', 'Lester': 'WV', 'Lexington': 'VA', 'Mooresville': 'NC', 'Moulton': 'TX', 'Mount hope': 'WI', 'Rogersville': 'TN', 'Russellville': 'TN', 'Zcta 35654': 'AL', 'Sheffield': 'VT', 'Muscle shoals': 'AL', 'Somerville': 'TX', 'Tanner': 'AL', 'Town creek': 'AL', 'Trinity': 'TX', 'Tuscumbia': 'MO', 'Waterloo': 'WI', 'Zcta 356hh': 'AL', 'Zcta 356xx': 'AL', 'Ardmore': 'TN', 'Bridgeport': 'WV', 'Brownsboro': 'AL', 'Capshaw': 'AL', 'Dutton': 'VA', 'Estillfork': 'AL', 'Fackler': 'AL', 'Grant': 'OK', 'Gurley': 'NE', 'Harvest': 'AL', 'Hazel green': 'WI', 'Hollytree': 'AL', 'Hollywood': 'MD', 'Laceys spring': 'AL', 'Langston': 'OK', 'Zcta 35756': 'AL', 'Zcta 35757': 'AL', 'Triana': 'AL', 'Meridianville': 'AL', 'New hope': 'PA', 'New market': 'VA', 'Big cove': 'AL', 'Paint rock': 'TX', 'Pisgah': 'MD', 'Princeton': 'WI', 'Hytop': 'AL', 'Zcta 35769': 'AL', 'Section': 'AL', 'Stevenson': 'WA', 'Toney': 'AL', 'Trenton': 'UT', 'Valhermoso sprin': 'AL', 'Woodville': 'WI', 'Zcta 357hh': 'AL', 'Zcta 357xx': 'AL', 'Huntsville': 'UT', 'Zcta 358hh': 'AL', 'Zcta 358xx': 'AL', 'Southside': 'WV', 'Hokes bluff': 'AL', 'Gadsden': 'TN', 'Glencoe': 'PA', 'Rainbow city': 'AL', 'Zcta 35907': 'AL', 'Albertville': 'MN', 'Zcta 35951': 'AL', 'Snead': 'AL', 'Ashville': 'PA', 'Attalla': 'AL', 'Zcta 35956': 'AL', 'Boaz': 'KY', 'Bryant': 'WI', 'Cedar bluff': 'VA', 'Centre': 'AL', 'Collinsville': 'VA', 'Crossville': 'IL', 'Dawson': 'WV', 'Flat rock': 'OH', 'Fort payne': 'AL', 'Zcta 35968': 'AL', 'Fyffe': 'AL', 'Gallant': 'AL', 'Gaylesville': 'AL', 'Geraldine': 'MT', 'Groveoak': 'AL', 'Guntersville': 'AL', 'Henagar': 'AL', 'Higdon': 'AL', 'Horton': 'MO', 'Ider': 'AL', 'Leesburg': 'TX', 'Mentone': 'TX', 'Rainsville': 'NM', 'Steele': 'ND', 'Sylvania': 'OH', 'Valley head': 'AL', 'Walnut grove': 'MO', 'Zcta 359hh': 'AL', 'Autaugaville': 'AL', 'Banks': 'OR', 'Billingsley': 'AL', 'Brantley': 'AL', 'Brundidge': 'AL', 'Cecil': 'WI', 'Clayton': 'WI', 'Clio': 'SC', 'Coosada': 'AL', 'Deatsville': 'KY', 'Eclectic': 'AL', 'Elmore': 'OH', 'Equality': 'IL', 'Eufaula': 'OK', 'Dozier': 'AL', 'Fitzpatrick': 'AL', 'Forest home': 'AL', 'Fort davis': 'TX', 'Fort deposit': 'AL', 'Georgiana': 'AL', 'Glenwood': 'WV', 'Goshen': 'VA', 'Grady': 'OK', 'Greenville': 'WI', 'Hardaway': 'AL', 'Hayneville': 'AL', 'Highland home': 'AL', 'Honoraville': 'AL', 'Hope hull': 'AL', 'Lapine': 'AL', 'Letohatchee': 'AL', 'Louisville': 'TN', 'Luverne': 'ND', 'Marbury': 'AL', 'Mathews': 'VA', 'Midway': 'WV', 'Millbrook': 'NY', 'Pike road': 'AL', 'Pine level': 'NC', 'Prattville': 'AL', 'Ramer': 'TN', 'Rutledge': 'TN', 'Shorter': 'AL', 'Tallassee': 'TN', 'Zcta 36079': 'AL', 'Titus': 'AL', 'Troy': 'WV', 'Tuskegee': 'AL', 'Tuskegee institu': 'AL', 'Union springs': 'NY', 'Verbena': 'AL', 'Wetumpka': 'AL', 'Zcta 36093': 'AL', 'Zcta 360hh': 'AL', 'Zcta 360xx': 'AL', 'Montgomery': 'WV', 'Maxwell a f b': 'AL', 'Gunter afs': 'AL', 'Zcta 361hh': 'AL', 'Anniston': 'MO', 'Oxford': 'WI', 'Fort mc clellan': 'AL', 'Zcta 36207': 'AL', 'Alexandria': 'VA', 'Ashland': 'VA', 'Cragford': 'AL', 'Daviston': 'AL', 'Delta': 'WI', 'Eastaboga': 'AL', 'Fruithurst': 'AL', 'Graham': 'WA', 'Heflin': 'LA', 'Jacksonville': 'VT', 'Lineville': 'IA', 'Millerville': 'AL', 'Munford': 'TN', 'Muscadine': 'AL', 'Newell': 'WV', 'Ohatchee': 'AL', 'Piedmont': 'WV', 'Ranburne': 'AL', 'Rock mills': 'AL', 'Wadley': 'GA', 'Weaver': 'AL', 'Wedowee': 'AL', 'Wellington': 'VA', 'Woodland': 'WA', 'Zcta 362hh': 'AL', 'Zcta 362xx': 'AL', 'Taylor': 'WI', 'Napier field': 'AL', 'Zcta 36305': 'AL', 'Abbeville': 'SC', 'Ariton': 'AL', 'Ashford': 'WV', 'Bellwood': 'PA', 'Black': 'TX', 'Chancellor': 'SD', 'Clopton': 'AL', 'Coffee springs': 'AL', 'Columbia': 'VA', 'Cottonwood': 'UT', 'Daleville': 'VA', 'Elba': 'NY', 'Enterprise': 'WV', 'Geneva': 'OH', 'Gordon': 'WI', 'Hartford': 'WI', 'Headland': 'AL', 'Jack': 'AL', 'Midland city': 'AL', 'New brockton': 'AL', 'Newton': 'WI', 'Newville': 'PA', 'Ozark': 'MO', 'Fort rucker': 'AL', 'Pansey': 'AL', 'Pinckard': 'AL', 'Shorterville': 'AL', 'Skipperville': 'AL', 'Slocomb': 'AL', 'Webb': 'MS', 'Zcta 363hh': 'AL', 'Evergreen': 'WI', 'Andalusia': 'IL', 'Beatrice': 'NE', 'East brewton': 'AL', 'Castleberry': 'AL', 'Coy': 'AL', 'Dickinson': 'AL', 'Flomaton': 'AL', 'Florala': 'AL', 'Franklin': 'WI', 'Frisco city': 'AL', 'Fulton': 'TX', 'Grove hill': 'AL', 'Kinston': 'NC', 'Lockhart': 'TX', 'Mc kenzie': 'TN', 'Monroeville': 'PA', 'Opp': 'AL', 'Perdue hill': 'AL', 'Peterman': 'AL', 'Range': 'AL', 'Red level': 'AL', 'Repton': 'AL', 'River falls': 'WI', 'Samson': 'AL', 'Uriah': 'AL', 'Vredenburgh': 'AL', 'Whatley': 'AL', 'Wing': 'ND', 'Zcta 364hh': 'AL', 'Zcta 364xx': 'AL', 'Alma': 'WI', 'Atmore': 'AL', 'Axis': 'AL', 'Bay minette': 'AL', 'Bayou la batre': 'AL', 'Bon secour': 'AL', 'Calvert': 'TX', 'Carlton': 'WA', 'Chatom': 'AL', 'Chunchula': 'AL', 'Citronelle': 'AL', 'Coden': 'AL', 'Coffeeville': 'MS', 'Creola': 'OH', 'Daphne': 'AL', 'Spanish fort': 'AL', 'Dauphin island': 'AL', 'Deer park': 'WI', 'Elberta': 'UT', 'Fairhope': 'AL', 'Foley': 'MO', 'Frankville': 'AL', 'Fruitdale': 'SD', 'Gainestown': 'AL', 'Grand bay': 'AL', 'Fort morgan': 'CO', 'Irvington': 'VA', 'Jackson': 'WI', 'Leroy': 'MI', 'Lillian': 'TX', 'Little river': 'TX', 'Loxley': 'AL', 'Mc intosh': 'SD', 'Malcolm': 'NE', 'Millry': 'AL', 'Montrose': 'WV', 'Mount vernon': 'WA', 'Orange beach': 'AL', 'Perdido': 'AL', 'Point clear': 'AL', 'Robertsdale': 'PA', 'Saint stephens': 'AL', 'Salitpa': 'AL', 'Saraland': 'AL', 'Satsuma': 'FL', 'Seminole': 'TX', 'Semmes': 'AL', 'Silverhill': 'AL', 'Zcta 36577': 'AL', 'Stapleton': 'NE', 'Stockton': 'UT', 'Summerdale': 'PA', 'Sunflower': 'MS', 'Theodore': 'AL', 'Tibbie': 'AL', 'Vinegar bend': 'AL', 'Wagarville': 'AL', 'Wilmer': 'TX', 'Zcta 365hh': 'AL', 'Zcta 365xx': 'AL', 'Mobile': 'AZ', 'Prichard': 'WV', 'Chickasaw': 'AL', 'Eight mile': 'AL', 'Zcta 366hh': 'AL', 'Selma': 'VA', 'Alberta': 'VA', 'Arlington': 'WI', 'Boykin': 'AL', 'Camden': 'WV', 'Campbell': 'TX', 'Catherine': 'AL', 'Demopolis': 'AL', 'Dixons mills': 'AL', 'Faunsdale': 'AL', 'Forkland': 'AL', 'Gallion': 'AL', 'Greensboro': 'VT', 'Linden': 'WI', 'Jones': 'OK', 'Maplesville': 'AL', 'Lower peach tree': 'AL', 'Burkville': 'AL', 'Magnolia': 'TX', 'Marion': 'WI', 'Plantersville': 'TX', 'Marion junction': 'AL', 'Boys ranch': 'TX', 'Myrtlewood': 'AL', 'Newbern': 'TN', 'Orrville': 'OH', 'Pine apple': 'AL', 'Pine hill': 'AL', 'Safford': 'AZ', 'Sardis': 'TN', 'Sawyerville': 'IL', 'Sprott': 'AL', 'Sweet water': 'AL', 'Thomaston': 'ME', 'Thomasville': 'PA', 'Benton': 'WI', 'Uniontown': 'WA', 'Stanton': 'TX', 'Randolph': 'WI', 'Lawley': 'AL', 'Zcta 367hh': 'AL', 'Zcta 367xx': 'AL', 'Opelika': 'AL', 'Zcta 36804': 'AL', 'Auburn': 'WY', 'Camp hill': 'AL', 'Cusseta': 'GA', 'Dadeville': 'MO', 'Valley': 'WA', 'Five points': 'TN', 'Fort mitchell': 'AL', 'Hatchechubbee': 'AL', 'Hurtsboro': 'AL', 'Jacksons gap': 'AL', 'Lafayette': 'TN', 'Lanett': 'AL', 'Notasulga': 'AL', 'Phenix city': 'AL', 'Zcta 36870': 'AL', 'Pittsview': 'AL', 'Salem': 'WI', 'Seale': 'AL', 'Smiths': 'AL', 'Waverly': 'WV', 'Zcta 368hh': 'AL', 'Bellamy': 'AL', 'Butler': 'WI', 'Cuba': 'OH', 'Gilbertown': 'AL', 'Jachin': 'AL', 'Lisman': 'AL', 'Needham': 'IN', 'Pennington': 'TX', 'Silas': 'AL', 'Toxey': 'AL', 'Ward': 'SD', 'York': 'SC', 'Zcta 369hh': 'AL', 'Zcta 369xx': 'AL', nan: 'VA', 'Anchorage': 'KY', 'Fort richardson': 'AK', 'Elmendorf afb': 'AK', 'Indian': 'AK', 'Zcta 99546': 'AK', 'Atka': 'AK', 'Chignik lake': 'AK', 'Port heiden': 'AK', 'Port lions': 'AK', 'Akiachak': 'AK', 'Akiak': 'AK', 'Akutan': 'AK', 'Alakanuk': 'AK', 'Aleknagik': 'AK', 'Nikolaevsk': 'AK', 'Chuathbaluk': 'AK', 'Anvik': 'AK', 'Atmautluak': 'AK', 'Chefornak': 'AK', 'Chevak': 'AK', 'Chignik': 'AK', 'Chignik lagoon': 'AK', 'Chitina': 'AK', 'Chugiak': 'AK', 'Clam gulch': 'AK', 'Clarks point': 'AK', 'Nelson lagoon': 'AK', 'Cooper landing': 'AK', 'Copper center': 'AK', 'Chenega bay': 'AK', 'Crooked creek': 'AK', 'Koliganek': 'AK', 'Eagle river': 'WI', 'Eek': 'AK', 'Egegik': 'AK', 'Ekwok': 'AK', 'Emmonak': 'AK', 'False pass': 'AK', 'Marshall': 'WI', 'Slana': 'AK', 'Girdwood': 'AK', 'Glennallen': 'AK', 'Goodnews bay': 'AK', 'Grayling': 'MI', 'Saint george isl': 'FL', 'Zcta 995hh': 'AK', 'Zcta 995xx': 'AK', 'Holy cross': 'IA', 'Port graham': 'AK', 'Hooper bay': 'AK', 'Hope': 'RI', 'Kokhanok': 'AK', 'Kalskag': 'AK', 'Karluk': 'AK', 'Kasigluk': 'AK', 'Kasilof': 'AK', 'Kenai': 'AK', 'King cove': 'AK', 'Igiugig': 'AK', 'Kipnuk': 'AK', 'Akhiok': 'AK', 'Kotlik': 'AK', 'Kwethluk': 'AK', 'Kwigillingok': 'AK', 'Larsen bay': 'AK', 'Levelock': 'AK', 'Lower kalskag': 'AK', 'Mc grath': 'MN', 'Manokotak': 'AK', 'Mekoryuk': 'AK', 'Moose pass': 'AK', 'Mountain village': 'AK', 'Naknek': 'AK', 'Napakiak': 'AK', 'Nikiski': 'AK', 'New stuyahok': 'AK', 'Toksook bay': 'AK', 'Nikolski': 'AK', 'Ninilchik': 'AK', 'Nondalton': 'AK', 'Nunapitchuk': 'AK', 'Old harbor': 'AK', 'Ouzinkie': 'AK', 'Butte': 'ND', 'Pedro bay': 'AK', 'Perryville': 'MO', 'Pilot point': 'TX', 'Pilot station': 'AK', 'Platinum': 'AK', 'Big lake': 'MN', 'Port alsworth': 'AK', 'Wasilla': 'AK', 'Quinhagak': 'AK', 'Red devil': 'AK', 'Russian mission': 'AK', 'Saint marys': 'WV', 'Saint michael': 'ND', 'Saint paul islan': 'AK', 'Sand point': 'AK', 'Scammon bay': 'AK', 'Seldovia': 'AK', 'Seward': 'PA', 'Shageluk': 'AK', 'Sheldon point': 'AK', 'Skwentna': 'AK', 'Sleetmute': 'AK', 'Soldotna': 'AK', 'South naknek': 'AK', 'Stebbins': 'AK', 'Sterling': 'VA', 'Chickaloon': 'AK', 'Takotna': 'AK', 'Talkeetna': 'AK', 'Tatitlek': 'AK', 'Togiak': 'AK', 'Tuluksak': 'AK', 'Tuntutuliak': 'AK', 'Tununak': 'AK', 'Tyonek': 'AK', 'Trapper creek': 'AK', 'Unalakleet': 'AK', 'Unalaska': 'AK', 'Valdez': 'NM', 'Willow': 'OK', 'Yakutat': 'AK', 'Nightmute': 'AK', 'Nikolai': 'AK', 'Dutch harbor': 'AK', 'Whittier': 'NC', 'Kodiak': 'AK', 'Zcta 996hh': 'AK', 'Zcta 996xx': 'AK', 'Coldfoot': 'AK', 'Eielson afb': 'AK', 'Fort wainwright': 'AK', 'Clear': 'AK', 'North pole': 'NY', 'Fairbanks': 'IN', 'Salcha': 'AK', 'Allakaket': 'AK', 'Anaktuvuk pass': 'AK', 'Arctic village': 'AK', 'Barrow': 'AK', 'Beaver': 'WI', 'Ester': 'AK', 'Bettles field': 'AK', 'Buckland': 'OH', 'Cantwell': 'AK', 'Central': 'UT', 'Chicken': 'AK', 'Circle': 'MT', 'Deering': 'ND', 'Dot lake': 'AK', 'Eagle': 'WI', 'Elim': 'AK', 'Fort yukon': 'AK', 'Galena': 'OH', 'Gambell': 'AK', 'Healy': 'KS', 'Hughes': 'AR', 'Huslia': 'AK', 'Kaktovik': 'AK', 'Kaltag': 'AK', 'Kiana': 'AK', 'Kivalina': 'AK', 'Kobuk': 'AK', 'Kotzebue': 'AK', 'Koyuk': 'AK', 'Koyukuk': 'AK', 'Denali national': 'AK', 'Manley hot sprin': 'AK', 'Lake minchumina': 'AK', 'Minto': 'AK', 'Point lay': 'AK', 'Nenana': 'AK', 'Noatak': 'AK', 'Golovin': 'AK', 'Noorvik': 'AK', 'Northway': 'AK', 'Nulato': 'AK', 'Point hope': 'AK', 'Rampart': 'AK', 'Ruby': 'SC', 'Savoonga': 'AK', 'Selawik': 'AK', 'Shaktoolik': 'AK', 'Shishmaref': 'AK', 'Shungnak': 'AK', 'Stevens village': 'AK', 'Tanacross': 'AK', 'Tanana': 'AK', 'Teller': 'AK', 'Tetlin': 'AK', 'Border': 'AK', 'Venetie': 'AK', 'Wainwright': 'OK', 'Wales': 'WI', 'White mountain': 'AK', 'Brevig mission': 'AK', 'Ambler': 'AK', 'Chalkyitsik': 'AK', 'Nuiqsut': 'AK', 'Atqasuk': 'AK', 'Zcta 997hh': 'AK', 'Zcta 997xx': 'AK', 'Juneau': 'WI', 'Angoon': 'AK', 'Douglas': 'WY', 'Elfin cove': 'AK', 'Gustavus': 'AK', 'Haines': 'OR', 'Hoonah': 'AK', 'Kake': 'AK', 'Pelican': 'LA', 'Petersburg': 'VA', 'Sitka': 'KY', 'Skagway': 'AK', 'Tenakee springs': 'AK', 'Zcta 998hh': 'AK', 'Zcta 998xx': 'AK', 'Ketchikan': 'AK', 'Meyers chuck': 'AK', 'Coffman cove': 'AK', 'Thorne bay': 'AK', 'Craig': 'NE', 'Hydaburg': 'AK', 'Hyder': 'AK', 'Klawock': 'AK', 'Metlakatla': 'AK', 'Point baker': 'AK', 'Wrangell': 'AK', 'Zcta 999hh': 'AK', 'Zcta 999xx': 'AK', 'Phoenix': 'OR', 'New river stage': 'AZ', 'Zcta 85087': 'AZ', 'Zcta 850hh': 'AZ', 'Mesa': 'WA', 'Gold canyon': 'AZ', 'Apache junction': 'AZ', 'Bapchule': 'AZ', 'Eleven mile corn': 'AZ', 'Arizona city': 'AZ', 'Chandler': 'TX', 'Coolidge': 'TX', 'Casa grande': 'AZ', 'Eloy': 'AZ', 'Gilbert': 'WV', 'Higley': 'AZ', 'Kearny': 'NJ', 'Picacho': 'NM', 'Arizona boys ran': 'AZ', 'Red rock': 'TX', 'Sacaton': 'AZ', 'Sun lakes': 'AZ', 'Scottsdale': 'AZ', 'Paradise valley': 'NV', 'Rio verde': 'AZ', 'Fort mcdowell': 'AZ', 'Fountain hills': 'AZ', 'Stanfield': 'OR', 'Superior': 'WY', 'Tempe': 'AZ', 'Winkelman': 'AZ', 'Zcta 852hh': 'AZ', 'Zcta 852xx': 'AZ', 'Glendale': 'UT', 'Luke afb': 'AZ', 'Aguila': 'AZ', 'Why': 'AZ', 'Avondale': 'WV', 'Rock springs': 'WY', 'Bouse': 'AZ', 'Buckeye': 'WV', 'Cibola': 'AZ', 'Cashion': 'OK', 'Cave creek': 'AZ', 'Congress': 'AZ', 'Dateland': 'AZ', 'Ehrenberg': 'AZ', 'El mirage': 'AZ', 'Gila bend': 'AZ', 'Goodyear': 'AZ', 'Laveen': 'AZ', 'Litchfield park': 'AZ', 'Morristown': 'TN', 'Empire landing': 'AZ', 'Peoria': 'IL', 'Quartzsite': 'AZ', 'Roll': 'AZ', 'Salome': 'AZ', 'San luis': 'AZ', 'Somerton': 'OH', 'Sun city': 'KS', 'Tolleson': 'AZ', 'Tonopah': 'NV', 'Waddell': 'AZ', 'Wellton': 'AZ', 'Wenden': 'AZ', 'Wikieup': 'AZ', 'Wittmann': 'AZ', 'Yarnell': 'AZ', 'Youngtown': 'AZ', 'Yuma': 'TN', 'Yuma proving gro': 'AZ', 'Surprise': 'NY', 'Sun city west': 'AZ', 'Zcta 85379': 'AZ', 'Wickenburg': 'AZ', 'Zcta 853hh': 'AZ', 'Zcta 853xx': 'AZ', 'Globe': 'AZ', 'Bylas': 'AZ', 'Clifton': 'TN', 'Eden': 'WI', 'Fort thomas': 'KY', 'Miami': 'WV', 'Morenci': 'MI', 'Payson': 'UT', 'Peridot': 'AZ', 'Pima': 'AZ', 'Strawberry': 'AZ', 'Roosevelt': 'WA', 'San carlos': 'CA', 'Thatcher': 'ID', 'Tonto basin': 'AZ', 'Young': 'AZ', 'Zcta 855hh': 'AZ', 'Zcta 855xx': 'AZ', 'Arivaca': 'AZ', 'Benson': 'NC', 'Bisbee': 'ND', 'Bowie': 'TX', 'Cochise': 'AZ', 'Dragoon': 'AZ', 'Elfrida': 'AZ', 'Elgin': 'TX', 'Fort huachuca': 'AZ', 'Green valley': 'WI', 'Hereford': 'TX', 'Huachuca city': 'AZ', 'Mc neal': 'AZ', 'Mammoth': 'WV', 'Mount lemmon': 'AZ', 'Nogales': 'AZ', 'Oracle': 'AZ', 'Patagonia': 'AZ', 'Pearce': 'AZ', 'Pomerene': 'AZ', 'Sahuarita': 'AZ', 'Saint david': 'ME', 'San manuel': 'AZ', 'Portal': 'ND', 'Sasabe': 'AZ', 'Pisinemo': 'AZ', 'Sierra vista': 'AZ', 'Sonoita': 'AZ', 'Tombstone': 'AZ', 'Topawa': 'AZ', 'Amado': 'AZ', 'Vail': 'IA', 'Willcox': 'AZ', 'Tubac': 'AZ', 'Rio rico': 'AZ', 'Zcta 85650': 'AZ', 'Marana': 'AZ', 'Rillito': 'AZ', 'Zcta 856hh': 'AZ', 'Tucson': 'AZ', 'Casas adobes': 'AZ', 'Oro valley': 'AZ', 'Zcta 85739': 'AZ', 'Show low': 'AZ', 'Cibeque': 'AZ', 'Blue': 'AZ', 'Clay springs': 'AZ', 'Concho': 'OK', 'Eagar': 'AZ', 'Fort apache': 'AZ', 'Greer': 'SC', 'Heber': 'CA', 'Lakeside': 'VA', 'Mc nary': 'AZ', 'Forest lakes': 'FL', 'Nutrioso': 'AZ', 'Overgaard': 'AZ', 'Pinedale': 'WY', 'Pinetop': 'AZ', 'Saint johns': 'MI', 'Snowflake': 'AZ', 'Springerville': 'AZ', 'Whiteriver': 'AZ', 'Woodruff': 'WI', 'Flagstaff': 'AZ', 'Bellemont': 'AZ', 'Gray mountain': 'AZ', 'Munds park': 'AZ', 'Parks': 'NE', 'Cameron': 'WI', 'Colorado city': 'TX', 'Fredonia': 'TX', 'Grand canyon': 'AZ', 'Happy jack': 'AZ', 'Holbrook': 'PA', 'Hotevilla': 'AZ', 'Indian wells': 'CA', 'Joseph city': 'AZ', 'Kayenta': 'AZ', 'Keams canyon': 'AZ', 'Leupp': 'AZ', 'Marble canyon': 'AZ', 'Kykotsmovi villa': 'AZ', 'Greenehaven': 'AZ', 'Polacca': 'AZ', 'Second mesa': 'AZ', 'Tonalea': 'AZ', 'Tuba city': 'AZ', 'Williams': 'SC', 'Winslow': 'NJ', 'North rim': 'AZ', 'Kaibito': 'AZ', 'Shonto': 'AZ', 'Zcta 860hh': 'AZ', 'Zcta 860xx': 'AZ', 'Prescott': 'WI', 'Groom creek': 'AZ', 'Zcta 86305': 'AZ', 'Prescott valley': 'AZ', 'Ash fork': 'AZ', 'Bagdad': 'KY', 'Camp verde': 'TX', 'Chino valley': 'AZ', 'Clarkdale': 'AZ', 'Cornville': 'AZ', 'Dewey': 'OK', 'Jerome': 'PA', 'Kirkland': 'WA', 'Mayer': 'MN', 'Paulden': 'AZ', 'Rimrock': 'AZ', 'Sedona': 'AZ', 'Seligman': 'MO', 'Skull valley': 'AZ', 'Crown king': 'AZ', 'Kingman': 'ME', 'Desert hills': 'AZ', 'Lake havasu city': 'AZ', 'Golden valley': 'ND', 'Bullhead city': 'AZ', 'Chloride': 'AZ', 'Littlefield': 'TX', 'Oatman': 'AZ', 'Peach springs': 'AZ', 'Supai': 'AZ', 'Topock': 'AZ', 'Valentine': 'TX', 'Yucca': 'AZ', 'Mohave valley': 'AZ', 'Dolan springs': 'AZ', 'Meadview': 'AZ', 'Zcta 864hh': 'AZ', 'Zcta 864xx': 'AZ', 'Chambers': 'NE', 'Chinle': 'AZ', 'Fort defiance': 'VA', 'Ganado': 'TX', 'Houck': 'AZ', 'Lukachukai': 'AZ', 'Lupton': 'MI', 'Pinon': 'NM', 'Saint michaels': 'MD', 'Sanders': 'MT', 'Teec nos pos': 'AZ', 'Window rock': 'AZ', 'Blue gap': 'AZ', 'Dennehotso': 'AZ', 'Many farms': 'AZ', 'Nazlini': 'AZ', 'Red valley': 'AZ', 'Rock point': 'AZ', 'Round rock': 'TX', 'Sawmill': 'AZ', 'Tsaile': 'AZ', 'North cedar': 'AR', 'Dollarway': 'AR', 'Pine bluff': 'AR', 'Arkansas city': 'KS', 'North': 'VA', 'Dermott': 'TX', 'Dumas': 'TX', 'Eudora': 'KS', 'Fountain hill': 'AR', 'Gould': 'OK', 'Tamo': 'AR', 'Hamburg': 'WI', 'Ingalls': 'MI', 'Jersey': 'AR', 'Kingsland': 'TX', 'Lake village': 'IN', 'Mc gehee': 'AR', 'Monticello': 'WI', 'University of ar': 'AR', 'Moscow': 'TX', 'New edinburg': 'AR', 'Parkdale': 'OH', 'Portland': 'TX', 'Rison': 'MD', 'Rohwer': 'AR', 'Star city': 'WV', 'Reed': 'OK', 'Warren': 'TX', 'Watson': 'OK', 'Wilmar': 'AR', 'Wilmot': 'WI', 'Winchester': 'WI', 'Zcta 716hh': 'AR', 'Zcta 716xx': 'AR', 'East camden': 'AR', 'Bearden': 'OK', 'Bluff city': 'TN', 'Calion': 'AR', 'Carthage': 'TX', 'Reader': 'WV', 'El dorado': 'KS', 'Emerson': 'NJ', 'Fordyce': 'NE', 'Gurdon': 'AR', 'Hampton': 'VA', 'Harrell': 'AR', 'Huttig': 'AR', 'Junction city': 'WI', 'Louann': 'AR', 'Mc neil': 'AR', 'Mount holly': 'VT', 'Norphlet': 'AR', 'Smackover': 'AR', 'Manning': 'OR', 'Stephens': 'GA', 'Strong': 'ME', 'Thornton': 'WV', 'Waldo': 'WI', 'Zcta 717hh': 'AR', 'Zcta 717xx': 'AR', 'Perrytown': 'AR', 'Alleene': 'AR', 'Ashdown': 'AR', 'Ben lomond': 'CA', 'Blevins': 'AR', 'Bradley': 'WV', 'Buckner': 'MO', 'De queen': 'AR', 'Dierks': 'AR', 'Doddridge': 'AR', 'Emmet': 'ND', 'Foreman': 'AR', 'Fouke': 'AR', 'Garland city': 'AR', 'Gillham': 'AR', 'Horatio': 'SC', 'Lewisville': 'TX', 'Lockesburg': 'AR', 'Mc caskill': 'AR', 'Mineral springs': 'PA', 'Nashville': 'TN', 'Ogden': 'UT', 'Zcta 71854': 'AR', 'Ozan': 'AR', 'Rosston': 'OK', 'Saratoga': 'TX', 'Stamps': 'AR', 'Washington': 'VA', 'Wilton': 'WI', 'Winthrop': 'WA', 'Zcta 718hh': 'AR', 'Lake catherine': 'AR', 'Hot springs vill': 'AR', 'Lake hamilton': 'FL', 'Amity': 'PA', 'Antoine': 'AR', 'Arkadelphia': 'AR', 'Bismarck': 'ND', 'Bonnerdale': 'AR', 'Caddo gap': 'AR', 'Cove': 'OR', 'Delight': 'AR', 'Donaldson': 'PA', 'Grannis': 'AR', 'Hatfield': 'PA', 'Jessieville': 'AR', 'Kirby': 'WY', 'Langley': 'WA', 'Mena': 'AR', 'Buckville': 'AR', 'Mount ida': 'AR', 'Murfreesboro': 'TN', 'Newhope': 'AR', 'Norman': 'OK', 'Oden': 'MI', 'Okolona': 'KY', 'Pearcy': 'AR', 'Pencil bluff': 'AR', 'Royal': 'TN', 'Sims': 'NC', 'Story': 'WY', 'Umpire': 'AR', 'Vandervoort': 'AR', 'Wickes': 'AR', 'Zcta 719hh': 'AR', 'Adona': 'AR', 'Alexander': 'WV', 'Almyra': 'AR', 'Altheimer': 'AR', 'Amagon': 'AR', 'Augusta': 'WI', 'Austin': 'UT', 'Bald knob': 'WV', 'Bauxite': 'AR', 'Beebe': 'AR', 'Bee branch': 'AR', 'Beedeville': 'AR', 'Bigelow': 'MO', 'Biscoe': 'NC', 'Bradford': 'VT', 'Brinkley': 'AR', 'Cabot': 'VT', 'Carlisle': 'SC', 'Casa': 'AR', 'Casscoe': 'AR', 'Center ridge': 'AR', 'Clarendon': 'TX', 'Clinton': 'WI', 'Conway': 'WA', 'Cotton plant': 'AR', 'Crocketts bluff': 'AR', 'Twin groves': 'AR', 'Des arc': 'MO', 'De valls bluff': 'AR', 'De witt': 'NY', 'Diaz': 'AR', 'Edgemont': 'SD', 'El paso': 'TX', 'England': 'AR', 'Enola': 'PA', 'Ethel': 'WV', 'Fox': 'OK', 'College station': 'TX', 'Gillett': 'WI', 'Grapevine': 'TX', 'Greenbrier': 'TN', 'Griffithville': 'AR', 'Guy': 'TX', 'Hattieville': 'AR', 'Hazen': 'PA', 'Hensley': 'WV', 'Greers ferry': 'AR', 'Higginson': 'AR', 'Holly grove': 'AR', 'Humnoke': 'AR', 'Humphrey': 'NE', 'Hunter': 'OK', 'Jacksonport': 'AR', 'Gravel ridge': 'AR', 'Jefferson': 'WI', 'Jerusalem': 'OH', 'Judsonia': 'AR', 'Kensett': 'IA', 'Keo': 'AR', 'Leola': 'SD', 'Letona': 'AR', 'Lonoke': 'AR', 'Lonsdale': 'AR', 'Fairfield bay': 'AR', 'Zcta 720hh': 'AR', 'Zcta 720xx': 'AR', 'Mc crory': 'AR', 'Mc rae': 'GA', 'Shannon hills': 'AR', 'Malvern': 'OH', 'Jones mills': 'PA', 'Mayflower': 'AR', 'Menifee': 'CA', 'Monroe': 'WI', 'Morrilton': 'AR', 'Newport': 'WA', 'Maumelle': 'AR', 'North little roc': 'AR', 'Sherwood': 'WI', 'Camp joseph t ro': 'AR', 'Pangburn': 'AR', 'Paron': 'AR', 'Patterson': 'VA', 'Perry': 'SC', 'Plumerville': 'AR', 'Poyen': 'AR', 'Prattsville': 'NY', 'Prim': 'AR', 'Quitman': 'TX', 'Redfield': 'SD', 'Reydell': 'AR', 'Roe': 'AR', 'Roland': 'OK', 'Romance': 'WV', 'Rose bud': 'AR', 'Russell': 'PA', 'Saint charles': 'VA', 'Scotland': 'TX', 'Scott': 'OH', 'Georgetown': 'TX', 'Sheridan': 'WY', 'Sherrill': 'NY', 'Shirley': 'NY', 'Solgohachia': 'AR', 'Springfield': 'WI', 'Stuttgart': 'KS', 'Thida': 'AR', 'Tichnor': 'AR', 'Traskwood': 'AR', 'Tucker': 'GA', 'Tupelo': 'OK', 'Ulm': 'MT', 'Vilonia': 'AR', 'Wabbaseka': 'AR', 'Wilburn': 'AR', 'Woodson': 'TX', 'Wooster': 'OH', 'Wrightsville': 'PA', 'Zcta 721hh': 'AR', 'Zcta 721xx': 'AR', 'Little rock': 'SC', 'Zcta 722hh': 'AR', 'West memphis': 'AR', 'Aubrey': 'TX', 'Blytheville a f': 'AR', 'Brickeys': 'AR', 'Burdette': 'AR', 'Caldwell': 'WV', 'Cherry valley': 'NY', 'Colt': 'AR', 'Crawfordsville': 'IA', 'Crumrod': 'AR', 'Driver': 'AR', 'Dyess': 'AR', 'Earle': 'AR', 'Edmondson': 'AR', 'Elaine': 'AR', 'Forrest city': 'AR', 'Frenchmans bayou': 'AR', 'Gilmore': 'AR', 'Goodwin': 'AR', 'Haynes': 'AR', 'Heth': 'AR', 'Hickory ridge': 'AR', 'Joiner': 'AR', 'Keiser': 'AR', 'Lambrook': 'AR', 'Lepanto': 'AR', 'Lexa': 'AR', 'Luxora': 'AR', 'Madison': 'WI', 'Marianna': 'PA', 'Marked tree': 'AR', 'Marvell': 'AR', 'Mellwood': 'AR', 'Moro': 'OR', 'Oneida': 'WI', 'Osceola': 'WI', 'Palestine': 'WV', 'Parkin': 'AR', 'Poplar grove': 'IL', 'Proctor': 'WV', 'Rivervale': 'AR', 'Snow lake': 'AR', 'Turner': 'OR', 'Turrell': 'AR', 'Tyronza': 'AR', 'Vanndale': 'AR', 'Wabash': 'IN', 'West helena': 'AR', 'Wheatley': 'AR', 'Widener': 'AR', 'Wilson': 'WY', 'Wynne': 'AR', 'Zcta 723hh': 'AR', 'Zcta 723xx': 'AR', 'Jonesboro': 'TX', 'Zcta 72404': 'AR', 'Alicia': 'AR', 'Bay': 'MO', 'Beech grove': 'IN', 'Biggers': 'AR', 'Black oak': 'AR', 'Black rock': 'AR', 'Bono': 'OH', 'Brookland': 'AR', 'Caraway': 'AR', 'Cash': 'AR', 'Corning': 'NY', 'Datto': 'AR', 'Delaplaine': 'AR', 'Dell': 'AR', 'Egypt': 'MS', 'Etowah': 'TN', 'Fisher': 'WV', 'Greenway': 'AR', 'Grubbs': 'AR', 'Harrisburg': 'SD', 'Hoxie': 'KS', 'Imboden': 'AR', 'Knobel': 'AR', 'Lafe': 'AR', 'Lake city': 'TN', 'Leachville': 'AR', 'Mc dougal': 'AR', 'Roseland': 'VA', 'Marmaduke': 'AR', 'Maynard': 'MN', 'Minturn': 'AR', 'Monette': 'AR', 'O kean': 'AR', 'Paragould': 'AR', 'Peach orchard': 'GA', 'Piggott': 'AR', 'Pocahontas': 'VA', 'Pollard': 'AR', 'Portia': 'AR', 'Powhatan': 'VA', 'Ravenden': 'AR', 'Ravenden springs': 'AR', 'Rector': 'PA', 'Reyno': 'AR', 'Saint francis': 'WI', 'Smithville': 'WV', 'State university': 'AR', 'Calamine': 'AR', 'Success': 'MO', 'Swifton': 'AR', 'Payneway': 'AR', 'Tuckerman': 'AR', 'Waldenburg': 'AR', 'College city': 'AR', 'Warm springs': 'OR', 'Weiner': 'AR', 'Williford': 'AR', 'Zcta 724hh': 'AR', 'Batesville': 'VA', 'Horseshoe bend': 'ID', 'Agnos': 'AR', 'Bexar': 'AR', 'Brockwell': 'AR', 'Jordan': 'NY', 'Camp': 'AR', 'Cave city': 'KY', 'Charlotte': 'VT', 'Concord': 'VA', 'Cord': 'AR', 'Cherokee village': 'AR', 'Cushman': 'MA', 'Desha': 'AR', 'Dolph': 'AR', 'Drasco': 'AR', 'Elizabeth': 'WV', 'Evening shade': 'AR', 'Fifty six': 'AR', 'Floral': 'AR', 'Gamaliel': 'KY', 'Gepp': 'AR', 'Guion': 'AR', 'Hardy': 'VA', 'Heber springs': 'AR', 'Henderson': 'WV', 'Locust grove': 'VA', 'Magness': 'AR', 'Mammoth spring': 'AR', 'Marcella': 'AR', 'Zion': 'IL', 'Hanover': 'WV', 'Mount pleasant': 'UT', 'Newark': 'TX', 'Oil trough': 'AR', 'Pineville': 'WV', 'Pleasant plains': 'AR', 'Poughkeepsie': 'AR', 'Rosie': 'AR', 'Saffell': 'AR', 'Sage': 'AR', 'Byron': 'WY', 'Sidney': 'TX', 'Sturkie': 'AR', 'Sulphur rock': 'AR', 'Tumbling shoals': 'AR', 'Viola': 'WI', 'Violet hill': 'AR', 'Wideman': 'AR', 'Wiseman': 'AR', 'Zcta 725hh': 'AR', 'Harrison': 'TN', 'Alco': 'AR', 'Alpena': 'SD', 'Berryville': 'VA', 'Big flat': 'AR', 'Bull shoals': 'AR', 'Clarkridge': 'AR', 'Compton': 'IL', 'Cotter': 'AR', 'Deer': 'AR', 'Dennard': 'AR', 'Diamond city': 'AR', 'Zcta 72631': 'AR', 'Eureka springs': 'AR', 'Everton': 'MO', 'Flippin': 'AR', 'Gassville': 'AR', 'Green forest': 'AR', 'Harriet': 'AR', 'Hasty': 'AR', 'Lakeview': 'TX', 'Lead hill': 'AR', 'Leslie': 'WV', 'Dogpatch': 'AR', 'Mountain home': 'UT', 'Mount judea': 'AR', 'Norfork': 'AR', 'Oak grove': 'VA', 'Oakland': 'TN', 'Omaha': 'TX', 'Onia': 'AR', 'Parthenon': 'AR', 'Peel': 'AR', 'Pindall': 'AR', 'Pyatt': 'AR', 'Saint joe': 'IN', 'Summit': 'UT', 'Tilly': 'AR', 'Newnata': 'AR', 'Valley springs': 'SD', 'Vendor': 'AR', 'Western grove': 'AR', 'Witts springs': 'AR', 'Yellville': 'AR', 'Zcta 726hh': 'AR', 'Fayetteville': 'TX', 'Zcta 72704': 'AR', 'Avoca': 'WI', 'Bentonville': 'AR', 'Bella vista': 'CA', 'Zcta 72715': 'AR', 'Canehill': 'AR', 'Cave springs': 'AR', 'Centerton': 'IN', 'Combs': 'KY', 'Elkins': 'WV', 'Evansville': 'WY', 'Farmington': 'WV', 'Garfield': 'WA', 'Gentry': 'MO', 'Gravette': 'AR', 'Hindsville': 'AR', 'Hiwasse': 'AR', 'Kingston': 'WI', 'Lowell': 'WI', 'Maysville': 'WV', 'Morrow': 'OH', 'Pea ridge': 'AR', 'Pettigrew': 'AR', 'Prairie grove': 'AR', 'Rogers': 'TX', 'Zcta 72758': 'AR', 'Saint paul': 'VA', 'Siloam springs': 'AR', 'Springdale': 'WA', 'Bethel heights': 'AR', 'Sulphur springs': 'TX', 'Summers': 'AR', 'Wesley': 'IA', 'West fork': 'AR', 'Witter': 'AR', 'Zcta 727hh': 'AR', 'Alix': 'AR', 'Altus': 'OK', 'Atkins': 'VA', 'Belleville': 'WI', 'Blue mountain': 'MS', 'Bluffton': 'TX', 'Briggsville': 'WI', 'Centerville': 'WA', 'Clarksville': 'VA', 'Coal hill': 'AR', 'Dardanelle': 'AR', 'Delaware': 'OK', 'Dover': 'TN', 'Gravelly': 'AR', 'Hagarville': 'AR', 'Hartman': 'CO', 'Harvey': 'WV', 'Waveland': 'MS', 'Hector': 'NY', 'Lamar': 'SC', 'London': 'WV', 'New blaine': 'AR', 'Oark': 'AR', 'Ola': 'ID', 'Ozone': 'AR', 'Paris': 'TX', 'Pelsor': 'AR', 'Plainview': 'TX', 'Pottsville': 'TX', 'Rover': 'AR', 'Scranton': 'SC', 'Subiaco': 'AR', 'Zcta 728hh': 'AR', 'Zcta 728xx': 'AR', 'Fort smith': 'AR', 'Barling': 'AR', 'Boles': 'AR', 'Booneville': 'MS', 'Branch': 'MI', 'Cedarville': 'OH', 'Charleston': 'WV', 'Chester': 'WV', 'Dyer': 'TN', 'Greenwood': 'WI', 'Hackett': 'AR', 'Huntington': 'WV', 'Central city': 'PA', 'Magazine': 'AR', 'Mansfield': 'WA', 'Midland': 'VA', 'Mountainburg': 'AR', 'Mulberry': 'TN', 'Natural dam': 'AR', 'Ratcliff': 'TX', 'Rudy': 'AR', 'Van buren': 'OH', 'Waldron': 'WA', 'Zcta 729hh': 'AR', 'Zcta 729xx': 'AR', 'Los angeles': 'CA', 'East los angeles': 'CA', 'City of commerce': 'CA', 'Cole': 'CA', 'Hazard': 'NE', 'West hollywood': 'CA', 'Bell gardens': 'CA', 'Beverly hills': 'TX', 'Rancho dominguez': 'CA', 'East rancho domi': 'CA', 'Rosewood': 'OH', 'Culver city': 'CA', 'Downey': 'ID', 'El segundo': 'CA', 'Gardena': 'CA', 'Holly park': 'CA', 'Hermosa beach': 'CA', 'Huntington park': 'CA', 'Lawndale': 'NC', 'Lynwood': 'CA', 'Malibu': 'CA', 'Manhattan beach': 'CA', 'Maywood': 'NJ', 'Pacific palisade': 'CA', 'Palos verdes est': 'CA', 'Zcta 90275': 'CA', 'Redondo beach': 'CA', 'South gate': 'CA', 'Topanga': 'CA', 'Venice': 'UT', 'Marina del rey': 'CA', 'Playa del rey': 'CA', 'Zcta 902hh': 'CA', 'Inglewood': 'CA', 'Lennox': 'SD', 'Santa monica': 'CA', 'Zcta 904hh': 'CA', 'Torrance': 'PA', 'Los nietos': 'CA', 'Buena park': 'CA', 'Cerritos': 'CA', 'La habra heights': 'CA', 'La mirada': 'CA', 'Montebello': 'VA', 'Norwalk': 'WI', 'Pico rivera': 'CA', 'Santa fe springs': 'CA', 'Zcta 906hh': 'CA', 'Avalon': 'WI', 'Bellflower': 'MO', 'Harbor city': 'CA', 'Lakewood': 'WI', 'Hawaiian gardens': 'CA', 'Rancho palos ver': 'CA', 'Rossmoor': 'CA', 'Paramount': 'CA', 'San pedro': 'CA', 'Seal beach': 'CA', 'Sunset beach': 'NC', 'Surfside': 'CA', 'Wilmington': 'VT', 'Carson': 'WA', 'Zcta 907hh': 'CA', 'Zcta 907xx': 'CA', 'Long beach': 'WA', 'Signal hill': 'CA', 'Zcta 908hh': 'CA', 'Altadena': 'CA', 'Arcadia': 'WI', 'Bradbury': 'CA', 'Flintridge': 'CA', 'Monrovia': 'MD', 'Sierra madre': 'CA', 'South pasadena': 'CA', 'Shadow hills': 'CA', 'Tujunga': 'CA', 'Zcta 910hh': 'CA', 'Zcta 910xx': 'CA', 'Pasadena': 'TX', 'San marino': 'CA', 'La crescenta': 'CA', 'Oak park': 'MN', 'Calabasas': 'CA', 'Canoga park': 'CA', 'Winnetka': 'CA', 'West hills': 'CA', 'Chatsworth': 'NJ', 'Encino': 'TX', 'Newbury park': 'CA', 'Newhall': 'WV', 'Northridge': 'CA', 'Porter ranch': 'CA', 'Arleta': 'CA', 'Reseda': 'CA', 'San fernando': 'CA', 'Sylmar': 'CA', 'North hills': 'CA', 'Granada hills': 'CA', 'Mission hills': 'CA', 'Agua dulce': 'TX', 'Canyon country': 'CA', 'Sun valley': 'NV', 'Valencia': 'PA', 'Tarzana': 'CA', 'Thousand oaks': 'CA', 'Westlake village': 'CA', 'Woodland hills': 'UT', 'Zcta 91377': 'CA', 'Castaic': 'CA', 'Zcta 913hh': 'CA', 'Zcta 913xx': 'CA', 'Van nuys': 'CA', 'Panorama city': 'CA', 'Sherman oaks': 'CA', 'Burbank': 'WA', 'North hollywood': 'CA', 'Toluca lake': 'CA', 'Studio city': 'CA', 'Valley village': 'CA', 'Universal city': 'CA', 'Alta loma': 'TX', 'Azusa': 'CA', 'Irwindale': 'CA', 'Chino hills': 'CA', 'Chino': 'CA', 'Claremont': 'VA', 'Corona': 'SD', 'Covina': 'CA', 'Rancho cucamonga': 'CA', 'El monte': 'CA', 'South el monte': 'CA', 'Etiwanda': 'CA', 'Glendora': 'NJ', 'Guasti': 'CA', 'Industry': 'TX', 'Hacienda heights': 'CA', 'Bassett': 'VA', 'Rowland heights': 'CA', 'La verne': 'CA', 'Mira loma': 'CA', 'Monterey park': 'CA', 'Mt baldy': 'CA', 'Ontario': 'WI', 'Montclair': 'NJ', 'Diamond bar': 'CA', 'Phillips ranch': 'CA', 'Pomona': 'NY', 'Rosemead': 'CA', 'San dimas': 'CA', 'San gabriel': 'CA', 'Temple city': 'CA', 'Upland': 'NE', 'West covina': 'CA', 'Zcta 917hh': 'CA', 'Zcta 917xx': 'CA', 'Alhambra': 'IL', 'Bonita': 'LA', 'Boulevard': 'CA', 'Campo': 'CO', 'Chula vista': 'CA', 'Descanso': 'CA', 'Dulzura': 'CA', 'Guatay': 'CA', 'Imperial beach': 'CA', 'Jacumba': 'CA', 'Jamul': 'CA', 'La mesa': 'NM', 'Lemon grove': 'CA', 'Mount laguna': 'CA', 'National city': 'MI', 'Pine valley': 'UT', 'Potrero': 'CA', 'Spring valley': 'WI', 'Tecate': 'CA', 'Zcta 919hh': 'CA', 'Zcta 919xx': 'CA', 'Bonsall': 'CA', 'Borrego springs': 'CA', 'Cardiff by the s': 'CA', 'Carlsbad': 'TX', 'Del mar': 'CA', 'El cajon': 'CA', 'Encinitas': 'CA', 'Escondido': 'CA', 'Fallbrook': 'CA', 'Julian': 'WV', 'La jolla': 'CA', 'Oceanside': 'OR', 'Pala': 'CA', 'Palomar mountain': 'CA', 'Pauma valley': 'CA', 'Poway': 'CA', 'Ramona': 'SD', 'Ranchita': 'CA', 'Rancho santa fe': 'CA', 'San marcos': 'TX', 'Santa ysabel': 'CA', 'Santee': 'SC', 'Solana beach': 'CA', 'Zcta 92078': 'CA', 'Valley center': 'KS', 'Vista': 'CA', 'Warner springs': 'CA', 'Zcta 92091': 'CA', 'Zcta 920hh': 'CA', 'Zcta 920xx': 'CA', 'San diego': 'TX', 'Coronado': 'CA', 'San ysidro': 'CA', 'Zcta 921hh': 'CA', 'Chiriaco summit': 'CA', 'Indio': 'CA', 'Palm desert': 'CA', 'Banning': 'CA', 'Beaumont': 'TX', 'Lost lake': 'CA', 'Brawley': 'CA', 'Cabazon': 'CA', 'Calexico': 'CA', 'Calipatria': 'CA', 'Cathedral city': 'CA', 'Coachella': 'CA', 'Eagle mountain': 'CA', 'Desert hot sprin': 'CA', 'Big river': 'CA', 'El centro': 'CA', 'Holtville': 'CA', 'Imperial': 'TX', 'Joshua tree': 'CA', 'La quinta': 'CA', 'Mecca': 'IN', 'Morongo valley': 'CA', 'Niland': 'CA', 'North palm sprin': 'CA', 'Ocotillo': 'CA', 'Palm city': 'FL', 'Palm springs': 'CA', 'Palo verde': 'CA', 'Parker dam': 'CA', 'Pioneertown': 'CA', 'Rancho mirage': 'CA', 'Seeley': 'CA', 'Salton city': 'CA', 'Thousand palms': 'CA', 'Twentynine palms': 'CA', 'Vidal': 'CA', 'Westmorland': 'CA', 'White water': 'CA', 'Felicity': 'OH', 'Yucca valley': 'CA', 'Landers': 'CA', 'Zcta 922hh': 'CA', 'Zcta 922xx': 'CA', 'Adelanto': 'CA', 'Amboy': 'WV', 'Angelus oaks': 'CA', 'Apple valley': 'MN', 'Baker': 'WV', 'Fort irwin': 'CA', 'Barstow': 'TX', 'Zcta 92313': 'CA', 'Big bear city': 'CA', 'Big bear lake': 'CA', 'Bloomington': 'WI', 'Blue jay': 'CA', 'Bryn mawr': 'PA', 'Calimesa': 'CA', 'Cedar glen': 'CA', 'Cima': 'CA', 'Grand terrace': 'CA', 'Crestline': 'OH', 'Daggett': 'MI', 'Death valley': 'CA', 'Essex': 'NY', 'Fawnskin': 'CA', 'Fontana': 'WI', 'Ludlow': 'VT', 'Forest falls': 'CA', 'Green valley lak': 'CA', 'Helendale': 'CA', 'Hesperia': 'MI', 'East highland': 'CA', 'Hinkley': 'CA', 'Lake arrowhead': 'CA', 'Loma linda': 'CA', 'Lucerne valley': 'CA', 'Lytle creek': 'CA', 'Needles': 'CA', 'Nipton': 'CA', 'Newberry springs': 'CA', 'Oro grande': 'CA', 'Phelan': 'CA', 'Pinon hills': 'CA', 'Redlands': 'CA', 'Rialto': 'CA', 'Arrowbear lake': 'CA', 'Shoshone': 'ID', 'Sugarloaf': 'PA', 'Tecopa': 'CA', 'Spring valley la': 'CA', 'George afb': 'CA', 'Wrightwood': 'CA', 'Yermo': 'CA', 'Yucaipa': 'CA', 'Zcta 923hh': 'CA', 'Zcta 923xx': 'CA', 'San bernardino': 'CA', 'Muscoy': 'CA', 'Rubidoux': 'CA', 'March air force': 'CA', 'Lake elsinore': 'CA', 'Aguanga': 'CA', 'Anza': 'CA', 'Hemet': 'CA', 'Homeland': 'FL', 'Idyllwild': 'CA', 'Zcta 92551': 'CA', 'Moreno valley': 'CA', 'Mountain center': 'CA', 'Murrieta': 'CA', 'Mead valley': 'CA', 'Perris': 'CA', 'San jacinto': 'CA', 'Gilman hot sprin': 'CA', 'Romoland': 'CA', 'Canyon lake': 'TX', 'Temecula': 'CA', 'Wildomar': 'CA', 'Zcta 925hh': 'CA', 'Zcta 925xx': 'CA', 'Zcta 92602': 'CA', 'Zcta 92604': 'CA', 'Zcta 92606': 'CA', 'Foothill ranch': 'CA', 'Zcta 92612': 'CA', 'Zcta 92614': 'CA', 'Zcta 92618': 'CA', 'Zcta 92620': 'CA', 'Capistrano beach': 'CA', 'Corona del mar': 'CA', 'Costa mesa': 'CA', 'Monarch bay': 'CA', 'Lake forest': 'IL', 'Huntington beach': 'CA', 'Laguna niguel': 'CA', 'Laguna hills': 'CA', 'Midway city': 'CA', 'Aliso viejo': 'CA', 'Newport beach': 'CA', 'San clemente': 'CA', 'Mission viejo': 'CA', 'Silverado': 'CA', 'Coto de caza': 'CA', 'Westminster': 'VT', 'Rancho santa mar': 'CA', 'Zcta 92694': 'CA', 'Zcta 926hh': 'CA', 'Zcta 926xx': 'CA', 'Santa ana': 'CA', 'Cowan heights': 'CA', 'Santa ana height': 'CA', 'Fountain valley': 'CA', 'Zcta 92780': 'CA', 'Zcta 92782': 'CA', 'Zcta 927hh': 'CA', 'Anaheim': 'CA', 'Zcta 92831': 'CA', 'Zcta 92832': 'CA', 'Zcta 92833': 'CA', 'Zcta 92835': 'CA', 'Zcta 92840': 'CA', 'Zcta 92841': 'CA', 'Zcta 92843': 'CA', 'Zcta 92844': 'CA', 'Zcta 92845': 'CA', 'Zcta 92860': 'CA', 'Zcta 92861': 'CA', 'Zcta 92865': 'CA', 'Zcta 92866': 'CA', 'Zcta 92867': 'CA', 'Zcta 92868': 'CA', 'Zcta 92869': 'CA', 'Zcta 92870': 'CA', 'Zcta 92879': 'CA', 'Zcta 92880': 'CA', 'Zcta 92881': 'CA', 'Zcta 92882': 'CA', 'Zcta 92883': 'CA', 'Zcta 92886': 'CA', 'Zcta 92887': 'CA', 'Zcta 928hh': 'CA', 'Zcta 928xx': 'CA', 'San buenaventura': 'CA', 'Camarillo': 'CA', 'Carpinteria': 'CA', 'Bardsdale': 'CA', 'Moorpark': 'CA', 'Oak view': 'CA', 'Ojai': 'CA', 'Oxnard': 'CA', 'Piru': 'CA', 'Port hueneme': 'CA', 'Santa paula': 'CA', 'Santa susana': 'CA', 'Simi valley': 'CA', 'Somis': 'CA', 'Summerland': 'CA', 'Zcta 930hh': 'CA', 'Zcta 930xx': 'CA', 'Santa barbara': 'CA', 'Montecito': 'CA', 'Goleta': 'CA', 'Zcta 931hh': 'CA', 'Zcta 931xx': 'CA', 'Alpaugh': 'CA', 'Armona': 'CA', 'Arvin': 'CA', 'Avenal': 'CA', 'Bodfish': 'CA', 'Buttonwillow': 'CA', 'California hot s': 'CA', 'Camp nelson': 'CA', 'Coalinga': 'CA', 'Corcoran': 'CA', 'Delano': 'TN', 'Ducor': 'CA', 'Earlimart': 'CA', 'Exeter': 'VA', 'Frazier park': 'CA', 'Farmersville': 'TX', 'Fellows': 'CA', 'Glennville': 'GA', 'Hanford': 'CA', 'Huron': 'TN', 'Ivanhoe': 'VA', 'Kernville': 'CA', 'Kettleman city': 'CA', 'Mountain mesa': 'CA', 'Lamont': 'WA', 'Laton': 'CA', 'Gorman': 'TX', 'Lemoncove': 'CA', 'Lemoore naval ai': 'CA', 'Lindsay': 'TX', 'Lost hills': 'CA', 'Mc farland': 'WI', 'Mc kittrick': 'CA', 'Maricopa': 'CA', 'New cuyama': 'CA', 'Onyx': 'CA', 'Pixley': 'CA', 'Porterville': 'MS', 'Posey': 'CA', 'Richgrove': 'CA', 'Giant forest': 'CA', 'Shafter': 'CA', 'Stratford': 'WI', 'Strathmore': 'CA', 'Taft': 'TX', 'Terra bella': 'CA', 'Three rivers': 'TX', 'Tipton': 'OK', 'Tulare': 'SD', 'Tupman': 'CA', 'Visalia': 'CA', 'Pond': 'CA', 'Waukena': 'CA', 'Weldon': 'NC', 'Wofford heights': 'CA', 'Woodlake': 'CA', 'Woody': 'CA', 'Zcta 932hh': 'CA', 'Zcta 932xx': 'CA', 'Bakersfield': 'VT', 'College heights': 'CA', 'Greenacres': 'WA', 'Zcta 933hh': 'CA', 'Zcta 933xx': 'CA', 'San luis obispo': 'CA', 'Los osos': 'CA', 'Halcyon': 'CA', 'Atascadero': 'CA', 'Avila beach': 'CA', 'Buellton': 'CA', 'Cambria': 'WI', 'Casmalia': 'CA', 'Cayucos': 'CA', 'Creston': 'WV', 'Grover beach': 'CA', 'Guadalupe': 'CA', 'Harmony': 'PA', 'Lompoc': 'CA', 'Los alamos': 'NM', 'Los olivos': 'CA', 'Morro bay': 'CA', 'Nipomo': 'CA', 'Oceano': 'CA', 'Adelaide': 'CA', 'Paso robles': 'CA', 'Shell beach': 'CA', 'San ardo': 'CA', 'Parkfield': 'CA', 'San simeon': 'CA', 'California valle': 'CA', 'Santa maria': 'TX', 'Orcutt': 'CA', 'Zcta 93458': 'CA', 'Santa ynez': 'CA', 'Shandon': 'CA', 'Ballard': 'WV', 'Templeton': 'PA', 'Zcta 934hh': 'CA', 'Zcta 934xx': 'CA', 'Mojave': 'CA', 'California city': 'CA', 'Acton': 'MT', 'Big pine': 'CA', 'Toms place': 'CA', 'Boron': 'CA', 'Havilah': 'CA', 'Darwin': 'MN', 'North edwards': 'CA', 'Independence': 'WI', 'Pearsonville': 'CA', 'Johannesburg': 'MI', 'June lake': 'CA', 'Keeler': 'CA', 'Keene': 'VA', 'Elizabeth lake': 'CA', 'Lancaster': 'WI', 'Hi vista': 'CA', 'Quartz hill': 'CA', 'Lee vining': 'CA', 'Juniper hills': 'CA', 'Crystalaire': 'CA', 'Lone pine': 'CA', 'Crowley lake': 'CA', 'Cartago': 'CA', 'Lake los angeles': 'CA', 'Leona valley': 'CA', 'Palmdale': 'FL', 'Randsburg': 'CA', 'China lake nwc': 'CA', 'Willow springs': 'MO', 'Bear valley spri': 'CA', 'Argus': 'CA', 'Valyermo': 'CA', 'Zcta 935hh': 'CA', 'Zcta 935xx': 'CA', 'Ahwahnee': 'CA', 'Auberry': 'CA', 'Badger': 'SD', 'Bass lake': 'CA', 'Big creek': 'WV', 'Biola': 'CA', 'Cantua creek': 'CA', 'Caruthers': 'CA', 'Chowchilla': 'CA', 'Clovis': 'NM', 'Coarsegold': 'CA', 'Cutler': 'WI', 'Del rey': 'CA', 'Dinuba': 'CA', 'Dos palos': 'CA', 'Dunlap': 'TN', 'Firebaugh': 'CA', 'Fish camp': 'CA', 'Fowler': 'OH', 'Friant': 'CA', 'Helm': 'CA', 'Hume': 'VA', 'Kerman': 'CA', 'Kingsburg': 'CA', 'Lakeshore': 'CA', 'Los banos': 'CA', 'Madera': 'PA', 'Mendota': 'VA', 'Miramonte': 'CA', 'North fork': 'ID', 'Oakhurst': 'TX', 'O neals': 'CA', 'Orange cove': 'CA', 'Orosi': 'CA', 'Parlier': 'CA', 'Prather': 'CA', 'Raisin': 'CA', 'Raymond': 'WA', 'Reedley': 'CA', 'Riverdale': 'ND', 'Sanger': 'TX', 'San joaquin': 'CA', 'Shaver lake': 'CA', 'South dos palos': 'CA', 'Sultana': 'CA', 'Tollhouse': 'CA', 'Tranquillity': 'CA', 'Wishon': 'CA', 'Traver': 'CA', 'Squaw valley': 'CA', 'Zcta 936hh': 'CA', 'Zcta 936xx': 'CA', 'Fresno': 'TX', 'Fig garden villa': 'CA', 'Easton': 'WA', 'Calwa': 'CA', 'Salinas': 'CA', 'Prunedale': 'CA', 'Big sur': 'CA', 'Carmel': 'NY', 'Carmel valley': 'CA', 'Chualar': 'CA', 'Gonzales': 'TX', 'Greenfield': 'WI', 'Jolon': 'CA', 'King city': 'MO', 'Lockwood': 'NY', 'Marina': 'CA', 'Del rey oaks': 'CA', 'Pacific grove': 'CA', 'Pebble beach': 'CA', 'San lucas': 'CA', 'Sand city': 'CA', 'Soledad': 'CA', 'Spreckels': 'CA', 'Zcta 939hh': 'CA', 'Zcta 939xx': 'CA', 'Belmont': 'WI', 'Brisbane': 'CA', 'Hillsborough': 'NC', 'Colma': 'CA', 'Daly city': 'CA', 'Half moon bay': 'CA', 'La honda': 'CA', 'Loma mar': 'CA', 'Los altos': 'CA', 'West menlo park': 'CA', 'Atherton': 'CA', 'Ladera': 'CA', 'Millbrae': 'CA', 'Montara': 'CA', 'Moss beach': 'CA', 'Mountain view': 'WY', 'Pacifica': 'CA', 'Pescadero': 'CA', 'Redwood city': 'CA', 'Woodside': 'NY', 'San bruno': 'CA', 'San gregorio': 'CA', 'South san franci': 'CA', 'Sunnyvale': 'CA', 'Zcta 940hh': 'CA', 'San francisco': 'CA', 'Zcta 941hh': 'CA', 'Zcta 941xx': 'CA', 'Palo alto': 'CA', 'East palo alto': 'CA', 'Stanford': 'MT', 'Zcta 943hh': 'CA', 'Russian river': 'CA', 'San mateo': 'FL', 'Foster city': 'MI', 'Zcta 944hh': 'CA', 'Coast guard isla': 'CA', 'Alameda': 'NM', 'Black hawk': 'SD', 'Alamo': 'TX', 'Angwin': 'CA', 'Antioch': 'TN', 'Benicia': 'CA', 'Bethel island': 'CA', 'Birds landing': 'CA', 'Brentwood': 'TN', 'Calistoga': 'CA', 'Pleasant hill': 'OR', 'Crockett': 'VA', 'El cerrito': 'CA', 'Travis afb': 'CA', 'Fremont': 'WI', 'Hayward': 'MN', 'Castro valley': 'CA', 'Hercules': 'CA', 'Livermore': 'ME', 'Pacheco': 'CA', 'Moraga': 'CA', 'Spanish flat': 'CA', 'Napa': 'CA', 'Oakley': 'UT', 'Orinda': 'CA', 'Pinole': 'CA', 'Shore acres': 'CA', 'Pleasanton': 'TX', 'Pope valley': 'CA', 'Dublin': 'VA', 'Port costa': 'CA', 'Rio vista': 'TX', 'Rodeo': 'NM', 'Saint helena': 'NE', 'San leandro': 'CA', 'San lorenzo': 'NM', 'San ramon': 'CA', 'Suisun city': 'CA', 'Sunol': 'CA', 'Union city': 'TN', 'American canyon': 'CA', 'Vallejo': 'CA', 'Mare island': 'CA', 'Walnut creek': 'CA', 'Yountville': 'CA', 'Zcta 945hh': 'CA', 'Zcta 945xx': 'CA', 'Emeryville': 'CA', 'Zcta 946hh': 'CA', 'Berkeley': 'MO', 'Albany': 'WI', 'Kensington': 'OH', 'Zcta 947hh': 'CA', 'Richmond': 'VA', 'El sobrante': 'CA', 'San pablo': 'CO', 'Zcta 948hh': 'CA', 'San rafael': 'CA', 'Civic center': 'CA', 'Kentfield': 'CA', 'Belvedere': 'CA', 'Bodega': 'CA', 'Bodega bay': 'CA', 'Bolinas': 'CA', 'Corte madera': 'CA', 'Rohnert park': 'CA', 'Dillon beach': 'CA', 'Fairfax': 'VA', 'Cotati': 'CA', 'Forest knolls': 'CA', 'Inverness': 'MT', 'Lagunitas': 'CA', 'Larkspur': 'CO', 'Mill valley': 'CA', 'Novato': 'CA', 'Nicasio': 'CA', 'Olema': 'CA', 'Penngrove': 'CA', 'Petaluma': 'CA', 'Point reyes stat': 'CA', 'San anselmo': 'CA', 'San geronimo': 'CA', 'San quentin': 'CA', 'Sausalito': 'CA', 'Stinson beach': 'CA', 'Tomales': 'CA', 'Valley ford': 'CA', 'Woodacre': 'CA', 'Zcta 949hh': 'CA', 'Zcta 949xx': 'CA', 'Alviso': 'CA', 'Aptos': 'CA', 'Aromas': 'CA', 'Boulder creek': 'CA', 'Brookdale': 'CA', 'Capitola': 'CA', 'Castroville': 'TX', 'Monte vista': 'CO', 'Davenport': 'WA', 'Felton': 'PA', 'Freedom': 'WY', 'Gilroy': 'CA', 'Hollister': 'OK', 'Monte sereno': 'CA', 'Los gatos': 'CA', 'Zcta 95033': 'CA', 'Milpitas': 'CA', 'Morgan hill': 'CA', 'Moss landing': 'CA', 'Mount hermon': 'LA', 'Paicines': 'CA', 'San juan bautist': 'CA', 'San martin': 'CA', 'Santa clara': 'UT', 'Scotts valley': 'CA', 'Santa cruz': 'NM', 'Soquel': 'CA', 'La selva beach': 'CA', 'Zcta 950hh': 'CA', 'San jose': 'NM', 'Mount hamilton': 'CA', 'Zcta 951hh': 'CA', 'Acampo': 'CA', 'Altaville': 'CA', 'Angels camp': 'CA', 'Bear valley': 'CA', 'Avery': 'TX', 'Burson': 'CA', 'Campo seco': 'CA', 'Clements': 'MN', 'Copperopolis': 'CA', 'French camp': 'MS', 'Hathaway pines': 'CA', 'Lockeford': 'CA', 'Lodi': 'WI', 'Mokelumne hill': 'CA', 'Mountain ranch': 'CA', 'Murphys': 'CA', 'San andreas': 'CA', 'Sheepranch': 'CA', 'Vallecito': 'CA', 'Wallace': 'WV', 'West point': 'VA', 'Wilseyville': 'CA', 'Woodbridge': 'VA', 'Zcta 952hh': 'CA', 'Zcta 952xx': 'CA', 'Atwater': 'OH', 'Ballico': 'CA', 'Big oak flat': 'CA', 'Catheys valley': 'CA', 'Ceres': 'VA', 'Coulterville': 'CA', 'Cressey': 'CA', 'Crows landing': 'CA', 'Delhi': 'MN', 'Denair': 'CA', 'El nido': 'CA', 'El portal': 'CA', 'Escalon': 'CA', 'Groveland': 'NY', 'Gustine': 'TX', 'Hickman': 'TN', 'Hilmar': 'CA', 'Hornitos': 'CA', 'Hughson': 'CA', 'Jamestown': 'TN', 'Keyes': 'OK', 'La grange': 'TX', 'Lathrop': 'MO', 'Le grand': 'IA', 'Livingston': 'WI', 'Cold springs': 'CA', 'Manteca': 'CA', 'Mariposa': 'CA', 'Red top': 'CA', 'Midpines': 'CA', 'Mi wuk village': 'CA', 'Merced': 'CA', 'Modesto': 'IL', 'Newman': 'IL', 'Knights ferry': 'CA', 'Pinecrest': 'CA', 'Planada': 'CA', 'Ripon': 'WI', 'Riverbank': 'CA', 'Salida': 'CO', 'Snelling': 'CA', 'Sonora': 'TX', 'Soulsbyville': 'CA', 'Stevinson': 'CA', 'Tracy': 'MN', 'Tuolumne': 'CA', 'Turlock': 'CA', 'Twain harte': 'CA', 'Vernalis': 'CA', 'Waterford': 'PA', 'Westley': 'CA', 'Winton': 'NC', 'Yosemite lodge': 'CA', 'Zcta 953hh': 'CA', 'Zcta 953xx': 'CA', 'Santa rosa': 'TX', 'Albion': 'WA', 'Annapolis': 'MO', 'Boonville': 'NC', 'Branscomb': 'CA', 'Camp meeker': 'CA', 'Caspar': 'CA', 'Cazadero': 'CA', 'Clearlake': 'WA', 'Clearlake oaks': 'CA', 'Clearlake park': 'CA', 'Cloverdale': 'VA', 'Loch lomond': 'CA', 'Comptche': 'CA', 'Covelo': 'CA', 'Dos rios': 'CA', 'Duncans mills': 'CA', 'Elk': 'WA', 'Forestville': 'WI', 'Fort bragg': 'NC', 'Geyserville': 'CA', 'Glen ellen': 'CA', 'Glenhaven': 'CA', 'Graton': 'CA', 'Gualala': 'CA', 'Guerneville': 'CA', 'Healdsburg': 'CA', 'Hopland': 'CA', 'Jenner': 'CA', 'Kelseyville': 'CA', 'Kenwood': 'CA', 'Lakeport': 'CA', 'Laytonville': 'CA', 'Littleriver': 'CA', 'Lower lake': 'CA', 'Lucerne': 'MO', 'Manchester': 'WA', 'Mendocino': 'CA', 'Middletown': 'VA', 'Russian river md': 'CA', 'Navarro': 'CA', 'Nice': 'CA', 'Occidental': 'CA', 'Philo': 'OH', 'Point arena': 'CA', 'Potter valley': 'CA', 'Redwood valley': 'CA', 'Rio nido': 'CA', 'Freestone': 'TX', 'Sonoma': 'CA', 'Stewarts point': 'CA', 'Talmage': 'UT', 'Ukiah': 'CA', 'Upper lake': 'CA', 'Westport': 'WA', 'Willits': 'CA', 'Windsor': 'WI', 'Witter springs': 'CA', 'Yorkville': 'OH', 'The sea ranch': 'CA', 'Zcta 954hh': 'CA', 'Zcta 954xx': 'CA', 'Eureka': 'WI', 'Alderpoint': 'CA', 'Blocksburg': 'CA', 'Zcta 95519': 'CA', 'Mc kinleyville': 'CA', 'Bayside': 'TX', 'Blue lake': 'CA', 'Ruth': 'MS', 'Burnt ranch': 'CA', 'Carlotta': 'CA', 'Crescent city': 'IL', 'Ferndale': 'WA', 'Fields landing': 'CA', 'Fortuna': 'MO', 'Garberville': 'CA', 'Gasquet': 'CA', 'Honeydew': 'CA', 'Hoopa': 'CA', 'Hydesville': 'CA', 'Klamath': 'CA', 'Kneeland': 'CA', 'Korbel': 'CA', 'Loleta': 'CA', 'Mad river': 'CA', 'Miranda': 'SD', 'Myers flat': 'CA', 'Orick': 'CA', 'Orleans': 'VT', 'Petrolia': 'TX', 'Phillipsville': 'CA', 'Redway': 'CA', 'Rio dell': 'CA', 'Salyer': 'CA', 'Samoa': 'CA', 'Scotia': 'SC', 'Smith river': 'CA', 'Somes bar': 'CA', 'Redcrest': 'CA', 'Westhaven': 'CA', 'Weott': 'CA', 'Willow creek': 'CA', 'Leggett': 'CA', 'Piercy': 'CA', 'Whitethorn': 'CA', 'Zenia': 'CA', 'Zcta 955hh': 'CA', 'Zcta 955xx': 'CA', 'Amador city': 'CA', 'Bryte': 'CA', 'Brooks': 'OR', 'Capay': 'CA', 'Carmichael': 'CA', 'Citrus heights': 'CA', 'Clarksburg': 'WV', 'Coloma': 'WI', 'Cool': 'CA', 'Davis': 'WV', 'El macero': 'CA', 'Diamond springs': 'CA', 'Liberty farms': 'CA', 'Elk grove': 'CA', 'Elmira': 'OR', 'Elverta': 'CA', 'Esparto': 'CA', 'Fair oaks': 'IN', 'Fiddletown': 'CA', 'El dorado hills': 'CA', 'Foresthill': 'CA', 'Galt': 'MO', 'Garden valley': 'ID', 'Grizzly flats': 'CA', 'Guinda': 'CA', 'Herald': 'CA', 'Hood': 'VA', 'Ione': 'WA', 'Isleton': 'CA', 'Knights landing': 'CA', 'Kirkwood': 'PA', 'Loomis': 'WA', 'Lotus': 'CA', 'Mather afb': 'CA', 'Newcastle': 'WY', 'Trowbridge': 'CA', 'North highlands': 'CA', 'Roseville': 'OH', 'Orangevale': 'CA', 'Penryn': 'CA', 'Pilot hill': 'CA', 'Pine grove': 'PA', 'Pioneer': 'TN', 'Placerville': 'ID', 'Plymouth': 'WI', 'Gold river': 'CA', 'Rescue': 'CA', 'Rio linda': 'CA', 'Rio oso': 'CA', 'River pines': 'CA', 'Robbins': 'TN', 'Rocklin': 'CA', 'Cameron park': 'CA', 'Rancho murieta': 'CA', 'Somerset': 'WI', 'Sutter creek': 'CA', 'Vacaville': 'CA', 'Volcano': 'HI', 'West sacramento': 'CA', 'Wheatland': 'WY', 'Winters': 'TX', 'Zcta 956hh': 'CA', 'Zcta 956xx': 'CA', 'Alta': 'UT', 'Applegate': 'OR', 'Camino': 'CA', 'Iowa hill': 'CA', 'Dutch flat': 'CA', 'Emigrant gap': 'CA', 'Gold run': 'CA', 'Kyburz': 'CA', 'Echo lake': 'CA', 'Meadow vista': 'CA', 'Pacific house': 'CA', 'Soda springs': 'ID', 'Twin bridges': 'MT', 'Weimar': 'TX', 'Rancho cordova': 'CA', 'Granite bay': 'CA', 'Zcta 957hh': 'CA', 'Zcta 957xx': 'CA', 'Sacramento': 'PA', 'Zcta 958hh': 'CA', 'Marysville': 'WA', 'Beale afb': 'CA', 'Alleghany': 'VA', 'Arbuckle': 'WV', 'Artois': 'CA', 'Bangor': 'WI', 'Berry creek': 'CA', 'Biggs': 'KY', 'Browns valley': 'MN', 'Brownsville': 'VT', 'Butte city': 'CA', 'Camptonville': 'CA', 'Canyondam': 'CA', 'Challenge': 'CA', 'Cohasset': 'MN', 'Chico': 'TX', 'Clipper mills': 'CA', 'Colusa': 'CA', 'Crescent mills': 'CA', 'Dobbins': 'CA', 'Downieville': 'CA', 'Dunnigan': 'CA', 'Durham': 'OK', 'Elk creek': 'VA', 'Forbestown': 'CA', 'Butte meadows': 'CA', 'Glenn': 'GA', 'Goodyears bar': 'CA', 'Grass valley': 'OR', 'Penn valley': 'CA', 'Gridley': 'KS', 'Grimes': 'IA', 'Hamilton city': 'CA', 'Live oak': 'TX', 'Magalia': 'CA', 'Maxwell': 'TX', 'Meadow valley': 'CA', 'Meridian': 'TX', 'Nevada city': 'CA', 'North san juan': 'CA', 'Olivehurst': 'CA', 'Oregon house': 'CA', 'Orland': 'ME', 'Pulga': 'CA', 'Oroville': 'WA', 'Palermo': 'ND', 'Paradise': 'UT', 'Quincy': 'WA', 'Rackerby': 'CA', 'Richardson sprin': 'CA', 'Richvale': 'CA', 'Rough and ready': 'CA', 'Smartville': 'CA', 'Stirling city': 'CA', 'Stonyford': 'CA', 'La porte': 'IN', 'Sutter': 'IL', 'Taylorsville': 'NC', 'Twain': 'CA', 'Willows': 'CA', 'Yuba city': 'CA', 'Zcta 959hh': 'CA', 'Zcta 959xx': 'CA', 'Redding': 'IA', 'Adin': 'CA', 'Bieber': 'CA', 'Big bar': 'CA', 'Big bend': 'WI', 'Burney': 'CA', 'Callahan': 'FL', 'Canby': 'OR', 'Cassel': 'CA', 'Castella': 'CA', 'Shasta lake': 'CA', 'Dorris': 'CA', 'Douglas city': 'CA', 'Dunsmuir': 'CA', 'Sawyers bar': 'CA', 'Fall river mills': 'CA', 'Flournoy': 'CA', 'Forks of salmon': 'CA', 'Fort jones': 'CA', 'French gulch': 'CA', 'Gazelle': 'CA', 'Gerber': 'CA', 'Greenview': 'CA', 'Grenada': 'MS', 'Happy camp': 'CA', 'Hat creek': 'CA', 'Hayfork': 'CA', 'Hornbrook': 'CA', 'Hyampom': 'CA', 'Igo': 'CA', 'Klamath river': 'CA', 'Lakehead': 'CA', 'Lewiston': 'UT', 'Lookout': 'WV', 'Los molinos': 'CA', 'Mcarthur': 'CA', 'Mccloud': 'CA', 'Macdoel': 'CA', 'Manton': 'MI', 'Mill creek': 'WV', 'Millville': 'UT', 'Mineral': 'WA', 'Montague': 'TX', 'Montgomery creek': 'CA', 'Mount shasta': 'CA', 'Nubieber': 'CA', 'Oak run': 'CA', 'Old station': 'CA', 'Palo cedro': 'CA', 'Paskenta': 'CA', 'Paynes creek': 'CA', 'Wildwood': 'GA', 'Red bluff': 'CA', 'Round mountain': 'TX', 'Scott bar': 'CA', 'Seiad valley': 'CA', 'Shasta': 'CA', 'Shingletown': 'CA', 'Tehama': 'CA', 'Trinity center': 'CA', 'Weaverville': 'NC', 'Edgewood': 'TX', 'Whiskeytown': 'CA', 'Whitmore': 'CA', 'Yreka': 'CA', 'Zcta 960hh': 'CA', 'Zcta 960xx': 'CA', 'Alturas': 'CA', 'Cromberg': 'CA', 'Chilcoot': 'CA', 'Coleville': 'CA', 'Davis creek': 'CA', 'Doyle': 'TN', 'Eagleville': 'TN', 'Fort bidwell': 'CA', 'Herlong': 'CA', 'Janesville': 'WI', 'Likely': 'CA', 'Litchfield': 'OH', 'Loyalton': 'CA', 'Madeline': 'CA', 'Hope valley': 'CA', 'Milford': 'VA', 'Portola': 'CA', 'Ravendale': 'CA', 'Calpine': 'CA', 'Sierra city': 'CA', 'Sierraville': 'CA', 'Standish': 'MI', 'Susanville': 'CA', 'Termo': 'CA', 'Topaz': 'CA', 'Tulelake': 'CA', 'Wendel': 'WV', 'Peninsula villag': 'CA', 'Carnelian bay': 'CA', 'Tahoma': 'CA', 'Kings beach': 'CA', 'Tahoe city': 'CA', 'Olympic valley': 'CA', 'Tahoe vista': 'CA', 'South lake tahoe': 'CA', 'Truckee': 'CA', 'Zcta 961hh': 'CA', 'Zcta 961xx': 'CA', 'Arvada': 'WY', 'Zcta 80007': 'CO', 'Aurora': 'UT', 'Broomfield': 'CO', 'Commerce city': 'CO', 'Dupont': 'OH', 'Eldorado springs': 'CO', 'Wheat ridge': 'CO', 'Zcta 800hh': 'CO', 'Zcta 800xx': 'CO', 'Agate': 'ND', 'Bennett': 'NC', 'Byers': 'TX', 'Castle rock': 'WA', 'Deer trail': 'CO', 'Elbert': 'CO', 'Cherry hills vil': 'CO', 'Englewood': 'TN', 'Franktown': 'VA', 'Kiowa': 'OK', 'Littleton': 'WV', 'Greenwood villag': 'CO', 'Bow mar': 'CO', 'Highlands ranch': 'CO', 'Zcta 80128': 'CO', 'Monument': 'OR', 'Palmer lake': 'CO', 'Parker': 'SD', 'Deckers': 'CO', 'Strasburg': 'VA', 'Watkins': 'MN', 'Zcta 80138': 'CO', 'Zcta 801xx': 'CO', 'Denver': 'PA', 'Edgewater': 'WI', 'Federal heights': 'CO', 'Lowry afb': 'CO', 'Northglenn': 'CO', 'Zcta 80246': 'CO', 'Zcta 80260': 'CO', 'Lincoln center b': 'CO', 'Two united bank': 'CO', 'First interstate': 'CO', 'Boulder': 'WY', 'Golden': 'TX', 'Bailey': 'TX', 'Bond': 'CO', 'Breckenridge': 'TX', 'Buffalo creek': 'CO', 'Burns': 'WY', 'Clark': 'SD', 'Coalmont': 'TN', 'Como': 'TX', 'Conifer': 'CO', 'Cowdrey': 'CO', 'Dumont': 'TX', 'Fairplay': 'CO', 'Fraser': 'MI', 'Copper mountain': 'CO', 'Granby': 'VT', 'Grand lake': 'CO', 'Hartsel': 'CO', 'Hot sulphur spri': 'CO', 'Idaho springs': 'CO', 'Indian hills': 'CO', 'Kittredge': 'CO', 'Kremmling': 'CO', 'Leadville': 'CO', 'Mc coy': 'TX', 'Morrison': 'TN', 'Nederland': 'TX', 'Oak creek': 'WI', 'Parshall': 'ND', 'Phippsburg': 'ME', 'Pine': 'CO', 'Rand': 'CO', 'Rollinsville': 'CO', 'Silver plume': 'CO', 'Tabernash': 'CO', 'Toponas': 'CO', 'Walden': 'NY', 'Winter park': 'FL', 'Yampa': 'CO', 'Steamboat spring': 'CO', 'Silverthorne': 'CO', 'Zcta 804hh': 'CO', 'Zcta 804xx': 'CO', 'Longmont': 'CO', 'Allenspark': 'CO', 'Bellvue': 'CO', 'Berthoud': 'CO', 'Dacono': 'CO', 'Drake': 'ND', 'Erie': 'PA', 'Estes park': 'CO', 'Firestone': 'CO', 'Fort collins': 'CO', 'Zcta 80528': 'CO', 'Frederick': 'SD', 'Glen haven': 'WI', 'Johnstown': 'PA', 'Laporte': 'PA', 'Virginia dale': 'CO', 'Loveland': 'OK', 'Lyons': 'WI', 'Mead': 'WA', 'Milliken': 'CO', 'Red feather lake': 'CO', 'Timnath': 'CO', 'Lochbui': 'CO', 'Ault': 'CO', 'Briggsdale': 'CO', 'Carr': 'CO', 'Eaton': 'OH', 'Evans': 'WV', 'Wattenburg': 'CO', 'Gilcrest': 'CO', 'Gill': 'CO', 'Greeley': 'PA', 'Hudson': 'WY', 'Keenesburg': 'CO', 'Kersey': 'PA', 'La salle': 'TX', 'Nunn': 'CO', 'Orchard': 'TX', 'Pierce': 'TX', 'Platteville': 'WI', 'Roggen': 'CO', 'Weldona': 'CO', 'Hoyt': 'OK', 'Zcta 806hh': 'CO', 'Log lane village': 'CO', 'Akron': 'PA', 'Amherst': 'WI', 'Atwood': 'TN', 'Brush': 'CO', 'Crook': 'CO', 'Eckley': 'CO', 'Fleming': 'OH', 'Grover': 'WY', 'Haxtun': 'CO', 'Hillrose': 'CO', 'Holyoke': 'MN', 'Hale': 'MO', 'Iliff': 'CO', 'Julesburg': 'CO', 'Lindon': 'UT', 'Willard': 'WI', 'New raymer': 'CO', 'Otis': 'OR', 'Ovid': 'MI', 'Padroni': 'CO', 'Peetz': 'CO', 'Sedgwick': 'ME', 'Snyder': 'OK', 'Stoneham': 'MA', 'Last chance': 'CO', 'Laird': 'CO', 'Zcta 807hh': 'CO', 'Anton': 'TX', 'Arapahoe': 'WY', 'Arriba': 'CO', 'Bethune': 'SC', 'Burlington': 'WY', 'Calhan': 'CO', 'Cheyenne wells': 'CO', 'Cope': 'SC', 'Cripple creek': 'VA', 'Divide': 'MT', 'Flagler': 'CO', 'Florissant': 'MO', 'Fountain': 'NC', 'Genoa': 'WI', 'Green mountain f': 'CO', 'Guffey': 'CO', 'Hugo': 'OK', 'Joes': 'CO', 'Karval': 'CO', 'Kirk': 'CO', 'Kit carson': 'CO', 'Lake george': 'NY', 'Limon': 'CO', 'Manitou springs': 'CO', 'Matheson': 'CO', 'Peyton': 'CO', 'Ramah': 'NM', 'Rush': 'KY', 'Seibert': 'CO', 'Simla': 'CO', 'Stratton': 'OH', 'United states ai': 'CO', 'Victor': 'WV', 'Vona': 'CO', 'Wild horse': 'CO', 'Woodland park': 'CO', 'Yoder': 'WY', 'Colorado springs': 'CO', 'Fort carson': 'CO', 'Pueblo': 'KY', 'Pueblo west': 'CO', 'Aguilar': 'CO', 'North avondale': 'CO', 'Beulah': 'WY', 'Boncarbo': 'CO', 'Boone': 'NC', 'Branson': 'CO', 'Cheraw': 'SC', 'Crowley': 'TX', 'Chivington': 'CO', 'Farisita': 'CO', 'Granada': 'MN', 'Caddoa': 'CO', 'Haswell': 'CO', 'Holly': 'MI', 'Villegreen': 'CO', 'Timpas': 'CO', 'Deora': 'CO', 'Cuchara': 'CO', 'Mc clave': 'CO', 'Manzanola': 'CO', 'Olney springs': 'CO', 'Ordway': 'CO', 'Utleyville': 'CO', 'Red wing': 'MN', 'Rocky ford': 'GA', 'Rye': 'TX', 'Towner': 'CO', 'Sugar city': 'ID', 'Swink': 'OK', 'Trinchera': 'CO', 'Jansen': 'NE', 'Lycan': 'CO', 'Vilas': 'NC', 'Farista': 'CO', 'Walsh': 'IL', 'Weston': 'WV', 'Wiley': 'GA', 'Zcta 810hh': 'CO', 'Zcta 810xx': 'CO', 'Alamosa': 'CO', 'Antonito': 'CO', 'Arboles': 'CO', 'Bayfield': 'WI', 'Blanca': 'CO', 'Capulin': 'NM', 'Center': 'TX', 'Chama': 'NM', 'Chimney rock': 'CO', 'Chromo': 'CO', 'Creede': 'CO', 'Crestone': 'CO', 'La garita': 'CO', 'Fort garland': 'CO', 'Hooper': 'UT', 'Ignacio': 'CO', 'La jara': 'NM', 'Manassa': 'CO', 'Moffat': 'CO', 'Mosca': 'CO', 'Pagosa springs': 'CO', 'Romeo': 'CO', 'Saguache': 'CO', 'Sanford': 'VA', 'Mesita': 'CO', 'South fork': 'PA', 'Villa grove': 'IL', 'Zcta 811xx': 'CO', 'Almont': 'ND', 'Buena vista': 'VA', 'Canon city': 'CO', 'Cimarron': 'NM', 'Coal creek': 'CO', 'Coaldale': 'WV', 'Cotopaxi': 'CO', 'Crested butte': 'CO', 'Gunnison': 'UT', 'Howard': 'WI', 'Nathrop': 'CO', 'Parlin': 'NJ', 'Penrose': 'NC', 'Pitkin': 'LA', 'Powderhorn': 'CO', 'Rockvale': 'TN', 'Sargents': 'CO', 'Twin lakes': 'WI', 'Westcliffe': 'CO', 'Wetmore': 'TX', 'Zcta 812hh': 'CO', 'Zcta 812xx': 'CO', 'Durango': 'IA', 'Cahone': 'CO', 'Cortez': 'FL', 'Dolores': 'CO', 'Dove creek': 'CO', 'Egnar': 'CO', 'Hesperus': 'CO', 'Lewis': 'NY', 'Mancos': 'CO', 'Mesa verde natio': 'CO', 'Pleasant view': 'TN', 'Rico': 'CO', 'Towaoc': 'CO', 'Yellow jacket': 'CO', 'Zcta 813xx': 'CO', 'Bedrock': 'CO', 'Cedaredge': 'CO', 'Crawford': 'WV', 'Eckert': 'CO', 'Hotchkiss': 'CO', 'Naturita': 'CO', 'Norwood': 'VA', 'Nucla': 'CO', 'Olathe': 'KS', 'Ophir': 'CO', 'Ouray': 'CO', 'Paonia': 'CO', 'Redvale': 'CO', 'Ridgway': 'IL', 'Silverton': 'TX', 'Telluride': 'CO', 'Zcta 814xx': 'CO', 'Grand junction': 'TN', 'Fruitvale': 'TX', 'Fruita': 'CO', 'Gateway': 'CO', 'Glade park': 'CO', 'Loma': 'ND', 'Mack': 'CO', 'Palisade': 'NE', 'Whitewater': 'WI', 'Zcta 815hh': 'CO', 'Zcta 815xx': 'CO', 'Glenwood springs': 'CO', 'Dinosaur': 'CO', 'Aspen': 'CO', 'Snowmass village': 'CO', 'Avon': 'SD', 'Basalt': 'ID', 'Marble': 'PA', 'Collbran': 'CO', 'De beque': 'CO', 'Edwards': 'NY', 'Battlement mesa': 'CO', 'Gypsum': 'KS', 'Maybell': 'CO', 'Meeker': 'OK', 'Meredith': 'NY', 'Gilman': 'WI', 'Molina': 'CO', 'Rangely': 'CO', 'Red cliff': 'CO', 'Rifle': 'CO', 'Silt': 'CO', 'Slater': 'SC', 'Snowmass': 'CO', 'Wolcott': 'VT', 'Woody creek': 'CO', 'Zcta 816hh': 'CO', 'Zcta 816xx': 'CO', 'Bloomfield': 'PA', 'Bristol': 'WI', 'Windsorville': 'CT', 'Canaan': 'VT', 'Canton': 'WI', 'Canton center': 'CT', 'Colebrook': 'NH', 'East berlin': 'PA', 'East canaan': 'CT', 'East granby': 'CT', 'East hartland': 'CT', 'Ellington': 'MO', 'Falls village': 'CT', 'Glastonbury': 'CT', 'Berlin': 'WI', 'Lakeville': 'PA', 'Bolton': 'NC', 'New britain': 'PA', 'New hartford': 'NY', 'Norfolk': 'VA', 'North canton': 'OH', 'North granby': 'CT', 'Plainville': 'MA', 'Pleasant valley': 'NY', 'Riverton': 'WV', 'Vernon rockville': 'CT', 'Rocky hill': 'NJ', 'Salisbury': 'VT', 'Sharon': 'WI', 'Simsbury': 'CT', 'Somers': 'NY', 'South glastonbur': 'CT', 'South windsor': 'CT', 'Stafford springs': 'CT', 'Suffield': 'CT', 'Tariffville': 'CT', 'Enfield': 'NC', 'Tolland': 'MA', 'Unionville': 'VA', 'East windsor': 'CT', 'Weatogue': 'CT', 'West granby': 'CT', 'West hartland': 'CT', 'West simsbury': 'CT', 'West suffield': 'CT', 'Windsor locks': 'CT', 'Winsted': 'MN', 'Zcta 060hh': 'CT', 'W hartford': 'CT', 'East hartford': 'CT', 'Wethersfield': 'CT', 'Maple hill': 'NC', 'Zcta 061hh': 'CT', 'Willimantic': 'CT', 'Amston': 'CT', 'Andover': 'VA', 'Brooklyn': 'WI', 'Chaplin': 'KY', 'Coventry': 'VT', 'Danielson': 'CT', 'Dayville': 'OR', 'Eastford': 'CT', 'Hebron': 'OH', 'Lebanon': 'WI', 'Mansfield center': 'CT', 'North franklin': 'CT', 'North grosvenord': 'CT', 'North windham': 'CT', 'Pomfret center': 'CT', 'Putnam': 'TX', 'Quinebaug': 'CT', 'South windham': 'CT', 'Storrs mansfield': 'CT', 'University of ct': 'CT', 'Thompson': 'UT', 'Warrenville': 'SC', 'West willington': 'CT', 'Windham': 'OH', 'Woodstock valley': 'CT', 'Zcta 062hh': 'CT', 'New london': 'WI', 'Baltic': 'SD', 'Canterbury': 'NH', 'East lyme': 'CT', 'Bozrah': 'CT', 'Gales ferry': 'CT', 'Ledyard': 'IA', 'Groton': 'VT', 'Jewett city': 'CT', 'Moosup': 'CT', 'Mystic': 'IA', 'Niantic': 'IL', 'North stonington': 'CT', 'Norwich': 'VT', 'Preston': 'OK', 'Oakdale': 'TN', 'Old lyme': 'CT', 'Oneco': 'CT', 'Plainfield': 'WI', 'Quaker hill': 'CT', 'South lyme': 'CT', 'Stonington': 'ME', 'Pawcatuck': 'CT', 'Taftville': 'CT', 'Uncasville': 'CT', 'Voluntown': 'CT', 'Zcta 063hh': 'CT', 'Ansonia': 'OH', 'Beacon falls': 'CT', 'Branford': 'FL', 'Centerbrook': 'CT', 'Cheshire': 'OR', 'Colchester': 'VT', 'Cromwell': 'OK', 'Deep river': 'IA', 'Derby': 'VT', 'Killingworth': 'CT', 'East haddam': 'CT', 'East hampton': 'NY', 'Guilford': 'NY', 'Haddam': 'KS', 'Higganum': 'CT', 'Ivoryton': 'CT', 'Marlborough': 'NH', 'Meriden': 'WY', 'Middlefield': 'OH', 'Moodus': 'CT', 'Newtown': 'VA', 'North branford': 'CT', 'Northford': 'CT', 'North haven': 'ME', 'Old saybrook': 'CT', 'Orange': 'TX', 'Plantsville': 'CT', 'Rockfall': 'CT', 'Sandy hook': 'VA', 'Seymour': 'WI', 'Shelton': 'WA', 'Southbury': 'CT', 'Southington': 'OH', 'Southport': 'IN', 'Wallingford': 'VT', 'Westbrook': 'TX', 'Zcta 064hh': 'CT', 'New haven': 'WV', 'East haven': 'VT', 'Hamden': 'OH', 'West haven': 'CT', 'Bethany': 'WV', 'Zcta 065hh': 'CT', 'Trumbull': 'NE', 'Zcta 06614': 'CT', 'Zcta 06615': 'CT', 'Zcta 066hh': 'CT', 'Waterbury': 'VT', 'Prospect': 'VA', 'Bantam': 'CT', 'Bethlehem': 'PA', 'Bridgewater': 'VA', 'Gaylordsville': 'CT', 'Kent': 'WA', 'Middlebury': 'IN', 'Naugatuck': 'WV', 'New milford': 'PA', 'New preston marb': 'CT', 'Northfield': 'WI', 'Oakville': 'WA', 'Roxbury': 'VT', 'Sherman': 'TX', 'South kent': 'CT', 'Terryville': 'CT', 'Torrington': 'WY', 'Harwinton': 'CT', 'Washington depot': 'CT', 'Watertown': 'WI', 'West cornwall': 'CT', 'Woodbury': 'VT', 'Zcta 067hh': 'CT', 'Bethel': 'VT', 'Brookfield': 'WI', 'Cos cob': 'CT', 'Danbury': 'TX', 'New fairfield': 'CT', 'Darien': 'WI', 'Byram': 'CT', 'Greenwich': 'UT', 'New canaan': 'CT', 'Old greenwich': 'CT', 'Ridgefield': 'WA', 'West redding': 'CT', 'Zcta 068hh': 'CT', 'Stamford': 'VT', 'Ridgeway': 'WI', 'Zcta 069hh': 'CT', 'Bear': 'DE', 'Claymont': 'DE', 'Delaware city': 'DE', 'Hockessin': 'DE', 'Montchanin': 'DE', 'Manor': 'TX', 'Odessa': 'WA', 'Port penn': 'DE', 'Rockland': 'WI', 'Saint georges': 'DE', 'Townsend': 'WI', 'Yorklyn': 'DE', 'Zcta 197hh': 'DE', 'Talleyville': 'DE', 'Marshallton': 'DE', 'Edgemoor': 'SC', 'Zcta 198hh': 'DE', 'Dover afb': 'DE', 'Zcta 19904': 'DE', 'Bethany beach': 'DE', 'Bridgeville': 'PA', 'Camden wyoming': 'DE', 'Dagsboro': 'DE', 'Delmar': 'NY', 'Ellendale': 'ND', 'Fenwick island': 'DE', 'Frankford': 'MO', 'Frederica': 'DE', 'Harbeson': 'DE', 'Harrington': 'WA', 'Hartly': 'DE', 'Kenton': 'TN', 'Laurel': 'NY', 'Lewes': 'DE', 'Marydel': 'MD', 'Long neck': 'DE', 'Milton': 'WI', 'Dewey beach': 'DE', 'Seaford': 'VA', 'Selbyville': 'WV', 'Smyrna': 'TN', 'Zcta 199hh': 'DE', 'Zcta 200hh': 'DC', 'Fort mcnair': 'DC', 'Bolling afb': 'DC', 'Naval research l': 'DC', 'Zcta 203xx': 'DC', 'Bryceville': 'FL', 'Day': 'FL', 'Zcta 32024': 'FL', 'Zcta 32025': 'FL', 'Elkton': 'VA', 'Amelia island': 'FL', 'Fort white': 'FL', 'Glen saint mary': 'FL', 'Green cove sprin': 'FL', 'Hilliard': 'OH', 'Jennings': 'OK', 'Lake butler': 'FL', 'Lawtey': 'FL', 'Lee': 'NH', 'Lulu': 'FL', 'Mc alpin': 'FL', 'Macclenny': 'FL', 'Orange park': 'FL', 'Mayo': 'FL', 'Middleburg': 'PA', 'O brien': 'TX', 'Olustee': 'OK', 'Penney farms': 'FL', 'Ponte vedra beac': 'FL', 'Raiford': 'FL', 'Saint augustine': 'IL', 'Sanderson': 'TX', 'Starke': 'FL', 'Wellborn': 'FL', 'White springs': 'FL', 'Yulee': 'FL', 'Zcta 320hh': 'FL', 'Zcta 320xx': 'FL', 'Astor': 'FL', 'Bunnell': 'FL', 'Citra': 'FL', 'Daytona beach': 'FL', 'Holly hill': 'SC', 'Dunlawton': 'FL', 'Port orange': 'FL', 'De leon springs': 'FL', 'East palatka': 'FL', 'Salt springs': 'FL', 'Flagler beach': 'FL', 'Palm coast': 'FL', 'Grandin': 'ND', 'Florahome': 'FL', 'Hastings': 'WV', 'Interlachen': 'FL', 'Lake como': 'PA', 'Lady lake': 'FL', 'Zcta 32164': 'FL', 'New smyrna beach': 'FL', 'Ormond beach': 'FL', 'Palatka': 'FL', 'Ocklawaha': 'FL', 'Pierson': 'MI', 'Pomona park': 'FL', 'Orange springs': 'FL', 'Zcta 32183': 'FL', 'Putnam hall': 'FL', 'Seville': 'OH', 'Welaka': 'FL', 'Weirsdale': 'FL', 'Zcta 321hh': 'FL', 'Zcta 321xx': 'FL', 'Jacksonville n a': 'FL', 'Cecil field nas': 'FL', 'Jacksonville bea': 'FL', 'Atlantic beach': 'NY', 'Baldwin': 'WI', 'Neptune beach': 'FL', 'Zcta 32277': 'FL', 'Zcta 322hh': 'FL', 'Tallahassee': 'FL', 'Apalachicola': 'FL', 'Carrabelle': 'FL', 'Lanark village': 'FL', 'Chattahoochee': 'FL', 'Crawfordville': 'GA', 'Gretna': 'VA', 'Havana': 'ND', 'Hosford': 'FL', 'Sumatra': 'FL', 'Lloyd': 'MT', 'Panacea': 'FL', 'Pinetta': 'FL', 'Saint marks': 'FL', 'Shady grove': 'FL', 'Sopchoppy': 'FL', 'Steinhatchee': 'FL', 'Telogia': 'FL', 'Wacissa': 'FL', 'Zcta 323hh': 'FL', 'Zcta 323xx': 'FL', 'Panama city': 'FL', 'Panama city beac': 'FL', 'Mexico beach': 'FL', 'Alford': 'FL', 'Altha': 'FL', 'Argyle': 'WI', 'Bascom': 'OH', 'Blountstown': 'FL', 'Bonifay': 'FL', 'Campbellton': 'TX', 'Caryville': 'TN', 'Chipley': 'FL', 'De funiak spring': 'FL', 'Ebro': 'FL', 'Freeport': 'PA', 'Graceville': 'MN', 'Grand ridge': 'IL', 'Lynn haven': 'FL', 'Malone': 'WI', 'Zcta 32448': 'FL', 'Kinard': 'FL', 'Ponce de leon': 'MO', 'Port saint joe': 'FL', 'Santa rosa beach': 'FL', 'Sneads': 'FL', 'Wausau': 'WI', 'Westville': 'SC', 'Wewahitchka': 'FL', 'Youngstown': 'PA', 'Zcta 324hh': 'FL', 'Zcta 324xx': 'FL', 'Pensacola': 'FL', 'Cantonment': 'FL', 'Century': 'FL', 'Crestview': 'FL', 'Zcta 32539': 'FL', 'Sandestin': 'FL', 'Eglin a f b': 'FL', 'Hurlburt field': 'FL', 'Fort walton beac': 'FL', 'Gulf breeze': 'FL', 'Jay': 'OK', 'Navarre': 'OH', 'Laurel hill': 'NC', 'Walnut hill': 'IL', 'Mary esther': 'FL', 'Pace': 'MS', 'Molino': 'FL', 'Niceville': 'FL', 'Shalimar': 'FL', 'Valparaiso': 'NE', 'Zcta 325hh': 'FL', 'Zcta 325xx': 'FL', 'Santa fe': 'TN', 'Zcta 32616': 'FL', 'Anthony': 'WV', 'Archer': 'NE', 'Bell': 'FL', 'Bronson': 'TX', 'Brooker': 'FL', 'Cedar key': 'FL', 'Chiefland': 'FL', 'Cross city': 'FL', 'Gulf hammock': 'FL', 'Hawthorne': 'WI', 'Zcta 32641': 'FL', 'High springs': 'FL', 'Horseshoe beach': 'FL', 'Zcta 32653': 'FL', 'Island grove': 'FL', 'Keystone heights': 'FL', 'La crosse': 'WI', 'Lochloosa': 'FL', 'Melrose': 'WI', 'Micanopy': 'FL', 'Morriston': 'FL', 'Newberry': 'SC', 'Old town': 'ME', 'Orange lake': 'FL', 'Otter creek': 'FL', 'Reddick': 'IL', 'Suwannee': 'FL', 'Williston': 'VT', 'Worthington spri': 'FL', 'Zcta 326hh': 'FL', 'Zcta 326xx': 'FL', 'Altamonte spring': 'FL', 'Altoona': 'WI', 'Hunt club': 'FL', 'Cassadaga': 'NY', 'Casselberry': 'FL', 'Winter springs': 'FL', 'Christmas': 'MI', 'Apopka': 'FL', 'Debary': 'FL', 'Forest city': 'MO', 'Deland': 'FL', 'Deltona': 'FL', 'Eustis': 'NE', 'Fern park': 'FL', 'Grand island': 'NY', 'Zcta 32736': 'FL', 'Lake helen': 'FL', 'Heathrow': 'FL', 'Longwood': 'NC', 'Eatonville': 'WA', 'Mims': 'FL', 'Mount dora': 'FL', 'Oak hill': 'OH', 'Orange city': 'IA', 'Osteen': 'FL', 'Oviedo': 'FL', 'Chuluota': 'FL', 'Paisley': 'OR', 'Scottsmoor': 'FL', 'Sorrento': 'ME', 'Tavares': 'FL', 'Springs plaza': 'FL', 'Titusville': 'PA', 'Dona vista': 'FL', 'Aloma': 'FL', 'Zellwood': 'FL', 'Zcta 327hh': 'FL', 'Zcta 327xx': 'FL', 'Orlando': 'WV', 'Fairvilla': 'FL', 'Azalea park': 'FL', 'Pine hills': 'FL', 'Pine castle': 'FL', 'Orlo vista': 'FL', 'Union park': 'FL', 'Sand lake': 'NY', 'Ventura': 'IA', 'Zcta 328hh': 'FL', 'Melbourne': 'KY', 'Indialantic': 'FL', 'Melbourne villag': 'FL', 'Palm bay': 'FL', 'Cape canaveral': 'FL', 'Cocoa': 'FL', 'Patrick a f b': 'FL', 'Port saint john': 'FL', 'Cocoa beach': 'FL', 'Eau gallie': 'FL', 'Indian harbor be': 'FL', 'Fellsmere': 'FL', 'Malabar': 'FL', 'Melbourne beach': 'FL', 'Merritt island': 'FL', 'Rockledge': 'GA', 'Sebastian': 'TX', 'Vero beach': 'FL', 'Indian river sho': 'FL', 'Wabasso': 'MN', 'Barefoot bay': 'FL', 'Zcta 329hh': 'FL', 'Zcta 329xx': 'FL', 'Long key': 'FL', 'Dania': 'FL', 'Hallandale': 'FL', 'Hialeah': 'FL', 'Zcta 33018': 'FL', 'Miramar': 'FL', 'Pembroke pines': 'FL', 'Homestead': 'MT', 'Florida city': 'FL', 'Islamorada': 'FL', 'Ocean reef': 'FL', 'Naval air statio': 'FL', 'Summerland key': 'FL', 'Big pine key': 'FL', 'Marathon': 'WI', 'Opa locka': 'FL', 'Carol city': 'FL', 'Pompano beach': 'FL', 'Margate': 'FL', 'Lighthouse point': 'FL', 'Coral springs': 'FL', 'North coral spri': 'FL', 'Tavernier': 'FL', 'Zcta 330hh': 'FL', 'Zcta 330xx': 'FL', 'Miami beach': 'FL', 'Coral gables': 'FL', 'Miami shores': 'FL', 'Carl fisher': 'FL', 'North bay villag': 'FL', 'South miami': 'FL', 'Key biscayne': 'FL', 'Bal harbour': 'FL', 'Kendall': 'WI', 'Perrine': 'FL', 'North miami beac': 'FL', 'North miami': 'OK', 'Olympia heights': 'FL', 'Miami springs': 'FL', 'Quail heights': 'FL', 'Ojus': 'FL', 'Zcta 331hh': 'FL', 'Fort lauderdale': 'FL', 'Oakland park': 'FL', 'City of sunrise': 'FL', 'Davie': 'FL', 'Plantation': 'FL', 'Tamarac': 'FL', 'Sunrise': 'FL', 'Zcta 333hh': 'FL', 'Zcta 333xx': 'FL', 'West palm beach': 'FL', 'Lake park': 'MN', 'Riviera beach': 'MD', 'Glen ridge': 'NJ', 'North palm beach': 'FL', 'Haverhill': 'NH', 'Palm beach garde': 'FL', 'Royal palm beach': 'FL', 'Boynton beach': 'FL', 'Boca raton': 'FL', 'Belle glade': 'FL', 'Briny breezes': 'FL', 'Village of golf': 'FL', 'Canal point': 'FL', 'Clewiston': 'FL', 'Deerfield beach': 'FL', 'Delray beach': 'FL', 'Hobe sound': 'FL', 'Jupiter': 'FL', 'Lake worth': 'FL', 'Lantana': 'FL', 'Tequesta': 'FL', 'Loxahatchee': 'FL', 'Moore haven': 'FL', 'Pahokee': 'FL', 'Palm beach': 'FL', 'Highland beach': 'FL', 'South bay': 'FL', 'Zcta 334hh': 'FL', 'Zcta 334xx': 'FL', 'Brandon': 'WI', 'Bushnell': 'NE', 'Center hill': 'FL', 'Coleman': 'WI', 'Zcta 33523': 'FL', 'Ridge manor': 'FL', 'Gibsonton': 'FL', 'Lake panasoffkee': 'FL', 'Zephyrhills': 'FL', 'Wesley chapel': 'FL', 'Lithia': 'VA', 'Lutz': 'FL', 'Plant city': 'FL', 'Riverview': 'MI', 'Ruskin': 'NE', 'Apollo beach': 'FL', 'Sun city center': 'FL', 'San antonio': 'TX', 'Seffner': 'FL', 'Sumterville': 'FL', 'Thonotosassa': 'FL', 'Valrico': 'FL', 'Ridge manor esta': 'FL', 'Wimauma': 'FL', 'Zcta 335hh': 'FL', 'Zcta 335xx': 'FL', 'Tampa': 'KS', 'Carrollwood': 'FL', 'Zcta 336hh': 'FL', 'Saint petersburg': 'PA', 'Madeira beach': 'FL', 'Kenneth city': 'FL', 'Tierra verde': 'FL', 'Zcta 33785': 'FL', 'Zcta 33786': 'FL', 'Zcta 337hh': 'FL', 'Lakeland': 'MN', 'Zcta 33810': 'FL', 'Zcta 33815': 'FL', 'Auburndale': 'WI', 'Avon park': 'FL', 'Babson park': 'FL', 'Bartow': 'WV', 'Duette': 'FL', 'Dundee': 'OR', 'Eagle lake': 'TX', 'Fort meade': 'FL', 'Frostproof': 'FL', 'Grenelefe': 'FL', 'Intercession cit': 'FL', 'Kathleen': 'GA', 'Lake alfred': 'FL', 'Lake placid': 'FL', 'Lake wales': 'FL', 'Lorida': 'FL', 'Ona': 'WV', 'Polk city': 'IA', 'Sebring': 'OH', 'Wauchula': 'FL', 'Eloise': 'FL', 'Winter haven': 'FL', 'Cypress gardens': 'FL', 'Zolfo springs': 'FL', 'Zcta 338hh': 'FL', 'Zcta 338xx': 'FL', 'Fort myers': 'FL', 'Cape coral centr': 'FL', 'Tice': 'FL', 'College parkway': 'FL', 'Alva': 'WY', 'Boca grande': 'FL', 'Bokeelia': 'FL', 'Captiva': 'FL', 'Estero': 'FL', 'Felda': 'FL', 'Fort myers beach': 'FL', 'Labelle': 'FL', 'Lehigh acres': 'FL', 'Pineland': 'TX', 'Placida': 'FL', 'Port charlotte': 'FL', 'Punta gorda': 'FL', 'Saint james city': 'FL', 'Sanibel': 'FL', 'Venus': 'TX', 'Zcta 33972': 'FL', 'Zcta 33975': 'FL', 'Zcta 33993': 'FL', 'Zcta 339hh': 'FL', 'Zcta 339xx': 'FL', 'Zcta 34102': 'FL', 'Zcta 34103': 'FL', 'Zcta 34104': 'FL', 'Zcta 34105': 'FL', 'Zcta 34108': 'FL', 'Zcta 34109': 'FL', 'Zcta 34110': 'FL', 'Zcta 34112': 'FL', 'Zcta 34113': 'FL', 'Zcta 34114': 'FL', 'Zcta 34116': 'FL', 'Zcta 34117': 'FL', 'Zcta 34119': 'FL', 'Zcta 34120': 'FL', 'Zcta 34134': 'FL', 'Zcta 34135': 'FL', 'Zcta 34137': 'FL', 'Zcta 34138': 'FL', 'Zcta 34139': 'FL', 'Zcta 34141': 'FL', 'Zcta 34142': 'FL', 'Zcta 34145': 'FL', 'Zcta 341hh': 'FL', 'Zcta 341xx': 'FL', 'Braden river': 'FL', 'Westgate': 'NY', 'College plaza': 'FL', 'Palma sola': 'FL', 'Bradenton': 'FL', 'Anna maria': 'FL', 'Bradenton beach': 'FL', 'Palmetto': 'LA', 'Ellenton': 'GA', 'Grove city': 'PA', 'Whitney beach': 'FL', 'Osprey': 'FL', 'South trail': 'FL', 'Sarasota': 'FL', 'Meadows village': 'FL', 'Sarasota square': 'FL', 'Crescent beach': 'FL', 'Terra ceia': 'FL', 'Myakka city': 'FL', 'Zcta 34266': 'FL', 'Zcta 34268': 'FL', 'Nokomis': 'IL', 'Zcta 34286': 'FL', 'North port': 'FL', 'Mid venice': 'FL', 'South venice': 'FL', 'Zcta 342hh': 'FL', 'Zcta 342xx': 'FL', 'Belleview': 'MO', 'Crystal river': 'FL', 'Dunnellon': 'FL', 'Citrus springs': 'FL', 'Floral city': 'FL', 'Hernando': 'MS', 'Homosassa': 'FL', 'Inglis': 'FL', 'Lecanto': 'FL', 'Ocala': 'FL', 'Silver springs': 'NV', 'Summerfield': 'OH', 'Yankeetown': 'FL', 'Zcta 344hh': 'FL', 'Zcta 344xx': 'FL', 'Brooksville': 'MS', 'Ridge manor west': 'FL', 'Spring hill': 'TN', 'Shady hills': 'FL', 'Land o lakes': 'WI', 'New port richey': 'FL', 'Nobleton': 'FL', 'Port richey': 'FL', 'Oldsmar': 'FL', 'Aripeka': 'FL', 'Crystal beach': 'TX', 'Palm harbor': 'FL', 'Lake tarpon': 'FL', 'Tarpon springs': 'FL', 'Holiday': 'FL', 'Safety harbor': 'FL', 'Dunedin': 'FL', 'Zcta 346hh': 'FL', 'Zcta 346xx': 'FL', 'Astatula': 'FL', 'Clermont': 'IA', 'Fruitland park': 'FL', 'Gotha': 'FL', 'Howey in the hil': 'FL', 'Kenansville': 'NC', 'Kissimmee': 'FL', 'Buena ventura la': 'FL', 'Mascotte': 'FL', 'Montverde': 'FL', 'Poinciana': 'FL', 'Ocoee': 'TN', 'Okahumpka': 'FL', 'Saint cloud': 'WI', 'Windermere': 'FL', 'Winter garden': 'FL', 'Haines creek': 'FL', 'Yalaha': 'FL', 'Zcta 347hh': 'FL', 'Zcta 347xx': 'FL', 'Fort pierce': 'FL', 'Port saint lucie': 'FL', 'Indiantown': 'FL', 'Jensen beach': 'FL', 'Basinger': 'FL', 'Okeechobee': 'FL', 'Stuart': 'VA', 'Zcta 349hh': 'FL', 'Zcta 349xx': 'FL', 'Avondale estates': 'GA', 'Zcta 30004': 'GA', 'Zcta 30005': 'GA', 'Zcta 30008': 'GA', 'Zcta 30011': 'GA', 'Zcta 30012': 'GA', 'Zcta 30013': 'GA', 'Zcta 30014': 'GA', 'Zcta 30016': 'GA', 'Zcta 30017': 'GA', 'Zcta 30019': 'GA', 'Clarkston': 'WA', 'Zcta 30022': 'GA', 'Zcta 30024': 'GA', 'Zcta 30025': 'GA', 'Lithonia': 'GA', 'Zcta 30039': 'GA', 'Zcta 30040': 'GA', 'Zcta 30041': 'GA', 'Zcta 30043': 'GA', 'Zcta 30044': 'GA', 'Zcta 30045': 'GA', 'Zcta 30047': 'GA', 'Zcta 30052': 'GA', 'Zcta 30054': 'GA', 'Zcta 30055': 'GA', 'Zcta 30056': 'GA', 'Centerville gwin': 'GA', 'Marietta': 'TX', 'Zcta 30070': 'GA', 'Norcross': 'MN', 'Pine lake': 'GA', 'Roswell': 'SD', 'Zcta 30078': 'GA', 'Scottdale': 'PA', 'Stone mountain': 'GA', 'Zcta 30094': 'GA', 'Zcta 30096': 'GA', 'Zcta 30097': 'GA', 'Zcta 300hh': 'GA', 'Acworth': 'NH', 'Adairsville': 'GA', 'Aragon': 'NM', 'Armuchee': 'GA', 'Zcta 30106': 'GA', 'Ball ground': 'GA', 'Bowdon': 'ND', 'Buchanan': 'TN', 'Cartersville': 'GA', 'Zcta 30121': 'GA', 'Zcta 30122': 'GA', 'Cave spring': 'VA', 'Cedartown': 'GA', 'Zcta 30126': 'GA', 'Zcta 30127': 'GA', 'Dallas': 'WI', 'Douglasville': 'GA', 'Fairmount': 'ND', 'Hiram': 'OH', 'Kennesaw': 'GA', 'Lindale': 'GA', 'Marble hill': 'GA', 'Zcta 30152': 'GA', 'Rockmart': 'GA', 'Zcta 30157': 'GA', 'Rome': 'PA', 'Zcta 30168': 'GA', 'Roopville': 'GA', 'Pine log': 'GA', 'Silver creek': 'WA', 'Talking rock': 'GA', 'Tallapoosa': 'MO', 'Tate': 'GA', 'Temple': 'TX', 'Villa rica': 'GA', 'Waco': 'TX', 'Waleska': 'GA', 'White': 'SD', 'Whitesburg': 'TN', 'Winston': 'OR', 'Zcta 30189': 'GA', 'Zcta 301hh': 'GA', 'Barnesville': 'PA', 'Fairburn': 'SD', 'Woolsey': 'GA', 'Zcta 30215': 'GA', 'Flovilla': 'GA', 'Alvaton': 'KY', 'Grantville': 'PA', 'Stovall': 'NC', 'Griffin': 'IN', 'Hogansville': 'GA', 'Jenkinsburg': 'GA', 'Zcta 30238': 'GA', 'Lovejoy': 'IL', 'Luthersville': 'GA', 'Zcta 30252': 'GA', 'Mc donough': 'NY', 'Meansville': 'GA', 'Milner': 'GA', 'Molena': 'GA', 'Moreland': 'GA', 'Newnan': 'GA', 'Peachtree city': 'GA', 'Rex': 'NC', 'Sargent': 'TX', 'Senoia': 'GA', 'Sharpsburg': 'NC', 'Stockbridge': 'WI', 'The rock': 'GA', 'Zcta 30288': 'GA', 'Tyrone': 'PA', 'Williamson': 'WV', 'Zcta 30294': 'GA', 'Zebulon': 'NC', 'Zcta 30297': 'GA', 'Zcta 302hh': 'GA', 'Atlanta': 'TX', 'Sandy springs': 'SC', 'College park': 'MD', 'Dunwoody': 'GA', 'Doraville': 'GA', 'Chamblee': 'GA', 'East point': 'KY', 'Hapeville': 'GA', 'Zcta 303hh': 'GA', 'Ailey': 'GA', 'Alston': 'GA', 'Bellville': 'TX', 'Brooklet': 'GA', 'Claxton': 'GA', 'Cobbtown': 'GA', 'Collins': 'WI', 'Daisy': 'OK', 'Girard': 'TX', 'Hagan': 'GA', 'Manassas': 'GA', 'Metter': 'GA', 'Midville': 'GA', 'Millen': 'GA', 'Newington': 'NH', 'Norristown': 'PA', 'Nunez': 'GA', 'Register': 'GA', 'Reidsville': 'NC', 'Soperton': 'GA', 'Statesboro': 'GA', 'Zcta 30461': 'GA', 'Stillmore': 'GA', 'Hiltonia': 'GA', 'Tarrytown': 'GA', 'Twin city': 'GA', 'Uvalda': 'GA', 'Vidalia': 'LA', 'Zcta 304hh': 'GA', 'Zcta 304xx': 'GA', 'Alto': 'NM', 'Blairsville': 'PA', 'Blue ridge': 'VA', 'Bowersville': 'OH', 'Braselton': 'GA', 'Buford': 'WY', 'Zcta 30519': 'GA', 'Canon': 'GA', 'Carnesville': 'GA', 'Cherrylog': 'GA', 'Clarkesville': 'GA', 'Commerce': 'TX', 'Zcta 30530': 'GA', 'Cornelia': 'GA', 'Dahlonega': 'GA', 'Juno': 'GA', 'Demorest': 'GA', 'Sky valley': 'GA', 'Eastanollee': 'GA', 'East ellijay': 'GA', 'Ellijay': 'GA', 'Epworth': 'IA', 'Flowery branch': 'GA', 'Gillsville': 'GA', 'Helen': 'WV', 'Hiawassee': 'GA', 'Homer': 'NY', 'Hoschton': 'GA', 'Lakemont': 'NY', 'Lavonia': 'GA', 'Lula': 'MS', 'Mc caysville': 'GA', 'Martin': 'TN', 'Mineral bluff': 'GA', 'Morganton': 'NC', 'Mountain city': 'TN', 'Mount airy': 'NC', 'Murrayville': 'GA', 'Nicholson': 'PA', 'Oakwood': 'TX', 'Pendergrass': 'GA', 'Rabun gap': 'GA', 'Sautee nacoochee': 'GA', 'Suches': 'GA', 'Talmo': 'GA', 'Tiger': 'GA', 'Toccoa': 'GA', 'Young harris': 'GA', 'Toccoa falls': 'GA', 'Zcta 305hh': 'GA', 'Arnoldsville': 'GA', 'Bishop': 'VA', 'Bogart': 'GA', 'Bowman': 'SC', 'Buckhead': 'GA', 'Colbert': 'WA', 'Comer': 'IL', 'Danielsville': 'PA', 'Dewy rose': 'GA', 'Elberton': 'GA', 'Franklin springs': 'NY', 'Good hope': 'IL', 'Hartwell': 'GA', 'Hull': 'TX', 'Zcta 30656': 'GA', 'Philomath': 'OR', 'Royston': 'GA', 'Siloam': 'NC', 'Statham': 'GA', 'Danburg': 'GA', 'Union point': 'GA', 'Maxeys': 'GA', 'Watkinsville': 'GA', 'White plains': 'VA', 'Winder': 'GA', 'Winterville': 'NC', 'Zcta 306hh': 'GA', 'Calhoun': 'TN', 'Chickamauga': 'GA', 'Cisco': 'TX', 'Cohutta': 'GA', 'Crandall': 'TX', 'Dalton': 'WI', 'Eton': 'GA', 'Flintstone': 'MD', 'Graysville': 'TN', 'La fayette': 'NY', 'Lyerly': 'GA', 'Cloudland': 'GA', 'Ranger': 'WV', 'Hill city': 'SD', 'Ringgold': 'VA', 'Rising fawn': 'GA', 'Rock spring': 'GA', 'Rocky face': 'GA', 'Rossville': 'TN', 'Fort oglethorpe': 'GA', 'Sugar valley': 'GA', 'Summerville': 'SC', 'Lookout mountain': 'TN', 'Trion': 'GA', 'Tunnel hill': 'IL', 'Zcta 307hh': 'GA', 'Zcta 307xx': 'GA', 'Appling': 'GA', 'Avera': 'GA', 'Blythe': 'GA', 'Camak': 'GA', 'Dearing': 'KS', 'Gibson': 'PA', 'Grovetown': 'GA', 'Harlem': 'MT', 'Hephzibah': 'GA', 'Keysville': 'VA', 'Lincolnton': 'GA', 'Matthews': 'MO', 'Mitchell': 'OR', 'Perkins': 'WV', 'Thomson': 'NY', 'Warrenton': 'OR', 'Waynesboro': 'VA', 'Wrens': 'GA', 'Zcta 308hh': 'GA', 'Zcta 308xx': 'GA', 'Fort gordon': 'GA', 'Martinez': 'GA', 'Forest hills': 'NY', 'Zcta 309hh': 'GA', 'Adrian': 'WV', 'Allentown': 'PA', 'Bonaire': 'GA', 'Byromville': 'GA', 'Powersville': 'MO', 'Cadwell': 'GA', 'Chauncey': 'WV', 'Cochran': 'GA', 'Cordele': 'GA', 'Culloden': 'WV', 'Davisboro': 'GA', 'Dexter': 'OR', 'Dry branch': 'GA', 'East dublin': 'GA', 'Dudley': 'PA', 'Eastman': 'WI', 'Eatonton': 'GA', 'Elko': 'SC', 'Zcta 31027': 'GA', 'Forsyth': 'MT', 'Fort valley': 'GA', 'Stevens pottery': 'GA', 'Gray': 'TN', 'Haddock': 'GA', 'Hardwick': 'VT', 'Hawkinsville': 'GA', 'Round oak': 'GA', 'Ideal': 'SD', 'Irwinton': 'GA', 'Jeffersonville': 'OH', 'Jewell': 'IA', 'Juliette': 'GA', 'Kite': 'GA', 'Lilly': 'PA', 'Lizella': 'GA', 'Mc intyre': 'PA', 'Marshallville': 'OH', 'Mauk': 'GA', 'Milan': 'TN', 'Milledgeville': 'TN', 'Montezuma': 'VA', 'Musella': 'GA', 'Oconee': 'IL', 'Oglethorpe': 'GA', 'Pinehurst': 'TX', 'Pineview': 'GA', 'Pitts': 'GA', 'Rentz': 'GA', 'Reynolds': 'ND', 'Rhine': 'GA', 'Roberta': 'GA', 'Rochelle': 'TX', 'Rupert': 'GA', 'Deepstep': 'GA', 'Shady dale': 'GA', 'Devereux': 'GA', 'Warner robins': 'GA', 'Tennille': 'GA', 'Toomsboro': 'GA', 'Unadilla': 'NY', 'Vienna': 'WV', 'Warthen': 'GA', 'Yatesville': 'GA', 'Robins a f b': 'GA', 'Zcta 310hh': 'GA', 'Zcta 310xx': 'GA', 'Huber': 'GA', 'Macon': 'NC', 'Wilson airport': 'GA', 'Zcta 31216': 'GA', 'Zcta 31217': 'GA', 'Zcta 31220': 'GA', 'Zcta 312hh': 'GA', 'Allenhurst': 'NJ', 'Bloomingdale': 'TN', 'Clyo': 'GA', 'Ellabell': 'GA', 'Guyton': 'GA', 'Hinesville': 'GA', 'Fort stewart': 'GA', 'Zcta 31315': 'GA', 'Ludowici': 'GA', 'Meldrim': 'GA', 'Pembroke': 'NC', 'Pooler': 'GA', 'Riceboro': 'GA', 'Richmond hill': 'NY', 'Rincon': 'NM', 'Sapelo island': 'GA', 'Tybee island': 'GA', 'Stillwell': 'GA', 'Walthourville': 'GA', 'Zcta 313hh': 'GA', 'Zcta 313xx': 'GA', 'Savannah': 'TN', 'State college': 'PA', 'Port wentworth': 'GA', 'M m': 'GA', 'Zcta 314hh': 'GA', 'Okefenokee': 'GA', 'Waycross': 'GA', 'Ambrose': 'ND', 'Baxley': 'GA', 'Blackshear': 'GA', 'Broxton': 'GA', 'Glynco': 'GA', 'Saint simons isl': 'GA', 'Brunswick': 'OH', 'Jekyll island': 'GA', 'Denton': 'TX', 'Zcta 31535': 'GA', 'Folkston': 'GA', 'Hazlehurst': 'MS', 'Hoboken': 'NJ', 'Hortense': 'GA', 'Jesup': 'IA', 'Zcta 31546': 'GA', 'Lumber city': 'GA', 'Mershon': 'GA', 'Millwood': 'WV', 'Nahunta': 'GA', 'Nicholls': 'GA', 'Odum': 'GA', 'Screven': 'GA', 'Surrency': 'GA', 'Waynesville': 'OH', 'West green': 'GA', 'White oak': 'WV', 'Woodbine': 'MD', 'Zcta 315hh': 'GA', 'Zcta 315xx': 'GA', 'Clyattville': 'GA', 'Bemiss': 'GA', 'Zcta 31605': 'GA', 'Zcta 31606': 'GA', 'Adel': 'OR', 'Alapaha': 'GA', 'Axson': 'GA', 'Barney': 'ND', 'Boston': 'VA', 'Dixie': 'WV', 'Du pont': 'WA', 'Fargo': 'OK', 'Hahira': 'GA', 'Cogdell': 'GA', 'Lenox': 'TN', 'Morven': 'NC', 'Naylor': 'MO', 'Pearson': 'WI', 'Ray city': 'GA', 'Saint george': 'SC', 'Sparks': 'OK', 'Statenville': 'GA', 'Willacoochee': 'GA', 'Moody air force': 'GA', 'Zcta 316hh': 'GA', 'Zcta 316xx': 'GA', 'Bridgeboro': 'GA', 'Georgia southwes': 'GA', 'Andersonville': 'TN', 'Arabi': 'LA', 'Ashburn': 'MO', 'Attapulgus': 'GA', 'Baconton': 'GA', 'Bainbridge': 'PA', 'Barwick': 'GA', 'Blakely': 'GA', 'Brinson': 'GA', 'Bronwood': 'GA', 'Cairo': 'WV', 'Calvary': 'GA', 'Camilla': 'GA', 'Cedar springs': 'MI', 'Chula': 'MO', 'Climax': 'NC', 'Cobb': 'WI', 'Colquitt': 'GA', 'Cuthbert': 'GA', 'Damascus': 'VA', 'Graves': 'GA', 'De soto': 'TX', 'Doerun': 'GA', 'Donalsonville': 'GA', 'Edison': 'OH', 'Enigma': 'GA', 'Fitzgerald': 'GA', 'Fort gaines': 'GA', 'Fowlstown': 'GA', 'Hartsfield': 'GA', 'Zcta 31757': 'GA', 'Iron city': 'TN', 'Jakin': 'GA', 'Leary': 'TX', 'Meigs': 'GA', 'Morgan': 'UT', 'Springvale': 'ME', 'Moultrie': 'GA', 'Norman park': 'GA', 'Oakfield': 'WI', 'Ochlocknee': 'GA', 'Ocilla': 'GA', 'Omega': 'OK', 'Parrott': 'VA', 'Pavo': 'GA', 'Pelham': 'TN', 'Plains': 'TX', 'Poulan': 'GA', 'Rebecca': 'GA', 'Sale city': 'GA', 'Shellman': 'GA', 'Sumner': 'TX', 'Sylvester': 'WV', 'Abac': 'GA', 'Ty ty': 'GA', 'Warwick': 'RI', 'Whigham': 'GA', 'Wray': 'GA', 'Zcta 317hh': 'GA', 'Zcta 317xx': 'GA', 'Juniper': 'GA', 'Tazewell': 'VA', 'Cataula': 'GA', 'Ellaville': 'GA', 'Ellerslie': 'MD', 'Fortson': 'GA', 'Louvale': 'GA', 'Lumpkin': 'GA', 'Pine mountain': 'GA', 'Pine mountain va': 'GA', 'Richland': 'WA', 'Shiloh': 'TN', 'Talbotton': 'GA', 'Upatoi': 'GA', 'Waverly hall': 'GA', 'Zcta 318hh': 'GA', 'Zcta 318xx': 'GA', 'Columbus': 'WI', 'Custer terrace': 'GA', 'Zcta 319hh': 'GA', 'Zcta 319xx': 'GA', 'Aiea': 'HI', 'Anahola': 'HI', 'Captain cook': 'HI', 'Eleele': 'HI', 'Ewa beach': 'HI', 'Kapolei': 'HI', 'Haiku': 'HI', 'Hakalau': 'HI', 'Haleiwa': 'HI', 'Hana': 'HI', 'Hanalei': 'HI', 'Hanapepe': 'HI', 'Hauula': 'HI', 'Hawaii national': 'HI', 'Hawi': 'HI', 'Hilo': 'HI', 'Princeville': 'IL', 'Holualoa': 'HI', 'Honokaa': 'HI', 'Honomu': 'HI', 'Hoolehua': 'HI', 'Kaaawa': 'HI', 'Kahuku': 'HI', 'Kahului': 'HI', 'Kailua': 'HI', 'Zcta 96737': 'HI', 'Waikoloa': 'HI', 'Kailua kona': 'HI', 'Kalaheo': 'HI', 'Kalaupapa': 'HI', 'Kamuela': 'HI', 'Kaneohe': 'HI', 'Kapaa': 'HI', 'Kaumakani': 'HI', 'Kaunakakai': 'HI', 'Keaau': 'HI', 'Kealakekua': 'HI', 'Kealia': 'HI', 'Kekaha': 'HI', 'Kihei': 'HI', 'Kilauea': 'HI', 'Kapaau': 'HI', 'Koloa': 'HI', 'Kualapuu': 'HI', 'Kunia': 'HI', 'Kurtistown': 'HI', 'Lahaina': 'HI', 'Laie': 'HI', 'Lanai city': 'HI', 'Laupahoehoe': 'HI', 'Lihue': 'HI', 'Makawao': 'HI', 'Makaweli': 'HI', 'Maunaloa': 'HI', 'Naalehu': 'HI', 'Ninole': 'HI', 'Ookala': 'HI', 'Paauilo': 'HI', 'Pahala': 'HI', 'Pahoa': 'HI', 'Paia': 'HI', 'Papaaloa': 'HI', 'Papaikou': 'HI', 'Pearl city': 'IL', 'Pepeekeo': 'HI', 'Wahiawa': 'HI', 'Mililani': 'HI', 'Kula': 'HI', 'Waialua': 'HI', 'Waianae': 'HI', 'Wailuku': 'HI', 'Waimanalo': 'HI', 'Waimea': 'HI', 'Waipahu': 'HI', 'Zcta 967hh': 'HI', 'Zcta 967xx': 'HI', 'Honolulu': 'HI', 'Barbers point na': 'HI', 'Kaneohe mcas': 'HI', 'Zcta 968hh': 'HI', 'Pocatello': 'ID', 'Chubbuck': 'ID', 'Fort hall': 'ID', 'American falls': 'ID', 'Arbon': 'ID', 'Arco': 'MN', 'Arimo': 'ID', 'Atomic city': 'ID', 'Bancroft': 'WI', 'Bern': 'KS', 'Blackfoot': 'ID', 'Challis': 'ID', 'Dayton': 'WY', 'Ellis': 'KS', 'Firth': 'NE', 'Grace': 'MS', 'Howe': 'TX', 'Inkom': 'ID', 'Lava hot springs': 'ID', 'Mc cammon': 'ID', 'Mackay': 'ID', 'Malad city': 'ID', 'Montpelier': 'VA', 'Moore': 'TX', 'Pingree': 'ID', 'Shelley': 'ID', 'Stanley': 'WI', 'Swanlake': 'ID', 'Wayan': 'ID', 'Fish haven': 'ID', 'Zcta 832hh': 'ID', 'Zcta 832xx': 'ID', 'Twin falls': 'ID', 'Rogerson': 'ID', 'Almo': 'KY', 'Bellevue': 'WA', 'Bliss': 'NY', 'Burley': 'ID', 'Carey': 'OH', 'Castleford': 'ID', 'Corral': 'ID', 'Declo': 'ID', 'Dietrich': 'ID', 'Filer': 'ID', 'Gooding': 'ID', 'Hagerman': 'NM', 'Hailey': 'ID', 'Hansen': 'ID', 'Hazelton': 'ND', 'Heyburn': 'ID', 'Obsidian': 'ID', 'Naf': 'ID', 'Murtaugh': 'ID', 'Paul': 'ID', 'Picabo': 'ID', 'Richfield': 'WI', 'Acequia': 'ID', 'Elk horn': 'KY', 'Wendell': 'NC', 'Zcta 833hh': 'ID', 'Zcta 833xx': 'ID', 'Ammon': 'VA', 'Idaho falls': 'ID', 'Ashton': 'WV', 'Driggs': 'ID', 'Dubois': 'WY', 'Felt': 'OK', 'Hamer': 'ID', 'Iona': 'SD', 'Irwin': 'OH', 'Island park': 'NY', 'Macks inn': 'ID', 'Menan': 'ID', 'Monteview': 'ID', 'Newdale': 'ID', 'Rexburg': 'ID', 'Rigby': 'ID', 'Ririe': 'ID', 'Roberts': 'WI', 'Saint anthony': 'ND', 'Spencer': 'WI', 'Swan valley': 'ID', 'Terreton': 'ID', 'Teton': 'ID', 'Tetonia': 'ID', 'Carmen': 'OK', 'Gibbonsville': 'ID', 'Leadore': 'ID', 'Lemhi': 'ID', 'Salmon': 'ID', 'Tendoy': 'ID', 'Shoup': 'ID', 'Zcta 834hh': 'ID', 'Zcta 834xx': 'ID', 'South gate plaza': 'ID', 'Ahsahka': 'ID', 'Craigmont': 'ID', 'Culdesac': 'ID', 'Ferdinand': 'IN', 'Grangeville': 'ID', 'Greencreek': 'ID', 'Juliaetta': 'ID', 'Kamiah': 'ID', 'Kendrick': 'OK', 'Clearwater': 'SC', 'Lapwai': 'ID', 'Lenore': 'WV', 'Lucile': 'ID', 'Nezperce': 'ID', 'Orofino': 'ID', 'Peck': 'MI', 'Pollock': 'SD', 'Reubens': 'ID', 'Riggins': 'ID', 'Stites': 'ID', 'Weippe': 'ID', 'White bird': 'ID', 'Zcta 835hh': 'ID', 'Zcta 835xx': 'ID', 'Grasmere': 'ID', 'Zcta 83607': 'ID', 'Cambridge': 'WI', 'West mountain': 'ID', 'Council': 'VA', 'Donnelly': 'MN', 'Montour': 'IA', 'Fruitland': 'WA', 'Glenns ferry': 'ID', 'Grand view': 'WI', 'Greenleaf': 'WI', 'Hammett': 'ID', 'Homedale': 'ID', 'Idaho city': 'ID', 'Indian valley': 'VA', 'King hill': 'ID', 'Kuna': 'ID', 'Lowman': 'NY', 'Mc call': 'ID', 'Marsing': 'ID', 'Melba': 'ID', 'Middleton': 'WI', 'Midvale': 'UT', 'Mountain home a': 'ID', 'Oreana': 'IL', 'Nampa': 'ID', 'New meadows': 'ID', 'New plymouth': 'OH', 'Notus': 'ID', 'Parma': 'OH', 'Payette': 'ID', 'Star': 'NC', 'Sweet': 'ID', 'Weiser': 'ID', 'Wilder': 'VT', 'Yellow pine': 'ID', 'Zcta 836hh': 'ID', 'Zcta 836xx': 'ID', 'Boise': 'ID', 'Zcta 83713': 'ID', 'Zcta 837hh': 'ID', 'Zcta 837xx': 'ID', 'Athol': 'SD', 'Bayview': 'TX', 'Blanchard': 'PA', 'Bonners ferry': 'ID', 'Bovill': 'ID', 'Calder': 'ID', 'Careywood': 'ID', 'Cataldo': 'ID', 'Clark fork': 'ID', 'Clarkia': 'ID', 'Cocolalla': 'ID', 'Coeur d alene': 'ID', 'Coolin': 'ID', 'Deary': 'ID', 'Desmet': 'ID', 'Eastport': 'NY', 'Elk river': 'MN', 'Fernwood': 'MS', 'Genesee': 'PA', 'Harvard': 'NE', 'Hayden lake': 'ID', 'Kellogg': 'IA', 'Laclede': 'MO', 'Medimont': 'ID', 'Moyie springs': 'ID', 'Mullan': 'ID', 'Naples': 'TX', 'Nordman': 'ID', 'Osburn': 'ID', 'Plummer': 'MN', 'Ponderay': 'ID', 'Porthill': 'ID', 'Post falls': 'ID', 'Potlatch': 'ID', 'Priest river': 'ID', 'Rathdrum': 'ID', 'Sagle': 'ID', 'Saint maries': 'ID', 'Sandpoint': 'ID', 'Santa': 'ID', 'Smelterville': 'ID', 'Spirit lake': 'IA', 'Tensed': 'ID', 'Murray': 'UT', 'Worley': 'ID', 'Zcta 838hh': 'ID', 'Zcta 838xx': 'ID', 'Arlington height': 'IL', 'Elk grove villag': 'IL', 'Rolling meadows': 'IL', 'Barrington': 'RI', 'Crystal lake': 'IA', 'Cary': 'NC', 'Deerfield': 'WI', 'Des plaines': 'IL', 'Rosemont': 'WV', 'Fox lake': 'WI', 'Fox river grove': 'IL', 'Glenview': 'IL', 'Golf': 'IL', 'Gages lake': 'IL', 'Gurnee': 'IL', 'Highland park': 'NJ', 'Fort sheridan': 'IL', 'Highwood': 'MT', 'Ingleside': 'TX', 'Island lake': 'IL', 'Kenilworth': 'UT', 'Lake bluff': 'IL', 'Lindenhurst': 'NY', 'Long grove': 'IA', 'Libertyville': 'IA', 'Mc henry': 'MS', 'Morton grove': 'IL', 'Mount prospect': 'IL', 'Mundelein': 'IL', 'Vernon hills': 'IL', 'Northbrook': 'IL', 'Abbott park': 'IL', 'Palatine': 'IL', 'Park ridge': 'NJ', 'Prairie view': 'TX', 'Prospect heights': 'IL', 'Ringwood': 'OK', 'Round lake': 'NY', 'Skokie': 'IL', 'Spring grove': 'VA', 'Wadsworth': 'TX', 'Wauconda': 'WA', 'Mc gaw park': 'IL', 'Waukegan': 'IL', 'Great lakes': 'IL', 'Buffalo grove': 'IL', 'Wheeling': 'MO', 'Wilmette': 'IL', 'Winthrop harbor': 'IL', 'Wonder lake': 'IL', 'Zcta 600hh': 'IL', 'Lake in the hill': 'IL', 'Hanover park': 'IL', 'Bensenville': 'IL', 'Streamwood': 'IL', 'Carpentersville': 'IL', 'Clare': 'MI', 'Cortland': 'OH', 'De kalb': 'TX', 'Elburn': 'IL', 'Elmhurst': 'IL', 'Esmond': 'IL', 'Forest park': 'IL', 'Franklin park': 'NJ', 'Gilberts': 'IL', 'Glen ellyn': 'IL', 'Glendale heights': 'IL', 'Hampshire': 'TN', 'Hines': 'OR', 'Huntley': 'WY', 'Itasca': 'TX', 'Lombard': 'IL', 'Malta': 'OH', 'Maple park': 'IL', 'Marengo': 'WI', 'Broadview': 'NM', 'Westchester': 'IL', 'Mellon financial': 'IL', 'Medinah': 'IL', 'Melrose park': 'IL', 'Hillside': 'NJ', 'Northlake': 'IL', 'Stone park': 'IL', 'River grove': 'IL', 'Roselle': 'NJ', 'Schaumburg': 'IL', 'Schiller park': 'IL', 'South elgin': 'IL', 'Union': 'WV', 'Villa park': 'IL', 'Wayne': 'WV', 'West chicago': 'IL', 'Wheaton': 'MO', 'Carol stream': 'IL', 'Wood dale': 'IL', 'Hoffman estates': 'IL', 'Zcta 601hh': 'IL', 'Evanston': 'WY', 'River forest': 'IL', 'Beecher': 'IL', 'Stickney': 'SD', 'Blue island': 'IL', 'Braceville': 'IL', 'Braidwood': 'IL', 'Calumet city': 'IL', 'Channahon': 'IL', 'Sauk village': 'IL', 'Chicago ridge': 'IL', 'Coal city': 'IN', 'Crete': 'ND', 'Dolton': 'SD', 'Dwight': 'ND', 'Elwood': 'NY', 'Flossmoor': 'IL', 'Frankfort': 'SD', 'Gardner': 'ND', 'Markham': 'VA', 'Hazel crest': 'IL', 'Joliet': 'IL', 'Shorewood': 'WI', 'Rockdale': 'TX', 'Kinsman': 'OH', 'Lansing': 'WV', 'Argonne': 'IL', 'Bolingbrook': 'IL', 'Romeoville': 'IL', 'Manhattan': 'NV', 'Matteson': 'IL', 'Mazon': 'IL', 'Crestwood': 'KY', 'Minooka': 'IL', 'Mokena': 'IL', 'Monee': 'IL', 'New lenox': 'IL', 'Oak forest': 'IL', 'Oak lawn': 'IL', 'Bridgeview': 'IL', 'Hometown': 'WV', 'Hickory hills': 'IL', 'Justice': 'WV', 'Odell': 'TX', 'Olympia fields': 'IL', 'Orland park': 'IL', 'Palos heights': 'IL', 'Palos park': 'IL', 'Palos hills': 'IL', 'University park': 'PA', 'Zcta 60467': 'IL', 'Peotone': 'IL', 'Posen': 'MI', 'Ransom': 'PA', 'Richton park': 'IL', 'South holland': 'IL', 'South wilmington': 'IL', 'Steger': 'IL', 'Tinley park': 'IL', 'Country club hil': 'IL', 'Verona': 'WI', 'Custer park': 'IL', 'Worth': 'MO', 'Zcta 60490': 'IL', 'Zcta 604hh': 'IL', 'Argo': 'KY', 'Batavia': 'OH', 'Big rock': 'TN', 'Clarendon hills': 'IL', 'Downers grove': 'IL', 'Woodridge': 'NY', 'Earlville': 'PA', 'Eola': 'TX', 'Hinckley': 'UT', 'Oak brook': 'IL', 'Zcta 60523': 'IL', 'Hodgkins': 'IL', 'World of beauty': 'IL', 'Leland': 'NC', 'Lisle': 'NY', 'Millington': 'TN', 'Mooseheart': 'IL', 'Naperville': 'IL', 'North aurora': 'IL', 'Oswego': 'SC', 'Plano': 'TX', 'North riverside': 'IL', 'Sandwich': 'MA', 'Serena': 'IL', 'Shabbona': 'IL', 'Somonauk': 'IL', 'Steward': 'IL', 'Sugar grove': 'WV', 'Waterman': 'IL', 'Wedron': 'IL', 'Western springs': 'IL', 'Westmont': 'IL', 'Zcta 605hh': 'IL', 'Chicago': 'IL', 'Burnham': 'PA', 'Norridge': 'IL', 'Bedford park': 'IL', 'Calumet park': 'IL', 'Lincolnwood': 'IL', 'Merrionette park': 'IL', 'Harwood heights': 'IL', 'Zcta 606hh': 'IL', 'Zcta 60706': 'IL', 'Zcta 60707': 'IL', 'Zcta 60712': 'IL', 'Niles': 'OH', 'Zcta 60803': 'IL', 'Zcta 60804': 'IL', 'Zcta 60805': 'IL', 'Zcta 60827': 'IL', 'Zcta 608hh': 'IL', 'Kankakee': 'IL', 'Aroma park': 'IL', 'Ashkum': 'IL', 'Beaverville': 'IL', 'Bonfield': 'IL', 'Bourbonnais': 'IL', 'Buckingham': 'VA', 'Buckley': 'WA', 'Cabery': 'IL', 'Campus': 'IL', 'Chebanse': 'IL', 'Cissna park': 'IL', 'Claytonville': 'IL', 'Cullom': 'IL', 'Danforth': 'ME', 'Donovan': 'IL', 'East lynn': 'WV', 'Elliott': 'SC', 'Emington': 'IL', 'Gibson city': 'IL', 'Grant park': 'IL', 'Herscher': 'IL', 'Hoopeston': 'IL', 'Iroquois': 'SD', 'Kempton': 'PA', 'Loda': 'IL', 'Manteno': 'IL', 'Martinton': 'IL', 'Melvin': 'TX', 'Momence': 'IL', 'Onarga': 'IL', 'Paxton': 'NE', 'Piper city': 'IL', 'Rankin': 'TX', 'Saint anne': 'IL', 'Sheldon': 'WI', 'Stockland': 'IL', 'Thawville': 'IL', 'Union hill': 'IL', 'Watseka': 'IL', 'Zcta 609hh': 'IL', 'Apple river': 'IL', 'Baileyville': 'KS', 'Belvidere': 'TN', 'Caledonia': 'WI', 'Capron': 'VA', 'Chadwick': 'MO', 'Chana': 'IL', 'Dakota': 'MN', 'Davis junction': 'IL', 'Dixon': 'WY', 'Durand': 'WI', 'East dubuque': 'IL', 'Forreston': 'TX', 'Franklin grove': 'IL', 'Garden prairie': 'IL', 'German valley': 'IL', 'Harmon': 'OK', 'Lanark': 'IL', 'Egan': 'SD', 'Lena': 'MS', 'Lindenwood': 'IL', 'Mc connell': 'WV', 'Monroe center': 'IL', 'Mount carroll': 'IL', 'Mount morris': 'MI', 'Nachusa': 'IL', 'Nora': 'VA', 'Orangeville': 'UT', 'Oregon': 'WI', 'Pecatonica': 'IL', 'Polo': 'MO', 'Ridott': 'IL', 'Rock city': 'IL', 'Rock falls': 'IL', 'Rockton': 'PA', 'Roscoe': 'TX', 'Savanna': 'OK', 'Scales mound': 'IL', 'Shannon': 'NC', 'South beloit': 'IL', 'Stillman valley': 'IL', 'Winnebago': 'WI', 'Woosung': 'IL', 'Zcta 610hh': 'IL', 'Loves park': 'IL', 'Machesney park': 'IL', 'Zcta 611hh': 'IL', 'Rock island': 'WA', 'Aledo': 'TX', 'Annawan': 'IL', 'Atkinson': 'NC', 'Carbon cliff': 'IL', 'Coal valley': 'IL', 'Green rock': 'IL', 'Deer grove': 'IL', 'East moline': 'IL', 'Fenton': 'MO', 'Geneseo': 'ND', 'Hillsdale': 'WY', 'Illinois city': 'IL', 'Joy': 'IL', 'Lyndon': 'KY', 'Lynn center': 'IL', 'Matherville': 'MS', 'Moline': 'MI', 'New boston': 'OH', 'Orion': 'MI', 'Osco': 'IL', 'Port byron': 'NY', 'Preemption': 'IL', 'Prophetstown': 'IL', 'Sherrard': 'IL', 'Silvis': 'IL', 'Tampico': 'IL', 'Taylor ridge': 'IL', 'Zcta 612hh': 'IL', 'Ancona': 'IL', 'Blackstone': 'VA', 'Buda': 'TX', 'Bureau': 'IL', 'Cedar point': 'IL', 'Cherry': 'IL', 'Manville': 'WY', 'Dalzell': 'SC', 'Dana': 'KY', 'Depue': 'IL', 'Eldena': 'IL', 'Granville': 'WV', 'Hennepin': 'IL', 'Kasbeer': 'IL', 'Ladd': 'IL', 'La moille': 'IL', 'Lee center': 'NY', 'Leonore': 'IL', 'Long point': 'IL', 'Lostant': 'IL', 'Mc nabb': 'IL', 'Malden': 'WV', 'Manlius': 'NY', 'Mark': 'IL', 'Marseilles': 'IL', 'Neponset': 'IL', 'New bedford': 'PA', 'Oglesby': 'TX', 'Ohio': 'IL', 'Ottawa': 'WV', 'Paw paw': 'WV', 'Peru': 'VT', 'Rutland': 'VT', 'Seatonville': 'IL', 'Seneca': 'WI', 'Standard': 'IL', 'Streator': 'IL', 'Sublette': 'KS', 'Tiskilwa': 'IL', 'Toluca': 'IL', 'Tonica': 'IL', 'Troy grove': 'IL', 'Utica': 'SD', 'Van orin': 'IL', 'Varna': 'IL', 'Normandy': 'TN', 'Wenona': 'IL', 'West brooklyn': 'IL', 'Wyanet': 'IL', 'Zcta 613hh': 'IL', 'Galesburg': 'ND', 'Abingdon': 'VA', 'Adair': 'OK', 'Alexis': 'NC', 'Alpha': 'OH', 'Altona': 'NY', 'Bardolph': 'IL', 'Berwick': 'PA', 'Biggsville': 'IL', 'Bishop hill': 'IL', 'Blandinsville': 'IL', 'Camp grove': 'IL', 'Carman': 'IL', 'Castleton': 'VA', 'Dahinda': 'IL', 'East galesburg': 'IL', 'Ellisville': 'MS', 'Fairview': 'WY', 'Galva': 'KS', 'Gerlaw': 'IL', 'Gilson': 'IL', 'Gladstone': 'VA', 'Ipava': 'IL', 'Keithsburg': 'IL', 'Kewanee': 'MO', 'La harpe': 'KS', 'Laura': 'OH', 'Little york': 'IN', 'Lomax': 'IL', 'Macomb': 'OK', 'Maquon': 'IL', 'Media': 'IL', 'Monmouth': 'OR', 'New windsor': 'NY', 'North henderson': 'IL', 'Opheim': 'MT', 'Oquawka': 'IL', 'Prairie city': 'SD', 'Raritan': 'NJ', 'Rio': 'WI', 'Sciota': 'PA', 'Seaton': 'IL', 'Smithfield': 'WV', 'Smithshire': 'IL', 'Speer': 'IL', 'Stronghurst': 'IL', 'Table grove': 'IL', 'Toulon': 'IL', 'Vermont': 'IL', 'Victoria': 'VA', 'Wataga': 'IL', 'Williamsfield': 'OH', 'Woodhull': 'NY', 'Wyoming': 'WV', 'Zcta 614hh': 'IL', 'Astoria': 'SD', 'Brimfield': 'MA', 'Chillicothe': 'TX', 'Dunfermline': 'IL', 'Edelstein': 'IL', 'Elmwood': 'WI', 'Middlegrove': 'IL', 'Glasford': 'IL', 'Hanna city': 'IL', 'Henry': 'VA', 'Kingston mines': 'IL', 'Lacon': 'IL', 'La rose': 'IL', 'Lewistown': 'PA', 'Liverpool': 'TX', 'London mills': 'IL', 'Cazenovia': 'WI', 'Manito': 'IL', 'Mapleton': 'UT', 'Metamora': 'OH', 'Morton': 'WA', 'Mossville': 'IL', 'Pekin': 'ND', 'Roanoke': 'VA', 'South pekin': 'IL', 'Sparland': 'IL', 'Topeka': 'KS', 'Tremont': 'MS', 'Trivoli': 'IL', 'Washburn': 'WI', 'Sunnyland': 'IL', 'Yates city': 'IL', 'Zcta 615hh': 'IL', 'Peoria heights': 'IL', 'Bartonville': 'IL', 'Zcta 61610': 'IL', 'East peoria': 'IL', 'Zcta 616hh': 'IL', 'Anchor': 'IL', 'Armington': 'IL', 'Arrowsmith': 'IL', 'Carlock': 'IL', 'Chenoa': 'IL', 'Colfax': 'WI', 'Congerville': 'IL', 'Cooksville': 'MD', 'Cropsey': 'IL', 'Danvers': 'MN', 'Deer creek': 'OK', 'Delavan': 'WI', 'Dewitt': 'VA', 'Holder': 'IL', 'Ellsworth': 'WI', 'Fairbury': 'NE', 'Flanagan': 'IL', 'Forrest': 'IL', 'Goodfield': 'IL', 'Graymont': 'IL', 'Heyworth': 'IL', 'Hopedale': 'OH', 'Kenney': 'IL', 'Lane': 'SD', 'Le roy': 'NY', 'Mc lean': 'VA', 'Mackinaw': 'IL', 'Maroa': 'IL', 'Merna': 'NE', 'Minier': 'IL', 'Minonk': 'IL', 'Normal': 'IL', 'Pontiac': 'MO', 'Saunemin': 'IL', 'Saybrook': 'IL', 'Secor': 'IL', 'Sibley': 'ND', 'Strawn': 'TX', 'Towanda': 'PA', 'Wapella': 'IL', 'Zcta 617hh': 'IL', 'Urbana': 'OH', 'Zcta 61802': 'IL', 'Allerton': 'IA', 'Alvin': 'WI', 'Armstrong': 'TX', 'Bement': 'IL', 'Bondville': 'VT', 'Broadlands': 'IL', 'Catlin': 'IL', 'Cerro gordo': 'NC', 'Champaign': 'IL', 'Collison': 'IL', 'Tilton': 'NH', 'De land': 'IL', 'Farmer city': 'IL', 'Fithian': 'IL', 'Foosland': 'IL', 'Gifford': 'WA', 'Henning': 'MN', 'Indianola': 'WA', 'Ivesdale': 'IL', 'Longview': 'WA', 'Mahomet': 'IL', 'Milmine': 'IL', 'Muncie': 'IN', 'Penfield': 'PA', 'Pesotum': 'IL', 'Potomac': 'MD', 'Rantoul': 'KS', 'Ridge farm': 'IL', 'Sadorus': 'IL', 'Saint joseph': 'WI', 'Savoy': 'TX', 'Sidell': 'IL', 'Thomasboro': 'IL', 'Tolono': 'IL', 'White heath': 'IL', 'Zcta 618hh': 'IL', 'Arcola': 'MO', 'Arthur': 'ND', 'Ashmore': 'IL', 'Brocton': 'NY', 'Camargo': 'OK', 'Chrisman': 'IL', 'Dalton city': 'IL', 'Gays': 'IL', 'Hammond': 'WI', 'Hindsboro': 'IL', 'Humboldt': 'TN', 'Kansas': 'OK', 'La place': 'LA', 'Lovington': 'NM', 'Mattoon': 'IL', 'Metcalf': 'IL', 'Murdock': 'NE', 'Redmon': 'IL', 'Sullivan': 'WI', 'Tuscola': 'TX', 'Zcta 619hh': 'IL', 'Alton': 'VA', 'Batchtown': 'IL', 'Benld': 'IL', 'Bethalto': 'IL', 'Bingham': 'NE', 'Brighton': 'TN', 'Meppen': 'IL', 'Bunker hill': 'WV', 'Coffeen': 'IL', 'Cottage hills': 'IL', 'Donnellson': 'IA', 'Dorsey': 'IL', 'Dow': 'IL', 'Eagarville': 'IL', 'East alton': 'IL', 'Edwardsville': 'IL', 'Eldred': 'PA', 'Elsah': 'IL', 'Fidelity': 'IL', 'Fieldon': 'IL', 'Fillmore': 'UT', 'Dorchester': 'WI', 'Glen carbon': 'IL', 'Godfrey': 'IL', 'Golden eagle': 'IL', 'Grafton': 'WI', 'Hamel': 'MN', 'Hardin': 'TX', 'Hillview': 'IL', 'Irving': 'TX', 'Jerseyville': 'IL', 'Kampsville': 'IL', 'Kane': 'PA', 'Marine': 'IL', 'Maryville': 'TN', 'Medora': 'ND', 'Michael': 'IL', 'Mozier': 'IL', 'New douglas': 'IL', 'Panama': 'OK', 'Piasa': 'IL', 'Ramsey': 'NJ', 'Rockbridge': 'OH', 'Roodhouse': 'IL', 'Rosamond': 'IL', 'Roxana': 'IL', 'Sorento': 'IL', 'South roxana': 'IL', 'Staunton': 'IN', 'Taylor springs': 'IL', 'Walshville': 'IL', 'White hall': 'MD', 'Witt': 'IL', 'Wood river': 'NE', 'Worden': 'MT', 'Zcta 620hh': 'IL', 'Sauget': 'IL', 'East saint louis': 'IL', 'Washington park': 'IL', 'Cahokia': 'IL', 'Alorton': 'IL', 'Fairview heights': 'IL', 'Venedy': 'IL', 'Albers': 'IL', 'Aviston': 'IL', 'Bartelso': 'IL', 'Beckemeyer': 'IL', 'Scott a f b': 'IL', 'Zcta 62226': 'IL', 'Breese': 'IL', 'Carlyle': 'KS', 'Caseyville': 'IL', 'Swanwick': 'IL', 'Dupo': 'IL', 'East carondelet': 'IL', 'Ellis grove': 'IL', 'Freeburg': 'PA', 'Fults': 'IL', 'Germantown': 'WI', 'Highland': 'WI', 'Hoffman': 'OK', 'Keyesport': 'IL', 'Lenzburg': 'IL', 'Marissa': 'IL', 'Mascoutah': 'IL', 'Millstadt': 'IL', 'Modoc': 'SC', 'Mulberry grove': 'IL', 'New athens': 'OH', 'New baden': 'TX', 'New memphis': 'IL', 'Okawville': 'IL', 'Percy': 'MS', 'Pierron': 'IL', 'Pinckneyville': 'IL', 'Prairie du roche': 'IL', 'Red bud': 'IL', 'Renault': 'IL', 'Rockwood': 'TX', 'Saint jacob': 'IL', 'Shattuc': 'IL', 'Smithboro': 'IL', 'Smithton': 'MO', 'Sparta': 'WI', 'Steeleville': 'IL', 'Tilden': 'TX', 'Valmeyer': 'IL', 'Zcta 622hh': 'IL', 'Barry': 'TX', 'Basco': 'IL', 'Baylis': 'IL', 'Bowen': 'IL', 'Burnside': 'PA', 'Camp point': 'IL', 'Chambersburg': 'PA', 'Coatsburg': 'IL', 'Pontoosuc': 'IL', 'Elvaston': 'IL', 'Ferris': 'TX', 'Griggsville': 'IL', 'Kinderhook': 'NY', 'La prairie': 'MN', 'Liberty': 'WV', 'Lima': 'OH', 'Loraine': 'TX', 'Mendon': 'UT', 'Mount sterling': 'WI', 'Nebo': 'WV', 'New canton': 'VA', 'New salem': 'PA', 'Niota': 'TN', 'Paloma': 'IL', 'Pearl': 'MS', 'Pittsfield': 'VT', 'Colmar': 'PA', 'Rockport': 'WV', 'Tennessee': 'IL', 'Timewell': 'IL', 'Ursa': 'IL', 'Versailles': 'OH', 'Warsaw': 'OH', 'Zcta 623hh': 'IL', 'Effingham': 'SC', 'Allendale': 'SC', 'Altamont': 'UT', 'Beecher city': 'IL', 'Brownstown': 'PA', 'Casey': 'IA', 'Cowden': 'IL', 'Dennison': 'OH', 'Dieterich': 'IL', 'Dundas': 'VA', 'Hazel dell': 'WA', 'Herrick': 'SD', 'Hidalgo': 'TX', 'Hutsonville': 'IL', 'Ingraham': 'IL', 'Jewett': 'TX', 'Lawrenceville': 'PA', 'Lerna': 'IL', 'Martinsville': 'VA', 'Mason': 'WV', 'Mode': 'IL', 'Mount erie': 'IL', 'Neoga': 'IL', 'Oblong': 'IL', 'Olney': 'TX', 'Parkersburg': 'WV', 'Robinson': 'PA', 'Saint elmo': 'IL', 'Sainte marie': 'IL', 'Saint francisvil': 'IL', 'Shumway': 'IL', 'Sigel': 'PA', 'Stewardson': 'IL', 'Teutopolis': 'IL', 'Toledo': 'WA', 'Trilla': 'IL', 'Vandalia': 'OH', 'Westfield': 'WI', 'West liberty': 'WV', 'West salem': 'WI', 'West union': 'WV', 'West york': 'PA', 'Wheeler': 'WI', 'Willow hill': 'PA', 'Yale': 'VA', 'Zcta 624hh': 'IL', 'Newburg': 'WV', 'Assumption': 'IL', 'Beason': 'IL', 'Blue mound': 'KS', 'Boody': 'IL', 'Buffalo hart': 'IL', 'Bulpitt': 'IL', 'Chestnut': 'LA', 'Cornland': 'IL', 'Bearsdale': 'IL', 'Cimic': 'IL', 'Edinburg': 'VA', 'Elwin': 'IL', 'Glenarm': 'IL', 'Harristown': 'IL', 'Harvel': 'IL', 'Illiopolis': 'IL', 'Kincaid': 'WV', 'Lake fork': 'IL', 'Latham': 'OH', 'Bolivia': 'NC', 'Morrisonville': 'WI', 'Mount auburn': 'IA', 'Mount pulaski': 'IL', 'Hervey city': 'IL', 'Radford': 'VA', 'Casner': 'IL', 'Owaneco': 'IL', 'Clarksdale': 'MO', 'Dunkel': 'IL', 'Sicily': 'IL', 'Spaulding': 'IL', 'Hewittsville': 'IL', 'Tovey': 'IL', 'Dollville': 'IL', 'Waggoner': 'IL', 'Heman': 'IL', 'Zcta 625hh': 'IL', 'Alsey': 'IL', 'Arenzville': 'IL', 'Newmansville': 'IL', 'Fancy prairie': 'IL', 'Lynchburg': 'VA', 'Beardstown': 'IL', 'Bader': 'IL', 'Cantrall': 'IL', 'Panther creek': 'IL', 'Chapin': 'SC', 'Chatham': 'VA', 'Hagaman': 'NY', 'Broadwell': 'IL', 'Emden': 'MO', 'Mcvey': 'IL', 'Hubly': 'IL', 'Hartsburg': 'MO', 'Eckard': 'IL', 'Hettick': 'IL', 'Kilbourne': 'OH', 'Loami': 'IL', 'Luther': 'OK', 'Nortonville': 'ND', 'Bates': 'OR', 'New holland': 'SD', 'Nilwood': 'IL', 'Oakford': 'IL', 'Barr': 'IL', 'Atterbury': 'IL', 'Farmingdale': 'NJ', 'Layton': 'UT', 'Allen': 'TX', 'Barclay': 'MD', 'Royal lakes': 'IL', 'South standard': 'IL', 'Tallula': 'IL', 'Thayer': 'MO', 'Virden': 'IL', 'Little indian': 'IL', 'Williamsville': 'VT', 'Glasgow': 'WV', 'Zcta 626hh': 'IL', 'Grandview': 'WA', 'Southern view': 'IL', 'Andrew': 'IA', 'Zcta 627hh': 'IL', 'Centralia': 'WA', 'Hoyleton': 'IL', 'Ashley': 'PA', 'Barnhill': 'IL', 'Belle rive': 'IL', 'Bellmont': 'IL', 'Bluford': 'IL', 'Bone gap': 'IL', 'Bonnie': 'IL', 'Broughton': 'IL', 'Browns': 'IL', 'Burnt prairie': 'IL', 'Carmi': 'IL', 'Christopher': 'IL', 'Cisne': 'IL', 'Clay city': 'IN', 'Coello': 'IL', 'Dahlgren': 'VA', 'Dale': 'TX', 'Dix': 'NE', 'Du bois': 'PA', 'Du quoin': 'IL', 'Ellery': 'IL', 'Ewing': 'VA', 'Farina': 'IL', 'Flora': 'ND', 'Geff': 'IL', 'Golden gate': 'IL', 'Grayville': 'IL', 'Ina': 'IL', 'Iuka': 'MS', 'Johnsonville': 'SC', 'Keenes': 'IL', 'Keensburg': 'IL', 'Kell': 'IL', 'Kinmundy': 'IL', 'Loogootee': 'IN', 'Bible grove': 'IL', 'Mc leansboro': 'IL', 'Macedonia': 'OH', 'Maunie': 'IL', 'Mill shoals': 'IL', 'Mount carmel': 'UT', 'Mulkeytown': 'IL', 'Noble': 'OK', 'Norris city': 'IL', 'Odin': 'MN', 'Opdyke': 'IL', 'Orient': 'WA', 'Patoka': 'IN', 'Radom': 'IL', 'Richview': 'IL', 'Rinard': 'IL', 'Sailor springs': 'IL', 'Saint peter': 'MN', 'Sandoval': 'IL', 'Scheller': 'IL', 'Sesser': 'IL', 'Shobonier': 'IL', 'Springerton': 'IL', 'Tamaroa': 'IL', 'Texico': 'NM', 'Thompsonville': 'NY', 'Valier': 'PA', 'Waltonville': 'IL', 'Wayne city': 'IL', 'West frankfort': 'IL', 'Whittington': 'IL', 'Woodlawn': 'VA', 'Xenia': 'OH', 'Zcta 628hh': 'IL', 'Zcta 628xx': 'IL', 'Carbondale': 'KS', 'Alto pass': 'IL', 'Anna': 'TX', 'Ava': 'NY', 'Belknap': 'IL', 'New liberty': 'KY', 'Buncombe': 'IL', 'Campbell hill': 'IL', 'Carrier mills': 'IL', 'Carterville': 'MO', 'Cave in rock': 'IL', 'Cobden': 'IL', 'Colp': 'IL', 'Creal springs': 'IL', 'Dongola': 'IL', 'Dowell': 'MD', 'Eddyville': 'OR', 'Eldorado': 'WI', 'Elizabethtown': 'PA', 'Elkville': 'IL', 'Energy': 'TX', 'Galatia': 'KS', 'Brownfield': 'TX', 'Goreville': 'IL', 'Gorham': 'ND', 'Grand chain': 'IL', 'Grand tower': 'IL', 'Grantsburg': 'IN', 'Herod': 'IL', 'Herrin': 'IL', 'Hurst': 'TX', 'Jacob': 'IL', 'Johnston city': 'IL', 'Junction': 'UT', 'Karnak': 'IL', 'Mc clure': 'VA', 'Makanda': 'IL', 'Metropolis': 'IL', 'Miller city': 'IL', 'Mound city': 'SD', 'Mounds': 'OK', 'Murphysboro': 'IL', 'New burnside': 'IL', 'Olive branch': 'MS', 'Olmsted': 'IL', 'Pittsburg': 'TX', 'Pulaski': 'WI', 'Raleigh': 'ND', 'Rosiclare': 'IL', 'Royalton': 'MN', 'Shawneetown': 'IL', 'Robbs': 'IL', 'Stonefort': 'IL', 'Tamms': 'IL', 'Gale': 'IL', 'Ullin': 'IL', 'Unity': 'WI', 'Vergennes': 'VT', 'Villa ridge': 'MO', 'Willisville': 'IL', 'Wolf lake': 'IL', 'Zeigler': 'IL', 'Zcta 629hh': 'IL', 'Chesterfield': 'VA', 'Cicero': 'NY', 'Fishers': 'IN', 'Forest': 'VA', 'Fortville': 'IN', 'Hillisburg': 'IN', 'Frankton': 'IN', 'Goldsmith': 'TX', 'Hobbs': 'NM', 'Kirklin': 'IN', 'Lapel': 'IN', 'Mc cordsville': 'IN', 'Markleville': 'IN', 'Michigantown': 'IN', 'Noblesville': 'IN', 'Orestes': 'IN', 'Pendleton': 'SC', 'Sharpsville': 'PA', 'Summitville': 'OH', 'Thorntown': 'IN', 'Whitestown': 'IN', 'Windfall': 'IN', 'Zionsville': 'PA', 'Zcta 460hh': 'IN', 'Advance': 'NC', 'Amo': 'IN', 'Bargersville': 'IN', 'Boggstown': 'IN', 'Brownsburg': 'VA', 'Camby': 'IN', 'Charlottesville': 'VA', 'Coatesville': 'PA', 'Zcta 46123': 'IN', 'Edinburgh': 'IN', 'Eminence': 'MO', 'Fairland': 'OK', 'Falmouth': 'VA', 'Fountaintown': 'IN', 'Greencastle': 'PA', 'Gwynneville': 'IN', 'Knightstown': 'IN', 'Lizton': 'IN', 'Manilla': 'IA', 'Mays': 'IN', 'Milroy': 'PA', 'Morgantown': 'PA', 'New palestine': 'IN', 'Nineveh': 'PA', 'North salem': 'NY', 'Paragon': 'IN', 'Pittsboro': 'NC', 'Reelsville': 'IN', 'Roachdale': 'IN', 'Rushville': 'PA', 'Shelbyville': 'TX', 'Stilesville': 'IN', 'Trafalgar': 'IN', 'New whiteland': 'IN', 'Wilkinson': 'WV', 'Zcta 461hh': 'IN', 'Indianapolis': 'IN', 'Eagle creek': 'OR', 'Fort benjamin ha': 'IN', 'Speedway': 'IN', 'Lawrence': 'PA', 'Zcta 46228': 'IN', 'Cumberland': 'WI', 'Zcta 46235': 'IN', 'Oaklandon': 'IN', 'Wanamaker': 'IN', 'Park fletcher': 'IN', 'New augusta': 'MS', 'Zcta 462hh': 'IN', 'Beverly shores': 'IN', 'East cedar lake': 'IN', 'Porter': 'TX', 'Crown point': 'NY', 'Demotte': 'IN', 'East chicago': 'IN', 'Griffith': 'IN', 'Munster': 'IN', 'Hanna': 'WY', 'Hobart': 'WA', 'Kingsbury': 'TX', 'Kingsford height': 'IN', 'Kouts': 'IN', 'Michigan city': 'MS', 'North judson': 'IN', 'Portage': 'WI', 'Rolling prairie': 'IN', 'Saint john': 'WA', 'San pierre': 'IN', 'Schererville': 'IN', 'Schneider': 'IN', 'Sumava resorts': 'IN', 'Union mills': 'NC', 'Zcta 46385': 'IN', 'Wanatah': 'IN', 'Wheatfield': 'IN', 'Whiting': 'NJ', 'Zcta 463hh': 'IN', 'Gary': 'WV', 'Lake station': 'IN', 'Merrillville': 'IN', 'Zcta 464hh': 'IN', 'Argos': 'IN', 'Bourbon': 'MO', 'Burket': 'IN', 'Claypool': 'IN', 'Culver military': 'IN', 'Elkhart': 'KS', 'Etna green': 'IN', 'Foraker': 'OK', 'Zcta 46528': 'IN', 'Granger': 'WY', 'Grovertown': 'IN', 'Hamlet': 'ND', 'Ober': 'IN', 'Lapaz': 'IN', 'Millersburg': 'PA', 'Mishawaka': 'IN', 'Nappanee': 'IN', 'New carlisle': 'OH', 'New paris': 'PA', 'North liberty': 'IA', 'North webster': 'IN', 'Pierceton': 'IN', 'Inwood': 'WV', 'Shipshewana': 'IN', 'Syracuse': 'UT', 'Tippecanoe': 'OH', 'Wakarusa': 'KS', 'Walkerton': 'VA', 'Zcta 46582': 'IN', 'Winona lake': 'IN', 'Wyatt': 'WV', 'Zcta 465hh': 'IN', 'South bend': 'WA', 'Zcta 466hh': 'IN', 'Andrews': 'TX', 'Angola': 'NY', 'Avilla': 'MO', 'Linn grove': 'IA', 'Churubusco': 'NY', 'Columbia city': 'OR', 'Corunna': 'MI', 'Craigville': 'IN', 'Garrett': 'WY', 'Grabill': 'IN', 'Harlan': 'IA', 'Hoagland': 'IN', 'Helmer': 'IN', 'Huntertown': 'IN', 'Kendallville': 'IN', 'Kimmell': 'IN', 'Lagrange': 'WY', 'Laotto': 'IN', 'Larwill': 'IN', 'Leo': 'IN', 'Liberty center': 'OH', 'Ligonier': 'IN', 'Markle': 'IN', 'Ossian': 'IA', 'Pleasant lake': 'ND', 'Poneto': 'IN', 'Rome city': 'IN', 'South whitley': 'IN', 'Spencerville': 'OK', 'Uniondale': 'NY', 'Wawaka': 'IN', 'Wolcottville': 'IN', 'Woodburn': 'OR', 'Zanesville': 'IN', 'Zcta 467hh': 'IN', 'Fort wayne': 'IN', 'Kokomo': 'MS', 'Bringhurst': 'IN', 'Converse': 'TX', 'Deedsville': 'IN', 'Delphi': 'IN', 'Chili': 'WI', 'Fowlerton': 'TX', 'Galveston': 'TX', 'Gas city': 'IN', 'Greentown': 'PA', 'Kewanna': 'IN', 'La fontaine': 'IN', 'Lagro': 'IN', 'Laketon': 'IN', 'Liberty mills': 'IN', 'Logansport': 'LA', 'Macy': 'NE', 'Mexico': 'NY', 'Monterey': 'VA', 'New waverly': 'TX', 'North manchester': 'IN', 'Ora': 'SC', 'Roann': 'IN', 'Rochester': 'WI', 'Royal center': 'IN', 'Russiaville': 'IN', 'Silver lake': 'WI', 'Swayzee': 'IN', 'Sweetser': 'IN', 'Twelve mile': 'IN', 'Landess': 'IN', 'Walton': 'WV', 'Winamac': 'IN', 'Young america': 'MN', 'Zcta 469hh': 'IN', 'Zcta 47003': 'IN', 'Bath': 'SD', 'Bennington': 'VT', 'Brookville': 'OH', 'Cedar grove': 'WI', 'Cross plains': 'WI', 'Dillsboro': 'NC', 'East enterprise': 'IN', 'Friendship': 'WI', 'Holton': 'MI', 'Lawrenceburg': 'TN', 'Moores hill': 'IN', 'Napoleon': 'OH', 'New trenton': 'IN', 'Oldenburg': 'IN', 'Osgood': 'OH', 'Patriot': 'OH', 'Rising sun': 'MD', 'Sunman': 'IN', 'Vevay': 'IN', 'W harrison': 'IN', 'Zcta 470hh': 'IN', 'Borden': 'IN', 'Campbellsburg': 'KY', 'Charlestown': 'RI', 'Corydon': 'KY', 'Depauw': 'IN', 'Eckerty': 'IN', 'English': 'IN', 'Floyds knobs': 'IN', 'Fredericksburg': 'VA', 'Hardinsburg': 'IN', 'Henryville': 'PA', 'Laconia': 'IN', 'Lanesville': 'NY', 'Leavenworth': 'WA', 'Mauckport': 'IN', 'Memphis': 'TX', 'Milltown': 'WI', 'Nabb': 'IN', 'New albany': 'PA', 'New middletown': 'OH', 'New salisbury': 'IN', 'New washington': 'OH', 'Otisco': 'IN', 'Palmyra': 'WI', 'Scottsburg': 'VA', 'Speed': 'IN', 'Sulphur': 'OK', 'Taswell': 'IN', 'Underwood': 'WA', 'Zcta 471hh': 'IN', 'Butlerville': 'IN', 'Clifford': 'VA', 'Commiskey': 'IN', 'Crothersville': 'IN', 'Deputy': 'IN', 'Freetown': 'IN', 'Adams': 'WI', 'Hartsville': 'TN', 'Jonesville': 'VA', 'New point': 'VA', 'North vernon': 'IN', 'Paris crossing': 'IN', 'Scipio': 'UT', 'Vallonia': 'IN', 'Zcta 472hh': 'IN', 'Cambridge city': 'IN', 'Connersville': 'IN', 'Dunkirk': 'OH', 'Dunreith': 'IN', 'Economy': 'IN', 'Farmland': 'IN', 'Fountain city': 'WI', 'Gaston': 'SC', 'Greens fork': 'IN', 'Hagerstown': 'MD', 'Hartford city': 'IN', 'Kennard': 'TX', 'Losantville': 'IN', 'Mooreland': 'OK', 'Mount summit': 'IN', 'Parker city': 'IN', 'Pennville': 'IN', 'Redkey': 'IN', 'Ridgeville': 'SC', 'Salamonia': 'IN', 'Spiceland': 'IN', 'Springport': 'MI', 'Straughn': 'IN', 'Webster': 'WI', 'Williamsburg': 'VA', 'Yorktown': 'VA', 'Zcta 473hh': 'IN', 'Bedford': 'WY', 'Ellettsville': 'IN', 'Fort ritner': 'IN', 'French lick': 'IN', 'Gosport': 'IN', 'Heltonville': 'IN', 'Jasonville': 'IN', 'Linton': 'IN', 'Oolitic': 'IN', 'Owensburg': 'IN', 'Paoli': 'PA', 'Patricksburg': 'IN', 'Solsberry': 'IN', 'Stinesville': 'IN', 'Switz city': 'IN', 'Tunnelton': 'WV', 'West baden sprin': 'IN', 'Worthington': 'WV', 'Zcta 474hh': 'IN', 'Bicknell': 'UT', 'Birdseye': 'IN', 'Branchville': 'VA', 'Siberia': 'IN', 'Bruceville': 'TX', 'Cannelburg': 'IN', 'Celestine': 'IN', 'Crane naval depo': 'IN', 'Decker': 'MT', 'Edwardsport': 'IN', 'Elnora': 'IN', 'Freelandville': 'IN', 'Fulda': 'MN', 'Gentryville': 'IN', 'Holland': 'TX', 'Huntingburg': 'IN', 'Ireland': 'IN', 'Haysville': 'KS', 'Buffaloville': 'IN', 'Leopold': 'MO', 'Lincoln city': 'OR', 'Monroe city': 'TX', 'Oaktown': 'IN', 'Odon': 'IN', 'Otwell': 'IN', 'Kyana': 'IN', 'Saint croix': 'IN', 'Saint meinrad': 'IN', 'Sandborn': 'IN', 'Santa claus': 'IN', 'Schnellville': 'IN', 'Shoals': 'IN', 'Spurgeon': 'IN', 'Stendal': 'IN', 'Tell city': 'IN', 'Velpen': 'IN', 'Vincennes': 'IN', 'Westphalia': 'MO', 'Zcta 475hh': 'IN', 'Chrisney': 'IN', 'Cynthiana': 'OH', 'Elberfeld': 'IN', 'Lynnville': 'TN', 'Newburgh': 'IN', 'New harmony': 'UT', 'Poseyville': 'IN', 'Tennyson': 'TX', 'Wadesville': 'IN', 'Haubstadt': 'IN', 'Hazleton': 'IA', 'Buckskin': 'IN', 'Fort branch': 'IN', 'Francisco': 'IN', 'Mackey': 'IN', 'Oakland city': 'IN', 'Owensville': 'OH', 'Zcta 476hh': 'IN', 'Zcta 47725': 'IN', 'Terre haute': 'IN', 'North terre haut': 'IN', 'Bowling green': 'VA', 'Brazil': 'IN', 'Bridgeton': 'NC', 'Carbon': 'TX', 'Centerpoint': 'IN', 'Cory': 'IN', 'Dugger': 'IN', 'Farmersburg': 'IA', 'Hymera': 'IN', 'Judson': 'IN', 'Merom': 'IN', 'New goshen': 'IN', 'Pimento': 'IN', 'Poland': 'OH', 'Rockville': 'VA', 'Rosedale': 'WV', 'Saint mary of th': 'IN', 'Shelburn': 'IN', 'Universal': 'IN', 'Sandford': 'IN', 'Zcta 478hh': 'IN', 'West lafayette': 'OH', 'Zcta 47909': 'IN', 'Ambia': 'IN', 'Attica': 'NY', 'Battle ground': 'WA', 'Boswell': 'PA', 'Brook': 'IN', 'Brookston': 'TX', 'Buck creek': 'IN', 'Buffalo': 'WY', 'Burnettsville': 'IN', 'Cayuga': 'ND', 'Chalmers': 'IN', 'Clarks hill': 'SC', 'Covington': 'TX', 'Darlington': 'WI', 'Earl park': 'IN', 'Francesville': 'IN', 'Goodland': 'MN', 'Idaville': 'IN', 'Kentland': 'IN', 'Cates': 'IN', 'Ladoga': 'IN', 'Medaryville': 'IN', 'Mellott': 'IN', 'Monon': 'IN', 'Morocco': 'IN', 'Mount ayr': 'IA', 'New richmond': 'WI', 'New ross': 'IN', 'Otterbein': 'IN', 'Perrysville': 'OH', 'Pine village': 'IN', 'Remington': 'VA', 'Collegeville': 'PA', 'Romney': 'WV', 'State line': 'MS', 'Stockwell': 'IN', 'Veedersburg': 'IN', 'Waynetown': 'IN', 'West lebanon': 'PA', 'Westpoint': 'TN', 'Marshfield': 'WI', 'Wingate': 'TX', 'Yeoman': 'IN', 'Zcta 479hh': 'IN', 'Ackworth': 'IA', 'Alleman': 'IA', 'Ames': 'TX', 'Anita': 'PA', 'Ankeny': 'IA', 'Atlantic': 'VA', 'Audubon': 'NJ', 'Bagley': 'WI', 'Barnes city': 'IA', 'Baxter': 'TN', 'Bayard': 'NE', 'Bevington': 'IA', 'Blairsburg': 'IA', 'Bondurant': 'WY', 'Bouton': 'IA', 'Boxholm': 'IA', 'Brayton': 'IA', 'Bussey': 'IA', 'Chariton': 'IA', 'Churdan': 'IA', 'Clemons': 'NY', 'Colo': 'IA', 'Coon rapids': 'MN', 'Cooper': 'TX', 'Sewal': 'IA', 'Cumming': 'IA', 'Dallas center': 'IA', 'Dows': 'IA', 'Earlham': 'IA', 'Ellston': 'IA', 'Exira': 'IA', 'Ferguson': 'NC', 'Zcta 500hh': 'IA', 'Garden grove': 'IA', 'Grand river': 'IA', 'Grinnell': 'KS', 'Guthrie center': 'IA', 'Hamlin': 'WV', 'Hubbard': 'TX', 'Humeston': 'IA', 'Huxley': 'IA', 'Iowa falls': 'IA', 'Jamaica': 'VA', 'Johnston': 'SC', 'Kamrar': 'IA', 'Kellerton': 'IA', 'Kelley': 'IA', 'Keswick': 'IA', 'Killduff': 'IA', 'Lacona': 'NY', 'Lamoni': 'IA', 'Leon': 'OK', 'Liscomb': 'IA', 'Lorimor': 'IA', 'Lovilia': 'IA', 'Lucas': 'SD', 'Mc callsburg': 'IA', 'Macksburg': 'OH', 'Madrid': 'NY', 'Malcom': 'IA', 'Marshalltown': 'IA', 'Martensdale': 'IA', 'Menlo': 'KS', 'Millerton': 'PA', 'Milo': 'OK', 'Minburn': 'IA', 'Mingo': 'WV', 'Mitchellville': 'MD', 'Zcta 501hh': 'IA', 'Nevada': 'TX', 'New providence': 'PA', 'New sharon': 'ME', 'New virginia': 'IA', 'Otley': 'IA', 'Panora': 'IA', 'Paton': 'IA', 'Pella': 'IA', 'Pilot mound': 'IA', 'Pleasantville': 'TN', 'Popejoy': 'IA', 'Prole': 'IA', 'Radcliffe': 'IA', 'Randall': 'MN', 'Reasnor': 'IA', 'Rhodes': 'MI', 'Rippey': 'IA', 'Runnells': 'IA', 'Searsboro': 'IA', 'Sheldahl': 'IA', 'Stanhope': 'NJ', 'State center': 'IA', 'Story city': 'IA', 'Sully': 'IA', 'Swan': 'IA', 'Truro': 'MA', 'Van meter': 'PA', 'Van wert': 'OH', 'Waukee': 'IA', 'West des moines': 'IA', 'What cheer': 'IA', 'Whitten': 'IA', 'Winterset': 'IA', 'Wiota': 'IA', 'Woodward': 'PA', 'Zearing': 'IA', 'Zcta 502hh': 'IA', 'Des moines': 'WA', 'Windsor heights': 'WV', 'Urbandale': 'IA', 'Zcta 50323': 'IA', 'Clive': 'IA', 'Zcta 503hh': 'IA', 'Mason city': 'NE', 'Belmond': 'IA', 'Britt': 'MN', 'Buffalo center': 'IA', 'Carpenter': 'WY', 'Clear lake': 'WI', 'Corwith': 'IA', 'Coulter': 'IA', 'Dougherty': 'TX', 'Fertile': 'MN', 'Floyd': 'NM', 'Garner': 'NC', 'Goodell': 'IA', 'Hanlontown': 'IA', 'Joice': 'IA', 'Kanawha': 'IA', 'Klemme': 'IA', 'Lake mills': 'WI', 'Lakota': 'IA', 'Latimer': 'IA', 'Little cedar': 'IA', 'Mc intire': 'IA', 'Manly': 'IA', 'Meservey': 'IA', 'Nora springs': 'IA', 'Northwood': 'OH', 'Osage': 'WY', 'Rake': 'IA', 'Riceville': 'TN', 'Rockwell': 'NC', 'Rowan': 'IA', 'Rudd': 'IA', 'Saint ansgar': 'IA', 'Scarville': 'IA', 'Stacyville': 'IA', 'Swaledale': 'IA', 'Titonka': 'IA', 'Woden': 'TX', 'Zcta 504hh': 'IA', 'Fort dodge': 'IA', 'Albert city': 'IA', 'Algona': 'WA', 'Ayrshire': 'IA', 'Barnum': 'TX', 'Bode': 'IA', 'Bradgate': 'IA', 'Burt': 'ND', 'Callender': 'IA', 'Clarion': 'PA', 'Curlew': 'WA', 'Cylinder': 'IA', 'Dakota city': 'NE', 'Dolliver': 'IA', 'Duncombe': 'IA', 'Eagle grove': 'IA', 'Early': 'TX', 'Emmetsburg': 'IA', 'Farnhamville': 'IA', 'Fonda': 'NY', 'Gilmore city': 'IA', 'Goldfield': 'NV', 'Gowrie': 'IA', 'Harcourt': 'IA', 'Havelock': 'NC', 'Jolley': 'IA', 'Knierim': 'IA', 'Laurens': 'NY', 'Lehigh': 'OK', 'Lone rock': 'WI', 'Lu verne': 'IA', 'Lytton': 'IA', 'Mallard': 'IA', 'Manson': 'WA', 'Moorland': 'IA', 'Nemaha': 'NE', 'Otho': 'IA', 'Ottosen': 'IA', 'Palmer': 'TX', 'Plover': 'WI', 'Pomeroy': 'WA', 'Rembrandt': 'IA', 'Renwick': 'IA', 'Ringsted': 'IA', 'Rockwell city': 'IA', 'Rolfe': 'IA', 'Sac city': 'IA', 'Sioux rapids': 'IA', 'Storm lake': 'IA', 'Swea city': 'IA', 'Thor': 'IA', 'Truesdale': 'IA', 'Varina': 'IA', 'Webster city': 'IA', 'West bend': 'WI', 'Whittemore': 'MI', 'Woolstock': 'IA', 'Zcta 505hh': 'IA', 'Ackley': 'IA', 'Allison': 'TX', 'Alta vista': 'KS', 'Aplington': 'IA', 'Aredale': 'IA', 'Beaman': 'IA', 'Bristow': 'OK', 'Cedar falls': 'IA', 'Charles city': 'VA', 'Conrad': 'MT', 'Dewar': 'OK', 'Dike': 'TX', 'Dunkerton': 'IA', 'Eldora': 'IA', 'Elma': 'WA', 'Fairbank': 'IA', 'Frederika': 'IA', 'Garwin': 'IA', 'Gilbertville': 'MA', 'Gladbrook': 'IA', 'Greene': 'RI', 'Grundy center': 'IA', 'Ionia': 'NY', 'Kesley': 'IA', 'La porte city': 'IA', 'Marble rock': 'IA', 'Masonville': 'NY', 'Nashua': 'NH', 'New hampton': 'NY', 'Oelwein': 'IA', 'Readlyn': 'IA', 'Reinbeck': 'IA', 'Shell rock': 'IA', 'Steamboat rock': 'IA', 'Stout': 'OH', 'Traer': 'IA', 'Tripoli': 'WI', 'Bremer': 'IA', 'Wellsburg': 'WV', 'Zcta 506hh': 'IA', 'Evansdale': 'IA', 'Zcta 507hh': 'IA', 'Nevinville': 'IA', 'Afton': 'WY', 'Blockton': 'IA', 'Clearfield': 'UT', 'Diagonal': 'IA', 'Fontanelle': 'IA', 'Gravity': 'IA', 'Massena': 'NY', 'Nodaway': 'IA', 'Shannon city': 'IA', 'Tingley': 'IA', 'Villisca': 'IA', 'Anthon': 'IA', 'Aurelia': 'IA', 'Battle creek': 'NE', 'Brunsville': 'IA', 'Castana': 'IA', 'Cleghorn': 'IA', 'Correctionville': 'IA', 'Cushing': 'WI', 'Hawarden': 'IA', 'Hinton': 'WV', 'Holstein': 'NE', 'Hornick': 'IA', 'Ireton': 'IA', 'Kingsley': 'PA', 'Larrabee': 'IA', 'Lawton': 'WV', 'Le mars': 'IA', 'Marcus': 'WA', 'Maurice': 'LA', 'Merrill': 'WI', 'Moville': 'IA', 'Onawa': 'IA', 'Oto': 'IA', 'Oyens': 'IA', 'Paullina': 'IA', 'Peterson': 'MN', 'Quimby': 'IA', 'Remsen': 'NY', 'Rodney': 'MI', 'Salix': 'PA', 'Schaller': 'IA', 'Sergeant bluff': 'IA', 'Sloan': 'IA', 'Smithland': 'TX', 'Sutherland': 'VA', 'Turin': 'NY', 'Ute': 'IA', 'Washta': 'IA', 'Zcta 510hh': 'IA', 'Sioux city': 'IA', 'Zcta 511hh': 'IA', 'Alvord': 'TX', 'Boyden': 'IA', 'Doon': 'IA', 'George': 'NC', 'Hospers': 'IA', 'Larchwood': 'IA', 'Matlock': 'WA', 'Primghar': 'IA', 'Rock rapids': 'IA', 'Rock valley': 'IA', 'Sanborn': 'ND', 'Sioux center': 'IA', 'Arnolds park': 'IA', 'Dickens': 'TX', 'Estherville': 'IA', 'Everly': 'IA', 'Gillett grove': 'IA', 'Graettinger': 'IA', 'Gruver': 'TX', 'Harris': 'NY', 'Hartley': 'TX', 'May city': 'IA', 'Ocheyedan': 'IA', 'Okoboji': 'IA', 'Ruthven': 'IA', 'Terril': 'IA', 'Zcta 513hh': 'IA', 'Carroll': 'OH', 'Yetter': 'IA', 'Breda': 'IA', 'Charter oak': 'IA', 'Dedham': 'MA', 'Deloit': 'IA', 'Denison': 'TX', 'Glidden': 'WI', 'Halbur': 'IA', 'Ida grove': 'IA', 'Kirkman': 'IA', 'Kiron': 'IA', 'Lake view': 'SC', 'Lanesboro': 'PA', 'Lidderdale': 'IA', 'Lohrville': 'IA', 'Odebolt': 'IA', 'Ralston': 'WY', 'Schleswig': 'IA', 'Wall lake': 'IA', 'Westside': 'IA', 'Zcta 514hh': 'IA', 'Manawa': 'WI', 'Council bluffs': 'IA', 'Carter lake': 'IA', 'Arion': 'IA', 'Blencoe': 'IA', 'Crescent': 'OR', 'Earling': 'WV', 'Dow city': 'IA', 'Griswold': 'IA', 'Hancock': 'WI', 'Honey creek': 'IA', 'Kimballton': 'IA', 'Little sioux': 'IA', 'Mc clelland': 'IA', 'Marne': 'MI', 'Minden': 'WV', 'Mineola': 'TX', 'Missouri valley': 'IA', 'Modale': 'IA', 'Mondamin': 'IA', 'Moorhead': 'MS', 'Neola': 'WV', 'Pacific junction': 'IA', 'Persia': 'IA', 'Portsmouth': 'VA', 'Red oak': 'VA', 'Silver city': 'SD', 'Soldier': 'KS', 'Tennant': 'IA', 'Treynor': 'IA', 'Walnut': 'NC', 'Zcta 515hh': 'IA', 'Shenandoah': 'VA', 'Braddyville': 'IA', 'Clarinda': 'IA', 'Coin': 'IA', 'College springs': 'IA', 'Farragut': 'IA', 'Imogene': 'IA', 'Northboro': 'IA', 'Percival': 'IA', 'Tabor': 'SD', 'Thurman': 'OH', 'Zcta 516hh': 'IA', 'Dubuque': 'IA', 'Bernard': 'ME', 'Cascade': 'WI', 'Colesburg': 'IA', 'Dyersville': 'IA', 'Elkader': 'IA', 'Elkport': 'IA', 'Farley': 'IA', 'Garber': 'OK', 'Garnavillo': 'IA', 'Guttenberg': 'NJ', 'La motte': 'IA', 'Luxemburg': 'WI', 'Maquoketa': 'IA', 'Miles': 'VA', 'New vienna': 'OH', 'North buena vist': 'IA', 'Peosta': 'IA', 'Sabula': 'IA', 'Saint donatus': 'IA', 'Saint olaf': 'IA', 'Spragueville': 'IA', 'Springbrook': 'ND', 'Strawberry point': 'IA', 'Volga': 'WV', 'Zwingle': 'IA', 'Zcta 520hh': 'IA', 'Decorah': 'IA', 'Calmar': 'IA', 'Castalia': 'OH', 'Cresco': 'PA', 'Fort atkinson': 'WI', 'Harpers ferry': 'WV', 'Hawkeye': 'IA', 'Lawler': 'IA', 'Lime springs': 'IA', 'Luana': 'IA', 'Mc gregor': 'TX', 'Marquette': 'WI', 'Monona': 'WI', 'New albin': 'IA', 'Postville': 'IA', 'Protivin': 'IA', 'Randalia': 'IA', 'Saint lucas': 'IA', 'Spillville': 'IA', 'Wadena': 'MN', 'Waterville': 'WA', 'Waucoma': 'IA', 'Waukon': 'IA', 'Zcta 521hh': 'IA', 'Ainsworth': 'NE', 'Alburnett': 'IA', 'Amana': 'IA', 'Anamosa': 'IA', 'Belle plaine': 'MN', 'Blairstown': 'NJ', 'Center junction': 'IA', 'Clarence': 'PA', 'Clutier': 'IA', 'Coggon': 'IA', 'Prairieburg': 'IA', 'Conroy': 'IA', 'Zcta 52221': 'IA', 'Dysart': 'PA', 'Elberon': 'VA', 'Ely': 'NV', 'Garrison': 'WV', 'Harper': 'TX', 'Hartwick': 'NY', 'Hiawatha': 'IA', 'Hills': 'MN', 'Hopkinton': 'RI', 'Iowa city': 'IA', 'Coralville': 'IA', 'Kalona': 'IA', 'Keota': 'OK', 'Ladora': 'IA', 'Lisbon': 'OH', 'Lost nation': 'IA', 'Lowden': 'WA', 'Luzerne': 'PA', 'Zcta 522hh': 'IA', 'Martelle': 'IA', 'Mechanicsville': 'VA', 'Middle amana': 'IA', 'Morley': 'TN', 'North english': 'IA', 'Norway': 'SC', 'Olin': 'NC', 'Onslow': 'IA', 'Oxford junction': 'IA', 'Palo': 'IA', 'Parnell': 'MO', 'Quasqueton': 'IA', 'Robins': 'IA', 'Rowley': 'MA', 'Ryan': 'OK', 'Shellsburg': 'IA', 'Solon': 'OH', 'South amana': 'IA', 'South english': 'IA', 'Stanwood': 'WA', 'Swisher': 'IA', 'Tama': 'IA', 'Tiffin': 'OH', 'Toddville': 'MD', 'Van horne': 'IA', 'Vining': 'MN', 'Vinton': 'OH', 'Walford': 'IA', 'Walker': 'WV', 'Wellman': 'TX', 'West branch': 'MI', 'West chester': 'PA', 'Zcta 523hh': 'IA', 'Cedar rapids': 'NE', 'Zcta 524hh': 'IA', 'Highland center': 'IA', 'Agency': 'MO', 'Albia': 'IA', 'Beacon': 'NY', 'Blakesburg': 'IA', 'Cantril': 'IA', 'Cedar': 'MI', 'Cincinnati': 'OH', 'Douds': 'IA', 'Drakesville': 'IA', 'Eldon': 'MO', 'Exline': 'IA', 'Floris': 'IA', 'Hayesville': 'OH', 'Hedrick': 'IA', 'Keosauqua': 'IA', 'Kirkville': 'NY', 'Martinsburg': 'WV', 'Moravia': 'NY', 'Ollie': 'IA', 'Oskaloosa': 'KS', 'Packwood': 'WA', 'Promise city': 'IA', 'Rose hill': 'VA', 'Sigourney': 'IA', 'Udell': 'IA', 'Zcta 525hh': 'IA', 'Bonaparte': 'IA', 'Denmark': 'WI', 'Fort madison': 'IA', 'Houghton': 'SD', 'Keokuk': 'IA', 'Lockridge': 'IA', 'Mediapolis': 'IA', 'Morning sun': 'IA', 'Mount union': 'PA', 'Olds': 'IA', 'Sperry': 'OK', 'Stockport': 'IA', 'Swedesburg': 'IA', 'Wapello': 'IA', 'Wayland': 'NY', 'West burlington': 'IA', 'Wever': 'IA', 'Yarmouth': 'ME', 'Zcta 526hh': 'IA', 'Atalissa': 'IA', 'Bettendorf': 'IA', 'Blue grass': 'VA', 'Calamus': 'IA', 'Camanche': 'IA', 'Columbus city': 'IA', 'Columbus junctio': 'IA', 'Conesville': 'OH', 'Donahue': 'IA', 'Durant': 'OK', 'Goose lake': 'IA', 'Grand mound': 'IA', 'Le claire': 'IA', 'Letts': 'IA', 'Lone tree': 'IA', 'Low moor': 'VA', 'Mc causland': 'IA', 'Muscatine': 'IA', 'Nichols': 'WI', 'Walcott': 'WY', 'Welton': 'IA', 'Zcta 527hh': 'IA', 'Zcta 528hh': 'IA', 'Atchison': 'KS', 'Baldwin city': 'KS', 'Basehor': 'KS', 'Bendena': 'KS', 'Lake of the fore': 'KS', 'Bucyrus': 'OH', 'Colony': 'OK', 'Cummings': 'ND', 'Clearview city': 'KS', 'Edgerton': 'WY', 'Fort leavenworth': 'KS', 'Garnett': 'SC', 'Mildred': 'PA', 'La cygne': 'KS', 'Lecompton': 'KS', 'Linwood': 'NC', 'Louisburg': 'NC', 'Mc louth': 'KS', 'Muscotah': 'KS', 'Osawatomie': 'KS', 'Ozawkie': 'KS', 'Paola': 'KS', 'Potter': 'WI', 'Stilwell': 'OK', 'Tonganoxie': 'KS', 'Severance': 'KS', 'Valley falls': 'SC', 'Wathena': 'KS', 'Welda': 'KS', 'Wellsville': 'UT', 'White cloud': 'MI', 'Zcta 660hh': 'KS', 'Kansas city': 'MO', 'Lake quivira': 'KS', 'Zcta 661hh': 'KS', 'Countryside': 'KS', 'Shawnee': 'OK', 'Overland park': 'KS', 'Mission': 'SD', 'Leawood': 'KS', 'Shawnee mission': 'KS', 'Prairie village': 'KS', 'Lenexa': 'KS', 'Zcta 662hh': 'KS', 'Axtell': 'UT', 'Beattie': 'KS', 'Belvue': 'KS', 'Berryton': 'KS', 'Blue rapids': 'KS', 'Burlingame': 'KS', 'Circleville': 'WV', 'Delia': 'KS', 'Emmett': 'MI', 'Eskridge': 'KS', 'Everest': 'KS', 'Winifred': 'KS', 'Goff': 'KS', 'Harveyville': 'KS', 'Havensville': 'KS', 'Reserve': 'NM', 'Home': 'WA', 'Fort riley': 'KS', 'Leonardville': 'KS', 'Zcta 664hh': 'KS', 'Zcta 664xx': 'KS', 'Mayetta': 'KS', 'Melvern': 'KS', 'Morrill': 'NE', 'Netawaka': 'KS', 'Oketo': 'KS', 'Olsburg': 'KS', 'Duluth': 'MN', 'Osage city': 'KS', 'Overbrook': 'OK', 'Paxico': 'KS', 'Powhattan': 'KS', 'Quenemo': 'KS', 'Riley': 'OR', 'Leona': 'TX', 'Sabetha': 'KS', 'Kelly': 'WY', 'Tecumseh': 'OK', 'Vassar': 'MI', 'Vliets': 'KS', 'Wamego': 'KS', 'Blaine': 'WA', 'Zcta 665hh': 'KS', 'Zcta 665xx': 'KS', 'Pauline': 'KS', 'Zcta 666hh': 'KS', 'Hiattville': 'KS', 'Arma': 'KS', 'Baxter springs': 'KS', 'Benedict': 'ND', 'Chanute': 'KS', 'Hallowell': 'ME', 'Elsmore': 'KS', 'Farlington': 'KS', 'Lafontaine': 'KS', 'Garland': 'UT', 'Hepler': 'KS', 'Mc cune': 'KS', 'Moran': 'WY', 'Neodesha': 'KS', 'Neosho falls': 'KS', 'Opolis': 'KS', 'Piqua': 'OH', 'Radley': 'KS', 'Frontenac': 'NY', 'Savonburg': 'KS', 'Carona': 'KS', 'Stark': 'KS', 'Toronto': 'SD', 'Treece': 'KS', 'West mineral': 'KS', 'Yates center': 'KS', 'Zcta 667hh': 'KS', 'Emporia': 'VA', 'Admire': 'KS', 'Bushong': 'KS', 'Americus': 'KS', 'Burdick': 'KS', 'Cassoday': 'KS', 'Cottonwood falls': 'KS', 'Elmdale': 'KS', 'Lebo': 'KS', 'Antelope': 'OR', 'Lost springs': 'WY', 'Matfield green': 'KS', 'Neal': 'KS', 'Neosho rapids': 'KS', 'Olpe': 'KS', 'Peabody': 'MA', 'Reading': 'VT', 'Strong city': 'OK', 'Virgil': 'SD', 'White city': 'OR', 'Zcta 668hh': 'KS', 'Rice': 'WA', 'Agenda': 'KS', 'Barnes': 'WI', 'Burr oak': 'MI', 'Clyde': 'TX', 'Esbon': 'KS', 'Formoso': 'KS', 'Hollenberg': 'KS', 'Bellaire': 'TX', 'Linn': 'WV', 'Mahaska': 'KS', 'Mankato': 'MN', 'Morrowville': 'KS', 'Munden': 'KS', 'Narka': 'KS', 'Republic': 'WA', 'Scandia': 'MN', 'Smith center': 'KS', 'Webber': 'KS', 'Zcta 669hh': 'KS', 'Zcta 669xx': 'KS', 'Andale': 'KS', 'Argonia': 'KS', 'Bentley': 'ND', 'Burden': 'KS', 'Burrton': 'KS', 'Cedar vale': 'KS', 'Cheney': 'WA', 'Coats': 'NC', 'Coldwater': 'OH', 'Colwich': 'KS', 'Conway springs': 'KS', 'Penalosa': 'KS', 'Douglass': 'TX', 'Elbing': 'KS', 'Fall river': 'WI', 'Garden plain': 'KS', 'Geuda springs': 'KS', 'Goddard': 'KS', 'Goessel': 'KS', 'Greensburg': 'PA', 'Halstead': 'KS', 'Hardtner': 'KS', 'Haviland': 'OH', 'Hesston': 'PA', 'Isabel': 'SD', 'Kechi': 'KS', 'Zcta 670hh': 'KS', 'Zcta 670xx': 'KS', 'Maize': 'KS', 'Maple city': 'MI', 'Mayfield': 'UT', 'Medicine lodge': 'KS', 'Moundridge': 'KS', 'Mullinville': 'KS', 'Mulvane': 'KS', 'North newton': 'KS', 'Potwin': 'KS', 'Pratt': 'WV', 'Protection': 'KS', 'Rago': 'KS', 'Rock': 'MI', 'Rosalia': 'WA', 'Sawyer': 'OK', 'South haven': 'MN', 'Spivey': 'KS', 'Udall': 'MO', 'Wilmore': 'KS', 'Zenda': 'WI', 'Zcta 671hh': 'KS', 'Wichita': 'KS', 'Eastborough': 'KS', 'Park city': 'UT', 'Bel aire': 'KS', 'Zcta 672hh': 'KS', 'Bartlett': 'TX', 'Caney': 'OK', 'Chautauqua': 'KS', 'Cherryvale': 'KS', 'Chetopa': 'KS', 'Coffeyville': 'KS', 'Dennis': 'MS', 'Edna': 'TX', 'Elk city': 'OK', 'Elk falls': 'KS', 'Grenola': 'KS', 'Longton': 'KS', 'Mound valley': 'KS', 'Niotaze': 'KS', 'Parsons': 'WV', 'Sedan': 'NM', 'Tyro': 'VA', 'Zcta 673hh': 'KS', 'Zcta 673xx': 'KS', 'Bavaria': 'KS', 'Abilene': 'TX', 'Assaria': 'KS', 'Barnard': 'VT', 'Scottsville': 'VA', 'Beverly': 'WV', 'Bushton': 'KS', 'Cawker city': 'KS', 'Chapman': 'NE', 'Clay center': 'OH', 'Delphos': 'OH', 'Downs': 'KS', 'Falun': 'KS', 'Glasco': 'KS', 'Glen elder': 'KS', 'Green': 'KS', 'Holyrood': 'KS', 'Kanopolis': 'KS', 'Westfall': 'OR', 'Lindsborg': 'KS', 'Longford': 'KS', 'Lorraine': 'NY', 'Miltonvale': 'KS', 'Minneapolis': 'MN', 'Morganville': 'NJ', 'New cambria': 'MO', 'Osborne': 'KS', 'Portis': 'KS', 'Simpson': 'WV', 'Solomon': 'KS', 'Sylvan grove': 'KS', 'Culver': 'OR', 'Wakefield': 'VA', 'Windom': 'TX', 'Zcta 674hh': 'KS', 'Zcta 674xx': 'KS', 'Hutchinson': 'PA', 'South hutchinson': 'KS', 'Abbyville': 'KS', 'Albert': 'TX', 'Arnold': 'PA', 'Bazine': 'KS', 'Beeler': 'KS', 'Belpre': 'OH', 'Bison': 'SD', 'Brownell': 'KS', 'Buhler': 'KS', 'Burdett': 'NY', 'Chase': 'MI', 'Claflin': 'KS', 'Ellinwood': 'KS', 'Heizer': 'KS', 'Haven': 'KS', 'Susank': 'KS', 'Inman': 'SC', 'Kinsley': 'KS', 'Radium': 'MN', 'Liebenthal': 'KS', 'Mc cracken': 'KS', 'Macksville': 'KS', 'Nekoma': 'ND', 'Ness city': 'KS', 'Nickerson': 'NE', 'Offerle': 'KS', 'Partridge': 'KY', 'Pawnee rock': 'KS', 'Plevna': 'MT', 'Pretty prairie': 'KS', 'Rozel': 'KS', 'Rush center': 'KS', 'Stafford': 'VA', 'Sylvia': 'KS', 'Langdon': 'ND', 'Zcta 675hh': 'KS', 'Zcta 675xx': 'KS', 'Antonino': 'KS', 'Agra': 'OK', 'Almena': 'WI', 'Bogue': 'KS', 'Collyer': 'KS', 'Damar': 'KS', 'Dorrance': 'KS', 'Dresden': 'TN', 'Gaylord': 'MN', 'Glade': 'KS', 'Kirwin': 'KS', 'Densmore': 'KS', 'Long island': 'VA', 'Luray': 'VA', 'Morland': 'KS', 'Natoma': 'KS', 'Norcatur': 'KS', 'Norton': 'WV', 'Ogallah': 'KS', 'Palco': 'KS', 'Penokee': 'KS', 'Pfeifer': 'KS', 'Phillipsburg': 'OH', 'Schoenchen': 'KS', 'Wa keeney': 'KS', 'Woodston': 'KS', 'Zcta 676hh': 'KS', 'Zcta 676xx': 'KS', 'Colby': 'WI', 'Bird city': 'KS', 'Brewster': 'WA', 'Edson': 'KS', 'Gem': 'WV', 'Gove': 'KS', 'Grainfield': 'KS', 'Herndon': 'WV', 'Kanorado': 'KS', 'Levant': 'ME', 'Ludell': 'KS', 'Mc donald': 'TN', 'Oberlin': 'OH', 'Park': 'PA', 'Quinter': 'KS', 'Selden': 'NY', 'Sharon springs': 'NY', 'Weskan': 'KS', 'Winona': 'WV', 'Zcta 677hh': 'KS', 'Zcta 677xx': 'KS', 'Dodge city': 'KS', 'Bucklin': 'MO', 'Copeland': 'KS', 'Alamota': 'KS', 'Ensign': 'KS', 'Ford': 'WA', 'Hanston': 'KS', 'Holcomb': 'MO', 'Jetmore': 'KS', 'Johnson': 'VT', 'Kismet': 'NY', 'Lakin': 'KS', 'Leoti': 'KS', 'Manter': 'KS', 'Meade': 'KS', 'Bloom': 'KS', 'Pierceville': 'KS', 'Satanta': 'KS', 'Friend': 'OR', 'Spearville': 'KS', 'Tribune': 'KS', 'Ulysses': 'PA', 'Wright': 'WY', 'Zcta 678hh': 'KS', 'Zcta 678xx': 'KS', 'Liberal': 'MO', 'Hugoton': 'KS', 'Rolla': 'ND', 'Zcta 679xx': 'KS', 'Bardstown': 'KY', 'Bradfordsville': 'KY', 'Finchville': 'KY', 'Fisherville': 'KY', 'Lockport': 'NY', 'Loretto': 'VA', 'Mackville': 'KY', 'Mount eden': 'KY', 'Mount washington': 'PA', 'Trappist': 'KY', 'Pewee valley': 'KY', 'Cropper': 'KY', 'Port royal': 'VA', 'Raywick': 'KY', 'Simpsonville': 'SC', 'Maud': 'TX', 'Waddy': 'KY', 'Willisburg': 'KY', 'Zcta 400hh': 'KY', 'Battletown': 'KY', 'Brandenburg': 'KY', 'Cloverport': 'KY', 'Custer': 'WI', 'Ekron': 'KY', 'Fairdale': 'WV', 'Glen dean': 'KY', 'Fort knox': 'KY', 'Guston': 'KY', 'Mooleyville': 'KY', 'Locust hill': 'VA', 'Lebanon junction': 'KY', 'Mc daniels': 'KY', 'Muldraugh': 'KY', 'Payneville': 'KY', 'Radcliff': 'KY', 'Rineyville': 'KY', 'Se ree': 'KY', 'Shepherdsville': 'KY', 'Stephensport': 'KY', 'Union star': 'MO', 'Vine grove': 'KY', 'Westview': 'KY', 'Zcta 401hh': 'KY', 'Zcta 401xx': 'KY', 'Saint matthews': 'KY', 'Shively': 'KY', 'Buechel': 'KY', 'Pleasure ridge p': 'KY', 'Valley station': 'KY', 'Fern creek': 'KY', 'Jeffersontown': 'KY', 'Zcta 402hh': 'KY', 'Burgin': 'KY', 'Westbend': 'KY', 'Denniston': 'KY', 'Gravel switch': 'KY', 'Cornishville': 'KY', 'Jinks': 'KY', 'Means': 'KY', 'Moorefield': 'OH', 'Morehead': 'KY', 'Nicholasville': 'KY', 'Olympia': 'WA', 'Owenton': 'KY', 'Owingsville': 'KY', 'Perry park': 'KY', 'Sadieville': 'KY', 'Salt lick': 'KY', 'Slade': 'KY', 'Stamping ground': 'KY', 'Patsey': 'KY', 'Bybee': 'VA', 'Korea': 'KY', 'High bridge': 'WI', 'Zcta 403hh': 'KY', 'Moores creek': 'KY', 'Berea': 'WV', 'Brodhead': 'WI', 'Crab orchard': 'WV', 'Hustonville': 'KY', 'Kings mountain': 'NC', 'Clover bottom': 'KY', 'Mc kinney': 'TX', 'Paint lick': 'KY', 'Parksville': 'SC', 'Ravenna': 'TX', 'Sandgap': 'KY', 'Elias': 'KY', 'Waneta': 'KY', 'Waynesburg': 'PA', 'Zcta 404hh': 'KY', 'Zcta 405hh': 'KY', 'Hatton': 'WA', 'Corbin': 'KY', 'Symbol': 'KY', 'Emlyn': 'KY', 'Keavy': 'KY', 'Lily': 'SD', 'Sasser': 'KY', 'Rockholds': 'KY', 'Siler': 'KY', 'Zcta 407hh': 'KY', 'Ages brookside': 'KY', 'Asher': 'OK', 'Benham': 'KY', 'Big laurel': 'KY', 'Lewis creek': 'KY', 'Calvin': 'WV', 'Crummies': 'KY', 'Chappell': 'NE', 'Coalgood': 'KY', 'Coldiron': 'KY', 'Cranks': 'KY', 'Dayhoit': 'KY', 'Eolia': 'MO', 'Essie': 'KY', 'Louellen': 'KY', 'Gulston': 'KY', 'Chevrolet': 'KY', 'Helton': 'KY', 'Holmes mill': 'KY', 'Hoskinston': 'KY', 'Hulen': 'KY', 'Kenvir': 'KY', 'Lejunior': 'KY', 'Loyall': 'KY', 'Lynch': 'NE', 'Cubage': 'KY', 'Mozelle': 'KY', 'Pathfork': 'KY', 'Putney': 'VT', 'Smith': 'NV', 'Stinnett': 'TX', 'Totz': 'KY', 'Wallins creek': 'KY', 'Warbranch': 'KY', 'Zcta 408hh': 'KY', 'Zcta 408xx': 'KY', 'Arjay': 'KY', 'Artemus': 'KY', 'Bailey switch': 'KY', 'Bimble': 'KY', 'Bryants store': 'KY', 'Cannon': 'MS', 'Closplint': 'KY', 'Salt gum': 'KY', 'Fonde': 'KY', 'Garrard': 'KY', 'Girdler': 'KY', 'Green road': 'KY', 'Heidrick': 'KY', 'Hinkle': 'KY', 'Kettle island': 'KY', 'Bright shade': 'KY', 'Middlesboro': 'KY', 'Callaway': 'VA', 'Roark': 'KY', 'Scalf': 'KY', 'Sextons creek': 'KY', 'Stoney fork': 'KY', 'Trosper': 'KY', 'Woollum': 'KY', 'Zcta 409hh': 'KY', 'Rabbit hash': 'KY', 'California': 'PA', 'Corinth': 'VT', 'Rouse': 'KY', 'Latonia': 'KY', 'Erlanger': 'KY', 'Crittenden': 'KY', 'Demossville': 'KY', 'Dry ridge': 'KY', 'Flemingsburg': 'KY', 'Foster': 'WV', 'Ghent': 'WV', 'Mays lick': 'KY', 'Limestone sq': 'KY', 'Morning view': 'KY', 'Mount olivet': 'KY', 'Southgate': 'MI', 'Silver grove': 'KY', 'Williamstown': 'WV', 'Worthville': 'PA', 'Zcta 410hh': 'KY', 'Westwood': 'OH', 'Argillite': 'KY', 'Catlettsburg': 'KY', 'Head of grassy': 'KY', 'Firebrick': 'KY', 'Flatwoods': 'TN', 'Grahn': 'KY', 'Fultz': 'KY', 'Hitchins': 'KY', 'Isonville': 'KY', 'Martha': 'OK', 'Raceland': 'LA', 'Burke': 'VA', 'South portsmouth': 'KY', 'Maloneton': 'KY', 'Webbville': 'KY', 'Tollesboro': 'KY', 'Zcta 411hh': 'KY', 'Beauty': 'KY', 'Boons camp': 'KY', 'Davella': 'KY', 'Elna': 'KY', 'Hagerhill': 'KY', 'Job': 'WV', 'Keaton': 'KY', 'Leander': 'TX', 'Lovely': 'KY', 'Lowmansville': 'KY', 'Meally': 'KY', 'Manila': 'UT', 'Nippa': 'KY', 'River': 'KY', 'Barnetts creek': 'KY', 'Stambaugh': 'MI', 'Thelma': 'KY', 'Davisport': 'KY', 'Tutor key': 'KY', 'Van lear': 'KY', 'Hode': 'KY', 'West van lear': 'KY', 'Wittensville': 'KY', 'Zcta 412hh': 'KY', 'Flat': 'KY', 'Bays': 'KY', 'Vada': 'KY', 'Morris fork': 'KY', 'Clayhole': 'KY', 'Grassy creek': 'NC', 'Canoe': 'KY', 'Lerose': 'KY', 'Hardshell': 'KY', 'Pine ridge': 'SD', 'Ricetown': 'KY', 'Rowdy': 'KY', 'Talbert': 'KY', 'Vancleve': 'KY', 'Whick': 'KY', 'Zoe': 'KY', 'Cannel city': 'KY', 'Elkfork': 'KY', 'Ezel': 'KY', 'Falcon': 'NC', 'Bethanna': 'KY', 'Blairs mill': 'KY', 'Zcta 414hh': 'KY', 'Broad bottom': 'KY', 'South williamson': 'KY', 'Ashcamp': 'KY', 'Belcher': 'LA', 'Belfry': 'MT', 'Canada': 'KY', 'Senterville': 'KY', 'Freeburn': 'KY', 'Hellier': 'KY', 'Huddy': 'KY', 'Payne gap': 'KY', 'Jonancy': 'KY', 'Kimper': 'KY', 'Lick creek': 'KY', 'Mc andrews': 'KY', 'Mc carr': 'KY', 'Mc veigh': 'KY', 'Majestic': 'KY', 'Mouthcard': 'KY', 'Myra': 'WV', 'Phelps': 'WI', 'Phyllis': 'KY', 'Pinsonfork': 'KY', 'Fishtrap': 'KY', 'Regina': 'KY', 'Robinson creek': 'KY', 'Shelbiana': 'KY', 'Shelby gap': 'KY', 'Stone': 'KY', 'Toler': 'KY', 'Varney': 'WV', 'Etty': 'KY', 'Zcta 415hh': 'KY', 'Auxier': 'KY', 'Banner': 'WY', 'Ligon': 'KY', 'Betsy layne': 'KY', 'Bevinsville': 'KY', 'Blue river': 'WI', 'Bypro': 'KY', 'David': 'KY', 'Drift': 'KY', 'Dwale': 'KY', 'Eastern': 'KY', 'Grethel': 'KY', 'Harold': 'KY', 'Elmrock': 'KY', 'Ivel': 'KY', 'East mc dowell': 'KY', 'Hite': 'KY', 'Minnie': 'KY', 'Emma': 'MO', 'Printer': 'KY', 'Stanville': 'KY', 'Teaberry': 'KY', 'Tram': 'KY', 'Weeksbury': 'KY', 'Wheelwright': 'KY', 'Zcta 416hh': 'KY', 'Darfork': 'KY', 'Ary': 'KY', 'Bear branch': 'KY', 'Blue diamond': 'NV', 'Buckhorn': 'NM', 'Tribbey': 'KY', 'Busy': 'KY', 'Carrie': 'KY', 'Chavies': 'KY', 'Confluence': 'KY', 'Ulvah': 'KY', 'Delphia': 'KY', 'Dice': 'KY', 'Dwarf': 'KY', 'Bearville': 'KY', 'Gays creek': 'KY', 'Happy': 'TX', 'Dryhill': 'KY', 'Jeff': 'KY', 'Napfor': 'KY', 'Anco': 'KY', 'Scuddy': 'KY', 'Sizerock': 'KY', 'Slemp': 'KY', 'Smilax': 'KY', 'Thousandsticks': 'KY', 'Vest': 'KY', 'Vicco': 'KY', 'Farler': 'KY', 'Wendover': 'NV', 'Frew': 'KY', 'Yerkes': 'KY', 'Zcta 417hh': 'KY', 'Carcassonne': 'KY', 'Cromona': 'KY', 'Deane': 'KY', 'Ermine': 'KY', 'Larkslane': 'KY', 'Gilly': 'KY', 'Skyline': 'KY', 'Hindman': 'KY', 'Isom': 'KY', 'Jackhorn': 'KY', 'Jeremiah': 'KY', 'Puncheon': 'KY', 'Soft shell': 'KY', 'Letcher': 'SD', 'Linefork': 'KY', 'Littcarr': 'KY', 'Mc roberts': 'KY', 'Mallie': 'KY', 'Mayking': 'KY', 'Millstone': 'WV', 'Mousie': 'KY', 'Fleming neon': 'KY', 'Raven': 'VA', 'Premium': 'KY', 'Redfox': 'KY', 'Seco': 'KY', 'Day rural': 'KY', 'Dema': 'KY', 'Dry creek': 'LA', 'Zcta 418hh': 'KY', 'Paducah': 'KY', 'Bandana': 'KY', 'Bardwell': 'TX', 'Barlow': 'OH', 'Burna': 'KY', 'Calvert city': 'KY', 'Cunningham': 'TX', 'Fancy farm': 'KY', 'Crutchfield': 'KY', 'Gilbertsville': 'PA', 'Hazel': 'SD', 'Hickory': 'PA', 'Kevil': 'KY', 'Kirksey': 'KY', 'Kuttawa': 'KY', 'La center': 'WA', 'Ledbetter': 'TX', 'Lovelaceville': 'KY', 'Lowes': 'KY', 'Melber': 'KY', 'New concord': 'OH', 'Sedalia': 'OH', 'Carrsville': 'VA', 'Symsonia': 'KY', 'Tiline': 'KY', 'Tolu': 'KY', 'Water valley': 'TX', 'West paducah': 'KY', 'Wickliffe': 'OH', 'Wingo': 'KY', 'Zcta 420hh': 'KY', 'Zcta 420xx': 'KY', 'Plum springs': 'KY', 'Adolphus': 'KY', 'Subtle': 'KY', 'Etoile': 'TX', 'Fountain run': 'KY', 'Hestand': 'KY', 'Knob lick': 'KY', 'Mount herman': 'KY', 'Summer shade': 'KY', 'T ville': 'KY', 'Smiths grove': 'KY', 'Zcta 421hh': 'KY', 'Adairville': 'KY', 'Allensville': 'PA', 'Bee spring': 'KY', 'Reedyville': 'KY', 'Golden pond': 'KY', 'Cerulean': 'KY', 'Crofton': 'NE', 'Fort campbell': 'KY', 'Gracey': 'KY', 'Tiny town': 'KY', 'Hopkinsville': 'KY', 'Lewisburg': 'WV', 'Mammoth cave nat': 'KY', 'Olmstead': 'KY', 'Browning': 'MO', 'Roundhill': 'KY', 'Daysville': 'KY', 'Sharon grove': 'KY', 'Kyrock': 'KY', 'Welchs creek': 'KY', 'Zcta 422hh': 'KY', 'Zcta 422xx': 'KY', 'Owensboro': 'KY', 'Beaver dam': 'WI', 'Beech creek': 'PA', 'Beechmont': 'KY', 'Belton': 'TX', 'Browder': 'KY', 'Centertown': 'MO', 'Cleaton': 'KY', 'Drakesboro': 'KY', 'Dunmor': 'KY', 'Fordsville': 'KY', 'Hawesville': 'KY', 'Horse branch': 'KY', 'Island': 'KY', 'Lewisport': 'KY', 'Maceo': 'KY', 'Olaton': 'KY', 'Penrod': 'KY', 'Philpot': 'KY', 'Reynolds station': 'KY', 'Rosine': 'KY', 'Rumsey': 'KY', 'South carrollton': 'KY', 'Whitesville': 'NY', 'Zcta 423hh': 'KY', 'Zcta 423xx': 'KY', 'Blackford': 'KY', 'Clay': 'WV', 'Dawson springs': 'KY', 'Earlington': 'KY', 'Hanson': 'MA', 'Madisonville': 'TX', 'Manitou': 'OK', 'Henshaw': 'KY', 'Mortons gap': 'KY', 'Poole': 'KY', 'Providence': 'UT', 'Robards': 'KY', 'Sebree': 'KY', 'Slaughters': 'KY', 'Smith mills': 'KY', 'Spottsville': 'KY', 'Sturgis': 'MS', 'Wheatcroft': 'KY', 'Zcta 424hh': 'KY', 'Zcta 424xx': 'KY', 'Alcalde': 'NM', 'Zcta 42503': 'KY', 'Bethelridge': 'KY', 'Bronston': 'KY', 'Sloans valley': 'KY', 'Dunnville': 'KY', 'Pointer': 'KY', 'Science hill': 'KY', 'Yosemite': 'KY', 'Zcta 425hh': 'KY', 'Marshes siding': 'KY', 'Mill springs': 'KY', 'Parkers lake': 'KY', 'Hollyhill': 'KY', 'Revelo': 'KY', 'Webbs cross road': 'KY', 'Stearns': 'KY', 'Strunk': 'KY', 'Wiborg': 'KY', 'Zcta 426hh': 'KY', 'Zcta 426xx': 'KY', 'E town': 'KY', 'Bakerton': 'KY', 'Big clifty': 'KY', 'Bonnieville': 'KY', 'Breeding': 'KY', 'Burkesville': 'KY', 'Campbellsville': 'KY', 'Caneyville': 'KY', 'Canmer': 'KY', 'Stephensburg': 'KY', 'Wax': 'KY', 'Cub run': 'KY', 'Dubre': 'KY', 'E view': 'KY', 'Glens fork': 'KY', 'Gradyville': 'KY', 'Hardyville': 'VA', 'Hodgenville': 'KY', 'Horse cave': 'KY', 'Knifley': 'KY', 'Sadler': 'TX', 'Marrowbone': 'KY', 'Munfordville': 'KY', 'Summersville': 'WV', 'Upton': 'WY', 'White mills': 'PA', 'Zcta 427hh': 'KY', 'Metairie': 'LA', 'Des allemands': 'LA', 'Ama': 'LA', 'Barataria': 'LA', 'Belle chasse': 'LA', 'Boothville': 'LA', 'Boutte': 'LA', 'Braithwaite': 'LA', 'Buras': 'LA', 'Chalmette': 'LA', 'New sarpy': 'LA', 'Edgard': 'LA', 'Garyville': 'LA', 'Gramercy': 'LA', 'Terrytown': 'LA', 'Hahnville': 'LA', 'Kenner': 'LA', 'Killona': 'LA', 'Lafitte': 'LA', 'Luling': 'TX', 'Lutcher': 'LA', 'Marrero': 'LA', 'Meraux': 'LA', 'Norco': 'LA', 'Paradis': 'LA', 'Pointe a la hach': 'LA', 'Port sulphur': 'LA', 'Saint bernard': 'OH', 'Saint james': 'NY', 'Saint rose': 'LA', 'Vacherie': 'LA', 'Violet': 'LA', 'Bridge city': 'TX', 'Zcta 700hh': 'LA', 'Zcta 700xx': 'LA', 'New orleans': 'LA', 'Harahan': 'LA', 'Zcta 701hh': 'LA', 'Zcta 701xx': 'LA', 'Thibodaux': 'LA', 'Pierre part': 'LA', 'Belle rose': 'LA', 'Bourg': 'LA', 'Chauvin': 'LA', 'Cut off': 'LA', 'Donaldsonville': 'LA', 'Dulac': 'LA', 'Galliano': 'LA', 'Gheens': 'LA', 'Golden meadow': 'LA', 'Grand isle': 'VT', 'Houma': 'LA', 'Labadieville': 'LA', 'Larose': 'LA', 'Montegut': 'LA', 'Morgan city': 'MS', 'Napoleonville': 'LA', 'Paincourtville': 'LA', 'Plattenville': 'LA', 'Schriever': 'LA', 'Theriot': 'LA', 'Zcta 703hh': 'LA', 'Zcta 703xx': 'LA', 'Abita springs': 'LA', 'Amite': 'LA', 'Angie': 'LA', 'Bogalusa': 'LA', 'Bush': 'LA', 'Zcta 70435': 'LA', 'Fluker': 'LA', 'Folsom': 'WV', 'Franklinton': 'NC', 'Husser': 'LA', 'Kentwood': 'MI', 'Lacombe': 'LA', 'Loranger': 'LA', 'Mandeville': 'LA', 'Maurepas': 'LA', 'Natalbany': 'LA', 'Pearl river': 'NY', 'Ponchatoula': 'LA', 'Robert': 'LA', 'Slidell': 'LA', 'Sun': 'LA', 'Talisheek': 'LA', 'Tangipahoa': 'LA', 'Tickfaw': 'LA', 'Zcta 70471': 'LA', 'Zcta 704hh': 'LA', 'Zcta 704xx': 'LA', 'Forked island': 'LA', 'Arnaudville': 'LA', 'Avery island': 'LA', 'Basile': 'LA', 'Broussard': 'LA', 'Carencro': 'LA', 'Cecilia': 'LA', 'Charenton': 'LA', 'Chataignier': 'LA', 'Church point': 'LA', 'Delcambre': 'LA', 'Duson': 'LA', 'Elton': 'WI', 'Erath': 'LA', 'Estherwood': 'LA', 'Eunice': 'NM', 'Evangeline': 'LA', 'Grand coteau': 'LA', 'Gueydan': 'LA', 'Iota': 'LA', 'Jeanerette': 'LA', 'Kaplan': 'LA', 'Lake arthur': 'NM', 'Lawtell': 'LA', 'Loreauville': 'LA', 'Mamou': 'LA', 'Mermentau': 'LA', 'New iberia': 'LA', 'Zcta 70563': 'LA', 'Opelousas': 'LA', 'Pine prairie': 'LA', 'Port barre': 'LA', 'Rayne': 'LA', 'Reddell': 'LA', 'Saint martinvill': 'LA', 'Cankton': 'LA', 'Turkey creek': 'LA', 'Ville platte': 'LA', 'Welsh': 'LA', 'Youngsville': 'PA', 'Zcta 705hh': 'LA', 'Zcta 705xx': 'LA', 'Lake charles': 'LA', 'Bell city': 'MO', 'Creole': 'LA', 'Dequincy': 'LA', 'Deridder': 'LA', 'Grand chenier': 'LA', 'Hackberry': 'LA', 'Hayes': 'VA', 'Iowa': 'LA', 'Kinder': 'LA', 'Lacassine': 'LA', 'Leblanc': 'LA', 'Longville': 'MN', 'Fields': 'OR', 'Mittie': 'LA', 'Ragley': 'LA', 'Reeves': 'LA', 'Rosepine': 'LA', 'Singer': 'LA', 'Starks': 'LA', 'Sugartown': 'LA', 'Zcta 70665': 'LA', 'Westlake': 'OR', 'Zcta 706hh': 'LA', 'Zcta 706xx': 'LA', 'Zcta 70706': 'LA', 'Addis': 'LA', 'Batchelor': 'LA', 'Blanks': 'LA', 'Brusly': 'LA', 'Bueche': 'LA', 'Point clair': 'LA', 'Convent': 'LA', 'Darrow': 'LA', 'Port vincent': 'LA', 'Erwinville': 'LA', 'Fordoche': 'LA', 'French settlemen': 'LA', 'Geismar': 'LA', 'Glynn': 'LA', 'Greenwell spring': 'LA', 'Grosse tete': 'LA', 'Hester': 'LA', 'Holden': 'WV', 'Innis': 'LA', 'The bluffs': 'LA', 'Jarreau': 'LA', 'Krotz springs': 'LA', 'Lettsworth': 'LA', 'Livonia': 'NY', 'Lottie': 'LA', 'Morganza': 'LA', 'New roads': 'LA', 'Oscar': 'OK', 'Paulina': 'OR', 'Plaquemine': 'LA', 'Port allen': 'LA', 'Galvez': 'LA', 'Pride': 'LA', 'Rougon': 'LA', 'Saint amant': 'LA', 'Bains': 'LA', 'Iberville': 'LA', 'Slaughter': 'LA', 'Sunshine': 'LA', 'Torbert': 'LA', 'Tunica': 'MS', 'Ventress': 'LA', 'Weyanoke': 'LA', 'White castle': 'LA', 'Zachary': 'LA', 'Zcta 707hh': 'LA', 'Zcta 707xx': 'LA', 'Baton rouge': 'LA', 'Scotlandville': 'LA', 'Zcta 708hh': 'LA', 'Bienville': 'LA', 'Castor': 'LA', 'Cotton valley': 'LA', 'Cullen': 'VA', 'Doyline': 'LA', 'Dubberly': 'LA', 'Frierson': 'LA', 'Gibsland': 'LA', 'Gilliam': 'WV', 'Gloster': 'MS', 'Goldonna': 'LA', 'Grand cane': 'LA', 'Hall summit': 'LA', 'Haughton': 'LA', 'Haynesville': 'LA', 'Hosston': 'LA', 'Ida': 'MI', 'Keatchie': 'LA', 'Keithville': 'LA', 'Elm grove': 'WI', 'Mooringsport': 'LA', 'Oil city': 'PA', 'Plain dealing': 'LA', 'Rodessa': 'LA', 'Sarepta': 'MS', 'Shongaloo': 'LA', 'Springhill': 'LA', 'Stonewall': 'MS', 'Trees': 'LA', 'Zcta 710hh': 'LA', 'Zcta 710xx': 'LA', 'Shreveport': 'LA', 'Forbing': 'LA', 'Barksdale a f b': 'LA', 'Bossier city': 'LA', 'Caspiana': 'LA', 'Zcta 711hh': 'LA', 'Richwood': 'WV', 'Archibald': 'LA', 'Baskin': 'LA', 'Bastrop': 'TX', 'Bernice': 'OK', 'Choudrant': 'LA', 'Collinston': 'UT', 'Warden': 'WA', 'Downsville': 'NY', 'Dubach': 'LA', 'Epps': 'LA', 'Eros': 'LA', 'Farmerville': 'LA', 'Fort necessity': 'LA', 'Grambling': 'LA', 'Hodge': 'LA', 'Lake providence': 'LA', 'Lillie': 'LA', 'Mangham': 'LA', 'Linville': 'VA', 'Mer rouge': 'LA', 'Terry': 'MT', 'Oak ridge': 'TN', 'Ruston': 'LA', 'Simsboro': 'LA', 'Sondheimer': 'LA', 'Spearsville': 'LA', 'Mound': 'MN', 'Transylvania': 'LA', 'West monroe': 'NY', 'Winnsboro': 'TX', 'Zcta 712hh': 'LA', 'Zcta 712xx': 'LA', 'Acme': 'WY', 'Bordelonville': 'LA', 'Cheneyville': 'LA', 'Cottonport': 'LA', 'Echo': 'UT', 'Vick': 'LA', 'Goudeau': 'LA', 'Frogmore': 'LA', 'Harrisonburg': 'VA', 'Hessmer': 'LA', 'Jena': 'LA', 'Larto': 'LA', 'Rosa': 'LA', 'Lecompte': 'LA', 'Mansura': 'LA', 'Marksville': 'LA', 'Melville': 'NY', 'Moreauville': 'LA', 'Le moyen': 'LA', 'Newellton': 'LA', 'Kolin': 'LA', 'Plaucheville': 'LA', 'Saint landry': 'LA', 'Sicily island': 'LA', 'Simmesport': 'LA', 'Trout': 'WV', 'Waterproof': 'LA', 'Wildsville': 'LA', 'Wisner': 'NE', 'Zcta 713hh': 'LA', 'Zcta 713xx': 'LA', 'Aimwell': 'LA', 'Anacoco': 'LA', 'Boyce': 'VA', 'Campti': 'LA', 'Clarks': 'NE', 'Derry': 'PA', 'Hebert': 'LA', 'Dodson': 'TX', 'Dry prong': 'LA', 'Elmer': 'OK', 'Florien': 'LA', 'Forest hill': 'MD', 'Calcasieu': 'LA', 'Gorum': 'LA', 'Grayson': 'LA', 'Hornbeck': 'LA', 'Hicks': 'LA', 'Chopin': 'LA', 'Many': 'LA', 'Marthaville': 'LA', 'Natchez': 'MS', 'Natchitoches': 'LA', 'Fort polk': 'LA', 'Newllano': 'LA', 'Olla': 'LA', 'Provencal': 'LA', 'Robeline': 'LA', 'Sieper': 'LA', 'Sikes': 'LA', 'Tullos': 'LA', 'Urania': 'LA', 'Winnfield': 'LA', 'Woodworth': 'ND', 'Zwolle': 'LA', 'Zcta 714hh': 'LA', 'Zcta 714xx': 'LA', 'Cape neddick': 'ME', 'Eliot': 'ME', 'Kittery': 'ME', 'Kittery point': 'ME', 'North berwick': 'ME', 'Ogunquit': 'ME', 'South berwick': 'ME', 'Zcta 039hh': 'ME', 'Alfred': 'NY', 'Bailey island': 'ME', 'Arundel': 'ME', 'Bowdoinham': 'ME', 'Bridgton': 'ME', 'Birch island': 'ME', 'Casco': 'WI', 'Chebeague island': 'ME', 'Cliff island': 'ME', 'Cornish': 'NH', 'Cumberland cente': 'ME', 'East baldwin': 'ME', 'North sebago': 'ME', 'East waterboro': 'ME', 'Fryeburg': 'ME', 'Hollis center': 'ME', 'Kennebunk': 'ME', 'Kennebunkport': 'ME', 'Kezar falls': 'ME', 'Limerick': 'PA', 'Limington': 'ME', 'Lovell': 'WY', 'North waterboro': 'ME', 'Old orchard beac': 'ME', 'Orrs island': 'ME', 'Pownal': 'VT', 'Saco': 'MT', 'Scarborough': 'ME', 'Shapleigh': 'ME', 'South harpswell': 'ME', 'Steep falls': 'ME', 'Pejepscot': 'ME', 'Waterboro': 'ME', 'Wells': 'VT', 'West baldwin': 'ME', 'West buxton': 'ME', 'Maplewood': 'OH', 'North yarmouth': 'ME', 'Zcta 040hh': 'ME', 'South portland': 'ME', 'Cape elizabeth': 'ME', 'Peaks island': 'ME', 'Cumberland fores': 'ME', 'Zcta 041hh': 'ME', 'Bryant pond': 'ME', 'Buckfield': 'ME', 'Dixfield': 'ME', 'East andover': 'ME', 'East livermore': 'ME', 'East stoneham': 'ME', 'Lisbon falls': 'ME', 'Livermore falls': 'ME', 'Locke mills': 'ME', 'Mechanic falls': 'ME', 'Minot': 'ND', 'New gloucester': 'ME', 'Newry': 'SC', 'North monmouth': 'ME', 'Poland spring': 'ME', 'Rumford': 'RI', 'Sabattus': 'ME', 'South paris': 'ME', 'Weld': 'ME', 'West bowdoin': 'ME', 'West paris': 'ME', 'West sumner': 'ME', 'Zcta 042hh': 'ME', 'Zcta 042xx': 'ME', 'Gardiner': 'OR', 'Kents hill': 'ME', 'North whitefield': 'ME', 'Readfield': 'ME', 'South china': 'ME', 'Zcta 043hh': 'ME', 'Abbot village': 'ME', 'Brewer': 'ME', 'Brookton': 'ME', 'Brownville': 'NY', 'Bucksport': 'SC', 'Cardville': 'ME', 'Castine': 'OH', 'Costigan': 'ME', 'Dover foxcroft': 'ME', 'East corinth': 'VT', 'East eddington': 'ME', 'East holden': 'ME', 'East millinocket': 'ME', 'East orland': 'ME', 'Etna': 'WY', 'Greenville junct': 'ME', 'Hampden': 'PA', 'Seboeis': 'ME', 'Kenduskeag': 'ME', 'Mattawamkeag': 'ME', 'Medway': 'OH', 'Millinocket': 'ME', 'Monson': 'MA', 'North amity': 'ME', 'Orono': 'ME', 'Orrington': 'ME', 'Passadumkeag': 'ME', 'Penobscot': 'ME', 'Sangerville': 'ME', 'Stetson': 'ME', 'Topsfield': 'MA', 'West enfield': 'ME', 'Winn': 'MI', 'Winterport': 'ME', 'Wytopitlock': 'ME', 'Zcta 044hh': 'ME', 'Zcta 044xx': 'ME', 'Alna': 'ME', 'Boothbay': 'ME', 'Capitol island': 'ME', 'Chamberlain': 'SD', 'Damariscotta': 'ME', 'East boothbay': 'ME', 'Mac mahan': 'ME', 'Medomak': 'ME', 'New harbor': 'ME', 'Nobleboro': 'ME', 'Edgecomb': 'ME', 'Pemaquid': 'ME', 'Round pond': 'ME', 'South bristol': 'ME', 'Waldoboro': 'ME', 'Walpole': 'NH', 'West southport': 'ME', 'Wiscasset': 'ME', 'Woolwich': 'ME', 'Zcta 045hh': 'ME', 'Gouldsboro': 'PA', 'Bar harbor': 'ME', 'Beals': 'ME', 'Birch harbor': 'ME', 'Blue hill': 'NE', 'Blue hill falls': 'ME', 'Brooklin': 'ME', 'Calais': 'VT', 'Cherryfield': 'ME', 'Columbia falls': 'MT', 'Corea': 'ME', 'Cranberry isles': 'ME', 'Deer isle': 'ME', 'Dennysville': 'ME', 'East blue hill': 'ME', 'East machias': 'ME', 'Frenchboro': 'ME', 'Harborside': 'ME', 'Isle au haut': 'ME', 'Islesford': 'ME', 'Jonesport': 'ME', 'Little deer isle': 'ME', 'Lubec': 'ME', 'Bass harbor': 'ME', 'Machias': 'NY', 'Machiasport': 'ME', 'Meddybemps': 'ME', 'Milbridge': 'ME', 'Mount desert': 'ME', 'Northeast harbor': 'ME', 'North sullivan': 'ME', 'Prospect harbor': 'ME', 'Robbinston': 'ME', 'Salsbury cove': 'ME', 'Sargentville': 'ME', 'Seal cove': 'ME', 'Seal harbor': 'ME', 'Southwest harbor': 'ME', 'Steuben': 'WI', 'Sunset': 'TX', 'Surry': 'VA', 'Swans island': 'ME', 'Winter harbor': 'ME', 'Zcta 046hh': 'ME', 'Zcta 046xx': 'ME', 'Houlton': 'ME', 'Benedicta': 'ME', 'Caribou': 'ME', 'Fort fairfield': 'ME', 'Fort kent': 'ME', 'Frenchville': 'PA', 'Island falls': 'ME', 'Limestone': 'PA', 'Madawaska': 'ME', 'Mars hill': 'NC', 'Masardis': 'ME', 'New sweden': 'ME', 'Oxbow': 'OR', 'Patten': 'ME', 'Perham': 'MN', 'Presque isle': 'PA', 'Saint agatha': 'ME', 'Sherman mills': 'ME', 'Sherman station': 'ME', 'Sinclair': 'ME', 'Smyrna mills': 'ME', 'Soldier pond': 'ME', 'Stockholm': 'WI', 'Zcta 047hh': 'ME', 'Zcta 047xx': 'ME', 'Islesboro': 'ME', 'Lincolnville': 'ME', 'Matinicus': 'ME', 'Monhegan': 'ME', 'Owls head': 'NY', 'South thomaston': 'ME', 'Spruce head': 'ME', 'Tenants harbor': 'ME', 'Vinalhaven': 'ME', 'Zcta 048hh': 'ME', 'Anson': 'TX', 'Belfast': 'TN', 'Belgrade': 'NE', 'Caratunk': 'ME', 'Corinna': 'ME', 'Dixmont': 'ME', 'Benton station': 'ME', 'Hartland': 'WI', 'Jackman': 'ME', 'Kingfield': 'ME', 'New portland': 'ME', 'New vineyard': 'ME', 'Norridgewock': 'ME', 'North anson': 'ME', 'North new portla': 'ME', 'North vassalboro': 'ME', 'Oquossoc': 'ME', 'Phillips': 'WI', 'Rangeley': 'ME', 'Saint albans': 'WV', 'Searsmont': 'ME', 'Searsport': 'ME', 'Skowhegan': 'ME', 'Stockton springs': 'ME', 'West forks': 'ME', 'Thorndike': 'ME', 'Vassalboro': 'ME', 'Zcta 049hh': 'ME', 'Zcta 049xx': 'ME', 'Waldorf': 'MN', 'Abell': 'MD', 'Accokeek': 'MD', 'Aquasco': 'MD', 'Avenue': 'MD', 'Bel alton': 'MD', 'Brandywine': 'WV', 'Broomes island': 'MD', 'Bryans road': 'MD', 'Bryantown': 'MD', 'Bushwood': 'MD', 'Maddox': 'MD', 'Charlotte hall': 'MD', 'Cheltenham': 'PA', 'Cobb island': 'MD', 'Coltons point': 'MD', 'Dameron': 'MD', 'Drayden': 'MD', 'Faulkner': 'MD', 'Great mills': 'MD', 'Hughesville': 'PA', 'Huntingtown': 'MD', 'Issue': 'MD', 'La plata': 'NM', 'Leonardtown': 'MD', 'Lexington park': 'MD', 'Lusby': 'MD', 'Nanjemoy': 'MD', 'Park hall': 'MD', 'Patuxent river': 'MD', 'Piney point': 'MD', 'Pomfret': 'MD', 'Port republic': 'VA', 'Port tobacco': 'MD', 'Prince frederick': 'MD', 'Ridge': 'VA', 'Saint inigoes': 'MD', 'Saint leonard': 'MD', 'Solomons': 'MD', 'Sunderland': 'MA', 'Tall timbers': 'MD', 'Valley lee': 'MD', 'Welcome': 'MN', 'Zcta 206hh': 'MD', 'Annapolis juncti': 'MD', 'Beltsville': 'MD', 'Lanham': 'WV', 'Bladensburg': 'OH', 'Lothian': 'MD', 'Mount rainier': 'MD', 'North beach': 'MD', 'Chesapeake beach': 'MD', 'Churchton': 'MD', 'Owings': 'MD', 'Capital heights': 'MD', 'Fort washington': 'PA', 'Oxon hill': 'MD', 'Suitland': 'MD', 'District heights': 'MD', 'Temple hills': 'MD', 'Deale': 'MD', 'Fort george g me': 'MD', 'Zcta 20762': 'MD', 'Savage': 'MT', 'Shady side': 'MD', 'Galesville': 'WI', 'Glenn dale': 'MD', 'Greenbelt': 'MD', 'Upper marlboro': 'MD', 'Harwood': 'TX', 'West river': 'MD', 'Tracys landing': 'MD', 'Hyattsville': 'MD', 'West hyattsville': 'MD', 'Adelphi': 'OH', 'Landover hills': 'MD', 'Landover': 'MD', 'Jessup': 'PA', 'Zcta 207hh': 'MD', 'Glen echo': 'MD', 'Bethesda': 'OH', 'Chevy chase': 'MD', 'West bethesda': 'MD', 'Cabin john': 'MD', 'Brookeville': 'MD', 'Poolesville': 'MD', 'Beallsville': 'PA', 'Boyds': 'MD', 'Dickerson': 'MD', 'Derwood': 'MD', 'Sandy spring': 'MD', 'Brinklow': 'MD', 'Burtonsville': 'MD', 'Darnestown': 'MD', 'Gaithersburg': 'MD', 'Laytonsville': 'MD', 'Washington grove': 'MD', 'Garrett park': 'MD', 'Zcta 208hh': 'MD', 'Silver spring': 'MD', 'Colesville': 'MD', 'Aspen hill': 'MD', 'Takoma park': 'MD', 'Zcta 209hh': 'MD', 'Aberdeen': 'WA', 'Aberdeen proving': 'MD', 'Gunpowder': 'MD', 'Bel air': 'MD', 'Belcamp': 'MD', 'Churchville': 'VA', 'Cockeysville hun': 'MD', 'Crownsville': 'MD', 'Davidsonville': 'MD', 'Edgewater beach': 'MD', 'Ellicott city': 'MD', 'Daniels': 'WV', 'Fallston': 'MD', 'Patapsco': 'MD', 'Fork': 'SC', 'Fort howard': 'MD', 'Freeland': 'WA', 'Gambrills': 'MD', 'Gibson island': 'MD', 'Glen arm': 'MD', 'Glen burnie': 'MD', 'Glyndon': 'MN', 'Greenmount': 'MD', 'Zcta 21075': 'MD', 'Harmans': 'MD', 'Havre de grace': 'MD', 'Hydes': 'MD', 'Jarrettsville': 'MD', 'Kingsville': 'TX', 'Linthicum height': 'MD', 'Lutherville': 'MD', 'Zcta 210hh': 'MD', 'Marriottsville': 'MD', 'Maryland line': 'MD', 'Millersville': 'PA', 'Odenton': 'MD', 'Owings mills': 'MD', 'Bentley springs': 'MD', 'Perry hall': 'MD', 'Perryman': 'MD', 'Pylesville': 'MD', 'Randallstown': 'MD', 'Reisterstown': 'MD', 'Riva': 'MD', 'Severn': 'NC', 'Severna park': 'MD', 'Rocks': 'MD', 'Fowbelsburg': 'MD', 'Upper falls': 'MD', 'Whiteford': 'MD', 'White marsh': 'MD', 'Granite': 'OK', 'Zcta 211hh': 'MD', 'Baltimore': 'OH', 'Eudowood': 'MD', 'Gwynn oak': 'MD', 'Pikesville': 'MD', 'Dundalk sparrows': 'MD', 'Middle river': 'MN', 'Brooklyn curtis': 'MD', 'Halethorpe': 'MD', 'Catonsville': 'MD', 'Parkville': 'MO', 'Nottingham': 'PA', 'Zcta 212hh': 'MD', 'Cape saint clair': 'MD', 'Naval academy': 'MD', 'Sherwood forest': 'MD', 'Zcta 214hh': 'MD', 'Cresaptown': 'MD', 'Accident': 'MD', 'Barton': 'VT', 'Bittinger': 'MD', 'Corriganville': 'MD', 'Eckhart mines': 'MD', 'Friendsville': 'TN', 'Frostburg': 'MD', 'Shallmar': 'MD', 'Lonaconing': 'MD', 'Luke': 'MD', 'Sang run': 'MD', 'Midlothian': 'VA', 'Mount savage': 'MD', 'Oldtown': 'MD', 'Rawlings': 'VA', 'Spring gap': 'MD', 'Swanton': 'VT', 'Mccoole': 'MD', 'Zcta 215hh': 'MD', 'Betterton': 'MD', 'Bozman': 'MD', 'Chestertown': 'NY', 'Church creek': 'MD', 'Church hill': 'TN', 'Claiborne': 'MD', 'Crapo': 'MD', 'Crocheron': 'MD', 'Crumpton': 'MD', 'East new market': 'MD', 'Federalsburg': 'MD', 'Fishing creek': 'MD', 'Goldsboro': 'TX', 'Grasonville': 'MD', 'Kennedyville': 'MD', 'Mcdaniel': 'MD', 'Massey': 'MD', 'Newcomb': 'TN', 'Queen anne': 'MD', 'Queenstown': 'MD', 'Rhodesdale': 'MD', 'Ridgely': 'TN', 'Rock hall': 'MD', 'Royal oak': 'MI', 'Secretary': 'MD', 'Stevensville': 'VA', 'Still pond': 'MD', 'Sudlersville': 'MD', 'Taylors island': 'MD', 'Tilghman': 'MD', 'Trappe': 'MD', 'Wittman': 'MD', 'Woolford': 'MD', 'Worton': 'MD', 'Wye mills': 'MD', 'Zcta 216hh': 'MD', 'Fort detrick': 'MD', 'Zcta 21703': 'MD', 'Zcta 21704': 'MD', 'Doubs': 'MD', 'Big pool': 'MD', 'Fahrney keedy me': 'MD', 'Buckeystown': 'MD', 'Burkittsville': 'MD', 'Fort ritchie': 'MD', 'Big spring': 'MD', 'Emmitsburg': 'MD', 'Fair play': 'SC', 'Funkstown': 'MD', 'Glenelg': 'MD', 'Ijamsville': 'MD', 'Keedysville': 'MD', 'Keymar': 'MD', 'Libertytown': 'MD', 'Little orleans': 'MD', 'Maugansville': 'MD', 'Myersville': 'MD', 'Point of rocks': 'WY', 'Rocky ridge': 'OH', 'Rohrersville': 'MD', 'Sabillasville': 'MD', 'Smithsburg': 'MD', 'Carrolltowne': 'MD', 'Taneytown': 'MD', 'Graceham': 'MD', 'Tuscarora': 'PA', 'Walkersville': 'WV', 'West friendship': 'MD', 'Williamsport': 'TN', 'Woodsboro': 'TX', 'Zcta 217hh': 'MD', 'Zcta 21804': 'MD', 'Bishopville': 'SC', 'Bivalve': 'MD', 'Crisfield': 'MD', 'Deal island': 'MD', 'Ewell': 'MD', 'Girdletree': 'MD', 'Linkwood': 'MD', 'Mardela springs': 'MD', 'Marion station': 'MD', 'Nanticoke': 'PA', 'Ocean city': 'WA', 'Parsonsburg': 'MD', 'Pittsville': 'WI', 'Pocomoke city': 'MD', 'Princess anne': 'MD', 'Quantico': 'VA', 'Sharptown': 'MD', 'Showell': 'MD', 'Snow hill': 'NC', 'Tyaskin': 'MD', 'Tylerton': 'MD', 'Upper fairmount': 'MD', 'Westover': 'PA', 'Whaleysville': 'MD', 'Willards': 'MD', 'Zcta 218hh': 'MD', 'Zcta 218xx': 'MD', 'North east': 'PA', 'Perry point': 'MD', 'Cecilton': 'MD', 'Chesapeake city': 'MD', 'Colora': 'MD', 'Conowingo': 'MD', 'Earleville': 'MD', 'Elk mills': 'MD', 'Zcta 219hh': 'MD', 'Agawam': 'MA', 'Barre': 'VT', 'Belchertown': 'MA', 'Blandford': 'MA', 'Chicopee': 'MA', 'Westover afb': 'MA', 'Cummington': 'MA', 'Mount tom': 'MA', 'East longmeadow': 'MA', 'East otis': 'MA', 'Feeding hills': 'MA', 'Hadley': 'PA', 'Haydenville': 'OH', 'Leverett': 'MA', 'Zcta 01062': 'MA', 'Oakham': 'MA', 'Shutesbury': 'MA', 'Southampton': 'NY', 'South hadley': 'MA', 'Southwick': 'MA', 'Ware': 'MA', 'West chesterfiel': 'NH', 'W hatfield': 'MA', 'West springfield': 'VA', 'West warren': 'MA', 'Wilbraham': 'MA', 'Zcta 010hh': 'MA', 'Longmeadow': 'MA', 'Indian orchard': 'MA', 'Zcta 011hh': 'MA', 'Ashley falls': 'MA', 'Becket': 'MA', 'Great barrington': 'MA', 'Housatonic': 'MA', 'Lenox dale': 'MA', 'Mill river': 'MA', 'West otis': 'MA', 'Sandisfield': 'MA', 'South egremont': 'MA', 'Southfield': 'MI', 'Tyringham': 'MA', 'West stockbridge': 'MA', 'Zcta 012hh': 'MA', 'Leyden': 'MA', 'Ashfield': 'MA', 'Hawley': 'TX', 'Colrain': 'MA', 'Erving': 'MA', 'Heath': 'TX', 'Millers falls': 'MA', 'Petersham': 'MA', 'Rowe': 'VA', 'Royalston': 'MA', 'Shelburne falls': 'MA', 'South deerfield': 'MA', 'Turners falls': 'MA', 'Wendell depot': 'MA', 'Zcta 013hh': 'MA', 'Fitchburg': 'WI', 'Ashburnham': 'MA', 'Ashby': 'NE', 'Ayer': 'MA', 'Baldwinville': 'MA', 'East templeton': 'MA', 'Hubbardston': 'MI', 'Leominster': 'MA', 'Lunenburg': 'VA', 'Pepperell': 'MA', 'Shirley center': 'MA', 'Still river': 'MA', 'W townsend': 'MA', 'Winchendon': 'MA', 'Zcta 014hh': 'MA', 'Boylston': 'MA', 'Charlton': 'MA', 'East brookfield': 'MA', 'East douglas': 'MA', 'Fiskdale': 'MA', 'Leicester': 'NC', 'Millbury': 'OH', 'New braintree': 'MA', 'Northborough': 'MA', 'Northbridge': 'MA', 'North brookfield': 'NY', 'North grafton': 'MA', 'North oxford': 'MA', 'Rochdale': 'MA', 'Shrewsbury': 'PA', 'Southbridge': 'MA', 'South grafton': 'MA', 'Sturbridge': 'MA', 'West upton': 'MA', 'Uxbridge': 'MA', 'Dudley hill': 'MA', 'Westborough': 'MA', 'West boylston': 'MA', 'West brookfield': 'MA', 'Whitinsville': 'MA', 'Wilkinsonville': 'MA', 'Zcta 015hh': 'MA', 'Worcester': 'VT', 'Zcta 016hh': 'MA', 'Framingham': 'MA', 'Zcta 01702': 'MA', 'Village of nagog': 'MA', 'Boxboro': 'MA', 'Hanscom afb': 'MA', 'Southborough': 'MA', 'Holliston': 'MA', 'Natick': 'MA', 'Sherborn': 'MA', 'Stow': 'OH', 'Sudbury': 'MA', 'Woburn': 'MA', 'Billerica': 'MA', 'South chelmsford': 'MA', 'Dracut': 'MA', 'Dunstable': 'MA', 'Methuen': 'MA', 'North andover': 'MA', 'Merrimac': 'WI', 'North billerica': 'MA', 'North chelmsford': 'MA', 'North reading': 'MA', 'Tewksbury': 'MA', 'Tyngsboro': 'MA', 'Graniteville': 'VT', 'Zcta 018hh': 'MA', 'West lynn': 'MA', 'Saugus': 'MA', 'Swampscott': 'MA', 'Nahant': 'MA', 'Amesbury': 'MA', 'Boxford': 'MA', 'Byfield': 'MA', 'Gloucester': 'NC', 'Ipswich': 'SD', 'Lynnfield': 'MA', 'Marblehead': 'MA', 'Newburyport': 'MA', 'Newbury': 'VT', 'South hamilton': 'MA', 'Wenham': 'MA', 'West newbury': 'VT', 'Zcta 019hh': 'MA', 'Bellingham': 'WA', 'East walpole': 'MA', 'Foxboro': 'WI', 'Hingham': 'MT', 'Medfield': 'MA', 'Millis': 'MA', 'Norwell': 'MA', 'Scituate': 'MA', 'South walpole': 'MA', 'Stoughton': 'WI', 'Wrentham': 'MA', 'Zcta 020hh': 'MA', 'Mattapan': 'MA', 'South boston': 'VA', 'East boston': 'MA', 'Jamaica plain': 'MA', 'Roslindale': 'MA', 'West roxbury': 'MA', 'Allston': 'MA', 'Hyde park': 'VT', 'North cambridge': 'MA', 'East cambridge': 'MA', 'Everett': 'WA', 'Revere': 'MO', 'Medford': 'WI', 'Braintree': 'MA', 'Weymouth': 'MA', 'Zcta 021hh': 'MA', 'Zcta 022hh': 'MA', 'Zcta 02301': 'MA', 'Zcta 02302': 'MA', 'Carver': 'MN', 'Duxbury': 'MA', 'East bridgewater': 'MA', 'Halifax': 'VA', 'Middleboro': 'MA', 'Abington': 'MA', 'North easton': 'MA', 'North pembroke': 'MA', 'South carver': 'MA', 'Plympton': 'MA', 'South easton': 'MA', 'West bridgewater': 'MA', 'Whitman': 'WV', 'Zcta 023hh': 'MA', 'Zcta 023xx': 'MA', 'Zcta 02420': 'MA', 'Zcta 02421': 'MA', 'Zcta 02445': 'MA', 'Zcta 02446': 'MA', 'Zcta 02451': 'MA', 'Zcta 02452': 'MA', 'Zcta 02453': 'MA', 'Zcta 02458': 'MA', 'Zcta 02459': 'MA', 'Zcta 02460': 'MA', 'Zcta 02461': 'MA', 'Zcta 02462': 'MA', 'Zcta 02464': 'MA', 'Zcta 02465': 'MA', 'Zcta 02466': 'MA', 'Zcta 02467': 'MA', 'Zcta 02468': 'MA', 'Zcta 02472': 'MA', 'Zcta 02474': 'MA', 'Zcta 02476': 'MA', 'Zcta 02478': 'MA', 'Zcta 02481': 'MA', 'Zcta 02482': 'MA', 'Zcta 02492': 'MA', 'Zcta 02493': 'MA', 'Zcta 02494': 'MA', 'Onset': 'MA', 'Cataumet': 'MA', 'Chilmark': 'MA', 'Teaticket': 'MA', 'East sandwich': 'MA', 'East wareham': 'MA', 'Edgartown': 'MA', 'Otis a f b': 'MA', 'Woods hole': 'MA', 'Nantucket': 'MA', 'North falmouth': 'MA', 'Pocasset': 'OK', 'Vineyard haven': 'MA', 'Wareham': 'MA', 'West tisbury': 'MA', 'West wareham': 'MA', 'Zcta 025hh': 'MA', 'Zcta 025xx': 'MA', 'West yarmouth': 'MA', 'Barnstable': 'MA', 'South chatham': 'MA', 'Cotuit': 'MA', 'Dennis port': 'MA', 'Eastham': 'MA', 'Forestdale': 'MA', 'Harwich': 'MA', 'Harwich port': 'MA', 'Hyannis port': 'MA', 'Marstons mills': 'MA', 'Mashpee': 'MA', 'North chatham': 'MA', 'North truro': 'MA', 'Osterville': 'MA', 'Provincetown': 'MA', 'South dennis': 'NJ', 'South harwich': 'MA', 'Bass river': 'MA', 'Wellfleet': 'NE', 'West barnstable': 'MA', 'West chatham': 'MA', 'West dennis': 'MA', 'West harwich': 'MA', 'West hyannisport': 'MA', 'Yarmouth port': 'MA', 'Zcta 026hh': 'MA', 'Assonet': 'MA', 'Attleboro': 'MA', 'Cuttyhunk': 'MA', 'Dighton': 'MA', 'East freetown': 'MA', 'East taunton': 'MA', 'Fairhaven': 'MA', 'Mattapoisett': 'MA', 'Acushnet': 'MA', 'North dartmouth': 'MA', 'Padanaram villag': 'MA', 'North attleboro': 'MA', 'North dighton': 'MA', 'Raynham': 'MA', 'Rehoboth': 'NM', 'Seekonk': 'MA', 'Swansea': 'SC', 'Berkley': 'MI', 'Taunton': 'MN', 'Zcta 027hh': 'MA', 'Pearl beach': 'MI', 'Armada': 'MI', 'Mussey': 'MI', 'Center line': 'MI', 'Clawson': 'UT', 'Eastpointe': 'MI', 'Ira': 'TX', 'Harsens island': 'MI', 'Hazel park': 'MI', 'Grant township': 'MI', 'Clinton township': 'MI', 'Cottrellville': 'MI', 'Mount clemens': 'MI', 'Selfridge a n g': 'MI', 'China': 'TX', 'Fort gratiot': 'MI', 'Port huron': 'MI', 'Bruce': 'WI', 'Pleasant ridge': 'MI', 'Huntington woods': 'MI', 'Madison heights': 'VA', 'Kimball': 'WV', 'Lathrup village': 'MI', 'Saint clair': 'PA', 'Saint clair shor': 'MI', 'Ray': 'OH', 'Brockway': 'PA', 'Zcta 480hh': 'MI', 'Allen park': 'MI', 'Ann arbor': 'MI', 'Zcta 48114': 'MI', 'Carleton': 'NE', 'Dearborn': 'MO', 'Melvindale': 'MI', 'Dearborn heights': 'MI', 'Gregory': 'TX', 'Grosse ile': 'MI', 'Inkster': 'MI', 'Lambertville': 'NJ', 'Lincoln park': 'NJ', 'Luna pier': 'MI', 'Maybee': 'MI', 'Detroit beach': 'MI', 'Zcta 48162': 'MI', 'New hudson': 'MI', 'Northville': 'SD', 'Pinckney': 'MI', 'Gibraltar': 'MI', 'Romulus': 'MI', 'Saline': 'MI', 'South lyon': 'MI', 'South rockwood': 'MI', 'Temperance': 'MI', 'Woodhaven': 'NY', 'Westland': 'PA', 'Zcta 48186': 'MI', 'Whitmore lake': 'MI', 'Whittaker': 'WV', 'Willis': 'VA', 'Ypsilanti': 'ND', 'Zcta 481hh': 'MI', 'Hamtramck': 'MI', 'River rouge': 'MI', 'Harper woods': 'MI', 'Ecorse': 'MI', 'Grosse pointe': 'MI', 'Redford': 'TX', 'Zcta 482hh': 'MI', 'Bloomfield towns': 'MI', 'Rochester hills': 'MI', 'Sterling heights': 'MI', 'Shelby township': 'MI', 'Sylvan lake': 'MI', 'West bloomfield': 'NY', 'Orchard lake': 'MI', 'Auburn hills': 'MI', 'Farmington hills': 'MI', 'Addison township': 'MI', 'Novi': 'MI', 'Commerce townshi': 'MI', 'White lake': 'WI', 'Wolverine lake': 'MI', 'Wixom': 'MI', 'Zcta 483hh': 'MI', 'Bad axe': 'MI', 'Birch run': 'MI', 'Brown city': 'MI', 'Carsonville': 'MI', 'Columbiaville': 'MI', 'Croswell': 'MI', 'Davison': 'MI', 'Deckerville': 'MI', 'Dryden': 'WA', 'Filion': 'MI', 'Flushing': 'OH', 'Fostoria': 'OH', 'Gaines': 'PA', 'Goodrich': 'TX', 'Grand blanc': 'MI', 'Harbor beach': 'MI', 'Imlay city': 'MI', 'Kinde': 'MI', 'Lapeer': 'MI', 'Lennon': 'MI', 'Marlette': 'MI', 'Minden city': 'MI', 'New lothrop': 'MI', 'North branch': 'NY', 'Ortonville': 'MN', 'Otisville': 'NY', 'Otter lake': 'MI', 'Palms': 'MI', 'Port austin': 'MI', 'Port hope': 'MI', 'Port sanilac': 'MI', 'Sandusky': 'OH', 'Snover': 'MI', 'Swartz creek': 'MI', 'Ubly': 'MI', 'Zcta 484hh': 'MI', 'Flint': 'TX', 'Northwest': 'MI', 'Northeast': 'MI', 'Southeast': 'MI', 'Zcta 485hh': 'MI', 'Saginaw': 'TX', 'Alger': 'OH', 'Brant': 'MI', 'Chesaning': 'MI', 'Comins': 'MI', 'Edenville': 'MI', 'Farwell': 'TX', 'Gladwin': 'MI', 'Hemlock': 'OH', 'Higgins lake': 'MI', 'Houghton lake': 'MI', 'Houghton lake he': 'MI', 'Kawkawlin': 'MI', 'Lake': 'WV', 'Mio': 'MI', 'Pinconning': 'MI', 'Prudenville': 'MI', 'Roscommon': 'MI', 'Rose city': 'MI', 'Saint helen': 'MI', 'Zcta 486hh': 'MI', 'Zcta 486xx': 'MI', 'Au gres': 'MI', 'Barton city': 'MI', 'University cente': 'MI', 'Bay city': 'WI', 'Bay port': 'MI', 'Black river': 'NY', 'Caro': 'MI', 'Caseville': 'MI', 'Cass city': 'MI', 'Curran': 'MI', 'Deford': 'MI', 'East tawas': 'MI', 'Essexville': 'MI', 'Fairgrove': 'MI', 'Frankenmuth': 'MI', 'Gagetown': 'MI', 'Glennie': 'MI', 'Greenbush': 'VA', 'Harrisville': 'RI', 'Long lake': 'NY', 'Mayville': 'WI', 'Mikado': 'MI', 'Munger': 'MI', 'Omer': 'MI', 'Oscoda': 'MI', 'Owendale': 'MI', 'Pigeon': 'WV', 'Reese': 'MI', 'Sebewaing': 'MI', 'Silverwood': 'MI', 'South branch': 'MI', 'Spruce': 'MI', 'Tawas city': 'MI', 'Twining': 'MI', 'Zcta 487hh': 'MI', 'Bannister': 'MI', 'Belding': 'MI', 'Carson city': 'NV', 'Crystal': 'ND', 'Dansville': 'NY', 'Dimondale': 'MI', 'East lansing': 'MI', 'Eaton rapids': 'MI', 'Edmore': 'ND', 'Elm hall': 'MI', 'Carland': 'MI', 'Elwell': 'MI', 'Fenwick': 'WV', 'Fowlerville': 'MI', 'Grand ledge': 'MI', 'Haslett': 'MI', 'Howell': 'UT', 'Ithaca': 'NE', 'Laingsburg': 'MI', 'Lake odessa': 'MI', 'Mcbrides': 'MI', 'Maple rapids': 'MI', 'Morrice': 'MI', 'Muir': 'PA', 'Mulliken': 'MI', 'Okemos': 'MI', 'Owosso': 'MI', 'Perrinton': 'MI', 'Pewamo': 'MI', 'Pompeii': 'MI', 'Potterville': 'MI', 'Rosebush': 'MI', 'Saint louis': 'OK', 'Saranac': 'NY', 'Shepherd': 'TX', 'Six lakes': 'MI', 'Sunfield': 'MI', 'Vestaburg': 'PA', 'Webberville': 'MI', 'Weidman': 'MI', 'Williamston': 'SC', 'Zcta 488hh': 'MI', 'Zcta 489hh': 'MI', 'Kalamazoo': 'MI', 'Parchment': 'MI', 'Allegan': 'MI', 'Zcta 49014': 'MI', 'Benton harbor': 'MI', 'Zcta 49024': 'MI', 'Breedsville': 'MI', 'Cassopolis': 'MI', 'Ceresco': 'NE', 'Colon': 'NC', 'Constantine': 'MI', 'Covert': 'MI', 'Delton': 'MI', 'Dowagiac': 'MI', 'Dowling': 'MI', 'East leroy': 'MI', 'Gobles': 'MI', 'Hickory corners': 'MI', 'Leonidas': 'MI', 'Marcellus': 'NY', 'Mattawan': 'MI', 'Nottawa': 'MI', 'Olivet': 'SD', 'Otsego': 'MI', 'Plainwell': 'MI', 'Schoolcraft': 'MI', 'Scotts': 'MI', 'Tekonsha': 'MI', 'Vermontville': 'NY', 'Vicksburg': 'MS', 'Watervliet': 'NY', 'White pigeon': 'MI', 'Zcta 490hh': 'MI', 'Baroda': 'MI', 'Berrien center': 'MI', 'Berrien springs': 'MI', 'Bridgman': 'MI', 'Eau claire': 'WI', 'Edwardsburg': 'MI', 'Galien': 'MI', 'Harbert': 'MI', 'Grand beach': 'MI', 'New troy': 'MI', 'Sodus': 'NY', 'Three oaks': 'MI', 'Union pier': 'MI', 'Zcta 491hh': 'MI', 'Blissfield': 'MI', 'Britton': 'SD', 'Cement city': 'MI', 'Clarklake': 'MI', 'Grass lake': 'MI', 'Manitou beach': 'MI', 'Michigan center': 'MI', 'Munith': 'MI', 'North adams': 'MI', 'Norvell': 'MI', 'Onondaga': 'NY', 'Onsted': 'MI', 'Osseo': 'WI', 'Ottawa lake': 'MI', 'Pittsford': 'VT', 'Riga': 'MI', 'Rives junction': 'MI', 'Sand creek': 'MI', 'Somerset center': 'MI', 'Spring arbor': 'MI', 'Zcta 492hh': 'MI', 'Ada': 'OK', 'Barryton': 'MI', 'Big rapids': 'MI', 'Bitely': 'MI', 'Brohman': 'MI', 'Byron center': 'MI', 'Casnovia': 'MI', 'Comstock park': 'MI', 'Coral': 'PA', 'Dorr': 'MI', 'Gowen': 'OK', 'Hopkins': 'SC', 'Howard city': 'MI', 'Kent city': 'MI', 'Mecosta': 'MI', 'Middleville': 'NY', 'Newaygo': 'MI', 'Remus': 'MI', 'Trufant': 'MI', 'Zcta 493hh': 'MI', 'Conklin': 'NY', 'Coopersville': 'MI', 'Fennville': 'MI', 'Free soil': 'MI', 'Fruitport': 'MI', 'Grand haven': 'MI', 'Grandville': 'MI', 'Hart': 'TX', 'Hudsonville': 'MI', 'Jenison': 'MI', 'Ludington': 'MI', 'Macatawa': 'MI', 'Mears': 'VA', 'Muskegon': 'MI', 'Muskegon heights': 'MI', 'North muskegon': 'MI', 'New era': 'MI', 'Nunica': 'MI', 'Pentwater': 'MI', 'Pullman': 'WV', 'Rothbury': 'MI', 'Saugatuck': 'MI', 'Scottville': 'MI', 'Spring lake': 'NC', 'Twin lake': 'MI', 'Walhalla': 'SC', 'Walkerville': 'MT', 'West olive': 'MI', 'Whitehall': 'WI', 'Zeeland': 'ND', 'Zcta 494hh': 'MI', 'Grand rapids': 'OH', 'Zcta 49525': 'MI', 'Zcta 49544': 'MI', 'Zcta 495hh': 'MI', 'Cadillac': 'MI', 'Alba': 'TX', 'Bear lake': 'PA', 'Benzonia': 'MI', 'Boon': 'MI', 'Brethren': 'MI', 'Central lake': 'MI', 'Copemish': 'MI', 'Eastlake': 'MI', 'Elk rapids': 'MI', 'Evart': 'MI', 'Fife lake': 'MI', 'Filer city': 'MI', 'Glen arbor': 'MI', 'Grawn': 'MI', 'Harrietta': 'MI', 'Hersey': 'MI', 'Honor': 'MI', 'Idlewild': 'MI', 'Interlochen': 'MI', 'Irons': 'MI', 'Kaleva': 'MI', 'Kalkaska': 'MI', 'Kewadin': 'MI', 'Lake ann': 'MI', 'Moorestown': 'NJ', 'Lake leelanau': 'MI', 'Mc bain': 'MI', 'Mancelona': 'MI', 'Stronach': 'MI', 'Merritt': 'NC', 'Mesick': 'MI', 'Onekama': 'MI', 'Rapid city': 'MI', 'Reed city': 'MI', 'Sears': 'MI', 'South boardman': 'MI', 'Suttons bay': 'MI', 'Traverse city': 'MI', 'Zcta 49686': 'MI', 'Tustin': 'MI', 'Wellston': 'OK', 'Zcta 496hh': 'MI', 'Mackinaw city': 'MI', 'Alanson': 'MI', 'Barbeau': 'MI', 'Boyne city': 'MI', 'Boyne falls': 'MI', 'Raco': 'MI', 'Brutus': 'MI', 'Carp lake': 'MI', 'Charlevoix': 'MI', 'Cheboygan': 'MI', 'Dafter': 'MI', 'De tour village': 'MI', 'Drummond island': 'MI', 'East jordan': 'MI', 'Eckerman': 'MI', 'Frederic': 'MI', 'Goetzville': 'MI', 'Harbor point': 'MI', 'Hawks': 'MI', 'Herron': 'MI', 'Hessel': 'MI', 'Hillman': 'MN', 'Hubbard lake': 'MI', 'Hulbert': 'OK', 'Indian river': 'MI', 'Kinross': 'MI', 'Lachine': 'MI', 'Levering': 'MI', 'Mackinac island': 'MI', 'Mullett lake': 'MI', 'Naubinway': 'MI', 'Onaway': 'MI', 'Ossineke': 'MI', 'Pellston': 'MI', 'Bay view': 'WI', 'Pickford': 'MI', 'Pointe aux pins': 'MI', 'Rogers city': 'MI', 'Fibre': 'MI', 'Saint ignace': 'MI', 'Sault sainte mar': 'MI', 'Kincheloe': 'MI', 'Topinabee': 'MI', 'Tower': 'MN', 'Trout lake': 'WA', 'Vanderbilt': 'TX', 'Walloon lake': 'MI', 'Wolverine': 'MI', 'Zcta 497hh': 'MI', 'Zcta 497xx': 'MI', 'Iron mountain': 'MO', 'Allouez': 'WI', 'Au train': 'MI', 'Hardwood': 'MI', 'Big bay': 'MI', 'Carney': 'OK', 'Cedar river': 'MI', 'Champion': 'PA', 'Channing': 'TX', 'Cooks': 'MI', 'Cornell': 'WI', 'Curtis': 'WA', 'Deerton': 'MI', 'Eben junction': 'MI', 'Rumely': 'MI', 'Engadine': 'MI', 'Escanaba': 'MI', 'Felch': 'MI', 'Little lake': 'MI', 'Garden': 'MI', 'Germfask': 'MI', 'Brampton': 'ND', 'Gould city': 'MI', 'Grand marais': 'MN', 'Gulliver': 'MI', 'Hermansville': 'MI', 'North lake': 'MI', 'Mc millan': 'OK', 'Beaver grove': 'MI', 'Menominee': 'MI', 'Michigamme': 'MI', 'Nadeau': 'MI', 'Nahma': 'MI', 'Negaunee': 'MI', 'Perronville': 'MI', 'Powers': 'OR', 'Quinnesec': 'MI', 'Rapid river': 'MI', 'Sagola': 'MI', 'Seney': 'MI', 'Shingleton': 'MI', 'Skandia': 'MI', 'Spalding': 'NE', 'Stephenson': 'WV', 'Trenary': 'MI', 'Vulcan': 'MO', 'Zcta 498hh': 'MI', 'Zcta 498xx': 'MI', 'Ahmeek': 'MI', 'Amasa': 'MI', 'Atlantic mine': 'MI', 'Keweenaw bay': 'MI', 'Bergland': 'MI', 'Bruce crossing': 'MI', 'Laurium': 'MI', 'Caspian': 'MI', 'Chassell': 'MI', 'Copper city': 'MI', 'Copper harbor': 'MI', 'Crystal falls': 'MI', 'Dodgeville': 'WI', 'Dollar bay': 'MI', 'Ewen': 'MI', 'Gaastra': 'MI', 'Greenland': 'NH', 'Hubbell': 'NE', 'Iron river': 'WI', 'Ironwood': 'MI', 'Kearsarge': 'MI', 'Gay': 'WV', 'Lanse': 'PA', 'Marenisco': 'MI', 'Mass city': 'MI', 'Eagle harbor': 'MI', 'Nisula': 'MI', 'Ontonagon': 'MI', 'Painesdale': 'MI', 'Pelkie': 'MI', 'Ramsay': 'MT', 'Sidnaw': 'MI', 'Skanee': 'MI', 'South range': 'MI', 'Toivola': 'MI', 'Trout creek': 'UT', 'Watersmeet': 'MI', 'Watton': 'MI', 'White pine': 'MI', 'Zcta 499hh': 'MI', 'Zcta 499xx': 'MI', 'Bayport': 'NY', 'East bethel': 'MN', 'Braham': 'MN', 'Quamba': 'MN', 'Cannon falls': 'MN', 'Cedar east bethe': 'MN', 'Center city': 'MN', 'Chisago city': 'MN', 'Circle pines': 'MN', 'Cottage grove': 'WI', 'Dalbo': 'MN', 'Faribault': 'MN', 'Forest lake': 'MN', 'Goodhue': 'MN', 'Grasston': 'MN', 'Welch': 'WV', 'Henriette': 'MN', 'Isanti': 'MN', 'Lake elmo': 'MN', 'Lindstrom': 'MN', 'Veseli': 'MN', 'Marine on saint': 'MN', 'Mora': 'NM', 'Nerstrand': 'MN', 'Owatonna': 'MN', 'Beroun': 'MN', 'Rosemount': 'MN', 'Rush city': 'MN', 'Saint paul park': 'MN', 'Markville': 'MN', 'Shafer': 'MN', 'South saint paul': 'MN', 'Inver grove heig': 'MN', 'Stacy': 'NC', 'Stanchfield': 'MN', 'Oak park heights': 'MN', 'Taylors falls': 'MN', 'Vermillion': 'SD', 'Willernie': 'MN', 'Zcta 550hh': 'MN', 'West saint paul': 'MN', 'Lauderdale': 'MS', 'North saint paul': 'MN', 'White bear lake': 'MN', 'New brighton': 'PA', 'Little canada': 'MN', 'Eagan': 'TN', 'Shoreview': 'MN', 'Vadnais heights': 'MN', 'Zcta 55129': 'MN', 'Zcta 551hh': 'MN', 'Annandale': 'VA', 'Ham lake': 'MN', 'Minnetonka': 'MN', 'Burnsville': 'VA', 'Becker': 'MN', 'Bird island': 'MN', 'Maple grove': 'MN', 'Brownton': 'WV', 'Buffalo lake': 'MN', 'Champlin': 'MN', 'Chanhassen': 'MN', 'Chaska': 'MN', 'Cokato': 'MN', 'Cologne': 'MN', 'Dassel': 'MN', 'Eden valley': 'MN', 'Excelsior': 'PA', 'Gibbon': 'NE', 'Green isle': 'MN', 'Eden prairie': 'MN', 'Howard lake': 'MN', 'Lester prairie': 'MN', 'Maple lake': 'MN', 'Maple plain': 'MN', 'New germany': 'MN', 'Plato': 'MO', 'Prior lake': 'MN', 'Bible college': 'MN', 'Shakopee': 'MN', 'Spring park': 'MN', 'Waconia': 'MN', 'Wayzata': 'MN', 'Zimmerman': 'MN', 'Zcta 553hh': 'MN', 'Edina': 'MO', 'Saint louis park': 'MN', 'Columbia heights': 'MN', 'Robbinsdale': 'MN', 'Brooklyn center': 'MN', 'Fridley': 'MN', 'Brooklyn park': 'MN', 'Zcta 554hh': 'MN', 'Beaver bay': 'MN', 'Brimson': 'MN', 'Finland': 'MN', 'Grand portage': 'MN', 'Hovland': 'MN', 'Isabella': 'PA', 'Knife river': 'MN', 'Lutsen': 'MN', 'Schroeder': 'MN', 'Little marais': 'MN', 'Tofte': 'MN', 'Two harbors': 'MN', 'Zcta 556hh': 'MN', 'Zcta 556xx': 'MN', 'Alborn': 'MN', 'Angora': 'NE', 'Askov': 'MN', 'Babbitt': 'MN', 'Biwabik': 'MN', 'Bovey': 'MN', 'Bruno': 'WV', 'Calumet': 'OK', 'Canyon': 'TX', 'Chisholm': 'MN', 'Cloquet': 'MN', 'Coleraine': 'MN', 'Cook': 'WA', 'Kelsey': 'MN', 'Crane lake': 'MN', 'Embarrass': 'WI', 'Esko': 'MN', 'Eveleth': 'MN', 'Finlayson': 'MN', 'Floodwood': 'MN', 'Forbes': 'ND', 'Hibbing': 'MN', 'Hoyt lakes': 'MN', 'Iron': 'MN', 'Jacobson': 'MN', 'Keewatin': 'MN', 'Kerrick': 'MN', 'Kettle river': 'MN', 'Kinney': 'MN', 'Makinen': 'MN', 'Meadowlands': 'MN', 'Moose lake': 'MN', 'Mountain iron': 'MN', 'Nashwauk': 'MN', 'Buyck': 'MN', 'Pengilly': 'MN', 'Side lake': 'MN', 'Soudan': 'MN', 'Sturgeon lake': 'MN', 'Swan river': 'MN', 'Swatara': 'PA', 'Taconite': 'MN', 'Tamarack': 'MN', 'Virginia': 'NE', 'Warba': 'MN', 'Willow river': 'MN', 'Wrenshall': 'MN', 'Zcta 557hh': 'MN', 'Zcta 557xx': 'MN', 'Hermantown': 'MN', 'Zcta 558hh': 'MN', 'Altura': 'MN', 'Blooming prairie': 'MN', 'Brownsdale': 'MN', 'Chatfield': 'TX', 'Dodge center': 'MN', 'Eitzen': 'MN', 'Grand meadow': 'MN', 'Hayfield': 'MN', 'Hokah': 'MN', 'Kasson': 'WV', 'Theilman': 'MN', 'Kenyon': 'MN', 'La crescent': 'MN', 'Lyle': 'WA', 'Mabel': 'MN', 'Mantorville': 'MN', 'Mazeppa': 'MN', 'Minnesota city': 'MN', 'Oronoco': 'MN', 'Ostrander': 'OH', 'Pine island': 'NY', 'Racine': 'WI', 'Rollingstone': 'MN', 'Rose creek': 'MN', 'Rushford': 'NY', 'Sargeant': 'MN', 'Stewartville': 'MN', 'Taopi': 'MN', 'Wabasha': 'MN', 'Waltham': 'MN', 'Wanamingo': 'MN', 'West concord': 'MN', 'Goodview': 'VA', 'Wykoff': 'MN', 'Zumbrota': 'MN', 'Zcta 559hh': 'MN', 'North mankato': 'MN', 'Albert lea': 'MN', 'Blue earth': 'MN', 'Bricelyn': 'MN', 'Clarks grove': 'MN', 'Comfrey': 'MN', 'Conger': 'MN', 'Darfur': 'MN', 'Elysian': 'MN', 'Emmons': 'MN', 'Fairmont': 'OK', 'Freeborn': 'MN', 'Frost': 'TX', 'Glenville': 'NC', 'Good thunder': 'MN', 'Hanska': 'MN', 'Hollandale': 'WI', 'Kasota': 'MN', 'Kiester': 'MN', 'Kilkenny': 'MN', 'Lake crystal': 'MN', 'Le center': 'MN', 'Le sueur': 'MN', 'Madelia': 'MN', 'Madison lake': 'MN', 'Minnesota lake': 'MN', 'New prague': 'MN', 'New richland': 'MN', 'New ulm': 'TX', 'Nicollet': 'MN', 'Northrop': 'MN', 'Pemberton': 'OH', 'Sleepy eye': 'MN', 'Truman': 'MN', 'Vernon center': 'NY', 'Waseca': 'MN', 'Zcta 560hh': 'MN', 'Balaton': 'MN', 'Beaver creek': 'MN', 'Bingham lake': 'MN', 'Butterfield': 'MO', 'Ceylon': 'MN', 'Currie': 'NC', 'Dunnell': 'MN', 'Garvin': 'OK', 'Hendricks': 'WV', 'Heron lake': 'MN', 'Ihlen': 'MN', 'Jeffers': 'MN', 'Kenneth': 'MN', 'Lake benton': 'MN', 'Lakefield': 'MN', 'Lake wilson': 'MN', 'Lamberton': 'PA', 'Leota': 'MN', 'Lismore': 'MN', 'Lynd': 'MN', 'Mountain lake': 'VA', 'Okabena': 'MN', 'Ormsby': 'PA', 'Rushmore': 'MN', 'Sherburn': 'MN', 'Slayton': 'MN', 'Steen': 'MN', 'Storden': 'MN', 'Trimont': 'MN', 'Trosky': 'MN', 'Tyler': 'TX', 'Wilmont': 'MN', 'Zcta 561hh': 'MN', 'Willmar': 'MN', 'Appleton': 'WI', 'Beardsley': 'MN', 'Belview': 'MN', 'Svea': 'MN', 'Boyd': 'WI', 'Chokio': 'MN', 'Clara city': 'MN', 'Clarkfield': 'MN', 'Clontarf': 'MN', 'Correll': 'MN', 'Cosmos': 'MN', 'Danube': 'MN', 'Granite falls': 'WA', 'Hanley falls': 'MN', 'Hawick': 'MN', 'Herman': 'NE', 'Holloway': 'MN', 'Kandiyohi': 'MN', 'Kerkhoven': 'MN', 'Lake lillian': 'MN', 'Lucan': 'MN', 'Minneota': 'MN', 'Montevideo': 'VA', 'Olivia': 'NC', 'Pennock': 'MN', 'Prinsburg': 'MN', 'Renville': 'MN', 'Sacred heart': 'MN', 'Seaforth': 'MN', 'Spicer': 'MN', 'Sunburg': 'MN', 'Vesta': 'MN', 'Wanda': 'MN', 'Wood lake': 'NE', 'Zcta 562hh': 'MN', 'Zcta 562xx': 'MN', 'Barrett': 'TX', 'Bock': 'MN', 'Bowlus': 'MN', 'Brooten': 'MN', 'Burtrum': 'MN', 'Carlos': 'MN', 'Cold spring': 'NY', 'Cyrus': 'MN', 'Elrosa': 'MN', 'Flensburg': 'MN', 'Foreston': 'MN', 'Greenwald': 'MN', 'Grey eagle': 'MN', 'Holdingford': 'MN', 'Isle': 'MN', 'Little falls': 'NY', 'Little sauk': 'MN', 'Lowry': 'MN', 'Milaca': 'MN', 'Miltona': 'MN', 'Nelson': 'WI', 'New munich': 'MN', 'Ogilvie': 'MN', 'Onamia': 'MN', 'Osakis': 'MN', 'Parkers prairie': 'MN', 'Paynesville': 'WV', 'Pierz': 'MN', 'Saint stephen': 'MN', 'Saint martin': 'MN', 'Sartell': 'MN', 'Sauk centre': 'MN', 'Sauk rapids': 'MN', 'Starbuck': 'WA', 'Swanville': 'MN', 'Upsala': 'MN', 'Villard': 'MN', 'Wahkon': 'MN', 'Waite park': 'MN', 'Zcta 563hh': 'MN', 'East gull lake': 'MN', 'Aitkin': 'MN', 'Akeley': 'MN', 'Aldrich': 'MO', 'Backus': 'MN', 'Bertha': 'MN', 'Browerville': 'MN', 'Clarissa': 'MN', 'Crosby': 'PA', 'Crosslake': 'MN', 'Deerwood': 'MN', 'Eagle bend': 'MN', 'Emily': 'MN', 'Fifty lakes': 'MN', 'Fort ripley': 'MN', 'Hackensack': 'NJ', 'Hewitt': 'WI', 'Ironton': 'OH', 'Jenkins': 'MO', 'Menahga': 'MN', 'Merrifield': 'MN', 'Leader': 'MN', 'Nevis': 'MN', 'Lake shore': 'MN', 'Park rapids': 'MN', 'Pequot lakes': 'MN', 'Pillager': 'MN', 'Pine river': 'WI', 'Sebeka': 'MN', 'Staples': 'TX', 'Verndale': 'MN', 'Zcta 564hh': 'MN', 'Zcta 564xx': 'MN', 'Detroit lakes': 'MN', 'Downer': 'MN', 'Battle lake': 'MN', 'Bejou': 'MN', 'Beltrami': 'MN', 'Borup': 'MN', 'Doran': 'VA', 'Clitherall': 'MN', 'Comstock': 'WI', 'Dent': 'MN', 'Dilworth': 'MN', 'Elbow lake': 'MN', 'Erhard': 'MN', 'Erskine': 'MN', 'Fosston': 'MN', 'Foxhome': 'MN', 'Frazee': 'MN', 'Halstad': 'MN', 'Rollag': 'MN', 'Hendrum': 'MN', 'Hitterdal': 'MN', 'Mcintosh': 'MN', 'Mahnomen': 'MN', 'Naytahwaush': 'MN', 'New york mills': 'NY', 'Nielsville': 'MN', 'Ogema': 'WI', 'Ottertail': 'MN', 'Pelican rapids': 'MN', 'Perley': 'MN', 'Ponsford': 'MN', 'Richville': 'NY', 'Rochert': 'MN', 'Rothsay': 'MN', 'Sabin': 'MN', 'Shelly': 'MN', 'Tenney': 'MN', 'Twin valley': 'MN', 'Ulen': 'MN', 'Vergas': 'MN', 'Waubun': 'MN', 'Winger': 'MN', 'Wolverton': 'MN', 'Zcta 565hh': 'MN', 'Zcta 565xx': 'MN', 'Bemidji': 'MN', 'Baudette': 'MN', 'Bena': 'MN', 'Big falls': 'MN', 'Bigfork': 'MN', 'Birchdale': 'MN', 'Blackduck': 'MN', 'Cass lake': 'MN', 'Clearbrook': 'MN', 'Deer river': 'MN', 'Talmoon': 'MN', 'Effie': 'MN', 'Federal dam': 'MN', 'Gonvick': 'MN', 'Gully': 'MN', 'International fa': 'MN', 'Kelliher': 'MN', 'Lengby': 'MN', 'Leonard': 'TX', 'Littlefork': 'MN', 'Loman': 'MN', 'Marcell': 'MN', 'Max': 'ND', 'Mizpah': 'MN', 'Northome': 'MN', 'Outing': 'MN', 'Ponemah': 'MN', 'Puposky': 'MN', 'Redby': 'MN', 'Redlake': 'MN', 'Remer': 'MN', 'Shevlin': 'MN', 'Solway': 'MN', 'Squaw lake': 'MN', 'Tenstrike': 'MN', 'Trail': 'OR', 'Waskish': 'MN', 'Wirt': 'MN', 'Zcta 566hh': 'MN', 'Zcta 566xx': 'MN', 'Thief river fall': 'MN', 'Alvarado': 'TX', 'Angle inlet': 'MN', 'Angus': 'MN', 'Crookston': 'NE', 'East grand forks': 'MN', 'Euclid': 'OH', 'Gatzke': 'MN', 'Goodridge': 'MN', 'Grygla': 'MN', 'Hallock': 'MN', 'Halma': 'MN', 'Karlstad': 'MN', 'Lake bronson': 'MN', 'Mentor': 'OH', 'Newfolden': 'MN', 'Oak island': 'NC', 'Oklee': 'MN', 'Oslo': 'MN', 'Red lake falls': 'MN', 'Pencer': 'MN', 'Saint hilaire': 'MN', 'Saint vincent': 'MN', 'Salol': 'MN', 'Stephen': 'MN', 'Strandquist': 'MN', 'Strathcona': 'MN', 'Viking': 'MN', 'Wannaska': 'MN', 'Warroad': 'MN', 'Zcta 567hh': 'MN', 'Zcta 567xx': 'MN', 'Belen': 'MS', 'Byhalia': 'MS', 'Coahoma': 'TX', 'Askew': 'MS', 'Crowder': 'OK', 'Darling': 'MS', 'Etta': 'MS', 'Falkner': 'MS', 'Farrell': 'PA', 'Friars point': 'MS', 'Hickory flat': 'MS', 'Holly springs': 'NC', 'Horn lake': 'MS', 'Jonestown': 'TX', 'Lake cormorant': 'MS', 'Lambert': 'MT', 'Lyon': 'MS', 'Marks': 'MS', 'Myrtle': 'WV', 'Nesbit': 'MS', 'Pope': 'MS', 'Potts camp': 'MS', 'Red banks': 'MS', 'Ripley': 'WV', 'Robinsonville': 'MS', 'Senatobia': 'MS', 'Sledge': 'MS', 'Southaven': 'MS', 'Zcta 38672': 'MS', 'Tiplersville': 'MS', 'University': 'VA', 'Walls': 'MS', 'Zcta 386hh': 'MS', 'Zcta 386xx': 'MS', 'Alligator': 'MS', 'Anguilla': 'MS', 'Benoit': 'MS', 'Boyle': 'MS', 'Doddsville': 'MS', 'Drew': 'MS', 'Parchman': 'MS', 'Duncan': 'WV', 'Glen allan': 'MS', 'Baird': 'TX', 'Isola': 'MS', 'Mattson': 'MS', 'Merigold': 'MS', 'Metcalfe': 'MS', 'Mound bayou': 'MS', 'Nitta yuma': 'MS', 'Panther burn': 'MS', 'Rena lara': 'MS', 'Ruleville': 'MS', 'Shaw': 'MS', 'Zcta 387hh': 'MS', 'Zcta 387xx': 'MS', 'Zcta 38804': 'MS', 'Amory': 'MS', 'Baldwyn': 'MS', 'Belden': 'ND', 'Blue springs': 'NE', 'Kossuth': 'PA', 'Ecru': 'MS', 'Gattman': 'MS', 'Glen': 'WV', 'Greenwood spring': 'MS', 'Guntown': 'MS', 'Houlka': 'MS', 'Mantachie': 'MS', 'Mooreville': 'MS', 'Nettleton': 'MS', 'Pontotoc': 'TX', 'Rienzi': 'MS', 'Saltillo': 'TX', 'Thaxton': 'VA', 'Tishomingo': 'OK', 'Toccopola': 'MS', 'Vardaman': 'MS', 'Zcta 388hh': 'MS', 'Calhoun city': 'MS', 'Cascilla': 'MS', 'Coila': 'MS', 'Cruger': 'MS', 'Duck hill': 'MS', 'Enid': 'OK', 'Gore springs': 'MS', 'Itta bena': 'MS', 'Mc carley': 'MS', 'Minter city': 'MS', 'North carrollton': 'MS', 'Philipp': 'MS', 'Schlater': 'MS', 'Scobey': 'MT', 'Sidon': 'MS', 'Swiftown': 'MS', 'Tillatoba': 'MS', 'Tippo': 'MS', 'Tutwiler': 'MS', 'Zcta 389hh': 'MS', 'Zcta 389xx': 'MS', 'Belzoni': 'MS', 'Bentonia': 'MS', 'Braxton': 'MS', 'Conehatta': 'MS', 'Crystal springs': 'MS', 'Delta city': 'MS', 'D lo': 'MS', 'Goodman': 'WI', 'Hermanville': 'MS', 'Holly bluff': 'MS', 'Kosciusko': 'MS', 'Lorman': 'MS', 'Louise': 'TX', 'Zcta 390hh': 'MS', 'Zcta 390xx': 'MS', 'Mc adams': 'MS', 'Mc cool': 'MS', 'Madden': 'MS', 'Magee': 'MS', 'Sanatorium': 'MS', 'Mayersville': 'MS', 'Mendenhall': 'MS', 'Midnight': 'MS', 'Mize': 'MS', 'Newhebron': 'MS', 'Pattison': 'TX', 'Pelahatchie': 'MS', 'Pickens': 'WV', 'Piney woods': 'MS', 'Pinola': 'MS', 'Port gibson': 'MS', 'Puckett': 'MS', 'Learned': 'MS', 'Redwood': 'NY', 'Ridgeland': 'WI', 'Rolling fork': 'MS', 'Sallis': 'MS', 'Sandhill': 'MS', 'Satartia': 'MS', 'Tchula': 'MS', 'Tougaloo': 'MS', 'Vaiden': 'MS', 'Valley park': 'MO', 'Zcta 39183': 'MS', 'Wesson': 'MS', 'West': 'TX', 'Yazoo city': 'MS', 'Zcta 391hh': 'MS', 'Zcta 391xx': 'MS', 'Zcta 392hh': 'MS', 'Buckatunna': 'MS', 'Chunky': 'MS', 'Louin': 'MS', 'Noxapater': 'MS', 'Pachuta': 'MS', 'Paulding': 'OH', 'Philadelphia': 'TN', 'Scooba': 'MS', 'Sebastopol': 'MS', 'Shuqualak': 'MS', 'Toomsuba': 'MS', 'Vossburg': 'MS', 'Zcta 393hh': 'MS', 'Zcta 393xx': 'MS', 'Hattiesburg': 'MS', 'Bassfield': 'MS', 'Bay springs': 'MS', 'Carriere': 'MS', 'Eastabuchie': 'MS', 'Heidelberg': 'MS', 'Zcta 39443': 'MS', 'Leakesville': 'MS', 'Agricola': 'MS', 'Lumberton': 'NC', 'Leaf': 'MS', 'Moselle': 'MS', 'Neely': 'MS', 'Ovett': 'MS', 'Petal': 'MS', 'Picayune': 'MS', 'Poplarville': 'MS', 'Prentiss': 'MS', 'Purvis': 'MS', 'Richton': 'MS', 'Sandersville': 'MS', 'Seminary': 'MS', 'Soso': 'MS', 'Stringer': 'MS', 'Sumrall': 'MS', 'Foxworth': 'MS', 'Zcta 394hh': 'MS', 'Zcta 394xx': 'MS', 'Gulfport': 'MS', 'Diamondhead': 'MS', 'Biloxi': 'MS', 'North bay': 'MS', 'Gautier': 'MS', 'Kiln': 'MS', 'Moss point': 'MS', 'Kreole': 'MS', 'Ocean springs': 'MS', 'Pascagoula': 'MS', 'Pass christian': 'MS', 'Pearlington': 'MS', 'Perkinston': 'MS', 'Saucier': 'MS', 'Wiggins': 'MS', 'Zcta 395hh': 'MS', 'Zcta 395xx': 'MS', 'Brookhaven': 'PA', 'Bogue chitto': 'MS', 'Bude': 'MS', 'Chatawa': 'MS', 'Jayess': 'MS', 'Mc call creek': 'MS', 'Mc comb': 'OH', 'Meadville': 'PA', 'Oak vale': 'MS', 'Osyka': 'MS', 'Roxie': 'MS', 'Smithdale': 'MS', 'Sontag': 'MS', 'Tylertown': 'MS', 'Union church': 'MS', 'Zcta 396hh': 'MS', 'Zcta 396xx': 'MS', 'Ackerman': 'MS', 'Artesia': 'NM', 'Cedarbluff': 'MS', 'Tomnolen': 'MS', 'Kilmichael': 'MS', 'Maben': 'WV', 'Mantee': 'MS', 'Mathiston': 'MS', 'Pheba': 'MS', 'Prairie': 'MS', 'Sessums': 'MS', 'Mississippi stat': 'MS', 'Steens': 'MS', 'Walthall': 'MS', 'Weir': 'MS', 'Zcta 397hh': 'MS', 'Zcta 397xx': 'MS', 'Barnhart': 'TX', 'Beaufort': 'NC', 'Berger': 'MO', 'Catawissa': 'PA', 'Cedar hill': 'TX', 'Town and country': 'MO', 'Crystal city': 'TX', 'Ballwin': 'MO', 'Dittmer': 'MO', 'Festus': 'MO', 'Fletcher': 'OK', 'French village': 'MO', 'Gerald': 'MO', 'Gray summit': 'MO', 'Grubville': 'MO', 'Hazelwood': 'PA', 'Maryland heights': 'MO', 'Herculaneum': 'MO', 'High ridge': 'MO', 'House springs': 'MO', 'Antonia': 'MO', 'Labadie': 'MO', 'Lonedell': 'MO', 'Luebbering': 'MO', 'Pacific': 'WA', 'Pevely': 'MO', 'Richwoods': 'MO', 'Robertsville': 'OH', 'Saint ann': 'MO', 'Valles mines': 'MO', 'Rosebud': 'TX', 'Zcta 630hh': 'MO', 'Overland': 'MO', 'Richmond heights': 'OH', 'Webster groves': 'MO', 'Affton': 'MO', 'Ladue': 'MO', 'Lemay': 'MO', 'Sappington': 'MO', 'South county': 'MO', 'University city': 'MO', 'Des peres': 'MO', 'Olivette': 'MO', 'North county': 'MO', 'Creve coeur': 'MO', 'West county': 'MO', 'Zcta 631hh': 'MO', 'Annada': 'MO', 'Curryville': 'PA', 'Defiance': 'PA', 'Elsberry': 'MO', 'Farber': 'MO', 'Foristell': 'MO', 'Hawk point': 'MO', 'High hill': 'MO', 'Jonesburg': 'MO', 'Laddonia': 'MO', 'Louisiana': 'MO', 'Lake sherwood': 'MO', 'Montgomery city': 'MO', 'Moscow mills': 'MO', 'New florence': 'PA', 'Lake saint louis': 'MO', 'Old monroe': 'MO', 'Portage des siou': 'MO', 'Saint peters': 'MO', 'Silex': 'MO', 'Truxton': 'NY', 'Wentzville': 'MO', 'West alton': 'MO', 'Whiteside': 'TN', 'Wright city': 'OK', 'Zcta 633hh': 'MO', 'Hannibal': 'NY', 'Anabel': 'MO', 'Arbela': 'MO', 'Hunnewell': 'MO', 'Kahoka': 'MO', 'Knox city': 'TX', 'La belle': 'PA', 'Lentner': 'MO', 'Novelty': 'OH', 'Shelbina': 'MO', 'Wyaconda': 'MO', 'Zcta 634hh': 'MO', 'Kirksville': 'MO', 'Baring': 'WA', 'Bevier': 'MO', 'Brashear': 'TX', 'Callao': 'VA', 'Coatsville': 'MO', 'Downing': 'WI', 'Gibbs': 'MO', 'Gorin': 'MO', 'Green castle': 'MO', 'Green city': 'MO', 'Greentop': 'MO', 'Hurdland': 'MO', 'Novinger': 'MO', 'Queen city': 'TX', 'Winigan': 'MO', 'Zcta 635hh': 'MO', 'Desloge': 'MO', 'Blackwell': 'TX', 'Bloomsdale': 'MO', 'Bonne terre': 'MO', 'Bunker': 'MO', 'Cadet': 'MO', 'Doe run': 'MO', 'Millcreek': 'MO', 'Leadwood': 'MO', 'Lesterville': 'SD', 'Marquand': 'MO', 'Middle brook': 'MO', 'Mineral point': 'WI', 'Patton': 'PA', 'Pilot knob': 'NY', 'Potosi': 'WI', 'Lake forest esta': 'MO', 'Saint mary': 'MT', 'Tiff': 'MO', 'Zcta 636hh': 'MO', 'Cape girardeau': 'MO', 'Zcta 63703': 'MO', 'New wells': 'MO', 'Brownwood': 'MO', 'Burfordville': 'MO', 'Chaffee': 'NY', 'Friedheim': 'MO', 'Frohna': 'MO', 'Gipsy': 'PA', 'Glenallen': 'MO', 'Grassy': 'MO', 'Kelso': 'WA', 'Mc gee': 'MO', 'Scopus': 'MO', 'Old appleton': 'MO', 'Oran': 'MO', 'Scott city': 'MO', 'Sedgewickville': 'MO', 'Sturdivant': 'MO', 'Vanduser': 'MO', 'Zalma': 'MO', 'Zcta 637hh': 'MO', 'Sikeston': 'MO', 'Arbyrd': 'MO', 'Bernie': 'MO', 'Bertrand': 'NE', 'Blodgett': 'OR', 'Braggadocio': 'MO', 'Bragg city': 'MO', 'Canalou': 'MO', 'Cardwell': 'MT', 'Caruthersville': 'MO', 'Catron': 'MO', 'Clarkton': 'NC', 'Cooter': 'MO', 'East prairie': 'MO', 'Gideon': 'MO', 'Gobler': 'MO', 'Grayridge': 'MO', 'Hayti heights': 'MO', 'Hornersville': 'MO', 'Kennett': 'MO', 'Lilbourn': 'MO', 'Marston': 'NC', 'Morehouse': 'MO', 'New madrid': 'MO', 'Portageville': 'NY', 'Risco': 'MO', 'Senath': 'MO', 'Homestown': 'MO', 'Whiteoak': 'MO', 'Zcta 638hh': 'MO', 'Poplar bluff': 'MO', 'Broseley': 'MO', 'Clubb': 'MO', 'Poynor': 'TX', 'Ellsinore': 'MO', 'Fagus': 'MO', 'Fairdealing': 'MO', 'Fisk': 'MO', 'Gatewood': 'MO', 'Harviell': 'MO', 'Lowndes': 'MO', 'Mill spring': 'NC', 'Neelyville': 'MO', 'Oxly': 'MO', 'Puxico': 'MO', 'Qulin': 'MO', 'Shook': 'MO', 'Silva': 'MO', 'Wappapello': 'MO', 'Zcta 639hh': 'MO', 'Bates city': 'MO', 'Lake tapawingo': 'MO', 'Camden point': 'MO', 'Centerview': 'MO', 'Concordia': 'MO', 'Corder': 'MO', 'Excelsior spring': 'MO', 'Grain valley': 'MO', 'Lake winnebago': 'MO', 'Henrietta': 'TX', 'Higginsville': 'MO', 'Sugar creek': 'MO', 'Kearney': 'NE', 'Lawson': 'MO', 'Lake lotawana': 'MO', 'Lees summit': 'MO', 'Levasy': 'MO', 'Lone jack': 'MO', 'Mayview': 'MO', 'Missouri city': 'TX', 'Orrick': 'MO', 'Peculiar': 'MO', 'Platte city': 'MO', 'Raymore': 'MO', 'Rayville': 'MO', 'Warrensburg': 'NY', 'Zcta 640hh': 'MO', 'North kansas cit': 'MO', 'Raytown': 'MO', 'Martin city': 'MT', 'Lake waukomis': 'MO', 'Ferrelview': 'MO', 'Zcta 641hh': 'MO', 'Amazonia': 'MO', 'Blythedale': 'MO', 'Bolckow': 'MO', 'Burlington junct': 'MO', 'Clearmont': 'WY', 'Conception': 'MO', 'Conception junct': 'MO', 'Cosby': 'TN', 'Elmo': 'UT', 'Faucett': 'MO', 'Gower': 'MO', 'Grant city': 'MO', 'Maitland': 'MO', 'Osborn': 'MO', 'Pickering': 'MO', 'Plattsburg': 'MO', 'Ravenwood': 'MO', 'Rea': 'MO', 'Rock port': 'MO', 'Rosendale': 'WI', 'Skidmore': 'TX', 'Stanberry': 'MO', 'Hemple': 'MO', 'Tarkio': 'MO', 'Trimble': 'TN', 'Turney': 'MO', 'Weatherby': 'MO', 'Westboro': 'WI', 'Zcta 644hh': 'MO', 'Zcta 645hh': 'MO', 'Bogard': 'MO', 'Bosworth': 'MO', 'Braymer': 'MO', 'Cainsville': 'MO', 'Coffey': 'MO', 'Cowgill': 'MO', 'Dawn': 'TX', 'Gallatin': 'TX', 'Gilman city': 'MO', 'Humphreys': 'MO', 'Jameson': 'MO', 'Jamesport': 'NY', 'Kidder': 'MO', 'Laredo': 'TX', 'Linneus': 'MO', 'Mc fall': 'MO', 'Marceline': 'MO', 'Mercer': 'WI', 'Norborne': 'MO', 'Pattonsburg': 'MO', 'Purdin': 'MO', 'Rothville': 'MO', 'Spickard': 'MO', 'Tina': 'MO', 'Zcta 646hh': 'MO', 'Harrisonville': 'PA', 'Amoret': 'MO', 'Amsterdam': 'OH', 'Appleton city': 'MO', 'Archie': 'MO', 'Bronaugh': 'MO', 'Chilhowee': 'MO', 'Tightwad': 'MO', 'Creighton': 'SD', 'Deepwater': 'NJ', 'Drexel': 'NC', 'East lynne': 'MO', 'El dorado spring': 'MO', 'Freeman': 'VA', 'Golden city': 'MO', 'Stotesbury': 'MO', 'Jerico springs': 'MO', 'Iantha': 'MO', 'Leeton': 'MO', 'Lowry city': 'MO', 'Mindenmines': 'MO', 'Moundville': 'MO', 'Richards': 'TX', 'Rich hill': 'MO', 'Schell city': 'MO', 'Urich': 'MO', 'Zcta 647hh': 'MO', 'Joplin': 'MT', 'Asbury': 'WV', 'Carl junction': 'MO', 'Diamond': 'WV', 'Duenweg': 'MO', 'Lanagan': 'MO', 'La russell': 'MO', 'Neck city': 'MO', 'Neosho': 'WI', 'Noel': 'MO', 'Oronogo': 'MO', 'Jane': 'MO', 'Purcell': 'OK', 'Reeds': 'MO', 'Rocky comfort': 'MO', 'Sarcoxie': 'MO', 'South west city': 'MO', 'Stark city': 'MO', 'Stella': 'NC', 'Webb city': 'MO', 'Wentworth': 'WI', 'Barnett': 'MO', 'Belle': 'MO', 'Bland': 'VA', 'Bonnots mill': 'MO', 'Brumley': 'MO', 'Camdenton': 'MO', 'Chamois': 'MO', 'Eugene': 'OR', 'Gasconade': 'MO', 'Gravois mills': 'MO', 'Henley': 'MO', 'Holts summit': 'MO', 'Kaiser': 'MO', 'Koeltztown': 'MO', 'Four seasons': 'MO', 'Linn creek': 'MO', 'Lohman': 'MO', 'Loose creek': 'MO', 'Meta': 'MO', 'Mokane': 'MO', 'New bloomfield': 'PA', 'Olean': 'NY', 'Osage beach': 'MO', 'Prairie home': 'MO', 'Rhineland': 'MO', 'Rocky mount': 'VA', 'Saint elizabeth': 'MO', 'Saint thomas': 'PA', 'Steedman': 'MO', 'Stover': 'MO', 'Sunrise beach': 'TX', 'Tebbetts': 'MO', 'Ulman': 'MO', 'Zcta 650hh': 'MO', 'Jefferson city': 'TN', 'Zcta 651hh': 'MO', 'Auxvasse': 'MO', 'Benton city': 'WA', 'Bunceton': 'MO', 'Clifton hill': 'MO', 'Excello': 'OH', 'Hallsville': 'TX', 'Higbee': 'MO', 'Holliday': 'TX', 'Keytesville': 'MO', 'Kingdom city': 'MO', 'Moberly': 'MO', 'New franklin': 'MO', 'Pilot grove': 'MO', 'Renick': 'WV', 'Rocheport': 'MO', 'Rush hill': 'MO', 'Stoutsville': 'OH', 'Sturgeon': 'PA', 'Triplett': 'MO', 'Wooldridge': 'MO', 'Zcta 652hh': 'MO', 'Whiteman afb': 'MO', 'Arrow rock': 'MO', 'Blackburn': 'MO', 'Blackwater': 'VA', 'Climax springs': 'MO', 'Cole camp': 'MO', 'Green ridge': 'MO', 'Houstonia': 'MO', 'Knob noster': 'MO', 'La monte': 'MO', 'Grand pass': 'MO', 'Napton': 'MO', 'Otterville': 'MO', 'Sweet springs': 'MO', 'Zcta 653hh': 'MO', 'Birch tree': 'MO', 'Bixby': 'OK', 'Boss': 'MO', 'Brinktown': 'MO', 'Cherryville': 'PA', 'Cook station': 'MO', 'Crocker': 'MO', 'Davisville': 'WV', 'Devils elbow': 'MO', 'Duke': 'OK', 'Edgar springs': 'MO', 'Fort leonard woo': 'MO', 'Hartshorn': 'MO', 'Huggins': 'MO', 'Iberia': 'MO', 'Zcta 654hh': 'MO', 'Jadwin': 'MO', 'Lake spring': 'MO', 'Laquey': 'MO', 'Leasburg': 'NC', 'Anutt': 'MO', 'Licking': 'MO', 'Raymondville': 'TX', 'Roby': 'TX', 'Solo': 'MO', 'Berryman': 'MO', 'Viburnum': 'MO', 'Stoutland': 'MO', 'Vichy': 'MO', 'Saint robert': 'MO', 'Yukon': 'PA', 'Long lane': 'MO', 'Montreal': 'MO', 'Zcta 655hh': 'MO', 'Ash grove': 'MO', 'Billings': 'OK', 'Blue eye': 'MO', 'Bois d arc': 'MO', 'Bolivar': 'TN', 'Bradleyville': 'MO', 'Marvel cave park': 'MO', 'Brixey': 'MO', 'Brookline statio': 'MO', 'Bruner': 'MO', 'Cape fair': 'MO', 'Cassville': 'WI', 'Caulfield': 'MO', 'Cedarcreek': 'MO', 'Chestnutridge': 'MO', 'Clever': 'MO', 'Crane': 'TX', 'Cross timbers': 'MO', 'Drury': 'MO', 'Dunnegan': 'MO', 'Eagle rock': 'VA', 'Elkland': 'PA', 'Fair grove': 'MO', 'Flemington': 'NJ', 'Fordland': 'MO', 'Goodson': 'MO', 'Graff': 'MO', 'Grovespring': 'MO', 'Half way': 'MO', 'Halltown': 'MO', 'Hartville': 'WY', 'Hermitage': 'TN', 'Highlandville': 'MO', 'Humansville': 'MO', 'Hurley': 'WI', 'Kirbyville': 'MO', 'Kissee mills': 'MO', 'Lampe': 'MO', 'Kimberling city': 'MO', 'Cabool': 'MO', 'Couch': 'MO', 'Koshkonong': 'MO', 'Zcta 656hh': 'MO', 'Mc clurg': 'MO', 'Marionville': 'MO', 'Miller': 'SD', 'Monett': 'MO', 'Morrisville': 'VA', 'Mountain grove': 'MO', 'Niangua': 'MO', 'Nixa': 'MO', 'Oldfield': 'MO', 'Pierce city': 'MO', 'Pleasant hope': 'MO', 'Polk': 'PA', 'Powell': 'WY', 'Powersite': 'MO', 'Protem': 'MO', 'Purdy': 'MO', 'Branson west': 'MO', 'Ridgedale': 'MO', 'Rockaway beach': 'MO', 'Rueter': 'MO', 'Shell knob': 'MO', 'South greenfield': 'MO', 'Spokane': 'WA', 'Squires': 'MO', 'Stotts city': 'MO', 'Strafford': 'VT', 'Taneyville': 'MO', 'Dugginsville': 'MO', 'Nottinghill': 'MO', 'Tunas': 'MO', 'Vanzant': 'MO', 'Walnut shade': 'MO', 'Souder': 'MO', 'Weaubleau': 'MO', 'West plains': 'MO', 'Moody': 'TX', 'Windyville': 'MO', 'Zanoni': 'MO', 'Macks creek': 'MO', 'Roach': 'MO', 'Peace valley': 'MO', 'Pottersville': 'NY', 'Zcta 657hh': 'MO', 'Zcta 658hh': 'MO', 'Absarokee': 'MT', 'Ballantine': 'MT', 'Bearcreek': 'MT', 'Bighorn': 'MT', 'Big timber': 'MT', 'Birney': 'MT', 'Bridger': 'MT', 'Busby': 'MT', 'Clyde park': 'MT', 'Cooke city': 'MT', 'Crow agency': 'MT', 'Edgar': 'NE', 'Emigrant': 'MT', 'Fishtail': 'MT', 'Fromberg': 'MT', 'Garryowen': 'MT', 'Grass range': 'MT', 'Greycliff': 'MT', 'Yellowtail': 'MT', 'Harlowton': 'MT', 'Hysham': 'MT', 'Ingomar': 'MT', 'Silesia': 'MT', 'Lame deer': 'MT', 'Lavina': 'MT', 'Lodge grass': 'MT', 'Mc leod': 'TX', 'Martinsdale': 'MT', 'Melstone': 'MT', 'Molt': 'MT', 'Mosby': 'VA', 'Musselshell': 'MT', 'Nye': 'MT', 'Otter': 'MT', 'Pompeys pillar': 'MT', 'Pray': 'MT', 'Pryor': 'OK', 'Rapelje': 'MT', 'Red lodge': 'MT', 'Reedpoint': 'MT', 'Roundup': 'MT', 'Ryegate': 'VT', 'Saint xavier': 'MT', 'Sand springs': 'OK', 'Shawmut': 'MT', 'Silver gate': 'MT', 'Twodot': 'MT', 'Wilsall': 'MT', 'Winnett': 'MT', 'Wyola': 'MT', 'Zcta 590hh': 'MT', 'Zcta 590xx': 'MT', 'Billings heights': 'MT', 'Wolf point': 'MT', 'Bainville': 'MT', 'Brockton': 'PA', 'Culbertson': 'NE', 'Dagmar': 'MT', 'Flaxville': 'MT', 'Fort peck': 'MT', 'Lustre': 'MT', 'Froid': 'MT', 'Saint marie': 'MT', 'Hinsdale': 'NH', 'Larslan': 'MT', 'Medicine lake': 'MT', 'Outlook': 'WA', 'Peerless': 'MT', 'Plentywood': 'MT', 'Poplar': 'WI', 'Redstone': 'MT', 'Richey': 'MT', 'Vida': 'OR', 'Westby': 'WI', 'Whitetail': 'MT', 'Zcta 592hh': 'MT', 'Miles city': 'MT', 'Alzada': 'MT', 'Biddle': 'MT', 'Belle creek': 'MT', 'Brusett': 'MT', 'Cohagen': 'MT', 'Colstrip': 'MT', 'Ekalaka': 'MT', 'Fallon': 'NV', 'Glendive': 'MT', 'Hathaway': 'MT', 'Ismay': 'MT', 'Kinsey': 'MT', 'Olive': 'MT', 'Sonnette': 'MT', 'Volborg': 'MT', 'Wibaux': 'MT', 'Zcta 593hh': 'MT', 'Zcta 593xx': 'MT', 'Great falls': 'VA', 'Babb': 'MT', 'Belt': 'MT', 'Black eagle': 'MT', 'Brady': 'NE', 'Bynum': 'TX', 'Carter': 'SD', 'Choteau': 'MT', 'Coffee creek': 'MT', 'Cut bank': 'MT', 'Dupuyer': 'MT', 'East glacier par': 'MT', 'Floweree': 'MT', 'Forestgrove': 'MT', 'Fort benton': 'MT', 'Fort shaw': 'MT', 'Galata': 'MT', 'Geyser': 'MT', 'Heart butte': 'MT', 'Hilger': 'MT', 'Judith gap': 'MT', 'Kevin': 'MT', 'Ledger': 'MT', 'Moccasin': 'MT', 'Monarch': 'MT', 'Neihart': 'MT', 'Oilmont': 'MT', 'Pendroy': 'MT', 'Power': 'MT', 'Raynesford': 'MT', 'Roy': 'WA', 'Sand coulee': 'MT', 'Simms': 'TX', 'Stockett': 'MT', 'Sunburst': 'MT', 'Sun river': 'MT', 'Sweetgrass': 'MT', 'Vaughn': 'WA', 'Zcta 594hh': 'MT', 'Zcta 594xx': 'MT', 'Havre': 'MT', 'Big sandy': 'WV', 'Box elder': 'SD', 'Chinook': 'WA', 'Gildford': 'MT', 'Hays': 'NC', 'Hogeland': 'MT', 'Kremlin': 'OK', 'Loring': 'MT', 'Rudyard': 'MT', 'Whitlash': 'MT', 'Zortman': 'MT', 'Zurich': 'MT', 'Zcta 595hh': 'MT', 'Basin': 'WY', 'Canyon creek': 'MT', 'Montana city': 'MT', 'East helena': 'MT', 'Fort harrison': 'MT', 'Ringling': 'OK', 'Toston': 'MT', 'White sulphur sp': 'NY', 'Wolf creek': 'MT', 'Zcta 596hh': 'MT', 'Zcta 596xx': 'MT', 'Alder': 'MT', 'Anaconda': 'MT', 'Bozeman': 'MT', 'Big sky': 'MT', 'Zcta 59718': 'MT', 'Deer lodge': 'TN', 'Dillon': 'SC', 'Elliston': 'OH', 'Ennis': 'TX', 'Gallatin gateway': 'MT', 'Gold creek': 'MT', 'Mc allister': 'MT', 'Norris': 'TN', 'Polaris': 'MT', 'Pony': 'MT', 'Silver star': 'MT', 'Three forks': 'MT', 'Virginia city': 'NV', 'Warmsprings': 'MT', 'West yellowstone': 'MT', 'Wisdom': 'MT', 'Wise river': 'MT', 'Zcta 597hh': 'MT', 'Zcta 597xx': 'MT', 'Missoula': 'MT', 'Zcta 59808': 'MT', 'Alberton': 'MT', 'Arlee': 'MT', 'Bonner': 'MT', 'Moiese': 'MT', 'Condon': 'OR', 'Conner': 'MT', 'Corvallis': 'OR', 'Darby': 'MT', 'Drummond': 'WI', 'Frenchtown': 'NJ', 'Greenough': 'MT', 'Hall': 'MT', 'Pinesdale': 'MT', 'Haugan': 'MT', 'Helmville': 'MT', 'Heron': 'MT', 'Hot springs': 'VA', 'Huson': 'MT', 'Lolo': 'MT', 'Lonepine': 'MT', 'Noxon': 'MT', 'Ovando': 'MT', 'Pablo': 'MT', 'Philipsburg': 'PA', 'Polson': 'MT', 'Ronan': 'MT', 'Saint ignatius': 'MT', 'Saint regis': 'MT', 'Saltese': 'MT', 'Seeley lake': 'MT', 'Sula': 'MT', 'Thompson falls': 'MT', 'Zcta 598hh': 'MT', 'Zcta 598xx': 'MT', 'Big arm': 'MT', 'Swan lake': 'NY', 'Coram': 'NY', 'Fortine': 'MT', 'Hungry horse': 'MT', 'Kila': 'MT', 'Lake mc donald': 'MT', 'Libby': 'MT', 'Polebridge': 'MT', 'Rexford': 'NY', 'Rollins': 'MT', 'Stryker': 'OH', 'Trego': 'WI', 'West glacier': 'MT', 'Whitefish': 'MT', 'Zcta 599hh': 'MT', 'Abie': 'NE', 'Blair': 'WI', 'Boys town': 'NE', 'Cedar bluffs': 'NE', 'Cedar creek': 'TX', 'Elkhorn': 'WI', 'Fort calhoun': 'NE', 'Leshara': 'NE', 'Malmo': 'NE', 'Papillion': 'NE', 'Pender': 'NE', 'Plattsmouth': 'NE', 'Prague': 'OK', 'Rosalie': 'NE', 'Scribner': 'NE', 'Tekamah': 'NE', 'Thurston': 'OH', 'Uehling': 'NE', 'Wahoo': 'NE', 'Walthill': 'NE', 'Yutan': 'NE', 'Zcta 680hh': 'NE', 'Offutt a f b': 'NE', 'Millard': 'NE', 'Zcta 681hh': 'NE', 'Alvo': 'NE', 'Barneston': 'NE', 'Beaver crossing': 'NE', 'Bee': 'VA', 'Bennet': 'NE', 'Bradshaw': 'WV', 'Brock': 'NE', 'Bruning': 'NE', 'Burchard': 'NE', 'Burr': 'NE', 'Clatonia': 'NE', 'Davey': 'NE', 'Daykin': 'NE', 'Deshler': 'OH', 'Diller': 'NE', 'Dunbar': 'WI', 'Endicott': 'WA', 'Falls city': 'TX', 'Filley': 'NE', 'Gilead': 'NE', 'Goehner': 'NE', 'Gresham': 'WI', 'Hallam': 'NE', 'Holmesville': 'OH', 'Zcta 683hh': 'NE', 'Mc cool junction': 'NE', 'Manley': 'NE', 'Martell': 'NE', 'Milligan': 'NE', 'Nebraska city': 'NE', 'Nehawka': 'NE', 'Ohiowa': 'NE', 'Otoe': 'NE', 'Pawnee city': 'NE', 'Pickrell': 'NE', 'Pleasant dale': 'NE', 'Agnew': 'NE', 'Roca': 'NE', 'Rulo': 'NE', 'Shickley': 'NE', 'Shubert': 'NE', 'Staplehurst': 'NE', 'Steele city': 'NE', 'Steinauer': 'NE', 'Strang': 'OK', 'Table rock': 'NE', 'Ong': 'NE', 'Tobias': 'NE', 'Verdon': 'SD', 'Weeping water': 'NE', 'Western': 'NE', 'Wilber': 'NE', 'Wymore': 'NE', 'Zcta 684hh': 'NE', 'Brainard': 'NE', 'Clarkson': 'NE', 'Dodge': 'WI', 'Ericson': 'NE', 'Fullerton': 'ND', 'Howells': 'NE', 'Leigh': 'NE', 'Morse bluff': 'NE', 'North bend': 'WA', 'Platte center': 'NE', 'Primrose': 'NE', 'Rising city': 'NE', 'Saint edward': 'NE', 'Schuyler': 'VA', 'Stromsburg': 'NE', 'Zcta 686hh': 'NE', 'Amelia': 'OH', 'Beemer': 'NE', 'Coleridge': 'NC', 'Hartington': 'NE', 'Hoskins': 'NE', 'Mclean': 'NE', 'Meadow grove': 'NE', 'Mills': 'WY', 'Naper': 'NE', 'Neligh': 'NE', 'Newman grove': 'NE', 'Verdel': 'NE', 'Oneill': 'NE', 'Osmond': 'NE', 'Page': 'WV', 'Pilger': 'NE', 'Ponca': 'NE', 'Rose': 'NE', 'South sioux city': 'NE', 'Springview': 'NE', 'Verdigre': 'NE', 'Wausa': 'NE', 'Winnetoon': 'NE', 'Winside': 'NE', 'Wynot': 'NE', 'Zcta 687hh': 'NE', 'Alda': 'NE', 'Milburn': 'OK', 'Ansley': 'NE', 'Berwyn': 'PA', 'Boelus': 'NE', 'Broken bow': 'OK', 'Burwell': 'NE', 'Dannebrog': 'NE', 'Doniphan': 'NE', 'Dunning': 'NE', 'Elm creek': 'NE', 'Elyria': 'OH', 'Giltner': 'NE', 'Zcta 68845': 'NE', 'Hordville': 'NE', 'Loup city': 'NE', 'North loup': 'NE', 'Oconto': 'WI', 'Ord': 'NE', 'Overton': 'TX', 'Saint libory': 'NE', 'Almeria': 'NE', 'Westerville': 'OH', 'Wolbach': 'NE', 'Zcta 688hh': 'NE', 'Ayr': 'ND', 'Beaver city': 'NE', 'Bladen': 'NE', 'Deweese': 'NE', 'Funk': 'NE', 'Glenvil': 'NE', 'Guide rock': 'NE', 'Heartwell': 'NE', 'Hendley': 'NE', 'Hildreth': 'NE', 'Holdrege': 'NE', 'Inavale': 'NE', 'Inland': 'NE', 'Juniata': 'NE', 'Kenesaw': 'NE', 'Naponee': 'NE', 'Oak': 'NE', 'Red cloud': 'NE', 'Republican city': 'NE', 'Saronville': 'NE', 'Sutton': 'VT', 'Wilcox': 'PA', 'Zcta 689hh': 'NE', 'Mc cook': 'NE', 'Bartley': 'WV', 'Benkelman': 'NE', 'Enders': 'NE', 'Farnam': 'NE', 'Haigler': 'NE', 'Hayes center': 'NE', 'Stockville': 'NE', 'Wauneta': 'NE', 'Zcta 690hh': 'NE', 'Zcta 690xx': 'NE', 'North platte': 'NE', 'Big springs': 'NE', 'Broadwater': 'NE', 'Brule': 'WI', 'Cozad': 'NE', 'Elsie': 'NE', 'Elsmere': 'NE', 'Gothenburg': 'NE', 'Halsey': 'OR', 'Hershey': 'PA', 'Lemoyne': 'NE', 'Lewellen': 'NE', 'Lisco': 'NE', 'Lodgepole': 'SD', 'Mullen': 'NE', 'Ogallala': 'NE', 'Oshkosh': 'WI', 'Purdum': 'NE', 'Brownlee': 'NE', 'Tryon': 'OK', 'Venango': 'PA', 'Zcta 691hh': 'NE', 'Zcta 691xx': 'NE', 'Cody': 'WY', 'Kilgore': 'TX', 'Long pine': 'NE', 'Merriman': 'NE', 'Nenzel': 'NE', 'Alliance': 'OH', 'Chadron': 'NE', 'Gering': 'NE', 'Hay springs': 'NE', 'Hemingford': 'NE', 'Hyannis': 'NE', 'Lyman': 'WY', 'Marsland': 'NE', 'Melbeta': 'NE', 'Minatare': 'NE', 'Scottsbluff': 'NE', 'Whiteclay': 'NE', 'Whitney': 'PA', 'Beatty': 'OR', 'Boulder city': 'NV', 'Bunkerville': 'NV', 'Caliente': 'NV', 'Hiko': 'NV', 'Goodsprings': 'NV', 'Amargosa valley': 'NV', 'Logandale': 'NV', 'Moapa': 'NV', 'Zcta 89027': 'NV', 'Laughlin': 'NV', 'North las vegas': 'NV', 'Cal nev ari': 'NV', 'Panaca': 'NV', 'Pioche': 'NV', 'Cottonwood cove': 'NV', 'Silverpeak': 'NV', 'Zcta 89048': 'NV', 'Zcta 89052': 'NV', 'Zcta 890hh': 'NV', 'Zcta 890xx': 'NV', 'Las vegas': 'NM', 'Zcta 89141': 'NV', 'Zcta 89142': 'NV', 'Zcta 89143': 'NV', 'Zcta 89144': 'NV', 'Zcta 89145': 'NV', 'Zcta 89146': 'NV', 'Zcta 89147': 'NV', 'Zcta 89148': 'NV', 'Zcta 89149': 'NV', 'Zcta 89156': 'NV', 'Nellis a f b': 'NV', 'Zcta 891xx': 'NV', 'Duckwater': 'NV', 'Lund': 'NV', 'Mc gill': 'NV', 'Zcta 893hh': 'NV', 'Zcta 893xx': 'NV', 'Denio': 'NV', 'Fernley': 'NV', 'Gabbs': 'NV', 'Gardnerville': 'NV', 'Glenbrook': 'NV', 'Golconda': 'NV', 'Lovelock': 'NV', 'Luning': 'NV', 'Mc dermitt': 'NV', 'Mina': 'SD', 'Nixon': 'TX', 'Orovada': 'NV', 'Schurz': 'NV', 'Verdi': 'NV', 'Winnemucca': 'NV', 'Yerington': 'NV', 'Zephyr cove': 'NV', 'Stateline': 'NV', 'Incline village': 'NV', 'Zcta 894hh': 'NV', 'Zcta 894xx': 'NV', 'Reno': 'TX', 'Zcta 895xx': 'NV', 'Moundhouse': 'NV', 'Zcta 897hh': 'NV', 'Zcta 897xx': 'NV', 'Jiggs': 'NV', 'Zcta 89815': 'NV', 'Battle mountain': 'NV', 'Beowawe': 'NV', 'Carlin': 'NV', 'Deeth': 'NV', 'Halleck': 'NV', 'Jackpot': 'NV', 'Jarbidge': 'NV', 'Lamoille': 'NV', 'Montello': 'WI', 'Owyhee': 'NV', 'Ruby valley': 'NV', 'Oasis': 'UT', 'Zcta 898xx': 'NV', 'Brookline': 'PA', 'Candia': 'NH', 'Epping': 'NH', 'Francestown': 'NH', 'Dunbarton': 'NH', 'Hollis': 'OK', 'Zcta 03052': 'NH', 'Londonderry': 'OH', 'Merrimack': 'NH', 'Mont vernon': 'NH', 'Zcta 03064': 'NH', 'New ipswich': 'NH', 'Lyndeborough': 'NH', 'Zcta 030hh': 'NH', 'Hooksett': 'NH', 'Zcta 031hh': 'NH', 'Waterville valle': 'NH', 'Barnstead': 'NH', 'Beebe river': 'NH', 'Center barnstead': 'NH', 'Center harbor': 'NH', 'Center sandwich': 'NH', 'Epsom': 'NH', 'Gilmanton': 'NH', 'Henniker': 'NH', 'Hill': 'NH', 'Gilford': 'NH', 'Moultonborough': 'NH', 'North sandwich': 'NH', 'North sutton': 'NH', 'North woodstock': 'NH', 'Rumney': 'NH', 'Sanbornton': 'NH', 'South sutton': 'NH', 'Allenstown': 'NH', 'Warner': 'SD', 'Weare': 'NH', 'Wilmot flat': 'NH', 'West nottingham': 'NH', 'Zcta 032hh': 'NH', 'Zcta 032xx': 'NH', 'Boscawen': 'NH', 'Bow': 'WA', 'Zcta 03307': 'NH', 'Zcta 033hh': 'NH', 'Antrim': 'NH', 'Ashuelot': 'NH', 'East sullivan': 'NH', 'East swanzey': 'NH', 'Fitzwilliam': 'NH', 'Gilsum': 'NH', 'Jaffrey': 'NH', 'Marlow': 'OK', 'Munsonville': 'NH', 'Peterborough': 'NH', 'Rindge': 'NH', 'Spofford': 'TX', 'Stoddard': 'WI', 'Westmoreland': 'TN', 'Zcta 034hh': 'NH', 'Errol': 'NH', 'Franconia': 'VA', 'Groveton': 'TX', 'North stratford': 'NH', 'Twin mountain': 'NH', 'Whitefield': 'OK', 'Zcta 035hh': 'NH', 'Zcta 035xx': 'NH', 'Alstead': 'NH', 'East lempster': 'NH', 'South acworth': 'NH', 'North walpole': 'NH', 'Zcta 036hh': 'NH', 'Georges mills': 'NH', 'Grantham': 'NC', 'Lyme': 'NH', 'North haverhill': 'NH', 'Orford': 'NH', 'Piermont': 'NY', 'Pike': 'NH', 'Sunapee': 'NH', 'Woodsville': 'NH', 'Zcta 037hh': 'NH', 'Alton bay': 'NH', 'Center conway': 'NH', 'Center ossipee': 'NH', 'Center strafford': 'NH', 'Center tuftonbor': 'NH', 'Chocorua': 'NH', 'Madbury': 'NH', 'East hampstead': 'NH', 'South hampton': 'NH', 'East wakefield': 'NH', 'Eaton center': 'NH', 'Gilmanton iron w': 'NH', 'Gonic': 'NH', 'Hampstead': 'NC', 'Hampton falls': 'NH', 'Intervale': 'NH', 'Milton mills': 'NH', 'Mirror lake': 'NH', 'New durham': 'NH', 'Newfields': 'NH', 'Newmarket': 'NH', 'North conway': 'NH', 'North hampton': 'OH', 'Ossipee': 'NH', 'Plaistow': 'NH', 'East rochester': 'OH', 'Rollinsford': 'NH', 'Sanbornville': 'NH', 'Sandown': 'NH', 'Seabrook': 'SC', 'Somersworth': 'NH', 'South effingham': 'NH', 'South tamworth': 'NH', 'Stratham': 'NH', 'Tamworth': 'VA', 'Wolfeboro': 'NH', 'Wonalancet': 'NH', 'Zcta 038hh': 'NH', 'Avenel': 'NJ', 'Bayonne': 'NJ', 'Boonton': 'NJ', 'West caldwell': 'NJ', 'Carteret': 'NJ', 'Cliffside park': 'NJ', 'Cranford': 'NJ', 'East orange': 'NJ', 'Essex fells': 'NJ', 'Fanwood': 'NJ', 'Fort lee': 'VA', 'Garwood': 'TX', 'North arlington': 'NJ', 'Lake hiawatha': 'NJ', 'Millburn': 'NJ', 'Montville': 'OH', 'Mountain lakes': 'NJ', 'North bergen': 'NJ', 'West orange': 'TX', 'Parsippany': 'NJ', 'Passaic': 'NJ', 'Wallington': 'NJ', 'Pine brook': 'NJ', 'North plainfield': 'NJ', 'Port reading': 'NJ', 'Rahway': 'NJ', 'Colonia': 'NJ', 'Rutherford': 'TN', 'Lyndhurst': 'NJ', 'Carlstadt': 'NJ', 'East rutherford': 'NJ', 'Moonachie': 'NJ', 'Wood ridge': 'NJ', 'Scotch plains': 'NJ', 'Sewaren': 'NJ', 'Short hills': 'NJ', 'South orange': 'NJ', 'South plainfield': 'NJ', 'Towaco': 'NJ', 'Weehawken': 'NJ', 'Vauxhall': 'NJ', 'Mountainside': 'NJ', 'Secaucus': 'NJ', 'Zcta 070hh': 'NJ', 'Nutley': 'NJ', 'Zcta 071hh': 'NJ', 'Roselle park': 'NJ', 'Zcta 072hh': 'NJ', 'Jersey city': 'NJ', 'Zcta 073hh': 'NJ', 'Kinnelon': 'NJ', 'Elmwood park': 'NJ', 'Fair lawn': 'NJ', 'Franklin lakes': 'NJ', 'Haskell': 'TX', 'Highland lakes': 'NJ', 'Ho ho kus': 'NJ', 'West paterson': 'NJ', 'Mc afee': 'NJ', 'Mahwah': 'NJ', 'Midland park': 'NJ', 'Newfoundland': 'PA', 'Ogdensburg': 'WI', 'Pequannock': 'NJ', 'Pompton lakes': 'NJ', 'Pompton plains': 'NJ', 'Ridgewood': 'NY', 'Glen rock': 'PA', 'Upper saddle riv': 'NJ', 'Sussex': 'WI', 'Waldwick': 'NJ', 'Wanaque': 'NJ', 'West milford': 'WV', 'Wyckoff': 'NJ', 'Zcta 074hh': 'NJ', 'Paterson': 'WA', 'Haledon': 'NJ', 'Totowa': 'NJ', 'Zcta 075hh': 'NJ', 'Bogota': 'NJ', 'Hasbrouck height': 'NJ', 'Leonia': 'NJ', 'South hackensack': 'NJ', 'Teterboro': 'NJ', 'Bergenfield': 'NJ', 'Closter': 'NJ', 'Cresskill': 'NJ', 'Demarest': 'NJ', 'Englewood cliffs': 'NJ', 'Harrington park': 'NJ', 'Haworth': 'NJ', 'Little ferry': 'NJ', 'Montvale': 'VA', 'Rockleigh': 'NJ', 'Oradell': 'NJ', 'Palisades park': 'NJ', 'Paramus': 'NJ', 'Ridgefield park': 'NJ', 'River edge': 'NJ', 'Saddle brook': 'NJ', 'Zcta 07663': 'NJ', 'Teaneck': 'NJ', 'Tenafly': 'NJ', 'Old tappan': 'NJ', 'Zcta 076hh': 'NJ', 'Suburban': 'NJ', 'Fort monmouth': 'NJ', 'Fair haven': 'VT', 'Ocean': 'NJ', 'Atlantic highlan': 'NJ', 'Avon by the sea': 'NJ', 'Belford': 'NJ', 'Wall': 'SD', 'Bradley beach': 'NJ', 'Cliffwood': 'NJ', 'Colts neck': 'NJ', 'Deal': 'NJ', 'Eatontown': 'NJ', 'Manalapan': 'NJ', 'Freehold': 'NY', 'Hazlet': 'NJ', 'Fort hancock': 'TX', 'Holmdel': 'NJ', 'Keansburg': 'NJ', 'Keyport': 'WA', 'Leonardo': 'NJ', 'Lincroft': 'NJ', 'Little silver': 'NJ', 'Long branch': 'TX', 'Marlboro': 'VT', 'Matawan': 'NJ', 'New monmouth': 'NJ', 'Monmouth beach': 'NJ', 'Neptune city': 'NJ', 'Ocean grove': 'NJ', 'Oceanport': 'NJ', 'Port monmouth': 'NJ', 'Sea bright': 'NJ', 'West long branch': 'NJ', 'Zcta 077hh': 'NJ', 'Mine hill': 'NJ', 'Zcta 07803': 'NJ', 'Budd lake': 'NJ', 'Califon': 'NJ', 'Denville': 'NJ', 'Flanders': 'NJ', 'Great meadows': 'NJ', 'Hackettstown': 'NJ', 'Hibernia': 'NJ', 'Hopatcong': 'NJ', 'Johnsonburg': 'PA', 'Kenvil': 'NJ', 'Lake hopatcong': 'NJ', 'Landing': 'NJ', 'Ledgewood': 'NJ', 'Long valley': 'SD', 'Mount arlington': 'NJ', 'Netcong': 'NJ', 'Fredon township': 'NJ', 'Port murray': 'NJ', 'Rockaway': 'OR', 'Succasunna': 'NJ', 'Mount tabor': 'NJ', 'Wharton': 'WV', 'Zcta 078hh': 'NJ', 'Basking ridge': 'NJ', 'Bedminster': 'NJ', 'Berkeley heights': 'NJ', 'Bernardsville': 'NJ', 'Cedar knolls': 'NJ', 'Far hills': 'NJ', 'Florham park': 'NJ', 'Gillette': 'WY', 'Green village': 'NJ', 'East hanover': 'NJ', 'Mendham': 'NJ', 'Greystone park': 'NJ', 'Mount freedom': 'NJ', 'New vernon': 'NJ', 'Peapack': 'NJ', 'Stirling': 'NJ', 'Whippany': 'NJ', 'Alloway': 'NJ', 'Cherry hill': 'NJ', 'Barnegat': 'NJ', 'Barnegat light': 'NJ', 'Harvey cedars': 'NJ', 'Browns mills': 'NJ', 'Clarksboro': 'NJ', 'Laurel springs': 'NC', 'Gibbsboro': 'NJ', 'Gibbstown': 'NJ', 'Glassboro': 'NJ', 'Gloucester city': 'NJ', 'Bellmawr': 'NJ', 'Grenloch': 'NJ', 'Haddonfield': 'NJ', 'Haddon heights': 'NJ', 'Hainesport': 'NJ', 'Batsto': 'NJ', 'Hancocks bridge': 'NJ', 'Jobstown': 'NJ', 'Juliustown': 'NJ', 'Voorhees': 'NJ', 'Lawnside': 'NJ', 'Willingboro': 'NJ', 'Manahawkin': 'NJ', 'Mantua': 'UT', 'Maple shade': 'NJ', 'Marlton': 'NJ', 'Mount laurel': 'NJ', 'Medford lakes': 'NJ', 'Mickleton': 'NJ', 'Mount ephraim': 'NJ', 'Eastampton twp': 'NJ', 'Mount royal': 'NJ', 'Mullica hill': 'NJ', 'National park': 'NJ', 'New lisbon': 'WI', 'Paulsboro': 'NJ', 'Pedricktown': 'NJ', 'Carneys point': 'NJ', 'Pennsville': 'OH', 'Pitman': 'PA', 'Rancocas': 'NJ', 'Delanco': 'NJ', 'Cinnaminson': 'NJ', 'Runnemede': 'NJ', 'Sewell': 'NJ', 'Sicklerville': 'NJ', 'Somerdale': 'OH', 'Swedesboro': 'NJ', 'Thorofare': 'NJ', 'Tuckerton': 'NJ', 'Waterford works': 'NJ', 'Wenonah': 'NJ', 'West berlin': 'NJ', 'West creek': 'NJ', 'Deptford': 'NJ', 'Woodbury heights': 'NJ', 'Woodstown': 'NJ', 'Zcta 080hh': 'NJ', 'Zcta 080xx': 'NJ', 'Oaklyn': 'NJ', 'Collingswood': 'NJ', 'Merchantville': 'NJ', 'Delair': 'NJ', 'Zcta 081hh': 'NJ', 'Brigantine': 'NJ', 'North cape may': 'NJ', 'Cape may court h': 'NJ', 'Cape may point': 'NJ', 'Egg harbor city': 'NJ', 'Marmora': 'NJ', 'New gretna': 'NJ', 'Ocean view': 'NJ', 'Zcta 08234': 'NJ', 'Rio grande': 'OH', 'Townsends inlet': 'NJ', 'Somers point': 'NJ', 'Stone harbor': 'NJ', 'Strathmere': 'NJ', 'Villas': 'NJ', 'Whitesboro': 'TX', 'North wildwood': 'NJ', 'Corbin city': 'NJ', 'Zcta 082hh': 'NJ', 'Buena': 'NJ', 'Deerfield street': 'NJ', 'Delmont': 'SD', 'Dorothy': 'WV', 'Estell manor': 'NJ', 'Fortescue': 'NJ', 'Franklinville': 'NC', 'Heislerville': 'NJ', 'Landisville': 'NJ', 'Malaga': 'WA', 'Mauricetown': 'NJ', 'Mays landing': 'NJ', 'Milmay': 'NJ', 'Minotola': 'NJ', 'Newfield': 'NY', 'Newtonville': 'NJ', 'Port elizabeth': 'NJ', 'Port norris': 'NJ', 'Rosenhayn': 'NJ', 'Vineland': 'NJ', 'Zcta 08361': 'NJ', 'Zcta 083hh': 'NJ', 'Zcta 083xx': 'NJ', 'Atlantic city': 'NJ', 'Margate city': 'NJ', 'Longport': 'NJ', 'Ventnor city': 'NJ', 'Zcta 084hh': 'NJ', 'Belle mead': 'NJ', 'Bordentown': 'NJ', 'Cookstown': 'NJ', 'Cranbury': 'NJ', 'Creamridge': 'NJ', 'Crosswicks': 'NJ', 'Hightstown': 'NJ', 'Hopewell': 'VA', 'New egypt': 'NJ', 'Perrineville': 'NJ', 'Plainsboro': 'NJ', 'Princeton juncti': 'NJ', 'Ringoes': 'NJ', 'Roebling': 'NJ', 'Skillman': 'NJ', 'Wrightstown': 'WI', 'Zcta 085hh': 'NJ', 'Mercerville': 'NJ', 'Yardville': 'NJ', 'West trenton': 'NJ', 'Fort dix': 'NJ', 'Mc guire afb': 'NJ', 'Zcta 086hh': 'NJ', 'Allenwood': 'PA', 'Bayville': 'NY', 'Beachwood': 'OH', 'Osbornsville': 'NJ', 'Brick': 'NJ', 'Brielle': 'NJ', 'Forked river': 'NJ', 'Island heights': 'NJ', 'Lakehurst naec': 'NJ', 'Lanoka harbor': 'NJ', 'Lavallette': 'NJ', 'Manasquan': 'NJ', 'Mantoloking': 'NJ', 'Ocean gate': 'NJ', 'Pine beach': 'NJ', 'Bay head': 'NJ', 'Sea girt': 'NJ', 'Seaside heights': 'NJ', 'Seaside park': 'NJ', 'Toms river': 'NJ', 'Waretown': 'NJ', 'Zcta 087hh': 'NJ', 'Zcta 087xx': 'NJ', 'Pattenburg': 'NJ', 'Bloomsbury': 'NJ', 'Bound brook': 'NJ', 'Green brook': 'NJ', 'East brunswick': 'NJ', 'Flagtown': 'NJ', 'Kendall park': 'NJ', 'Glen gardner': 'NJ', 'Helmetta': 'NJ', 'Iselin': 'NJ', 'Jamesburg': 'NJ', 'Keasbey': 'NJ', 'Metuchen': 'NJ', 'Middlesex': 'NC', 'Monmouth junctio': 'NJ', 'Neshanic station': 'NJ', 'Piscataway': 'NJ', 'Old bridge': 'NJ', 'Oldwick': 'NJ', 'Perth amboy': 'NJ', 'Fords': 'NJ', 'Pittstown': 'NJ', 'Sayreville': 'NJ', 'Laurence harbor': 'NJ', 'South bound broo': 'NJ', 'South river': 'NJ', 'Spotswood': 'NJ', 'Stewartsville': 'VA', 'Three bridges': 'NJ', 'Whitehouse stati': 'NJ', 'Zcta 088hh': 'NJ', 'New brunswick': 'NJ', 'North brunswick': 'NJ', 'Zcta 089hh': 'NJ', 'Algodones': 'NM', 'Bernalillo': 'NM', 'Bluewater': 'NM', 'Bosque': 'NM', 'Casa blanca': 'NM', 'Cedar crest': 'NM', 'Cerrillos': 'NM', 'Claunch': 'NM', 'Coyote': 'NM', 'Cubero': 'NM', 'Estancia': 'NM', 'Gallina': 'NM', 'Counselor': 'NM', 'Grants': 'NM', 'Isleta': 'NM', 'Jarales': 'NM', 'Jemez pueblo': 'NM', 'Jemez springs': 'NM', 'Canoncito': 'NM', 'Lajoya': 'NM', 'Lindrith': 'NM', 'Los lunas': 'NM', 'Pueblo of acoma': 'NM', 'Moriarty': 'NM', 'Mountainair': 'NM', 'Nageezi': 'NM', 'New laguna': 'NM', 'Paguate': 'NM', 'Cochiti pueblo': 'NM', 'Peralta': 'NM', 'Placitas': 'NM', 'Ponderosa': 'NM', 'Prewitt': 'NM', 'Sandia park': 'NM', 'Corrales': 'NM', 'San fidel': 'NM', 'Santo domingo pu': 'NM', 'Zia pueblo': 'NM', 'Tijeras': 'NM', 'Tome': 'NM', 'Torreon': 'NM', 'Veguita': 'NM', 'Bosque farms': 'NM', 'Clines corners': 'NM', 'Cochiti lake': 'NM', 'Zcta 870hh': 'NM', 'Zcta 870xx': 'NM', 'Albuquerque': 'NM', 'Rio rancho': 'NM', 'Zcta 871xx': 'NM', 'Gallup': 'NM', 'Brimhall': 'NM', 'Church rock': 'NM', 'Continental divi': 'NM', 'Crownpoint': 'NM', 'Fence lake': 'NM', 'Fort wingate': 'NM', 'Gamerco': 'NM', 'Mentmore': 'NM', 'Mexican springs': 'NM', 'Thoreau': 'NM', 'Tohatchi': 'NM', 'Vanderwagen': 'NM', 'Zuni': 'VA', 'Navajo': 'NM', 'Pinehill': 'NM', 'Sheep springs': 'NM', 'Yatahey': 'NM', 'Zcta 873xx': 'NM', 'Aztec': 'NM', 'Blanco': 'TX', 'Flora vista': 'NM', 'Kirtland': 'NM', 'Navajo dam': 'NM', 'Shiprock': 'NM', 'Waterflow': 'NM', 'Sanostee': 'NM', 'Zcta 874hh': 'NM', 'Zcta 874xx': 'NM', 'Pojoaque valley': 'NM', 'Abiquiu': 'NM', 'Amalia': 'NM', 'Arroyo hondo': 'NM', 'Arroyo seco': 'NM', 'Canjilon': 'NM', 'Canones': 'NM', 'Cebolla': 'NM', 'Cerro': 'NM', 'Chamisal': 'NM', 'Cundiyo': 'NM', 'Costilla': 'NM', 'Taos ski valley': 'NM', 'Dulce': 'NM', 'El prado': 'NM', 'El rito': 'NM', 'Embudo': 'NM', 'Espanola': 'WA', 'Glorieta': 'NM', 'Hernandez': 'NM', 'La madera': 'NM', 'Lamy': 'NM', 'Llano': 'NM', 'Medanales': 'NM', 'Ojo caliente': 'NM', 'Los ojos': 'NM', 'Pecos': 'NM', 'Penasco': 'NM', 'Questa': 'NM', 'Ranchos de taos': 'NM', 'Red river': 'NM', 'Ribera': 'NM', 'San cristobal': 'NM', 'San juan pueblo': 'NM', 'Serafina': 'NM', 'Taos': 'NM', 'Tererro': 'NM', 'Tierra amarilla': 'NM', 'Tres piedras': 'NM', 'Truchas': 'NM', 'Vadito': 'NM', 'Vallecitos': 'NM', 'Velarde': 'NM', 'Villanueva': 'NM', 'Zcta 875hh': 'NM', 'Zcta 875xx': 'NM', 'Angel fire': 'NM', 'Anton chico': 'NM', 'Chacon': 'NM', 'Eagle nest': 'NM', 'Guadalupita': 'NM', 'Holman': 'NM', 'La loma': 'NM', 'Ocate': 'NM', 'Ojo feliz': 'NM', 'Raton': 'NM', 'Rociada': 'NM', 'Sapello': 'NM', 'Springer': 'OK', 'Valmora': 'NM', 'Wagon mound': 'NM', 'Watrous': 'NM', 'Zcta 877xx': 'NM', 'Socorro': 'NM', 'Datil': 'NM', 'Lemitar': 'NM', 'Luna': 'NM', 'Pie town': 'NM', 'Polvadera': 'NM', 'Quemado': 'NM', 'San acacia': 'NM', 'Truth or consequ': 'NM', 'Arrey': 'NM', 'Caballo': 'NM', 'Elephant butte': 'NM', 'Hatch': 'UT', 'Zcta 879hh': 'NM', 'Zcta 879xx': 'NM', 'Las cruces': 'NM', 'White sands miss': 'NM', 'Santa teresa': 'NM', 'Playas': 'NM', 'Animas': 'NM', 'Chaparral': 'NM', 'Arenas valley': 'NM', 'Vanadium': 'NM', 'Berino': 'NM', 'Chamberino': 'NM', 'Deming': 'NM', 'Fairacres': 'NM', 'Fort bayard': 'NM', 'Gila': 'NM', 'Hachita': 'NM', 'Road forks': 'NM', 'Mesilla park': 'NM', 'Mesquite': 'TX', 'Mimbres': 'NM', 'Mule creek': 'NM', 'Organ': 'NM', 'Pinos altos': 'NM', 'Redrock': 'NM', 'Sunland park': 'NM', 'Vado': 'NM', 'Zcta 880xx': 'NM', 'Causey': 'NM', 'Crossroads': 'NM', 'Elida': 'OH', 'Fort sumner': 'NM', 'House': 'NM', 'Milnesand': 'NM', 'Pep': 'TX', 'Portales': 'NM', 'Taiban': 'NM', 'Yeso': 'NM', 'Caprock': 'NM', 'Zcta 88242': 'NM', 'Jal': 'NM', 'Loco hills': 'NM', 'Loving': 'TX', 'Maljamar': 'NM', 'Tatum': 'TX', 'Whites city': 'NM', 'Carrizozo': 'NM', 'Alamogordo': 'NM', 'Bent': 'NM', 'Capitan': 'NM', 'Cloudcroft': 'NM', 'Fort stanton': 'NM', 'High rolls mount': 'NM', 'Holloman air for': 'NM', 'Hondo': 'NM', 'La luz': 'NM', 'Mayhill': 'NM', 'Mescalero': 'NM', 'Nogal': 'NM', 'Ruidoso': 'NM', 'Ruidoso downs': 'NM', 'San patricio': 'NM', 'Timberon': 'NM', 'Tinnie': 'NM', 'Tularosa': 'NM', 'Weed': 'NM', 'Zcta 883xx': 'NM', 'Tucumcari': 'NM', 'Amistad': 'NM', 'Bard': 'NM', 'Conchas dam': 'NM', 'Cuervo': 'NM', 'Garita': 'NM', 'Grenville': 'SD', 'Mc alister': 'NM', 'Nara visa': 'NM', 'Newkirk': 'NM', 'San jon': 'NM', 'Pastura': 'NM', 'Zcta 884hh': 'NM', 'New york': 'NY', 'Governors island': 'NY', 'Zcta 10069': 'NY', 'Zcta 102hh': 'NY', 'Staten island': 'NY', 'Zcta 103hh': 'NY', 'Bronx': 'NY', 'Zcta 104hh': 'NY', 'Amawalk': 'NY', 'Ardsley': 'NY', 'Ardsley on hudso': 'NY', 'Armonk': 'NY', 'Bedford hills': 'NY', 'Briarcliff manor': 'NY', 'Chappaqua': 'NY', 'Cross river': 'NY', 'Croton falls': 'NY', 'Croton on hudson': 'NY', 'Dobbs ferry': 'NY', 'Elmsford': 'NY', 'Goldens bridge': 'NY', 'Granite springs': 'NY', 'Hartsdale': 'NY', 'Jefferson valley': 'NY', 'Katonah': 'NY', 'Lake peekskill': 'NY', 'Larchmont': 'NY', 'Mahopac': 'NY', 'Mamaroneck': 'NY', 'Mohegan lake': 'NY', 'Mount kisco': 'NY', 'Ossining': 'NY', 'Cortlandt manor': 'NY', 'Zcta 10567': 'NY', 'Rye brook': 'NY', 'Pound ridge': 'NY', 'Purchase': 'NY', 'Purdys': 'NY', 'Putnam valley': 'NY', 'Heathcote': 'NY', 'Shrub oak': 'NY', 'South salem': 'OH', 'North tarrytown': 'NY', 'Thornwood': 'NY', 'Valhalla': 'NY', 'Waccabuc': 'NY', 'Yorktown heights': 'NY', 'Zcta 105hh': 'NY', 'East white plain': 'NY', 'Zcta 106hh': 'NY', 'Yonkers': 'NY', 'Hastings on huds': 'NY', 'Tuckahoe': 'NY', 'Bronxville': 'NY', 'Eastchester': 'NY', 'Zcta 107hh': 'NY', 'New rochelle': 'NY', 'Zcta 108hh': 'NY', 'Suffern': 'NY', 'Blauvelt': 'NY', 'Campbell hall': 'NY', 'Central valley': 'NY', 'Congers': 'NY', 'Florida': 'NY', 'Garnerville': 'NY', 'Greenwood lake': 'NY', 'Harriman': 'TN', 'Haverstraw': 'NY', 'Highland falls': 'NY', 'Highland mills': 'NY', 'Hillburn': 'NY', 'Scotchtown': 'NY', 'Monsey': 'NY', 'Bardonia': 'NY', 'New city': 'NY', 'Nyack': 'NY', 'Orangeburg': 'SC', 'Palisades': 'WA', 'Slate hill': 'NY', 'Sterlington': 'NY', 'Southfields': 'NY', 'Sparkill': 'NY', 'Chestnut ridge': 'PA', 'Stony point': 'NC', 'Tappan': 'NY', 'Thiells': 'NY', 'Thompson ridge': 'NY', 'Tomkins cove': 'NY', 'Tuxedo park': 'NY', 'Valley cottage': 'NY', 'Washingtonville': 'PA', 'West haverstraw': 'NY', 'West nyack': 'NY', 'Westtown': 'NY', 'Zcta 109hh': 'NY', 'Zcta 109xx': 'NY', 'Floral park': 'NY', 'Alden manor': 'NY', 'Glen oaks': 'NY', 'Franklin square': 'NY', 'Great neck': 'NY', 'Kings point cont': 'NY', 'Plandome': 'NY', 'Hillside manor': 'NY', 'New hyde park': 'NY', 'Port washington': 'WI', 'Zcta 11096': 'NY', 'Zcta 110hh': 'NY', 'Sunnyside': 'WA', 'Zcta 111hh': 'NY', 'Zcta 112hh': 'NY', 'College point': 'NY', 'Whitestone': 'NY', 'Little neck': 'NY', 'Fresh meadows': 'NY', 'East elmhurst': 'NY', 'Jackson heights': 'NY', 'Rego park': 'NY', 'Maspeth': 'NY', 'Middle village': 'NY', 'Zcta 113hh': 'NY', 'Cambria heights': 'NY', 'Kew gardens': 'NY', 'Springfield gard': 'NY', 'Ozone park': 'NY', 'S richmond hill': 'NY', 'S ozone park': 'NY', 'Bellerose': 'NY', 'Queens village': 'NY', 'Zcta 114hh': 'NY', 'Albertson': 'NC', 'Carle place': 'NY', 'Cedarhurst': 'PA', 'East rockaway': 'NY', 'Glen cove': 'NY', 'Glen head': 'NY', 'Glenwood landing': 'NY', 'Greenvale': 'NY', 'Hempstead': 'TX', 'West hempstead': 'NY', 'East meadow': 'NY', 'Hewlett': 'NY', 'Locust valley': 'NY', 'Lynbrook': 'NY', 'Malverne': 'NY', 'North merrick': 'NY', 'Old westbury': 'NY', 'Point lookout': 'NY', 'Rockville centre': 'NY', 'Roslyn': 'WA', 'Roslyn heights': 'NY', 'Sea cliff': 'NY', 'Valley stream': 'NY', 'North woodmere': 'NY', 'Westbury': 'NY', 'Williston park': 'NY', 'Woodmere': 'NY', 'Zcta 115hh': 'NY', 'Far rockaway': 'NY', 'Zcta 116hh': 'NY', 'Amityville': 'NY', 'Oak beach': 'NY', 'North babylon': 'NY', 'West babylon': 'NY', 'North bellmore': 'NY', 'Bellport': 'NY', 'Bethpage': 'TN', 'Blue point': 'NY', 'Bohemia': 'NY', 'West brentwood': 'NY', 'Brightwaters': 'NY', 'Centereach': 'NY', 'Centerport': 'PA', 'Central islip': 'NY', 'Cold spring harb': 'NY', 'Commack': 'NY', 'Copiague': 'NY', 'East islip': 'NY', 'East norwich': 'NY', 'Setauket': 'NY', 'South farmingdal': 'NY', 'Farmingville': 'NY', 'Greenlawn': 'NY', 'Holtsville': 'NY', 'Halesite': 'NY', 'Dix hills': 'NY', 'Islip': 'NY', 'Islip terrace': 'NY', 'Jericho': 'SC', 'Kings park': 'NY', 'Lake grove': 'NY', 'Levittown': 'PA', 'North massapequa': 'NY', 'Massapequa park': 'NY', 'Miller place': 'NY', 'Mill neck': 'NY', 'Mount sinai': 'NY', 'Nesconset': 'NY', 'Ocean beach': 'NY', 'Oyster bay': 'NY', 'Davis park': 'NY', 'Port jefferson s': 'NY', 'Port jefferson': 'OH', 'Rocky point': 'NC', 'Lake ronkonkoma': 'NY', 'Cherry grove': 'NY', 'Shoreham': 'VT', 'Smithtown': 'NY', 'Hauppauge': 'NY', 'Sound beach': 'NY', 'Stony brook': 'NY', 'Syosset': 'NY', 'Wading river': 'NY', 'Wantagh': 'NY', 'West islip': 'NY', 'West sayville': 'NY', 'Wheatley heights': 'NY', 'Zcta 117hh': 'NY', 'Hicksville': 'OH', 'Old bethpage': 'NY', 'Riverhead': 'NY', 'Amagansett': 'NY', 'Bridgehampton': 'NY', 'Calverton': 'NY', 'Center moriches': 'NY', 'Cutchogue': 'NY', 'East marion': 'NY', 'East moriches': 'NY', 'East quogue': 'NY', 'Greenport': 'NY', 'Hampton bays': 'NY', 'Manorville': 'PA', 'Mastic': 'NY', 'Mastic beach': 'NY', 'Mattituck': 'NY', 'Middle island': 'NY', 'Montauk': 'NY', 'Moriches': 'NY', 'New suffolk': 'NY', 'Peconic': 'NY', 'Quogue': 'NY', 'Remsenburg': 'NY', 'Sagaponack': 'NY', 'Sag harbor': 'NY', 'Shelter island': 'NY', 'Shelter island h': 'NY', 'South jamesport': 'NY', 'Southold': 'NY', 'Speonk': 'NY', 'Wainscott': 'NY', 'Water mill': 'NY', 'Westhampton': 'NY', 'Westhampton beac': 'NY', 'Yaphank': 'NY', 'Zcta 119hh': 'NY', 'Alplaus': 'NY', 'West charlton': 'NY', 'Austerlitz': 'NY', 'Averill park': 'NY', 'Ballston lake': 'NY', 'Ballston spa': 'NY', 'Berne': 'NY', 'Broadalbin': 'NY', 'Burnt hills': 'NY', 'Buskirk': 'NY', 'Caroga lake': 'NY', 'Castleton on hud': 'NY', 'Central bridge': 'NY', 'Charlotteville': 'NY', 'Cobleskill': 'NY', 'Coeymans': 'NY', 'Coeymans hollow': 'NY', 'Cohoes': 'NY', 'Coxsackie': 'NY', 'Cropseyville': 'NY', 'Delanson': 'NY', 'Duanesburg': 'NY', 'White creek': 'NY', 'Earlton': 'NY', 'East berne': 'NY', 'East chatham': 'NY', 'East greenbush': 'NY', 'East nassau': 'NY', 'East schodack': 'NY', 'East worcester': 'NY', 'Clifton park': 'NY', 'Esperance': 'NY', 'Feura bush': 'NY', 'Fort johnson': 'NY', 'Fultonham': 'OH', 'Fultonville': 'NY', 'Galway': 'NY', 'Gilboa': 'WV', 'Glenmont': 'OH', 'Gloversville': 'NY', 'Guilderland': 'NY', 'Hannacroix': 'NY', 'Hoosick falls': 'NY', 'Howes cave': 'NY', 'Zcta 120hh': 'NY', 'Lake pleasant': 'NY', 'Malden bridge': 'NY', 'Maryland': 'NY', 'Mechanicville': 'NY', 'Medusa': 'NY', 'Middleburgh': 'NY', 'Nassau': 'NY', 'New lebanon': 'OH', 'Niverville': 'NY', 'North blenheim': 'NY', 'Old chatham': 'NY', 'Pattersonville': 'NY', 'Taconic lake': 'NY', 'Piseco': 'NY', 'Poestenkill': 'NY', 'Ravena': 'NY', 'Rensselaer': 'NY', 'Rensselaerville': 'NY', 'Richmondville': 'NY', 'Rotterdam juncti': 'NY', 'Schaghticoke': 'NY', 'Schenevus': 'NY', 'Schodack landing': 'NY', 'Schoharie': 'NY', 'Selkirk': 'NY', 'Slingerlands': 'NY', 'Sloansville': 'NY', 'Speculator': 'NY', 'Spencertown': 'NY', 'Sprakers': 'NY', 'Stephentown': 'NY', 'Stillwater': 'PA', 'Stuyvesant': 'NY', 'Green island': 'NY', 'Valatie': 'NY', 'Voorheesville': 'NY', 'Warnerville': 'NY', 'West coxsackie': 'NY', 'Westerlo': 'NY', 'West fulton': 'NY', 'West sand lake': 'NY', 'Wynantskill': 'NY', 'Zcta 121hh': 'NY', 'Zcta 121xx': 'NY', 'Mc kownville': 'NY', 'Roessleville': 'NY', 'Loudonville': 'OH', 'Zcta 122hh': 'NY', 'Mayfair': 'NY', 'Rotterdam': 'NY', 'Schenectady': 'NY', 'Niskayuna': 'NY', 'Zcta 123hh': 'NY', 'Accord': 'NY', 'Acra': 'NY', 'Arkville': 'NY', 'Shady': 'NY', 'Oliverea': 'NY', 'Boiceville': 'NY', 'Catskill': 'NY', 'Chichester': 'NY', 'Cornwallville': 'NY', 'Cottekill': 'NY', 'Cragsmoor': 'NY', 'East durham': 'NY', 'East jewett': 'NY', 'Elka park': 'NY', 'Ellenville': 'NY', 'Esopus': 'NY', 'Halcott center': 'NY', 'Glenford': 'OH', 'Grand gorge': 'NY', 'Greenfield park': 'NY', 'East windham': 'NY', 'High falls': 'NY', 'Kerhonkson': 'NY', 'Lake hill': 'NY', 'Lake katrine': 'NY', 'Maplecrest': 'NY', 'Kelly corners': 'NY', 'Mount marion': 'NY', 'Mount tremper': 'NY', 'Napanoch': 'NY', 'New kingston': 'NY', 'Krumville': 'NY', 'Palenville': 'NY', 'Phoenicia': 'NY', 'Port ewen': 'NY', 'Preston hollow': 'NY', 'Purling': 'NY', 'Rifton': 'NY', 'Round top': 'TX', 'Saugerties': 'NY', 'Shandaken': 'NY', 'Shokan': 'NY', 'South cairo': 'NY', 'Stone ridge': 'NY', 'Tannersville': 'VA', 'Tillson': 'NY', 'Ulster park': 'NY', 'Wawarsing': 'NY', 'West hurley': 'NY', 'West kill': 'NY', 'West park': 'NY', 'West shokan': 'NY', 'Zcta 124hh': 'NY', 'Amenia': 'ND', 'Ancram': 'NY', 'Ancramdale': 'NY', 'Barrytown': 'NY', 'Claverack': 'NY', 'Clinton corners': 'NY', 'Clintondale': 'NY', 'Copake': 'NY', 'Copake falls': 'NY', 'Cornwall': 'PA', 'Cornwall on huds': 'NY', 'Craryville': 'NY', 'Dover plains': 'NY', 'Elizaville': 'NY', 'Fishkill': 'NY', 'Holmes': 'PA', 'Hopewell junctio': 'NY', 'Lagrangeville': 'NY', 'Maybrook': 'NY', 'Modena': 'WI', 'Middle hope': 'NY', 'Mohonk lake': 'NY', 'Pawling': 'NY', 'Philmont': 'NY', 'Pine bush': 'NY', 'Pine plains': 'NY', 'Poughquag': 'NY', 'Red hook': 'NY', 'Rhinebeck': 'NY', 'Rock tavern': 'NY', 'Salisbury mills': 'NY', 'Salt point': 'NY', 'Staatsburg': 'NY', 'Stanfordville': 'NY', 'Stormville': 'NY', 'Tivoli': 'TX', 'Verbank': 'NY', 'Wallkill': 'NY', 'New hamburg': 'NY', 'Wassaic': 'NY', 'Wingdale': 'NY', 'Zcta 125hh': 'NY', 'Zcta 125xx': 'NY', 'South road': 'NY', 'Zcta 126hh': 'NY', 'Barryville': 'NY', 'Bloomingburg': 'OH', 'Callicoon': 'NY', 'Callicoon center': 'NY', 'Claryville': 'NY', 'Fosterdale': 'NY', 'Cochecton center': 'NY', 'Cuddebackville': 'NY', 'Fallsburg': 'NY', 'Grossinger': 'NY', 'Fremont center': 'NY', 'Glen spey': 'NY', 'Glen wild': 'NY', 'Godeffroy': 'NY', 'Grahamsville': 'NY', 'Mileses': 'NY', 'Highland lake': 'NY', 'Huguenot': 'NY', 'Hurleyville': 'NY', 'Kauneonga lake': 'NY', 'Kiamesha lake': 'NY', 'Lake huntington': 'NY', 'Livingston manor': 'NY', 'Loch sheldrake': 'NY', 'Long eddy': 'NY', 'Mongaup valley': 'NY', 'Mountain dale': 'NY', 'Narrowsburg': 'NY', 'Neversink': 'NY', 'Pond eddy': 'NY', 'Port jervis': 'NY', 'Rock hill': 'SC', 'Cook falls': 'NY', 'Forestburgh': 'NY', 'Smallwood': 'NY', 'South fallsburg': 'NY', 'Sparrowbush': 'NY', 'Westbrookville': 'NY', 'Woodbourne': 'NY', 'Wurtsboro': 'NY', 'Yulan': 'NY', 'Zcta 127hh': 'NY', 'Queensbury': 'NY', 'South glens fall': 'NY', 'Adirondack': 'NY', 'Blue mountain la': 'NY', 'Bolton landing': 'NY', 'Brant lake': 'NY', 'Cossayuna': 'NY', 'Diamond point': 'NY', 'Fort ann': 'NY', 'Fort edward': 'NY', 'Gansevoort': 'NY', 'Greenfield cente': 'NY', 'Hague': 'VA', 'Hudson falls': 'NY', 'Huletts landing': 'NY', 'Indian lake': 'NY', 'Johnsburg': 'NY', 'Lake luzerne': 'NY', 'Middle granville': 'NY', 'Middle grove': 'NY', 'Minerva': 'OH', 'North creek': 'NY', 'North hudson': 'NY', 'North river': 'ND', 'Olmstedville': 'NY', 'Paradox': 'NY', 'Porter corners': 'NY', 'Putnam station': 'NY', 'Rock city falls': 'NY', 'Schroon lake': 'NY', 'Schuylerville': 'NY', 'Shushan': 'NY', 'Silver bay': 'NY', 'Stony creek': 'VA', 'Ticonderoga': 'NY', 'Wevertown': 'NY', 'Zcta 128hh': 'NY', 'Zcta 128xx': 'NY', 'Plattsburgh': 'NY', 'Plattsburgh a f': 'NY', 'Au sable chasm': 'NY', 'Au sable forks': 'NY', 'Bombay': 'NY', 'Brushton': 'NY', 'Cadyville': 'NY', 'Champlain': 'VA', 'Chateaugay': 'NY', 'Chazy': 'NY', 'Childwold': 'NY', 'Constable': 'NY', 'Cranberry lake': 'NY', 'Dickinson center': 'NY', 'Ellenburg center': 'NY', 'Ellenburg depot': 'NY', 'Fort covington': 'NY', 'Saint huberts': 'NY', 'Keeseville': 'NY', 'Upper saint regi': 'NY', 'Lyon mountain': 'NY', 'Mineville': 'NY', 'Moira': 'NY', 'Mooers': 'NY', 'Mooers forks': 'NY', 'Moriah': 'NY', 'Moriah center': 'NY', 'New russia': 'NY', 'Nicholville': 'NY', 'North lawrence': 'OH', 'Paul smiths': 'NY', 'Port henry': 'NY', 'Rouses point': 'NY', 'Saint regis fall': 'NY', 'Saranac lake': 'NY', 'Schuyler falls': 'NY', 'Sunmount': 'NY', 'Upper jay': 'NY', 'West chazy': 'NY', 'Willsboro': 'NY', 'Zcta 129hh': 'NY', 'Zcta 129xx': 'NY', 'Baldwinsville': 'NY', 'Bernhards bay': 'NY', 'Brewerton': 'NY', 'Camillus': 'NY', 'Canastota': 'NY', 'Cato': 'NY', 'Central square': 'NY', 'Chittenango': 'NY', 'Cincinnatus': 'NY', 'Constantia': 'NY', 'De ruyter': 'NY', 'Durhamville': 'NY', 'East syracuse': 'NY', 'Elbridge': 'NY', 'Erieville': 'NY', 'Fabius': 'NY', 'Freeville': 'NY', 'Jamesville': 'NC', 'King ferry': 'NY', 'Bayberry': 'NY', 'Locke': 'NY', 'Zcta 130hh': 'NY', 'Mc graw': 'NY', 'Martville': 'NY', 'Minoa': 'NY', 'Nedrow': 'NY', 'New woodstock': 'NY', 'North pitcher': 'NY', 'Parish': 'NY', 'Pennellville': 'NY', 'Pitcher': 'NY', 'Preble': 'NY', 'Red creek': 'WV', 'Sandy creek': 'NY', 'Venice center': 'NY', 'Seneca falls': 'NY', 'Skaneateles': 'NY', 'South otselic': 'NY', 'Tully': 'NY', 'Warners': 'NY', 'Weedsport': 'NY', 'Zcta 131hh': 'NY', 'Solvay': 'NY', 'Mattydale': 'NY', 'North syracuse': 'NY', 'Zcta 132hh': 'NY', 'Alder creek': 'NY', 'Altmar': 'NY', 'Barneveld': 'WI', 'Blossvale': 'NY', 'Bouckville': 'NY', 'Glenfield': 'NY', 'Burlington flats': 'NY', 'Chadwicks': 'NY', 'Clayville': 'RI', 'Cold brook': 'NY', 'Constableville': 'NY', 'Cooperstown': 'PA', 'Croghan': 'NY', 'Deansboro': 'NY', 'Dolgeville': 'NY', 'Eagle bay': 'NY', 'East springfield': 'PA', 'Edmeston': 'NY', 'Fly creek': 'NY', 'Forestport': 'NY', 'Fort plain': 'NY', 'Garrattsville': 'NY', 'Herkimer': 'NY', 'Hoffmeister': 'NY', 'Holland patent': 'NY', 'Hubbardsville': 'NY', 'Ilion': 'NY', 'Inlet': 'NY', 'Jordanville': 'NY', 'Beaver river': 'NY', 'Lyons falls': 'NY', 'Zcta 133hh': 'NY', 'Zcta 133xx': 'NY', 'Marcy': 'NY', 'Mohawk': 'WV', 'Munnsville': 'NY', 'New berlin': 'WI', 'Old forge': 'PA', 'Oriskany': 'NY', 'Oriskany falls': 'NY', 'Palatine bridge': 'NY', 'Port leyden': 'NY', 'Raquette lake': 'NY', 'Richfield spring': 'NY', 'Roseboom': 'NY', 'Saint johnsville': 'NY', 'Salisbury center': 'NY', 'Sauquoit': 'NY', 'Sherburne': 'NY', 'Springfield cent': 'NY', 'Stittville': 'NY', 'Taberg': 'NY', 'Van hornesville': 'NY', 'Westdale': 'NY', 'West edmeston': 'NY', 'Westernville': 'NY', 'West leyden': 'NY', 'West winfield': 'NY', 'Zcta 134hh': 'NY', 'Zcta 134xx': 'NY', 'Zcta 135hh': 'NY', 'Fort drum': 'NY', 'Adams center': 'NY', 'Point vivian': 'NY', 'Antwerp': 'OH', 'Brasher falls': 'NY', 'Brier hill': 'NY', 'Calcium': 'NY', 'Cape vincent': 'NY', 'Castorland': 'NY', 'Chase mills': 'NY', 'Chaumont': 'NY', 'Colton': 'WA', 'Copenhagen': 'NY', 'De kalb junction': 'NY', 'De peyster': 'NY', 'Evans mills': 'NY', 'Felts mills': 'NY', 'Fine': 'NY', 'Wellesley island': 'NY', 'Gouverneur': 'NY', 'Hermon': 'NY', 'Heuvelton': 'NY', 'Hogansburg': 'NY', 'La fargeville': 'NY', 'Mannsville': 'OK', 'Natural bridge': 'VA', 'Oswegatchie': 'NY', 'Parishville': 'NY', 'Plessis': 'NY', 'Potsdam': 'NY', 'Rensselaer falls': 'NY', 'Rodman': 'NY', 'Degrasse': 'NY', 'Sackets harbor': 'NY', 'South colton': 'NY', 'Star lake': 'NY', 'Theresa': 'WI', 'Three mile bay': 'NY', 'Waddington': 'NY', 'Zcta 136hh': 'NY', 'Zcta 136xx': 'NY', 'Andes': 'NY', 'Apalachin': 'NY', 'Berkshire': 'NY', 'Bloomville': 'OH', 'Bovina center': 'NY', 'Candor': 'NC', 'Castle creek': 'NY', 'Chenango forks': 'NY', 'De lancey': 'PA', 'Deposit': 'NY', 'East branch': 'NY', 'East meredith': 'NY', 'Endwell': 'NY', 'Fishs eddy': 'NY', 'Glen aubrey': 'NY', 'Cadosia': 'NY', 'Harpersfield': 'NY', 'Harpursville': 'NY', 'Johnson city': 'TX', 'Zcta 137hh': 'NY', 'Maine': 'NY', 'Mount upton': 'NY', 'Mount vision': 'NY', 'Newark valley': 'NY', 'Otego': 'NY', 'Owego': 'NY', 'Brisben': 'NY', 'Sanitaria spring': 'NY', 'Portlandville': 'NY', 'Richford': 'VT', 'Sidney center': 'NY', 'Smithville flats': 'NY', 'South kortright': 'NY', 'South new berlin': 'NY', 'South plymouth': 'NY', 'Treadwell': 'NY', 'Vestal': 'NY', 'Wells bridge': 'NY', 'West oneonta': 'NY', 'Whitney point': 'NY', 'Willet': 'NY', 'Willseyville': 'NY', 'Zcta 138hh': 'NY', 'Binghamton': 'NY', 'Zcta 139hh': 'NY', 'Arcade': 'NY', 'Barker': 'NY', 'Basom': 'NY', 'Bowmansville': 'NY', 'Clarence center': 'NY', 'Colden': 'NY', 'Corfu': 'NY', 'Cowlesville': 'NY', 'Darien center': 'NY', 'Delevan': 'NY', 'Depew': 'OK', 'Van buren bay': 'NY', 'Swormville': 'NY', 'East aurora': 'NY', 'East bethany': 'NY', 'East concord': 'NY', 'Farmersville sta': 'NY', 'Gasport': 'NY', 'Getzville': 'NY', 'Gowanda': 'NY', 'Java center': 'NY', 'Java village': 'NY', 'Lawtons': 'NY', 'Lyndonville': 'VT', 'Zcta 140hh': 'NY', 'Marilla': 'NY', 'Medina': 'WA', 'Middleport': 'PA', 'Newfane': 'VT', 'North collins': 'NY', 'North java': 'NY', 'North tonawanda': 'NY', 'Orchard park': 'NY', 'Perrysburg': 'OH', 'Ransomville': 'NY', 'Sardinia': 'OH', 'South dayton': 'NY', 'South wales': 'NY', 'Strykersville': 'NY', 'Tonawanda': 'NY', 'Varysburg': 'NY', 'West falls': 'NY', 'West valley': 'NY', 'Zcta 141hh': 'NY', 'Kenmore': 'WA', 'Lackawanna': 'NY', 'Blasdell': 'NY', 'West seneca': 'NY', 'Cheektowaga': 'NY', 'Zcta 142hh': 'NY', 'Niagara falls': 'NY', 'Zcta 143hh': 'NY', 'Bellona': 'NY', 'Bergen': 'ND', 'Branchport': 'NY', 'Brockport': 'PA', 'Canandaigua': 'NY', 'Castile': 'NY', 'Clifton springs': 'NY', 'Conesus': 'NY', 'Fairport': 'NY', 'Hilton': 'NY', 'Hulberton': 'NY', 'Honeoye': 'NY', 'Honeoye falls': 'NY', 'Bluff point': 'NY', 'Zcta 144hh': 'NY', 'Macedon': 'NY', 'North chili': 'NY', 'North rose': 'NY', 'Nunda': 'SD', 'Hayt corners': 'NY', 'Penn yan': 'NY', 'Mac dougall': 'NY', 'West rush': 'NY', 'Shortsville': 'NY', 'Rock glen': 'PA', 'Sodus point': 'NY', 'Spencerport': 'NY', 'Springwater': 'NY', 'Walworth': 'WI', 'Waterport': 'NY', 'West henrietta': 'NY', 'Zcta 145hh': 'NY', 'Greece': 'NY', 'Twelve corners': 'NY', 'Panorama': 'NY', 'Zcta 146hh': 'NY', 'Allegany': 'NY', 'Angelica': 'NY', 'Bemus point': 'NY', 'Black creek': 'NC', 'Caneadea': 'NY', 'Cattaraugus': 'NY', 'Cherry creek': 'SD', 'Clymer': 'PA', 'Conewango valley': 'NY', 'Dewittville': 'NY', 'East otto': 'NY', 'Ellicottville': 'NY', 'Falconer': 'NY', 'Findley lake': 'NY', 'Frewsburg': 'NY', 'Gerry': 'NY', 'Great valley': 'NY', 'Ischua': 'NY', 'Kill buck': 'NY', 'Little genesee': 'NY', 'Little valley': 'NY', 'Portville': 'NY', 'Salamanca': 'NY', 'Sinclairville': 'NY', 'Steamburg': 'NY', 'Zcta 147hh': 'NY', 'Zcta 147xx': 'NY', 'Alfred station': 'NY', 'Almond': 'WI', 'Arkport': 'NY', 'Veterans adminis': 'NY', 'Beaver dams': 'NY', 'Big flats': 'NY', 'Breesport': 'NY', 'Brooktondale': 'NY', 'Cameron mills': 'NY', 'Canaseraga': 'NY', 'Canisteo': 'NY', 'Cayuta': 'NY', 'Chemung': 'NY', 'Cohocton': 'NY', 'Erin': 'TN', 'Hammondsport': 'NY', 'Himrod': 'NY', 'Hornell': 'NY', 'Horseheads': 'NY', 'Hunt': 'WV', 'Interlaken': 'NY', 'Ithaca college': 'NY', 'Lindley': 'NY', 'Montour falls': 'NY', 'Painted post': 'NY', 'Pine city': 'NY', 'Prattsburg': 'NY', 'Pulteney': 'NY', 'Rexville': 'NY', 'Rock stream': 'NY', 'Savona': 'NY', 'Scio': 'OR', 'Slaterville spri': 'NY', 'Swain': 'NY', 'Troupsburg': 'NY', 'Trumansburg': 'NY', 'Van etten': 'NY', 'Watkins glen': 'NY', 'Zcta 148hh': 'NY', 'Elmira heights': 'NY', 'Zcta 149hh': 'NY', 'Ararat': 'VA', 'Belews creek': 'NC', 'Clemmons': 'NC', 'Cooleemee': 'NC', 'Dobson': 'NC', 'East bend': 'NC', 'Germanton': 'NC', 'Hamptonville': 'NC', 'King': 'NC', 'Lawsonville': 'NC', 'Lowgap': 'NC', 'Mayodan': 'NC', 'Mocksville': 'NC', 'Pfafftown': 'NC', 'Pilot mountain': 'NC', 'Pine hall': 'NC', 'Pinnacle': 'NC', 'Rural hall': 'NC', 'Sandy ridge': 'PA', 'Stoneville': 'SD', 'Tobaccoville': 'NC', 'Walkertown': 'NC', 'Walnut cove': 'NC', 'Woodleaf': 'NC', 'Yadkinville': 'NC', 'Zcta 270hh': 'NC', 'Winston salem': 'NC', 'Zcta 271hh': 'NC', 'Altamahaw': 'NC', 'Farmer': 'SD', 'Blanch': 'NC', 'Browns summit': 'NC', 'Glen raven': 'NC', 'Eagle springs': 'NC', 'Efland': 'NC', 'Elon college': 'NC', 'Gibsonville': 'NC', 'Goldston': 'NC', 'Gulf': 'NC', 'Haw river': 'NC', 'High point': 'NC', 'Archdale': 'NC', 'Jackson springs': 'NC', 'Kernersville': 'NC', 'Zcta 27295': 'NC', 'Zcta 272hh': 'NC', 'Mc leansville': 'NC', 'Mebane': 'NC', 'Mount gilead': 'OH', 'Pleasant garden': 'NC', 'Prospect hill': 'NC', 'Randleman': 'NC', 'Ruffin': 'SC', 'Seagrove': 'NC', 'Semora': 'NC', 'Siler city': 'NC', 'Snow camp': 'NC', 'Sophia': 'NC', 'Staley': 'NC', 'Stokesdale': 'NC', 'West end': 'VA', 'Whitsett': 'TX', 'Yanceyville': 'NC', 'Zcta 273hh': 'NC', 'Zcta 274hh': 'NC', 'Angier': 'NC', 'Apex': 'NC', 'Bahama': 'NC', 'Broadway': 'VA', 'Buies creek': 'NC', 'Bullock': 'NC', 'Bunn': 'NC', 'Butner': 'NC', 'Carrboro': 'NC', 'Chapel hill': 'TN', 'Creedmoor': 'TX', 'Four oaks': 'NC', 'Fuquay varina': 'NC', 'Hurdle mills': 'NC', 'Kenly': 'NC', 'Kittrell': 'NC', 'Knightdale': 'NC', 'Lillington': 'NC', 'Micro': 'NC', 'Moncure': 'NC', 'New hill': 'NC', 'Norlina': 'NC', 'Rolesville': 'NC', 'Rougemont': 'NC', 'Roxboro': 'NC', 'Stem': 'NC', 'Timberlake': 'VA', 'Townsville': 'NC', 'Wake forest': 'NC', 'Willow spring': 'NC', 'Zcta 275hh': 'NC', 'Zcta 276hh': 'NC', 'Research triangl': 'NC', 'Zcta 277hh': 'NC', 'Wesleyan college': 'NC', 'Aulander': 'NC', 'Battleboro': 'NC', 'Belhaven': 'NC', 'Blounts creek': 'NC', 'Chocowinity': 'NC', 'Conetoe': 'NC', 'Edward': 'NC', 'Elm city': 'NC', 'Falkland': 'NC', 'Farmville': 'VA', 'Garysburg': 'NC', 'Grimesland': 'NC', 'Hassell': 'NC', 'Henrico': 'NC', 'Hobgood': 'NC', 'Kelford': 'NC', 'Lewiston woodvil': 'NC', 'Lucama': 'NC', 'Crisp': 'NC', 'Margarettsville': 'NC', 'Oak city': 'UT', 'Pantego': 'NC', 'Pikeville': 'TN', 'Pinetops': 'NC', 'Pinetown': 'NC', 'Rich square': 'NC', 'Roanoke rapids': 'NC', 'Robersonville': 'NC', 'Roxobel': 'NC', 'Scotland neck': 'NC', 'Seaboard': 'NC', 'Spring hope': 'NC', 'Stantonsburg': 'NC', 'Stokes': 'NC', 'Swanquarter': 'NC', 'Tarboro': 'NC', 'Walstonburg': 'NC', 'Whitakers': 'NC', 'Zcta 278hh': 'NC', 'Zcta 278xx': 'NC', 'Elizabeth city': 'NC', 'Ahoskie': 'NC', 'Aydlett': 'NC', 'Barco': 'NC', 'Buxton': 'OR', 'Cofield': 'NC', 'Coinjock': 'NC', 'Colerain': 'NC', 'Corapeake': 'NC', 'Corolla': 'NC', 'Creswell': 'OR', 'Currituck': 'NC', 'Edenton': 'NC', 'Eure': 'NC', 'Frisco': 'TX', 'Gates': 'TN', 'Gatesville': 'NC', 'Grandy': 'NC', 'Harbinger': 'NC', 'Harrellsville': 'NC', 'Hatteras': 'NC', 'Durants neck': 'NC', 'Hobbsville': 'NC', 'Jarvisburg': 'NC', 'Kill devil hills': 'NC', 'Southern shores': 'NC', 'Knotts island': 'NC', 'East lake': 'NC', 'Manteo': 'NC', 'Maple': 'WI', 'Merry hill': 'NC', 'Moyock': 'NC', 'Nags head': 'NC', 'Ocracoke': 'NC', 'Point harbor': 'NC', 'Poplar branch': 'NC', 'Powells point': 'NC', 'Powellsville': 'NC', 'Rodanthe': 'NC', 'Roper': 'NC', 'Salvo': 'NC', 'Shawboro': 'NC', 'South mills': 'NC', 'Sunbury': 'PA', 'Tyner': 'NC', 'Wanchese': 'NC', 'Waves': 'NC', 'Winfall': 'NC', 'Zcta 279hh': 'NC', 'Zcta 279xx': 'NC', 'Albemarle': 'NC', 'Ansonville': 'NC', 'Badin': 'NC', 'Bessemer city': 'NC', 'Gardner webb col': 'NC', 'Bostic': 'NC', 'Caroleen': 'NC', 'Casar': 'NC', 'China grove': 'NC', 'Cornelius': 'OR', 'Cramerton': 'NC', 'Crouse': 'NC', 'Earl': 'WI', 'Ellenboro': 'NC', 'Alexander mills': 'NC', 'Gastonia': 'NC', 'Gold hill': 'OR', 'Granite quarry': 'NC', 'High shoals': 'NC', 'Indian trail': 'NC', 'Iron station': 'NC', 'Kannapolis': 'NC', 'Landis': 'NC', 'Lattimore': 'NC', 'Lilesville': 'NC', 'Boger city': 'NC', 'Locust': 'NC', 'Zcta 280hh': 'NC', 'Mc adenville': 'NC', 'Mc farlan': 'NC', 'Marshville': 'NC', 'Zcta 28104': 'NC', 'Stallings': 'NC', 'Misenheimer': 'NC', 'Mooresboro': 'NC', 'Zcta 28117': 'NC', 'Mount ulla': 'NC', 'Oakboro': 'NC', 'Peachland': 'NC', 'Polkton': 'NC', 'Rutherfordton': 'NC', 'Kingstown': 'NC', 'Spindale': 'NC', 'Troutman': 'NC', 'Vale': 'SD', 'Wadesboro': 'NC', 'Weddington': 'NC', 'Zcta 281hh': 'NC', 'Zcta 282hh': 'NC', 'East fayettevill': 'NC', 'Bonnie doone': 'NC', 'Autryville': 'NC', 'Bladenboro': 'NC', 'Bunnlevel': 'NC', 'Calypso': 'NC', 'Dunn': 'NC', 'Ellerbe': 'NC', 'Erwin': 'TN', 'Mcdonald': 'NC', 'Faison': 'NC', 'Godwin': 'NC', 'Hope mills': 'NC', 'Laurinburg': 'NC', 'Lumber bridge': 'NC', 'Zcta 28360': 'NC', 'Maxton': 'NC', 'Newton grove': 'NC', 'Orrum': 'NC', 'Parkton': 'NC', 'Pinebluff': 'NC', 'Raeford': 'NC', 'Red springs': 'NC', 'Rockingham': 'NC', 'Roseboro': 'NC', 'Rowland': 'PA', 'Saint pauls': 'NC', 'Salemburg': 'NC', 'Southern pines': 'NC', 'Stedman': 'NC', 'Tar heel': 'NC', 'Turkey': 'TX', 'Vass': 'NC', 'Wade': 'NC', 'Wagram': 'NC', 'Bowdens': 'NC', 'Zcta 283hh': 'NC', 'Zcta 283xx': 'NC', 'Cape fear': 'NC', 'Zcta 28411': 'NC', 'Ash': 'NC', 'Burgaw': 'NC', 'Carolina beach': 'NC', 'Castle hayne': 'NC', 'Chadbourn': 'NC', 'Delco': 'NC', 'Fair bluff': 'NC', 'Hallsboro': 'NC', 'Harrells': 'NC', 'Surf city': 'NC', 'Kure beach': 'NC', 'Lake waccamaw': 'NC', 'Nakina': 'NC', 'Riegelwood': 'NC', 'Sneads ferry': 'NC', 'Boiling spring l': 'NC', 'Holden beach': 'NC', 'Tabor city': 'NC', 'Teachey': 'NC', 'Calabash': 'NC', 'Ocean isle beach': 'NC', 'South brunswick': 'NC', 'Watha': 'NC', 'Whiteville': 'TN', 'Winnabow': 'NC', 'Wrightsville bea': 'NC', 'Zcta 284hh': 'NC', 'Zcta 284xx': 'NC', 'Zcta 28504': 'NC', 'Pine knoll shore': 'NC', 'Ayden': 'NC', 'Bayboro': 'NC', 'Beulaville': 'NC', 'Cedar island': 'NC', 'Chinquapin': 'NC', 'Cove city': 'NC', 'Deep run': 'NC', 'Ernul': 'NC', 'Grantsboro': 'NC', 'Grifton': 'NC', 'Harkers island': 'NC', 'Hobucken': 'NC', 'Hookerton': 'NC', 'Hubert': 'NC', 'Tarawa terrace': 'NC', 'Midway park': 'NC', 'Camp lejeune': 'NC', 'Lowland': 'NC', 'Marshallberg': 'NC', 'Maury': 'NC', 'Morehead city': 'NC', 'New bern': 'NC', 'Oriental': 'NC', 'Pink hill': 'NC', 'Pollocksville': 'NC', 'Richlands': 'VA', 'Salter path': 'NC', 'Sealevel': 'NC', 'Seven springs': 'NC', 'Swansboro': 'NC', 'Vanceboro': 'NC', 'Emerald isle': 'NC', 'Zcta 285hh': 'NC', 'Zcta 285xx': 'NC', 'Banner elk': 'NC', 'Blowing rock': 'NC', 'Boomer': 'WV', 'Catawba': 'WI', 'Collettsville': 'NC', 'Connellys spring': 'NC', 'Conover': 'WI', 'Crossnore': 'NC', 'Crumpler': 'WV', 'Deep gap': 'NC', 'Elkin': 'NC', 'Elk park': 'NC', 'Ennice': 'NC', 'Zcta 28625': 'NC', 'Fleetwood': 'NC', 'Glade valley': 'NC', 'Glendale springs': 'NC', 'Hiddenite': 'NC', 'Hildebran': 'NC', 'Lenoir': 'NC', 'Mc grady': 'NC', 'Maiden': 'NC', 'Millers creek': 'NC', 'Moravian falls': 'NC', 'Frank': 'NC', 'North wilkesboro': 'NC', 'Pineola': 'NC', 'Piney creek': 'NC', 'Purlear': 'NC', 'Icard': 'NC', 'Roaring gap': 'NC', 'Roaring river': 'NC', 'Ronda': 'NC', 'Rutherford colle': 'NC', 'Sherrills ford': 'NC', 'State road': 'NC', 'Statesville': 'NC', 'Terrell': 'TX', 'Thurmond': 'WV', 'Todd': 'PA', 'Traphill': 'NC', 'Valdese': 'NC', 'Warrensville': 'NC', 'West jefferson': 'OH', 'Wilkesboro': 'NC', 'Zionville': 'NC', 'Zcta 286hh': 'NC', 'Arden': 'NC', 'Bakersville': 'NC', 'Balsam': 'NC', 'Balsam grove': 'NC', 'Barnardsville': 'NC', 'Bat cave': 'NC', 'Black mountain s': 'NC', 'Brevard': 'NC', 'Bryson city': 'NC', 'Candler': 'NC', 'Cashiers': 'NC', 'Cedar mountain': 'NC', 'Cullowhee': 'NC', 'East flat rock': 'NC', 'Fontana dam': 'NC', 'Gerton': 'NC', 'Hendersonville': 'TN', 'Greenmountain': 'NC', 'Highlands': 'TX', 'Horse shoe': 'NC', 'Lake junaluska': 'NC', 'Lake lure': 'NC', 'Lake toxaway': 'NC', 'Little switzerla': 'NC', 'Maggie valley': 'NC', 'Micaville': 'NC', 'Montreat': 'NC', 'Old fort': 'OH', 'Otto': 'WY', 'Penland': 'NC', 'Pisgah forest': 'NC', 'Robbinsville': 'NC', 'Rosman': 'NC', 'Saluda': 'VA', 'Sapphire': 'NC', 'Warren wilson co': 'NC', 'Sylva': 'NC', 'Topton': 'PA', 'Tuckasegee': 'NC', 'Tuxedo': 'NC', 'Zirconia': 'NC', 'Zcta 28791': 'NC', 'Zcta 287hh': 'NC', 'Zcta 287xx': 'NC', 'Asheville': 'NC', 'Zcta 288hh': 'NC', 'Brasstown': 'NC', 'Unaka': 'NC', 'Warne': 'NC', 'Zcta 289hh': 'NC', 'Abercrombie': 'ND', 'Argusville': 'ND', 'Casselton': 'ND', 'Christine': 'TX', 'Enderlin': 'ND', 'Fingal': 'ND', 'Forman': 'ND', 'Englevale': 'ND', 'Great bend': 'PA', 'Hankinson': 'ND', 'Prosper': 'TX', 'Colgate': 'WI', 'Hickson': 'ND', 'Kindred': 'ND', 'Mcleod': 'ND', 'Mantador': 'ND', 'Durbin': 'WV', 'Delamere': 'ND', 'Mooreton': 'ND', 'Nome': 'TX', 'Oriska': 'ND', 'Stirum': 'ND', 'Tower city': 'PA', 'Valley city': 'OH', 'Embden': 'ND', 'Wyndmere': 'ND', 'Zcta 580hh': 'ND', 'Briarwood': 'ND', 'Grand forks': 'ND', 'Grand forks afb': 'ND', 'Aneta': 'ND', 'Ardoch': 'ND', 'Arvilla': 'ND', 'Bathgate': 'ND', 'Concrete': 'WA', 'Dahlen': 'ND', 'Bowesmont': 'ND', 'Gardar': 'ND', 'Emerado': 'ND', 'Finley': 'TN', 'Fordville': 'ND', 'Forest river': 'ND', 'Honeyford': 'ND', 'Glasston': 'ND', 'Nash': 'TX', 'Hannah': 'ND', 'Hensel': 'ND', 'Hoople': 'ND', 'Orr': 'ND', 'Lankin': 'ND', 'Mccanna': 'ND', 'Kloten': 'ND', 'Maida': 'ND', 'Manvel': 'TX', 'Mekinock': 'ND', 'Voss': 'ND', 'Mountain': 'WI', 'Neche': 'ND', 'Niagara': 'WI', 'Osnabrock': 'ND', 'Park river': 'ND', 'Joliette': 'ND', 'Pisek': 'ND', 'Backoo': 'ND', 'Zcta 582hh': 'ND', 'Devils lake': 'ND', 'Balta': 'ND', 'Belcourt': 'ND', 'Bottineau': 'ND', 'Brocket': 'ND', 'Maza': 'ND', 'Churchs ferry': 'ND', 'Southam': 'ND', 'San haven': 'ND', 'Egeland': 'ND', 'Fort totten': 'ND', 'Manfred': 'ND', 'Knox': 'PA', 'Mapes': 'ND', 'Harlow': 'ND', 'Minnewaukan': 'ND', 'Calio': 'ND', 'Mylo': 'ND', 'Brantford': 'ND', 'Oberon': 'ND', 'Orrin': 'ND', 'Penn': 'PA', 'Perth': 'ND', 'Rocklake': 'ND', 'Nanson': 'ND', 'Sarles': 'ND', 'Sheyenne': 'ND', 'Starkweather': 'ND', 'Tokio': 'TX', 'Hamar': 'ND', 'Willow city': 'TX', 'Wolford': 'ND', 'Zcta 583hh': 'ND', 'Binford': 'ND', 'Bordulac': 'ND', 'Emrick': 'ND', 'Chaseley': 'ND', 'Courtenay': 'ND', 'Denhoff': 'ND', 'Dickey': 'ND', 'Merricourt': 'ND', 'Fessenden': 'ND', 'Gackle': 'ND', 'Juanita': 'ND', 'Grace city': 'ND', 'Walum': 'ND', 'Hurdsfield': 'ND', 'Kensal': 'ND', 'Kulm': 'ND', 'Lehr': 'ND', 'Litchville': 'ND', 'Mcclusky': 'ND', 'Mchenry': 'ND', 'Guelph': 'ND', 'Pettibone': 'ND', 'Edmunds': 'ND', 'Regan': 'ND', 'Lake williams': 'ND', 'Leal': 'ND', 'Spiritwood': 'ND', 'Streeter': 'WV', 'Sykeston': 'ND', 'Tappen': 'ND', 'Tuttle': 'OK', 'Venturia': 'ND', 'Wimbledon': 'ND', 'Burnstad': 'ND', 'Zcta 584hh': 'ND', 'Braddock': 'ND', 'Cannon ball': 'ND', 'Fort clark': 'ND', 'Coleharbor': 'ND', 'Driscoll': 'TX', 'Heil': 'ND', 'Lark': 'UT', 'Fort yates': 'ND', 'Kintyre': 'ND', 'Temvik': 'ND', 'Mckenzie': 'ND', 'Mandan': 'ND', 'Menoken': 'ND', 'Moffit': 'ND', 'Hannover': 'ND', 'Selfridge': 'ND', 'Shields': 'ND', 'Breien': 'ND', 'Turtle lake': 'WI', 'Zap': 'ND', 'Zcta 585hh': 'ND', 'New hradec': 'ND', 'Amidon': 'ND', 'Beach': 'ND', 'Fryburg': 'PA', 'Dunn center': 'ND', 'Glen ullin': 'ND', 'Golva': 'ND', 'Grassy butte': 'ND', 'Werner': 'ND', 'Killdeer': 'ND', 'Lefor': 'ND', 'Marmarth': 'ND', 'New england': 'WV', 'Reeder': 'ND', 'Regent': 'ND', 'Rhame': 'ND', 'Richardton': 'ND', 'Gascoyne': 'ND', 'Sentinel butte': 'ND', 'South heart': 'ND', 'Zcta 586xx': 'ND', 'Zcta 58703': 'ND', 'Minot afb': 'ND', 'Anamoose': 'ND', 'Antler': 'ND', 'Balfour': 'ND', 'Bantry': 'ND', 'Blaisdell': 'ND', 'Coteau': 'ND', 'Carpio': 'ND', 'Larson': 'ND', 'Des lacs': 'ND', 'Donnybrook': 'ND', 'Northgate': 'ND', 'Wolseth': 'ND', 'Karlsruhe': 'ND', 'Coulee': 'ND', 'Kief': 'ND', 'Kramer': 'ND', 'Lansford': 'PA', 'Lignite': 'ND', 'Mcgregor': 'ND', 'Makoti': 'ND', 'Mandaree': 'ND', 'Maxbass': 'ND', 'Charlson': 'ND', 'Noonan': 'ND', 'Plaza': 'TN', 'Battleview': 'ND', 'Roseglen': 'ND', 'Ross': 'ND', 'Ruso': 'ND', 'Raub': 'ND', 'Carbury': 'ND', 'Surrey': 'ND', 'Tolley': 'ND', 'Upham': 'ND', 'Velva': 'ND', 'Westhope': 'ND', 'White earth': 'ND', 'Zcta 587hh': 'ND', 'Bonetraill': 'ND', 'Appam': 'ND', 'Rawson': 'OH', 'Arnegard': 'ND', 'Cartwright': 'OK', 'Colgan': 'ND', 'Alkabo': 'ND', 'Wheelock': 'TX', 'Watford city': 'ND', 'Zahl': 'ND', 'Zcta 588hh': 'ND', 'Zcta 588xx': 'ND', 'Amlin': 'OH', 'Blacklick': 'OH', 'Brinkhaven': 'OH', 'Buckeye lake': 'OH', 'Cable': 'WI', 'Centerburg': 'OH', 'Croton': 'OH', 'Fredericktown': 'PA', 'Gambier': 'OH', 'Kirkersville': 'OH', 'Lewis center': 'OH', 'Magnetic springs': 'OH', 'Mechanicsburg': 'OH', 'Milford center': 'OH', 'Millersport': 'OH', 'North lewisburg': 'OH', 'Pataskala': 'OH', 'Plain city': 'OH', 'Shawnee hills': 'OH', 'Radnor': 'WV', 'Reynoldsburg': 'OH', 'Saint louisville': 'OH', 'Saint paris': 'OH', 'Thornville': 'OH', 'Unionville cente': 'OH', 'Zcta 430hh': 'OH', 'Amanda': 'OH', 'Hide a way hills': 'OH', 'Brice': 'OH', 'Canal winchester': 'OH', 'Commercial point': 'OH', 'Galloway': 'WV', 'Groveport': 'OH', 'Laurelville': 'OH', 'Lithopolis': 'OH', 'Lockbourne': 'OH', 'Murray city': 'OH', 'Pickerington': 'OH', 'South bloomingvi': 'OH', 'South solon': 'OH', 'Tarlton': 'OH', 'Union furnace': 'OH', 'Washington court': 'OH', 'Zcta 431hh': 'OH', 'Bexley': 'OH', 'Shepard': 'OH', 'Upper arlington': 'OH', 'Lincoln village': 'OH', 'Gahanna': 'OH', 'West worthington': 'OH', 'Zcta 432hh': 'OH', 'Belle center': 'OH', 'Bellefontaine': 'OH', 'Cardington': 'OH', 'Chesterville': 'OH', 'De graff': 'OH', 'East liberty': 'PA', 'Green camp': 'OH', 'Harpster': 'OH', 'La rue': 'OH', 'Morral': 'OH', 'Mount victory': 'OH', 'New bloomington': 'OH', 'Rushsylvania': 'OH', 'Russells point': 'OH', 'Upper sandusky': 'OH', 'West mansfield': 'OH', 'Zanesfield': 'OH', 'Zcta 433hh': 'OH', 'Bradner': 'OH', 'Burgoon': 'OH', 'Curtice': 'OH', 'Cygnet': 'OH', 'Gibsonburg': 'OH', 'Jerry city': 'OH', 'Kelleys island': 'OH', 'Lacarne': 'OH', 'Lindsey': 'OH', 'Luckey': 'OH', 'Oak harbor': 'WA', 'Pemberville': 'OH', 'Port clinton': 'PA', 'Put in bay': 'OH', 'Risingsun': 'OH', 'Rossford': 'OH', 'Rudolph': 'WI', 'Vickery': 'OH', 'Walbridge': 'OH', 'West millgrove': 'OH', 'Zcta 434hh': 'OH', 'Alvordton': 'OH', 'Archbold': 'OH', 'Berkey': 'OH', 'Bryan': 'TX', 'Custar': 'OH', 'Edon': 'OH', 'Hamler': 'OH', 'Haskins': 'OH', 'Holgate': 'OH', 'Hoytville': 'OH', 'Kunkle': 'OH', 'Malinta': 'OH', 'Mark center': 'OH', 'Maumee': 'OH', 'Milton center': 'OH', 'Monclova': 'OH', 'Neapolis': 'OH', 'New bavaria': 'OH', 'Ney': 'OH', 'Pettisville': 'OH', 'Ridgeville corne': 'OH', 'Tontogany': 'OH', 'Wauseon': 'OH', 'West unity': 'OH', 'Whitehouse': 'TX', 'Zcta 435hh': 'OH', 'Zcta 436hh': 'OH', 'Belle valley': 'OH', 'Blue rock': 'OH', 'Byesville': 'OH', 'Claysville': 'PA', 'Chandlersville': 'OH', 'Chesterhill': 'OH', 'Crooksville': 'OH', 'Duncan falls': 'OH', 'East fultonham': 'OH', 'Gratiot': 'WI', 'Guernsey': 'WY', 'Lore city': 'OH', 'Mc connelsville': 'OH', 'Mount perry': 'OH', 'New lexington': 'OH', 'New straitsville': 'OH', 'Old washington': 'OH', 'Pleasant city': 'OH', 'Quaker city': 'OH', 'Salesville': 'OH', 'Sarahsville': 'OH', 'Senecaville': 'OH', 'White cottage': 'OH', 'Zcta 437hh': 'OH', 'Coshocton': 'OH', 'Adams mills': 'OH', 'Frazeysburg': 'OH', 'Nashport': 'OH', 'Newcomerstown': 'OH', 'Stone creek': 'OH', 'Trinway': 'OH', 'Walhonding': 'OH', 'Zcta 438hh': 'OH', 'Adena': 'OH', 'Alledonia': 'OH', 'Bergholz': 'OH', 'Clarington': 'PA', 'Dillonvale': 'OH', 'Calcutta': 'OH', 'Fairpoint': 'OH', 'Hammondsville': 'OH', 'Armstrong mills': 'OH', 'Martins ferry': 'OH', 'Mingo junction': 'OH', 'Neffs': 'OH', 'Powhatan point': 'OH', 'Rayland': 'OH', 'Salineville': 'OH', 'Shadyside': 'PA', 'Saint clairsvill': 'OH', 'Lafferty': 'OH', 'Wintersville': 'OH', 'Zcta 43953': 'OH', 'Tiltonsville': 'OH', 'Warnock': 'OH', 'Bannock': 'OH', 'Zcta 439hh': 'OH', 'South amherst': 'OH', 'Ashtabula': 'OH', 'Austinburg': 'OH', 'Avon lake': 'OH', 'Burton': 'TX', 'Chagrin falls': 'OH', 'Chardon': 'OH', 'Chesterland': 'OH', 'Columbia station': 'OH', 'Conneaut': 'OH', 'Dorset': 'VT', 'North ridgeville': 'OH', 'Gates mills': 'OH', 'Huntsburg': 'OH', 'Kipton': 'OH', 'Lorain': 'OH', 'Sheffield lake': 'OH', 'North olmsted': 'OH', 'East orwell': 'OH', 'Fairport harbor': 'OH', 'Parkman': 'WY', 'Pierpont': 'SD', 'Roaming shores': 'OH', 'Twinsburg': 'OH', 'Vermilion': 'OH', 'Willoughby': 'OH', 'Willowick': 'OH', 'Zcta 440hh': 'OH', 'East cleveland': 'OH', 'Rocky river': 'OH', 'Cleveland height': 'OH', 'South euclid': 'OH', 'Shore': 'OH', 'Lyndhurst mayfie': 'OH', 'Garfield heights': 'OH', 'Fairview park': 'OH', 'Midpark': 'OH', 'North royalton': 'OH', 'Strongsville': 'OH', 'Maple heights': 'OH', 'Olmsted falls': 'OH', 'Bay village': 'OH', 'Brecksville': 'OH', 'Brookpark': 'OH', 'Broadview height': 'OH', 'Zcta 441hh': 'OH', 'Reminderville': 'OH', 'Chippewa lake': 'OH', 'Cuyahoga falls': 'OH', 'Doylestown': 'WI', 'Garrettsville': 'OH', 'Homerville': 'OH', 'Streetsboro': 'OH', 'Lakemore': 'OH', 'Westfield center': 'OH', 'Mogadore': 'OH', 'Munroe falls': 'OH', 'Peninsula': 'OH', 'Rittman': 'OH', 'Rootstown': 'OH', 'Tallmadge': 'OH', 'Zcta 442hh': 'OH', 'Copley': 'OH', 'Fairlawn': 'VA', 'Zcta 443hh': 'OH', 'Berlin center': 'OH', 'Bristolville': 'OH', 'Burghill': 'OH', 'Canfield': 'OH', 'East palestine': 'OH', 'Farmdale': 'OH', 'Hanoverton': 'OH', 'Lake milton': 'OH', 'Leavittsburg': 'OH', 'Leetonia': 'OH', 'Lowellville': 'OH', 'Masury': 'OH', 'Mineral ridge': 'OH', 'Negley': 'OH', 'New springfield': 'OH', 'Newton falls': 'OH', 'New waterford': 'OH', 'North benton': 'OH', 'North bloomfield': 'OH', 'North jackson': 'OH', 'North lima': 'OH', 'Struthers': 'OH', 'West farmington': 'OH', 'Zcta 444hh': 'OH', 'Boardman': 'OR', 'Austintown': 'OH', 'Zcta 445hh': 'OH', 'Apple creek': 'OH', 'Beach city': 'OH', 'Beloit': 'OH', 'Big prairie': 'OH', 'Canal fulton': 'OH', 'Dellroy': 'OH', 'East sparta': 'OH', 'Gnadenhutten': 'OH', 'Homeworth': 'OH', 'Killbuck': 'OH', 'Limaville': 'OH', 'Massillon': 'OH', 'Mechanicstown': 'OH', 'Zoarville': 'OH', 'Mount eaton': 'OH', 'New philadelphia': 'OH', 'Sandyville': 'WV', 'Sherrodsville': 'OH', 'Shreve': 'OH', 'Sugarcreek': 'OH', 'Tuscarawas': 'OH', 'Uhrichsville': 'OH', 'Winesburg': 'OH', 'Deersville': 'OH', 'Bowerston': 'OH', 'Zoar': 'OH', 'Zcta 446hh': 'OH', 'North industry': 'OH', 'Jackson belden': 'OH', 'East canton': 'OH', 'Alvada': 'OH', 'Carrothers': 'OH', 'Berlin heights': 'OH', 'Bettsville': 'OH', 'Bloomdale': 'OH', 'Galion': 'OH', 'Green springs': 'OH', 'Shinrock': 'OH', 'Jeromesville': 'OH', 'Mc cutchenville': 'OH', 'New riegel': 'OH', 'North fairfield': 'OH', 'North robinson': 'OH', 'Nova': 'OH', 'Oceola': 'OH', 'Tiro': 'OH', 'Wakeman': 'OH', 'Zcta 448hh': 'OH', 'Zcta 449hh': 'OH', 'Addyston': 'OH', 'Cleves': 'OH', 'College corner': 'OH', 'Lindenwald': 'OH', 'Harveysburg': 'OH', 'Hooven': 'OH', 'Kings island': 'OH', 'Otterbien home': 'OH', 'Maineville': 'OH', 'Miamitown': 'OH', 'Okeana': 'OH', 'Oregonia': 'OH', 'Miami university': 'OH', 'Seven mile': 'OH', 'South lebanon': 'OH', 'Springboro': 'PA', 'West elkton': 'OH', 'Zcta 450hh': 'OH', 'Blanchester': 'OH', 'Camp dennison': 'OH', 'Chilo': 'OH', 'Hamersville': 'OH', 'Higginsport': 'OH', 'Day heights': 'OH', 'Mount orab': 'OH', 'Mowrystown': 'OH', 'Neville': 'OH', 'Pleasant plain': 'OH', 'Port william': 'OH', 'Sabina': 'OH', 'Sinking spring': 'PA', 'Terrace park': 'OH', 'Zcta 451hh': 'OH', 'Lockland': 'OH', 'Elmwood place': 'OH', 'Greenhills': 'OH', 'College hill': 'OH', 'Saylor park': 'OH', 'Western hills': 'OH', 'Groesbeck': 'TX', 'Sharonville': 'OH', 'Madeira': 'OH', 'Zcta 452hh': 'OH', 'Bellbrook': 'OH', 'Botkins': 'OH', 'Burkettsville': 'OH', 'Casstown': 'OH', 'Enon': 'OH', 'Fairborn': 'OH', 'Gettysburg': 'SD', 'Gratis': 'OH', 'Hollansburg': 'OH', 'Jackson center': 'PA', 'Kettlersville': 'OH', 'Ludlow falls': 'OH', 'Miamisburg': 'OH', 'New madison': 'OH', 'New weston': 'OH', 'Pitsburg': 'OH', 'Rossburg': 'OH', 'Russia': 'OH', 'South vienna': 'OH', 'Phoneton': 'OH', 'West alexandria': 'OH', 'West manchester': 'OH', 'West milton': 'PA', 'Wilberforce': 'OH', 'Yellow springs': 'OH', 'Yorkshire': 'OH', 'Christiansburg': 'VA', 'Zcta 453hh': 'OH', 'Trotwood': 'OH', 'Kettering': 'OH', 'Huber heights': 'OH', 'Beavercreek': 'OR', 'West carrollton': 'OH', 'Zcta 454hh': 'OH', 'Zcta 455hh': 'OH', 'Bidwell': 'OH', 'Blue creek': 'OH', 'Chesapeake': 'VA', 'Coalton': 'WV', 'Crown city': 'OH', 'Franklin furnace': 'OH', 'Gallipolis': 'OH', 'Kitts hill': 'OH', 'Lucasville': 'OH', 'Lynx': 'OH', 'Mc dermott': 'OH', 'Minford': 'OH', 'Otway': 'OH', 'Pedro': 'OH', 'Peebles': 'OH', 'Idaho': 'OH', 'Proctorville': 'OH', 'Rarden': 'OH', 'Richmond dale': 'OH', 'Scottown': 'OH', 'Seaman': 'OH', 'South point': 'OH', 'South webster': 'OH', 'Wheelersburg': 'OH', 'Wilkesville': 'OH', 'Willow wood': 'OH', 'Zaleski': 'OH', 'Zcta 456hh': 'OH', 'Zcta 456xx': 'OH', 'Amesville': 'OH', 'Buchtel': 'OH', 'Coolville': 'OH', 'Dexter city': 'OH', 'Glouster': 'OH', 'Rinard mills': 'OH', 'Guysville': 'OH', 'Little hocking': 'OH', 'Long bottom': 'OH', 'Millfield': 'OH', 'Nelsonville': 'OH', 'New marshfield': 'OH', 'New matamoras': 'OH', 'Reedsville': 'WI', 'Shade': 'OH', 'The plains': 'OH', 'Whipple': 'OH', 'Wingett run': 'OH', 'Zcta 457hh': 'OH', 'Cridersville': 'OH', 'Beaverdam': 'VA', 'Gomer': 'OH', 'Benton ridge': 'OH', 'Carthagena': 'OH', 'Columbus grove': 'OH', 'Continental': 'OH', 'Convoy': 'OH', 'Dola': 'OH', 'Findlay': 'OH', 'Jenera': 'OH', 'Fort jennings': 'OH', 'Fort loramie': 'OH', 'Fort recovery': 'OH', 'Grover hill': 'OH', 'Harrod': 'OH', 'Kalida': 'OH', 'Latty': 'OH', 'Leipsic': 'OH', 'Mc guffey': 'OH', 'Maria stein': 'OH', 'Middle point': 'OH', 'Minster': 'OH', 'Mount blanchard': 'OH', 'Mount cory': 'OH', 'New bremen': 'OH', 'New hampshire': 'OH', 'New knoxville': 'OH', 'North baltimore': 'OH', 'Ohio city': 'OH', 'Ottoville': 'OH', 'Pandora': 'TX', 'Payne': 'OH', 'Saint henry': 'OH', 'Uniopolis': 'OH', 'Vanlue': 'OH', 'Venedocia': 'OH', 'Wapakoneta': 'OH', 'Waynesfield': 'OH', 'Willshire': 'OH', 'Wren': 'OH', 'Zcta 458hh': 'OH', 'Alex': 'OK', 'Edmond': 'WV', 'Amber': 'OK', 'Anadarko': 'OK', 'Apache': 'OK', 'Binger': 'OK', 'Carnegie': 'PA', 'Cement': 'OK', 'Chickasha': 'OK', 'Choctaw': 'OK', 'Corn': 'OK', 'Okla univ studen': 'OK', 'Coyle': 'OK', 'Cyril': 'OK', 'Dibble': 'OK', 'Eakly': 'OK', 'El reno': 'OK', 'Fort cobb': 'OK', 'Geary': 'OK', 'Gotebo': 'OK', 'Gracemont': 'OK', 'Guthrie': 'TX', 'Harrah': 'WA', 'Hydro': 'OK', 'Lookeba': 'OK', 'Minco': 'OK', 'Mulhall': 'OK', 'Mustang': 'OK', 'Nicoma park': 'OK', 'Ninnekah': 'OK', 'Pauls valley': 'OK', 'Rush springs': 'OK', 'Verden': 'OK', 'Weatherford': 'TX', 'Wynnewood': 'PA', 'Zcta 730hh': 'OK', 'Zcta 730xx': 'OK', 'Oklahoma city': 'OK', 'Midwest city': 'OK', 'Del city': 'OK', 'Nichols hills': 'OK', 'Warr acres': 'OK', 'Tinker afb': 'OK', 'Zcta 731hh': 'OK', 'Zcta 73425': 'OK', 'Burneyville': 'OK', 'Zcta 73433': 'OK', 'Zcta 73434': 'OK', 'Healdton': 'OK', 'Loco': 'OK', 'Lone grove': 'OK', 'Zcta 73444': 'OK', 'Ravia': 'OK', 'Thackerville': 'OK', 'Wapanucka': 'OK', 'Rubottom': 'OK', 'Zcta 73481': 'OK', 'Zcta 73487': 'OK', 'Zcta 73488': 'OK', 'Zcta 73491': 'OK', 'Zcta 734hh': 'OK', 'Fort sill': 'OK', 'Addington': 'OK', 'Cache': 'OK', 'Chattanooga': 'TN', 'Comanche': 'TX', 'Davidson': 'OK', 'Devol': 'OK', 'Faxon': 'OK', 'Geronimo': 'OK', 'Grandfield': 'OK', 'Headrick': 'OK', 'Indiahoma': 'OK', 'Medicine park': 'OK', 'Mountain park': 'OK', 'Randlett': 'UT', 'Vinson': 'OK', 'Walters': 'OK', 'Waurika': 'OK', 'Zcta 735hh': 'OK', 'Zcta 735xx': 'OK', 'Arapaho': 'OK', 'Bessie': 'OK', 'Burns flat': 'OK', 'Canute': 'OK', 'Cordell': 'OK', 'Custer city': 'PA', 'Dill city': 'OK', 'Erick': 'OK', 'Fay': 'OK', 'Foss': 'OK', 'Hammon': 'OK', 'Leedey': 'OK', 'Lone wolf': 'OK', 'Eagle city': 'OK', 'Reydon': 'OK', 'Rocky': 'OK', 'Seiling': 'OK', 'Sentinel': 'OK', 'Sweetwater': 'TX', 'Taloga': 'OK', 'Texola': 'OK', 'Thomas': 'WV', 'Zcta 736hh': 'OK', 'Zcta 736xx': 'OK', 'Aline': 'OK', 'Amorita': 'OK', 'Carrier': 'OK', 'Cleo springs': 'OK', 'Dacoma': 'OK', 'Orienta': 'OK', 'Goltry': 'OK', 'Hennessey': 'OK', 'Hitchcock': 'TX', 'Hopeton': 'OK', 'Jet': 'OK', 'Kingfisher': 'OK', 'Lahoma': 'OK', 'Longdale': 'OK', 'Loyal': 'WI', 'Lucien': 'OK', 'Meno': 'OK', 'Okarche': 'OK', 'Okeene': 'OK', 'Pond creek': 'OK', 'Wakita': 'OK', 'Watonga': 'OK', 'Waukomis': 'OK', 'Zcta 737hh': 'OK', 'Selman': 'OK', 'Fort supply': 'OK', 'Gage': 'OK', 'Gate': 'OK', 'Knowles': 'WI', 'Laverne': 'OK', 'May': 'TX', 'Mutual': 'OK', 'Shattuck': 'OK', 'Vici': 'OK', 'Waynoka': 'OK', 'Zcta 738hh': 'OK', 'Zcta 738xx': 'OK', 'Balko': 'OK', 'Boise city': 'OK', 'Forgan': 'OK', 'Goodwell': 'OK', 'Guymon': 'OK', 'Hardesty': 'OK', 'Optima': 'OK', 'Texhoma': 'OK', 'Zcta 739hh': 'OK', 'Zcta 739xx': 'OK', 'Avant': 'OK', 'Barnsdall': 'OK', 'Bartlesville': 'OK', 'Broken arrow': 'OK', 'Catoosa': 'OK', 'Claremore': 'OK', 'Copan': 'OK', 'Drumright': 'OK', 'Glenpool': 'OK', 'Hallett': 'OK', 'Hominy': 'OK', 'Inola': 'OK', 'Jenks': 'OK', 'Kellyville': 'OK', 'Kiefer': 'OK', 'Lenapah': 'OK', 'Mannford': 'OK', 'Maramec': 'OK', 'Nowata': 'OK', 'Ochelata': 'OK', 'Oilton': 'TX', 'Oologah': 'OK', 'Owasso': 'OK', 'Pawhuska': 'OK', 'Pawnee': 'TX', 'Prue': 'OK', 'Sapulpa': 'OK', 'Shamrock': 'OK', 'Skiatook': 'OK', 'Slick': 'OK', 'S coffeyville': 'OK', 'Talala': 'OK', 'Terlton': 'OK', 'Wann': 'OK', 'Wynona': 'OK', 'Zcta 740hh': 'OK', 'Tulsa': 'OK', 'Vinita': 'OK', 'Big cabin': 'OK', 'Bluejacket': 'OK', 'Cardin': 'OK', 'Chouteau': 'OK', 'Colcord': 'WV', 'Disney': 'OK', 'Eucha': 'OK', 'Grove': 'OK', 'Ketchum': 'OK', 'Picher': 'OK', 'Quapaw': 'OK', 'Leach': 'OK', 'Salina': 'UT', 'Spavinaw': 'OK', 'Twin oaks': 'OK', 'Wyandotte': 'OK', 'Zcta 743hh': 'OK', 'Muskogee': 'OK', 'Beggs': 'OK', 'Boynton': 'PA', 'Braggs': 'OK', 'Canadian': 'OK', 'Checotah': 'OK', 'Cookson': 'OK', 'Council hill': 'OK', 'Coweta': 'OK', 'Fort gibson': 'OK', 'Gore': 'VA', 'Hitchita': 'OK', 'Moodys': 'OK', 'Okay': 'OK', 'Okmulgee': 'OK', 'Oktaha': 'OK', 'Park hill': 'OK', 'Peggs': 'OK', 'Porum': 'OK', 'Rentiesville': 'OK', 'Schulter': 'OK', 'Stidham': 'OK', 'Stigler': 'OK', 'Tahlequah': 'OK', 'Wagoner': 'OK', 'Webbers falls': 'OK', 'Welling': 'OK', 'Zcta 744hh': 'OK', 'Zcta 744xx': 'OK', 'Mcalester': 'OK', 'Alderson': 'OK', 'Antlers': 'OK', 'Atoka': 'TN', 'Bromide': 'OK', 'Centrahoma': 'OK', 'Clarita': 'OK', 'Coalgate': 'OK', 'Haileyville': 'OK', 'Hartshorne': 'OK', 'Honobia': 'OK', 'Kinta': 'OK', 'Krebs': 'OK', 'Moyers': 'OK', 'Nashoba': 'OK', 'Rattan': 'OK', 'Snow': 'OK', 'Stringtown': 'OK', 'Talihina': 'OK', 'Tuskahoma': 'OK', 'Wardville': 'OK', 'Wilburton': 'PA', 'Zcta 745hh': 'OK', 'Zcta 745xx': 'OK', 'Ponca city': 'OK', 'Braman': 'OK', 'Kaw city': 'OK', 'Marland': 'OK', 'Nardin': 'OK', 'Peckham': 'OK', 'Tonkawa': 'OK', 'Zcta 746hh': 'OK', 'Achille': 'OK', 'Battiest': 'OK', 'Bokchito': 'OK', 'Caddo': 'TX', 'Eagletown': 'OK', 'Fort towson': 'OK', 'Tom': 'OK', 'Hendrix': 'OK', 'Idabel': 'OK', 'Kemp': 'OK', 'Kenefic': 'OK', 'Platter': 'OK', 'Ringold': 'OK', 'Rufe': 'OK', 'Soper': 'OK', 'Valliant': 'OK', 'Zcta 747hh': 'OK', 'Zcta 747xx': 'OK', 'Zcta 74804': 'OK', 'Boley': 'OK', 'Bowlegs': 'OK', 'Byars': 'OK', 'Castle': 'OK', 'Connerville': 'OK', 'Dustin': 'OK', 'Earlsboro': 'OK', 'Fittstown': 'OK', 'Fitzhugh': 'OK', 'Francis': 'OK', 'Holdenville': 'OK', 'Konawa': 'OK', 'Mc loud': 'OK', 'Newalla': 'OK', 'Paden': 'OK', 'Roff': 'OK', 'Sasakwa': 'OK', 'Harden city': 'OK', 'Wanette': 'OK', 'Weleetka': 'OK', 'Wetumka': 'OK', 'New lima': 'OK', 'Zcta 748hh': 'OK', 'Arkoma': 'OK', 'Pocola': 'OK', 'Bokoshe': 'OK', 'Bunch': 'OK', 'Fanshawe': 'OK', 'Gans': 'OK', 'Heavener': 'OK', 'Hodgen': 'OK', 'Leflore': 'OK', 'Lequire': 'OK', 'Mccurtain': 'OK', 'Marble city': 'OK', 'Moffett': 'OK', 'Muldrow': 'OK', 'Muse': 'PA', 'Poteau': 'OK', 'Sallisaw': 'OK', 'Shady point': 'OK', 'Octavia': 'OK', 'Spiro': 'OK', 'Vian': 'OK', 'Watts': 'OK', 'Wister': 'OK', 'Zcta 749hh': 'OK', 'Aloha': 'OR', 'Zcta 97008': 'OR', 'Boring': 'OR', 'Brightwood': 'VA', 'Bonneville': 'OR', 'Clackamas': 'OR', 'Corbett': 'OR', 'Donald': 'OR', 'Estacada': 'OR', 'Gervais': 'OR', 'Timberline lodge': 'OR', 'Hood river': 'OR', 'Lake oswego': 'OR', 'Maupin': 'OR', 'Molalla': 'OR', 'Mosier': 'OR', 'Mount hood parkd': 'OR', 'Mulino': 'OR', 'Oregon city': 'OR', 'Rainier': 'WA', 'Zigzag': 'OR', 'Rufus': 'OR', 'Saint helens': 'OR', 'Deer island': 'OR', 'Sandy': 'UT', 'Scappoose': 'OR', 'The dalles': 'OR', 'Troutdale': 'OR', 'Tualatin': 'OR', 'Wamic': 'OR', 'Vernonia': 'OR', 'Wasco': 'OR', 'Welches': 'OR', 'West linn': 'OR', 'Zcta 970hh': 'OR', 'Zcta 970xx': 'OR', 'Arch cape': 'OR', 'Cannon beach': 'OR', 'Gales creek': 'OR', 'Garibaldi': 'OR', 'Hebo': 'OR', 'Mcminnville': 'OR', 'Manzanita': 'OR', 'Nehalem': 'OR', 'Newberg': 'OR', 'North plains': 'OR', 'Pacific city': 'OR', 'Gearhart': 'OR', 'Tillamook': 'OR', 'Netarts': 'OR', 'Timber': 'OR', 'Tolovana park': 'OR', 'Yamhill': 'OR', 'Neskowin': 'OR', 'Zcta 971hh': 'OR', 'Zcta 971xx': 'OR', 'Milwaukie': 'OR', 'Garden home': 'OR', 'Tigard': 'OR', 'Cedar hills': 'OR', 'Rockwood corners': 'OR', 'Zcta 972hh': 'OR', 'Keizer': 'OR', 'Alsea': 'OR', 'West stayton': 'OR', 'Cascadia': 'OR', 'Depoe bay': 'OR', 'Grand ronde': 'OR', 'Idanha': 'OR', 'Logsden': 'OR', 'Mill city': 'OR', 'Mount angel': 'OR', 'Neotsu': 'OR', 'South beach': 'OR', 'Rickreall': 'OR', 'Scotts mills': 'OR', 'Seal rock': 'OR', 'Shedd': 'OR', 'Siletz': 'OR', 'Stayton': 'OR', 'Sublimity': 'OR', 'Sweet home': 'OR', 'Tangent': 'OR', 'Tidewater': 'OR', 'Waldport': 'OR', 'Willamina': 'OR', 'Zcta 973hh': 'OR', 'Zcta 973xx': 'OR', 'Coburg': 'OR', 'Agness': 'OR', 'Zcta 97408': 'OR', 'Azalea': 'OR', 'Bandon': 'OR', 'Blachly': 'OR', 'Mc kenzie bridge': 'OR', 'Broadbent': 'OR', 'Harbor': 'OR', 'Camas valley': 'OR', 'Canyonville': 'OR', 'Coquille': 'OR', 'Cascade summit': 'OR', 'Culp creek': 'OR', 'Curtin': 'OR', 'Days creek': 'OR', 'Dorena': 'OR', 'Drain': 'OR', 'Fall creek': 'WI', 'Glide': 'OR', 'Pistol river': 'OR', 'Idleyld park': 'OR', 'Langlois': 'OR', 'Lorane': 'OR', 'Marcola': 'OR', 'Myrtle creek': 'OR', 'Myrtle point': 'OR', 'Noti': 'OR', 'Oakridge': 'OR', 'Port orford': 'OR', 'Winchester bay': 'OR', 'Riddle': 'OR', 'Roseburg': 'OR', 'Sixes': 'OR', 'Sutherlin': 'VA', 'Swisshome': 'OR', 'Tenmile': 'OR', 'Tiller': 'OR', 'Umpqua': 'OR', 'Veneta': 'OR', 'Leaburg': 'OR', 'Westfir': 'OR', 'Sunny valley': 'OR', 'Yachats': 'OR', 'Yoncalla': 'OR', 'Zcta 974hh': 'OR', 'Zcta 974xx': 'OR', 'West main': 'OR', 'Central point': 'OR', 'Butte falls': 'OR', 'Cave junction': 'OR', 'Eagle point': 'OR', 'Grants pass': 'OR', 'Kerby': 'OR', 'Merlin': 'OR', 'Rogue river': 'OR', 'Shady cove': 'OR', 'Talent': 'OR', 'Wilderville': 'OR', 'Zcta 975hh': 'OR', 'Zcta 975xx': 'OR', 'Oretech': 'OR', 'Klamath falls': 'OR', 'Crater lake': 'OR', 'Bly': 'OR', 'Bonanza': 'TX', 'Chiloquin': 'OR', 'Dairy': 'OR', 'Fort klamath': 'OR', 'Keno': 'OR', 'Malin': 'OR', 'New pine creek': 'OR', 'Plush': 'OR', 'Sprague river': 'OR', 'Summer lake': 'OR', 'Christmas valley': 'OR', 'Zcta 976hh': 'OR', 'Zcta 976xx': 'OR', 'Bend': 'TX', 'Sunriver': 'OR', 'Ashwood': 'OR', 'Brothers': 'OR', 'Camp sherman': 'OR', 'Diamond lake': 'OR', 'Fort rock': 'OR', 'Frenchglen': 'OR', 'Gilchrist': 'TX', 'La pine': 'OR', 'Madras': 'OR', 'Post': 'TX', 'Powell butte': 'OR', 'Prineville': 'OR', 'Redmond': 'WA', 'Black butte ranc': 'OR', 'Crooked river ra': 'OR', 'Zcta 977hh': 'OR', 'Zcta 977xx': 'OR', 'Athena': 'OR', 'Medical springs': 'OR', 'Canyon city': 'OR', 'Kinzua': 'OR', 'Halfway': 'OR', 'Helix': 'OR', 'Heppner': 'OR', 'Hermiston': 'OR', 'Imbler': 'OR', 'Imnaha': 'OR', 'Irrigon': 'OR', 'John day': 'OR', 'Joseph': 'UT', 'La grande': 'OR', 'Long creek': 'SC', 'Lostine': 'OR', 'Meacham': 'OR', 'Milton freewater': 'OR', 'North powder': 'OR', 'Pilot rock': 'OR', 'Ritter': 'SC', 'Spray': 'OR', 'Sumpter': 'OR', 'Mcnary': 'OR', 'Wallowa': 'OR', 'Zcta 978hh': 'OR', 'Zcta 978xx': 'OR', 'Brogan': 'OR', 'Drewsey': 'OR', 'Durkee': 'OR', 'Ironside': 'OR', 'Jamieson': 'OR', 'Jordan valley': 'OR', 'Juntura': 'OR', 'Nyssa': 'OR', 'Zcta 979hh': 'OR', 'Zcta 979xx': 'OR', 'Macarthur': 'PA', 'Fairoaks': 'PA', 'Atlasburg': 'PA', 'Baden': 'PA', 'Bairdford': 'PA', 'Bakerstown': 'PA', 'Rostraver': 'PA', 'Brackenridge': 'PA', 'Bradfordwoods': 'PA', 'Bulger': 'PA', 'Bunola': 'PA', 'Charleroi': 'PA', 'Cheswick': 'PA', 'Large': 'PA', 'Coulters': 'PA', 'Cuddy': 'PA', 'Donora': 'PA', 'Dravosburg': 'PA', 'East mc keesport': 'PA', 'Elrama': 'PA', 'Gibsonia': 'PA', 'Glassport': 'PA', 'Glenwillard': 'PA', 'Harwick': 'PA', 'Hookstown': 'PA', 'Joffre': 'PA', 'Langeloth': 'PA', 'Leetsdale': 'PA', 'Monaca': 'PA', 'Monessen': 'PA', 'Monongahela': 'PA', 'Natrona': 'PA', 'New eagle': 'PA', 'Noblestown': 'PA', 'Pricedale': 'PA', 'Rural ridge': 'PA', 'Russellton': 'PA', 'Slovan': 'PA', 'South heights': 'PA', 'Sutersville': 'PA', 'Tarentum': 'PA', 'Level green': 'PA', 'Warrendale': 'PA', 'West elizabeth': 'PA', 'West newton': 'PA', 'Wexford': 'PA', 'Zcta 150hh': 'PA', 'Allison park': 'PA', 'Bethel park': 'PA', 'Moon twp': 'PA', 'Duquesne': 'PA', 'East pittsburgh': 'PA', 'Glenshaw': 'PA', 'Munhall': 'PA', 'W mifflin fin': 'PA', 'Library': 'PA', 'Mc keesport': 'PA', 'Mc kees rocks': 'PA', 'North versailles': 'PA', 'Oakmont': 'PA', 'Pitcairn': 'PA', 'Presto': 'PA', 'Sewickley': 'PA', 'Turtle creek': 'PA', 'Zcta 151hh': 'PA', 'Arsenal': 'PA', 'Corliss': 'PA', 'Crafton': 'PA', 'Millvale': 'PA', 'Mount oliver': 'PA', 'Allegheny': 'PA', 'Observatory': 'PA', 'Aspinwall': 'PA', 'South hills': 'PA', 'Squirrel hill': 'PA', 'Swissvale': 'PA', 'Uptown': 'PA', 'Parkway center': 'PA', 'Wilkinsburg': 'PA', 'Downtown': 'PA', 'Neville island': 'PA', 'Mount lebanon': 'PA', 'West view': 'PA', 'Kilbuck': 'PA', 'Castle shannon': 'PA', 'Penn hills': 'PA', 'Caste village': 'PA', 'Mc knight': 'PA', 'Blawnox': 'PA', 'Plum': 'PA', 'Upper saint clai': 'PA', 'Zcta 152hh': 'PA', 'Aleppo': 'PA', 'Avella': 'PA', 'Bentleyville': 'PA', 'Bobtown': 'PA', 'Brave': 'PA', 'Mc murray': 'PA', 'Carmichaels': 'PA', 'Cokeburg': 'PA', 'Crucible': 'PA', 'Dilliner': 'PA', 'Prosperity': 'WV', 'Eighty four': 'PA', 'Finleyville': 'PA', 'Garards fort': 'PA', 'Mather': 'PA', 'Meadow lands': 'PA', 'Millsboro': 'PA', 'Davistown': 'PA', 'Nemacolin': 'PA', 'New freeport': 'PA', 'Rices landing': 'PA', 'Richeyville': 'PA', 'Scenery hill': 'PA', 'Southview': 'PA', 'Spraggs': 'PA', 'Strabane': 'PA', 'Venetia': 'PA', 'West alexander': 'PA', 'West finley': 'PA', 'West middletown': 'PA', 'Wind ridge': 'PA', 'Zcta 153hh': 'PA', 'Adah': 'PA', 'Allenport': 'PA', 'West brownsville': 'PA', 'Cardale': 'PA', 'Coal center': 'PA', 'Listonburg': 'PA', 'South connellsvi': 'PA', 'Daisytown': 'PA', 'Denbo': 'PA', 'Dickerson run': 'PA', 'Dunlevy': 'PA', 'East millsboro': 'PA', 'Elco': 'PA', 'Fairchance': 'PA', 'Fayette city': 'PA', 'Gibbon glade': 'PA', 'Grindstone': 'PA', 'Hibbs': 'PA', 'Hiller': 'PA', 'Hopwood': 'PA', 'Indian head': 'PA', 'Jacobs creek': 'PA', 'Lake lynn': 'PA', 'Leckrone': 'PA', 'Leisenring': 'PA', 'Lemont furnace': 'PA', 'Markleysburg': 'PA', 'Grays landing': 'PA', 'Melcroft': 'PA', 'Mill run': 'PA', 'Normalville': 'PA', 'Ohiopyle': 'PA', 'Oliver': 'PA', 'Point marion': 'PA', 'Ronco': 'PA', 'Smock': 'PA', 'Star junction': 'PA', 'Stockdale': 'TX', 'Uledi': 'PA', 'Ursina': 'PA', 'West leisenring': 'PA', 'Wickhaven': 'PA', 'Zcta 154hh': 'PA', 'Acosta': 'PA', 'Alum bank': 'PA', 'Breezewood': 'PA', 'Buffalo mills': 'PA', 'Clearville': 'PA', 'Crystal spring': 'PA', 'Fishertown': 'PA', 'Fort hill': 'PA', 'Friedens': 'PA', 'Hyndman': 'PA', 'Jenners': 'PA', 'Jennerstown': 'PA', 'Manns choice': 'PA', 'Markleton': 'PA', 'Meyersdale': 'PA', 'New baltimore': 'PA', 'Schellsburg': 'PA', 'Shanksville': 'PA', 'Springs': 'PA', 'Stoystown': 'PA', 'Zcta 155hh': 'PA', 'Adamsburg': 'PA', 'Alverton': 'PA', 'Apollo': 'PA', 'Ardara': 'PA', 'Arona': 'PA', 'Avonmore': 'PA', 'Bradenville': 'PA', 'Claridge': 'PA', 'Crabtree': 'PA', 'Darragh': 'PA', 'Donegal': 'PA', 'East vandergrift': 'PA', 'Everson': 'WA', 'Export': 'PA', 'Forbes road': 'PA', 'Grapeville': 'PA', 'Hannastown': 'PA', 'Harrison city': 'PA', 'Herminie': 'PA', 'Hunker': 'PA', 'North huntingdon': 'PA', 'Jeannette': 'PA', 'Larimer': 'PA', 'Latrobe': 'PA', 'Laughlintown': 'PA', 'Leechburg': 'PA', 'Wilpen': 'PA', 'Lowber': 'PA', 'Loyalhanna': 'PA', 'Luxor': 'PA', 'Murrysville': 'PA', 'New alexandria': 'PA', 'New derry': 'PA', 'New stanton': 'PA', 'North apollo': 'PA', 'Norvelt': 'PA', 'Pleasant unity': 'PA', 'Rillton': 'PA', 'Ruffs dale': 'PA', 'Saltsburg': 'PA', 'Slickville': 'PA', 'Southwest': 'PA', 'Spring church': 'PA', 'Stahlstown': 'PA', 'Tarrs': 'PA', 'United': 'PA', 'Westmoreland cit': 'PA', 'Wyano': 'PA', 'Youngwood': 'PA', 'Zcta 156hh': 'PA', 'Indiana': 'PA', 'Alverda': 'PA', 'Aultman': 'PA', 'Barnesboro': 'PA', 'Big run': 'PA', 'Black lick': 'PA', 'Carrolltown': 'PA', 'Chambersville': 'PA', 'Cherry tree': 'PA', 'Commodore': 'PA', 'Coolspring': 'PA', 'Creekside': 'PA', 'Dixonville': 'PA', 'Elderton': 'PA', 'Ernest': 'PA', 'Glen campbell': 'PA', 'Heilwood': 'PA', 'Graceton': 'PA', 'La jose': 'PA', 'Lucernemines': 'PA', 'Mc gees mills': 'PA', 'Marion center': 'PA', 'Marsteller': 'PA', 'Mentcle': 'PA', 'Nicktown': 'PA', 'Northpoint': 'PA', 'Oliveburg': 'PA', 'Penn run': 'PA', 'Punxsutawney': 'PA', 'Rochester mills': 'PA', 'Rossiter': 'PA', 'Saint benedict': 'PA', 'Shelocta': 'PA', 'Spangler': 'PA', 'Sprankle mills': 'PA', 'Starford': 'PA', 'Timblin': 'PA', 'Walston': 'PA', 'Zcta 157hh': 'PA', 'Benezett': 'PA', 'Byrnedale': 'PA', 'Corsica': 'SD', 'Driftwood': 'TX', 'Emporium': 'PA', 'Falls creek': 'PA', 'Force': 'PA', 'Knox dale': 'PA', 'Luthersburg': 'PA', 'Reynoldsville': 'WV', 'Portland mills': 'PA', 'Sinnamahoning': 'PA', 'Stump creek': 'PA', 'Sykesville': 'PA', 'Troutville': 'VA', 'Weedville': 'PA', 'Zcta 158hh': 'PA', 'Zcta 158xx': 'PA', 'Armagh': 'PA', 'Cairnbrook': 'PA', 'Cassandra': 'PA', 'Colver': 'PA', 'Davidsville': 'PA', 'Dilltown': 'PA', 'Dunlo': 'PA', 'Ebensburg': 'PA', 'Hollsopple': 'PA', 'Hooversville': 'PA', 'Nanty glo': 'PA', 'Puritan': 'PA', 'Revloc': 'PA', 'Sidman': 'PA', 'Strongstown': 'PA', 'Summerhill': 'PA', 'Vintondale': 'PA', 'Windber': 'PA', 'Zcta 159hh': 'PA', 'Bon aire': 'PA', 'Zcta 16002': 'PA', 'Boyers': 'PA', 'Bruin': 'PA', 'Marwood': 'PA', 'Callery': 'PA', 'Chicora': 'PA', 'Connoquenessing': 'PA', 'East brady': 'PA', 'East butler': 'PA', 'Evans city': 'PA', 'Fenelton': 'PA', 'Foxburg': 'PA', 'Hilliards': 'PA', 'Karns city': 'PA', 'Lyndora': 'PA', 'Mars': 'PA', 'Portersville': 'PA', 'Renfrew': 'PA', 'Sarver': 'PA', 'Saxonburg': 'PA', 'Slippery rock': 'PA', 'West sunbury': 'PA', 'Zelienople': 'PA', 'Zcta 160hh': 'PA', 'Neshannock': 'PA', 'Clarks mills': 'PA', 'Ellport': 'PA', 'Enon valley': 'PA', 'Fombell': 'PA', 'Shenango': 'PA', 'Hartstown': 'PA', 'Hillsville': 'VA', 'Westford': 'VT', 'Koppel': 'PA', 'New galilee': 'PA', 'New wilmington': 'PA', 'Sandy lake': 'PA', 'Sheakleyville': 'PA', 'Stoneboro': 'PA', 'Transfer': 'PA', 'Villa maria': 'PA', 'Volant': 'PA', 'Wampum': 'PA', 'West middlesex': 'PA', 'West pittsburg': 'PA', 'Zcta 161hh': 'PA', 'Kittanning': 'PA', 'Cadogan': 'PA', 'Callensburg': 'PA', 'Cooksburg': 'PA', 'Cowansville': 'PA', 'Distant': 'PA', 'Fairmount city': 'PA', 'Ford city': 'PA', 'Ford cliff': 'PA', 'Hawthorn': 'PA', 'Leeper': 'PA', 'Lucinda': 'PA', 'Mc grann': 'PA', 'Marienville': 'PA', 'Mayport': 'PA', 'New bethlehem': 'PA', 'Nu mine': 'PA', 'Plumville': 'PA', 'Huey': 'PA', 'Rural valley': 'PA', 'Sagamore': 'PA', 'Shippenville': 'PA', 'Sligo': 'PA', 'Smicksburg': 'PA', 'Strattanville': 'PA', 'Vowinckel': 'PA', 'Craigsville': 'WV', 'Yatesboro': 'PA', 'Zcta 162hh': 'PA', 'Zcta 162xx': 'PA', 'Cochranton': 'PA', 'Conneaut lake': 'PA', 'Cranberry': 'PA', 'East hickory': 'PA', 'Endeavor': 'WI', 'Guys mills': 'PA', 'Irvine': 'PA', 'Lickingville': 'PA', 'Rouseville': 'PA', 'Tidioute': 'PA', 'Tiona': 'PA', 'Tionesta': 'PA', 'Townville': 'SC', 'Tylersburg': 'PA', 'North warren': 'PA', 'West hickory': 'PA', 'Clintonville': 'WI', 'Emlenton': 'PA', 'Kennerdell': 'PA', 'Zcta 163hh': 'PA', 'Zcta 163xx': 'PA', 'Lundys lane': 'PA', 'Cambridge spring': 'PA', 'Conneautville': 'PA', 'Corry': 'PA', 'Cranesville': 'PA', 'Edinboro': 'PA', 'Grand valley': 'PA', 'Harborcreek': 'PA', 'Harmonsburg': 'PA', 'Espyville': 'PA', 'Mc kean': 'PA', 'Mill village': 'PA', 'Saegertown': 'PA', 'Spartansburg': 'PA', 'Spring creek': 'TN', 'Wattsburg': 'PA', 'Zcta 164hh': 'PA', 'Wesleyville': 'PA', 'Zcta 165hh': 'PA', 'Barree': 'PA', 'Beccaria': 'PA', 'Blandburg': 'PA', 'Brisbin': 'PA', 'Broad top': 'PA', 'Chest springs': 'PA', 'Claysburg': 'PA', 'Coalport': 'PA', 'Cresson': 'TX', 'Duncansville': 'PA', 'East freedom': 'PA', 'Entriken': 'PA', 'Fallentimber': 'PA', 'Flinton': 'PA', 'Gallitzin': 'PA', 'Glen hope': 'PA', 'Hollidaysburg': 'PA', 'Houtzdale': 'PA', 'Huntingdon': 'TN', 'Imler': 'PA', 'Irvona': 'PA', 'James creek': 'PA', 'Loysburg': 'PA', 'Morann': 'PA', 'New enterprise': 'PA', 'Osceola mills': 'PA', 'St clairsville': 'PA', 'Queen': 'PA', 'Ramey': 'PA', 'Riddlesburg': 'PA', 'Roaring spring': 'PA', 'Saxton': 'PA', 'Six mile run': 'PA', 'Smithmill': 'PA', 'Smokerun': 'PA', 'Sproul': 'PA', 'Spruce creek': 'PA', 'Waterfall': 'PA', 'Wells tannery': 'PA', 'Ganister': 'PA', 'Wood': 'SD', 'Zcta 166hh': 'PA', 'Zcta 166xx': 'PA', 'Derrick city': 'PA', 'Duke center': 'PA', 'East smethport': 'PA', 'Hazel hurst': 'PA', 'James city': 'PA', 'Lewis run': 'PA', 'Mount jewett': 'PA', 'Port allegany': 'PA', 'Rew': 'PA', 'Rixford': 'PA', 'Roulette': 'PA', 'Shinglehouse': 'PA', 'Smethport': 'PA', 'Turtlepoint': 'PA', 'Westline': 'PA', 'Zcta 167xx': 'PA', 'Aaronsburg': 'PA', 'Pleasant gap': 'PA', 'Bigler': 'PA', 'Boalsburg': 'PA', 'Centre hall': 'PA', 'Coburn': 'WV', 'Curwensville': 'PA', 'Drifting': 'PA', 'Glen richey': 'PA', 'Grampian': 'PA', 'Grassflat': 'PA', 'Hawk run': 'PA', 'Hyde': 'PA', 'Karthaus': 'PA', 'Kylertown': 'PA', 'Lemont': 'PA', 'Madisonburg': 'PA', 'Milesburg': 'PA', 'Millheim': 'PA', 'Mingoville': 'PA', 'Morrisdale': 'PA', 'Moshannon': 'PA', 'Munson': 'PA', 'New millport': 'PA', 'Olanta': 'SC', 'Orviston': 'PA', 'Pennsylvania fur': 'PA', 'Port matilda': 'PA', 'Pottersdale': 'PA', 'Rebersburg': 'PA', 'Snow shoe': 'PA', 'Spring mills': 'PA', 'Wallaceton': 'PA', 'Warriors mark': 'PA', 'West decatur': 'PA', 'Winburne': 'PA', 'Zcta 168hh': 'PA', 'Zcta 168xx': 'PA', 'Wellsboro': 'PA', 'Arnot': 'PA', 'Blossburg': 'PA', 'Columbia cross r': 'PA', 'Oswayo': 'PA', 'Cowanesque': 'PA', 'Galeton': 'PA', 'North bingham': 'PA', 'Granville summit': 'PA', 'Harrison valley': 'PA', 'Mainesburg': 'PA', 'Middlebury cente': 'PA', 'Morris run': 'PA', 'Sabinsville': 'PA', 'Tioga': 'WV', 'Little marsh': 'PA', 'Zcta 169hh': 'PA', 'Zcta 169xx': 'PA', 'Annville': 'PA', 'Berrysburg': 'PA', 'Blain': 'PA', 'Boiling springs': 'PA', 'Campbelltown': 'PA', 'Shiremanstown': 'PA', 'Carlisle barrack': 'PA', 'Dalmatia': 'PA', 'Dauphin': 'PA', 'Dillsburg': 'PA', 'Duncannon': 'PA', 'East waterford': 'PA', 'Elizabethville': 'PA', 'Elliottsburg': 'PA', 'Messiah college': 'PA', 'Highspire': 'PA', 'Honey grove': 'TX', 'Hummelstown': 'PA', 'Ickesburg': 'PA', 'Landisburg': 'PA', 'Lawn': 'TX', 'Cleona': 'PA', 'Wormleysburg': 'PA', 'Loysville': 'PA', 'Lykens': 'PA', 'Mc alisterville': 'PA', 'Mc veytown': 'PA', 'Mapleton depot': 'PA', 'Mifflin': 'PA', 'Mifflintown': 'PA', 'Millerstown': 'PA', 'Mount gretna': 'PA', 'Mount holly spri': 'PA', 'Myerstown': 'PA', 'New buffalo': 'PA', 'New cumberland': 'WV', 'New kingstown': 'PA', 'Newmanstown': 'PA', 'Newton hamilton': 'PA', 'Oakland mills': 'PA', 'Ono': 'PA', 'Pillow': 'PA', 'Quentin': 'PA', 'Schaefferstown': 'PA', 'Shermans dale': 'PA', 'Thompsontown': 'PA', 'Wiconisco': 'PA', 'Yeagertown': 'PA', 'Zcta 170hh': 'PA', 'Zcta 170xx': 'PA', 'Penbrook': 'PA', 'Colonial park': 'PA', 'Steelton': 'PA', 'Zcta 171hh': 'PA', 'Artemas': 'PA', 'Big cove tannery': 'PA', 'Blairs mills': 'PA', 'Blue ridge summi': 'PA', 'Burnt cabins': 'PA', 'Doylesburg': 'PA', 'Dry run': 'PA', 'Fannettsburg': 'PA', 'Fort littleton': 'PA', 'Fort loudon': 'PA', 'Hustontown': 'PA', 'Mc connellsburg': 'PA', 'Mercersburg': 'PA', 'Mont alto': 'PA', 'Needmore': 'PA', 'Neelyton': 'PA', 'Orbisonia': 'PA', 'Orrstown': 'PA', 'Rockhill furnace': 'PA', 'Shade gap': 'PA', 'Shippensburg': 'PA', 'Shirleysburg': 'PA', 'Spring run': 'PA', 'Three springs': 'PA', 'Upperstrasburg': 'PA', 'Walnut bottom': 'PA', 'Warfordsburg': 'PA', 'Abbottstown': 'PA', 'Airville': 'PA', 'Aspers': 'PA', 'Bendersville': 'PA', 'Biglerville': 'PA', 'Brogue': 'PA', 'Codorus': 'PA', 'Yoe': 'PA', 'East prospect': 'PA', 'Emigsville': 'PA', 'Etters': 'PA', 'Greenstone': 'PA', 'Fawn grove': 'PA', 'Gardners': 'PA', 'Brodbecks': 'PA', 'Lewisberry': 'PA', 'Littlestown': 'PA', 'Mc knightstown': 'PA', 'Mc sherrystown': 'PA', 'Mount wolf': 'PA', 'New freedom': 'PA', 'New oxford': 'PA', 'New park': 'PA', 'Orrtanna': 'PA', 'Railroad': 'PA', 'Red lion': 'PA', 'Seven valleys': 'PA', 'Stewartstown': 'PA', 'York haven': 'PA', 'York springs': 'PA', 'Zcta 173hh': 'PA', 'East york': 'PA', 'Hellam': 'PA', 'Jacobus': 'PA', 'Zcta 174hh': 'PA', 'Bird in hand': 'PA', 'Ninepoints': 'PA', 'Conestoga': 'PA', 'Drumore': 'PA', 'East earl': 'PA', 'East petersburg': 'PA', 'Ephrata': 'WA', 'Gap': 'PA', 'Gordonville': 'TX', 'Holtwood': 'PA', 'Kinzers': 'PA', 'Salunga': 'PA', 'Brunnerville': 'PA', 'Manheim': 'WV', 'Florin': 'PA', 'Mountville': 'SC', 'Narvon': 'PA', 'Peach bottom': 'PA', 'Pequea': 'PA', 'Quarryville': 'PA', 'Reinholds': 'PA', 'Rheems': 'PA', 'Ronks': 'PA', 'Smoketown': 'PA', 'Stevens': 'PA', 'Terre hill': 'PA', 'Washington boro': 'PA', 'Willow street': 'PA', 'Zcta 175hh': 'PA', 'Neffsville': 'PA', 'Rohrerstown': 'PA', 'Zcta 176hh': 'PA', 'South williamspo': 'PA', 'Zcta 17702': 'PA', 'Avis': 'PA', 'Cogan station': 'PA', 'Cross fork': 'PA', 'Dewart': 'PA', 'Eagles mere': 'PA', 'Hyner': 'PA', 'Jersey mills': 'PA', 'Salladasburg': 'PA', 'Lairdsville': 'PA', 'Lock haven': 'PA', 'Loganton': 'PA', 'Mc elhattan': 'PA', 'Mc ewensville': 'PA', 'Mackeyville': 'PA', 'Mill hall': 'PA', 'Montoursville': 'PA', 'Muncy': 'PA', 'Muncy valley': 'PA', 'Picture rocks': 'PA', 'Renovo': 'PA', 'Roaring branch': 'PA', 'Salona': 'PA', 'Shunk': 'PA', 'Trout run': 'PA', 'Turbotville': 'PA', 'Unityville': 'PA', 'Watsontown': 'PA', 'Zcta 177hh': 'PA', 'Zcta 177xx': 'PA', 'Beaver springs': 'PA', 'Beavertown': 'PA', 'Bloomsburg': 'PA', 'Dornsife': 'PA', 'Elysburg': 'PA', 'Hartleton': 'PA', 'Marion heights': 'PA', 'Kreamer': 'PA', 'Kulpmont': 'PA', 'Laurelton': 'PA', 'Leck kill': 'PA', 'Locust gap': 'PA', 'Mifflinburg': 'PA', 'Millmont': 'PA', 'Montandon': 'PA', 'Mount pleasant m': 'PA', 'New columbia': 'PA', 'Northumberland': 'PA', 'Paxinos': 'PA', 'Paxtonville': 'PA', 'Penns creek': 'PA', 'Port trevorton': 'PA', 'Potts grove': 'PA', 'Ranshaw': 'PA', 'Rebuck': 'PA', 'Selinsgrove': 'PA', 'Trevorton': 'PA', 'Troxelville': 'PA', 'Weikert': 'PA', 'White deer': 'TX', 'Zcta 178hh': 'PA', 'Zcta 178xx': 'PA', 'Aristes': 'PA', 'Branchdale': 'PA', 'Cressona': 'PA', 'Cumbola': 'PA', 'Frackville': 'PA', 'Friedensburg': 'PA', 'Gilberton': 'PA', 'Girardville': 'PA', 'Hegins': 'PA', 'Klingerstown': 'PA', 'Lavelle': 'PA', 'Llewellyn': 'PA', 'Locustdale': 'PA', 'Lost creek': 'WV', 'Mahanoy city': 'PA', 'Mahanoy plane': 'PA', 'Mar lin': 'PA', 'Mary d': 'PA', 'Minersville': 'UT', 'Kaska': 'PA', 'New ringgold': 'PA', 'Orwigsburg': 'PA', 'Port carbon': 'PA', 'Ringtown': 'PA', 'Schuylkill haven': 'PA', 'Seltzer': 'PA', 'Spring glen': 'PA', 'Summit station': 'PA', 'Valley view': 'TX', 'Zion grove': 'PA', 'Zcta 179hh': 'PA', 'Alburtis': 'PA', 'Aquashicola': 'PA', 'Roseto': 'PA', 'Butztown': 'PA', 'Zcta 18020': 'PA', 'Bowmanstown': 'PA', 'Breinigsville': 'PA', 'Catasauqua': 'PA', 'Center valley': 'WI', 'Coopersburg': 'PA', 'Coplay': 'PA', 'Zcta 18040': 'PA', 'East greenville': 'PA', 'Forks township': 'PA', 'Zcta 18045': 'PA', 'Emmaus': 'PA', 'Fogelsville': 'PA', 'Hokendauqua': 'PA', 'Germansville': 'PA', 'Green lane': 'PA', 'Hellertown': 'PA', 'Kunkletown': 'PA', 'Laurys station': 'PA', 'Macungie': 'PA', 'Martins creek': 'PA', 'Nazareth': 'TX', 'New tripoli': 'PA', 'Northampton': 'PA', 'Orefield': 'PA', 'Palm': 'PA', 'Palmerton': 'PA', 'Pen argyl': 'PA', 'Pennsburg': 'PA', 'Perkiomenville': 'PA', 'Red hill': 'PA', 'Riegelsville': 'PA', 'Schnecksville': 'PA', 'Slatedale': 'PA', 'Emerald': 'WI', 'Springtown': 'TX', 'Stockertown': 'PA', 'Tatamy': 'PA', 'Treichlers': 'PA', 'Trexlertown': 'PA', 'Walnutport': 'PA', 'Wind gap': 'PA', 'Zcta 180hh': 'PA', 'Wescosville': 'PA', 'Zcta 181hh': 'PA', 'West hazleton': 'PA', 'Albrightsville': 'PA', 'Andreas': 'PA', 'Beaver meadows': 'PA', 'Conyngham': 'PA', 'Drifton': 'PA', 'Drums': 'PA', 'Harleigh': 'PA', 'Jim thorpe': 'PA', 'Junedale': 'PA', 'Kelayres': 'PA', 'Lattimer mines': 'PA', 'Weissport': 'PA', 'Mcadoo': 'TX', 'Milnesville': 'PA', 'Nesquehoning': 'PA', 'Fern glen': 'PA', 'Parryville': 'PA', 'Quakake': 'PA', 'Sheppton': 'PA', 'Summit hill': 'PA', 'Sybertsville': 'PA', 'Tamaqua': 'PA', 'Tresckow': 'PA', 'Weatherly': 'PA', 'Zcta 182hh': 'PA', 'East stroudsburg': 'PA', 'Bartonsville': 'PA', 'Brodheadsville': 'PA', 'Buck hill falls': 'PA', 'Bushkill': 'PA', 'Canadensis': 'PA', 'Delaware water g': 'PA', 'Dingmans ferry': 'PA', 'Effort': 'PA', 'Kresgeville': 'PA', 'Long pond': 'PA', 'Matamoras': 'PA', 'Millrift': 'PA', 'Minisink hills': 'PA', 'Mount bethel': 'PA', 'Mount pocono': 'PA', 'Pocono summit': 'PA', 'Pocono lake': 'PA', 'Pocono manor': 'PA', 'Pocono pines': 'PA', 'Saylorsburg': 'PA', 'Scotrun': 'PA', 'Shawnee on delaw': 'PA', 'Skytop': 'PA', 'Stroudsburg': 'PA', 'Swiftwater': 'PA', 'Zcta 183hh': 'PA', 'Eynon': 'PA', 'Beach lake': 'PA', 'Clarks summit': 'PA', 'Equinunk': 'PA', 'Factoryville': 'PA', 'Fleetville': 'PA', 'Browndale': 'PA', 'Herrick center': 'PA', 'Honesdale': 'PA', 'Lackawaxen': 'PA', 'Lake ariel': 'PA', 'Lenoxville': 'PA', 'Milanville': 'PA', 'Olyphant': 'PA', 'Paupack': 'PA', 'Peckville': 'PA', 'Pleasant mount': 'PA', 'Preston park': 'PA', 'Prompton': 'PA', 'Shohola': 'PA', 'South canaan': 'PA', 'South sterling': 'PA', 'Starlight': 'PA', 'Starrucca': 'PA', 'Tafton': 'PA', 'Tobyhanna': 'PA', 'Tyler hill': 'PA', 'Union dale': 'PA', 'Waymart': 'PA', 'Zcta 184hh': 'PA', 'Zcta 184xx': 'PA', 'Moosic': 'PA', 'Dunmore': 'WV', 'Dickson city': 'PA', 'Beach haven': 'PA', 'Blakeslee': 'PA', 'Cambra': 'PA', 'College miserico': 'PA', 'Dushore': 'PA', 'Falls': 'PA', 'Forksville': 'PA', 'Glen lyon': 'PA', 'Harveys lake': 'PA', 'Hillsgrove': 'PA', 'Hunlock creek': 'PA', 'Huntington mills': 'PA', 'Laceyville': 'PA', 'Lake harmony': 'PA', 'Lake winola': 'PA', 'Lopez': 'WA', 'Mehoopany': 'PA', 'Meshoppen': 'PA', 'Mifflinville': 'PA', 'Nescopeck': 'PA', 'Noxen': 'PA', 'Pittston': 'PA', 'Duryea': 'PA', 'West pittston': 'PA', 'Mocanaqua': 'PA', 'Sweet valley': 'PA', 'Center moreland': 'PA', 'Wapwallopen': 'PA', 'White haven': 'PA', 'Zcta 186hh': 'PA', 'Zcta 186xx': 'PA', 'Wilkes barre': 'PA', 'Hanover township': 'PA', 'Mountain top': 'PA', 'Shavertown': 'PA', 'Brackney': 'PA', 'Dimock': 'SD', 'East smithfield': 'PA', 'Hallstead': 'PA', 'Harford': 'PA', 'Hop bottom': 'PA', 'Le raysville': 'PA', 'Little meadows': 'PA', 'Monroeton': 'PA', 'South gibson': 'PA', 'Sugar run': 'PA', 'Susquehanna': 'PA', 'Ulster': 'PA', 'Warren center': 'PA', 'Wyalusing': 'PA', 'Wysox': 'PA', 'Zcta 188hh': 'PA', 'Chalfont': 'PA', 'Erwinna': 'PA', 'Fountainville': 'PA', 'Furlong': 'PA', 'Hilltown': 'PA', 'Jamison': 'PA', 'Kintnersville': 'PA', 'Line lexington': 'PA', 'Montgomeryville': 'PA', 'George school': 'PA', 'Ottsville': 'PA', 'Perkasie': 'PA', 'Pipersville': 'PA', 'Quakertown': 'PA', 'Richboro': 'PA', 'Richlandtown': 'PA', 'Sellersville': 'PA', 'Silverdale': 'WA', 'Bethton': 'PA', 'Telford': 'TN', 'Trumbauersville': 'PA', 'Upper black eddy': 'PA', 'Warminster': 'PA', 'Warrington': 'PA', 'Washington cross': 'PA', 'Wycombe': 'PA', 'Zcta 189hh': 'PA', 'Ogontz campus': 'PA', 'Maple glen': 'PA', 'Bala cynwyd': 'PA', 'Huntingdon valle': 'PA', 'Tullytown': 'PA', 'Broomall': 'PA', 'Bryn athyn': 'PA', 'Aston': 'PA', 'Primos secane': 'PA', 'Bensalem': 'PA', 'Croydon': 'UT', 'Crum lynne': 'PA', 'Collingdale': 'PA', 'Dresher': 'PA', 'Pilgrim gardens': 'PA', 'Zcta 19027': 'PA', 'Fairless hills': 'PA', 'Flourtown': 'PA', 'Folcroft': 'PA', 'Gladwyne': 'PA', 'Glenolden': 'PA', 'Glenside': 'PA', 'Hatboro': 'PA', 'Haverford': 'PA', 'Horsham': 'PA', 'Meadowbrook': 'WV', 'Penndel': 'PA', 'Yeadon': 'PA', 'Feasterville tre': 'PA', 'Boothwyn': 'PA', 'Glen riddle lima': 'PA', 'Merion station': 'PA', 'Yardley': 'PA', 'Narberth': 'PA', 'Newtown square': 'PA', 'Oreland': 'PA', 'Prospect park': 'PA', 'Ridley park': 'PA', 'Sharon hill': 'PA', 'Swarthmore': 'PA', 'Upper darby': 'PA', 'Havertown': 'PA', 'Villanova': 'PA', 'Willow grove nas': 'PA', 'Woodlyn': 'PA', 'Wyncote': 'PA', 'Zcta 190hh': 'PA', 'Zcta 191hh': 'PA', 'Atglen': 'PA', 'Brandamore': 'PA', 'Chadds ford': 'PA', 'Cheyney': 'PA', 'Cochranville': 'PA', 'Devon': 'PA', 'Downingtown': 'PA', 'Exton': 'PA', 'Glen mills': 'PA', 'Glenmoore': 'PA', 'Honey brook': 'PA', 'Immaculata': 'PA', 'Kennett square': 'PA', 'Landenberg': 'PA', 'Lincoln universi': 'PA', 'Frazer': 'PA', 'Parkesburg': 'PA', 'Sadsburyville': 'PA', 'Thorndale': 'TX', 'Toughkenamon': 'PA', 'West grove': 'PA', 'Zcta 193hh': 'PA', 'King of prussia': 'PA', 'Birchrunville': 'PA', 'Penllyn': 'PA', 'Chester springs': 'PA', 'West conshohocke': 'PA', 'Gwynedd': 'PA', 'Gwynedd valley': 'PA', 'Harleysville': 'PA', 'Lafayette hill': 'PA', 'Lansdale': 'PA', 'Mont clare': 'PA', 'North wales': 'PA', 'Parker ford': 'PA', 'Phoenixville': 'PA', 'Plymouth meeting': 'PA', 'Sanatoga': 'PA', 'Pottstown': 'PA', 'Sassamansville': 'PA', 'Schwenksville': 'PA', 'Skippack': 'PA', 'Spring city': 'UT', 'Spring mount': 'PA', 'Zieglersville': 'PA', 'Zcta 194hh': 'PA', 'Adamstown': 'PA', 'Bally': 'PA', 'Barto': 'PA', 'Bechtelsville': 'PA', 'Bernville': 'PA', 'Birdsboro': 'PA', 'Blandon': 'PA', 'Bowers': 'PA', 'Boyertown': 'PA', 'Douglassville': 'TX', 'Elverson': 'PA', 'Geigertown': 'PA', 'Kutztown': 'PA', 'Leesport': 'PA', 'Lenhartsville': 'PA', 'Lyon station': 'PA', 'Mertztown': 'PA', 'Mohnton': 'PA', 'Mohrsville': 'PA', 'Mount aetna': 'PA', 'New berlinville': 'PA', 'Oley': 'PA', 'Rehrersburg': 'PA', 'Robesonia': 'PA', 'Shartlesville': 'PA', 'Shoemakersville': 'PA', 'Strausstown': 'PA', 'Wernersville': 'PA', 'Womelsdorf': 'PA', 'Zcta 195hh': 'PA', 'Mount penn': 'PA', 'Shillington': 'PA', 'West lawn': 'PA', 'Wyomissing': 'PA', 'Zcta 196hh': 'PA', 'Ashaway': 'RI', 'Block island': 'RI', 'Chepachet': 'RI', 'West greenwich': 'RI', 'East greenwich': 'RI', 'Little compton': 'RI', 'Mapleville': 'RI', 'North kingstown': 'RI', 'North scituate': 'RI', 'Pascoag': 'RI', 'Pawtucket': 'RI', 'Central falls': 'RI', 'Saunderstown': 'RI', 'Tiverton': 'RI', 'Narragansett': 'RI', 'Westerly': 'RI', 'West warwick': 'RI', 'Wood river junct': 'RI', 'North smithfield': 'RI', 'Zcta 028hh': 'RI', 'Centredale': 'RI', 'Cranston': 'RI', 'East providence': 'RI', 'Zcta 029hh': 'RI', 'Alcolu': 'SC', 'Bamberg': 'SC', 'Batesburg': 'SC', 'Blackstock': 'SC', 'Blythewood': 'SC', 'Cassatt': 'SC', 'Cayce': 'SC', 'Chappells': 'SC', 'Eastover': 'SC', 'Elloree': 'SC', 'Eutawville': 'SC', 'Gable': 'SC', 'Greeleyville': 'SC', 'Heath springs': 'SC', 'Irmo': 'SC', 'Jenkinsville': 'SC', 'Kershaw': 'SC', 'Leesville': 'TX', 'Liberty hill': 'TX', 'Little mountain': 'SC', 'Lugoff': 'SC', 'Lydia': 'SC', 'Ehrhardt': 'SC', 'Lodge': 'SC', 'Zcta 290hh': 'SC', 'Zcta 290xx': 'SC', 'Mc bee': 'SC', 'Paxville': 'SC', 'Monetta': 'SC', 'Neeses': 'SC', 'New zion': 'SC', 'Zcta 29118': 'SC', 'Peak': 'SC', 'Pelion': 'SC', 'Pinewood': 'SC', 'Pomaria': 'SC', 'Rembert': 'SC', 'Ridge spring': 'SC', 'Rion': 'SC', 'Rowesville': 'SC', 'Fort motte': 'SC', 'Salley': 'SC', 'Silverstreet': 'SC', 'Summerton': 'SC', 'Shaw a f b': 'SC', 'Sumter': 'SC', 'Timmonsville': 'SC', 'Turbeville': 'SC', 'Wagener': 'SC', 'Wedgefield': 'SC', 'West columbia': 'WV', 'White rock': 'SC', 'Whitmire': 'SC', 'Zcta 291hh': 'SC', 'Zcta 291xx': 'SC', 'Zcta 292hh': 'SC', 'Zcta 292xx': 'SC', 'Spartanburg': 'SC', 'Campobello': 'SC', 'Chesnee': 'SC', 'Cowpens': 'SC', 'Cross hill': 'SC', 'Enoree': 'SC', 'Fingerville': 'SC', 'Gaffney': 'SC', 'Joanna': 'SC', 'Kelton': 'SC', 'Kinards': 'SC', 'Landrum': 'SC', 'Pacolet': 'SC', 'Pacolet mills': 'SC', 'Glenn springs': 'SC', 'Reidville': 'SC', 'Roebuck': 'SC', 'Startex': 'SC', 'Wellford': 'SC', 'Zcta 293hh': 'SC', 'North charleston': 'SC', 'Awendaw': 'SC', 'Bethera': 'SC', 'Bonneau': 'SC', 'Cordesville': 'SC', 'Cottageville': 'WV', 'Cross': 'SC', 'Edisto island': 'SC', 'Folly beach': 'SC', 'Harleyville': 'SC', 'Meggett': 'SC', 'Huger': 'SC', 'Isle of palms': 'SC', 'Jacksonboro': 'SC', 'Shulerville': 'SC', 'Johns island': 'SC', 'Ladson': 'SC', 'Mc clellanville': 'SC', 'Zcta 29466': 'SC', 'Pinopolis': 'SC', 'Ravenel': 'SC', 'Reevesville': 'SC', 'Round o': 'SC', 'Smoaks': 'SC', 'Sullivans island': 'SC', 'Wadmalaw island': 'SC', 'Wando': 'SC', 'Zcta 294hh': 'SC', 'Zcta 294xx': 'SC', 'Quinby': 'VA', 'Aynor': 'SC', 'Bennettsville': 'SC', 'Blenheim': 'SC', 'Cades': 'SC', 'Centenary': 'SC', 'Coward': 'SC', 'Galivants ferry': 'SC', 'Green sea': 'SC', 'South of the bor': 'SC', 'Hemingway': 'SC', 'Kingstree': 'SC', 'Latta': 'SC', 'Longs': 'SC', 'Loris': 'SC', 'Mc coll': 'SC', 'Myrtle beach': 'SC', 'Mullins': 'SC', 'Surfside beach': 'SC', 'Murrells inlet': 'SC', 'Myrtle beach afb': 'SC', 'Nesmith': 'SC', 'Cherry grove bea': 'SC', 'Pamplico': 'SC', 'Patrick': 'SC', 'Pawleys island': 'SC', 'Rains': 'SC', 'Salters': 'SC', 'Sellers': 'SC', 'Society hill': 'SC', 'Zcta 295hh': 'SC', 'Zcta 295xx': 'SC', 'Zcta 29617': 'SC', 'Zcta 29626': 'SC', 'Calhoun falls': 'SC', 'Clemson': 'SC', 'Shoals junction': 'SC', 'Due west': 'SC', 'Easley': 'SC', 'Fountain inn': 'SC', 'Honea path': 'SC', 'Iva': 'SC', 'La france': 'SC', 'Lowndesville': 'SC', 'Mauldin': 'SC', 'Mountain rest': 'SC', 'Ninety six': 'SC', 'Cateechee': 'SC', 'Pelzer': 'SC', 'Zcta 29672': 'SC', 'Zcta 29680': 'SC', 'Six mile': 'SC', 'Starr': 'SC', 'Tamassee': 'SC', 'Taylors': 'SC', 'Tigerville': 'SC', 'Travelers rest': 'SC', 'Ware shoals': 'SC', 'Zcta 296hh': 'SC', 'Cherokee falls': 'SC', 'Zcta 29708': 'SC', 'Lake wylie': 'SC', 'Fort lawn': 'SC', 'Tega cay': 'SC', 'Hickory grove': 'SC', 'Lando': 'SC', 'Mc connells': 'SC', 'Mount croghan': 'SC', 'Pageland': 'SC', 'Richburg': 'SC', 'Zcta 297hh': 'SC', 'Aiken': 'SC', 'Zcta 29805': 'SC', 'New ellenton': 'SC', 'Barnwell': 'SC', 'Blackville': 'SC', 'Edgefield': 'SC', 'Gloverville': 'SC', 'Mc cormick': 'SC', 'Beech island': 'SC', 'Olar': 'SC', 'Plum branch': 'SC', 'Ulmer': 'SC', 'Vaucluse': 'SC', 'Zcta 29860': 'SC', 'Zcta 298hh': 'SC', 'Zcta 298xx': 'SC', 'Zcta 29906': 'SC', 'Brunson': 'SC', 'Early branch': 'SC', 'Estill': 'SC', 'St helena island': 'SC', 'Furman': 'SC', 'Hilton head isla': 'SC', 'Hardeeville': 'SC', 'Islandton': 'SC', 'Coosawatchie': 'SC', 'Tillman': 'SC', 'Varnville': 'SC', 'Yemassee': 'SC', 'Zcta 299hh': 'SC', 'Zcta 299xx': 'SC', 'Alcester': 'SD', 'Beresford': 'SD', 'Corson': 'SD', 'Brookings': 'SD', 'Canistota': 'SD', 'Colman': 'SD', 'Crooks': 'SD', 'Dell rapids': 'SD', 'Elk point': 'SD', 'Flandreau': 'SD', 'Garretson': 'SD', 'Gayville': 'SD', 'Irene': 'SD', 'Meckling': 'SD', 'Menno': 'SD', 'Mission hill': 'SD', 'Dakota dunes': 'SD', 'Oldham': 'SD', 'Renner': 'SD', 'Sinai': 'SD', 'Tea': 'SD', 'Trent': 'TX', 'Tyndall': 'SD', 'Viborg': 'SD', 'Volin': 'SD', 'Wakonda': 'SD', 'Winfred': 'SD', 'Worthing': 'SD', 'Yankton': 'SD', 'Zcta 570hh': 'SD', 'Sioux falls': 'SD', 'Zcta 57108': 'SD', 'Zcta 57110': 'SD', 'Big stone city': 'SD', 'Brandt': 'SD', 'Castlewood': 'VA', 'Claire city': 'SD', 'De smet': 'SD', 'Dempster': 'SD', 'Bemis': 'SD', 'Hayti': 'SD', 'Hetland': 'SD', 'Kranzburg': 'SD', 'Labolt': 'SD', 'Lake norden': 'SD', 'Lake preston': 'SD', 'Marvin': 'SD', 'Milbank': 'SD', 'New effington': 'SD', 'Ortley': 'SD', 'Peever': 'SD', 'Albee': 'SD', 'Rosholt': 'WI', 'Agency village': 'SD', 'South shore': 'SD', 'Strandburg': 'SD', 'Twin brooks': 'SD', 'Veblen': 'SD', 'Waubay': 'SD', 'Willow lake': 'SD', 'Zcta 572hh': 'SD', 'Armour': 'SD', 'Forestburg': 'TX', 'Bonesteel': 'SD', 'Canova': 'SD', 'Cavour': 'WI', 'Dante': 'VA', 'Emery': 'UT', 'Ethan': 'SD', 'Fedora': 'SD', 'Fort thompson': 'SD', 'Gann valley': 'SD', 'Geddes': 'SD', 'Highmore': 'SD', 'Stephan': 'SD', 'Lake andes': 'SD', 'Marty': 'SD', 'Oacoma': 'SD', 'Parkston': 'SD', 'Pickstown': 'SD', 'Plankinton': 'SD', 'Academy': 'SD', 'Pukwana': 'SD', 'Ree heights': 'SD', 'Saint lawrence': 'SD', 'Tripp': 'SD', 'Wagner': 'SD', 'Wessington': 'SD', 'Wessington sprin': 'SD', 'Wolsey': 'SD', 'Woonsocket': 'SD', 'Zcta 573hh': 'SD', 'Akaska': 'SD', 'Bowdle': 'SD', 'Cresbard': 'SD', 'Doland': 'SD', 'Artas': 'SD', 'Hecla': 'SD', 'Hosmer': 'SD', 'Hoven': 'SD', 'Java': 'VA', 'Langford': 'SD', 'Longlake': 'SD', 'Mellette': 'SD', 'Onaka': 'SD', 'Rockham': 'SD', 'Selby': 'SD', 'Tolstoy': 'SD', 'Turton': 'SD', 'Wetonka': 'SD', 'Zcta 574hh': 'SD', 'Pierre': 'SD', 'Agar': 'SD', 'Blunt': 'SD', 'Colome': 'SD', 'Draper': 'VA', 'Fort pierre': 'SD', 'Hamill': 'SD', 'Harrold': 'TX', 'Holabird': 'SD', 'Kadoka': 'SD', 'Kennebec': 'SD', 'Lower brule': 'SD', 'Vetal': 'SD', 'Ottumwa': 'SD', 'Milesville': 'SD', 'Murdo': 'SD', 'Okaton': 'SD', 'Okreek': 'SD', 'Onida': 'SD', 'Parmelee': 'SD', 'Philip': 'SD', 'Presho': 'SD', 'Reliance': 'WY', 'Tuthill': 'SD', 'Vivian': 'SD', 'Wanblee': 'SD', 'Wewela': 'SD', 'White river': 'SD', 'Witten': 'SD', 'Zcta 575hh': 'SD', 'Zcta 575xx': 'SD', 'Mobridge': 'SD', 'Dupree': 'SD', 'Eagle butte': 'SD', 'Faith': 'SD', 'Firesteel': 'SD', 'Glenham': 'SD', 'Herreid': 'SD', 'Keldron': 'SD', 'Lantry': 'SD', 'Lemmon': 'SD', 'Mc laughlin': 'SD', 'Meadow': 'TX', 'Reva': 'VA', 'La plant': 'SD', 'Shadehill': 'SD', 'Timber lake': 'SD', 'Trail city': 'SD', 'Wakpala': 'SD', 'Watauga': 'TX', 'Whitehorse': 'SD', 'Zcta 576hh': 'SD', 'Rockerville': 'SD', 'Zcta 57703': 'SD', 'Ellsworth afb': 'SD', 'Denby': 'SD', 'Belle fourche': 'SD', 'Buffalo gap': 'TX', 'Sky ranch': 'SD', 'Caputa': 'SD', 'Crazy horse': 'SD', 'Deadwood': 'SD', 'Elm springs': 'SD', 'Enning': 'SD', 'Hermosa': 'SD', 'Interior': 'SD', 'Kyle': 'WV', 'Spearfish canyon': 'SD', 'Manderson': 'WY', 'Mud butte': 'SD', 'Nemo': 'TX', 'New underwood': 'SD', 'Nisland': 'SD', 'Oelrichs': 'SD', 'Oglala': 'SD', 'Opal': 'WY', 'Oral': 'SD', 'Owanka': 'SD', 'Porcupine': 'SD', 'Pringle': 'SD', 'Provo': 'UT', 'Redowl': 'SD', 'Rochford': 'SD', 'Saint onge': 'SD', 'Scenic': 'SD', 'Spearfish': 'SD', 'Wasta': 'SD', 'White owl': 'SD', 'Whitewood': 'VA', 'Wounded knee': 'SD', 'Black hills stat': 'SD', 'Zcta 577hh': 'SD', 'Arrington': 'TN', 'Ashland city': 'TN', 'Auburntown': 'TN', 'Beechgrove': 'TN', 'Bell buckle': 'TN', 'Bon aqua': 'TN', 'Bradyville': 'TN', 'Bumpus mills': 'TN', 'Defeated': 'TN', 'Castalian spring': 'TN', 'Chapmansboro': 'TN', 'Christiana': 'TN', 'College grove': 'TN', 'Cornersville': 'TN', 'Cottontown': 'TN', 'Cumberland city': 'TN', 'Cumberland furna': 'TN', 'Dickson': 'TN', 'Dixon springs': 'TN', 'Dowelltown': 'TN', 'Zcta 37067': 'TN', 'Zcta 37069': 'TN', 'Goodlettsville': 'TN', 'Hurricane mills': 'TN', 'Indian mound': 'TN', 'Joelton': 'TN', 'Kingston springs': 'TN', 'Lascassas': 'TN', 'La vergne': 'TN', 'Zcta 37090': 'TN', 'Gassaway': 'WV', 'Lobelville': 'TN', 'Wrigley': 'TN', 'Zcta 370hh': 'TN', 'Zcta 370xx': 'TN', 'Mc ewen': 'TN', 'Mount juliet': 'TN', 'Zcta 37127': 'TN', 'Zcta 37128': 'TN', 'New johnsonville': 'TN', 'Nolensville': 'TN', 'Nunnelly': 'TN', 'Old hickory': 'TN', 'Only': 'TN', 'Orlinda': 'TN', 'Pegram': 'TN', 'Pleasant shade': 'TN', 'Readyville': 'TN', 'Red boiling spri': 'TN', 'Riddleton': 'TN', 'Ridgetop': 'TN', 'Tennessee ridge': 'TN', 'Thompsons statio': 'TN', 'Vanleer': 'TN', 'Wartrace': 'TN', 'White bluff': 'TN', 'White house': 'TN', 'Whites creek': 'TN', 'Zcta 371hh': 'TN', 'Zcta 371xx': 'TN', 'Zcta 372hh': 'TN', 'Apison': 'TN', 'Beersheba spring': 'TN', 'Birchwood': 'WI', 'Conasauga': 'TN', 'Postelle': 'TN', 'Cowan': 'TN', 'Decherd': 'TN', 'Ducktown': 'TN', 'Elora': 'TN', 'Estill springs': 'TN', 'Evensville': 'TN', 'Farner': 'TN', 'Flintville': 'TN', 'Gruetli laager': 'TN', 'Guild': 'TN', 'Hixson': 'TN', 'Huntland': 'TN', 'Lupton city': 'TN', 'Hiwassee college': 'TN', 'Monteagle': 'TN', 'Oldfort': 'TN', 'Ooltewah': 'TN', 'Sale creek': 'TN', 'Sequatchie': 'TN', 'Sewanee': 'TN', 'Signal mountain': 'TN', 'Soddy daisy': 'TN', 'South pittsburg': 'TN', 'Tellico plains': 'TN', 'Tracy city': 'TN', 'Dickel': 'TN', 'Turtletown': 'TN', 'Whitwell': 'TN', 'Zcta 373hh': 'TN', 'Zcta 373xx': 'TN', 'East ridge': 'TN', 'Red bank': 'TN', 'Zcta 374hh': 'TN', 'Blountville': 'TN', 'Chuckey': 'TN', 'Elizabethton': 'TN', 'Fall branch': 'TN', 'Flag pond': 'TN', 'Jonesborough': 'TN', 'Colonial heights': 'VA', 'Kingsport': 'TN', 'Lynn garden': 'TN', 'Laurel bloomery': 'TN', 'Washington colle': 'TN', 'Mtn home': 'TN', 'Piney flats': 'TN', 'Roan mountain': 'TN', 'Shady valley': 'TN', 'Trade': 'TN', 'Unicoi': 'TN', 'Zcta 376hh': 'TN', 'Alcoa': 'TN', 'Bean station': 'TN', 'Devonia': 'TN', 'Bulls gap': 'TN', 'Clairfield': 'TN', 'Coalfield': 'TN', 'Corryton': 'TN', 'Cumberland gap': 'TN', 'Dandridge': 'TN', 'Del rio': 'TN', 'Duff': 'TN', 'Eidson': 'TN', 'Gatlinburg': 'TN', 'Greenback': 'TN', 'Greeneville': 'TN', 'Zcta 37745': 'TN', 'Harrogate': 'TN', 'Heiskell': 'TN', 'Helenwood': 'TN', 'Jacksboro': 'TX', 'Jellico': 'TN', 'Kodak': 'TN', 'Kyles ford': 'TN', 'Lancing': 'TN', 'Lenoir city': 'TN', 'Zcta 37772': 'TN', 'Loudon': 'TN', 'Luttrell': 'TN', 'Zcta 377hh': 'TN', 'Zcta 377xx': 'TN', 'Mascot': 'VA', 'Maynardville': 'TN', 'Mooresburg': 'TN', 'Mosheim': 'TN', 'New tazewell': 'TN', 'Oliver springs': 'TN', 'Parrottsville': 'TN', 'Petros': 'TN', 'Powder springs': 'TN', 'Sevierville': 'TN', 'Pigeon forge': 'TN', 'Sharps chapel': 'TN', 'Sneedville': 'TN', 'Speedwell': 'VA', 'Strawberry plain': 'TN', 'Sunbright': 'TN', 'Surgoinsville': 'TN', 'Zcta 37876': 'TN', 'Talbott': 'TN', 'Ten mile': 'TN', 'Thorn hill': 'TN', 'Vonore': 'TN', 'Walland': 'TN', 'Wartburg': 'TN', 'Baneberry': 'TN', 'Zcta 378hh': 'TN', 'Zcta 378xx': 'TN', 'Kimberlin height': 'TN', 'Karns': 'TN', 'Concord farragut': 'TN', 'Zcta 379hh': 'TN', 'Bells': 'TX', 'Burlison': 'TN', 'Collierville': 'TN', 'Crockett mills': 'TN', 'Drummonds': 'TN', 'Dyersburg': 'TN', 'Eads': 'TN', 'Gallaway': 'TN', 'Halls': 'TN', 'Fort pillow': 'TN', 'Hickory valley': 'TN', 'Hornsby': 'TN', 'Maury city': 'TN', 'Saulsbury': 'TN', 'Tiptonville': 'TN', 'Zcta 380hh': 'TN', 'Hickory hill': 'TN', 'Zcta 381hh': 'TN', 'Dukedom': 'TN', 'Gleason': 'WI', 'Hornbeak': 'TN', 'Mc lemoresville': 'TN', 'Obion': 'TN', 'Palmersville': 'TN', 'Puryear': 'TN', 'Rives': 'TN', 'South fulton': 'TN', 'Trezevant': 'TN', 'Zcta 382hh': 'TN', 'Bath springs': 'TN', 'Beech bluff': 'TN', 'Bethel springs': 'TN', 'Bruceton': 'TN', 'Counce': 'TN', 'Crump': 'TN', 'Darden': 'TN', 'Decaturville': 'TN', 'Enville': 'TN', 'Finger': 'TN', 'Guys': 'TN', 'Holladay': 'UT', 'Hollow rock': 'TN', 'Jacks creek': 'TN', 'Lavinia': 'TN', 'Medon': 'TN', 'Michie': 'TN', 'Morris chapel': 'TN', 'Pinson': 'TN', 'Reagan': 'TX', 'Scotts hill': 'TN', 'Selmer': 'TN', 'Stantonville': 'TN', 'Sugar tree': 'TN', 'Toone': 'TN', 'Wildersville': 'TN', 'Zcta 383hh': 'TN', 'Collinwood': 'TN', 'Culleoka': 'TN', 'Cypress inn': 'TN', 'Duck river': 'TN', 'Ethridge': 'TN', 'Frankewing': 'TN', 'Goodspring': 'TN', 'Kimmins': 'TN', 'Leoma': 'TN', 'Lutts': 'TN', 'Minor hill': 'TN', 'Olivehill': 'TN', 'Primm springs': 'TN', 'Summertown': 'TN', 'Zcta 384hh': 'TN', 'Algood': 'TN', 'Allardt': 'TN', 'Zcta 38506': 'TN', 'Allons': 'TN', 'Allred': 'TN', 'Bloomington spri': 'TN', 'Brush creek': 'TN', 'Buffalo valley': 'TN', 'Byrdstown': 'TN', 'Celina': 'TX', 'Chestnut mound': 'TN', 'Clarkrange': 'TN', 'Fairfield glade': 'TN', 'Zcta 38558': 'TN', 'Gainesboro': 'TN', 'Gordonsville': 'TN', 'Grimsley': 'TN', 'Hilham': 'TN', 'Moss': 'TN', 'Pall mall': 'TN', 'Quebeck': 'TN', 'Rickman': 'TN', 'Bone cave': 'TN', 'Silver point': 'TN', 'Ravenscroft': 'TN', 'Walling': 'TN', 'Whitleyville': 'TN', 'Zcta 385hh': 'TN', 'Zcta 385xx': 'TN', 'Zcta 75013': 'TX', 'Coppell': 'TX', 'Zcta 75022': 'TX', 'Flower mound': 'TX', 'Zcta 75032': 'TX', 'Zcta 75035': 'TX', 'Sachse': 'TX', 'Grand prairie': 'TX', 'The colony': 'TX', 'Gunter': 'TX', 'Lake dallas': 'TX', 'Highland village': 'TX', 'Lakewood village': 'TX', 'Pottsboro': 'TX', 'Zcta 75077': 'TX', 'Richardson': 'TX', 'Rowlett': 'TX', 'Zcta 75089': 'TX', 'Murphy': 'TX', 'Wylie': 'TX', 'Zcta 750hh': 'TX', 'Corsicana': 'TX', 'Copeville': 'TX', 'Eustace': 'TX', 'Forney': 'TX', 'Fate': 'TX', 'Caddo mills': 'TX', 'Grand saline': 'TX', 'Hutchins': 'TX', 'Kaufman': 'TX', 'Seven points': 'TX', 'Kerens': 'WV', 'Gun barrel city': 'TX', 'Malakoff': 'TX', 'Ovilla': 'TX', 'Scurry': 'TX', 'Seagoville': 'TX', 'Zcta 75161': 'TX', 'Trinidad': 'TX', 'Josephine': 'WV', 'Waxahachie': 'TX', 'Lavon': 'TX', 'Zcta 75167': 'TX', 'Wills point': 'TX', 'Balch springs': 'TX', 'Royse city': 'TX', 'Zcta 751hh': 'TX', 'Village': 'TX', 'Cockrell hill': 'TX', 'Farmers branch': 'TX', 'Zcta 752hh': 'TX', 'Arthur city': 'TX', 'Bagwell': 'TX', 'Ben franklin': 'TX', 'Blossom': 'TX', 'Bogata': 'TX', 'Bonham': 'TX', 'Celeste': 'TX', 'Cumby': 'TX', 'Deport': 'TX', 'Dodd city': 'TX', 'Ector': 'TX', 'Emory': 'VA', 'Enloe': 'TX', 'Klondike': 'TX', 'Ladonia': 'TX', 'Lake creek': 'TX', 'Lone oak': 'TX', 'Melissa': 'TX', 'Pattonville': 'TX', 'Pecan gap': 'TX', 'Petty': 'TX', 'Pickton': 'TX', 'Point': 'TX', 'Powderly': 'TX', 'Quinlan': 'TX', 'Roxton': 'TX', 'Scroggins': 'TX', 'Sulphur bluff': 'TX', 'Talco': 'TX', 'Telephone': 'TX', 'Tom bean': 'TX', 'Whitewright': 'TX', 'Van alstyne': 'TX', 'Wolfe city': 'TX', 'Yantis': 'TX', 'Zcta 754hh': 'TX', 'Wake village': 'TX', 'Texarkana': 'TX', 'Annona': 'TX', 'Bivins': 'TX', 'Bloomburg': 'TX', 'Cookville': 'TX', 'Kildare': 'TX', 'Redwater': 'TX', 'Zcta 755hh': 'TX', 'Zcta 755xx': 'TX', 'Avinger': 'TX', 'Beckville': 'TX', 'Cason': 'TX', 'Daingerfield': 'TX', 'De berry': 'TX', 'New diana': 'TX', 'Gilmer': 'TX', 'Gladewater': 'TX', 'Harleton': 'TX', 'Zcta 75654': 'TX', 'Hughes springs': 'TX', 'Karnack': 'TX', 'Laneville': 'TX', 'Lone star': 'TX', 'Zcta 75672': 'TX', 'Mount enterprise': 'TX', 'Ore city': 'TX', 'Waskom': 'TX', 'Clarksville city': 'TX', 'Zcta 756hh': 'TX', 'East texas cente': 'TX', 'Arp': 'TX', 'Ben wheeler': 'TX', 'Edom': 'TX', 'Mount selman': 'TX', 'Cuney': 'TX', 'Frankston': 'TX', 'Hawkins': 'WI', 'Larue': 'TX', 'Mt sylvan': 'TX', 'Murchison': 'TX', 'Reklaw': 'TX', 'Dialville': 'TX', 'Sacul': 'TX', 'Troup': 'TX', 'Van': 'WV', 'Zcta 757hh': 'TX', 'Austonio': 'TX', 'Donie': 'TX', 'Slocum': 'TX', 'Grapeland': 'TX', 'Kirvin': 'TX', 'Latexo': 'TX', 'Lovelady': 'TX', 'Montalba': 'TX', 'Streetman': 'TX', 'Teague': 'TX', 'Tennessee colony': 'TX', 'Zcta 758hh': 'TX', 'Keltys': 'TX', 'Lufkin': 'TX', 'Apple springs': 'TX', 'Bon wier': 'TX', 'Broaddus': 'WV', 'Brookeland': 'TX', 'Burkeville': 'VA', 'Call': 'TX', 'Chireno': 'TX', 'Diboll': 'TX', 'Doucette': 'TX', 'Hemphill': 'WV', 'Sam rayburn': 'TX', 'Joaquin': 'TX', 'Bon ami': 'TX', 'Milam': 'WV', 'Appleby': 'TX', 'Nacogdoches': 'TX', 'Pollok': 'TX', 'San augustine': 'TX', 'Tenaha': 'TX', 'Timpson': 'TX', 'Wiergate': 'TX', 'Dogwood': 'TX', 'Zavalla': 'TX', 'Zcta 759hh': 'TX', 'Zcta 759xx': 'TX', 'Zcta 76001': 'TX', 'Zcta 76002': 'TX', 'Azle': 'TX', 'Burleson': 'TX', 'Cleburne': 'TX', 'Colleyville': 'TX', 'Euless': 'TX', 'Glen rose': 'TX', 'Godley': 'TX', 'Granbury': 'TX', 'Haslet': 'TX', 'Joshua': 'TX', 'Kennedale': 'TX', 'Maypearl': 'TX', 'Millsap': 'TX', 'Mineral wells': 'TX', 'Rainbow': 'TX', 'Rhome': 'TX', 'Zcta 76088': 'TX', 'Zcta 760hh': 'TX', 'Fort worth': 'TX', 'White settlement': 'TX', 'River oaks': 'TX', 'Haltom city': 'TX', 'North richland h': 'TX', 'Benbrook': 'TX', 'Carswell afb': 'TX', 'Everman': 'TX', 'Zcta 761hh': 'TX', 'Era': 'TX', 'Lake kiowa': 'TX', 'Justin': 'TX', 'Keller': 'WA', 'Krum': 'TX', 'Muenster': 'TX', 'Nocona': 'TX', 'Ponder': 'TX', 'Trophy club': 'TX', 'Saint jo': 'TX', 'Southmayd': 'TX', 'Zcta 762hh': 'TX', 'Wichita falls': 'TX', 'Sheppard afb': 'TX', 'Archer city': 'TX', 'Burkburnett': 'TX', 'Electra': 'TX', 'Goree': 'TX', 'Iowa park': 'TX', 'Megargel': 'TX', 'Munday': 'WV', 'Oklaunion': 'TX', 'Weinert': 'TX', 'Windthorst': 'TX', 'Zcta 763hh': 'TX', 'Zcta 763xx': 'TX', 'Stephenville': 'TX', 'Bryson': 'TX', 'Blanket': 'TX', 'Bluff dale': 'TX', 'De leon': 'TX', 'Desdemona': 'TX', 'Eastland': 'TX', 'Graford': 'TX', 'Hico': 'WV', 'Jermyn': 'TX', 'Lipan': 'TX', 'Mingus': 'TX', 'Olden': 'TX', 'Rising star': 'TX', 'Santo': 'TX', 'Tolar': 'TX', 'Throckmorton': 'TX', 'Palo pinto': 'TX', 'Perrin': 'TX', 'Poolville': 'TX', 'Whitt': 'TX', 'Zcta 764hh': 'TX', 'Zcta 764xx': 'TX', 'Buckholts': 'TX', 'Izoro': 'TX', 'Davilla': 'TX', 'Eddy': 'TX', 'Bee house': 'TX', 'Turnersville': 'TX', 'Jarrell': 'TX', 'Kempner': 'TX', 'Killeen': 'TX', 'Harker heights': 'TX', 'Fort hood': 'TX', 'Zcta 76548': 'TX', 'Zcta 76549': 'TX', 'Lampasas': 'TX', 'Milano': 'TX', 'Nolanville': 'TX', 'Purmela': 'TX', 'Salado': 'TX', 'Thrall': 'TX', 'Zcta 765hh': 'TX', 'Zcta 765xx': 'TX', 'Abbott': 'TX', 'Aquilla': 'TX', 'Blooming grove': 'TX', 'Blum': 'TX', 'Bremond': 'TX', 'Chilton': 'WI', 'China spring': 'TX', 'Laguna park': 'TX', 'Cranfills gap': 'TX', 'Elm mott': 'TX', 'Iredell': 'TX', 'Italy': 'TX', 'Kopperl': 'TX', 'Kosse': 'TX', 'Lorena': 'TX', 'Lott': 'TX', 'Marlin': 'WA', 'Mart': 'TX', 'Mertens': 'TX', 'Mexia': 'TX', 'Mount calm': 'TX', 'Penelope': 'TX', 'Prairie hill': 'TX', 'Purdon': 'TX', 'Riesel': 'TX', 'Satin': 'TX', 'Tehuacana': 'TX', 'Valley mills': 'TX', 'Walnut springs': 'TX', 'Wortham': 'TX', 'Zcta 766hh': 'TX', 'Bellmead': 'TX', 'Woodway': 'WA', 'Zcta 767hh': 'TX', 'Zcta 76802': 'TX', 'Ballinger': 'TX', 'Bangs': 'TX', 'Fife': 'WA', 'Brookesmith': 'TX', 'Burkett': 'TX', 'Castell': 'TX', 'Fort mc kavett': 'TX', 'Goldthwaite': 'TX', 'Gouldbusk': 'TX', 'Hext': 'TX', 'Lohn': 'TX', 'Lometa': 'TX', 'Menard': 'TX', 'Millersview': 'TX', 'Mullin': 'TX', 'Priddy': 'TX', 'Richland springs': 'TX', 'Rowena': 'TX', 'San saba': 'TX', 'Santa anna': 'TX', 'Talpa': 'TX', 'Valera': 'TX', 'Valley spring': 'TX', 'Voca': 'TX', 'Leaday': 'TX', 'Zephyr': 'TX', 'Zcta 768hh': 'TX', 'Zcta 768xx': 'TX', 'San angelo': 'TX', 'Best': 'TX', 'Bronte': 'TX', 'Christoval': 'TX', 'Mereta': 'TX', 'Mertzon': 'TX', 'Ozona': 'TX', 'Robert lee': 'TX', 'Silver': 'TX', 'Sterling city': 'TX', 'Vancourt': 'TX', 'Zcta 769hh': 'TX', 'Zcta 769xx': 'TX', 'Jacinto city': 'TX', 'V a hospital': 'TX', 'Jersey village': 'TX', 'Conroe': 'TX', 'Grangerland': 'TX', 'Cut and shoot': 'TX', 'Panorama village': 'TX', 'Zcta 77306': 'TX', 'Zcta 77316': 'TX', 'Zcta 77318': 'TX', 'Zcta 77320': 'TX', 'Ace': 'TX', 'Coldspring': 'TX', 'Dobbin': 'TX', 'Huffman': 'TX', 'Humble': 'TX', 'Segno': 'TX', 'Zcta 77354': 'TX', 'New caney': 'TX', 'Onalaska': 'WI', 'Pointblank': 'TX', 'Romayor': 'TX', 'Splendora': 'TX', 'Spring': 'TX', 'Thicket': 'TX', 'Tomball': 'TX', 'Votaw': 'TX', 'Klein': 'TX', 'The woodlands': 'TX', 'Zcta 773hh': 'TX', 'Zcta 773xx': 'TX', 'Altair': 'TX', 'Cedar lane': 'TX', 'Beasley': 'TX', 'Blessing': 'TX', 'Boling': 'TX', 'Brazoria': 'TX', 'Brookshire': 'TX', 'Chappell hill': 'TX', 'Collegeport': 'TX', 'Damon': 'TX', 'Danevang': 'TX', 'East bernard': 'TX', 'El campo': 'TX', 'Elmaton': 'TX', 'Fulshear': 'TX', 'Glen flora': 'TX', 'Hockley': 'TX', 'Hungerford': 'TX', 'Park row': 'TX', 'Kendleton': 'TX', 'Lissie': 'TX', 'Matagorda': 'TX', 'Needville': 'TX', 'Old ocean': 'TX', 'Palacios': 'TX', 'Pledger': 'TX', 'Clodine': 'TX', 'Rosenberg': 'TX', 'San felipe': 'TX', 'Sealy': 'TX', 'Simonton': 'TX', 'Sugar land': 'TX', 'Sweeny': 'TX', 'Thompsons': 'TX', 'Van vleck': 'TX', 'Waller': 'TX', 'Wallis': 'TX', 'Zcta 774hh': 'TX', 'Zcta 774xx': 'TX', 'Angleton': 'TX', 'Bacliff': 'TX', 'Batson': 'TX', 'Baytown': 'TX', 'Channelview': 'TX', 'Clute': 'TX', 'Daisetta': 'TX', 'Devers': 'TX', 'San leon': 'TX', 'Quintana': 'TX', 'Friendswood': 'TX', 'Galena park': 'TX', 'Hankamer': 'TX', 'Clear lake shore': 'TX', 'Lake jackson': 'TX', 'La marque': 'TX', 'Shoreacres': 'TX', 'League city': 'TX', 'Pearland': 'TX', 'Raywood': 'TX', 'Rosharon': 'TX', 'El lago': 'TX', 'South houston': 'TX', 'Texas city': 'TX', 'Wallisville': 'TX', 'Zcta 775hh': 'TX', 'Zcta 775xx': 'TX', 'Buna': 'TX', 'Deweyville': 'UT', 'Evadale': 'TX', 'Fred': 'TX', 'Groves': 'TX', 'Hamshire': 'TX', 'High island': 'TX', 'Hillister': 'TX', 'Kountze': 'TX', 'Port acres': 'TX', 'Port arthur': 'TX', 'Port neches': 'TX', 'Sabine pass': 'TX', 'Silsbee': 'TX', 'Zcta 77657': 'TX', 'Sour lake': 'TX', 'Spurger': 'TX', 'Vidor': 'TX', 'Village mills': 'TX', 'Winnie': 'TX', 'Zcta 776hh': 'TX', 'Zcta 776xx': 'TX', 'Zcta 777hh': 'TX', 'Zcta 777xx': 'TX', 'Singleton': 'TX', 'Brenham': 'TX', 'Dime box': 'TX', 'Flynn': 'TX', 'Gause': 'TX', 'Hearne': 'TX', 'Iola': 'WI', 'Marquez': 'TX', 'Millican': 'TX', 'Mumford': 'TX', 'Navasota': 'TX', 'Hilltop lakes': 'TX', 'North zulch': 'TX', 'Shiro': 'TX', 'Snook': 'TX', 'Zcta 778hh': 'TX', 'Austwell': 'TX', 'Cuero': 'TX', 'Fannin': 'TX', 'Francitas': 'TX', 'Goliad': 'TX', 'Hallettsville': 'TX', 'Inez': 'TX', 'La ward': 'TX', 'Lolita': 'TX', 'Mcfaddin': 'TX', 'Meyersville': 'TX', 'Placedo': 'TX', 'Point comfort': 'TX', 'Port lavaca': 'TX', 'Port o connor': 'TX', 'Seadrift': 'TX', 'Shiner': 'TX', 'Telferner': 'TX', 'Westhoff': 'TX', 'Yoakum': 'TX', 'Zcta 779hh': 'TX', 'Zcta 779xx': 'TX', 'Artesia wells': 'TX', 'Atascosa': 'TX', 'Bandera': 'TX', 'Bergheim': 'TX', 'Bigfoot': 'TX', 'Sisterdale': 'TX', 'Calliham': 'TX', 'Comfort': 'WV', 'Cotulla': 'TX', 'Zcta 78015': 'TX', 'Devine': 'TX', 'Dilley': 'TX', 'Encinal': 'TX', 'George west': 'TX', 'Grey forest': 'TX', 'Ingram': 'WI', 'Jourdanton': 'TX', 'Kendalia': 'TX', 'Kerrville': 'TX', 'La coste': 'TX', 'Rio bravo': 'TX', 'Zcta 78045': 'TX', 'Zcta 78046': 'TX', 'Leming': 'TX', 'Lytle': 'TX', 'Mico': 'TX', 'Natalia': 'TX', 'Pearsall': 'TX', 'Lakehills': 'TX', 'Poteet': 'TX', 'Riomedina': 'TX', 'San ygnacio': 'TX', 'Spring branch': 'TX', 'Von ormy': 'TX', 'Waring': 'TX', 'Zapata': 'TX', 'Zcta 780hh': 'TX', 'Zcta 780xx': 'TX', 'Adkins': 'TX', 'Beeville': 'TX', 'Berclair': 'TX', 'Cibolo': 'TX', 'Elmendorf': 'TX', 'Floresville': 'TX', 'Hobson': 'TX', 'Karnes city': 'TX', 'Kenedy': 'TX', 'La vernia': 'TX', 'Mc queeney': 'TX', 'Nordheim': 'TX', 'Normanna': 'TX', 'Panna maria': 'TX', 'Pettus': 'TX', 'Poth': 'TX', 'Randolph a f b': 'TX', 'Runge': 'TX', 'Saint hedwig': 'TX', 'Seguin': 'TX', 'Smiley': 'TX', 'Sutherland sprin': 'TX', 'Zcta 781hh': 'TX', 'Zcta 781xx': 'TX', 'Balcones heights': 'TX', 'Alamo heights': 'TX', 'Olmos park': 'TX', 'Castle hills': 'TX', 'Shavano park': 'TX', 'Hollywood park': 'TX', 'Fort sam houston': 'TX', 'Brooks a f b': 'TX', 'Wilford hall u s': 'TX', 'Leon valley': 'TX', 'Windcrest': 'TX', 'Garden ridge': 'TX', 'Zcta 782hh': 'TX', 'Zcta 782xx': 'TX', 'Alice': 'TX', 'Aransas pass': 'TX', 'Banquete': 'TX', 'Bruni': 'TX', 'Chapman ranch': 'TX', 'Concepcion': 'TX', 'Edroy': 'TX', 'Falfurrias': 'TX', 'Freer': 'TX', 'Hebbronville': 'TX', 'Kingsville naval': 'TX', 'Mathis': 'TX', 'Mirando city': 'TX', 'Odem': 'TX', 'Orange grove': 'TX', 'Port aransas': 'TX', 'Premont': 'TX', 'Realitos': 'TX', 'Refugio': 'TX', 'Riviera': 'TX', 'Robstown': 'TX', 'Sandia': 'TX', 'Sarita': 'TX', 'Sinton': 'TX', 'Tynan': 'TX', 'Zcta 783hh': 'TX', 'Zcta 783xx': 'TX', 'Corpus christi': 'TX', 'Zcta 784hh': 'TX', 'Mcallen': 'TX', 'Donna': 'TX', 'Monte alto': 'TX', 'Elsa': 'TX', 'Falcon heights': 'TX', 'Garciasville': 'TX', 'Grulla': 'TX', 'Hargill': 'TX', 'Harlingen': 'TX', 'La blanca': 'TX', 'La feria': 'TX', 'La joya': 'TX', 'La villa': 'TX', 'Los ebanos': 'TX', 'Lyford': 'TX', 'Mercedes': 'TX', 'Olmito': 'TX', 'Penitas': 'TX', 'Pharr': 'TX', 'Port isabel': 'TX', 'Progreso': 'TX', 'Rio grande city': 'TX', 'Rio hondo': 'TX', 'Roma': 'TX', 'San benito': 'TX', 'San isidro': 'TX', 'San juan': 'TX', 'Sullivan city': 'TX', 'Weslaco': 'TX', 'South padre isla': 'TX', 'Port mansfield': 'TX', 'Zcta 785hh': 'TX', 'Zcta 785xx': 'TX', 'Bertram': 'TX', 'Briggs': 'TX', 'Buchanan dam': 'TX', 'Burnet': 'TX', 'Cedar park': 'TX', 'Cost': 'TX', 'Coupland': 'TX', 'Del valle': 'TX', 'Doss': 'TX', 'Dripping springs': 'TX', 'Fentress': 'VA', 'Fischer': 'TX', 'Andice': 'TX', 'Hutto': 'TX', 'Hye': 'TX', 'Uhland': 'TX', 'Mc dade': 'TX', 'Manchaca': 'TX', 'Cypress mill': 'TX', 'Martindale': 'TX', 'Zcta 78657': 'TX', 'Ottine': 'TX', 'Paige': 'TX', 'Pflugerville': 'TX', 'Prairie lea': 'TX', 'Spicewood': 'TX', 'Tow': 'TX', 'Wimberley': 'TX', 'Zcta 786hh': 'TX', 'Lakeway': 'TX', 'West lake hills': 'TX', 'Zcta 787hh': 'TX', 'Uvalde': 'TX', 'Asherton': 'TX', 'Barksdale': 'TX', 'Big wells': 'TX', 'Brackettville': 'TX', 'Camp wood': 'TX', 'Carrizo springs': 'TX', 'Catarina': 'TX', 'Concan': 'TX', 'Laughlin a f b': 'TX', 'D hanis': 'TX', 'Eagle pass': 'TX', 'El indio': 'TX', 'Dunlay': 'TX', 'Knippa': 'TX', 'La pryor': 'TX', 'Leakey': 'TX', 'Rio frio': 'TX', 'Rocksprings': 'TX', 'Sabinal': 'TX', 'Tarpley': 'TX', 'Utopia': 'TX', 'Vanderpool': 'TX', 'Yancey': 'TX', 'Zcta 788hh': 'TX', 'Zcta 788xx': 'TX', 'Carmine': 'TX', 'Cat spring': 'TX', 'Alleyton': 'TX', 'Ellinger': 'TX', 'Flatonia': 'TX', 'Giddings': 'TX', 'Muldoon': 'TX', 'Rosanky': 'TX', 'Schulenburg': 'TX', 'Waelder': 'TX', 'Warda': 'TX', 'Zcta 789hh': 'TX', 'Alanreed': 'TX', 'Booker': 'TX', 'Bovina': 'TX', 'Briscoe': 'TX', 'Bushland': 'TX', 'Cactus': 'TX', 'Glazier': 'TX', 'Claude': 'TX', 'Cotton center': 'TX', 'Dalhart': 'TX', 'Darrouzett': 'TX', 'Dimmitt': 'TX', 'Earth': 'TX', 'Edmonson': 'TX', 'Farnsworth': 'TX', 'Follett': 'TX', 'Fritch': 'TX', 'Groom': 'TX', 'Hale center': 'TX', 'Higgins': 'TX', 'Kress': 'TX', 'Lazbuddie': 'TX', 'Lefors': 'TX', 'Lipscomb': 'TX', 'Kellerville': 'TX', 'Mobeetie': 'TX', 'Morse': 'TX', 'Olton': 'TX', 'Pampa': 'TX', 'Panhandle': 'TX', 'Perryton': 'TX', 'Twitty': 'TX', 'Skellytown': 'TX', 'Spearman': 'TX', 'Springlake': 'TX', 'Sunray': 'TX', 'Texline': 'TX', 'Vigo park': 'TX', 'Umbarger': 'TX', 'Vega': 'TX', 'Waka': 'TX', 'Wildorado': 'TX', 'Zcta 790hh': 'TX', 'Zcta 790xx': 'TX', 'Amarillo': 'TX', 'Zcta 791hh': 'TX', 'Zcta 791xx': 'TX', 'Cee vee': 'TX', 'Crowell': 'TX', 'Estelline': 'TX', 'Flomot': 'TX', 'Floydada': 'TX', 'Hedley': 'TX', 'Lelia lake': 'TX', 'Lockney': 'TX', 'Matador': 'TX', 'Chalk': 'TX', 'Quail': 'TX', 'Quanah': 'TX', 'Quitaque': 'TX', 'Roaring springs': 'TX', 'Tell': 'TX', 'Zcta 792hh': 'TX', 'Zcta 792xx': 'TX', 'Abernathy': 'TX', 'Bledsoe': 'TX', 'Bula': 'TX', 'Crosbyton': 'TX', 'Denver city': 'TX', 'Enochs': 'TX', 'Fieldton': 'TX', 'Idalou': 'TX', 'Justiceburg': 'TX', 'Lamesa': 'TX', 'Levelland': 'TX', 'Loop': 'TX', 'Lorenzo': 'TX', 'Muleshoe': 'TX', 'New deal': 'TX', 'Odonnell': 'TX', 'Cone': 'TX', 'Ropesville': 'TX', 'Seagraves': 'TX', 'Shallowater': 'TX', 'Ransom canyon': 'TX', 'Smyer': 'TX', 'Spade': 'TX', 'Spur': 'TX', 'Sudan': 'TX', 'Sundown': 'TX', 'Tahoka': 'TX', 'Whiteface': 'TX', 'Whitharral': 'TX', 'Wolfforth': 'TX', 'New home': 'TX', 'Zcta 793hh': 'TX', 'Zcta 793xx': 'TX', 'Lubbock': 'TX', 'Aspermont': 'TX', 'Benjamin': 'TX', 'Fluvanna': 'TX', 'Hermleigh': 'TX', 'Jayton': 'TX', 'Lueders': 'TX', 'Mc caulley': 'TX', 'Maryneal': 'TX', 'Merkel': 'TX', 'Nolan': 'TX', 'Novice': 'TX', 'Old glory': 'TX', 'Ovalo': 'TX', 'Rotan': 'TX', 'Rule': 'TX', 'Sagerton': 'TX', 'Tye': 'TX', 'Zcta 795hh': 'TX', 'Zcta 795xx': 'TX', 'Dyess afb': 'TX', 'Zcta 796xx': 'TX', 'Ackerly': 'TX', 'Balmorhea': 'TX', 'Vealmoor': 'TX', 'Coyanosa': 'TX', 'Forsan': 'TX', 'Fort stockton': 'TX', 'Gail': 'TX', 'Girvin': 'TX', 'Grandfalls': 'TX', 'Iraan': 'TX', 'Kermit': 'WV', 'Knott': 'TX', 'Lenorah': 'TX', 'Mc camey': 'TX', 'Midkiff': 'WV', 'Monahans': 'TX', 'Notrees': 'TX', 'Verhalen': 'TX', 'Penwell': 'TX', 'Pyote': 'TX', 'Saragosa': 'TX', 'Tarzan': 'TX', 'Toyah': 'TX', 'Wickett': 'TX', 'Wink': 'TX', 'Zcta 797hh': 'TX', 'Zcta 797xx': 'TX', 'Big bend nationa': 'TX', 'Canutillo': 'TX', 'Clint': 'TX', 'Dell city': 'TX', 'Fabens': 'TX', 'Marfa': 'TX', 'Presidio': 'TX', 'Salt flat': 'TX', 'San elizario': 'TX', 'Sierra blanca': 'TX', 'Terlingua': 'TX', 'Tornillo': 'TX', 'Zcta 798xx': 'TX', 'Fort bliss': 'TX', 'Horizon city': 'TX', 'Zcta 799xx': 'TX', 'Altonah': 'UT', 'American fork': 'UT', 'Bingham canyon': 'UT', 'Bluebell': 'UT', 'Bountiful': 'UT', 'Cedar valley': 'UT', 'Coalville': 'UT', 'Duchesne': 'UT', 'Dugway': 'UT', 'Dutch john': 'UT', 'Fort duchesne': 'UT', 'Grantsville': 'WV', 'Heber city': 'UT', 'Henefer': 'UT', 'Ibapah': 'UT', 'Jensen': 'UT', 'Kamas': 'UT', 'Kaysville': 'UT', 'Laketown': 'UT', 'Lapoint': 'UT', 'Lehi': 'UT', 'Magna': 'UT', 'Myton': 'UT', 'North salt lake': 'UT', 'Hill air force b': 'UT', 'Orem': 'UT', 'Vineyard': 'UT', 'Peoa': 'UT', 'Rush valley': 'UT', 'Tabiona': 'UT', 'Tooele': 'UT', 'Tridell': 'UT', 'Vernal': 'UT', 'Wallsburg': 'UT', 'West jordan': 'UT', 'Whiterocks': 'UT', 'Woods cross': 'UT', 'South jordan': 'UT', 'Zcta 84097': 'UT', 'Zcta 84098': 'UT', 'Zcta 840hh': 'UT', 'Zcta 840xx': 'UT', 'Salt lake city': 'UT', 'South salt lake': 'UT', 'Kearns': 'UT', 'West valley city': 'UT', 'Zcta 841hh': 'UT', 'Zcta 841xx': 'UT', 'Bear river city': 'UT', 'Brigham city': 'UT', 'Cache junction': 'UT', 'Corinne': 'WV', 'Fielding': 'UT', 'Grouse creek': 'UT', 'Honeyville': 'UT', 'Hyrum': 'UT', 'Park valley': 'UT', 'Snowville': 'UT', 'Tremonton': 'UT', 'Zcta 84341': 'UT', 'Zcta 843hh': 'UT', 'Zcta 843xx': 'UT', 'Zcta 844hh': 'UT', 'Price': 'UT', 'Aneth': 'UT', 'Blanding': 'UT', 'Bluff': 'UT', 'Castle dale': 'UT', 'East carbon': 'UT', 'Ferron': 'UT', 'Green river': 'WY', 'Helper': 'UT', 'La sal': 'UT', 'Mexican hat': 'UT', 'Moab': 'UT', 'Bullfrog': 'UT', 'Montezuma creek': 'UT', 'Monument valley': 'UT', 'Zcta 845hh': 'UT', 'Centerfield': 'UT', 'Ephraim': 'WI', 'Fountain green': 'UT', 'Kanosh': 'UT', 'Leamington': 'UT', 'Levan': 'UT', 'Lynndyl': 'UT', 'Manti': 'UT', 'Mona': 'UT', 'Moroni': 'UT', 'Nephi': 'UT', 'Genola': 'UT', 'Sigurd': 'UT', 'Spanish fork': 'UT', 'Zcta 846hh': 'UT', 'Zcta 846xx': 'UT', 'Annabella': 'UT', 'Antimony': 'UT', 'Beryl': 'UT', 'Bryce canyon': 'UT', 'Cannonville': 'UT', 'Brian head': 'UT', 'Pintura': 'UT', 'Elsinore': 'UT', 'Escalante': 'UT', 'Gunlock': 'UT', 'Hanksville': 'UT', 'Henrieville': 'UT', 'Hurricane': 'WV', 'Ivins': 'UT', 'Big water': 'UT', 'Koosharem': 'UT', 'La verkin': 'UT', 'Marysvale': 'UT', 'Orderville': 'UT', 'Panguitch': 'UT', 'Paragonah': 'UT', 'Parowan': 'UT', 'Duck creek villa': 'UT', 'Bryce': 'UT', 'Sevier': 'UT', 'St george': 'UT', 'Teasdale': 'UT', 'Toquerville': 'UT', 'Torrey': 'UT', 'Tropic': 'UT', 'Virgin': 'UT', 'Veyo': 'UT', 'Dammeron valley': 'UT', 'Zcta 84790': 'UT', 'Zcta 847hh': 'UT', 'Zcta 847xx': 'UT', 'White river junc': 'VT', 'Bridgewater corn': 'VT', 'East randolph': 'VT', 'East thetford': 'VT', 'Fairlee': 'VT', 'North hartland': 'VT', 'North pomfret': 'VT', 'North thetford': 'VT', 'Post mills': 'VT', 'Quechee': 'VT', 'Randolph center': 'VT', 'South pomfret': 'VT', 'South royalton': 'VT', 'South ryegate': 'VT', 'South strafford': 'VT', 'South woodstock': 'VT', 'Taftsville': 'VT', 'Thetford': 'VT', 'Thetford center': 'VT', 'Tunbridge': 'VT', 'Vershire': 'VT', 'Wells river': 'VT', 'West fairlee': 'VT', 'West hartford': 'VT', 'West topsham': 'VT', 'Zcta 050hh': 'VT', 'Bellows falls': 'VT', 'Cavendish': 'VT', 'Bromley mtn': 'VT', 'North springfiel': 'VA', 'Perkinsville': 'VT', 'Proctorsville': 'VT', 'Saxtons river': 'VT', 'South londonderr': 'VT', 'East arlington': 'VT', 'East dorset': 'VT', 'Manchester cente': 'VT', 'North bennington': 'VT', 'North pownal': 'VT', 'Shaftsbury': 'VT', 'Brattleboro': 'VT', 'East dover': 'VT', 'Readsboro': 'VT', 'South newfane': 'VT', 'Townshend': 'VT', 'Wardsboro': 'VT', 'Mount snow': 'VT', 'West halifax': 'VT', 'West townshend': 'VT', 'West wardsboro': 'VT', 'Whitingham': 'VT', 'Zcta 053hh': 'VT', 'Zcta 053xx': 'VT', 'South burlington': 'VT', 'Winooski': 'VT', 'Alburg': 'VT', 'Belvidere center': 'VT', 'East fairfield': 'VT', 'Enosburg falls': 'VT', 'Essex junction': 'VT', 'Ferrisburg': 'VT', 'Highgate center': 'VT', 'Hinesburg': 'VT', 'Isle la motte': 'VT', 'Smugglers notch': 'VT', 'Jericho center': 'VT', 'Montgomery cente': 'VT', 'North ferrisburg': 'VT', 'North hero': 'VT', 'Bolton valley': 'VT', 'Shelburne': 'VT', 'South hero': 'VT', 'Starksboro': 'VT', 'Underhill': 'VT', 'Zcta 054hh': 'VT', 'Adamant': 'VT', 'East barre': 'VT', 'East calais': 'VT', 'East montpelier': 'VT', 'Eden mills': 'VT', 'Lake elmore': 'VT', 'Moretown': 'VT', 'Northfield falls': 'VT', 'North montpelier': 'VT', 'Stowe': 'VT', 'Waitsfield': 'VT', 'Sugarbush valley': 'VT', 'Washgtin': 'VT', 'Waterbury center': 'VT', 'Websterville': 'VT', 'Zcta 056hh': 'VT', 'Hubbardton': 'VT', 'Bridport': 'VT', 'Center rutland': 'VT', 'Chittenden': 'VT', 'Cuttingsville': 'VT', 'Danby': 'VT', 'East wallingford': 'VT', 'Gaysville': 'VT', 'Hydeville': 'VT', 'Killington': 'VT', 'Bread loaf': 'VT', 'Middletown sprin': 'VT', 'North clarendon': 'VT', 'Orwell': 'VT', 'Pawlet': 'VT', 'Poultney': 'VT', 'Ripton': 'VT', 'West pawlet': 'VT', 'West rupert': 'VT', 'West rutland': 'VT', 'Leicester juncti': 'VT', 'Zcta 057hh': 'VT', 'Saint johnsbury': 'VT', 'Barnet': 'VT', 'Craftsbury': 'VT', 'Craftsbury commo': 'VT', 'Derby line': 'VT', 'East burke': 'VT', 'East charleston': 'VT', 'East hardwick': 'VT', 'Glover': 'VT', 'Greensboro bend': 'VT', 'Irasburg': 'VT', 'Island pond': 'VT', 'Morgan ctr': 'VT', 'Newport center': 'VT', 'North concord': 'VT', 'Jay peak': 'VT', 'West burke': 'VT', 'West charleston': 'VT', 'West danville': 'VT', 'West glover': 'VT', 'Zcta 058hh': 'VT', 'Beecher falls': 'VT', 'Guildhall': 'VT', 'Zcta 20105': 'VA', 'Zcta 20106': 'VA', 'Zcta 20109': 'VA', 'Zcta 20110': 'VA', 'Zcta 20111': 'VA', 'Zcta 20112': 'VA', 'Zcta 20115': 'VA', 'Zcta 20117': 'VA', 'Zcta 20118': 'VA', 'Zcta 20119': 'VA', 'Zcta 20120': 'VA', 'Zcta 20121': 'VA', 'Zcta 20124': 'VA', 'Zcta 20129': 'VA', 'Zcta 20130': 'VA', 'Zcta 20132': 'VA', 'Zcta 20135': 'VA', 'Zcta 20136': 'VA', 'Zcta 20137': 'VA', 'Zcta 20138': 'VA', 'Zcta 20139': 'VA', 'Zcta 20140': 'VA', 'Zcta 20141': 'VA', 'Zcta 20143': 'VA', 'Zcta 20144': 'VA', 'Zcta 20147': 'VA', 'Zcta 20148': 'VA', 'Zcta 20151': 'VA', 'Zcta 20152': 'VA', 'Zcta 20155': 'VA', 'Zcta 20158': 'VA', 'Dulles': 'VA', 'Zcta 20169': 'VA', 'Zcta 20170': 'VA', 'Zcta 20171': 'VA', 'Zcta 20175': 'VA', 'Zcta 20176': 'VA', 'Zcta 20180': 'VA', 'Zcta 20181': 'VA', 'Zcta 20184': 'VA', 'Zcta 20186': 'VA', 'Zcta 20187': 'VA', 'Zcta 20190': 'VA', 'Zcta 20191': 'VA', 'Zcta 20194': 'VA', 'Zcta 20197': 'VA', 'Zcta 20198': 'VA', 'Zcta 201hh': 'VA', 'Dumfries': 'VA', 'Dunn loring': 'VA', 'Fairfax station': 'VA', 'Baileys crossroa': 'VA', 'Pimmit': 'VA', 'Seven corners': 'VA', 'Falls church': 'VA', 'Fort belvoir': 'VA', 'Mason neck': 'VA', 'Zcta 220hh': 'VA', 'West mclean': 'VA', 'Oakton': 'VA', 'Occoquan': 'VA', 'Triangle': 'VA', 'Lakeridge': 'VA', 'Dale city': 'VA', 'Zcta 221hh': 'VA', 'Jefferson manor': 'VA', 'Community': 'VA', 'Belle view': 'VA', 'Engleside': 'VA', 'Zcta 223hh': 'VA', 'Burgess': 'VA', 'Burr hill': 'VA', 'Caret': 'VA', 'Center cross': 'VA', 'Howertons': 'VA', 'Farnham': 'VA', 'Heathsville': 'VA', 'Hustle': 'VA', 'Kilmarnock': 'VA', 'King george': 'VA', 'Kinsale': 'VA', 'Zcta 224hh': 'VA', 'Zcta 224xx': 'VA', 'Laneview': 'VA', 'Lively': 'VA', 'Lottsburg': 'VA', 'Montross': 'VA', 'Oldhams': 'VA', 'Partlow': 'VA', 'Rappahannock aca': 'VA', 'Reedville': 'VA', 'Rhoadesville': 'VA', 'Ruther glen': 'VA', 'Sharps': 'VA', 'Snell': 'VA', 'Tappahannock': 'VA', 'Nomini grove': 'VA', 'Weems': 'VA', 'Windmill point': 'VA', 'Wicomico church': 'VA', 'Woodford': 'VA', 'Zcta 225hh': 'VA', 'Zcta 225xx': 'VA', 'Browntown': 'WI', 'Clear brook': 'VA', 'Whitacre': 'VA', 'Fishers hill': 'VA', 'Flint hill': 'VA', 'Front royal': 'VA', 'Huntly': 'VA', 'Lebanon church': 'VA', 'Maurertown': 'VA', 'Rileyville': 'VA', 'Saint davids chu': 'VA', 'Star tannery': 'VA', 'Stephens city': 'VA', 'Toms brook': 'VA', 'White post': 'VA', 'Zcta 226hh': 'VA', 'Raccoon ford': 'VA', 'Aroda': 'VA', 'Banco': 'VA', 'Brandy station': 'VA', 'Elkwood': 'VA', 'Etlan': 'VA', 'Goldvein': 'VA', 'Haywood': 'WV', 'Jeffersonton': 'VA', 'Lignum': 'VA', 'Aylor': 'VA', 'Mitchells': 'VA', 'Oakpark': 'VA', 'Pratts': 'VA', 'Radiant': 'VA', 'Rapidan': 'VA', 'Richardsville': 'VA', 'Rixeyville': 'VA', 'Uno': 'VA', 'Sperryville': 'VA', 'Stevensburg': 'VA', 'Sumerduck': 'VA', 'Syria': 'VA', 'Viewtown': 'VA', 'Zcta 227xx': 'VA', 'Zcta 22802': 'VA', 'Basye': 'VA', 'Bergton': 'VA', 'Criders': 'VA', 'Fulks run': 'VA', 'Keezletown': 'VA', 'Mc gaheysville': 'VA', 'Mount crawford': 'VA', 'Conicville': 'VA', 'Mount solon': 'VA', 'Orkney springs': 'VA', 'Shenandoah caver': 'VA', 'Singers glen': 'VA', 'Timberville': 'VA', 'Zcta 228hh': 'VA', 'Zcta 228xx': 'VA', 'Zcta 22911': 'VA', 'Tye river': 'VA', 'Burnleys': 'VA', 'Covesville': 'VA', 'Yancey mills': 'VA', 'Boonesville': 'VA', 'Earlysville': 'VA', 'Esmont': 'VA', 'Faber': 'VA', 'Woodrow wilson': 'VA', 'Mission home': 'VA', 'Cashs corner': 'VA', 'Boyd tavern': 'VA', 'Locust dale': 'VA', 'Lovingston': 'VA', 'Sherando': 'VA', 'Massies mill': 'VA', 'Montpelier stati': 'VA', 'Wintergreen': 'VA', 'Alberene': 'VA', 'Montford': 'VA', 'Piney river': 'VA', 'Advance mills': 'VA', 'Rockfish': 'VA', 'Geer': 'VA', 'Woodberry forest': 'VA', 'Zcta 229hh': 'VA', 'Zcta 229xx': 'VA', 'Achilles': 'VA', 'Amelia court hou': 'VA', 'Arvonia': 'VA', 'Aylett': 'VA', 'Barhamsville': 'VA', 'Bohannon': 'VA', 'Bremo bluff': 'VA', 'Bruington': 'VA', 'Bumpass': 'VA', 'Church view': 'VA', 'Blakes': 'VA', 'Crozier': 'VA', 'Deltaville': 'VA', 'Diggs': 'VA', 'Doswell': 'VA', 'Fork union': 'VA', 'Pinero': 'VA', 'Gloucester point': 'VA', 'Goochland': 'VA', 'Grimstead': 'VA', 'Gum spring': 'VA', 'Gwynn': 'VA', 'Hallieford': 'VA', 'Hartfield': 'VA', 'Highland springs': 'VA', 'Redart': 'VA', 'Jetersville': 'VA', 'Kents store': 'VA', 'King and queen c': 'VA', 'King william': 'VA', 'Lanexa': 'VA', 'Little plymouth': 'VA', 'Louisa': 'VA', 'Zcta 230hh': 'VA', 'Dabneys': 'VA', 'Manakin sabot': 'VA', 'Manquin': 'VA', 'Shanghai': 'VA', 'Millers tavern': 'VA', 'Zcta 23116': 'VA', 'Moon': 'VA', 'Moseley': 'VA', 'New kent': 'VA', 'Oilville': 'VA', 'Onemo': 'VA', 'Bavon': 'VA', 'Providence forge': 'VA', 'Indian neck': 'VA', 'Sandston': 'VA', 'Plain view': 'VA', 'Shadow': 'VA', 'Toano': 'VA', 'Syringa': 'VA', 'Remlik': 'VA', 'Wake': 'VA', 'Ware neck': 'VA', 'Water view': 'VA', 'Wicomico': 'VA', 'College of willi': 'VA', 'Zcta 231hh': 'VA', 'Regency': 'VA', 'Ampthill': 'VA', 'Bon air': 'VA', 'Zcta 232hh': 'VA', 'Accomac': 'VA', 'Assawoman': 'VA', 'Battery park': 'VA', 'Belle haven': 'VA', 'Birdsnest': 'VA', 'Bloxom': 'VA', 'Cape charles': 'VA', 'Cheriton': 'VA', 'Bowers hill': 'VA', 'Chincoteague': 'VA', 'Wallops island': 'VA', 'Eastville': 'VA', 'Exmore': 'VA', 'Greenbackville': 'VA', 'Hacksneck': 'VA', 'Hallwood': 'VA', 'Harborton': 'VA', 'Horntown': 'VA', 'Zcta 233hh': 'VA', 'Locustville': 'VA', 'Machipongo': 'VA', 'Mappsville': 'VA', 'Melfa': 'VA', 'Nassawadox': 'VA', 'New church': 'VA', 'Oak hall': 'VA', 'Onancock': 'VA', 'Onley': 'VA', 'Painter': 'VA', 'Parksley': 'VA', 'Saxis': 'VA', 'Suffolk': 'VA', 'Tangier': 'VA', 'Tasley': 'VA', 'Temperanceville': 'VA', 'Virginia beach': 'VA', 'Blackwater bridg': 'VA', 'Wachapreague': 'VA', 'Withams': 'VA', 'Zcta 234hh': 'VA', 'Naval amphibious': 'VA', 'Zcta 235hh': 'VA', 'Newport news': 'VA', 'Poquoson': 'VA', 'Naval weapons st': 'VA', 'Tabb': 'VA', 'Zcta 236hh': 'VA', 'Zcta 237hh': 'VA', 'Ettrick': 'WI', 'Boykins': 'VA', 'Church road': 'VA', 'Zcta 23836': 'VA', 'Dendron': 'VA', 'Dinwiddie': 'VA', 'Disputanta': 'VA', 'Dolphin': 'VA', 'Drewryville': 'VA', 'Ebony': 'VA', 'Gasburg': 'VA', 'Ivor': 'VA', 'Jarratt': 'VA', 'Triplet': 'VA', 'Mc kenney': 'VA', 'Newsoms': 'VA', 'Prince george': 'VA', 'Sedley': 'VA', 'Skippers': 'VA', 'Valentines': 'VA', 'Warfield': 'VA', 'Wilsons': 'VA', 'Zcta 238hh': 'VA', 'Zcta 238xx': 'VA', 'Baskerville': 'VA', 'Boydton': 'VA', 'Bracey': 'VA', 'Brodnax': 'VA', 'Charlotte court': 'VA', 'Chase city': 'VA', 'Crewe': 'VA', 'Sprouses corner': 'VA', 'Drakes branch': 'VA', 'Green bay': 'WI', 'Hampden sydney': 'VA', 'Kenbridge': 'VA', 'Blackridge': 'VA', 'Meherrin': 'VA', 'Pamplin': 'VA', 'Phenix': 'VA', 'Red house': 'WV', 'Saxe': 'VA', 'Skipwith': 'VA', 'South hill': 'VA', 'Wylliesburg': 'VA', 'Zcta 239hh': 'VA', 'Hollins college': 'VA', 'Axton': 'VA', 'Belspring': 'VA', 'Bent mountain': 'VA', 'Whitethorne': 'VA', 'Boones mill': 'VA', 'Simpsons': 'VA', 'Claudville': 'VA', 'Copper hill': 'VA', 'Critz': 'VA', 'Eggleston': 'VA', 'Ironto': 'VA', 'Ferrum': 'VA', 'Fieldale': 'VA', 'Fincastle': 'VA', 'Alum ridge': 'VA', 'Gladehill': 'VA', 'Glen lyn': 'VA', 'Goldbond': 'VA', 'Zcta 240hh': 'VA', 'Huddleston': 'VA', 'Meadows of dan': 'VA', 'Moneta': 'VA', 'Narrows': 'VA', 'Paint bank': 'VA', 'Patrick springs': 'VA', 'Pearisburg': 'VA', 'Penhook': 'VA', 'Pilot': 'VA', 'Rich creek': 'VA', 'Riner': 'VA', 'Ripplemead': 'VA', 'Sandy level': 'VA', 'Shawsville': 'VA', 'Staffordsville': 'VA', 'Stanleytown': 'VA', 'Union hall': 'VA', 'Wirtz': 'VA', 'Woolwine': 'VA', 'Zcta 241hh': 'VA', 'Zcta 24211': 'VA', 'Ben hur': 'VA', 'Big stone gap': 'VA', 'Birchleaf': 'VA', 'Clinchco': 'VA', 'Clintwood': 'VA', 'Coeburn': 'VA', 'Clinchport': 'VA', 'Dungannon': 'VA', 'Fort blackmore': 'VA', 'Gate city': 'VA', 'Haysi': 'VA', 'Hiltons': 'VA', 'Keokee': 'VA', 'Nickelsville': 'VA', 'Pennington gap': 'VA', 'Pound': 'WI', 'Stonega': 'VA', 'Weber city': 'VA', 'Whitetop': 'VA', 'Wise': 'VA', 'Zcta 242hh': 'VA', 'Austinville': 'VA', 'Barren springs': 'VA', 'Bastian': 'VA', 'Broadford': 'VA', 'Cana': 'VA', 'Chilhowie': 'VA', 'Dugspur': 'VA', 'Fancy gap': 'VA', 'Fries': 'VA', 'Galax': 'VA', 'Glade spring': 'VA', 'Allisonia': 'VA', 'Lambsburg': 'VA', 'Laurel fork': 'VA', 'Foster falls': 'VA', 'Meadowview': 'VA', 'Mouth of wilson': 'VA', 'Rocky gap': 'VA', 'Rural retreat': 'VA', 'Saltville': 'VA', 'Trout dale': 'VA', 'Wytheville': 'VA', 'Zcta 243hh': 'VA', 'Woodrum': 'VA', 'Bacova': 'VA', 'Clifton forge': 'VA', 'Crimora': 'VA', 'Doe hill': 'VA', 'Grottoes': 'VA', 'Head waters': 'VA', 'Iron gate': 'VA', 'Mc dowell': 'VA', 'Middlebrook': 'VA', 'Millboro spring': 'VA', 'Mint spring': 'VA', 'Mount sidney': 'VA', 'Raphine': 'VA', 'Rockbridge baths': 'VA', 'Spottswood': 'VA', 'Stuarts draft': 'VA', 'Swoope': 'VA', 'Vesuvius': 'VA', 'Bolar': 'VA', 'West augusta': 'VA', 'Weyers cave': 'VA', 'Zcta 244hh': 'VA', 'Zcta 244xx': 'VA', 'Altavista': 'VA', 'Appomattox': 'VA', 'Big island': 'VA', 'Blairs': 'VA', 'Brookneal': 'VA', 'Buffalo junction': 'VA', 'Callands': 'VA', 'Clover': 'VA', 'Coleman falls': 'VA', 'Crystal hill': 'VA', 'Dry fork': 'VA', 'Evington': 'VA', 'Gladys': 'VA', 'Goode': 'VA', 'Howardsville': 'VA', 'Hurt': 'VA', 'Keeling': 'VA', 'Lynch station': 'VA', 'Lennig': 'VA', 'Natural bridge s': 'VA', 'Rustburg': 'VA', 'Spout spring': 'VA', 'Sweet briar': 'VA', 'Virgilina': 'VA', 'Wingina': 'VA', 'Zcta 245hh': 'VA', 'Amonate': 'VA', 'Bandy': 'VA', 'Conaway': 'VA', 'Bluefield': 'VA', 'Boissevain': 'VA', 'Breaks': 'VA', 'Falls mills': 'VA', 'Grundy': 'VA', 'Jewell valley': 'VA', 'Keen mountain': 'VA', 'Maxie': 'VA', 'Tiptop': 'VA', 'Pilgrims knob': 'VA', 'Pounding mill': 'VA', 'Swords creek': 'VA', 'Vansant': 'VA', 'Federal way': 'WA', 'Beaux arts': 'WA', 'Black diamond': 'WA', 'Bothell': 'WA', 'Carnation': 'WA', 'Duvall': 'WA', 'Enumclaw': 'WA', 'Fall city': 'WA', 'Edmonds': 'WA', 'Issaquah': 'WA', 'Zcta 98029': 'WA', 'Brier': 'WA', 'Lynnwood': 'WA', 'Maple valley': 'WA', 'Mercer island': 'WA', 'Mountlake terrac': 'WA', 'Ravensdale': 'WA', 'Renton': 'WA', 'Snoqualmie': 'WA', 'Snoqualmie pass': 'WA', 'Vashon': 'WA', 'Woodinville': 'WA', 'Zcta 98092': 'WA', 'Zcta 980hh': 'WA', 'Zcta 980xx': 'WA', 'Seattle': 'WA', 'Tukwila': 'WA', 'Bainbridge islan': 'WA', 'Burien': 'WA', 'Normandy park': 'WA', 'Lk forest park': 'WA', 'Zcta 981hh': 'WA', 'Anacortes': 'WA', 'Blakely island': 'WA', 'Coupeville': 'WA', 'Darrington': 'WA', 'Deer harbor': 'WA', 'Glacier': 'WA', 'Eastsound': 'WA', 'Friday harbor': 'WA', 'Gold bar': 'WA', 'Greenbank': 'WA', 'Index': 'WA', 'La conner': 'WA', 'Lake stevens': 'WA', 'Lummi island': 'WA', 'Lynden': 'WA', 'Marblemount': 'WA', 'Zcta 98274': 'WA', 'Mukilteo': 'WA', 'Olga': 'WA', 'Orcas': 'WA', 'Point roberts': 'WA', 'Sedro woolley': 'WA', 'Shaw island': 'WA', 'Skykomish': 'WA', 'Snohomish': 'WA', 'Sultan': 'WA', 'Sumas': 'WA', 'Zcta 98296': 'WA', 'Zcta 982hh': 'WA', 'Zcta 982xx': 'WA', 'Anderson island': 'WA', 'Bremerton': 'WA', 'Brinnon': 'WA', 'Carbonado': 'WA', 'Chimacum': 'WA', 'Clallam bay': 'WA', 'Gig harbor': 'WA', 'Elbe': 'WA', 'Forks': 'WA', 'Fox island': 'WA', 'Glenoma': 'WA', 'Gorst': 'WA', 'Port hadlock': 'WA', 'Hansville': 'WA', 'La push': 'WA', 'Longbranch': 'WA', 'Neah bay': 'WA', 'Nordland': 'WA', 'Olalla': 'WA', 'Orting': 'WA', 'Port angeles': 'WA', 'Zcta 98363': 'WA', 'Port gamble': 'WA', 'Port ludlow': 'WA', 'South park villa': 'WA', 'Zcta 98367': 'WA', 'Port townsend': 'WA', 'Poulsbo': 'WA', 'Puyallup': 'WA', 'Zcta 98375': 'WA', 'Quilcene': 'WA', 'Randle': 'WA', 'Seabeck': 'WA', 'Sekiu': 'WA', 'Sequim': 'WA', 'South prairie': 'WA', 'Spanaway': 'WA', 'Steilacoom': 'WA', 'Bonney lake': 'WA', 'Suquamish': 'WA', 'Wilkeson': 'WA', 'Zcta 983hh': 'WA', 'Zcta 983xx': 'WA', 'Tacoma': 'WA', 'Fort lewis': 'WA', 'Lakewood center': 'WA', 'Parkland': 'WA', 'Fircrest': 'WA', 'Zcta 984hh': 'WA', 'Lacey': 'WA', 'Allyn': 'WA', 'Amanda park': 'WA', 'Bay center': 'WA', 'Bucoda': 'WA', 'Chehalis': 'WA', 'Cinebar': 'WA', 'Copalis beach': 'WA', 'Copalis crossing': 'WA', 'Cosmopolis': 'WA', 'Doty': 'WA', 'Grapeview': 'WA', 'Grayland': 'WA', 'Hoodsport': 'WA', 'Hoquiam': 'WA', 'Humptulips': 'WA', 'Lilliwaup': 'WA', 'Mc cleary': 'WA', 'Moclips': 'WA', 'Montesano': 'WA', 'Mossyrock': 'WA', 'Napavine': 'WA', 'Pacific beach': 'WA', 'Pe ell': 'WA', 'Quinault': 'WA', 'Ryderwood': 'WA', 'Salkum': 'WA', 'Taholah': 'WA', 'Tahuya': 'WA', 'Tenino': 'WA', 'Tokeland': 'WA', 'Vader': 'WA', 'Winlock': 'WA', 'Yelm': 'WA', 'Zcta 985hh': 'WA', 'Zcta 985xx': 'WA', 'Ariel': 'WA', 'Brush prairie': 'WA', 'Camas': 'WA', 'Cathlamet': 'WA', 'Cougar': 'WA', 'Dallesport': 'WA', 'Goldendale': 'WA', 'Grays river': 'WA', 'Ilwaco': 'WA', 'Kalama': 'WA', 'Klickitat': 'WA', 'Naselle': 'WA', 'North bonneville': 'WA', 'Ocean park': 'WA', 'Oysterville': 'WA', 'Rosburg': 'WA', 'Seaview': 'WA', 'Silverlake': 'WA', 'Skamokawa': 'WA', 'Toutle': 'WA', 'Vancouver': 'WA', 'Orchards': 'WA', 'Wahkiacus': 'WA', 'Washougal': 'WA', 'White salmon': 'WA', 'Wishram': 'WA', 'Yacolt': 'WA', 'Zcta 98683': 'WA', 'Cascade park': 'WA', 'Felida': 'WA', 'Zcta 986hh': 'WA', 'Zcta 986xx': 'WA', 'Wenatchee': 'WA', 'East wenatchee': 'WA', 'Ardenvoir': 'WA', 'Cashmere': 'WA', 'Chelan': 'WA', 'Chelan falls': 'WA', 'Conconully': 'WA', 'Entiat': 'WA', 'Malott': 'WA', 'Mazama': 'WA', 'Methow': 'WA', 'Monitor': 'WA', 'Moses lake': 'WA', 'Okanogan': 'WA', 'Omak': 'WA', 'Orondo': 'WA', 'Pateros': 'WA', 'Peshastin': 'WA', 'Soap lake': 'WA', 'Stehekin': 'WA', 'Tonasket': 'WA', 'Twisp': 'WA', 'Wilson creek': 'WA', 'Zcta 988hh': 'WA', 'Zcta 988xx': 'WA', 'Terrace heights': 'WA', 'Yakima': 'WA', 'Union gap': 'WA', 'Wide hollow': 'WA', 'Cle elum': 'WA', 'Cowiche': 'WA', 'Ellensburg': 'WA', 'Kittitas': 'WA', 'Mabton': 'WA', 'Moxee': 'WA', 'White pass': 'WA', 'Ronald': 'WA', 'Selah': 'WA', 'South cle elum': 'WA', 'Thorp': 'WI', 'Tieton': 'WA', 'Toppenish': 'WA', 'Vantage': 'WA', 'Wapato': 'WA', 'White swan': 'WA', 'Zillah': 'WA', 'Zcta 989hh': 'WA', 'Zcta 989xx': 'WA', 'Airway heights': 'WA', 'Chattaroy': 'WV', 'Edwall': 'WA', 'Fairchild air fo': 'WA', 'Latah': 'WA', 'Liberty lake': 'WA', 'Mica': 'WA', 'Newman lake': 'WA', 'Nine mile falls': 'WA', 'Otis orchards': 'WA', 'Reardan': 'WA', 'Spangle': 'WA', 'Sprague': 'WA', 'Tekoa': 'WA', 'Tumtum': 'WA', 'Valleyford': 'WA', 'Veradale': 'WA', 'Wellpinit': 'WA', 'Zcta 990hh': 'WA', 'Zcta 990xx': 'WA', 'Addy': 'WA', 'Almira': 'WA', 'Benge': 'WA', 'Chewelah': 'WA', 'Colville': 'WA', 'Coulee city': 'WA', 'Coulee dam': 'WA', 'Cusick': 'WA', 'Electric city': 'WA', 'Elmer city': 'WA', 'Grand coulee': 'WA', 'Hartline': 'WA', 'Hay': 'WA', 'Hunters': 'WA', 'Inchelium': 'WA', 'Kettle falls': 'WA', 'Lacrosse': 'WA', 'Laurier': 'WA', 'Loon lake': 'WA', 'Malo': 'WA', 'Metaline': 'WA', 'Metaline falls': 'WA', 'Mohler': 'WA', 'Nespelem': 'WA', 'Oakesdale': 'WA', 'Palouse': 'WA', 'Ritzville': 'WA', 'Usk': 'WA', 'Wilbur': 'WV', 'Zcta 991hh': 'WA', 'Zcta 991xx': 'WA', 'Zcta 992hh': 'WA', 'Pasco': 'WA', 'Bickleton': 'WA', 'College place': 'WA', 'Connell': 'WA', 'Eltopia': 'WA', 'Kahlotus': 'WA', 'Kennewick': 'WA', 'Zcta 99338': 'WA', 'Lind': 'WA', 'Mattawa': 'WA', 'Zcta 99349': 'WA', 'Prosser': 'WA', 'Zcta 99353': 'WA', 'Royal city': 'WA', 'Waitsburg': 'WA', 'Walla walla': 'WA', 'Wallula': 'WA', 'Washtucna': 'WA', 'Zcta 993hh': 'WA', 'Zcta 993xx': 'WA', 'Anatone': 'WA', 'Asotin': 'WA', 'Zcta 994hh': 'WA', 'Bluewell': 'WV', 'Beeson': 'WV', 'Bramwell': 'WV', 'Bud': 'WV', 'Covel': 'WV', 'Kegley': 'WV', 'Lashmeet': 'WV', 'Dott': 'WV', 'Montcalm': 'WV', 'Oakvale': 'WV', 'Elgood': 'WV', 'Duhring': 'WV', 'Anawalt': 'WV', 'Berwind': 'WV', 'Brenton': 'WV', 'Caretta': 'WV', 'Clear fork': 'WV', 'Coal mountain': 'WV', 'Coalwood': 'WV', 'Cyclone': 'WV', 'Asco': 'WV', 'Eckman': 'WV', 'Filbert': 'WV', 'Iaeger': 'WV', 'Ikes fork': 'WV', 'Isaban': 'WV', 'Jenkinjones': 'WV', 'Jesse': 'WV', 'Jolo': 'WV', 'Kopperston': 'WV', 'Leckie': 'WV', 'Lynco': 'WV', 'Matheny': 'WV', 'Maybeury': 'WV', 'Algoma': 'WI', 'North spring': 'WV', 'Oceana': 'WV', 'Pageton': 'WV', 'Panther': 'WV', 'Raysal': 'WV', 'Rock view': 'WV', 'Roderfield': 'WV', 'Simon': 'WV', 'Squire': 'WV', 'Switchback': 'WV', 'Thorpe': 'WV', 'War': 'WV', 'Warriormine': 'WV', 'Wilcoe': 'WV', 'Zcta 248hh': 'WV', 'Arbovale': 'WV', 'Ballengee': 'WV', 'Stony bottom': 'WV', 'Crawley': 'WV', 'Indian mills': 'WV', 'Fort spring': 'WV', 'Gap mills': 'WV', 'Grassy meadows': 'WV', 'Green bank': 'WV', 'Droop': 'WV', 'Kieffer': 'WV', 'Lindside': 'WV', 'Minnehaha spring': 'WV', 'Maxwelton': 'WV', 'Pence springs': 'WV', 'Peterstown': 'WV', 'Ronceverte': 'WV', 'Secondcreek': 'WV', 'Pickaway': 'WV', 'Smoot': 'WY', 'Talcott': 'WV', 'Waiteville': 'WV', 'Wayside': 'WV', 'Zcta 249hh': 'WV', 'Zcta 249xx': 'WV', 'Alloy': 'WV', 'Alum creek': 'WV', 'Amma': 'WV', 'Arnett': 'WV', 'Artie': 'WV', 'Fola': 'WV', 'Bim': 'WV', 'Bloomingrose': 'WV', 'Blount': 'WV', 'Bob white': 'WV', 'Bomont': 'WV', 'Cabin creek': 'WV', 'Cannelton': 'WV', 'Charlton heights': 'WV', 'Clear creek': 'WV', 'Quick': 'WV', 'Clothier': 'WV', 'Costa': 'WV', 'Dawes': 'WV', 'Deep water': 'WV', 'Duck': 'WV', 'East bank': 'WV', 'Eleanor': 'WV', 'Frame': 'WV', 'Eskdale': 'WV', 'Fraziers bottom': 'WV', 'Gauley bridge': 'WV', 'Glen ferris': 'WV', 'Zcta 250hh': 'WV', 'Zcta 250xx': 'WV', 'Handley': 'WV', 'Hansford': 'WV', 'Hernshaw': 'WV', 'Hewett': 'WV', 'Hugheston': 'WV', 'Indore': 'WV', 'Big otter': 'WV', 'Ramage': 'WV', 'Kanawha falls': 'WV', 'Lizemores': 'WV', 'Maysel': 'WV', 'Mount carbon': 'WV', 'Naoma': 'WV', 'Nitro': 'WV', 'Orgas': 'WV', 'Ovapa': 'WV', 'Peytona': 'WV', 'Pond gap': 'WV', 'Powellton': 'WV', 'Ridgeview': 'WV', 'Robson': 'WV', 'Rock creek': 'WV', 'Seth': 'WV', 'Sharples': 'WV', 'Longacre': 'WV', 'Zcta 251hh': 'WV', 'Tornado': 'WV', 'Bandytown': 'WV', 'Uneeda': 'WV', 'Widen': 'WV', 'Winifrede': 'WV', 'Advent': 'WV', 'Arnoldsburg': 'WV', 'Floe': 'WV', 'Gandeeville': 'WV', 'Given': 'WV', 'Left hand': 'WV', 'Letart': 'WV', 'Looneyville': 'WV', 'Mount alto': 'WV', 'Uler': 'WV', 'Normantown': 'WV', 'Minnora': 'WV', 'Reedy': 'WV', 'Statts mills': 'WV', 'Tariff': 'WV', 'Valley fork': 'WV', 'Wallback': 'WV', 'Zcta 252hh': 'WV', 'Big chimney': 'WV', 'South charleston': 'WV', 'Cross lanes': 'WV', 'Marmet': 'WV', 'Sissonville': 'WV', 'Zcta 253hh': 'WV', 'Charles town': 'WV', 'Falling waters': 'WV', 'Gerrardstown': 'WV', 'Glengary': 'WV', 'Great cacapon': 'WV', 'Cherry run': 'WV', 'Kearneysville': 'WV', 'Levels': 'WV', 'Points': 'WV', 'Ranson': 'WV', 'Rippon': 'WV', 'Shenandoah junct': 'WV', 'Shepherdstown': 'WV', 'Slanesville': 'WV', 'Summit point': 'WV', 'Zcta 254hh': 'WV', 'Alkol': 'WV', 'Apple grove': 'WV', 'Barboursville': 'WV', 'Branchland': 'WV', 'Ceredo': 'WV', 'Chapmanville': 'WV', 'Dunlow': 'WV', 'Fort gay': 'WV', 'Gallipolis ferry': 'WV', 'Griffithsville': 'WV', 'Ferrellsburg': 'WV', 'Kenova': 'WV', 'Cove gap': 'WV', 'Lavalette': 'WV', 'Lesage': 'WV', 'Pecks mill': 'WV', 'Point pleasant': 'WV', 'Salt rock': 'WV', 'Scott depot': 'WV', 'Sod': 'WV', 'Morrisvale': 'WV', 'Sumerco': 'WV', 'West hamlin': 'WV', 'Yawkey': 'WV', 'Zcta 255hh': 'WV', 'Zcta 255xx': 'WV', 'West logan': 'WV', 'Accoville': 'WV', 'Robinette': 'WV', 'Baisden': 'WV', 'Davin': 'WV', 'Henlawson': 'WV', 'Kistler': 'WV', 'Lorado': 'WV', 'Mallory': 'WV', 'Monaville': 'WV', 'Mount gay': 'WV', 'Barnabus': 'WV', 'Peach creek': 'WV', 'Sarah ann': 'WV', 'Switzer': 'WV', 'Verdunville': 'WV', 'Verner': 'WV', 'Wharncliffe': 'WV', 'Dehue': 'WV', 'Borderland': 'WV', 'Breeden': 'WV', 'Crum': 'WV', 'Dingess': 'WV', 'Edgarton': 'WV', 'Lobata': 'WV', 'Meador': 'WV', 'North matewan': 'WV', 'Rawl': 'WV', 'Red jacket': 'WV', 'Wilsondale': 'WV', 'Zcta 256hh': 'WV', 'Zcta 257hh': 'WV', 'Beckley': 'WV', 'Ansted': 'WV', 'Bolt': 'WV', 'Camp creek': 'WV', 'Whitby': 'WV', 'Cool ridge': 'WV', 'Clifftop': 'WV', 'Eccles': 'WV', 'Cunard': 'WV', 'Flat top': 'WV', 'Glen daniel': 'WV', 'Glen fork': 'WV', 'Glen jean': 'WV', 'Glen rogers': 'WV', 'Glen white': 'WV', 'Hilltop': 'WV', 'Jonben': 'WV', 'Lochgelly': 'WV', 'Mabscott': 'WV', 'Mc graws': 'WV', 'Mullens': 'WV', 'Zcta 258hh': 'WV', 'Odd': 'WV', 'Pax': 'WV', 'Prince': 'WV', 'Winding gulf': 'WV', 'Ravencliff': 'WV', 'East gulf': 'WV', 'Sabine': 'WV', 'Scarbro': 'WV', 'Abraham': 'WV', 'Slab fork': 'WV', 'Mcalpin': 'WV', 'Spanishburg': 'WV', 'Surveyor': 'WV', 'Charmco': 'WV', 'Rainelle': 'WV', 'Green sulphur sp': 'WV', 'Lerona': 'WV', 'Meadow bridge': 'WV', 'Meadow creek': 'WV', 'Nimitz': 'WV', 'Pipestem': 'WV', 'Marfrance': 'WV', 'Kessler': 'WV', 'Sandstone': 'WV', 'Spring dale': 'WV', 'Zcta 259hh': 'WV', 'Zcta 259xx': 'WV', 'Beech bottom': 'WV', 'Benwood': 'WV', 'Colliers': 'WV', 'Follansbee': 'WV', 'Glen dale': 'WV', 'Glen easton': 'WV', 'Mc mechen': 'WV', 'Moundsville': 'WV', 'New manchester': 'WV', 'Triadelphia': 'WV', 'Valley grove': 'WV', 'Weirton': 'WV', 'Zcta 260hh': 'WV', 'North parkersbur': 'WV', 'Willow island': 'WV', 'Nobe': 'WV', 'Brohard': 'WV', 'Friendly': 'WV', 'Macfarlan': 'WV', 'Middlebourne': 'WV', 'Mineralwells': 'WV', 'Mount zion': 'WV', 'New martinsville': 'WV', 'Paden city': 'WV', 'Petroleum': 'WV', 'Porters falls': 'WV', 'Ravenswood': 'WV', 'Sistersville': 'WV', 'Wileyville': 'WV', 'Zcta 261hh': 'WV', 'Tennerton': 'WV', 'Erbacon': 'WV', 'Cowen': 'WV', 'Gauley mills': 'WV', 'Snowshoe': 'WV', 'Diana': 'WV', 'Replete': 'WV', 'Helvetia': 'WV', 'Kanawha head': 'WV', 'Rock cave': 'WV', 'Tallmansville': 'WV', 'Belington': 'WV', 'Wymer': 'WV', 'Dailey': 'WV', 'Dryfork': 'WV', 'Upperglade': 'WV', 'Ellamore': 'WV', 'Glady': 'WV', 'Hambleton': 'WV', 'Harman': 'WV', 'Huttonsville': 'WV', 'Junior': 'WV', 'Mabie': 'WV', 'Monterville': 'WV', 'Bolair': 'WV', 'Slatyfork': 'WV', 'Valley bend': 'WV', 'Bergoo': 'WV', 'Zcta 262hh': 'WV', 'Zcta 262xx': 'WV', 'Nutter fort ston': 'WV', 'Alum bridge': 'WV', 'Anmoore': 'WV', 'Coxs mills': 'WV', 'Gypsy': 'WV', 'Mahone': 'WV', 'Hepzibah': 'WV', 'Horner': 'WV', 'Wildcat': 'WV', 'Jacksonburg': 'WV', 'Jane lew': 'WV', 'Lumberport': 'WV', 'Zcta 263hh': 'WV', 'Mount clare': 'WV', 'New milton': 'WV', 'Toll gate': 'WV', 'Sand fork': 'WV', 'Shinnston': 'WV', 'Smithburg': 'WV', 'Spelter': 'WV', 'Zcta 264hh': 'WV', 'Zcta 26501': 'WV', 'Zcta 26508': 'WV', 'Albright': 'WV', 'Arthurdale': 'WV', 'Blacksville': 'WV', 'Bruceton mills': 'WV', 'Core': 'WV', 'Dellslow': 'WV', 'Kingwood': 'WV', 'Maidsville': 'WV', 'Pentress': 'WV', 'Monongah': 'WV', 'Barrackville': 'WV', 'Carolina': 'WV', 'Four states': 'WV', 'Grant town': 'WV', 'Hundred': 'WV', 'Idamay': 'WV', 'Mannington': 'WV', 'Metz': 'WV', 'Montana mines': 'WV', 'Rachel': 'WV', 'Rivesville': 'WV', 'Wadestown': 'WV', 'Wana': 'WV', 'Zcta 265hh': 'WV', 'Herold': 'WV', 'Birch river': 'WV', 'Flower': 'WV', 'Copen': 'WV', 'Dille': 'WV', 'Riffle': 'WV', 'Corley': 'WV', 'Clem': 'WV', 'Heaters': 'WV', 'Tesla': 'WV', 'Napier': 'WV', 'Shock': 'WV', 'Strange creek': 'WV', 'Wilsie': 'WV', 'Belva': 'WV', 'Canvas': 'WV', 'Drennen': 'WV', 'Jodie': 'WV', 'Leivasy': 'WV', 'Mount lookout': 'WV', 'Runa': 'WV', 'Russelville': 'WV', 'Nettie': 'WV', 'Pool': 'WV', 'Swiss': 'WV', 'Zcta 266hh': 'WV', 'Zcta 266xx': 'WV', 'Capon bridge': 'WV', 'Delray': 'WV', 'Eglon': 'WV', 'Elk garden': 'WV', 'Fort ashby': 'WV', 'Gormania': 'WV', 'Green spring': 'WV', 'Scherr': 'WV', 'Lahmansville': 'WV', 'Mount storm': 'WV', 'New creek': 'WV', 'Patterson creek': 'WV', 'Shanks': 'WV', 'Hopemont': 'WV', 'Wiley ford': 'WV', 'Zcta 267hh': 'WV', 'Zcta 267xx': 'WV', 'High view': 'WV', 'Lost city': 'WV', 'Mathias': 'WV', 'Bloomery': 'WV', 'Capon springs': 'WV', 'Rig': 'WV', 'Old fields': 'WV', 'Dorcas': 'WV', 'Wardensville': 'WV', 'Purgitsville': 'WV', 'Cabins': 'WV', 'Lehew': 'WV', 'Upper tract': 'WV', 'Seneca rocks': 'WV', 'Onego': 'WV', 'Zcta 268hh': 'WV', 'Zcta 268xx': 'WV', 'Adell': 'WI', 'Allenton': 'WI', 'Ashippun': 'WI', 'Belgium': 'WI', 'South byron': 'WI', 'Campbellsport': 'WI', 'Cedarburg': 'WI', 'Clyman': 'WI', 'Delafield': 'WI', 'Elkhart lake': 'WI', 'Waubeka': 'WI', 'Glenbeulah': 'WI', 'Horicon': 'WI', 'Hubertus': 'WI', 'Hustisford': 'WI', 'Iron ridge': 'WI', 'Ixonia': 'WI', 'Johnson creek': 'WI', 'Kewaskum': 'WI', 'Kiel': 'WI', 'Kohler': 'WI', 'Lannon': 'WI', 'Menomonee falls': 'WI', 'Mount calvary': 'WI', 'Nashotah': 'WI', 'New holstein': 'WI', 'Oconomowoc': 'WI', 'Okauchee': 'WI', 'Oostburg': 'WI', 'Pewaukee': 'WI', 'Random lake': 'WI', 'Rubicon': 'WI', 'Saukville': 'WI', 'Sheboygan': 'WI', 'Howards grove': 'WI', 'Sheboygan falls': 'WI', 'Slinger': 'WI', 'Zcta 53090': 'WI', 'Mequon': 'WI', 'Zcta 530hh': 'WI', 'Cudahy': 'WI', 'Dousman': 'WI', 'East troy': 'WI', 'Franksville': 'WI', 'Genoa city': 'WI', 'Greendale': 'WI', 'Hales corners': 'WI', 'Helenville': 'WI', 'Kansasville': 'WI', 'Kenosha': 'WI', 'Lake geneva': 'WI', 'Mukwonago': 'WI', 'Muskego': 'WI', 'North prairie': 'WI', 'Pleasant prairie': 'WI', 'South milwaukee': 'WI', 'Sturtevant': 'WI', 'Trevor': 'WI', 'Wind lake': 'WI', 'Waukesha': 'WI', 'Zcta 53189': 'WI', 'Williams bay': 'WI', 'Zcta 531hh': 'WI', 'Milwaukee': 'WI', 'Wauwatosa': 'WI', 'West allis': 'WI', 'West milwaukee': 'WI', 'Zcta 532hh': 'WI', 'Zcta 534hh': 'WI', 'Arena': 'WI', 'Shopiere': 'WI', 'Black earth': 'WI', 'Blanchardville': 'WI', 'Blue mounds': 'WI', 'Dane': 'WI', 'De forest': 'WI', 'Footville': 'WI', 'Gotham': 'WI', 'Juda': 'WI', 'Mazomanie': 'WI', 'Montfort': 'WI', 'Mount horeb': 'WI', 'Muscoda': 'WI', 'New glarus': 'WI', 'Orfordville': 'WI', 'Plain': 'WI', 'Prairie du sac': 'WI', 'Reeseville': 'WI', 'Rewey': 'WI', 'Gillingham': 'WI', 'Sauk city': 'WI', 'Shullsburg': 'WI', 'South wayne': 'WI', 'Spring green': 'WI', 'Sun prairie': 'WI', 'Waunakee': 'WI', 'Zcta 535hh': 'WI', 'Zcta 537hh': 'WI', 'Boscobel': 'WI', 'Cuba city': 'WI', 'Dickeyville': 'WI', 'Fennimore': 'WI', 'Patch grove': 'WI', 'Prairie du chien': 'WI', 'Stitzer': 'WI', 'Wauzeka': 'WI', 'Woodman': 'WI', 'Zcta 538hh': 'WI', 'Baraboo': 'WI', 'Burnett': 'WI', 'Elroy': 'WI', 'Fair water': 'WI', 'Friesland': 'WI', 'Grand marsh': 'WI', 'Hillpoint': 'WI', 'Lake delton': 'WI', 'La valle': 'WI', 'Loganville': 'WI', 'Lyndon station': 'WI', 'Markesan': 'WI', 'Mauston': 'WI', 'North freedom': 'WI', 'Packwaukee': 'WI', 'Pardeeville': 'WI', 'Poynette': 'WI', 'Reedsburg': 'WI', 'Union center': 'WI', 'Waupun': 'WI', 'Wisconsin dells': 'WI', 'Wonewoc': 'WI', 'Wyocena': 'WI', 'Zcta 539hh': 'WI', 'Deronda': 'WI', 'Beldenville': 'WI', 'Dresser': 'WI', 'Glenwood city': 'WI', 'Hager city': 'WI', 'Saint croix fall': 'WI', 'Star prairie': 'WI', 'Zcta 540hh': 'WI', 'Abrams': 'WI', 'Amberg': 'WI', 'Armstrong creek': 'WI', 'Athelstane': 'WI', 'Navarino': 'WI', 'Brillion': 'WI', 'Combined locks': 'WI', 'De pere': 'WI', 'Fence': 'WI', 'Forest junction': 'WI', 'Hilbert': 'WI', 'Kaukauna': 'WI', 'Keshena': 'WI', 'Krakow': 'WI', 'Stiles': 'WI', 'Little chute': 'WI', 'Little suamico': 'WI', 'Marinette': 'WI', 'Neopit': 'WI', 'Oconto falls': 'WI', 'Pembine': 'WI', 'Peshtigo': 'WI', 'Porterfield': 'WI', 'Shawano': 'WI', 'Shiocton': 'WI', 'Sobieski': 'WI', 'Suamico': 'WI', 'Suring': 'WI', 'Wausaukee': 'WI', 'Zcta 541hh': 'WI', 'Zcta 541xx': 'WI', 'Baileys harbor': 'WI', 'Brussels': 'WI', 'Egg harbor': 'WI', 'Ellison bay': 'WI', 'Fish creek': 'WI', 'Francis creek': 'WI', 'Kellnersville': 'WI', 'Kewaunee': 'WI', 'Manitowoc': 'WI', 'Maribel': 'WI', 'Mishicot': 'WI', 'New franken': 'WI', 'Saint nazianz': 'WI', 'Sister bay': 'WI', 'Sturgeon bay': 'WI', 'Tisch mills': 'WI', 'Two rivers': 'WI', 'Valders': 'WI', 'Washington islan': 'WI', 'Whitelaw': 'WI', 'Zcta 542hh': 'WI', 'Ashwaubenon': 'WI', 'Zcta 543hh': 'WI', 'Abbotsford': 'WI', 'Amherst junction': 'WI', 'Aniwa': 'WI', 'Antigo': 'WI', 'Arpin': 'WI', 'Babcock': 'WI', 'Birnamwood': 'WI', 'Bowler': 'WI', 'Brokaw': 'WI', 'Curtiss': 'WI', 'Deerbrook': 'WI', 'Fenwood': 'WI', 'Eland': 'WI', 'Elcho': 'WI', 'Granton': 'WI', 'Hatley': 'WI', 'Irma': 'WI', 'Lublin': 'WI', 'Milladore': 'WI', 'Mosinee': 'WI', 'Neillsville': 'WI', 'Nekoosa': 'WI', 'Owen': 'WI', 'Pelican lake': 'WI', 'Pickerel': 'WI', 'Port edwards': 'WI', 'Rib lake': 'WI', 'Ringle': 'WI', 'Rothschild': 'WI', 'Schofield': 'WI', 'Stetsonville': 'WI', 'Stevens point': 'WI', 'Summit lake': 'WI', 'Tigerton': 'WI', 'Tomahawk': 'WI', 'Vesper': 'WI', 'Wisconsin rapids': 'WI', 'Withee': 'WI', 'Wittenberg': 'WI', 'Zcta 544hh': 'WI', 'Zcta 544xx': 'WI', 'Monico': 'WI', 'Boulder junction': 'WI', 'Brantwood': 'WI', 'Butternut': 'WI', 'Clam lake': 'WI', 'Crandon': 'WI', 'Fifield': 'WI', 'Gile': 'WI', 'Harshaw': 'WI', 'Hazelhurst': 'WI', 'Iron belt': 'WI', 'Kennan': 'WI', 'Lac du flambeau': 'WI', 'Lake tomahawk': 'WI', 'Laona': 'WI', 'Mc naughton': 'WI', 'Manitowish water': 'WI', 'Mellen': 'WI', 'Minocqua': 'WI', 'Pence': 'WI', 'Park falls': 'WI', 'Prentice': 'WI', 'Saint germain': 'WI', 'Saxon': 'WI', 'Sayner': 'WI', 'Starlake': 'WI', 'Three lakes': 'WI', 'Tony': 'WI', 'Upson': 'WI', 'Wabeno': 'WI', 'Zcta 545hh': 'WI', 'Zcta 545xx': 'WI', 'Alma center': 'WI', 'Arkdale': 'WI', 'Black river fall': 'WI', 'Cashton': 'WI', 'Chaseburg': 'WI', 'Waumandee': 'WI', 'Coon valley': 'WI', 'Victory': 'WI', 'Ferryville': 'WI', 'Gays mills': 'WI', 'Yuba': 'WI', 'Holmen': 'WI', 'Hustler': 'WI', 'West lima': 'WI', 'Lynxville': 'WI', 'Mindoro': 'WI', 'Necedah': 'WI', 'Readstown': 'WI', 'Soldiers grove': 'WI', 'Wyeville': 'WI', 'Trempealeau': 'WI', 'Viroqua': 'WI', 'Warrens': 'WI', 'Zcta 546hh': 'WI', 'Zcta 546xx': 'WI', 'Arkansaw': 'WI', 'Bloomer': 'WI', 'Boyceville': 'WI', 'Cadott': 'WI', 'Chetek': 'WI', 'Chippewa falls': 'WI', 'Conrath': 'WI', 'Eau galle': 'WI', 'Eleva': 'WI', 'Elk mound': 'WI', 'Fairchild': 'WI', 'Holcombe': 'WI', 'Humbird': 'WI', 'Jim falls': 'WI', 'Knapp': 'WI', 'Maiden rock': 'WI', 'Menomonie': 'WI', 'Merrillan': 'WI', 'New auburn': 'WI', 'Pepin': 'WI', 'Pigeon falls': 'WI', 'Plum city': 'WI', 'Prairie farm': 'WI', 'Strum': 'WI', 'Zcta 547hh': 'WI', 'Zcta 547xx': 'WI', 'Spooner': 'WI', 'Moquah': 'WI', 'Balsam lake': 'WI', 'Barron': 'WI', 'Barronett': 'WI', 'Centuria': 'WI', 'Cornucopia': 'WI', 'New post': 'WI', 'Dairyland': 'WI', 'Exeland': 'WI', 'Clam falls': 'WI', 'Haugen': 'WI', 'North woods beac': 'WI', 'Herbster': 'WI', 'Hertel': 'WI', 'Ladysmith': 'WI', 'Lake nebagamon': 'WI', 'La pointe': 'WI', 'Luck': 'WI', 'Mikana': 'WI', 'Minong': 'WI', 'Odanah': 'WI', 'Ojibwa': 'WI', 'Port wing': 'WI', 'Radisson': 'WI', 'Sarona': 'WI', 'Shell lake': 'WI', 'Siren': 'WI', 'Stone lake': 'WI', 'Weyerhaeuser': 'WI', 'Loretta': 'WI', 'Zcta 548hh': 'WI', 'Zcta 548xx': 'WI', 'Butte des morts': 'WI', 'Caroline': 'WI', 'Taycheedah': 'WI', 'North fond du la': 'WI', 'Green lake': 'WI', 'Hortonville': 'WI', 'Larsen': 'WI', 'Leopolis': 'WI', 'Menasha': 'WI', 'Neenah': 'WI', 'Neshkoro': 'WI', 'Omro': 'WI', 'Pickett': 'WI', 'Poy sippi': 'WI', 'Redgranite': 'WI', 'Saxeville': 'WI', 'Scandinavia': 'WI', 'Tilleda': 'WI', 'Van dyne': 'WI', 'Waukau': 'WI', 'Waupaca': 'WI', 'Wautoma': 'WI', 'Weyauwega': 'WI', 'Wild rose': 'WI', 'Winneconne': 'WI', 'Zcta 549hh': 'WI', 'Cheyenne': 'WY', 'Albin': 'WY', 'Laramie': 'WY', 'Centennial': 'WY', 'Granite canon': 'WY', 'Horse creek': 'WY', 'Jelm': 'WY', 'Zcta 82072': 'WY', 'Pine bluffs': 'WY', 'Rock river': 'WY', 'Tie siding': 'WY', 'Fishing bridge': 'WY', 'Chugwater': 'WY', 'Fort laramie': 'WY', 'Glendo': 'WY', 'Hawk springs': 'WY', 'Jay em': 'WY', 'Lance creek': 'WY', 'Lingle': 'WY', 'Lusk': 'WY', 'Van tassell': 'WY', 'Veteran': 'WY', 'Zcta 822hh': 'WY', 'Rawlins': 'WY', 'Jeffrey city': 'WY', 'Baggs': 'WY', 'Bairoil': 'WY', 'Elk mountain': 'WY', 'Encampment': 'WY', 'Medicine bow': 'WY', 'Ryan park': 'WY', 'Savery': 'WY', 'Wamsutter': 'WY', 'Zcta 823hh': 'WY', 'Worland': 'WY', 'Cowley': 'WY', 'Deaver': 'WY', 'Emblem': 'WY', 'Frannie': 'WY', 'Greybull': 'WY', 'Hyattville': 'WY', 'Meeteetse': 'WY', 'Shell': 'WY', 'Ten sleep': 'WY', 'Grass creek': 'WY', 'Zcta 824hh': 'WY', 'Zcta 824xx': 'WY', 'Gas hills': 'WY', 'Crowheart': 'WY', 'Fort washakie': 'WY', 'Kinnear': 'WY', 'Ethete': 'WY', 'Pavillion': 'WY', 'Zcta 825hh': 'WY', 'Casper': 'WY', 'Alcova': 'WY', 'Glenrock': 'WY', 'Kaycee': 'WY', 'Linch': 'WY', 'Lysite': 'WY', 'Midwest': 'WY', 'Shoshoni': 'WY', 'Zcta 826hh': 'WY', 'Aladdin': 'WY', 'Devils tower': 'WY', 'Hulett': 'WY', 'Pine haven': 'WY', 'Recluse': 'WY', 'Rozet': 'WY', 'Sundance': 'WY', 'Big horn': 'WY', 'Leiter': 'WY', 'Ranchester': 'WY', 'Wyarno': 'WY', 'Zcta 828hh': 'WY', 'Cora': 'WY', 'Little america': 'WY', 'Farson': 'WY', 'Fort bridger': 'WY', 'Lonetree': 'WY', 'Mc kinnon': 'WY', 'Robertson': 'WY', 'Zcta 829hh': 'WY', 'Zcta 829xx': 'WY', 'Colter bay': 'WY', 'Moose': 'WY', 'Zcta 830hh': 'WY', 'Zcta 830xx': 'WY', 'Kemmerer': 'WY', 'Marbleton': 'WY', 'Cokeville': 'WY', 'Daniel': 'WY', 'Diamondville': 'WY', 'Frontier': 'WY', 'La barge': 'WY', 'Thayne': 'WY', 'Zcta 831hh': 'WY', 'Zcta 831xx': 'WY'}\n"
     ]
    }
   ],
   "source": [
    "df_usa = ppd.get_states_data(dir_name=\"../data/covid\",\n",
    "                         dir_name_zipcode_data=\"../data/us_meta\")"
   ]
  },
  {
   "cell_type": "code",
   "execution_count": 9,
   "metadata": {},
   "outputs": [
    {
     "data": {
      "application/vnd.plotly.v1+json": {
       "config": {
        "plotlyServerURL": "https://plot.ly"
       },
       "data": [
        {
         "coloraxis": "coloraxis",
         "geo": "geo",
         "hovertemplate": "Date=01-22-2020<br>Code=%{location}<br>Confirmed=%{z}<extra></extra>",
         "locationmode": "USA-states",
         "locations": [
          "WA"
         ],
         "name": "",
         "type": "choropleth",
         "z": [
          1
         ]
        }
       ],
       "frames": [
        {
         "data": [
          {
           "coloraxis": "coloraxis",
           "geo": "geo",
           "hovertemplate": "Date=01-22-2020<br>Code=%{location}<br>Confirmed=%{z}<extra></extra>",
           "locationmode": "USA-states",
           "locations": [
            "WA"
           ],
           "name": "",
           "type": "choropleth",
           "z": [
            1
           ]
          }
         ],
         "name": "01-22-2020"
        },
        {
         "data": [
          {
           "coloraxis": "coloraxis",
           "geo": "geo",
           "hovertemplate": "Date=01-23-2020<br>Code=%{location}<br>Confirmed=%{z}<extra></extra>",
           "locationmode": "USA-states",
           "locations": [
            "WA"
           ],
           "name": "",
           "type": "choropleth",
           "z": [
            1
           ]
          }
         ],
         "name": "01-23-2020"
        },
        {
         "data": [
          {
           "coloraxis": "coloraxis",
           "geo": "geo",
           "hovertemplate": "Date=01-24-2020<br>Code=%{location}<br>Confirmed=%{z}<extra></extra>",
           "locationmode": "USA-states",
           "locations": [
            "WA",
            "Chicago"
           ],
           "name": "",
           "type": "choropleth",
           "z": [
            1,
            1
           ]
          }
         ],
         "name": "01-24-2020"
        },
        {
         "data": [
          {
           "coloraxis": "coloraxis",
           "geo": "geo",
           "hovertemplate": "Date=01-25-2020<br>Code=%{location}<br>Confirmed=%{z}<extra></extra>",
           "locationmode": "USA-states",
           "locations": [
            "WA",
            "IL"
           ],
           "name": "",
           "type": "choropleth",
           "z": [
            1,
            1
           ]
          }
         ],
         "name": "01-25-2020"
        },
        {
         "data": [
          {
           "coloraxis": "coloraxis",
           "geo": "geo",
           "hovertemplate": "Date=01-26-2020<br>Code=%{location}<br>Confirmed=%{z}<extra></extra>",
           "locationmode": "USA-states",
           "locations": [
            "CA",
            "WA",
            "IL",
            "AZ"
           ],
           "name": "",
           "type": "choropleth",
           "z": [
            2,
            1,
            1,
            1
           ]
          }
         ],
         "name": "01-26-2020"
        },
        {
         "data": [
          {
           "coloraxis": "coloraxis",
           "geo": "geo",
           "hovertemplate": "Date=01-27-2020<br>Code=%{location}<br>Confirmed=%{z}<extra></extra>",
           "locationmode": "USA-states",
           "locations": [
            "WA",
            "IL",
            "CA",
            "AZ"
           ],
           "name": "",
           "type": "choropleth",
           "z": [
            1,
            1,
            2,
            1
           ]
          }
         ],
         "name": "01-27-2020"
        },
        {
         "data": [
          {
           "coloraxis": "coloraxis",
           "geo": "geo",
           "hovertemplate": "Date=01-28-2020<br>Code=%{location}<br>Confirmed=%{z}<extra></extra>",
           "locationmode": "USA-states",
           "locations": [
            "WA",
            "AZ",
            "IL",
            "CA"
           ],
           "name": "",
           "type": "choropleth",
           "z": [
            1,
            1,
            1,
            2
           ]
          }
         ],
         "name": "01-28-2020"
        },
        {
         "data": [
          {
           "coloraxis": "coloraxis",
           "geo": "geo",
           "hovertemplate": "Date=01-29-2020<br>Code=%{location}<br>Confirmed=%{z}<extra></extra>",
           "locationmode": "USA-states",
           "locations": [
            "AZ",
            "CA",
            "IL",
            "WA"
           ],
           "name": "",
           "type": "choropleth",
           "z": [
            1,
            2,
            1,
            1
           ]
          }
         ],
         "name": "01-29-2020"
        },
        {
         "data": [
          {
           "coloraxis": "coloraxis",
           "geo": "geo",
           "hovertemplate": "Date=01-30-2020<br>Code=%{location}<br>Confirmed=%{z}<extra></extra>",
           "locationmode": "USA-states",
           "locations": [
            "CA",
            "IL",
            "WA",
            "AZ"
           ],
           "name": "",
           "type": "choropleth",
           "z": [
            2,
            1,
            1,
            1
           ]
          }
         ],
         "name": "01-30-2020"
        },
        {
         "data": [
          {
           "coloraxis": "coloraxis",
           "geo": "geo",
           "hovertemplate": "Date=01-31-2020<br>Code=%{location}<br>Confirmed=%{z}<extra></extra>",
           "locationmode": "USA-states",
           "locations": [
            "AZ",
            "CA",
            "WA",
            "IL"
           ],
           "name": "",
           "type": "choropleth",
           "z": [
            1,
            2,
            1,
            2
           ]
          }
         ],
         "name": "01-31-2020"
        },
        {
         "data": [
          {
           "coloraxis": "coloraxis",
           "geo": "geo",
           "hovertemplate": "Date=02-01-2020<br>Code=%{location}<br>Confirmed=%{z}<extra></extra>",
           "locationmode": "USA-states",
           "locations": [
            "AZ",
            "CA",
            "MA",
            "IL",
            "WA"
           ],
           "name": "",
           "type": "choropleth",
           "z": [
            1,
            3,
            1,
            2,
            1
           ]
          }
         ],
         "name": "02-01-2020"
        },
        {
         "data": [
          {
           "coloraxis": "coloraxis",
           "geo": "geo",
           "hovertemplate": "Date=02-02-2020<br>Code=%{location}<br>Confirmed=%{z}<extra></extra>",
           "locationmode": "USA-states",
           "locations": [
            "IL",
            "AZ",
            "MA",
            "WA",
            "CA"
           ],
           "name": "",
           "type": "choropleth",
           "z": [
            2,
            1,
            1,
            1,
            3
           ]
          }
         ],
         "name": "02-02-2020"
        },
        {
         "data": [
          {
           "coloraxis": "coloraxis",
           "geo": "geo",
           "hovertemplate": "Date=02-03-2020<br>Code=%{location}<br>Confirmed=%{z}<extra></extra>",
           "locationmode": "USA-states",
           "locations": [
            "WA",
            "MA",
            "CA",
            "IL",
            "AZ"
           ],
           "name": "",
           "type": "choropleth",
           "z": [
            1,
            1,
            6,
            2,
            1
           ]
          }
         ],
         "name": "02-03-2020"
        },
        {
         "data": [
          {
           "coloraxis": "coloraxis",
           "geo": "geo",
           "hovertemplate": "Date=02-04-2020<br>Code=%{location}<br>Confirmed=%{z}<extra></extra>",
           "locationmode": "USA-states",
           "locations": [
            "WA",
            "IL",
            "AZ",
            "CA",
            "MA"
           ],
           "name": "",
           "type": "choropleth",
           "z": [
            1,
            2,
            1,
            6,
            1
           ]
          }
         ],
         "name": "02-04-2020"
        },
        {
         "data": [
          {
           "coloraxis": "coloraxis",
           "geo": "geo",
           "hovertemplate": "Date=02-05-2020<br>Code=%{location}<br>Confirmed=%{z}<extra></extra>",
           "locationmode": "USA-states",
           "locations": [
            "MA",
            "IL",
            "WA",
            "WI",
            "CA",
            "AZ"
           ],
           "name": "",
           "type": "choropleth",
           "z": [
            1,
            2,
            1,
            1,
            6,
            1
           ]
          }
         ],
         "name": "02-05-2020"
        },
        {
         "data": [
          {
           "coloraxis": "coloraxis",
           "geo": "geo",
           "hovertemplate": "Date=02-06-2020<br>Code=%{location}<br>Confirmed=%{z}<extra></extra>",
           "locationmode": "USA-states",
           "locations": [
            "WA",
            "WI",
            "AZ",
            "IL",
            "MA",
            "CA"
           ],
           "name": "",
           "type": "choropleth",
           "z": [
            1,
            1,
            1,
            2,
            1,
            6
           ]
          }
         ],
         "name": "02-06-2020"
        },
        {
         "data": [
          {
           "coloraxis": "coloraxis",
           "geo": "geo",
           "hovertemplate": "Date=02-07-2020<br>Code=%{location}<br>Confirmed=%{z}<extra></extra>",
           "locationmode": "USA-states",
           "locations": [
            "IL",
            "MA",
            "AZ",
            "WA",
            "CA",
            "WI"
           ],
           "name": "",
           "type": "choropleth",
           "z": [
            2,
            1,
            1,
            1,
            6,
            1
           ]
          }
         ],
         "name": "02-07-2020"
        },
        {
         "data": [
          {
           "coloraxis": "coloraxis",
           "geo": "geo",
           "hovertemplate": "Date=02-08-2020<br>Code=%{location}<br>Confirmed=%{z}<extra></extra>",
           "locationmode": "USA-states",
           "locations": [
            "WI",
            "IL",
            "AZ",
            "CA",
            "WA",
            "MA"
           ],
           "name": "",
           "type": "choropleth",
           "z": [
            1,
            2,
            1,
            6,
            1,
            1
           ]
          }
         ],
         "name": "02-08-2020"
        },
        {
         "data": [
          {
           "coloraxis": "coloraxis",
           "geo": "geo",
           "hovertemplate": "Date=02-09-2020<br>Code=%{location}<br>Confirmed=%{z}<extra></extra>",
           "locationmode": "USA-states",
           "locations": [
            "WA",
            "IL",
            "CA",
            "AZ",
            "WI",
            "MA"
           ],
           "name": "",
           "type": "choropleth",
           "z": [
            1,
            2,
            6,
            1,
            1,
            1
           ]
          }
         ],
         "name": "02-09-2020"
        },
        {
         "data": [
          {
           "coloraxis": "coloraxis",
           "geo": "geo",
           "hovertemplate": "Date=02-10-2020<br>Code=%{location}<br>Confirmed=%{z}<extra></extra>",
           "locationmode": "USA-states",
           "locations": [
            "IL",
            "WA",
            "WI",
            "AZ",
            "CA",
            "MA"
           ],
           "name": "",
           "type": "choropleth",
           "z": [
            2,
            1,
            1,
            1,
            6,
            1
           ]
          }
         ],
         "name": "02-10-2020"
        },
        {
         "data": [
          {
           "coloraxis": "coloraxis",
           "geo": "geo",
           "hovertemplate": "Date=02-11-2020<br>Code=%{location}<br>Confirmed=%{z}<extra></extra>",
           "locationmode": "USA-states",
           "locations": [
            "WI",
            "CA",
            "AZ",
            "WA",
            "IL",
            "MA"
           ],
           "name": "",
           "type": "choropleth",
           "z": [
            1,
            7,
            1,
            1,
            2,
            1
           ]
          }
         ],
         "name": "02-11-2020"
        },
        {
         "data": [
          {
           "coloraxis": "coloraxis",
           "geo": "geo",
           "hovertemplate": "Date=02-12-2020<br>Code=%{location}<br>Confirmed=%{z}<extra></extra>",
           "locationmode": "USA-states",
           "locations": [
            "MA",
            "AZ",
            "WI",
            "IL",
            "CA",
            "WA"
           ],
           "name": "",
           "type": "choropleth",
           "z": [
            1,
            1,
            1,
            2,
            7,
            1
           ]
          }
         ],
         "name": "02-12-2020"
        },
        {
         "data": [
          {
           "coloraxis": "coloraxis",
           "geo": "geo",
           "hovertemplate": "Date=02-13-2020<br>Code=%{location}<br>Confirmed=%{z}<extra></extra>",
           "locationmode": "USA-states",
           "locations": [
            "WA",
            "WI",
            "MA",
            "AZ",
            "TX",
            "CA",
            "IL"
           ],
           "name": "",
           "type": "choropleth",
           "z": [
            1,
            1,
            1,
            1,
            1,
            8,
            2
           ]
          }
         ],
         "name": "02-13-2020"
        },
        {
         "data": [
          {
           "coloraxis": "coloraxis",
           "geo": "geo",
           "hovertemplate": "Date=02-14-2020<br>Code=%{location}<br>Confirmed=%{z}<extra></extra>",
           "locationmode": "USA-states",
           "locations": [
            "WI",
            "CA",
            "MA",
            "AZ",
            "WA",
            "IL",
            "TX"
           ],
           "name": "",
           "type": "choropleth",
           "z": [
            1,
            8,
            1,
            1,
            1,
            2,
            1
           ]
          }
         ],
         "name": "02-14-2020"
        },
        {
         "data": [
          {
           "coloraxis": "coloraxis",
           "geo": "geo",
           "hovertemplate": "Date=02-15-2020<br>Code=%{location}<br>Confirmed=%{z}<extra></extra>",
           "locationmode": "USA-states",
           "locations": [
            "MA",
            "AZ",
            "CA",
            "WA",
            "WI",
            "TX",
            "IL"
           ],
           "name": "",
           "type": "choropleth",
           "z": [
            1,
            1,
            8,
            1,
            1,
            1,
            2
           ]
          }
         ],
         "name": "02-15-2020"
        },
        {
         "data": [
          {
           "coloraxis": "coloraxis",
           "geo": "geo",
           "hovertemplate": "Date=02-16-2020<br>Code=%{location}<br>Confirmed=%{z}<extra></extra>",
           "locationmode": "USA-states",
           "locations": [
            "TX",
            "AZ",
            "CA",
            "WA",
            "WI",
            "IL",
            "MA"
           ],
           "name": "",
           "type": "choropleth",
           "z": [
            1,
            1,
            8,
            1,
            1,
            2,
            1
           ]
          }
         ],
         "name": "02-16-2020"
        },
        {
         "data": [
          {
           "coloraxis": "coloraxis",
           "geo": "geo",
           "hovertemplate": "Date=02-17-2020<br>Code=%{location}<br>Confirmed=%{z}<extra></extra>",
           "locationmode": "USA-states",
           "locations": [
            "MA",
            "TX",
            "IL",
            "WA",
            "AZ",
            "WI",
            "CA"
           ],
           "name": "",
           "type": "choropleth",
           "z": [
            1,
            1,
            2,
            1,
            1,
            1,
            8
           ]
          }
         ],
         "name": "02-17-2020"
        },
        {
         "data": [
          {
           "coloraxis": "coloraxis",
           "geo": "geo",
           "hovertemplate": "Date=02-18-2020<br>Code=%{location}<br>Confirmed=%{z}<extra></extra>",
           "locationmode": "USA-states",
           "locations": [
            "MA",
            "AZ",
            "TX",
            "WA",
            "WI",
            "CA",
            "IL"
           ],
           "name": "",
           "type": "choropleth",
           "z": [
            1,
            1,
            1,
            1,
            1,
            8,
            2
           ]
          }
         ],
         "name": "02-18-2020"
        },
        {
         "data": [
          {
           "coloraxis": "coloraxis",
           "geo": "geo",
           "hovertemplate": "Date=02-19-2020<br>Code=%{location}<br>Confirmed=%{z}<extra></extra>",
           "locationmode": "USA-states",
           "locations": [
            "CA",
            "MA",
            "AZ",
            "TX",
            "WA",
            "WI",
            "IL"
           ],
           "name": "",
           "type": "choropleth",
           "z": [
            8,
            1,
            1,
            1,
            1,
            1,
            2
           ]
          }
         ],
         "name": "02-19-2020"
        },
        {
         "data": [
          {
           "coloraxis": "coloraxis",
           "geo": "geo",
           "hovertemplate": "Date=02-20-2020<br>Code=%{location}<br>Confirmed=%{z}<extra></extra>",
           "locationmode": "USA-states",
           "locations": [
            "IL",
            "WA",
            "WI",
            "AZ",
            "TX",
            "CA",
            "MA"
           ],
           "name": "",
           "type": "choropleth",
           "z": [
            2,
            1,
            1,
            1,
            1,
            8,
            1
           ]
          }
         ],
         "name": "02-20-2020"
        },
        {
         "data": [
          {
           "coloraxis": "coloraxis",
           "geo": "geo",
           "hovertemplate": "Date=02-21-2020<br>Code=%{location}<br>Confirmed=%{z}<extra></extra>",
           "locationmode": "USA-states",
           "locations": [
            "MA",
            "WI",
            "NE",
            "TX",
            "WA",
            "CA",
            "IL",
            "AZ"
           ],
           "name": "",
           "type": "choropleth",
           "z": [
            1,
            1,
            11,
            3,
            1,
            15,
            2,
            1
           ]
          }
         ],
         "name": "02-21-2020"
        },
        {
         "data": [
          {
           "coloraxis": "coloraxis",
           "geo": "geo",
           "hovertemplate": "Date=02-22-2020<br>Code=%{location}<br>Confirmed=%{z}<extra></extra>",
           "locationmode": "USA-states",
           "locations": [
            "IL",
            "CA",
            "WA",
            "MA",
            "TX",
            "AZ",
            "WI"
           ],
           "name": "",
           "type": "choropleth",
           "z": [
            2,
            10,
            1,
            1,
            1,
            1,
            1
           ]
          }
         ],
         "name": "02-22-2020"
        },
        {
         "data": [
          {
           "coloraxis": "coloraxis",
           "geo": "geo",
           "hovertemplate": "Date=02-23-2020<br>Code=%{location}<br>Confirmed=%{z}<extra></extra>",
           "locationmode": "USA-states",
           "locations": [
            "WA",
            "MA",
            "AZ",
            "WI",
            "TX",
            "IL",
            "CA"
           ],
           "name": "",
           "type": "choropleth",
           "z": [
            1,
            1,
            1,
            1,
            1,
            2,
            10
           ]
          }
         ],
         "name": "02-23-2020"
        },
        {
         "data": [
          {
           "coloraxis": "coloraxis",
           "geo": "geo",
           "hovertemplate": "Date=02-24-2020<br>Code=%{location}<br>Confirmed=%{z}<extra></extra>",
           "locationmode": "USA-states",
           "locations": [
            "MA",
            "WI",
            "TX",
            "AZ",
            "WA",
            "CA",
            "IL"
           ],
           "name": "",
           "type": "choropleth",
           "z": [
            1,
            1,
            1,
            1,
            1,
            10,
            2
           ]
          }
         ],
         "name": "02-24-2020"
        },
        {
         "data": [
          {
           "coloraxis": "coloraxis",
           "geo": "geo",
           "hovertemplate": "Date=02-25-2020<br>Code=%{location}<br>Confirmed=%{z}<extra></extra>",
           "locationmode": "USA-states",
           "locations": [
            "TX",
            "AZ",
            "MA",
            "IL",
            "CA",
            "WI",
            "WA"
           ],
           "name": "",
           "type": "choropleth",
           "z": [
            1,
            1,
            1,
            2,
            10,
            1,
            1
           ]
          }
         ],
         "name": "02-25-2020"
        },
        {
         "data": [
          {
           "coloraxis": "coloraxis",
           "geo": "geo",
           "hovertemplate": "Date=02-26-2020<br>Code=%{location}<br>Confirmed=%{z}<extra></extra>",
           "locationmode": "USA-states",
           "locations": [
            "IL",
            "AZ",
            "TX",
            "WI",
            "MA",
            "CA",
            "WA"
           ],
           "name": "",
           "type": "choropleth",
           "z": [
            2,
            1,
            1,
            1,
            1,
            10,
            1
           ]
          }
         ],
         "name": "02-26-2020"
        },
        {
         "data": [
          {
           "coloraxis": "coloraxis",
           "geo": "geo",
           "hovertemplate": "Date=02-27-2020<br>Code=%{location}<br>Confirmed=%{z}<extra></extra>",
           "locationmode": "USA-states",
           "locations": [
            "WA",
            "TX",
            "MA",
            "WI",
            "CA",
            "IL",
            "AZ"
           ],
           "name": "",
           "type": "choropleth",
           "z": [
            1,
            1,
            1,
            1,
            11,
            2,
            1
           ]
          }
         ],
         "name": "02-27-2020"
        },
        {
         "data": [
          {
           "coloraxis": "coloraxis",
           "geo": "geo",
           "hovertemplate": "Date=02-28-2020<br>Code=%{location}<br>Confirmed=%{z}<extra></extra>",
           "locationmode": "USA-states",
           "locations": [
            "TX",
            "CA",
            "MA",
            "WA",
            "AZ",
            "WI",
            "IL"
           ],
           "name": "",
           "type": "choropleth",
           "z": [
            1,
            11,
            1,
            1,
            1,
            1,
            2
           ]
          }
         ],
         "name": "02-28-2020"
        },
        {
         "data": [
          {
           "coloraxis": "coloraxis",
           "geo": "geo",
           "hovertemplate": "Date=02-29-2020<br>Code=%{location}<br>Confirmed=%{z}<extra></extra>",
           "locationmode": "USA-states",
           "locations": [
            "WA",
            "MA",
            "WI",
            "OR",
            "CA",
            "TX",
            "IL",
            "AZ"
           ],
           "name": "",
           "type": "choropleth",
           "z": [
            7,
            1,
            1,
            1,
            12,
            1,
            2,
            1
           ]
          }
         ],
         "name": "02-29-2020"
        },
        {
         "data": [
          {
           "coloraxis": "coloraxis",
           "geo": "geo",
           "hovertemplate": "Date=03-01-2020<br>Code=%{location}<br>Confirmed=%{z}<extra></extra>",
           "locationmode": "USA-states",
           "locations": [
            "CA",
            "RI",
            "AZ",
            "IL",
            "OR",
            "TX",
            "WA",
            "WI",
            "MA"
           ],
           "name": "",
           "type": "choropleth",
           "z": [
            12,
            1,
            1,
            3,
            1,
            1,
            11,
            1,
            1
           ]
          }
         ],
         "name": "03-01-2020"
        },
        {
         "data": [
          {
           "coloraxis": "coloraxis",
           "geo": "geo",
           "hovertemplate": "Date=03-02-2020<br>Code=%{location}<br>Confirmed=%{z}<extra></extra>",
           "locationmode": "USA-states",
           "locations": [
            "NY",
            "NH",
            "WI",
            "IL",
            "CA",
            "WA",
            "OR",
            "AZ",
            "RI",
            "TX",
            "FL",
            "MA"
           ],
           "name": "",
           "type": "choropleth",
           "z": [
            1,
            1,
            1,
            4,
            21,
            18,
            3,
            1,
            2,
            1,
            2,
            1
           ]
          }
         ],
         "name": "03-02-2020"
        },
        {
         "data": [
          {
           "coloraxis": "coloraxis",
           "geo": "geo",
           "hovertemplate": "Date=03-03-2020<br>Code=%{location}<br>Confirmed=%{z}<extra></extra>",
           "locationmode": "USA-states",
           "locations": [
            "NY",
            "IL",
            "WI",
            "NC",
            "MA",
            "FL",
            "OR",
            "WA",
            "TX",
            "CA",
            "AZ",
            "RI",
            "GA",
            "NH"
           ],
           "name": "",
           "type": "choropleth",
           "z": [
            2,
            4,
            1,
            1,
            2,
            3,
            3,
            27,
            1,
            25,
            2,
            2,
            2,
            2
           ]
          }
         ],
         "name": "03-03-2020"
        },
        {
         "data": [
          {
           "coloraxis": "coloraxis",
           "geo": "geo",
           "hovertemplate": "Date=03-04-2020<br>Code=%{location}<br>Confirmed=%{z}<extra></extra>",
           "locationmode": "USA-states",
           "locations": [
            "WA",
            "TX",
            "CA",
            "AZ",
            "FL",
            "OR",
            "NY",
            "MA",
            "IL",
            "NH",
            "RI",
            "WI",
            "NC",
            "GA"
           ],
           "name": "",
           "type": "choropleth",
           "z": [
            39,
            1,
            35,
            2,
            3,
            3,
            11,
            2,
            4,
            2,
            2,
            1,
            1,
            2
           ]
          }
         ],
         "name": "03-04-2020"
        },
        {
         "data": [
          {
           "coloraxis": "coloraxis",
           "geo": "geo",
           "hovertemplate": "Date=03-05-2020<br>Code=%{location}<br>Confirmed=%{z}<extra></extra>",
           "locationmode": "USA-states",
           "locations": [
            "TX",
            "OR",
            "FL",
            "MA",
            "GA",
            "NY",
            "NV",
            "WA",
            "WI",
            "AZ",
            "TN",
            "NC",
            "CA",
            "NJ",
            "IL",
            "RI",
            "NH"
           ],
           "name": "",
           "type": "choropleth",
           "z": [
            4,
            3,
            4,
            2,
            2,
            23,
            1,
            70,
            1,
            2,
            1,
            1,
            51,
            2,
            5,
            2,
            2
           ]
          }
         ],
         "name": "03-05-2020"
        },
        {
         "data": [
          {
           "coloraxis": "coloraxis",
           "geo": "geo",
           "hovertemplate": "Date=03-06-2020<br>Code=%{location}<br>Confirmed=%{z}<extra></extra>",
           "locationmode": "USA-states",
           "locations": [
            "AZ",
            "PA",
            "KY",
            "GA",
            "NE",
            "IN",
            "WI",
            "MA",
            "NH",
            "IL",
            "MN",
            "NY",
            "NJ",
            "NV",
            "CA",
            "CO",
            "OR",
            "WA",
            "NC",
            "FL",
            "MD",
            "RI",
            "TX",
            "TN"
           ],
           "name": "",
           "type": "choropleth",
           "z": [
            3,
            2,
            1,
            3,
            1,
            1,
            1,
            7,
            2,
            5,
            1,
            36,
            2,
            2,
            59,
            4,
            3,
            83,
            2,
            4,
            3,
            2,
            5,
            1
           ]
          }
         ],
         "name": "03-06-2020"
        },
        {
         "data": [
          {
           "coloraxis": "coloraxis",
           "geo": "geo",
           "hovertemplate": "Date=03-07-2020<br>Code=%{location}<br>Confirmed=%{z}<extra></extra>",
           "locationmode": "USA-states",
           "locations": [
            "NV",
            "CT",
            "FL",
            "OK",
            "HI",
            "IL",
            "SC",
            "AZ",
            "NH",
            "NY",
            "RI",
            "CA",
            "WA",
            "CO",
            "NC",
            "NJ",
            "MN",
            "OR",
            "PA",
            "IN",
            "TX",
            "MA",
            "MD",
            "NE",
            "TN",
            "KY",
            "UT",
            "WI",
            "GA"
           ],
           "name": "",
           "type": "choropleth",
           "z": [
            2,
            2,
            8,
            1,
            1,
            6,
            2,
            5,
            2,
            76,
            3,
            82,
            107,
            8,
            2,
            4,
            1,
            6,
            2,
            1,
            9,
            7,
            3,
            1,
            1,
            1,
            1,
            1,
            6
           ]
          }
         ],
         "name": "03-07-2020"
        },
        {
         "data": [
          {
           "coloraxis": "coloraxis",
           "geo": "geo",
           "hovertemplate": "Date=03-08-2020<br>Code=%{location}<br>Confirmed=%{z}<extra></extra>",
           "locationmode": "USA-states",
           "locations": [
            "VA",
            "KS",
            "NC",
            "AZ",
            "CO",
            "VT",
            "RI",
            "TN",
            "NJ",
            "NE",
            "KY",
            "SC",
            "IN",
            "NH",
            "MD",
            "CA",
            "IL",
            "WA",
            "HI",
            "TX",
            "WI",
            "GA",
            "OR",
            "PA",
            "UT",
            "OK",
            "MO",
            "CT",
            "NY",
            "MN",
            "MA",
            "NV",
            "FL"
           ],
           "name": "",
           "type": "choropleth",
           "z": [
            2,
            1,
            2,
            5,
            8,
            1,
            3,
            3,
            5,
            1,
            1,
            2,
            2,
            6,
            5,
            98,
            7,
            128,
            1,
            12,
            1,
            5,
            14,
            6,
            1,
            1,
            1,
            1,
            106,
            1,
            24,
            4,
            11
           ]
          }
         ],
         "name": "03-08-2020"
        },
        {
         "data": [
          {
           "coloraxis": "coloraxis",
           "geo": "geo",
           "hovertemplate": "Date=03-09-2020<br>Code=%{location}<br>Confirmed=%{z}<extra></extra>",
           "locationmode": "USA-states",
           "locations": [
            "NH",
            "OK",
            "PA",
            "FL",
            "CO",
            "MD",
            "TN",
            "LA",
            "GA",
            "IN",
            "WI",
            "NE",
            "MO",
            "AZ",
            "KY",
            "OR",
            "IL",
            "NV",
            "CA",
            "UT",
            "NC",
            "IA",
            "MA",
            "KS",
            "VT",
            "NJ",
            "NY",
            "RI",
            "TX",
            "VA",
            "HI",
            "SC",
            "MN",
            "WA",
            "CT"
           ],
           "name": "",
           "type": "choropleth",
           "z": [
            5,
            1,
            7,
            14,
            8,
            5,
            3,
            1,
            10,
            3,
            1,
            3,
            1,
            5,
            4,
            14,
            7,
            4,
            104,
            1,
            2,
            3,
            24,
            1,
            1,
            5,
            142,
            3,
            14,
            2,
            2,
            6,
            2,
            128,
            1
           ]
          }
         ],
         "name": "03-09-2020"
        },
        {
         "data": [
          {
           "coloraxis": "coloraxis",
           "geo": "geo",
           "hovertemplate": "Date=03-10-2020<br>Code=%{location}<br>Confirmed=%{z}<extra></extra>",
           "locationmode": "USA-states",
           "locations": [
            "MD",
            "MN",
            "MT",
            "MA",
            "MS",
            "MI",
            "LA",
            "KY",
            "MO",
            "DC",
            "KS",
            "SD",
            "TN",
            "DE",
            "SC",
            "RI",
            "FL",
            "PA",
            "CT",
            "TX",
            "GA",
            "OR",
            "OK",
            "HI",
            "OH",
            "NC",
            "NY",
            "NV",
            "ID",
            "NM",
            "UT",
            "CO",
            "VA",
            "VT",
            "CA",
            "NJ",
            "IL",
            "NH",
            "IN",
            "NE",
            "ND",
            "IA",
            "AK",
            "ME",
            "WV",
            "AZ",
            "WA",
            "WY",
            "AR",
            "WI"
           ],
           "name": "",
           "type": "choropleth",
           "z": [
            8,
            3,
            0,
            92,
            0,
            0,
            1,
            6,
            1,
            5,
            1,
            0,
            7,
            0,
            7,
            3,
            15,
            12,
            2,
            13,
            17,
            15,
            2,
            2,
            3,
            7,
            173,
            4,
            0,
            0,
            2,
            15,
            7,
            1,
            144,
            15,
            12,
            4,
            6,
            3,
            0,
            8,
            0,
            0,
            0,
            6,
            267,
            0,
            0,
            3
           ]
          }
         ],
         "name": "03-10-2020"
        },
        {
         "data": [
          {
           "coloraxis": "coloraxis",
           "geo": "geo",
           "hovertemplate": "Date=03-11-2020<br>Code=%{location}<br>Confirmed=%{z}<extra></extra>",
           "locationmode": "USA-states",
           "locations": [
            "MD",
            "AK",
            "MS",
            "NE",
            "WA",
            "NC",
            "PA",
            "MA",
            "NY",
            "IA",
            "FL",
            "TN",
            "DC",
            "OH",
            "DE",
            "CT",
            "VT",
            "IN",
            "HI",
            "IL",
            "LA",
            "UT",
            "NH",
            "SC",
            "WV",
            "RI",
            "MO",
            "AR",
            "CO",
            "AZ",
            "MI",
            "KY",
            "OR",
            "TX",
            "NM",
            "MT",
            "MN",
            "WI",
            "KS",
            "ME",
            "NV",
            "OK",
            "GA",
            "NJ",
            "WY",
            "ND",
            "ID",
            "VA",
            "SD",
            "CA"
           ],
           "name": "",
           "type": "choropleth",
           "z": [
            9,
            0,
            0,
            5,
            366,
            7,
            16,
            95,
            220,
            13,
            28,
            9,
            10,
            4,
            1,
            3,
            1,
            11,
            2,
            25,
            6,
            3,
            5,
            10,
            0,
            5,
            1,
            1,
            34,
            9,
            2,
            8,
            19,
            21,
            3,
            1,
            5,
            6,
            1,
            0,
            7,
            2,
            23,
            23,
            0,
            0,
            0,
            9,
            8,
            177
           ]
          }
         ],
         "name": "03-11-2020"
        },
        {
         "data": [
          {
           "coloraxis": "coloraxis",
           "geo": "geo",
           "hovertemplate": "Date=03-12-2020<br>Code=%{location}<br>Confirmed=%{z}<extra></extra>",
           "locationmode": "USA-states",
           "locations": [
            "GA",
            "IL",
            "OH",
            "VT",
            "OR",
            "HI",
            "CO",
            "AZ",
            "MO",
            "SD",
            "NM",
            "MN",
            "WV",
            "WY",
            "LA",
            "ND",
            "IA",
            "UT",
            "WA",
            "MA",
            "DC",
            "NC",
            "NE",
            "DE",
            "VA",
            "PA",
            "WI",
            "KS",
            "ME",
            "MS",
            "NY",
            "NH",
            "NV",
            "FL",
            "OK",
            "CT",
            "NJ",
            "IN",
            "AK",
            "MT",
            "CA",
            "AR",
            "MD",
            "ID",
            "SC",
            "TX",
            "TN",
            "MI",
            "RI",
            "KY"
           ],
           "name": "",
           "type": "choropleth",
           "z": [
            31,
            32,
            5,
            2,
            24,
            2,
            45,
            9,
            1,
            8,
            5,
            9,
            0,
            1,
            19,
            1,
            16,
            5,
            442,
            108,
            10,
            15,
            10,
            1,
            17,
            22,
            8,
            1,
            0,
            1,
            328,
            6,
            14,
            35,
            2,
            5,
            29,
            13,
            0,
            1,
            221,
            6,
            12,
            0,
            12,
            27,
            18,
            2,
            5,
            10
           ]
          }
         ],
         "name": "03-12-2020"
        },
        {
         "data": [
          {
           "coloraxis": "coloraxis",
           "geo": "geo",
           "hovertemplate": "Date=03-13-2020<br>Code=%{location}<br>Confirmed=%{z}<extra></extra>",
           "locationmode": "USA-states",
           "locations": [
            "HI",
            "ND",
            "IL",
            "MS",
            "UT",
            "NC",
            "WY",
            "WV",
            "PA",
            "VA",
            "MO",
            "AZ",
            "WI",
            "NV",
            "CO",
            "NJ",
            "RI",
            "MN",
            "KY",
            "NM",
            "MT",
            "SD",
            "IA",
            "KS",
            "NY",
            "TX",
            "AK",
            "DE",
            "LA",
            "IN",
            "OH",
            "AR",
            "CA",
            "FL",
            "VT",
            "TN",
            "NE",
            "ID",
            "WA",
            "SC",
            "MI",
            "GA",
            "CT",
            "MD",
            "DC",
            "ME",
            "MA",
            "NH",
            "OR",
            "OK",
            "AL"
           ],
           "name": "",
           "type": "choropleth",
           "z": [
            2,
            1,
            46,
            1,
            9,
            17,
            1,
            0,
            41,
            30,
            2,
            9,
            19,
            17,
            49,
            29,
            14,
            14,
            14,
            10,
            1,
            8,
            17,
            5,
            421,
            43,
            1,
            4,
            36,
            13,
            13,
            6,
            282,
            50,
            2,
            26,
            13,
            1,
            568,
            13,
            16,
            42,
            11,
            18,
            10,
            1,
            123,
            6,
            30,
            2,
            5
           ]
          }
         ],
         "name": "03-13-2020"
        },
        {
         "data": [
          {
           "coloraxis": "coloraxis",
           "geo": "geo",
           "hovertemplate": "Date=03-14-2020<br>Code=%{location}<br>Confirmed=%{z}<extra></extra>",
           "locationmode": "USA-states",
           "locations": [
            "HI",
            "UT",
            "OR",
            "KS",
            "IA",
            "PA",
            "WA",
            "KY",
            "TN",
            "CT",
            "NY",
            "MT",
            "MO",
            "GA",
            "NM",
            "WV",
            "DC",
            "TX",
            "NC",
            "NJ",
            "AR",
            "MS",
            "LA",
            "AZ",
            "MN",
            "SD",
            "IN",
            "CA",
            "WI",
            "ID",
            "SC",
            "MI",
            "FL",
            "VA",
            "ND",
            "IL",
            "NE",
            "VT",
            "OH",
            "AL",
            "DE",
            "WY",
            "OK",
            "MA",
            "ME",
            "MD",
            "NV",
            "CO",
            "NH",
            "RI"
           ],
           "name": "",
           "type": "choropleth",
           "z": [
            4,
            10,
            32,
            8,
            17,
            47,
            572,
            14,
            32,
            22,
            525,
            5,
            4,
            66,
            10,
            0,
            10,
            57,
            24,
            69,
            12,
            6,
            77,
            12,
            21,
            9,
            16,
            340,
            27,
            2,
            19,
            25,
            76,
            41,
            1,
            64,
            14,
            5,
            26,
            6,
            6,
            2,
            4,
            138,
            3,
            26,
            21,
            101,
            7,
            20
           ]
          }
         ],
         "name": "03-14-2020"
        },
        {
         "data": [
          {
           "coloraxis": "coloraxis",
           "geo": "geo",
           "hovertemplate": "Date=03-15-2020<br>Code=%{location}<br>Confirmed=%{z}<extra></extra>",
           "locationmode": "USA-states",
           "locations": [
            "WV",
            "IL",
            "NE",
            "ID",
            "OK",
            "NH",
            "NJ",
            "DE",
            "LA",
            "SC",
            "MS",
            "MD",
            "TX",
            "CT",
            "MI",
            "AK",
            "FL",
            "OR",
            "WA",
            "IN",
            "MA",
            "CA",
            "AR",
            "VT",
            "TN",
            "ME",
            "WY",
            "GA",
            "NV",
            "CO",
            "MN",
            "RI",
            "SD",
            "MO",
            "HI",
            "WI",
            "NC",
            "AZ",
            "VA",
            "IA",
            "UT",
            "ND",
            "NM",
            "PA",
            "DC",
            "AL",
            "KY",
            "KS",
            "MT",
            "NY",
            "OH"
           ],
           "name": "",
           "type": "choropleth",
           "z": [
            0,
            93,
            17,
            5,
            7,
            13,
            98,
            7,
            91,
            28,
            10,
            32,
            72,
            24,
            33,
            1,
            115,
            36,
            643,
            20,
            164,
            426,
            16,
            8,
            39,
            12,
            3,
            99,
            24,
            131,
            35,
            20,
            9,
            5,
            6,
            32,
            33,
            13,
            45,
            18,
            28,
            1,
            13,
            66,
            16,
            12,
            20,
            8,
            7,
            732,
            37
           ]
          }
         ],
         "name": "03-15-2020"
        },
        {
         "data": [
          {
           "coloraxis": "coloraxis",
           "geo": "geo",
           "hovertemplate": "Date=03-16-2020<br>Code=%{location}<br>Confirmed=%{z}<extra></extra>",
           "locationmode": "USA-states",
           "locations": [
            "NM",
            "ME",
            "NV",
            "CT",
            "CO",
            "MO",
            "TN",
            "AR",
            "SD",
            "NH",
            "KS",
            "AK",
            "KY",
            "OR",
            "NJ",
            "PA",
            "IA",
            "WV",
            "MD",
            "MS",
            "MA",
            "CA",
            "RI",
            "SC",
            "LA",
            "DC",
            "DE",
            "MT",
            "IL",
            "AL",
            "ID",
            "NE",
            "ND",
            "UT",
            "OK",
            "NY",
            "WY",
            "TX",
            "VA",
            "AZ",
            "WI",
            "VT",
            "WA",
            "IN",
            "HI",
            "OH",
            "GA",
            "NC",
            "MN",
            "MI",
            "FL"
           ],
           "name": "",
           "type": "choropleth",
           "z": [
            17,
            17,
            45,
            30,
            160,
            6,
            52,
            22,
            10,
            17,
            11,
            1,
            21,
            39,
            178,
            77,
            23,
            0,
            41,
            13,
            197,
            557,
            21,
            33,
            136,
            22,
            8,
            7,
            105,
            29,
            5,
            18,
            1,
            39,
            10,
            967,
            3,
            85,
            49,
            18,
            47,
            12,
            904,
            25,
            7,
            50,
            121,
            38,
            54,
            53,
            155
           ]
          }
         ],
         "name": "03-16-2020"
        },
        {
         "data": [
          {
           "coloraxis": "coloraxis",
           "geo": "geo",
           "hovertemplate": "Date=03-17-2020<br>Code=%{location}<br>Confirmed=%{z}<extra></extra>",
           "locationmode": "USA-states",
           "locations": [
            "RI",
            "IL",
            "IA",
            "NH",
            "KS",
            "HI",
            "PA",
            "NC",
            "ND",
            "AL",
            "SC",
            "MT",
            "DC",
            "NE",
            "FL",
            "WY",
            "IN",
            "AR",
            "TN",
            "WV",
            "DE",
            "KY",
            "SD",
            "WI",
            "ID",
            "MS",
            "OR",
            "MA",
            "CT",
            "VA",
            "AZ",
            "MI",
            "WA",
            "OH",
            "MN",
            "CO",
            "LA",
            "NM",
            "GA",
            "MO",
            "TX",
            "AK",
            "UT",
            "NY",
            "MD",
            "ME",
            "NV",
            "NJ",
            "OK",
            "VT",
            "CA"
           ],
           "name": "",
           "type": "choropleth",
           "z": [
            23,
            161,
            23,
            26,
            18,
            10,
            112,
            64,
            3,
            39,
            47,
            9,
            22,
            21,
            216,
            11,
            30,
            22,
            74,
            1,
            16,
            26,
            11,
            72,
            8,
            21,
            66,
            218,
            68,
            67,
            20,
            65,
            1076,
            67,
            60,
            160,
            196,
            23,
            146,
            11,
            110,
            3,
            51,
            1706,
            60,
            32,
            56,
            267,
            19,
            12,
            698
           ]
          }
         ],
         "name": "03-17-2020"
        },
        {
         "data": [
          {
           "coloraxis": "coloraxis",
           "geo": "geo",
           "hovertemplate": "Date=03-18-2020<br>Code=%{location}<br>Confirmed=%{z}<extra></extra>",
           "locationmode": "USA-states",
           "locations": [
            "NV",
            "MN",
            "IA",
            "SD",
            "NC",
            "HI",
            "MO",
            "RI",
            "CO",
            "OH",
            "PA",
            "VT",
            "WV",
            "NM",
            "IL",
            "KS",
            "CA",
            "IN",
            "MI",
            "FL",
            "NE",
            "OK",
            "ID",
            "DE",
            "MA",
            "NH",
            "ME",
            "SC",
            "WI",
            "AL",
            "ND",
            "VA",
            "AZ",
            "MD",
            "UT",
            "AK",
            "KY",
            "WA",
            "TX",
            "TN",
            "MT",
            "GA",
            "AR",
            "WY",
            "NJ",
            "CT",
            "LA",
            "MS",
            "DC",
            "NY",
            "OR"
           ],
           "name": "",
           "type": "choropleth",
           "z": [
            55,
            77,
            29,
            11,
            70,
            14,
            18,
            33,
            184,
            86,
            152,
            18,
            1,
            23,
            162,
            18,
            751,
            39,
            83,
            314,
            24,
            19,
            9,
            19,
            218,
            26,
            42,
            47,
            92,
            46,
            6,
            77,
            27,
            85,
            51,
            6,
            27,
            1014,
            173,
            79,
            11,
            199,
            33,
            15,
            267,
            68,
            257,
            34,
            31,
            2495,
            68
           ]
          }
         ],
         "name": "03-18-2020"
        },
        {
         "data": [
          {
           "coloraxis": "coloraxis",
           "geo": "geo",
           "hovertemplate": "Date=03-19-2020<br>Code=%{location}<br>Confirmed=%{z}<extra></extra>",
           "locationmode": "USA-states",
           "locations": [
            "TN",
            "MN",
            "KY",
            "WY",
            "SD",
            "CA",
            "HI",
            "OR",
            "IN",
            "VA",
            "FL",
            "SC",
            "MA",
            "AK",
            "AZ",
            "DE",
            "ID",
            "WA",
            "IA",
            "CT",
            "AL",
            "MI",
            "MS",
            "ND",
            "NE",
            "WI",
            "WV",
            "AR",
            "MT",
            "IL",
            "UT",
            "NV",
            "NJ",
            "RI",
            "DC",
            "NC",
            "VT",
            "MO",
            "GA",
            "TX",
            "OH",
            "NH",
            "MD",
            "PA",
            "OK",
            "NY",
            "ME",
            "CO",
            "LA",
            "KS",
            "NM"
           ],
           "name": "",
           "type": "choropleth",
           "z": [
            154,
            89,
            37,
            18,
            11,
            952,
            16,
            88,
            60,
            99,
            417,
            81,
            328,
            9,
            45,
            30,
            11,
            1376,
            44,
            159,
            78,
            334,
            50,
            18,
            29,
            159,
            2,
            62,
            11,
            422,
            80,
            95,
            742,
            44,
            40,
            123,
            22,
            31,
            287,
            260,
            119,
            44,
            107,
            206,
            44,
            5365,
            52,
            277,
            392,
            34,
            35
           ]
          }
         ],
         "name": "03-19-2020"
        },
        {
         "data": [
          {
           "coloraxis": "coloraxis",
           "geo": "geo",
           "hovertemplate": "Date=03-20-2020<br>Code=%{location}<br>Confirmed=%{z}<extra></extra>",
           "locationmode": "USA-states",
           "locations": [
            "HI",
            "DE",
            "NV",
            "AZ",
            "MD",
            "ID",
            "MA",
            "TN",
            "IL",
            "OK",
            "KY",
            "NY",
            "CA",
            "ME",
            "RI",
            "MI",
            "VT",
            "AR",
            "IN",
            "NE",
            "NJ",
            "FL",
            "NH",
            "MS",
            "OR",
            "MT",
            "GA",
            "MN",
            "PA",
            "VA",
            "KS",
            "ND",
            "TX",
            "AL",
            "WY",
            "CT",
            "OH",
            "MO",
            "IA",
            "LA",
            "WI",
            "WA",
            "UT",
            "SD",
            "NM",
            "CO",
            "AK",
            "WV",
            "NC",
            "SC",
            "DC"
           ],
           "name": "",
           "type": "choropleth",
           "z": [
            26,
            38,
            114,
            78,
            149,
            23,
            413,
            233,
            585,
            49,
            47,
            8310,
            1177,
            56,
            54,
            552,
            29,
            96,
            86,
            37,
            890,
            563,
            44,
            80,
            114,
            15,
            420,
            115,
            303,
            122,
            44,
            19,
            394,
            83,
            19,
            194,
            173,
            53,
            45,
            538,
            207,
            1524,
            78,
            14,
            43,
            363,
            12,
            7,
            172,
            126,
            71
           ]
          }
         ],
         "name": "03-20-2020"
        },
        {
         "data": [
          {
           "coloraxis": "coloraxis",
           "geo": "geo",
           "hovertemplate": "Date=03-21-2020<br>Code=%{location}<br>Confirmed=%{z}<extra></extra>",
           "locationmode": "USA-states",
           "locations": [
            "KS",
            "OR",
            "TX",
            "NM",
            "ME",
            "AR",
            "CO",
            "TN",
            "MD",
            "LA",
            "NH",
            "NJ",
            "NC",
            "RI",
            "MO",
            "OH",
            "VT",
            "KY",
            "UT",
            "NV",
            "DC",
            "GA",
            "PA",
            "OK",
            "AL",
            "ND",
            "DE",
            "HI",
            "AZ",
            "CT",
            "IL",
            "MI",
            "ID",
            "VA",
            "NE",
            "WI",
            "MA",
            "FL",
            "AK",
            "MT",
            "SC",
            "SD",
            "CA",
            "NY",
            "WA",
            "MN",
            "IN",
            "WY",
            "MS",
            "WV",
            "IA"
           ],
           "name": "",
           "type": "choropleth",
           "z": [
            57,
            114,
            581,
            43,
            70,
            122,
            390,
            371,
            193,
            585,
            55,
            1327,
            253,
            66,
            74,
            248,
            29,
            87,
            136,
            161,
            98,
            507,
            396,
            53,
            131,
            28,
            45,
            37,
            118,
            194,
            753,
            788,
            36,
            156,
            38,
            282,
            525,
            659,
            15,
            21,
            171,
            14,
            1364,
            11710,
            1793,
            138,
            128,
            23,
            140,
            8,
            68
           ]
          }
         ],
         "name": "03-21-2020"
        },
        {
         "data": [
          {
           "coloraxis": "coloraxis",
           "geo": "geo",
           "hovertemplate": "Date=03-22-2020<br>Code=%{location}<br>Confirmed=%{z}<extra></extra>",
           "locationmode": "USA-states",
           "locations": [
            "ID",
            "NV",
            "GA",
            "WI",
            "AL",
            "HI",
            "OK",
            "AR",
            "FL",
            "NJ",
            "PA",
            "OR",
            "NM",
            "WV",
            "IL",
            "NC",
            "WY",
            "AK",
            "MO",
            "IN",
            "TX",
            "CT",
            "MI",
            "WA",
            "NE",
            "MT",
            "IA",
            "SD",
            "MA",
            "DC",
            "ND",
            "VA",
            "CO",
            "DE",
            "SC",
            "MN",
            "CA",
            "AZ",
            "KS",
            "ME",
            "TN",
            "RI",
            "UT",
            "NH",
            "MS",
            "MD",
            "LA",
            "NY",
            "KY",
            "OH",
            "VT"
           ],
           "name": "",
           "type": "choropleth",
           "z": [
            42,
            190,
            621,
            381,
            157,
            53,
            67,
            165,
            1004,
            1914,
            509,
            161,
            57,
            16,
            1049,
            305,
            26,
            20,
            87,
            204,
            643,
            327,
            1035,
            1997,
            51,
            34,
            90,
            21,
            646,
            204,
            28,
            220,
            591,
            56,
            196,
            167,
            1646,
            152,
            65,
            89,
            505,
            83,
            162,
            74,
            207,
            244,
            837,
            15800,
            103,
            356,
            52
           ]
          }
         ],
         "name": "03-22-2020"
        },
        {
         "data": [
          {
           "coloraxis": "coloraxis",
           "geo": "geo",
           "hovertemplate": "Date=03-23-2020<br>Code=%{location}<br>Confirmed=%{z}<extra></extra>",
           "locationmode": "USA-states",
           "locations": [
            "LA",
            "WA",
            "ND",
            "DC",
            "NV",
            "NC",
            "MO",
            "AL",
            "SD",
            "TX",
            "NM",
            "CO",
            "MN",
            "GA",
            "TN",
            "UT",
            "PA",
            "KS",
            "OH",
            "NJ",
            "WI",
            "SC",
            "OR",
            "VT",
            "MS",
            "IL",
            "MD",
            "NH",
            "RI",
            "ME",
            "KY",
            "HI",
            "NY",
            "AR",
            "AZ",
            "AK",
            "OK",
            "CA",
            "WV",
            "VA",
            "MT",
            "DE",
            "MA",
            "ID",
            "CT",
            "WY",
            "IA",
            "MI",
            "IN",
            "NE",
            "FL"
           ],
           "name": "",
           "type": "choropleth",
           "z": [
            1172,
            2221,
            30,
            120,
            245,
            353,
            187,
            196,
            28,
            758,
            83,
            704,
            234,
            772,
            614,
            257,
            698,
            84,
            443,
            2844,
            425,
            298,
            191,
            75,
            249,
            1285,
            290,
            101,
            106,
            107,
            123,
            56,
            20884,
            192,
            235,
            30,
            81,
            2108,
            16,
            254,
            34,
            68,
            777,
            68,
            415,
            26,
            105,
            1329,
            270,
            51,
            1227
           ]
          }
         ],
         "name": "03-23-2020"
        },
        {
         "data": [
          {
           "coloraxis": "coloraxis",
           "geo": "geo",
           "hovertemplate": "Date=03-24-2020<br>Code=%{location}<br>Confirmed=%{z}<extra></extra>",
           "locationmode": "USA-states",
           "locations": [
            "CT",
            "WA",
            "TX",
            "MS",
            "AK",
            "LA",
            "VT",
            "NY",
            "MD",
            "WI",
            "ME",
            "AZ",
            "OK",
            "CA",
            "OH",
            "MI",
            "ID",
            "VA",
            "NM",
            "CO",
            "MN",
            "MO",
            "UT",
            "GA",
            "MA",
            "OR",
            "NV",
            "TN",
            "KS",
            "RI",
            "SD",
            "NH",
            "NC",
            "AL",
            "ND",
            "DC",
            "AR",
            "IL",
            "SC",
            "WV",
            "MT",
            "WY",
            "PA",
            "KY",
            "DE",
            "IA",
            "IN",
            "NJ",
            "HI",
            "NE",
            "FL"
           ],
           "name": "",
           "type": "choropleth",
           "z": [
            618,
            2328,
            955,
            320,
            34,
            1388,
            95,
            25681,
            349,
            481,
            118,
            326,
            106,
            2538,
            567,
            1793,
            81,
            293,
            100,
            723,
            261,
            257,
            298,
            1026,
            1159,
            210,
            278,
            772,
            100,
            124,
            30,
            101,
            495,
            242,
            36,
            141,
            219,
            1537,
            342,
            22,
            51,
            29,
            946,
            162,
            104,
            124,
            368,
            3675,
            90,
            66,
            1412
           ]
          }
         ],
         "name": "03-24-2020"
        },
        {
         "data": [
          {
           "coloraxis": "coloraxis",
           "geo": "geo",
           "hovertemplate": "Date=03-25-2020<br>Code=%{location}<br>Confirmed=%{z}<extra></extra>",
           "locationmode": "USA-states",
           "locations": [
            "VA",
            "MN",
            "SD",
            "MI",
            "CO",
            "AR",
            "AL",
            "MA",
            "FL",
            "OK",
            "ND",
            "AZ",
            "NJ",
            "NE",
            "SC",
            "ID",
            "ME",
            "DE",
            "WV",
            "IA",
            "NM",
            "AK",
            "RI",
            "TX",
            "WA",
            "OR",
            "VT",
            "MS",
            "HI",
            "KY",
            "NY",
            "CT",
            "IL",
            "WY",
            "MT",
            "TN",
            "PA",
            "MD",
            "OH",
            "IN",
            "NV",
            "CA",
            "MO",
            "DC",
            "LA",
            "WI",
            "NC",
            "NH",
            "UT",
            "KS",
            "GA"
           ],
           "name": "",
           "type": "choropleth",
           "z": [
            396,
            286,
            41,
            2296,
            1021,
            280,
            381,
            1838,
            1682,
            164,
            45,
            401,
            4402,
            71,
            424,
            91,
            142,
            119,
            39,
            146,
            113,
            41,
            132,
            1229,
            2591,
            266,
            125,
            377,
            91,
            197,
            30841,
            875,
            1865,
            44,
            65,
            916,
            1260,
            425,
            704,
            477,
            323,
            2998,
            354,
            187,
            1795,
            621,
            590,
            108,
            340,
            134,
            1247
           ]
          }
         ],
         "name": "03-25-2020"
        },
        {
         "data": [
          {
           "coloraxis": "coloraxis",
           "geo": "geo",
           "hovertemplate": "Date=03-26-2020<br>Code=%{location}<br>Confirmed=%{z}<extra></extra>",
           "locationmode": "USA-states",
           "locations": [
            "NY",
            "ME",
            "VT",
            "AR",
            "NV",
            "NE",
            "NH",
            "OK",
            "WI",
            "MD",
            "AZ",
            "IA",
            "IL",
            "RI",
            "NJ",
            "IN",
            "KS",
            "NC",
            "LA",
            "DC",
            "MO",
            "MT",
            "OH",
            "TX",
            "TN",
            "WY",
            "CT",
            "KY",
            "MS",
            "WA",
            "OR",
            "GA",
            "CA",
            "UT",
            "SD",
            "MI",
            "MA",
            "FL",
            "ID",
            "DE",
            "PA",
            "WV",
            "VA",
            "AK",
            "ND",
            "NM",
            "AL",
            "CO",
            "MN",
            "SC",
            "HI"
           ],
           "name": "",
           "type": "choropleth",
           "z": [
            37877,
            155,
            158,
            335,
            420,
            74,
            137,
            248,
            728,
            583,
            508,
            179,
            2538,
            165,
            6876,
            645,
            172,
            738,
            2304,
            231,
            520,
            90,
            868,
            1563,
            1097,
            53,
            1012,
            247,
            485,
            3207,
            316,
            1525,
            3899,
            396,
            46,
            2845,
            2417,
            2357,
            146,
            130,
            1795,
            52,
            466,
            56,
            51,
            113,
            517,
            1430,
            344,
            424,
            95
           ]
          }
         ],
         "name": "03-26-2020"
        },
        {
         "data": [
          {
           "coloraxis": "coloraxis",
           "geo": "geo",
           "hovertemplate": "Date=03-27-2020<br>Code=%{location}<br>Confirmed=%{z}<extra></extra>",
           "locationmode": "USA-states",
           "locations": [
            "IA",
            "NV",
            "OH",
            "HI",
            "GA",
            "OK",
            "SD",
            "KS",
            "NC",
            "WI",
            "MT",
            "TN",
            "WY",
            "KY",
            "WA",
            "MS",
            "CT",
            "TX",
            "NY",
            "MO",
            "UT",
            "MN",
            "CO",
            "AK",
            "VA",
            "MA",
            "MI",
            "CA",
            "AZ",
            "ME",
            "MD",
            "VT",
            "LA",
            "ND",
            "DC",
            "SC",
            "WV",
            "PA",
            "FL",
            "OR",
            "AR",
            "IL",
            "NJ",
            "NH",
            "NM",
            "AL",
            "NE",
            "IN",
            "ID",
            "DE",
            "RI"
           ],
           "name": "",
           "type": "choropleth",
           "z": [
            235,
            536,
            1137,
            106,
            2000,
            322,
            58,
            206,
            887,
            926,
            109,
            1318,
            70,
            301,
            3477,
            579,
            1291,
            1937,
            44876,
            666,
            472,
            396,
            1433,
            58,
            607,
            3240,
            3634,
            4657,
            665,
            168,
            775,
            184,
            2744,
            68,
            271,
            542,
            76,
            2345,
            2900,
            416,
            381,
            3024,
            8825,
            158,
            136,
            587,
            82,
            979,
            205,
            163,
            203
           ]
          }
         ],
         "name": "03-27-2020"
        },
        {
         "data": [
          {
           "coloraxis": "coloraxis",
           "geo": "geo",
           "hovertemplate": "Date=03-28-2020<br>Code=%{location}<br>Confirmed=%{z}<extra></extra>",
           "locationmode": "USA-states",
           "locations": [
            "NM",
            "AL",
            "NJ",
            "MI",
            "MA",
            "ID",
            "NV",
            "MD",
            "AK",
            "ME",
            "WV",
            "LA",
            "ND",
            "MO",
            "IL",
            "MS",
            "WY",
            "NH",
            "KY",
            "IA",
            "NE",
            "MT",
            "NC",
            "KS",
            "IN",
            "MN",
            "NY",
            "VT",
            "CT",
            "TN",
            "WA",
            "OH",
            "PA",
            "FL",
            "AR",
            "DC",
            "CO",
            "HI",
            "CA",
            "UT",
            "OK",
            "VA",
            "RI",
            "OR",
            "SD",
            "GA",
            "WI",
            "TX",
            "SC",
            "DE",
            "AZ"
           ],
           "name": "",
           "type": "choropleth",
           "z": [
            208,
            694,
            11124,
            4650,
            4257,
            234,
            626,
            995,
            85,
            211,
            96,
            3315,
            94,
            836,
            3491,
            663,
            82,
            187,
            380,
            298,
            96,
            129,
            1020,
            266,
            1233,
            441,
            52410,
            211,
            1524,
            1511,
            4030,
            1406,
            2845,
            3763,
            409,
            304,
            1740,
            149,
            5095,
            602,
            377,
            740,
            239,
            479,
            68,
            2366,
            1055,
            2455,
            660,
            214,
            773
           ]
          }
         ],
         "name": "03-28-2020"
        },
        {
         "data": [
          {
           "coloraxis": "coloraxis",
           "geo": "geo",
           "hovertemplate": "Date=03-29-2020<br>Code=%{location}<br>Confirmed=%{z}<extra></extra>",
           "locationmode": "USA-states",
           "locations": [
            "TX",
            "MO",
            "LA",
            "SD",
            "MN",
            "OK",
            "NM",
            "WY",
            "UT",
            "AK",
            "VA",
            "MA",
            "WI",
            "NV",
            "ID",
            "CO",
            "OR",
            "NJ",
            "DE",
            "NE",
            "SC",
            "ND",
            "RI",
            "NH",
            "KS",
            "NC",
            "IL",
            "AR",
            "CT",
            "DC",
            "WV",
            "MT",
            "TN",
            "AL",
            "KY",
            "PA",
            "WA",
            "MS",
            "MI",
            "GA",
            "FL",
            "CA",
            "IN",
            "NY",
            "OH",
            "VT",
            "AZ",
            "ME",
            "MD",
            "HI",
            "IA"
           ],
           "name": "",
           "type": "choropleth",
           "z": [
            2792,
            915,
            3540,
            90,
            503,
            429,
            237,
            86,
            720,
            102,
            890,
            4955,
            1164,
            920,
            281,
            2307,
            548,
            13386,
            232,
            108,
            774,
            98,
            294,
            214,
            330,
            1191,
            4596,
            426,
            1993,
            342,
            113,
            154,
            1720,
            825,
            438,
            3432,
            4465,
            759,
            5488,
            2651,
            4246,
            5852,
            1513,
            59648,
            1653,
            235,
            919,
            253,
            1239,
            149,
            336
           ]
          }
         ],
         "name": "03-29-2020"
        },
        {
         "data": [
          {
           "coloraxis": "coloraxis",
           "geo": "geo",
           "hovertemplate": "Date=03-30-2020<br>Code=%{location}<br>Confirmed=%{z}<extra></extra>",
           "locationmode": "USA-states",
           "locations": [
            "UT",
            "KY",
            "AR",
            "AK",
            "KS",
            "VA",
            "ID",
            "NJ",
            "CT",
            "AL",
            "MD",
            "SD",
            "SC",
            "ND",
            "WV",
            "OK",
            "OR",
            "IL",
            "MN",
            "GA",
            "HI",
            "WA",
            "CO",
            "NM",
            "MS",
            "NC",
            "IA",
            "MA",
            "PA",
            "TN",
            "MO",
            "AZ",
            "MI",
            "RI",
            "IN",
            "DE",
            "ME",
            "NH",
            "VT",
            "LA",
            "MT",
            "NE",
            "DC",
            "NV",
            "TX",
            "FL",
            "NY",
            "WI",
            "CA",
            "WY",
            "OH"
           ],
           "name": "",
           "type": "choropleth",
           "z": [
            798,
            479,
            473,
            114,
            372,
            1020,
            340,
            16636,
            2571,
            899,
            1413,
            101,
            925,
            109,
            145,
            481,
            606,
            5056,
            576,
            2808,
            175,
            4923,
            2311,
            237,
            847,
            1313,
            424,
            5752,
            4155,
            1917,
            1051,
            1157,
            6498,
            408,
            1786,
            264,
            275,
            314,
            256,
            4025,
            171,
            145,
            401,
            1012,
            3147,
            5473,
            66663,
            1230,
            7138,
            94,
            1933
           ]
          }
         ],
         "name": "03-30-2020"
        },
        {
         "data": [
          {
           "coloraxis": "coloraxis",
           "geo": "geo",
           "hovertemplate": "Date=03-31-2020<br>Code=%{location}<br>Confirmed=%{z}<extra></extra>",
           "locationmode": "USA-states",
           "locations": [
            "CT",
            "CO",
            "TX",
            "NC",
            "WY",
            "RI",
            "OR",
            "MO",
            "WV",
            "ID",
            "LA",
            "KS",
            "NH",
            "SD",
            "AZ",
            "NJ",
            "NY",
            "MN",
            "MS",
            "GA",
            "HI",
            "PA",
            "DC",
            "WI",
            "ME",
            "NV",
            "NE",
            "MA",
            "OK",
            "TN",
            "OH",
            "MI",
            "MT",
            "VT",
            "FL",
            "CA",
            "IN",
            "DE",
            "VA",
            "AL",
            "IA",
            "NM",
            "WA",
            "MD",
            "AK",
            "KY",
            "AR",
            "ND",
            "UT",
            "SC",
            "IL"
           ],
           "name": "",
           "type": "choropleth",
           "z": [
            3128,
            2966,
            3809,
            1535,
            109,
            488,
            690,
            1357,
            162,
            515,
            5237,
            434,
            357,
            108,
            1289,
            18696,
            75833,
            629,
            937,
            3929,
            204,
            4963,
            495,
            1412,
            303,
            1114,
            172,
            6620,
            568,
            2391,
            2199,
            7615,
            198,
            293,
            6741,
            8210,
            2158,
            319,
            1249,
            987,
            497,
            315,
            5432,
            1660,
            119,
            628,
            523,
            122,
            888,
            1083,
            5994
           ]
          }
         ],
         "name": "03-31-2020"
        },
        {
         "data": [
          {
           "coloraxis": "coloraxis",
           "geo": "geo",
           "hovertemplate": "Date=04-01-2020<br>Code=%{location}<br>Confirmed=%{z}<extra></extra>",
           "locationmode": "USA-states",
           "locations": [
            "OR",
            "MT",
            "IL",
            "FL",
            "MD",
            "NC",
            "CT",
            "OH",
            "TN",
            "WA",
            "KY",
            "AZ",
            "KS",
            "PA",
            "NH",
            "NJ",
            "AL",
            "DC",
            "MO",
            "MS",
            "VT",
            "MN",
            "ID",
            "NY",
            "NV",
            "NE",
            "CO",
            "WV",
            "VA",
            "OK",
            "HI",
            "NM",
            "IA",
            "AK",
            "ND",
            "GA",
            "UT",
            "MA",
            "DE",
            "SC",
            "ME",
            "IN",
            "SD",
            "CA",
            "WI",
            "RI",
            "LA",
            "WY",
            "MI",
            "TX",
            "AR"
           ],
           "name": "",
           "type": "choropleth",
           "z": [
            736,
            208,
            6980,
            6956,
            1986,
            1675,
            3557,
            2547,
            2933,
            5608,
            632,
            1530,
            485,
            6009,
            367,
            22255,
            1060,
            586,
            1613,
            1073,
            321,
            689,
            566,
            83948,
            1279,
            210,
            2982,
            191,
            1483,
            721,
            224,
            340,
            547,
            132,
            142,
            4638,
            888,
            7738,
            368,
            1293,
            303,
            2564,
            129,
            9399,
            1556,
            566,
            6424,
            130,
            9315,
            4355,
            584
           ]
          }
         ],
         "name": "04-01-2020"
        },
        {
         "data": [
          {
           "coloraxis": "coloraxis",
           "geo": "geo",
           "hovertemplate": "Date=04-02-2020<br>Code=%{location}<br>Confirmed=%{z}<extra></extra>",
           "locationmode": "USA-states",
           "locations": [
            "AK",
            "CA",
            "WA",
            "NY",
            "IA",
            "FL",
            "ME",
            "MA",
            "AL",
            "IN",
            "DE",
            "VA",
            "ND",
            "OH",
            "NE",
            "PA",
            "KY",
            "NV",
            "MI",
            "MT",
            "TN",
            "DC",
            "GA",
            "SD",
            "UT",
            "TX",
            "AR",
            "MO",
            "LA",
            "AZ",
            "NH",
            "NJ",
            "WY",
            "RI",
            "MD",
            "ID",
            "MN",
            "SC",
            "OR",
            "KS",
            "HI",
            "VT",
            "CO",
            "CT",
            "NC",
            "WI",
            "WV",
            "NM",
            "OK",
            "IL",
            "MS"
           ],
           "name": "",
           "type": "choropleth",
           "z": [
            143,
            10773,
            6389,
            92506,
            614,
            9008,
            376,
            8966,
            1233,
            3038,
            393,
            1706,
            159,
            2901,
            246,
            7268,
            770,
            1463,
            10791,
            241,
            3013,
            653,
            5348,
            165,
            1092,
            5069,
            643,
            1857,
            9149,
            1715,
            316,
            25590,
            150,
            645,
            2331,
            776,
            742,
            1554,
            826,
            553,
            256,
            338,
            3342,
            3824,
            1977,
            1748,
            216,
            388,
            881,
            7695,
            1177
           ]
          }
         ],
         "name": "04-02-2020"
        },
        {
         "data": [
          {
           "coloraxis": "coloraxis",
           "geo": "geo",
           "hovertemplate": "Date=04-03-2020<br>Code=%{location}<br>Confirmed=%{z}<extra></extra>",
           "locationmode": "USA-states",
           "locations": [
            "NE",
            "WV",
            "AR",
            "SD",
            "IN",
            "IL",
            "DC",
            "NY",
            "MD",
            "RI",
            "NH",
            "MT",
            "NC",
            "ND",
            "KS",
            "DE",
            "SC",
            "MO",
            "WI",
            "VA",
            "CT",
            "FL",
            "NJ",
            "MN",
            "ME",
            "MS",
            "IA",
            "OK",
            "HI",
            "NV",
            "NM",
            "GA",
            "VT",
            "AK",
            "ID",
            "KY",
            "OH",
            "WA",
            "TX",
            "OR",
            "AL",
            "PA",
            "UT",
            "MI",
            "WY",
            "CO",
            "LA",
            "CA",
            "TN",
            "MA",
            "AZ"
           ],
           "name": "",
           "type": "choropleth",
           "z": [
            279,
            237,
            704,
            187,
            3437,
            8904,
            757,
            102987,
            2758,
            711,
            479,
            243,
            2251,
            173,
            629,
            450,
            1700,
            1864,
            2012,
            2012,
            4914,
            10268,
            29895,
            788,
            432,
            1358,
            699,
            990,
            319,
            1514,
            534,
            5831,
            389,
            157,
            891,
            770,
            3312,
            6846,
            5734,
            899,
            1495,
            8570,
            1255,
            12744,
            162,
            3742,
            10297,
            12004,
            3067,
            10402,
            1937
           ]
          }
         ],
         "name": "04-03-2020"
        },
        {
         "data": [
          {
           "coloraxis": "coloraxis",
           "geo": "geo",
           "hovertemplate": "Date=04-04-2020<br>Code=%{location}<br>Confirmed=%{z}<extra></extra>",
           "locationmode": "USA-states",
           "locations": [
            "FL",
            "MN",
            "RI",
            "ID",
            "OK",
            "WV",
            "VA",
            "NM",
            "CA",
            "IN",
            "DE",
            "MI",
            "MA",
            "MD",
            "NY",
            "NV",
            "IA",
            "OH",
            "NE",
            "ND",
            "AK",
            "WY",
            "UT",
            "SC",
            "CO",
            "LA",
            "ME",
            "IL",
            "DC",
            "KY",
            "WI",
            "WA",
            "AL",
            "CT",
            "NC",
            "PA",
            "KS",
            "OR",
            "MS",
            "VT",
            "HI",
            "AR",
            "SD",
            "TX",
            "NH",
            "GA",
            "NJ",
            "AZ",
            "MT",
            "TN",
            "MO"
           ],
           "name": "",
           "type": "choropleth",
           "z": [
            11537,
            865,
            806,
            1022,
            1161,
            282,
            2407,
            534,
            12837,
            3953,
            593,
            14225,
            11736,
            3125,
            113833,
            1742,
            787,
            3739,
            321,
            186,
            171,
            187,
            1435,
            1917,
            4188,
            12496,
            456,
            10357,
            902,
            917,
            2030,
            7247,
            1614,
            5276,
            2486,
            10444,
            698,
            899,
            1455,
            461,
            351,
            743,
            212,
            6567,
            540,
            6160,
            34124,
            2187,
            265,
            3322,
            2310
           ]
          }
         ],
         "name": "04-04-2020"
        },
        {
         "data": [
          {
           "coloraxis": "coloraxis",
           "geo": "geo",
           "hovertemplate": "Date=04-05-2020<br>Code=%{location}<br>Confirmed=%{z}<extra></extra>",
           "locationmode": "USA-states",
           "locations": [
            "MT",
            "ME",
            "MD",
            "MA",
            "WA",
            "TN",
            "CA",
            "DE",
            "IN",
            "MI",
            "KY",
            "LA",
            "DC",
            "TX",
            "MN",
            "MO",
            "SD",
            "SC",
            "AZ",
            "VT",
            "UT",
            "WY",
            "AK",
            "KS",
            "NC",
            "CO",
            "ND",
            "VA",
            "MS",
            "CT",
            "IA",
            "NM",
            "NE",
            "PA",
            "AL",
            "GA",
            "OK",
            "NH",
            "NJ",
            "OR",
            "HI",
            "AR",
            "WI",
            "IL",
            "ID",
            "RI",
            "WV",
            "NV",
            "FL",
            "OH",
            "NY"
           ],
           "name": "",
           "type": "choropleth",
           "z": [
            286,
            470,
            3617,
            12500,
            7825,
            3633,
            15034,
            673,
            4411,
            15718,
            955,
            13010,
            1002,
            7209,
            935,
            2347,
            240,
            2049,
            2486,
            512,
            1608,
            197,
            185,
            751,
            2649,
            4950,
            207,
            2640,
            1638,
            5675,
            869,
            670,
            364,
            11589,
            1765,
            6647,
            1254,
            621,
            37505,
            1068,
            371,
            837,
            2320,
            11259,
            1078,
            922,
            324,
            1855,
            12350,
            4043,
            123160
           ]
          }
         ],
         "name": "04-05-2020"
        },
        {
         "data": [
          {
           "coloraxis": "coloraxis",
           "geo": "geo",
           "hovertemplate": "Date=04-06-2020<br>Code=%{location}<br>Confirmed=%{z}<extra></extra>",
           "locationmode": "USA-states",
           "locations": [
            "ND",
            "CO",
            "GA",
            "OH",
            "WV",
            "MA",
            "ID",
            "ME",
            "VA",
            "MO",
            "NE",
            "NH",
            "PA",
            "FL",
            "RI",
            "TN",
            "TX",
            "CA",
            "SC",
            "AR",
            "LA",
            "MI",
            "UT",
            "SD",
            "KS",
            "IA",
            "HI",
            "MS",
            "WY",
            "MD",
            "NC",
            "DC",
            "NY",
            "CT",
            "IL",
            "WI",
            "VT",
            "IN",
            "MT",
            "NM",
            "KY",
            "OR",
            "NV",
            "DE",
            "OK",
            "AZ",
            "AK",
            "MN",
            "AL",
            "WA",
            "NJ"
           ],
           "name": "",
           "type": "choropleth",
           "z": [
            225,
            5183,
            7314,
            4453,
            345,
            13837,
            1101,
            499,
            2878,
            2736,
            417,
            715,
            13127,
            13324,
            1082,
            3802,
            8043,
            16019,
            2232,
            875,
            14867,
            17221,
            1685,
            288,
            849,
            946,
            387,
            1738,
            210,
            4045,
            2962,
            1097,
            131815,
            6906,
            12262,
            2449,
            543,
            4956,
            299,
            757,
            955,
            1068,
            1953,
            783,
            1329,
            2732,
            190,
            986,
            1952,
            8311,
            41090
           ]
          }
         ],
         "name": "04-06-2020"
        },
        {
         "data": [
          {
           "coloraxis": "coloraxis",
           "geo": "geo",
           "hovertemplate": "Date=04-07-2020<br>Code=%{location}<br>Confirmed=%{z}<extra></extra>",
           "locationmode": "USA-states",
           "locations": [
            "UT",
            "IL",
            "OH",
            "NH",
            "VA",
            "MN",
            "WY",
            "MT",
            "DC",
            "RI",
            "CO",
            "OK",
            "ID",
            "SD",
            "AR",
            "AK",
            "KS",
            "NC",
            "NM",
            "WV",
            "VT",
            "WA",
            "HI",
            "NV",
            "IA",
            "IN",
            "DE",
            "MO",
            "ME",
            "GA",
            "CT",
            "OR",
            "ND",
            "NE",
            "AL",
            "KY",
            "CA",
            "TX",
            "NY",
            "SC",
            "MD",
            "LA",
            "MI",
            "AZ",
            "MS",
            "NJ",
            "FL",
            "MA",
            "PA",
            "TN",
            "WI"
           ],
           "name": "",
           "type": "choropleth",
           "z": [
            1746,
            12271,
            4782,
            715,
            3335,
            1069,
            216,
            319,
            1211,
            1229,
            5429,
            1474,
            1170,
            320,
            946,
            213,
            912,
            3299,
            876,
            412,
            575,
            8692,
            410,
            2124,
            1046,
            5510,
            928,
            3130,
            519,
            8822,
            7781,
            1132,
            237,
            447,
            2169,
            1149,
            17351,
            8925,
            139875,
            2417,
            4371,
            16284,
            18970,
            2870,
            1915,
            44416,
            14545,
            15202,
            14853,
            4139,
            2578
           ]
          }
         ],
         "name": "04-07-2020"
        },
        {
         "data": [
          {
           "coloraxis": "coloraxis",
           "geo": "geo",
           "hovertemplate": "Date=04-08-2020<br>Code=%{location}<br>Confirmed=%{z}<extra></extra>",
           "locationmode": "USA-states",
           "locations": [
            "PA",
            "OR",
            "CT",
            "NM",
            "MS",
            "KY",
            "DC",
            "MN",
            "AL",
            "OK",
            "WA",
            "MO",
            "ID",
            "GA",
            "TN",
            "TX",
            "FL",
            "CO",
            "LA",
            "MT",
            "NJ",
            "IL",
            "NY",
            "UT",
            "IN",
            "SC",
            "MA",
            "NV",
            "NC",
            "CA",
            "AR",
            "VT",
            "SD",
            "NE",
            "VA",
            "OH",
            "NH",
            "DE",
            "ME",
            "ND",
            "MI",
            "WY",
            "RI",
            "IA",
            "MD",
            "KS",
            "HI",
            "AZ",
            "WI",
            "WV",
            "AK"
           ],
           "name": "",
           "type": "choropleth",
           "z": [
            16631,
            1181,
            7781,
            902,
            2003,
            1149,
            1440,
            1154,
            2328,
            1526,
            9276,
            3209,
            1210,
            9901,
            4363,
            9777,
            15456,
            5655,
            17030,
            332,
            47437,
            15078,
            151061,
            1855,
            5943,
            2417,
            16790,
            2259,
            3499,
            18897,
            1000,
            605,
            393,
            519,
            3645,
            5148,
            747,
            1116,
            537,
            251,
            20346,
            221,
            1450,
            1145,
            5529,
            1046,
            410,
            3036,
            2710,
            483,
            226
           ]
          }
         ],
         "name": "04-08-2020"
        },
        {
         "data": [
          {
           "coloraxis": "coloraxis",
           "geo": "geo",
           "hovertemplate": "Date=04-09-2020<br>Code=%{location}<br>Confirmed=%{z}<extra></extra>",
           "locationmode": "USA-states",
           "locations": [
            "FL",
            "TX",
            "HI",
            "CA",
            "RI",
            "IN",
            "IL",
            "MO",
            "WI",
            "NE",
            "TN",
            "GA",
            "WA",
            "SC",
            "ND",
            "ME",
            "AZ",
            "NJ",
            "IA",
            "VT",
            "WV",
            "MI",
            "WY",
            "UT",
            "AK",
            "KS",
            "MS",
            "CT",
            "DE",
            "NM",
            "OK",
            "NH",
            "OH",
            "LA",
            "MN",
            "MD",
            "AR",
            "SD",
            "ID",
            "NY",
            "OR",
            "CO",
            "MT",
            "NC",
            "KY",
            "PA",
            "NV",
            "AL",
            "MA",
            "VA",
            "DC"
           ],
           "name": "",
           "type": "choropleth",
           "z": [
            16364,
            11208,
            442,
            19710,
            1727,
            6351,
            15079,
            3432,
            2886,
            568,
            4634,
            10566,
            9639,
            2793,
            269,
            560,
            3018,
            51027,
            1270,
            628,
            514,
            21504,
            230,
            1856,
            235,
            1116,
            2260,
            9784,
            1209,
            865,
            1686,
            819,
            5512,
            18283,
            1240,
            6185,
            1119,
            447,
            1232,
            161779,
            1321,
            5655,
            354,
            3736,
            1341,
            18300,
            2456,
            2703,
            18941,
            4042,
            1523
           ]
          }
         ],
         "name": "04-09-2020"
        },
        {
         "data": [
          {
           "coloraxis": "coloraxis",
           "geo": "geo",
           "hovertemplate": "Date=04-10-2020<br>Code=%{location}<br>Confirmed=%{z}<extra></extra>",
           "locationmode": "USA-states",
           "locations": [
            "MD",
            "VT",
            "AZ",
            "OR",
            "CT",
            "NY",
            "TX",
            "MO",
            "NM",
            "MI",
            "WY",
            "AK",
            "UT",
            "OH",
            "OK",
            "MN",
            "ID",
            "VA",
            "CO",
            "LA",
            "NV",
            "MA",
            "CA",
            "WI",
            "GA",
            "ME",
            "IA",
            "HI",
            "MS",
            "NJ",
            "RI",
            "PA",
            "SC",
            "WV",
            "NH",
            "MT",
            "AL",
            "SD",
            "KS",
            "KY",
            "NC",
            "IN",
            "IL",
            "ND",
            "DE",
            "DC",
            "AR",
            "NE",
            "FL",
            "WA",
            "TN"
           ],
           "name": "",
           "type": "choropleth",
           "z": [
            6968,
            679,
            3112,
            1322,
            10538,
            172348,
            12105,
            3897,
            1081,
            22434,
            239,
            246,
            2103,
            5878,
            1794,
            1336,
            1354,
            4509,
            6202,
            19253,
            2722,
            20974,
            21081,
            3068,
            11485,
            586,
            1388,
            442,
            2469,
            54588,
            1727,
            20051,
            3067,
            574,
            819,
            365,
            2947,
            536,
            1117,
            1693,
            3965,
            6907,
            17887,
            278,
            1326,
            1660,
            1171,
            635,
            17531,
            10119,
            4891
           ]
          }
         ],
         "name": "04-10-2020"
        },
        {
         "data": [
          {
           "coloraxis": "coloraxis",
           "geo": "geo",
           "hovertemplate": "Date=04-11-2020<br>Code=%{location}<br>Confirmed=%{z}<extra></extra>",
           "locationmode": "USA-states",
           "locations": [
            "TN",
            "HI",
            "NY",
            "SD",
            "VA",
            "OH",
            "FL",
            "ID",
            "GA",
            "NC",
            "TX",
            "UT",
            "DC",
            "ND",
            "IL",
            "PA",
            "OK",
            "MI",
            "WY",
            "VT",
            "MN",
            "IN",
            "AK",
            "KS",
            "AZ",
            "MT",
            "CO",
            "WV",
            "RI",
            "LA",
            "NH",
            "NM",
            "NE",
            "SC",
            "OR",
            "IA",
            "CA",
            "NV",
            "MA",
            "AL",
            "MO",
            "KY",
            "CT",
            "MS",
            "MD",
            "DE",
            "ME",
            "AR",
            "NJ",
            "WA",
            "WI"
           ],
           "name": "",
           "type": "choropleth",
           "z": [
            5132,
            465,
            181026,
            626,
            5077,
            6250,
            18494,
            1396,
            12159,
            4354,
            13023,
            2207,
            1778,
            293,
            19180,
            21719,
            1868,
            23605,
            261,
            711,
            1427,
            7435,
            257,
            1275,
            3393,
            377,
            6513,
            577,
            2349,
            20014,
            885,
            1091,
            699,
            3211,
            1371,
            1510,
            21706,
            2702,
            22860,
            3217,
            4108,
            1693,
            11510,
            2642,
            7694,
            1479,
            616,
            1228,
            58151,
            10434,
            3213
           ]
          }
         ],
         "name": "04-11-2020"
        },
        {
         "data": [
          {
           "coloraxis": "coloraxis",
           "geo": "geo",
           "hovertemplate": "Date=04-12-2020<br>Code=%{location}<br>Confirmed=%{z}<extra></extra>",
           "locationmode": "USA-states",
           "locations": [
            "CO",
            "CA",
            "NH",
            "CT",
            "MT",
            "OR",
            "AK",
            "WV",
            "AR",
            "IN",
            "MS",
            "NM",
            "ME",
            "PA",
            "IL",
            "IA",
            "OK",
            "MI",
            "VT",
            "KS",
            "MD",
            "WY",
            "NJ",
            "MN",
            "AZ",
            "NE",
            "WI",
            "ND",
            "UT",
            "DE",
            "TN",
            "WA",
            "NC",
            "GA",
            "MO",
            "HI",
            "FL",
            "MA",
            "DC",
            "TX",
            "NY",
            "SC",
            "SD",
            "VA",
            "OH",
            "KY",
            "NV",
            "ID",
            "LA",
            "RI",
            "AL"
           ],
           "name": "",
           "type": "choropleth",
           "z": [
            7307,
            22795,
            929,
            12035,
            387,
            1527,
            272,
            593,
            1280,
            7928,
            2781,
            1245,
            633,
            22938,
            20852,
            1587,
            1970,
            24244,
            727,
            1344,
            8225,
            270,
            61850,
            1621,
            3542,
            791,
            3341,
            308,
            2303,
            1625,
            5508,
            10609,
            4570,
            12452,
            4269,
            499,
            19895,
            25475,
            1875,
            13677,
            189033,
            3320,
            730,
            5274,
            6604,
            1963,
            2836,
            1407,
            20595,
            2665,
            3563
           ]
          }
         ],
         "name": "04-12-2020"
        },
        {
         "data": [
          {
           "coloraxis": "coloraxis",
           "geo": "geo",
           "hovertemplate": "Date=04-13-2020<br>Code=%{location}<br>Confirmed=%{z}<extra></extra>",
           "locationmode": "USA-states",
           "locations": [
            "NM",
            "NC",
            "IL",
            "ME",
            "UT",
            "SC",
            "ND",
            "RI",
            "WI",
            "DC",
            "HI",
            "MI",
            "AK",
            "IA",
            "VA",
            "KS",
            "NE",
            "NV",
            "MA",
            "WY",
            "AZ",
            "AR",
            "WV",
            "OH",
            "CA",
            "VT",
            "CT",
            "LA",
            "WA",
            "CO",
            "MT",
            "ID",
            "OR",
            "KY",
            "MD",
            "NY",
            "TX",
            "NH",
            "IN",
            "FL",
            "SD",
            "MN",
            "AL",
            "NJ",
            "DE",
            "PA",
            "OK",
            "TN",
            "MS",
            "GA",
            "MO"
           ],
           "name": "",
           "type": "choropleth",
           "z": [
            1262,
            4886,
            22025,
            698,
            2363,
            3391,
            331,
            2665,
            3428,
            1955,
            504,
            25635,
            277,
            1710,
            5747,
            1390,
            814,
            2990,
            26867,
            275,
            3705,
            1410,
            611,
            6975,
            23931,
            748,
            13381,
            21016,
            10635,
            7691,
            394,
            1426,
            1584,
            2018,
            8936,
            195749,
            14275,
            985,
            8359,
            21019,
            868,
            1621,
            3734,
            64584,
            1758,
            24292,
            2069,
            5610,
            2942,
            13315,
            4515
           ]
          }
         ],
         "name": "04-13-2020"
        },
        {
         "data": [
          {
           "coloraxis": "coloraxis",
           "geo": "geo",
           "hovertemplate": "Date=04-14-2020<br>Code=%{location}<br>Confirmed=%{z}<extra></extra>",
           "locationmode": "USA-states",
           "locations": [
            "WA",
            "UT",
            "OH",
            "SC",
            "LA",
            "ID",
            "KY",
            "GA",
            "NJ",
            "DC",
            "HI",
            "DE",
            "NY",
            "TN",
            "VT",
            "TX",
            "NC",
            "AL",
            "VA",
            "FL",
            "WV",
            "NV",
            "CA",
            "MA",
            "MO",
            "NM",
            "PA",
            "AR",
            "MS",
            "IL",
            "ME",
            "ND",
            "MI",
            "OK",
            "NH",
            "KS",
            "SD",
            "IA",
            "AZ",
            "MN",
            "WY",
            "AK",
            "RI",
            "CO",
            "WI",
            "OR",
            "MT",
            "CT",
            "IN",
            "MD",
            "NE"
           ],
           "name": "",
           "type": "choropleth",
           "z": [
            10799,
            2417,
            7285,
            3553,
            21518,
            1464,
            2048,
            14578,
            68824,
            2058,
            511,
            1926,
            203020,
            5827,
            752,
            15006,
            5113,
            3953,
            6182,
            21628,
            640,
            3134,
            25356,
            28164,
            4746,
            1345,
            25465,
            1498,
            3087,
            23248,
            735,
            341,
            27001,
            2184,
            922,
            1441,
            988,
            1899,
            3809,
            1695,
            282,
            285,
            3251,
            7950,
            3555,
            1633,
            399,
            13989,
            8527,
            9472,
            897
           ]
          }
         ],
         "name": "04-14-2020"
        },
        {
         "data": [
          {
           "coloraxis": "coloraxis",
           "geo": "geo",
           "hovertemplate": "Date=04-15-2020<br>Code=%{location}<br>Confirmed=%{z}<extra></extra>",
           "locationmode": "USA-states",
           "locations": [
            "MA",
            "CA",
            "ND",
            "CT",
            "NE",
            "WV",
            "NH",
            "MD",
            "NV",
            "AL",
            "OR",
            "KY",
            "IA",
            "DE",
            "ME",
            "PA",
            "GA",
            "TN",
            "IN",
            "IL",
            "MT",
            "HI",
            "RI",
            "AK",
            "MN",
            "MO",
            "WY",
            "OK",
            "MI",
            "AZ",
            "KS",
            "VT",
            "NM",
            "AR",
            "SD",
            "WI",
            "MS",
            "TX",
            "SC",
            "LA",
            "UT",
            "NJ",
            "WA",
            "NC",
            "OH",
            "ID",
            "NY",
            "DC",
            "CO",
            "VA",
            "FL"
           ],
           "name": "",
           "type": "choropleth",
           "z": [
            29918,
            26686,
            365,
            14755,
            901,
            702,
            1139,
            10032,
            3211,
            4075,
            1663,
            2210,
            1995,
            2014,
            770,
            26753,
            14987,
            5827,
            8960,
            24593,
            404,
            524,
            3251,
            293,
            1809,
            4791,
            287,
            2263,
            28059,
            3964,
            1504,
            759,
            1484,
            1569,
            1168,
            3721,
            3360,
            15907,
            3656,
            21951,
            2548,
            71030,
            10942,
            5340,
            7794,
            1473,
            214454,
            2197,
            7956,
            6500,
            22511
           ]
          }
         ],
         "name": "04-15-2020"
        },
        {
         "data": [
          {
           "coloraxis": "coloraxis",
           "geo": "geo",
           "hovertemplate": "Date=04-16-2020<br>Code=%{location}<br>Confirmed=%{z}<extra></extra>",
           "locationmode": "USA-states",
           "locations": [
            "MD",
            "VT",
            "HI",
            "AZ",
            "WV",
            "ND",
            "NY",
            "RI",
            "IN",
            "AK",
            "PA",
            "KS",
            "NM",
            "ME",
            "OK",
            "SD",
            "MN",
            "AR",
            "WA",
            "MT",
            "CO",
            "LA",
            "ID",
            "GA",
            "TX",
            "FL",
            "NJ",
            "TN",
            "MO",
            "AL",
            "KY",
            "OR",
            "NH",
            "CT",
            "MI",
            "WY",
            "DE",
            "MS",
            "NC",
            "VA",
            "NV",
            "DC",
            "MA",
            "OH",
            "UT",
            "CA",
            "NE",
            "IA",
            "IL",
            "WI",
            "SC"
           ],
           "name": "",
           "type": "choropleth",
           "z": [
            10784,
            774,
            530,
            4237,
            728,
            393,
            223691,
            3529,
            9542,
            300,
            28258,
            1615,
            1484,
            796,
            2357,
            1311,
            1809,
            1620,
            11057,
            415,
            8286,
            22532,
            1587,
            15669,
            16876,
            23343,
            75317,
            6375,
            5174,
            4345,
            2435,
            1736,
            1139,
            15884,
            28809,
            296,
            2070,
            3624,
            5639,
            6889,
            3214,
            2350,
            32181,
            8414,
            2683,
            27677,
            952,
            2141,
            25734,
            3875,
            3931
           ]
          }
         ],
         "name": "04-16-2020"
        },
        {
         "data": [
          {
           "coloraxis": "coloraxis",
           "geo": "geo",
           "hovertemplate": "Date=04-17-2020<br>Code=%{location}<br>Confirmed=%{z}<extra></extra>",
           "locationmode": "USA-states",
           "locations": [
            "ND",
            "WV",
            "OR",
            "MO",
            "NV",
            "TN",
            "NH",
            "NE",
            "NJ",
            "RI",
            "NC",
            "SC",
            "MI",
            "VT",
            "NM",
            "WI",
            "PA",
            "OH",
            "SD",
            "MN",
            "UT",
            "WA",
            "MT",
            "VA",
            "NY",
            "WY",
            "OK",
            "TX",
            "ME",
            "MS",
            "AZ",
            "IA",
            "FL",
            "KY",
            "MD",
            "AK",
            "KS",
            "CO",
            "HI",
            "DE",
            "AL",
            "GA",
            "MA",
            "ID",
            "CA",
            "IL",
            "AR",
            "LA",
            "IN",
            "CT",
            "DC"
           ],
           "name": "",
           "type": "choropleth",
           "z": [
            393,
            775,
            1785,
            5371,
            3524,
            6263,
            1287,
            1066,
            78467,
            4177,
            6045,
            4099,
            30023,
            779,
            1597,
            4053,
            29888,
            9107,
            1411,
            2070,
            2793,
            11517,
            422,
            7491,
            230597,
            305,
            2465,
            17849,
            827,
            3793,
            4511,
            2332,
            24759,
            2522,
            11572,
            309,
            1730,
            8691,
            541,
            2317,
            4571,
            17194,
            34402,
            1609,
            29157,
            27578,
            1695,
            23118,
            10154,
            16809,
            2476
           ]
          }
         ],
         "name": "04-17-2020"
        },
        {
         "data": [
          {
           "coloraxis": "coloraxis",
           "geo": "geo",
           "hovertemplate": "Date=04-18-2020<br>Code=%{location}<br>Confirmed=%{z}<extra></extra>",
           "locationmode": "USA-states",
           "locations": [
            "CT",
            "NV",
            "KS",
            "VA",
            "AK",
            "NE",
            "TX",
            "NC",
            "MD",
            "WY",
            "MT",
            "IA",
            "IL",
            "NH",
            "RI",
            "SD",
            "NJ",
            "ND",
            "ID",
            "IN",
            "MA",
            "ME",
            "WV",
            "UT",
            "SC",
            "DC",
            "DE",
            "AL",
            "CO",
            "NM",
            "MI",
            "CA",
            "MN",
            "TN",
            "HI",
            "AZ",
            "LA",
            "OH",
            "NY",
            "MO",
            "AR",
            "WA",
            "KY",
            "MS",
            "WI",
            "GA",
            "PA",
            "OK",
            "OR",
            "VT",
            "FL"
           ],
           "name": "",
           "type": "choropleth",
           "z": [
            17550,
            3626,
            1821,
            8053,
            314,
            1249,
            18704,
            6328,
            12326,
            309,
            426,
            2513,
            29160,
            1342,
            4491,
            1542,
            81420,
            528,
            1655,
            10641,
            36372,
            847,
            785,
            2917,
            4248,
            2666,
            2538,
            4712,
            9047,
            1798,
            30791,
            30491,
            2209,
            6589,
            574,
            4724,
            23580,
            10222,
            241712,
            5579,
            1744,
            11776,
            2707,
            3974,
            4199,
            17669,
            31652,
            2465,
            1844,
            803,
            25492
           ]
          }
         ],
         "name": "04-18-2020"
        },
        {
         "data": [
          {
           "coloraxis": "coloraxis",
           "geo": "geo",
           "hovertemplate": "Date=04-19-2020<br>Code=%{location}<br>Confirmed=%{z}<extra></extra>",
           "locationmode": "USA-states",
           "locations": [
            "GA",
            "ME",
            "MA",
            "CO",
            "ID",
            "SC",
            "OH",
            "MO",
            "VT",
            "TX",
            "MN",
            "IL",
            "MD",
            "NH",
            "NE",
            "OK",
            "ND",
            "CT",
            "SD",
            "AR",
            "DC",
            "LA",
            "IN",
            "NJ",
            "WV",
            "WA",
            "OR",
            "HI",
            "PA",
            "IA",
            "CA",
            "MT",
            "WY",
            "FL",
            "KY",
            "AK",
            "VA",
            "TN",
            "DE",
            "NV",
            "MS",
            "NC",
            "RI",
            "NY",
            "KS",
            "NM",
            "WI",
            "UT",
            "AZ",
            "AL",
            "MI"
           ],
           "name": "",
           "type": "choropleth",
           "z": [
            18301,
            867,
            38077,
            9730,
            1668,
            4377,
            11602,
            5743,
            813,
            19260,
            2356,
            30357,
            12847,
            1390,
            1474,
            2567,
            585,
            17962,
            1635,
            1781,
            2793,
            23928,
            11211,
            85301,
            890,
            12255,
            1910,
            580,
            32902,
            2902,
            31431,
            433,
            313,
            26314,
            2960,
            319,
            8542,
            7070,
            2538,
            3728,
            4274,
            6601,
            4706,
            247815,
            1905,
            1845,
            4346,
            3069,
            4933,
            4888,
            31424
           ]
          }
         ],
         "name": "04-19-2020"
        },
        {
         "data": [
          {
           "coloraxis": "coloraxis",
           "geo": "geo",
           "hovertemplate": "Date=04-20-2020<br>Code=%{location}<br>Confirmed=%{z}<extra></extra>",
           "locationmode": "USA-states",
           "locations": [
            "AL",
            "CA",
            "WV",
            "NE",
            "MT",
            "AZ",
            "MO",
            "CT",
            "TN",
            "MN",
            "NC",
            "CO",
            "VA",
            "AR",
            "LA",
            "KS",
            "MA",
            "WA",
            "WI",
            "VT",
            "IN",
            "MS",
            "UT",
            "TX",
            "ND",
            "KY",
            "MI",
            "MD",
            "NY",
            "HI",
            "ID",
            "ME",
            "SC",
            "DE",
            "OR",
            "GA",
            "NM",
            "OH",
            "NJ",
            "DC",
            "SD",
            "RI",
            "NV",
            "WY",
            "FL",
            "IA",
            "PA",
            "AK",
            "OK",
            "IL",
            "NH"
           ],
           "name": "",
           "type": "choropleth",
           "z": [
            5079,
            33686,
            902,
            1648,
            433,
            5068,
            5890,
            19815,
            7238,
            2470,
            6895,
            9730,
            8990,
            1973,
            24523,
            2048,
            38077,
            12114,
            4499,
            816,
            11688,
            4512,
            3213,
            19751,
            627,
            3050,
            32000,
            13684,
            253060,
            584,
            1672,
            875,
            4446,
            2745,
            1957,
            19407,
            1971,
            12919,
            88722,
            2927,
            1685,
            5090,
            3830,
            317,
            27059,
            3159,
            33914,
            321,
            2680,
            31513,
            1447
           ]
          }
         ],
         "name": "04-20-2020"
        },
        {
         "data": [
          {
           "coloraxis": "coloraxis",
           "geo": "geo",
           "hovertemplate": "Date=04-21-2020<br>Code=%{location}<br>Confirmed=%{z}<extra></extra>",
           "locationmode": "USA-states",
           "locations": [
            "IA",
            "MT",
            "CA",
            "SC",
            "VA",
            "DE",
            "WI",
            "AL",
            "AK",
            "PA",
            "NV",
            "MI",
            "NY",
            "MS",
            "RI",
            "UT",
            "VT",
            "ME",
            "KY",
            "KS",
            "NC",
            "FL",
            "NM",
            "NE",
            "AZ",
            "WY",
            "WV",
            "OK",
            "LA",
            "SD",
            "DC",
            "MA",
            "NH",
            "IN",
            "WA",
            "MN",
            "CT",
            "OH",
            "NJ",
            "TX",
            "HI",
            "CO",
            "IL",
            "OR",
            "ID",
            "MD",
            "MO",
            "ND",
            "TN",
            "GA",
            "AR"
           ],
           "name": "",
           "type": "choropleth",
           "z": [
            3641,
            437,
            35465,
            4439,
            9630,
            2931,
            4625,
            5317,
            329,
            35249,
            3937,
            32667,
            258361,
            4716,
            5500,
            3297,
            818,
            888,
            3204,
            2164,
            7134,
            27869,
            1971,
            1685,
            5256,
            443,
            908,
            2807,
            24854,
            1755,
            3098,
            41199,
            1490,
            12097,
            12392,
            2567,
            20360,
            13725,
            92387,
            20574,
            586,
            10473,
            33059,
            2004,
            1736,
            14193,
            6066,
            644,
            7394,
            19881,
            1990
           ]
          }
         ],
         "name": "04-21-2020"
        },
        {
         "data": [
          {
           "coloraxis": "coloraxis",
           "geo": "geo",
           "hovertemplate": "Date=04-22-2020<br>Code=%{location}<br>Confirmed=%{z}<extra></extra>",
           "locationmode": "USA-states",
           "locations": [
            "WY",
            "CA",
            "MD",
            "MN",
            "OK",
            "PA",
            "HI",
            "LA",
            "FL",
            "GA",
            "WA",
            "VT",
            "MS",
            "OH",
            "NY",
            "AZ",
            "WI",
            "MO",
            "OR",
            "AR",
            "KY",
            "IL",
            "MA",
            "AL",
            "DE",
            "ME",
            "SC",
            "MT",
            "CO",
            "ID",
            "ND",
            "NM",
            "TX",
            "IN",
            "DC",
            "SD",
            "WV",
            "CT",
            "NH",
            "NE",
            "TN",
            "NJ",
            "MI",
            "KS",
            "NV",
            "IA",
            "AK",
            "RI",
            "VA",
            "UT",
            "NC"
           ],
           "name": "",
           "type": "choropleth",
           "z": [
            447,
            37344,
            14775,
            2722,
            2894,
            36082,
            592,
            25258,
            28309,
            21214,
            12596,
            823,
            4894,
            14117,
            263292,
            5473,
            4845,
            6277,
            2059,
            2276,
            3378,
            35107,
            42944,
            5593,
            3200,
            907,
            4761,
            439,
            10891,
            1766,
            679,
            2210,
            21321,
            12438,
            3206,
            1858,
            939,
            22469,
            1588,
            1813,
            7394,
            95914,
            33966,
            2331,
            4081,
            3748,
            335,
            5841,
            10266,
            3445,
            7495
           ]
          }
         ],
         "name": "04-22-2020"
        },
        {
         "data": [
          {
           "coloraxis": "coloraxis",
           "geo": "geo",
           "hovertemplate": "Date=04-23-2020<br>Code=%{location}<br>Confirmed=%{z}<extra></extra>",
           "locationmode": "USA-states",
           "locations": [
            "OH",
            "KS",
            "GA",
            "OK",
            "PA",
            "LA",
            "SD",
            "WA",
            "NH",
            "CT",
            "NV",
            "VA",
            "MN",
            "NE",
            "TN",
            "MT",
            "AR",
            "DC",
            "RI",
            "IN",
            "MS",
            "NY",
            "KY",
            "AZ",
            "DE",
            "VT",
            "OR",
            "HI",
            "UT",
            "NC",
            "SC",
            "CO",
            "MO",
            "FL",
            "ID",
            "IA",
            "TX",
            "NJ",
            "NM",
            "IL",
            "CA",
            "ND",
            "ME",
            "MD",
            "AK",
            "WY",
            "MI",
            "MA",
            "WV",
            "WI",
            "AL"
           ],
           "name": "",
           "type": "choropleth",
           "z": [
            14694,
            2721,
            21883,
            3017,
            38379,
            25739,
            1956,
            12753,
            1670,
            23100,
            4208,
            10998,
            2942,
            2202,
            8266,
            442,
            2599,
            3361,
            6256,
            13039,
            5153,
            263460,
            3479,
            5772,
            3308,
            825,
            2127,
            596,
            3612,
            7820,
            4917,
            11278,
            6506,
            29648,
            1836,
            3924,
            22650,
            100025,
            2379,
            36937,
            39561,
            709,
            937,
            15737,
            337,
            453,
            35296,
            46023,
            981,
            5052,
            5832
           ]
          }
         ],
         "name": "04-23-2020"
        },
        {
         "data": [
          {
           "coloraxis": "coloraxis",
           "geo": "geo",
           "hovertemplate": "Date=04-24-2020<br>Code=%{location}<br>Confirmed=%{z}<extra></extra>",
           "locationmode": "USA-states",
           "locations": [
            "MS",
            "LA",
            "AR",
            "AZ",
            "NY",
            "NV",
            "AK",
            "HI",
            "GA",
            "WA",
            "KS",
            "FL",
            "VA",
            "NH",
            "SC",
            "IL",
            "CA",
            "WY",
            "WI",
            "AL",
            "PA",
            "WV",
            "NE",
            "OH",
            "KY",
            "IA",
            "DC",
            "ND",
            "TX",
            "ME",
            "MT",
            "OR",
            "TN",
            "MN",
            "DE",
            "NM",
            "NC",
            "UT",
            "NJ",
            "RI",
            "CT",
            "IN",
            "OK",
            "SD",
            "MI",
            "MD",
            "VT",
            "MO",
            "CO",
            "MA",
            "ID"
           ],
           "name": "",
           "type": "choropleth",
           "z": [
            5434,
            26140,
            2810,
            6045,
            271590,
            4398,
            339,
            601,
            22491,
            12977,
            2959,
            30533,
            11594,
            1720,
            5070,
            39658,
            41355,
            473,
            5356,
            6026,
            40208,
            1010,
            2424,
            15169,
            3779,
            4445,
            3528,
            748,
            23642,
            965,
            444,
            2177,
            8728,
            3185,
            3442,
            2521,
            8290,
            3782,
            102196,
            6699,
            23936,
            13681,
            3121,
            2040,
            36641,
            16616,
            827,
            6788,
            12256,
            50969,
            1870
           ]
          }
         ],
         "name": "04-24-2020"
        },
        {
         "data": [
          {
           "coloraxis": "coloraxis",
           "geo": "geo",
           "hovertemplate": "Date=04-25-2020<br>Code=%{location}<br>Confirmed=%{z}<extra></extra>",
           "locationmode": "USA-states",
           "locations": [
            "ND",
            "NC",
            "NY",
            "NH",
            "OR",
            "NJ",
            "MO",
            "FL",
            "WI",
            "NE",
            "AL",
            "MT",
            "NM",
            "UT",
            "RI",
            "DE",
            "MI",
            "VT",
            "MA",
            "CO",
            "ID",
            "IA",
            "AK",
            "NV",
            "MS",
            "KY",
            "VA",
            "TN",
            "IL",
            "SC",
            "CA",
            "WY",
            "PA",
            "AZ",
            "WA",
            "ME",
            "DC",
            "GA",
            "AR",
            "CT",
            "OH",
            "SD",
            "MD",
            "IN",
            "LA",
            "WV",
            "KS",
            "OK",
            "HI",
            "TX",
            "MN"
           ],
           "name": "",
           "type": "choropleth",
           "z": [
            803,
            8768,
            282143,
            1797,
            2253,
            105498,
            6935,
            30839,
            5687,
            2719,
            6026,
            445,
            2660,
            3948,
            7129,
            3576,
            37074,
            843,
            53348,
            12968,
            1887,
            5092,
            339,
            4539,
            5718,
            3915,
            12366,
            9189,
            41777,
            5253,
            42368,
            491,
            41153,
            6286,
            13319,
            965,
            3699,
            23222,
            2911,
            24583,
            15587,
            2147,
            17766,
            14399,
            26512,
            1010,
            3135,
            3194,
            605,
            24153,
            3446
           ]
          }
         ],
         "name": "04-25-2020"
        },
        {
         "data": [
          {
           "coloraxis": "coloraxis",
           "geo": "geo",
           "hovertemplate": "Date=04-26-2020<br>Code=%{location}<br>Confirmed=%{z}<extra></extra>",
           "locationmode": "USA-states",
           "locations": [
            "IA",
            "NH",
            "ID",
            "FL",
            "WV",
            "LA",
            "AK",
            "GA",
            "DC",
            "MS",
            "AZ",
            "SC",
            "PA",
            "WY",
            "TN",
            "KS",
            "VA",
            "NV",
            "CA",
            "WI",
            "NE",
            "OH",
            "IL",
            "AR",
            "NY",
            "WA",
            "CO",
            "KY",
            "MA",
            "NC",
            "CT",
            "AL",
            "TX",
            "ME",
            "MT",
            "MN",
            "OR",
            "NM",
            "UT",
            "NJ",
            "MO",
            "MI",
            "SD",
            "RI",
            "IN",
            "MD",
            "ND",
            "VT",
            "DE",
            "OK",
            "HI"
           ],
           "name": "",
           "type": "choropleth",
           "z": [
            5476,
            1864,
            1897,
            31532,
            1055,
            26773,
            340,
            23486,
            3841,
            5911,
            6534,
            5498,
            42616,
            502,
            9667,
            3277,
            12970,
            4734,
            43558,
            5912,
            3028,
            15972,
            43903,
            3001,
            288045,
            13521,
            13441,
            4085,
            54938,
            8997,
            25269,
            6421,
            24967,
            1015,
            448,
            3602,
            2311,
            2726,
            4123,
            109038,
            7120,
            37778,
            2212,
            7439,
            15012,
            18581,
            867,
            851,
            4034,
            3254,
            606
           ]
          }
         ],
         "name": "04-26-2020"
        },
        {
         "data": [
          {
           "coloraxis": "coloraxis",
           "geo": "geo",
           "hovertemplate": "Date=04-27-2020<br>Code=%{location}<br>Confirmed=%{z}<extra></extra>",
           "locationmode": "USA-states",
           "locations": [
            "VT",
            "SC",
            "TN",
            "OK",
            "VA",
            "IN",
            "CO",
            "MD",
            "KY",
            "MN",
            "AR",
            "KS",
            "TX",
            "AK",
            "MT",
            "DE",
            "GA",
            "ME",
            "ID",
            "MI",
            "NV",
            "IA",
            "MS",
            "DC",
            "MA",
            "RI",
            "IL",
            "UT",
            "WI",
            "SD",
            "NM",
            "WA",
            "LA",
            "ND",
            "NJ",
            "NE",
            "MO",
            "NH",
            "WV",
            "CA",
            "HI",
            "NY",
            "OH",
            "AZ",
            "WY",
            "FL",
            "AL",
            "NC",
            "CT",
            "OR",
            "PA"
           ],
           "name": "",
           "type": "choropleth",
           "z": [
            855,
            5613,
            9918,
            3281,
            13538,
            15961,
            13879,
            19487,
            4156,
            3811,
            3069,
            3473,
            25321,
            345,
            449,
            4162,
            24302,
            1023,
            1897,
            38210,
            4700,
            5868,
            6094,
            3892,
            56462,
            7708,
            45883,
            4236,
            6081,
            2244,
            2825,
            13686,
            27068,
            942,
            111188,
            3358,
            7305,
            1938,
            1063,
            44966,
            607,
            291996,
            16325,
            6725,
            520,
            32138,
            6539,
            9428,
            25997,
            2354,
            43558
           ]
          }
         ],
         "name": "04-27-2020"
        },
        {
         "data": [
          {
           "coloraxis": "coloraxis",
           "geo": "geo",
           "hovertemplate": "Date=04-28-2020<br>Code=%{location}<br>Confirmed=%{z}<extra></extra>",
           "locationmode": "USA-states",
           "locations": [
            "CO",
            "VT",
            "ME",
            "MD",
            "FL",
            "MA",
            "NH",
            "IA",
            "WV",
            "NY",
            "DE",
            "KS",
            "SC",
            "NJ",
            "WA",
            "CT",
            "TX",
            "NC",
            "MN",
            "OR",
            "ND",
            "NM",
            "UT",
            "SD",
            "RI",
            "HI",
            "MI",
            "AK",
            "MT",
            "MO",
            "OK",
            "DC",
            "CA",
            "VA",
            "NE",
            "AZ",
            "AR",
            "MS",
            "KY",
            "IL",
            "LA",
            "ID",
            "WY",
            "OH",
            "WI",
            "AL",
            "PA",
            "GA",
            "IN",
            "TN",
            "NV"
           ],
           "name": "",
           "type": "choropleth",
           "z": [
            14316,
            862,
            1040,
            20113,
            32848,
            58302,
            2010,
            6376,
            1095,
            295106,
            4575,
            3652,
            5735,
            113856,
            13842,
            26312,
            26357,
            9755,
            4181,
            2385,
            991,
            2974,
            4345,
            2313,
            7927,
            609,
            39262,
            351,
            451,
            7450,
            3410,
            3994,
            46164,
            14339,
            3517,
            6955,
            3127,
            6342,
            4375,
            48102,
            27286,
            1952,
            536,
            16769,
            6289,
            6750,
            45137,
            24922,
            16588,
            10052,
            4821
           ]
          }
         ],
         "name": "04-28-2020"
        },
        {
         "data": [
          {
           "coloraxis": "coloraxis",
           "geo": "geo",
           "hovertemplate": "Date=04-29-2020<br>Code=%{location}<br>Confirmed=%{z}<extra></extra>",
           "locationmode": "USA-states",
           "locations": [
            "WA",
            "PA",
            "MI",
            "TX",
            "HI",
            "VA",
            "RI",
            "IL",
            "AR",
            "CT",
            "NE",
            "IN",
            "UT",
            "MT",
            "KY",
            "SD",
            "NM",
            "WY",
            "KS",
            "NC",
            "OH",
            "MN",
            "OR",
            "WI",
            "CA",
            "MO",
            "ID",
            "NY",
            "CO",
            "OK",
            "NV",
            "DE",
            "WV",
            "AL",
            "SC",
            "FL",
            "LA",
            "AK",
            "DC",
            "IA",
            "MA",
            "TN",
            "MD",
            "ND",
            "AZ",
            "GA",
            "NJ",
            "NH",
            "ME",
            "MS",
            "VT"
           ],
           "name": "",
           "type": "choropleth",
           "z": [
            14070,
            46327,
            40399,
            27257,
            613,
            14962,
            8247,
            50358,
            3193,
            26767,
            3851,
            17182,
            4497,
            451,
            4537,
            2373,
            3213,
            545,
            3839,
            10180,
            17303,
            4644,
            2446,
            6520,
            48747,
            7660,
            1952,
            299691,
            14758,
            3473,
            4934,
            4655,
            1110,
            6912,
            5882,
            33193,
            27660,
            355,
            4106,
            6843,
            60265,
            10366,
            20849,
            1033,
            7209,
            25775,
            116365,
            2058,
            1056,
            6569,
            862
           ]
          }
         ],
         "name": "04-29-2020"
        },
        {
         "data": [
          {
           "coloraxis": "coloraxis",
           "geo": "geo",
           "hovertemplate": "Date=04-30-2020<br>Code=%{location}<br>Confirmed=%{z}<extra></extra>",
           "locationmode": "USA-states",
           "locations": [
            "KS",
            "DC",
            "IL",
            "MI",
            "MT",
            "NH",
            "NJ",
            "SC",
            "NC",
            "ID",
            "CA",
            "ME",
            "NV",
            "MD",
            "MS",
            "OH",
            "WI",
            "SD",
            "KY",
            "FL",
            "AL",
            "ND",
            "TN",
            "OR",
            "AZ",
            "WA",
            "NE",
            "HI",
            "PA",
            "WY",
            "LA",
            "CO",
            "CT",
            "IA",
            "MN",
            "NM",
            "MA",
            "TX",
            "UT",
            "MO",
            "GA",
            "OK",
            "AK",
            "RI",
            "NY",
            "VT",
            "WV",
            "DE",
            "IN",
            "AR",
            "VA"
           ],
           "name": "",
           "type": "choropleth",
           "z": [
            4413,
            4323,
            52918,
            41379,
            453,
            2146,
            118652,
            6095,
            10754,
            1984,
            50130,
            1095,
            5053,
            21742,
            6815,
            18027,
            6854,
            2449,
            4708,
            33690,
            7088,
            1067,
            10735,
            2510,
            7655,
            14327,
            4281,
            618,
            47971,
            559,
            28001,
            15284,
            27700,
            7145,
            5136,
            3411,
            62205,
            28727,
            4672,
            7818,
            26264,
            3618,
            355,
            8621,
            304372,
            866,
            1125,
            4734,
            17835,
            3281,
            15847
           ]
          }
         ],
         "name": "04-30-2020"
        },
        {
         "data": [
          {
           "coloraxis": "coloraxis",
           "geo": "geo",
           "hovertemplate": "Date=05-01-2020<br>Code=%{location}<br>Confirmed=%{z}<extra></extra>",
           "locationmode": "USA-states",
           "locations": [
            "ND",
            "CT",
            "MO",
            "NC",
            "VA",
            "LA",
            "DC",
            "WA",
            "MI",
            "KS",
            "OR",
            "OH",
            "MD",
            "AR",
            "IN",
            "OK",
            "TX",
            "MN",
            "GA",
            "HI",
            "NJ",
            "SC",
            "SD",
            "ME",
            "DE",
            "IA",
            "CO",
            "MS",
            "ID",
            "WI",
            "KY",
            "AK",
            "RI",
            "NV",
            "TN",
            "IL",
            "MT",
            "NE",
            "PA",
            "WY",
            "UT",
            "AZ",
            "NM",
            "CA",
            "AL",
            "FL",
            "WV",
            "NY",
            "MA",
            "NH",
            "VT"
           ],
           "name": "",
           "type": "choropleth",
           "z": [
            1107,
            28764,
            8067,
            11070,
            16902,
            28711,
            4658,
            14637,
            42356,
            4634,
            2579,
            18743,
            23472,
            3337,
            18630,
            3748,
            29692,
            5730,
            27489,
            619,
            121190,
            6258,
            2525,
            1123,
            4918,
            7884,
            15793,
            7212,
            2015,
            7314,
            4882,
            364,
            8962,
            5248,
            11891,
            56055,
            453,
            5008,
            49579,
            566,
            4828,
            7969,
            3513,
            52026,
            7294,
            34728,
            1152,
            308314,
            64311,
            2310,
            879
           ]
          }
         ],
         "name": "05-01-2020"
        },
        {
         "data": [
          {
           "coloraxis": "coloraxis",
           "geo": "geo",
           "hovertemplate": "Date=05-02-2020<br>Code=%{location}<br>Confirmed=%{z}<extra></extra>",
           "locationmode": "USA-states",
           "locations": [
            "UT",
            "IL",
            "TX",
            "NH",
            "NC",
            "MI",
            "TN",
            "NE",
            "WV",
            "CT",
            "ND",
            "MA",
            "IN",
            "CO",
            "RI",
            "AZ",
            "MO",
            "AK",
            "KY",
            "MS",
            "CA",
            "OH",
            "MD",
            "ID",
            "AL",
            "SD",
            "IA",
            "VA",
            "LA",
            "DE",
            "VT",
            "WA",
            "NM",
            "WI",
            "HI",
            "AR",
            "MT",
            "NV",
            "SC",
            "OR",
            "KS",
            "OK",
            "DC",
            "NJ",
            "ME",
            "FL",
            "PA",
            "NY",
            "WY",
            "MN",
            "GA"
           ],
           "name": "",
           "type": "choropleth",
           "z": [
            4985,
            58505,
            30917,
            2429,
            11588,
            43207,
            12661,
            5317,
            1185,
            29287,
            1153,
            66263,
            19295,
            16225,
            9289,
            8364,
            8356,
            365,
            4879,
            7441,
            53347,
            19335,
            24473,
            2061,
            7611,
            2588,
            8643,
            17738,
            29140,
            5038,
            886,
            15003,
            3732,
            7660,
            620,
            3372,
            455,
            5389,
            6489,
            2635,
            4885,
            3851,
            4797,
            123717,
            1153,
            35463,
            50494,
            312977,
            579,
            6232,
            28331
           ]
          }
         ],
         "name": "05-02-2020"
        },
        {
         "data": [
          {
           "coloraxis": "coloraxis",
           "geo": "geo",
           "hovertemplate": "Date=05-03-2020<br>Code=%{location}<br>Confirmed=%{z}<extra></extra>",
           "locationmode": "USA-states",
           "locations": [
            "MO",
            "VT",
            "FL",
            "WI",
            "CT",
            "AZ",
            "WY",
            "DE",
            "IA",
            "ND",
            "AL",
            "NV",
            "NE",
            "MS",
            "NY",
            "OR",
            "TN",
            "CO",
            "KY",
            "PA",
            "AK",
            "SD",
            "HI",
            "ME",
            "NC",
            "TX",
            "DC",
            "NH",
            "NJ",
            "GA",
            "OK",
            "AR",
            "KS",
            "SC",
            "OH",
            "CA",
            "ID",
            "MD",
            "MT",
            "IL",
            "IN",
            "RI",
            "WV",
            "NM",
            "UT",
            "MN",
            "WA",
            "VA",
            "LA",
            "MI",
            "MA"
           ],
           "name": "",
           "type": "choropleth",
           "z": [
            8618,
            897,
            36078,
            7964,
            29287,
            8640,
            586,
            5208,
            9175,
            1191,
            7888,
            5472,
            5661,
            7550,
            316415,
            2680,
            13177,
            16635,
            5130,
            51225,
            368,
            2631,
            620,
            1185,
            11770,
            31998,
            5016,
            2518,
            126744,
            28665,
            3972,
            3437,
            5156,
            6626,
            19914,
            54903,
            2061,
            25462,
            455,
            61499,
            19933,
            9477,
            1195,
            3850,
            5175,
            6663,
            15185,
            18672,
            29340,
            43801,
            68087
           ]
          }
         ],
         "name": "05-03-2020"
        },
        {
         "data": [
          {
           "coloraxis": "coloraxis",
           "geo": "geo",
           "hovertemplate": "Date=05-04-2020<br>Code=%{location}<br>Confirmed=%{z}<extra></extra>",
           "locationmode": "USA-states",
           "locations": [
            "LA",
            "FL",
            "MA",
            "GA",
            "MN",
            "AR",
            "OR",
            "MO",
            "TX",
            "OH",
            "MD",
            "AL",
            "ND",
            "WA",
            "CT",
            "HI",
            "NY",
            "OK",
            "KY",
            "VA",
            "RI",
            "NM",
            "AZ",
            "UT",
            "WV",
            "IL",
            "MT",
            "ID",
            "AK",
            "CA",
            "NJ",
            "NH",
            "NC",
            "ME",
            "DC",
            "KS",
            "MI",
            "SD",
            "SC",
            "WI",
            "IN",
            "DE",
            "VT",
            "TN",
            "NV",
            "CO",
            "MS",
            "IA",
            "NE",
            "WY",
            "PA"
           ],
           "name": "",
           "type": "choropleth",
           "z": [
            29673,
            36897,
            69087,
            29451,
            7234,
            3491,
            2759,
            8946,
            32783,
            20474,
            26408,
            8112,
            1225,
            15462,
            29973,
            621,
            318953,
            4044,
            5245,
            19493,
            9652,
            4031,
            8924,
            5317,
            1224,
            63777,
            457,
            2106,
            370,
            55884,
            128269,
            2588,
            11971,
            1205,
            5170,
            5383,
            43990,
            2668,
            6757,
            8236,
            20507,
            5288,
            902,
            13571,
            5630,
            16918,
            7877,
            9703,
            6037,
            596,
            52816
           ]
          }
         ],
         "name": "05-04-2020"
        },
        {
         "data": [
          {
           "coloraxis": "coloraxis",
           "geo": "geo",
           "hovertemplate": "Date=05-05-2020<br>Code=%{location}<br>Confirmed=%{z}<extra></extra>",
           "locationmode": "USA-states",
           "locations": [
            "FL",
            "GA",
            "CT",
            "DC",
            "ME",
            "NH",
            "NE",
            "NY",
            "OR",
            "SD",
            "NJ",
            "TN",
            "OK",
            "OH",
            "ID",
            "PA",
            "NV",
            "IL",
            "WV",
            "MD",
            "IA",
            "NM",
            "RI",
            "HI",
            "DE",
            "AK",
            "SC",
            "WY",
            "LA",
            "UT",
            "AR",
            "ND",
            "AL",
            "IN",
            "NC",
            "MO",
            "WA",
            "MS",
            "KY",
            "CO",
            "KS",
            "VA",
            "MI",
            "MA",
            "MT",
            "WI",
            "MN",
            "AZ",
            "VT",
            "TX",
            "CA"
           ],
           "name": "",
           "type": "choropleth",
           "z": [
            37439,
            29998,
            30621,
            5322,
            1226,
            2636,
            6373,
            321192,
            2839,
            2721,
            130593,
            13690,
            4127,
            20969,
            2127,
            53864,
            5660,
            65889,
            1246,
            27117,
            10111,
            4138,
            9933,
            625,
            5371,
            371,
            6841,
            604,
            29996,
            5449,
            3525,
            1266,
            8437,
            21033,
            12510,
            9121,
            15594,
            8207,
            5822,
            17367,
            5648,
            20257,
            44451,
            70271,
            456,
            8566,
            7851,
            9305,
            907,
            33912,
            58456
           ]
          }
         ],
         "name": "05-05-2020"
        },
        {
         "data": [
          {
           "coloraxis": "coloraxis",
           "geo": "geo",
           "hovertemplate": "Date=05-06-2020<br>Code=%{location}<br>Confirmed=%{z}<extra></extra>",
           "locationmode": "USA-states",
           "locations": [
            "AL",
            "CA",
            "MO",
            "ND",
            "IN",
            "PA",
            "AZ",
            "CO",
            "WY",
            "LA",
            "NV",
            "OR",
            "MS",
            "ME",
            "NJ",
            "KY",
            "NE",
            "TN",
            "SC",
            "VA",
            "FL",
            "NC",
            "IL",
            "NY",
            "MT",
            "WI",
            "SD",
            "GA",
            "MI",
            "MA",
            "TX",
            "VT",
            "MN",
            "AK",
            "DE",
            "OK",
            "KS",
            "RI",
            "NH",
            "OH",
            "DC",
            "AR",
            "UT",
            "WA",
            "WV",
            "MD",
            "HI",
            "ID",
            "CT",
            "IA",
            "NM"
           ],
           "name": "",
           "type": "choropleth",
           "z": [
            8691,
            60616,
            9323,
            1323,
            21870,
            54800,
            9707,
            17832,
            631,
            30399,
            5741,
            2916,
            8424,
            1254,
            131890,
            5934,
            6689,
            13938,
            6936,
            20257,
            38002,
            13053,
            68232,
            323978,
            456,
            8901,
            2780,
            30743,
            45179,
            72025,
            34928,
            908,
            8579,
            372,
            5778,
            4202,
            5993,
            10205,
            2741,
            21576,
            5461,
            3611,
            5595,
            15905,
            1242,
            28163,
            626,
            2158,
            30995,
            10404,
            4291
           ]
          }
         ],
         "name": "05-06-2020"
        },
        {
         "data": [
          {
           "coloraxis": "coloraxis",
           "geo": "geo",
           "hovertemplate": "Date=05-07-2020<br>Code=%{location}<br>Confirmed=%{z}<extra></extra>",
           "locationmode": "USA-states",
           "locations": [
            "AK",
            "WI",
            "UT",
            "WV",
            "NV",
            "CO",
            "TN",
            "CT",
            "KY",
            "DE",
            "VA",
            "RI",
            "MA",
            "NM",
            "IA",
            "VT",
            "MT",
            "MS",
            "PA",
            "NH",
            "HI",
            "ID",
            "MD",
            "WA",
            "DC",
            "OH",
            "KS",
            "OK",
            "MN",
            "MI",
            "TX",
            "GA",
            "SD",
            "LA",
            "AR",
            "ND",
            "ME",
            "IN",
            "AZ",
            "WY",
            "CA",
            "FL",
            "SC",
            "AL",
            "NY",
            "NJ",
            "NE",
            "IL",
            "MO",
            "NC",
            "OR"
           ],
           "name": "",
           "type": "choropleth",
           "z": [
            374,
            9215,
            5724,
            1287,
            5855,
            18370,
            14096,
            31784,
            6129,
            5939,
            21570,
            10530,
            73721,
            4493,
            11059,
            916,
            456,
            8686,
            55956,
            2843,
            629,
            2178,
            29374,
            16231,
            5654,
            22131,
            6332,
            4330,
            9365,
            45745,
            36036,
            31618,
            2906,
            30652,
            3703,
            1371,
            1330,
            22503,
            9945,
            635,
            62148,
            38828,
            7142,
            9046,
            327469,
            133991,
            7334,
            70871,
            9581,
            13540,
            2989
           ]
          }
         ],
         "name": "05-07-2020"
        },
        {
         "data": [
          {
           "coloraxis": "coloraxis",
           "geo": "geo",
           "hovertemplate": "Date=05-08-2020<br>Code=%{location}<br>Confirmed=%{z}<extra></extra>",
           "locationmode": "USA-states",
           "locations": [
            "NH",
            "ME",
            "CA",
            "UT",
            "AK",
            "NC",
            "MT",
            "SC",
            "KS",
            "RI",
            "VA",
            "NJ",
            "DC",
            "NM",
            "ID",
            "MI",
            "MA",
            "PA",
            "HI",
            "AZ",
            "WY",
            "OH",
            "FL",
            "NE",
            "WA",
            "IL",
            "NY",
            "MD",
            "OR",
            "MO",
            "IN",
            "ND",
            "AR",
            "OK",
            "NV",
            "AL",
            "LA",
            "MN",
            "IA",
            "TN",
            "SD",
            "WI",
            "VT",
            "CO",
            "WV",
            "GA",
            "TX",
            "MS",
            "DE",
            "CT",
            "KY"
           ],
           "name": "",
           "type": "choropleth",
           "z": [
            2947,
            1374,
            63779,
            5919,
            377,
            14006,
            458,
            7367,
            6667,
            10779,
            22342,
            135840,
            5899,
            4673,
            2178,
            46386,
            75333,
            57371,
            629,
            10526,
            644,
            23016,
            39199,
            7818,
            16388,
            73760,
            330407,
            30485,
            3068,
            9733,
            23146,
            1425,
            3747,
            4424,
            5920,
            9385,
            30855,
            10088,
            11457,
            14441,
            3145,
            9590,
            919,
            18827,
            1323,
            32181,
            37246,
            9090,
            6111,
            32411,
            6288
           ]
          }
         ],
         "name": "05-08-2020"
        },
        {
         "data": [
          {
           "coloraxis": "coloraxis",
           "geo": "geo",
           "hovertemplate": "Date=05-09-2020<br>Code=%{location}<br>Confirmed=%{z}<extra></extra>",
           "locationmode": "USA-states",
           "locations": [
            "MI",
            "AL",
            "MD",
            "GA",
            "LA",
            "ME",
            "DC",
            "WA",
            "KS",
            "OH",
            "OK",
            "MN",
            "ID",
            "WI",
            "AR",
            "MO",
            "VT",
            "DE",
            "IA",
            "RI",
            "MS",
            "VA",
            "AK",
            "KY",
            "NV",
            "PA",
            "MT",
            "AZ",
            "WY",
            "CA",
            "FL",
            "SC",
            "NJ",
            "NY",
            "OR",
            "HI",
            "SD",
            "NM",
            "CT",
            "CO",
            "NE",
            "NC",
            "NH",
            "TN",
            "TX",
            "IL",
            "ND",
            "WV",
            "MA",
            "UT",
            "IN"
           ],
           "name": "",
           "type": "choropleth",
           "z": [
            46815,
            9668,
            31534,
            32588,
            31417,
            1408,
            6102,
            16674,
            6829,
            23697,
            4490,
            10790,
            2205,
            9939,
            3747,
            9911,
            921,
            6277,
            11671,
            10989,
            9378,
            23196,
            378,
            6440,
            6171,
            58560,
            458,
            10960,
            653,
            66558,
            40001,
            7531,
            137397,
            333122,
            3160,
            631,
            3393,
            4778,
            32984,
            19375,
            8093,
            14478,
            3011,
            14768,
            38394,
            76085,
            1464,
            1323,
            76743,
            6103,
            23732
           ]
          }
         ],
         "name": "05-09-2020"
        },
        {
         "data": [
          {
           "coloraxis": "coloraxis",
           "geo": "geo",
           "hovertemplate": "Date=05-10-2020<br>Code=%{location}<br>Confirmed=%{z}<extra></extra>",
           "locationmode": "USA-states",
           "locations": [
            "NH",
            "SD",
            "TN",
            "PA",
            "KY",
            "SC",
            "WY",
            "AR",
            "NE",
            "NV",
            "ID",
            "CT",
            "DC",
            "CA",
            "MT",
            "AK",
            "WV",
            "VA",
            "NM",
            "RI",
            "NJ",
            "UT",
            "NC",
            "WI",
            "IL",
            "VT",
            "DE",
            "IA",
            "MS",
            "FL",
            "AZ",
            "TX",
            "ME",
            "MN",
            "ND",
            "OH",
            "MI",
            "IN",
            "MD",
            "LA",
            "HI",
            "OR",
            "MA",
            "CO",
            "NY",
            "GA",
            "MO",
            "KS",
            "OK",
            "WA",
            "AL"
           ],
           "name": "",
           "type": "choropleth",
           "z": [
            3071,
            3517,
            14985,
            59939,
            6440,
            7653,
            662,
            4012,
            8171,
            6120,
            2230,
            33554,
            6272,
            67600,
            458,
            379,
            1360,
            24081,
            4863,
            11274,
            138754,
            6251,
            14938,
            10219,
            77741,
            927,
            6277,
            11959,
            9501,
            40596,
            11119,
            39258,
            1436,
            11271,
            1491,
            24081,
            47182,
            24126,
            32587,
            31600,
            632,
            3228,
            77793,
            19703,
            335395,
            33580,
            10068,
            6951,
            4589,
            16891,
            9889
           ]
          }
         ],
         "name": "05-10-2020"
        },
        {
         "data": [
          {
           "coloraxis": "coloraxis",
           "geo": "geo",
           "hovertemplate": "Date=05-11-2020<br>Code=%{location}<br>Confirmed=%{z}<extra></extra>",
           "locationmode": "USA-states",
           "locations": [
            "WI",
            "MN",
            "MA",
            "UT",
            "WY",
            "RI",
            "NM",
            "VA",
            "LA",
            "WV",
            "CO",
            "AK",
            "MT",
            "CA",
            "TX",
            "OK",
            "IA",
            "IL",
            "MO",
            "NE",
            "AR",
            "NY",
            "OR",
            "AZ",
            "KY",
            "IN",
            "PA",
            "NV",
            "TN",
            "ND",
            "HI",
            "AL",
            "MD",
            "MS",
            "CT",
            "FL",
            "DE",
            "WA",
            "VT",
            "OH",
            "SC",
            "SD",
            "GA",
            "ID",
            "KS",
            "DC",
            "NC",
            "NJ",
            "MI",
            "ME",
            "NH"
           ],
           "name": "",
           "type": "choropleth",
           "z": [
            10418,
            11799,
            78462,
            6362,
            669,
            11450,
            5069,
            25070,
            31815,
            1366,
            19879,
            379,
            459,
            69329,
            40555,
            4613,
            12373,
            79007,
            10157,
            8407,
            4043,
            337055,
            3286,
            11383,
            6677,
            24627,
            60459,
            6152,
            15544,
            1518,
            634,
            10164,
            33373,
            9674,
            33765,
            40982,
            6565,
            17122,
            926,
            24777,
            7792,
            3614,
            34002,
            2260,
            7159,
            6389,
            15274,
            140206,
            47552,
            1462,
            3160
           ]
          }
         ],
         "name": "05-11-2020"
        },
        {
         "data": [
          {
           "coloraxis": "coloraxis",
           "geo": "geo",
           "hovertemplate": "Date=05-12-2020<br>Code=%{location}<br>Confirmed=%{z}<extra></extra>",
           "locationmode": "USA-states",
           "locations": [
            "NY",
            "OR",
            "IA",
            "VA",
            "IN",
            "MI",
            "GA",
            "ND",
            "WV",
            "SC",
            "AK",
            "CT",
            "ME",
            "AL",
            "KY",
            "MD",
            "AZ",
            "PA",
            "NM",
            "NH",
            "CA",
            "SD",
            "WI",
            "NC",
            "FL",
            "HI",
            "WY",
            "DC",
            "VT",
            "NE",
            "AR",
            "UT",
            "NJ",
            "RI",
            "MO",
            "DE",
            "WA",
            "IL",
            "KS",
            "NV",
            "ID",
            "TN",
            "CO",
            "OK",
            "LA",
            "OH",
            "TX",
            "MT",
            "MN",
            "MS",
            "MA"
           ],
           "name": "",
           "type": "choropleth",
           "z": [
            338485,
            3358,
            12912,
            25800,
            25127,
            48021,
            34924,
            1571,
            1378,
            7927,
            383,
            34333,
            1477,
            10464,
            6853,
            34061,
            11736,
            61310,
            5212,
            3239,
            70978,
            3663,
            10611,
            15622,
            41923,
            635,
            675,
            6485,
            927,
            8532,
            4164,
            6432,
            140917,
            11614,
            10269,
            6741,
            17330,
            83021,
            7240,
            6313,
            2293,
            16111,
            20157,
            4732,
            32050,
            25250,
            41432,
            461,
            12494,
            9908,
            79332
           ]
          }
         ],
         "name": "05-12-2020"
        },
        {
         "data": [
          {
           "coloraxis": "coloraxis",
           "geo": "geo",
           "hovertemplate": "Date=05-13-2020<br>Code=%{location}<br>Confirmed=%{z}<extra></extra>",
           "locationmode": "USA-states",
           "locations": [
            "SD",
            "MO",
            "LA",
            "PA",
            "AR",
            "FL",
            "TX",
            "NM",
            "KS",
            "DE",
            "NY",
            "RI",
            "MI",
            "UT",
            "GA",
            "NC",
            "MN",
            "DC",
            "WY",
            "HI",
            "TN",
            "WI",
            "CO",
            "NH",
            "CA",
            "NJ",
            "WA",
            "NE",
            "AZ",
            "ID",
            "MD",
            "VT",
            "AL",
            "KY",
            "AK",
            "MA",
            "ME",
            "OH",
            "ND",
            "NV",
            "IL",
            "MT",
            "CT",
            "SC",
            "OR",
            "OK",
            "VA",
            "IA",
            "WV",
            "IN",
            "MS"
           ],
           "name": "",
           "type": "choropleth",
           "z": [
            3732,
            10404,
            32662,
            62101,
            4236,
            42402,
            43020,
            5364,
            7518,
            6952,
            340661,
            11835,
            48391,
            6620,
            35427,
            16352,
            12917,
            6584,
            688,
            638,
            16370,
            10902,
            20475,
            3299,
            72798,
            141560,
            17512,
            8912,
            12216,
            2293,
            34812,
            929,
            10700,
            6853,
            383,
            80497,
            1515,
            25721,
            1647,
            6476,
            84694,
            462,
            34855,
            8030,
            3416,
            4858,
            26746,
            13289,
            1398,
            25473,
            10090
           ]
          }
         ],
         "name": "05-13-2020"
        },
        {
         "data": [
          {
           "coloraxis": "coloraxis",
           "geo": "geo",
           "hovertemplate": "Date=05-14-2020<br>Code=%{location}<br>Confirmed=%{z}<extra></extra>",
           "locationmode": "USA-states",
           "locations": [
            "IL",
            "PA",
            "IA",
            "DE",
            "MS",
            "ID",
            "NV",
            "VT",
            "NE",
            "TN",
            "GA",
            "AR",
            "KS",
            "KY",
            "AZ",
            "DC",
            "CT",
            "NH",
            "SD",
            "CA",
            "VA",
            "ND",
            "WV",
            "AK",
            "MD",
            "ME",
            "WA",
            "IN",
            "MA",
            "MT",
            "OK",
            "LA",
            "MI",
            "MN",
            "CO",
            "NC",
            "OH",
            "OR",
            "AL",
            "RI",
            "SC",
            "TX",
            "NY",
            "WY",
            "NM",
            "WI",
            "MO",
            "FL",
            "UT",
            "HI",
            "NJ"
           ],
           "name": "",
           "type": "choropleth",
           "z": [
            87937,
            63105,
            13675,
            7223,
            10483,
            2351,
            6504,
            932,
            9260,
            16699,
            35977,
            4366,
            7705,
            7225,
            12674,
            6736,
            35464,
            3382,
            3792,
            74871,
            27813,
            1712,
            1427,
            383,
            35903,
            1565,
            17773,
            26053,
            82182,
            462,
            4963,
            33489,
            49582,
            13435,
            20838,
            16968,
            26357,
            3479,
            11101,
            12016,
            8189,
            44480,
            343051,
            701,
            5503,
            11275,
            10594,
            43210,
            6749,
            637,
            142704
           ]
          }
         ],
         "name": "05-14-2020"
        },
        {
         "data": [
          {
           "coloraxis": "coloraxis",
           "geo": "geo",
           "hovertemplate": "Date=05-15-2020<br>Code=%{location}<br>Confirmed=%{z}<extra></extra>",
           "locationmode": "USA-states",
           "locations": [
            "CO",
            "NH",
            "GA",
            "MO",
            "SD",
            "WY",
            "OK",
            "UT",
            "LA",
            "TX",
            "OH",
            "MN",
            "FL",
            "MA",
            "OR",
            "IN",
            "AR",
            "KY",
            "ND",
            "NY",
            "HI",
            "AL",
            "MD",
            "ID",
            "TN",
            "ME",
            "WA",
            "NE",
            "DE",
            "NV",
            "PA",
            "AZ",
            "VA",
            "KS",
            "VT",
            "IA",
            "WV",
            "AK",
            "DC",
            "MT",
            "NJ",
            "IL",
            "NM",
            "MI",
            "CT",
            "MS",
            "CA",
            "WI",
            "SC",
            "NC",
            "RI"
           ],
           "name": "",
           "type": "choropleth",
           "z": [
            21232,
            3453,
            36772,
            10766,
            3887,
            716,
            5087,
            6913,
            33837,
            45721,
            26954,
            14240,
            44138,
            83421,
            3541,
            26656,
            4463,
            7444,
            1761,
            345813,
            638,
            11373,
            36986,
            2351,
            16960,
            1603,
            17951,
            9610,
            7373,
            6733,
            64136,
            13169,
            28672,
            7886,
            933,
            14049,
            1447,
            388,
            6871,
            466,
            143984,
            90369,
            5662,
            50079,
            36085,
            10801,
            76693,
            11685,
            8407,
            17494,
            12219
           ]
          }
         ],
         "name": "05-15-2020"
        },
        {
         "data": [
          {
           "coloraxis": "coloraxis",
           "geo": "geo",
           "hovertemplate": "Date=05-16-2020<br>Code=%{location}<br>Confirmed=%{z}<extra></extra>",
           "locationmode": "USA-states",
           "locations": [
            "ND",
            "AK",
            "AL",
            "IA",
            "NY",
            "NE",
            "WY",
            "MO",
            "MD",
            "NH",
            "RI",
            "NC",
            "NM",
            "NJ",
            "TX",
            "AR",
            "VA",
            "WI",
            "IN",
            "MA",
            "OR",
            "CA",
            "FL",
            "IL",
            "HI",
            "SD",
            "ME",
            "AZ",
            "LA",
            "OK",
            "MI",
            "KY",
            "DE",
            "PA",
            "MN",
            "OH",
            "CO",
            "DC",
            "MT",
            "CT",
            "UT",
            "NV",
            "MS",
            "TN",
            "WA",
            "SC",
            "VT",
            "KS",
            "WV",
            "GA",
            "ID"
           ],
           "name": "",
           "type": "choropleth",
           "z": [
            1848,
            388,
            11674,
            14328,
            348232,
            10220,
            741,
            10959,
            37968,
            3556,
            12434,
            18130,
            5847,
            145089,
            47452,
            4578,
            29683,
            12187,
            27280,
            84933,
            3612,
            78725,
            44811,
            92457,
            639,
            3959,
            1648,
            13666,
            34117,
            5237,
            50538,
            7688,
            7547,
            65185,
            14969,
            27474,
            21633,
            7042,
            468,
            36703,
            7068,
            6813,
            11123,
            17263,
            18288,
            8661,
            934,
            7939,
            1470,
            37212,
            2419
           ]
          }
         ],
         "name": "05-16-2020"
        },
        {
         "data": [
          {
           "coloraxis": "coloraxis",
           "geo": "geo",
           "hovertemplate": "Date=05-17-2020<br>Code=%{location}<br>Confirmed=%{z}<extra></extra>",
           "locationmode": "USA-states",
           "locations": [
            "MT",
            "SC",
            "MI",
            "NH",
            "NY",
            "WV",
            "UT",
            "GA",
            "NM",
            "MN",
            "FL",
            "CO",
            "VA",
            "ME",
            "MA",
            "MD",
            "AL",
            "AK",
            "WA",
            "ND",
            "RI",
            "OR",
            "CT",
            "WY",
            "SD",
            "NC",
            "NJ",
            "OH",
            "LA",
            "OK",
            "IN",
            "DC",
            "MO",
            "TX",
            "HI",
            "VT",
            "KS",
            "IL",
            "TN",
            "NV",
            "PA",
            "CA",
            "AZ",
            "AR",
            "MS",
            "WI",
            "NE",
            "KY",
            "ID",
            "DE",
            "IA"
           ],
           "name": "",
           "type": "choropleth",
           "z": [
            468,
            8816,
            51142,
            3596,
            350121,
            1492,
            7238,
            37579,
            5938,
            15668,
            45588,
            21938,
            30388,
            1687,
            86010,
            38804,
            11771,
            388,
            18433,
            1900,
            12674,
            3623,
            37419,
            754,
            3987,
            18673,
            146504,
            27923,
            34432,
            5310,
            27778,
            7123,
            11108,
            48396,
            640,
            940,
            7953,
            94191,
            17359,
            6949,
            65700,
            80166,
            13945,
            4759,
            11296,
            12543,
            10177,
            7688,
            2419,
            7670,
            14651
           ]
          }
         ],
         "name": "05-17-2020"
        },
        {
         "data": [
          {
           "coloraxis": "coloraxis",
           "geo": "geo",
           "hovertemplate": "Date=05-18-2020<br>Code=%{location}<br>Confirmed=%{z}<extra></extra>",
           "locationmode": "USA-states",
           "locations": [
            "PA",
            "TN",
            "OK",
            "MA",
            "MT",
            "LA",
            "AR",
            "WA",
            "NJ",
            "OH",
            "SD",
            "AL",
            "KS",
            "IA",
            "CT",
            "RI",
            "NE",
            "ND",
            "ME",
            "ID",
            "WY",
            "CA",
            "DE",
            "VA",
            "MO",
            "SC",
            "TX",
            "AZ",
            "GA",
            "WI",
            "NH",
            "FL",
            "IN",
            "DC",
            "MS",
            "MD",
            "NV",
            "NM",
            "UT",
            "NY",
            "CO",
            "KY",
            "WV",
            "AK",
            "IL",
            "MN",
            "OR",
            "VT",
            "MI",
            "NC",
            "HI"
           ],
           "name": "",
           "type": "choropleth",
           "z": [
            66669,
            18011,
            5398,
            87052,
            470,
            34709,
            4813,
            18611,
            148240,
            28454,
            4027,
            12086,
            8303,
            14955,
            38116,
            12795,
            10625,
            1931,
            1713,
            2455,
            766,
            81457,
            7869,
            31140,
            11242,
            8942,
            49177,
            14208,
            38283,
            12687,
            3652,
            46442,
            28255,
            7270,
            11432,
            39762,
            7061,
            6096,
            7384,
            351371,
            22202,
            7935,
            1502,
            388,
            96485,
            16372,
            3687,
            940,
            51915,
            19207,
            640
           ]
          }
         ],
         "name": "05-18-2020"
        },
        {
         "data": [
          {
           "coloraxis": "coloraxis",
           "geo": "geo",
           "hovertemplate": "Date=05-19-2020<br>Code=%{location}<br>Confirmed=%{z}<extra></extra>",
           "locationmode": "USA-states",
           "locations": [
            "CO",
            "KY",
            "WA",
            "MO",
            "VT",
            "TX",
            "GA",
            "DC",
            "UT",
            "WV",
            "NV",
            "MS",
            "MN",
            "CA",
            "MT",
            "DE",
            "ND",
            "OK",
            "PA",
            "LA",
            "OH",
            "AZ",
            "CT",
            "ME",
            "MI",
            "MA",
            "SC",
            "KS",
            "NJ",
            "IA",
            "NE",
            "RI",
            "OR",
            "NY",
            "HI",
            "TN",
            "AL",
            "WY",
            "ID",
            "IL",
            "NH",
            "NM",
            "MD",
            "VA",
            "AR",
            "IN",
            "FL",
            "WI",
            "AK",
            "NC",
            "SD"
           ],
           "name": "",
           "type": "choropleth",
           "z": [
            22482,
            8069,
            18811,
            11393,
            944,
            50552,
            38855,
            7434,
            7518,
            1502,
            7096,
            11704,
            17029,
            83752,
            471,
            8037,
            1994,
            5489,
            67311,
            35038,
            28952,
            14576,
            38430,
            1741,
            52350,
            87925,
            9056,
            8353,
            149356,
            15296,
            10854,
            12951,
            3726,
            352845,
            641,
            18412,
            12376,
            776,
            2455,
            98030,
            3721,
            6192,
            41546,
            32145,
            4923,
            28705,
            46944,
            12885,
            400,
            19239,
            4085
           ]
          }
         ],
         "name": "05-19-2020"
        },
        {
         "data": [
          {
           "coloraxis": "coloraxis",
           "geo": "geo",
           "hovertemplate": "Date=05-20-2020<br>Code=%{location}<br>Confirmed=%{z}<extra></extra>",
           "locationmode": "USA-states",
           "locations": [
            "CA",
            "ID",
            "MN",
            "AL",
            "IL",
            "OR",
            "MT",
            "MS",
            "NV",
            "ME",
            "AK",
            "NC",
            "HI",
            "KS",
            "UT",
            "WV",
            "NH",
            "IN",
            "DC",
            "GA",
            "NM",
            "TX",
            "VA",
            "WI",
            "CT",
            "NY",
            "DE",
            "RI",
            "MO",
            "KY",
            "FL",
            "LA",
            "CO",
            "SC",
            "MD",
            "MI",
            "WY",
            "NE",
            "MA",
            "VT",
            "NJ",
            "AZ",
            "ND",
            "PA",
            "AR",
            "OK",
            "OH",
            "TN",
            "IA",
            "SD",
            "WA"
           ],
           "name": "",
           "type": "choropleth",
           "z": [
            85997,
            2506,
            17670,
            13052,
            100418,
            3801,
            478,
            11967,
            7388,
            1819,
            401,
            20262,
            643,
            8507,
            7710,
            1567,
            3868,
            29274,
            7551,
            39801,
            6317,
            51673,
            32908,
            13413,
            39017,
            354370,
            8194,
            13356,
            11528,
            8167,
            47471,
            35316,
            22797,
            9175,
            42323,
            53009,
            787,
            11122,
            88970,
            944,
            150776,
            14906,
            2095,
            68126,
            5003,
            5532,
            29436,
            18412,
            15620,
            4177,
            18971
           ]
          }
         ],
         "name": "05-20-2020"
        },
        {
         "data": [
          {
           "coloraxis": "coloraxis",
           "geo": "geo",
           "hovertemplate": "Date=05-21-2020<br>Code=%{location}<br>Confirmed=%{z}<extra></extra>",
           "locationmode": "USA-states",
           "locations": [
            "SD",
            "FL",
            "CT",
            "CO",
            "TX",
            "VA",
            "SC",
            "DC",
            "PA",
            "OK",
            "OR",
            "WV",
            "WY",
            "WI",
            "AR",
            "AZ",
            "AL",
            "RI",
            "UT",
            "CA",
            "WA",
            "VT",
            "TN",
            "AK",
            "DE",
            "GA",
            "KY",
            "NY",
            "MI",
            "HI",
            "NC",
            "MT",
            "ME",
            "NE",
            "IA",
            "OH",
            "MN",
            "LA",
            "NH",
            "IL",
            "ND",
            "KS",
            "IN",
            "NM",
            "NV",
            "MA",
            "MD",
            "MS",
            "ID",
            "NJ",
            "MO"
           ],
           "name": "",
           "type": "choropleth",
           "z": [
            4177,
            48675,
            39208,
            23191,
            53053,
            34137,
            9381,
            7788,
            69252,
            5680,
            3817,
            1593,
            801,
            13885,
            5458,
            15348,
            13288,
            13571,
            7874,
            88031,
            19117,
            950,
            18961,
            401,
            8386,
            40663,
            8286,
            356458,
            53510,
            647,
            20512,
            479,
            1877,
            11427,
            16170,
            30167,
            18200,
            36504,
            3935,
            102688,
            2229,
            8625,
            29936,
            6472,
            7400,
            90084,
            43531,
            12222,
            2506,
            151586,
            11689
           ]
          }
         ],
         "name": "05-21-2020"
        },
        {
         "data": [
          {
           "coloraxis": "coloraxis",
           "geo": "geo",
           "hovertemplate": "Date=05-22-2020<br>Code=%{location}<br>Confirmed=%{z}<extra></extra>",
           "locationmode": "USA-states",
           "locations": [
            "IL",
            "DC",
            "NM",
            "ID",
            "OH",
            "AL",
            "VT",
            "KS",
            "MN",
            "AR",
            "IN",
            "CT",
            "NJ",
            "MO",
            "LA",
            "ND",
            "DE",
            "WV",
            "ME",
            "CA",
            "MT",
            "FL",
            "KY",
            "WI",
            "NE",
            "TX",
            "WY",
            "IA",
            "MI",
            "NY",
            "NV",
            "SC",
            "AZ",
            "PA",
            "CO",
            "OR",
            "NH",
            "MD",
            "SD",
            "UT",
            "VA",
            "NC",
            "MA",
            "WA",
            "AK",
            "HI",
            "GA",
            "OK",
            "TN",
            "MS",
            "RI"
           ],
           "name": "",
           "type": "choropleth",
           "z": [
            105444,
            7893,
            6625,
            2595,
            30794,
            13670,
            952,
            8909,
            19005,
            5612,
            30409,
            39640,
            152579,
            11836,
            36925,
            2317,
            8529,
            1705,
            1948,
            90252,
            479,
            49451,
            8426,
            14396,
            11662,
            53539,
            803,
            16492,
            53913,
            358154,
            7525,
            9638,
            15624,
            70211,
            23487,
            3864,
            4014,
            44424,
            4356,
            8057,
            34950,
            22110,
            90889,
            19265,
            403,
            642,
            41482,
            5849,
            19394,
            12625,
            13736
           ]
          }
         ],
         "name": "05-22-2020"
        },
        {
         "data": [
          {
           "coloraxis": "coloraxis",
           "geo": "geo",
           "hovertemplate": "Date=05-23-2020<br>Code=%{location}<br>Confirmed=%{z}<extra></extra>",
           "locationmode": "USA-states",
           "locations": [
            "MT",
            "RI",
            "ND",
            "MN",
            "IN",
            "DE",
            "MO",
            "NV",
            "WA",
            "NY",
            "IA",
            "OR",
            "FL",
            "NC",
            "TX",
            "UT",
            "WI",
            "NM",
            "AL",
            "LA",
            "CA",
            "HI",
            "KY",
            "GA",
            "OK",
            "CT",
            "AK",
            "AZ",
            "WV",
            "ME",
            "NH",
            "MD",
            "IL",
            "WY",
            "SD",
            "DC",
            "KS",
            "SC",
            "NE",
            "VA",
            "PA",
            "AR",
            "CO",
            "MI",
            "MS",
            "MA",
            "VT",
            "TN",
            "OH",
            "NJ",
            "ID"
           ],
           "name": "",
           "type": "choropleth",
           "z": [
            479,
            13952,
            2365,
            19845,
            30901,
            8529,
            11966,
            7526,
            19265,
            359926,
            16898,
            3888,
            50127,
            22864,
            54776,
            8260,
            14877,
            6625,
            14117,
            36925,
            92539,
            643,
            8571,
            42242,
            5960,
            40022,
            407,
            16053,
            1705,
            2013,
            4089,
            45495,
            107796,
            813,
            4464,
            7966,
            8946,
            9895,
            11963,
            35749,
            71009,
            5775,
            23964,
            54365,
            13005,
            91662,
            954,
            19785,
            31408,
            153140,
            2595
           ]
          }
         ],
         "name": "05-23-2020"
        },
        {
         "data": [
          {
           "coloraxis": "coloraxis",
           "geo": "geo",
           "hovertemplate": "Date=05-24-2020<br>Code=%{location}<br>Confirmed=%{z}<extra></extra>",
           "locationmode": "USA-states",
           "locations": [
            "SD",
            "NC",
            "OR",
            "PA",
            "MA",
            "NH",
            "WI",
            "IA",
            "HI",
            "MD",
            "WY",
            "WA",
            "VA",
            "ID",
            "MO",
            "NY",
            "NV",
            "NJ",
            "DE",
            "GA",
            "SC",
            "AZ",
            "UT",
            "AR",
            "OH",
            "MT",
            "RI",
            "NE",
            "KS",
            "IL",
            "FL",
            "TX",
            "ME",
            "IN",
            "LA",
            "WV",
            "ND",
            "TN",
            "AK",
            "OK",
            "CO",
            "MI",
            "MS",
            "VT",
            "MN",
            "NM",
            "CT",
            "DC",
            "CA",
            "AL",
            "KY"
           ],
           "name": "",
           "type": "choropleth",
           "z": [
            4563,
            23365,
            3927,
            71563,
            92675,
            4149,
            15277,
            17251,
            643,
            46313,
            838,
            19828,
            36244,
            2626,
            12149,
            361515,
            7881,
            154154,
            8809,
            42902,
            10096,
            16377,
            8392,
            5922,
            31911,
            479,
            14065,
            12134,
            9004,
            110304,
            50867,
            55861,
            2055,
            31376,
            37169,
            1759,
            2418,
            20111,
            407,
            6037,
            24174,
            54679,
            13260,
            956,
            20573,
            6943,
            40468,
            8110,
            94020,
            14478,
            8571
           ]
          }
         ],
         "name": "05-24-2020"
        },
        {
         "data": [
          {
           "coloraxis": "coloraxis",
           "geo": "geo",
           "hovertemplate": "Date=05-25-2020<br>Code=%{location}<br>Confirmed=%{z}<extra></extra>",
           "locationmode": "USA-states",
           "locations": [
            "VA",
            "NY",
            "KY",
            "DE",
            "HI",
            "AZ",
            "VT",
            "CA",
            "UT",
            "PA",
            "MS",
            "MT",
            "KS",
            "LA",
            "NJ",
            "MA",
            "RI",
            "SD",
            "ND",
            "MI",
            "WI",
            "CO",
            "AK",
            "AR",
            "OH",
            "NE",
            "IL",
            "ME",
            "WV",
            "OK",
            "DC",
            "TN",
            "IN",
            "FL",
            "AL",
            "GA",
            "NV",
            "MO",
            "WA",
            "IA",
            "OR",
            "ID",
            "NC",
            "NH",
            "CT",
            "TX",
            "WY",
            "MN",
            "MD",
            "SC",
            "NM"
           ],
           "name": "",
           "type": "choropleth",
           "z": [
            37727,
            362764,
            8571,
            8965,
            643,
            16575,
            962,
            96400,
            8521,
            71925,
            13458,
            479,
            9125,
            37809,
            155092,
            93271,
            14065,
            4586,
            2457,
            54881,
            15584,
            24256,
            408,
            6029,
            32477,
            12362,
            112017,
            2074,
            1774,
            6090,
            8225,
            20535,
            31715,
            51746,
            14986,
            43400,
            7956,
            12476,
            20065,
            17557,
            3949,
            2626,
            24057,
            4197,
            40873,
            56409,
            843,
            21315,
            47152,
            10178,
            7026
           ]
          }
         ],
         "name": "05-25-2020"
        },
        {
         "data": [
          {
           "coloraxis": "coloraxis",
           "geo": "geo",
           "hovertemplate": "Date=05-26-2020<br>Code=%{location}<br>Confirmed=%{z}<extra></extra>",
           "locationmode": "USA-states",
           "locations": [
            "SC",
            "SD",
            "KS",
            "CT",
            "NH",
            "ID",
            "PA",
            "NV",
            "IL",
            "DE",
            "IA",
            "NC",
            "TX",
            "IN",
            "NM",
            "DC",
            "UT",
            "VA",
            "MT",
            "RI",
            "ND",
            "TN",
            "NE",
            "CA",
            "CO",
            "NJ",
            "MS",
            "MI",
            "MO",
            "MA",
            "WA",
            "VT",
            "AK",
            "OK",
            "AR",
            "OR",
            "NY",
            "KY",
            "MD",
            "HI",
            "WY",
            "GA",
            "OH",
            "MN",
            "FL",
            "AZ",
            "ME",
            "LA",
            "WV",
            "AL",
            "WI"
           ],
           "name": "",
           "type": "choropleth",
           "z": [
            10416,
            4653,
            9199,
            41303,
            4231,
            2626,
            72778,
            8057,
            113195,
            9066,
            17703,
            24455,
            57230,
            32078,
            7130,
            8334,
            8620,
            39342,
            479,
            14210,
            2422,
            20895,
            12619,
            99387,
            24552,
            155764,
            13731,
            55104,
            12579,
            93693,
            20181,
            967,
            410,
            6138,
            6180,
            3967,
            363836,
            8951,
            47687,
            643,
            850,
            43983,
            33006,
            21960,
            52255,
            16864,
            2109,
            38054,
            1774,
            15650,
            15863
           ]
          }
         ],
         "name": "05-26-2020"
        },
        {
         "data": [
          {
           "coloraxis": "coloraxis",
           "geo": "geo",
           "hovertemplate": "Date=05-27-2020<br>Code=%{location}<br>Confirmed=%{z}<extra></extra>",
           "locationmode": "USA-states",
           "locations": [
            "AR",
            "DE",
            "CO",
            "AK",
            "UT",
            "TN",
            "OH",
            "WI",
            "HI",
            "VA",
            "MO",
            "MN",
            "IN",
            "NM",
            "NC",
            "AL",
            "LA",
            "NV",
            "NY",
            "RI",
            "IA",
            "OR",
            "MI",
            "ND",
            "WA",
            "FL",
            "TX",
            "NE",
            "NH",
            "MD",
            "MS",
            "PA",
            "KS",
            "SC",
            "MA",
            "VT",
            "SD",
            "AZ",
            "KY",
            "CT",
            "MT",
            "ID",
            "WY",
            "IL",
            "CA",
            "ME",
            "GA",
            "WV",
            "OK",
            "NJ",
            "DC"
           ],
           "name": "",
           "type": "choropleth",
           "z": [
            6277,
            9096,
            24754,
            411,
            8706,
            21285,
            33439,
            16462,
            644,
            40249,
            12816,
            22464,
            32437,
            7252,
            24916,
            16032,
            38497,
            8150,
            364965,
            14353,
            18369,
            4038,
            55608,
            2439,
            20406,
            52634,
            58542,
            12984,
            4286,
            48423,
            14044,
            73557,
            9291,
            10623,
            94220,
            971,
            4710,
            17318,
            9077,
            41288,
            481,
            2699,
            860,
            114306,
            101050,
            2137,
            44638,
            1899,
            6229,
            156628,
            8406
           ]
          }
         ],
         "name": "05-27-2020"
        },
        {
         "data": [
          {
           "coloraxis": "coloraxis",
           "geo": "geo",
           "hovertemplate": "Date=05-28-2020<br>Code=%{location}<br>Confirmed=%{z}<extra></extra>",
           "locationmode": "USA-states",
           "locations": [
            "SC",
            "ID",
            "WY",
            "NM",
            "LA",
            "MD",
            "MN",
            "AL",
            "GA",
            "IN",
            "IL",
            "NJ",
            "ME",
            "AK",
            "WV",
            "DC",
            "TN",
            "CO",
            "OK",
            "RI",
            "WI",
            "CT",
            "SD",
            "ND",
            "MA",
            "NE",
            "MI",
            "NH",
            "OH",
            "TX",
            "FL",
            "NV",
            "AR",
            "NY",
            "CA",
            "WA",
            "DE",
            "MS",
            "NC",
            "IA",
            "AZ",
            "KS",
            "VT",
            "MO",
            "MT",
            "HI",
            "OR",
            "UT",
            "VA",
            "KY",
            "PA"
           ],
           "name": "",
           "type": "choropleth",
           "z": [
            10788,
            2770,
            876,
            7364,
            38802,
            49709,
            22947,
            16530,
            45266,
            33068,
            115833,
            157185,
            2189,
            424,
            1935,
            8492,
            21679,
            25107,
            6273,
            14494,
            16974,
            41559,
            4793,
            2481,
            94895,
            13249,
            56014,
            4389,
            33915,
            60395,
            53285,
            8248,
            6538,
            366733,
            103813,
            20764,
            9171,
            14372,
            25800,
            18586,
            17877,
            9371,
            974,
            12981,
            485,
            647,
            4086,
            8921,
            41401,
            9185,
            74220
           ]
          }
         ],
         "name": "05-28-2020"
        },
        {
         "data": [
          {
           "coloraxis": "coloraxis",
           "geo": "geo",
           "hovertemplate": "Date=05-29-2020<br>Code=%{location}<br>Confirmed=%{z}<extra></extra>",
           "locationmode": "USA-states",
           "locations": [
            "NH",
            "MO",
            "WI",
            "DC",
            "CO",
            "ME",
            "MA",
            "KY",
            "PA",
            "TN",
            "DE",
            "TX",
            "OH",
            "VT",
            "AK",
            "NE",
            "IL",
            "HI",
            "UT",
            "CA",
            "ND",
            "MI",
            "OR",
            "VA",
            "MN",
            "GA",
            "IN",
            "WV",
            "WY",
            "OK",
            "NM",
            "AZ",
            "NC",
            "AL",
            "ID",
            "WA",
            "SC",
            "NY",
            "KS",
            "FL",
            "LA",
            "NV",
            "IA",
            "RI",
            "MD",
            "MT",
            "MS",
            "NJ",
            "SD",
            "AR",
            "CT"
           ],
           "name": "",
           "type": "choropleth",
           "z": [
            4492,
            13084,
            17707,
            8538,
            25598,
            2226,
            95512,
            9464,
            74984,
            22063,
            9236,
            60901,
            34566,
            975,
            429,
            13648,
            117455,
            649,
            9264,
            106622,
            2520,
            56621,
            4131,
            42533,
            23531,
            45881,
            33558,
            1951,
            891,
            6338,
            7493,
            18472,
            26885,
            17031,
            2770,
            21071,
            11131,
            368284,
            9662,
            54497,
            38802,
            8376,
            18957,
            14635,
            50988,
            493,
            14793,
            158844,
            4866,
            6777,
            41762
           ]
          }
         ],
         "name": "05-29-2020"
        },
        {
         "data": [
          {
           "coloraxis": "coloraxis",
           "geo": "geo",
           "hovertemplate": "Date=05-30-2020<br>Code=%{location}<br>Confirmed=%{z}<extra></extra>",
           "locationmode": "USA-states",
           "locations": [
            "MT",
            "OK",
            "TX",
            "SD",
            "GA",
            "WY",
            "AZ",
            "SC",
            "KS",
            "NV",
            "MS",
            "NJ",
            "ID",
            "NH",
            "MD",
            "MA",
            "PA",
            "OH",
            "VT",
            "CT",
            "WV",
            "VA",
            "KY",
            "MI",
            "WI",
            "DE",
            "TN",
            "AL",
            "WA",
            "NM",
            "NY",
            "IA",
            "MO",
            "FL",
            "LA",
            "ND",
            "OR",
            "CO",
            "AK",
            "NC",
            "UT",
            "DC",
            "MN",
            "AR",
            "HI",
            "ME",
            "IL",
            "NE",
            "CA",
            "IN",
            "RI"
           ],
           "name": "",
           "type": "choropleth",
           "z": [
            505,
            6418,
            62675,
            4960,
            46331,
            898,
            19258,
            11394,
            9690,
            8517,
            15229,
            159608,
            2803,
            4492,
            52015,
            96301,
            75697,
            35033,
            977,
            42022,
            1989,
            43611,
            9704,
            56969,
            18230,
            9422,
            22566,
            17359,
            21349,
            7624,
            369660,
            19244,
            13298,
            55424,
            39577,
            2554,
            4185,
            26084,
            433,
            27794,
            9533,
            8717,
            24190,
            7013,
            651,
            2282,
            118917,
            13905,
            109895,
            34211,
            14819
           ]
          }
         ],
         "name": "05-30-2020"
        },
        {
         "data": [
          {
           "coloraxis": "coloraxis",
           "geo": "geo",
           "hovertemplate": "Date=05-31-2020<br>Code=%{location}<br>Confirmed=%{z}<extra></extra>",
           "locationmode": "USA-states",
           "locations": [
            "WA",
            "KS",
            "AL",
            "VA",
            "WY",
            "IN",
            "NC",
            "MS",
            "MN",
            "AZ",
            "ND",
            "MI",
            "WV",
            "AR",
            "VT",
            "CA",
            "UT",
            "CT",
            "SD",
            "ME",
            "AK",
            "LA",
            "WI",
            "IL",
            "MA",
            "MD",
            "CO",
            "MO",
            "MT",
            "NH",
            "ID",
            "KY",
            "TN",
            "NE",
            "TX",
            "GA",
            "RI",
            "NM",
            "PA",
            "NV",
            "FL",
            "NJ",
            "SC",
            "OH",
            "DC",
            "OK",
            "NY",
            "OR",
            "DE",
            "IA",
            "HI"
           ],
           "name": "",
           "type": "choropleth",
           "z": [
            21702,
            9700,
            17952,
            44607,
            903,
            34574,
            28785,
            15523,
            24850,
            19936,
            2577,
            57397,
            2010,
            7253,
            981,
            111951,
            9797,
            42201,
            4993,
            2325,
            459,
            39916,
            18403,
            120260,
            96965,
            52778,
            26364,
            13438,
            515,
            4651,
            2839,
            9704,
            22566,
            14101,
            64652,
            47063,
            14928,
            7689,
            76129,
            8628,
            56163,
            160445,
            11861,
            35513,
            8801,
            6418,
            370770,
            4243,
            9498,
            19552,
            652
           ]
          }
         ],
         "name": "05-31-2020"
        },
        {
         "data": [
          {
           "coloraxis": "coloraxis",
           "geo": "geo",
           "hovertemplate": "Date=06-01-2020<br>Code=%{location}<br>Confirmed=%{z}<extra></extra>",
           "locationmode": "USA-states",
           "locations": [
            "KY",
            "NM",
            "LA",
            "SD",
            "VA",
            "NE",
            "RI",
            "GA",
            "WY",
            "OH",
            "TX",
            "MN",
            "IN",
            "DE",
            "CA",
            "MA",
            "MI",
            "NH",
            "IA",
            "MO",
            "AZ",
            "CT",
            "AL",
            "OR",
            "WI",
            "NC",
            "MD",
            "DC",
            "UT",
            "PA",
            "KS",
            "ID",
            "MS",
            "OK",
            "SC",
            "NV",
            "VT",
            "WA",
            "CO",
            "IL",
            "NJ",
            "AK",
            "WV",
            "ME",
            "NY",
            "ND",
            "FL",
            "MT",
            "AR",
            "HI",
            "TN"
           ],
           "name": "",
           "type": "choropleth",
           "z": [
            10046,
            7800,
            40341,
            5034,
            45398,
            14345,
            14991,
            47902,
            910,
            35984,
            65593,
            25208,
            34830,
            9605,
            114733,
            100805,
            57532,
            4685,
            19699,
            13724,
            20129,
            42740,
            18630,
            4302,
            18543,
            29592,
            53327,
            8857,
            9999,
            76646,
            9920,
            2839,
            15752,
            6573,
            12148,
            8702,
            983,
            21977,
            26563,
            121234,
            160918,
            466,
            2028,
            2349,
            371711,
            2625,
            56830,
            519,
            7443,
            652,
            22566
           ]
          }
         ],
         "name": "06-01-2020"
        },
        {
         "data": [
          {
           "coloraxis": "coloraxis",
           "geo": "geo",
           "hovertemplate": "Date=06-02-2020<br>Code=%{location}<br>Confirmed=%{z}<extra></extra>",
           "locationmode": "USA-states",
           "locations": [
            "OK",
            "WA",
            "NC",
            "IL",
            "IA",
            "NY",
            "ME",
            "WI",
            "CT",
            "DC",
            "AZ",
            "RI",
            "DE",
            "ND",
            "NE",
            "AK",
            "NM",
            "TN",
            "TX",
            "OH",
            "MN",
            "MS",
            "VT",
            "IN",
            "MA",
            "CO",
            "WV",
            "MO",
            "OR",
            "VA",
            "NV",
            "SC",
            "MI",
            "CA",
            "NJ",
            "ID",
            "KS",
            "AL",
            "PA",
            "AR",
            "KY",
            "MD",
            "NH",
            "LA",
            "FL",
            "HI",
            "WY",
            "GA",
            "SD",
            "UT",
            "MT"
           ],
           "name": "",
           "type": "choropleth",
           "z": [
            6692,
            22157,
            30023,
            122848,
            20019,
            373040,
            2377,
            18917,
            42979,
            8886,
            21264,
            15112,
            9685,
            2646,
            14616,
            486,
            8024,
            24342,
            67310,
            36350,
            25508,
            16041,
            988,
            35237,
            101163,
            26774,
            2056,
            14015,
            4335,
            46239,
            8858,
            12415,
            57731,
            117215,
            161545,
            2933,
            9965,
            18766,
            77225,
            7818,
            10185,
            54175,
            4749,
            40746,
            57447,
            653,
            912,
            48207,
            5067,
            10202,
            523
           ]
          }
         ],
         "name": "06-02-2020"
        },
        {
         "data": [
          {
           "coloraxis": "coloraxis",
           "geo": "geo",
           "hovertemplate": "Date=06-03-2020<br>Code=%{location}<br>Confirmed=%{z}<extra></extra>",
           "locationmode": "USA-states",
           "locations": [
            "NM",
            "MA",
            "CA",
            "WA",
            "IN",
            "DC",
            "VT",
            "GA",
            "VA",
            "RI",
            "MN",
            "ID",
            "MS",
            "TN",
            "OH",
            "NH",
            "ND",
            "TX",
            "PA",
            "NE",
            "AK",
            "LA",
            "SD",
            "NJ",
            "SC",
            "HI",
            "DE",
            "MO",
            "UT",
            "OR",
            "MD",
            "FL",
            "KS",
            "ME",
            "IA",
            "KY",
            "NY",
            "AR",
            "NC",
            "WY",
            "MT",
            "CT",
            "AL",
            "WI",
            "WV",
            "CO",
            "NV",
            "AZ",
            "IL",
            "MI",
            "OK"
           ],
           "name": "",
           "type": "choropleth",
           "z": [
            8140,
            101592,
            119348,
            22484,
            35712,
            9016,
            990,
            48894,
            46905,
            15219,
            25870,
            2933,
            16322,
            24833,
            36792,
            4795,
            2679,
            68877,
            77780,
            14885,
            504,
            41133,
            5162,
            162068,
            12415,
            653,
            9712,
            14189,
            10497,
            4399,
            54982,
            58764,
            10092,
            2418,
            20300,
            10410,
            374085,
            8067,
            31276,
            915,
            525,
            43091,
            18851,
            19400,
            2077,
            27046,
            8951,
            22356,
            123830,
            58035,
            6805
           ]
          }
         ],
         "name": "06-03-2020"
        },
        {
         "data": [
          {
           "coloraxis": "coloraxis",
           "geo": "geo",
           "hovertemplate": "Date=06-04-2020<br>Code=%{location}<br>Confirmed=%{z}<extra></extra>",
           "locationmode": "USA-states",
           "locations": [
            "SC",
            "WV",
            "ME",
            "KS",
            "RI",
            "ND",
            "IL",
            "VT",
            "OK",
            "PA",
            "WA",
            "NV",
            "ID",
            "CO",
            "TN",
            "MS",
            "OR",
            "AR",
            "NM",
            "WY",
            "DC",
            "HI",
            "MT",
            "MA",
            "IN",
            "NJ",
            "MI",
            "AZ",
            "CT",
            "WI",
            "CA",
            "AL",
            "NC",
            "KY",
            "UT",
            "FL",
            "MD",
            "MO",
            "DE",
            "NY",
            "VA",
            "NH",
            "AK",
            "IA",
            "GA",
            "NE",
            "LA",
            "TX",
            "OH",
            "SD",
            "MN"
           ],
           "name": "",
           "type": "choropleth",
           "z": [
            12415,
            2102,
            2446,
            10167,
            15325,
            2706,
            124759,
            1026,
            6907,
            78335,
            22729,
            9129,
            2990,
            27346,
            25190,
            16560,
            4474,
            8425,
            8353,
            921,
            9120,
            655,
            539,
            102063,
            36096,
            162530,
            58241,
            22886,
            43239,
            19892,
            122168,
            19072,
            32075,
            10705,
            10813,
            60183,
            55858,
            14438,
            9746,
            375133,
            47856,
            4876,
            512,
            20806,
            49859,
            15139,
            41562,
            70555,
            37282,
            5247,
            26273
           ]
          }
         ],
         "name": "06-04-2020"
        },
        {
         "data": [
          {
           "coloraxis": "coloraxis",
           "geo": "geo",
           "hovertemplate": "Date=06-05-2020<br>Code=%{location}<br>Confirmed=%{z}<extra></extra>",
           "locationmode": "USA-states",
           "locations": [
            "MN",
            "DE",
            "IA",
            "KS",
            "NY",
            "RI",
            "FL",
            "AL",
            "NV",
            "PA",
            "UT",
            "MT",
            "CO",
            "NC",
            "VA",
            "ND",
            "AK",
            "WI",
            "AZ",
            "WA",
            "NM",
            "MS",
            "MI",
            "LA",
            "IN",
            "TX",
            "CA",
            "ME",
            "OK",
            "TN",
            "MA",
            "SC",
            "CT",
            "OH",
            "MD",
            "AR",
            "WV",
            "HI",
            "IL",
            "SD",
            "WY",
            "DC",
            "NJ",
            "ID",
            "NH",
            "KY",
            "NE",
            "MO",
            "GA",
            "VT",
            "OR"
           ],
           "name": "",
           "type": "choropleth",
           "z": [
            26980,
            9773,
            21154,
            10306,
            376208,
            15441,
            61488,
            19387,
            9309,
            78815,
            11252,
            541,
            27601,
            33295,
            48532,
            2745,
            523,
            20249,
            24439,
            22993,
            8672,
            16769,
            63777,
            41989,
            36578,
            72548,
            125738,
            2482,
            7007,
            25664,
            102557,
            13453,
            43460,
            37758,
            56770,
            8651,
            2119,
            664,
            125915,
            5277,
            933,
            9199,
            163336,
            3111,
            4953,
            10977,
            15406,
            14572,
            50621,
            1027,
            4570
           ]
          }
         ],
         "name": "06-05-2020"
        },
        {
         "data": [
          {
           "coloraxis": "coloraxis",
           "geo": "geo",
           "hovertemplate": "Date=06-06-2020<br>Code=%{location}<br>Confirmed=%{z}<extra></extra>",
           "locationmode": "USA-states",
           "locations": [
            "ID",
            "AR",
            "AK",
            "OH",
            "HI",
            "IA",
            "PA",
            "NJ",
            "NM",
            "NE",
            "MI",
            "MN",
            "MA",
            "UT",
            "IN",
            "MO",
            "GA",
            "FL",
            "AL",
            "SD",
            "DE",
            "KY",
            "NC",
            "DC",
            "MT",
            "CA",
            "MD",
            "AZ",
            "OR",
            "CT",
            "WI",
            "NY",
            "NV",
            "WY",
            "RI",
            "TX",
            "CO",
            "IL",
            "NH",
            "ND",
            "SC",
            "VA",
            "OK",
            "WV",
            "VT",
            "KS",
            "TN",
            "MS",
            "LA",
            "WA",
            "ME"
           ],
           "name": "",
           "type": "choropleth",
           "z": [
            3139,
            9101,
            535,
            38111,
            673,
            21478,
            79505,
            163893,
            8800,
            15572,
            64229,
            27501,
            103132,
            11798,
            36997,
            14951,
            51359,
            62758,
            20043,
            5367,
            9845,
            11287,
            34718,
            9269,
            540,
            128593,
            57482,
            25451,
            4570,
            43818,
            20571,
            377316,
            9491,
            939,
            15441,
            74470,
            27834,
            126890,
            5019,
            2816,
            13453,
            49397,
            7059,
            2136,
            1046,
            10361,
            26177,
            17039,
            42486,
            23442,
            2524
           ]
          }
         ],
         "name": "06-06-2020"
        },
        {
         "data": [
          {
           "coloraxis": "coloraxis",
           "geo": "geo",
           "hovertemplate": "Date=06-07-2020<br>Code=%{location}<br>Confirmed=%{z}<extra></extra>",
           "locationmode": "USA-states",
           "locations": [
            "AR",
            "NV",
            "MD",
            "NY",
            "UT",
            "IN",
            "TN",
            "MS",
            "LA",
            "DC",
            "MA",
            "OR",
            "ME",
            "VA",
            "GA",
            "AL",
            "SD",
            "IL",
            "KS",
            "KY",
            "NC",
            "DE",
            "MT",
            "CO",
            "WY",
            "WV",
            "CA",
            "AZ",
            "CT",
            "WI",
            "MN",
            "FL",
            "AK",
            "WA",
            "NM",
            "NE",
            "NJ",
            "ND",
            "NH",
            "MI",
            "HI",
            "IA",
            "OK",
            "TX",
            "PA",
            "ID",
            "SC",
            "RI",
            "MO",
            "OH",
            "VT"
           ],
           "name": "",
           "type": "choropleth",
           "z": [
            9426,
            9669,
            57973,
            378097,
            12066,
            37397,
            26493,
            17270,
            42816,
            9332,
            103436,
            4662,
            2570,
            50679,
            51898,
            20500,
            5438,
            127757,
            10406,
            11287,
            35625,
            9942,
            545,
            27987,
            947,
            2144,
            130615,
            26989,
            43968,
            20835,
            27886,
            63938,
            543,
            23729,
            8940,
            15664,
            164164,
            2861,
            5043,
            64648,
            675,
            21712,
            7150,
            75408,
            79908,
            3139,
            14286,
            15441,
            15023,
            38476,
            1063
           ]
          }
         ],
         "name": "06-07-2020"
        },
        {
         "data": [
          {
           "coloraxis": "coloraxis",
           "geo": "geo",
           "hovertemplate": "Date=06-08-2020<br>Code=%{location}<br>Confirmed=%{z}<extra></extra>",
           "locationmode": "USA-states",
           "locations": [
            "KY",
            "RI",
            "SD",
            "NE",
            "ND",
            "AL",
            "VT",
            "LA",
            "DE",
            "IL",
            "OK",
            "CO",
            "IA",
            "MT",
            "CA",
            "NC",
            "MI",
            "KS",
            "ID",
            "SC",
            "ME",
            "WA",
            "OR",
            "GA",
            "MS",
            "MO",
            "DC",
            "OH",
            "WY",
            "NH",
            "FL",
            "PA",
            "IN",
            "TX",
            "TN",
            "MD",
            "NY",
            "WV",
            "MA",
            "VA",
            "NV",
            "HI",
            "NJ",
            "WI",
            "MN",
            "NM",
            "CT",
            "AK",
            "AZ",
            "AR",
            "UT"
           ],
           "name": "",
           "type": "choropleth",
           "z": [
            11476,
            15642,
            5471,
            15786,
            2880,
            20925,
            1075,
            43050,
            9972,
            128415,
            7205,
            28169,
            22007,
            548,
            133816,
            36517,
            64944,
            10544,
            3189,
            14800,
            2588,
            24041,
            4922,
            52497,
            17768,
            15158,
            9389,
            38837,
            960,
            5079,
            64904,
            80339,
            37623,
            76463,
            27005,
            58404,
            378799,
            2161,
            103626,
            51251,
            9816,
            676,
            164497,
            21038,
            28224,
            9062,
            44092,
            562,
            27678,
            9740,
            12322
           ]
          }
         ],
         "name": "06-08-2020"
        },
        {
         "data": [
          {
           "coloraxis": "coloraxis",
           "geo": "geo",
           "hovertemplate": "Date=06-09-2020<br>Code=%{location}<br>Confirmed=%{z}<extra></extra>",
           "locationmode": "USA-states",
           "locations": [
            "AR",
            "NH",
            "UT",
            "OR",
            "GA",
            "NJ",
            "DE",
            "MI",
            "SD",
            "VA",
            "OK",
            "MO",
            "WA",
            "NM",
            "NE",
            "ID",
            "MN",
            "VT",
            "RI",
            "ND",
            "MD",
            "SC",
            "WV",
            "MS",
            "WY",
            "TN",
            "ME",
            "KS",
            "CO",
            "IL",
            "IA",
            "TX",
            "HI",
            "AK",
            "FL",
            "NV",
            "AL",
            "MT",
            "NC",
            "NY",
            "OH",
            "CA",
            "AZ",
            "KY",
            "WI",
            "MA",
            "IN",
            "LA",
            "DC",
            "PA",
            "CT"
           ],
           "name": "",
           "type": "choropleth",
           "z": [
            10080,
            5079,
            12559,
            4988,
            53249,
            164796,
            10020,
            64998,
            5523,
            51738,
            7363,
            15352,
            24354,
            9105,
            15918,
            3221,
            28523,
            1084,
            15691,
            2901,
            58904,
            15228,
            2169,
            18123,
            970,
            27575,
            2606,
            10609,
            28333,
            129212,
            22237,
            78208,
            682,
            572,
            66000,
            10045,
            21422,
            554,
            37227,
            379482,
            39162,
            136641,
            28296,
            11707,
            21308,
            103889,
            38033,
            43612,
            9474,
            80870,
            44179
           ]
          }
         ],
         "name": "06-09-2020"
        },
        {
         "data": [
          {
           "coloraxis": "coloraxis",
           "geo": "geo",
           "hovertemplate": "Date=06-10-2020<br>Code=%{location}<br>Confirmed=%{z}<extra></extra>",
           "locationmode": "USA-states",
           "locations": [
            "AR",
            "SC",
            "ID",
            "WY",
            "MT",
            "PA",
            "NV",
            "LA",
            "CA",
            "OR",
            "DC",
            "OH",
            "AK",
            "TX",
            "WA",
            "NM",
            "NE",
            "HI",
            "MN",
            "MA",
            "VT",
            "WV",
            "ND",
            "IA",
            "MS",
            "GA",
            "ME",
            "TN",
            "CO",
            "IL",
            "RI",
            "WI",
            "IN",
            "CT",
            "NH",
            "VA",
            "DE",
            "MI",
            "NJ",
            "UT",
            "SD",
            "MD",
            "OK",
            "FL",
            "MO",
            "NY",
            "KY",
            "AZ",
            "AL",
            "KS",
            "NC"
           ],
           "name": "",
           "type": "choropleth",
           "z": [
            10368,
            15759,
            3260,
            980,
            561,
            81316,
            10218,
            44030,
            139715,
            5060,
            9537,
            39575,
            592,
            80777,
            24354,
            9250,
            16058,
            685,
            28869,
            104156,
            1095,
            2194,
            2941,
            22626,
            18483,
            53980,
            2637,
            27930,
            28484,
            129837,
            15756,
            21593,
            38337,
            44347,
            5178,
            52177,
            10056,
            65182,
            165346,
            12864,
            5604,
            59465,
            7483,
            67371,
            15512,
            380156,
            11883,
            29852,
            21989,
            10750,
            38473
           ]
          }
         ],
         "name": "06-10-2020"
        },
        {
         "data": [
          {
           "coloraxis": "coloraxis",
           "geo": "geo",
           "hovertemplate": "Date=06-11-2020<br>Code=%{location}<br>Confirmed=%{z}<extra></extra>",
           "locationmode": "USA-states",
           "locations": [
            "NV",
            "AL",
            "WA",
            "NY",
            "MS",
            "MN",
            "OR",
            "AR",
            "VA",
            "HI",
            "KY",
            "VT",
            "MO",
            "AZ",
            "AK",
            "CT",
            "MA",
            "DE",
            "CA",
            "OH",
            "ME",
            "NE",
            "DC",
            "MI",
            "RI",
            "CO",
            "KS",
            "FL",
            "WV",
            "OK",
            "NC",
            "IA",
            "TN",
            "UT",
            "GA",
            "IL",
            "WI",
            "ID",
            "TX",
            "SC",
            "IN",
            "NM",
            "ND",
            "NH",
            "NJ",
            "WY",
            "SD",
            "PA",
            "MD",
            "LA",
            "MT"
           ],
           "name": "",
           "type": "choropleth",
           "z": [
            10473,
            22845,
            24779,
            380892,
            18483,
            29316,
            5237,
            10816,
            52647,
            692,
            11945,
            1110,
            15699,
            31267,
            609,
            44461,
            104667,
            10106,
            143377,
            40004,
            2667,
            16315,
            9589,
            65449,
            15862,
            28632,
            10823,
            69069,
            2217,
            7626,
            39584,
            22973,
            28340,
            13252,
            54973,
            130603,
            21926,
            3260,
            82658,
            16441,
            38748,
            9367,
            2980,
            5209,
            165816,
            1009,
            5665,
            81848,
            60197,
            44472,
            563
           ]
          }
         ],
         "name": "06-11-2020"
        },
        {
         "data": [
          {
           "coloraxis": "coloraxis",
           "geo": "geo",
           "hovertemplate": "Date=06-12-2020<br>Code=%{location}<br>Confirmed=%{z}<extra></extra>",
           "locationmode": "USA-states",
           "locations": [
            "OK",
            "WA",
            "NM",
            "GA",
            "RI",
            "ND",
            "MS",
            "IL",
            "DE",
            "ME",
            "KS",
            "IA",
            "WY",
            "SC",
            "ID",
            "AR",
            "OR",
            "NH",
            "NJ",
            "SD",
            "MD",
            "TN",
            "MO",
            "CT",
            "OH",
            "NE",
            "DC",
            "HI",
            "TX",
            "MN",
            "VT",
            "WV",
            "MA",
            "KY",
            "CO",
            "AZ",
            "AK",
            "MI",
            "MT",
            "CA",
            "VA",
            "WI",
            "IN",
            "FL",
            "NC",
            "LA",
            "AL",
            "NV",
            "NY",
            "UT",
            "PA"
           ],
           "name": "",
           "type": "choropleth",
           "z": [
            7849,
            25171,
            9526,
            55783,
            15947,
            3016,
            19091,
            131198,
            10173,
            2721,
            10973,
            23350,
            1027,
            17170,
            3353,
            11547,
            5377,
            5251,
            166164,
            5742,
            60613,
            29118,
            15997,
            44689,
            40424,
            16522,
            9654,
            706,
            84927,
            29795,
            1119,
            2249,
            105059,
            12166,
            28807,
            33039,
            624,
            65672,
            573,
            146659,
            53211,
            22246,
            39146,
            70971,
            41417,
            44995,
            23710,
            10704,
            381714,
            13577,
            82481
           ]
          }
         ],
         "name": "06-12-2020"
        },
        {
         "data": [
          {
           "coloraxis": "coloraxis",
           "geo": "geo",
           "hovertemplate": "Date=06-13-2020<br>Code=%{location}<br>Confirmed=%{z}<extra></extra>",
           "locationmode": "USA-states",
           "locations": [
            "HI",
            "KY",
            "UT",
            "NM",
            "KS",
            "VT",
            "WV",
            "FL",
            "IA",
            "MN",
            "DC",
            "PA",
            "NE",
            "NH",
            "AR",
            "NV",
            "LA",
            "NJ",
            "OH",
            "ID",
            "SD",
            "MT",
            "MD",
            "MI",
            "MO",
            "MA",
            "CT",
            "VA",
            "AL",
            "SC",
            "NY",
            "TN",
            "IN",
            "GA",
            "ND",
            "CO",
            "RI",
            "MS",
            "AK",
            "DE",
            "WA",
            "AZ",
            "ME",
            "WI",
            "OK",
            "NC",
            "OR",
            "TX",
            "CA",
            "IL",
            "WY"
           ],
           "name": "",
           "type": "choropleth",
           "z": [
            723,
            12445,
            13981,
            9621,
            11020,
            1125,
            2274,
            73552,
            23717,
            30172,
            9709,
            82944,
            16640,
            5299,
            12095,
            10997,
            46283,
            166605,
            40851,
            3353,
            5833,
            588,
            61305,
            65836,
            16232,
            105395,
            44994,
            53869,
            24601,
            17955,
            382630,
            29549,
            39543,
            56804,
            3058,
            29002,
            15947,
            19348,
            653,
            10229,
            25538,
            34660,
            2757,
            22518,
            8073,
            42845,
            5377,
            86915,
            150018,
            131871,
            1050
           ]
          }
         ],
         "name": "06-13-2020"
        },
        {
         "data": [
          {
           "coloraxis": "coloraxis",
           "geo": "geo",
           "hovertemplate": "Date=06-14-2020<br>Code=%{location}<br>Confirmed=%{z}<extra></extra>",
           "locationmode": "USA-states",
           "locations": [
            "MA",
            "MS",
            "ND",
            "MD",
            "PA",
            "MO",
            "AL",
            "SD",
            "WI",
            "GA",
            "LA",
            "AK",
            "OH",
            "NJ",
            "WA",
            "MT",
            "NV",
            "AR",
            "NM",
            "TX",
            "MI",
            "OR",
            "VA",
            "CA",
            "FL",
            "IL",
            "IA",
            "OK",
            "WV",
            "NH",
            "DE",
            "VT",
            "DC",
            "NC",
            "IN",
            "WY",
            "CT",
            "MN",
            "KY",
            "AZ",
            "HI",
            "KS",
            "RI",
            "UT",
            "SC",
            "NY",
            "NE",
            "ME",
            "TN",
            "CO",
            "ID"
           ],
           "name": "",
           "type": "choropleth",
           "z": [
            105603,
            19516,
            3080,
            61701,
            83203,
            16262,
            25615,
            5898,
            22758,
            57681,
            46619,
            660,
            41148,
            166881,
            25834,
            601,
            11201,
            12501,
            9723,
            88523,
            66054,
            5377,
            54506,
            152300,
            75568,
            132543,
            23926,
            8231,
            2290,
            5318,
            10264,
            1127,
            9767,
            44264,
            39909,
            1060,
            45088,
            30471,
            12445,
            35706,
            728,
            11101,
            15947,
            14313,
            18795,
            383324,
            16730,
            2793,
            30343,
            29115,
            3399
           ]
          }
         ],
         "name": "06-14-2020"
        },
        {
         "data": [
          {
           "coloraxis": "coloraxis",
           "geo": "geo",
           "hovertemplate": "Date=06-15-2020<br>Code=%{location}<br>Confirmed=%{z}<extra></extra>",
           "locationmode": "USA-states",
           "locations": [
            "OR",
            "WY",
            "MN",
            "LA",
            "MI",
            "MD",
            "MA",
            "GA",
            "NY",
            "KY",
            "WV",
            "AL",
            "OK",
            "FL",
            "ME",
            "WI",
            "WA",
            "OH",
            "AK",
            "SC",
            "HI",
            "SD",
            "KS",
            "IN",
            "MT",
            "ND",
            "TX",
            "MS",
            "UT",
            "PA",
            "CT",
            "VA",
            "CO",
            "NM",
            "NJ",
            "RI",
            "DC",
            "NE",
            "ID",
            "VT",
            "IA",
            "TN",
            "CA",
            "MO",
            "AR",
            "AZ",
            "DE",
            "IL",
            "NC",
            "NV",
            "NH"
           ],
           "name": "",
           "type": "choropleth",
           "z": [
            5820,
            1079,
            30693,
            47172,
            66085,
            62032,
            105690,
            58414,
            383944,
            12647,
            2322,
            26272,
            8417,
            77326,
            2810,
            22932,
            26158,
            41576,
            663,
            19378,
            736,
            5928,
            11319,
            40430,
            609,
            3101,
            90211,
            19799,
            14608,
            83589,
            45235,
            54886,
            29284,
            9845,
            167103,
            16093,
            9799,
            16851,
            3399,
            1128,
            24082,
            31004,
            155726,
            16611,
            12917,
            36844,
            10340,
            133016,
            45114,
            11315,
            5345
           ]
          }
         ],
         "name": "06-15-2020"
        },
        {
         "data": [
          {
           "coloraxis": "coloraxis",
           "geo": "geo",
           "hovertemplate": "Date=06-16-2020<br>Code=%{location}<br>Confirmed=%{z}<extra></extra>",
           "locationmode": "USA-states",
           "locations": [
            "DE",
            "RI",
            "VA",
            "GA",
            "HI",
            "MT",
            "WI",
            "MA",
            "CO",
            "CT",
            "WA",
            "OK",
            "NY",
            "IL",
            "NE",
            "DC",
            "KS",
            "TN",
            "NV",
            "AZ",
            "AL",
            "MS",
            "ME",
            "PA",
            "WV",
            "IN",
            "MO",
            "NM",
            "MD",
            "UT",
            "SC",
            "NH",
            "KY",
            "FL",
            "AK",
            "ID",
            "WY",
            "NC",
            "AR",
            "NJ",
            "IA",
            "VT",
            "CA",
            "OH",
            "SD",
            "ND",
            "TX",
            "OR",
            "MI",
            "MN",
            "LA"
           ],
           "name": "",
           "type": "choropleth",
           "z": [
            10403,
            16164,
            55331,
            59078,
            736,
            614,
            23198,
            105885,
            29427,
            45349,
            26531,
            8645,
            384575,
            133639,
            17038,
            9818,
            11411,
            31751,
            11683,
            39185,
            26912,
            20152,
            2819,
            83978,
            2341,
            40786,
            16857,
            9933,
            62409,
            14937,
            19990,
            5364,
            12647,
            80109,
            675,
            3462,
            1089,
            45907,
            13191,
            167426,
            24179,
            1131,
            158961,
            42010,
            5966,
            3124,
            93569,
            6098,
            66269,
            30882,
            47706
           ]
          }
         ],
         "name": "06-16-2020"
        },
        {
         "data": [
          {
           "coloraxis": "coloraxis",
           "geo": "geo",
           "hovertemplate": "Date=06-17-2020<br>Code=%{location}<br>Confirmed=%{z}<extra></extra>",
           "locationmode": "USA-states",
           "locations": [
            "TN",
            "FL",
            "CA",
            "KS",
            "AL",
            "NM",
            "ME",
            "IL",
            "MT",
            "PA",
            "ND",
            "MI",
            "TX",
            "GA",
            "WI",
            "RI",
            "UT",
            "CO",
            "OK",
            "NY",
            "IN",
            "VA",
            "AK",
            "LA",
            "WV",
            "NC",
            "VT",
            "MD",
            "SD",
            "MN",
            "DE",
            "HI",
            "NJ",
            "MA",
            "MS",
            "OH",
            "CT",
            "KY",
            "WA",
            "IA",
            "ID",
            "NH",
            "NV",
            "AR",
            "DC",
            "MO",
            "NE",
            "AZ",
            "SC",
            "OR",
            "WY"
           ],
           "name": "",
           "type": "choropleth",
           "z": [
            32114,
            82719,
            162798,
            11644,
            27312,
            10065,
            2836,
            134185,
            630,
            84289,
            3166,
            66497,
            97699,
            60030,
            23456,
            16213,
            15344,
            29656,
            8904,
            385142,
            41013,
            55775,
            695,
            48634,
            2376,
            46934,
            1130,
            62969,
            6050,
            31296,
            10444,
            744,
            167703,
            106151,
            20641,
            42422,
            45429,
            12995,
            26784,
            24460,
            3632,
            5436,
            11854,
            13606,
            9847,
            17069,
            17231,
            40937,
            20556,
            6218,
            1114
           ]
          }
         ],
         "name": "06-17-2020"
        },
        {
         "data": [
          {
           "coloraxis": "coloraxis",
           "geo": "geo",
           "hovertemplate": "Date=06-18-2020<br>Code=%{location}<br>Confirmed=%{z}<extra></extra>",
           "locationmode": "USA-states",
           "locations": [
            "VT",
            "PA",
            "WY",
            "NC",
            "MN",
            "MI",
            "NJ",
            "FL",
            "WI",
            "TX",
            "OH",
            "KY",
            "AK",
            "SC",
            "LA",
            "UT",
            "ND",
            "NH",
            "IN",
            "NM",
            "ID",
            "OR",
            "MO",
            "AR",
            "CA",
            "AL",
            "NY",
            "VA",
            "IL",
            "WA",
            "NE",
            "ME",
            "IA",
            "OK",
            "DC",
            "KS",
            "CT",
            "CO",
            "RI",
            "TN",
            "HI",
            "GA",
            "MA",
            "SD",
            "NV",
            "AZ",
            "WV",
            "MS",
            "MT",
            "DE",
            "MD"
           ],
           "name": "",
           "type": "choropleth",
           "z": [
            1135,
            84683,
            1144,
            48168,
            31675,
            66798,
            168107,
            85926,
            23876,
            101259,
            43122,
            13197,
            707,
            21533,
            48634,
            15839,
            3193,
            5450,
            41438,
            10153,
            3743,
            6366,
            17371,
            13928,
            167086,
            28206,
            385760,
            56238,
            134778,
            27192,
            17414,
            2878,
            24861,
            9355,
            9903,
            11753,
            45440,
            29886,
            16269,
            32770,
            762,
            60912,
            106422,
            6109,
            12169,
            43445,
            2418,
            20641,
            655,
            10499,
            63229
           ]
          }
         ],
         "name": "06-18-2020"
        },
        {
         "data": [
          {
           "coloraxis": "coloraxis",
           "geo": "geo",
           "hovertemplate": "Date=06-19-2020<br>Code=%{location}<br>Confirmed=%{z}<extra></extra>",
           "locationmode": "USA-states",
           "locations": [
            "WY",
            "NE",
            "NC",
            "WV",
            "DC",
            "TN",
            "SC",
            "CO",
            "ND",
            "CT",
            "SD",
            "IL",
            "NJ",
            "MD",
            "MA",
            "TX",
            "WI",
            "OH",
            "AK",
            "LA",
            "IA",
            "OK",
            "NH",
            "ID",
            "RI",
            "ME",
            "OR",
            "KY",
            "UT",
            "IN",
            "WA",
            "NY",
            "MO",
            "VA",
            "GA",
            "MT",
            "NV",
            "MS",
            "PA",
            "MI",
            "HI",
            "NM",
            "KS",
            "AL",
            "FL",
            "AZ",
            "CA",
            "VT",
            "DE",
            "AR",
            "MN"
           ],
           "name": "",
           "type": "choropleth",
           "z": [
            1173,
            17588,
            50018,
            2468,
            9952,
            34017,
            22608,
            30172,
            3226,
            45557,
            6158,
            135470,
            168496,
            63548,
            106650,
            105394,
            24154,
            43731,
            720,
            48515,
            25274,
            9707,
            5486,
            3871,
            16337,
            2913,
            6572,
            13454,
            16425,
            41746,
            27601,
            386556,
            17667,
            56793,
            62009,
            666,
            12524,
            20641,
            85199,
            67097,
            789,
            10260,
            12021,
            29002,
            89748,
            46910,
            170862,
            1144,
            10611,
            14631,
            32031
           ]
          }
         ],
         "name": "06-19-2020"
        },
        {
         "data": [
          {
           "coloraxis": "coloraxis",
           "geo": "geo",
           "hovertemplate": "Date=06-20-2020<br>Code=%{location}<br>Confirmed=%{z}<extra></extra>",
           "locationmode": "USA-states",
           "locations": [
            "IA",
            "DC",
            "HI",
            "ME",
            "IL",
            "MD",
            "MS",
            "MA",
            "NE",
            "MT",
            "TN",
            "AZ",
            "CA",
            "AL",
            "WV",
            "CO",
            "WA",
            "VA",
            "NV",
            "OK",
            "DE",
            "RI",
            "ID",
            "GA",
            "NY",
            "KS",
            "ND",
            "IN",
            "MO",
            "CT",
            "SC",
            "AR",
            "NH",
            "AK",
            "OH",
            "KY",
            "WI",
            "LA",
            "NM",
            "MN",
            "OR",
            "SD",
            "MI",
            "PA",
            "NJ",
            "FL",
            "WY",
            "TX",
            "NC",
            "VT",
            "UT"
           ],
           "name": "",
           "type": "choropleth",
           "z": [
            25496,
            9984,
            789,
            2938,
            136104,
            63956,
            20641,
            106936,
            17707,
            698,
            34446,
            50127,
            175213,
            29549,
            2500,
            30333,
            28225,
            57443,
            12976,
            10038,
            10681,
            16337,
            4004,
            63809,
            387272,
            12097,
            3251,
            42061,
            18056,
            45715,
            23756,
            15142,
            5518,
            741,
            44261,
            13630,
            24539,
            49385,
            10430,
            32467,
            6572,
            6225,
            67545,
            85590,
            168834,
            93797,
            1179,
            109581,
            51390,
            1147,
            17068
           ]
          }
         ],
         "name": "06-20-2020"
        },
        {
         "data": [
          {
           "coloraxis": "coloraxis",
           "geo": "geo",
           "hovertemplate": "Date=06-21-2020<br>Code=%{location}<br>Confirmed=%{z}<extra></extra>",
           "locationmode": "USA-states",
           "locations": [
            "WV",
            "AL",
            "AR",
            "DC",
            "SC",
            "OR",
            "WY",
            "CT",
            "ID",
            "KS",
            "SD",
            "MD",
            "MA",
            "VT",
            "HI",
            "NJ",
            "MS",
            "NV",
            "IA",
            "KY",
            "OH",
            "NH",
            "MO",
            "DE",
            "NE",
            "WA",
            "MN",
            "AZ",
            "CA",
            "IL",
            "TX",
            "MT",
            "GA",
            "LA",
            "ME",
            "FL",
            "OK",
            "WI",
            "NY",
            "CO",
            "ND",
            "IN",
            "UT",
            "RI",
            "MI",
            "PA",
            "NC",
            "TN",
            "AK",
            "VA",
            "NM"
           ],
           "name": "",
           "type": "choropleth",
           "z": [
            2533,
            30021,
            15561,
            10020,
            24661,
            6572,
            1197,
            45755,
            4006,
            12136,
            6297,
            64306,
            107061,
            1159,
            814,
            169142,
            20641,
            13240,
            25963,
            13750,
            44808,
            5544,
            18459,
            10775,
            17812,
            28680,
            32920,
            52591,
            178546,
            136762,
            112944,
            717,
            64701,
            49778,
            2957,
            97291,
            10516,
            24819,
            387936,
            30524,
            3288,
            42423,
            17462,
            16337,
            67711,
            85935,
            52801,
            35102,
            752,
            57994,
            10565
           ]
          }
         ],
         "name": "06-21-2020"
        },
        {
         "data": [
          {
           "coloraxis": "coloraxis",
           "geo": "geo",
           "hovertemplate": "Date=06-22-2020<br>Code=%{location}<br>Confirmed=%{z}<extra></extra>",
           "locationmode": "USA-states",
           "locations": [
            "MT",
            "VT",
            "MS",
            "CT",
            "WY",
            "HI",
            "LA",
            "IN",
            "AK",
            "ME",
            "MA",
            "MO",
            "PA",
            "DE",
            "MD",
            "NC",
            "AZ",
            "MI",
            "ND",
            "TX",
            "SD",
            "NH",
            "UT",
            "FL",
            "RI",
            "CA",
            "TN",
            "DC",
            "VA",
            "AL",
            "OR",
            "KY",
            "CO",
            "WV",
            "NM",
            "NY",
            "IA",
            "NV",
            "AR",
            "WA",
            "OK",
            "OH",
            "NE",
            "SC",
            "ID",
            "GA",
            "KS",
            "MN",
            "IL",
            "WI",
            "NJ"
           ],
           "name": "",
           "type": "choropleth",
           "z": [
            734,
            1163,
            22329,
            45782,
            1230,
            816,
            50239,
            42633,
            758,
            2971,
            107210,
            18592,
            86576,
            10820,
            64603,
            53964,
            54599,
            67957,
            3313,
            117790,
            6326,
            5558,
            17906,
            100217,
            16459,
            184765,
            35553,
            10058,
            58465,
            30454,
            7083,
            13839,
            30689,
            2552,
            10694,
            388488,
            26146,
            13528,
            16083,
            28870,
            10734,
            45537,
            17963,
            25666,
            4254,
            65928,
            12428,
            33227,
            137224,
            25068,
            169415
           ]
          }
         ],
         "name": "06-22-2020"
        },
        {
         "data": [
          {
           "coloraxis": "coloraxis",
           "geo": "geo",
           "hovertemplate": "Date=06-23-2020<br>Code=%{location}<br>Confirmed=%{z}<extra></extra>",
           "locationmode": "USA-states",
           "locations": [
            "VT",
            "OH",
            "AZ",
            "AK",
            "NH",
            "NM",
            "CT",
            "AR",
            "SC",
            "WI",
            "OR",
            "CA",
            "MO",
            "FL",
            "OK",
            "PA",
            "ID",
            "NE",
            "GA",
            "NY",
            "WA",
            "HI",
            "KS",
            "NV",
            "CO",
            "AL",
            "VA",
            "DC",
            "TN",
            "RI",
            "WV",
            "IL",
            "IA",
            "NJ",
            "KY",
            "MN",
            "NC",
            "TX",
            "DE",
            "MI",
            "SD",
            "LA",
            "ME",
            "MD",
            "MA",
            "IN",
            "MT",
            "ND",
            "MS",
            "UT",
            "WY"
           ],
           "name": "",
           "type": "choropleth",
           "z": [
            1164,
            46127,
            58378,
            760,
            5571,
            10838,
            45899,
            16678,
            26572,
            25331,
            7274,
            191477,
            19005,
            103503,
            11031,
            87208,
            4254,
            18099,
            67810,
            389085,
            29386,
            819,
            12537,
            13528,
            30877,
            31097,
            58994,
            10094,
            36303,
            16533,
            2593,
            137825,
            26469,
            169734,
            14141,
            33469,
            54639,
            122932,
            10847,
            68197,
            6353,
            51595,
            2996,
            65007,
            107439,
            42871,
            743,
            3320,
            22898,
            18300,
            1254
           ]
          }
         ],
         "name": "06-23-2020"
        }
       ],
       "layout": {
        "coloraxis": {
         "colorbar": {
          "title": {
           "text": "Confirmed"
          }
         },
         "colorscale": [
          [
           0,
           "rgb(253, 224, 197)"
          ],
          [
           0.16666666666666666,
           "rgb(250, 203, 166)"
          ],
          [
           0.3333333333333333,
           "rgb(248, 181, 139)"
          ],
          [
           0.5,
           "rgb(245, 158, 114)"
          ],
          [
           0.6666666666666666,
           "rgb(242, 133, 93)"
          ],
          [
           0.8333333333333334,
           "rgb(239, 106, 76)"
          ],
          [
           1,
           "rgb(235, 74, 64)"
          ]
         ]
        },
        "geo": {
         "center": {},
         "domain": {
          "x": [
           0,
           1
          ],
          "y": [
           0,
           1
          ]
         },
         "scope": "usa",
         "showcoastlines": false,
         "showframe": false
        },
        "legend": {
         "tracegroupgap": 0
        },
        "margin": {
         "t": 60
        },
        "sliders": [
         {
          "active": 0,
          "currentvalue": {
           "prefix": "Date="
          },
          "len": 0.9,
          "pad": {
           "b": 10,
           "t": 60
          },
          "steps": [
           {
            "args": [
             [
              "01-22-2020"
             ],
             {
              "frame": {
               "duration": 0,
               "redraw": true
              },
              "fromcurrent": true,
              "mode": "immediate",
              "transition": {
               "duration": 0,
               "easing": "linear"
              }
             }
            ],
            "label": "01-22-2020",
            "method": "animate"
           },
           {
            "args": [
             [
              "01-23-2020"
             ],
             {
              "frame": {
               "duration": 0,
               "redraw": true
              },
              "fromcurrent": true,
              "mode": "immediate",
              "transition": {
               "duration": 0,
               "easing": "linear"
              }
             }
            ],
            "label": "01-23-2020",
            "method": "animate"
           },
           {
            "args": [
             [
              "01-24-2020"
             ],
             {
              "frame": {
               "duration": 0,
               "redraw": true
              },
              "fromcurrent": true,
              "mode": "immediate",
              "transition": {
               "duration": 0,
               "easing": "linear"
              }
             }
            ],
            "label": "01-24-2020",
            "method": "animate"
           },
           {
            "args": [
             [
              "01-25-2020"
             ],
             {
              "frame": {
               "duration": 0,
               "redraw": true
              },
              "fromcurrent": true,
              "mode": "immediate",
              "transition": {
               "duration": 0,
               "easing": "linear"
              }
             }
            ],
            "label": "01-25-2020",
            "method": "animate"
           },
           {
            "args": [
             [
              "01-26-2020"
             ],
             {
              "frame": {
               "duration": 0,
               "redraw": true
              },
              "fromcurrent": true,
              "mode": "immediate",
              "transition": {
               "duration": 0,
               "easing": "linear"
              }
             }
            ],
            "label": "01-26-2020",
            "method": "animate"
           },
           {
            "args": [
             [
              "01-27-2020"
             ],
             {
              "frame": {
               "duration": 0,
               "redraw": true
              },
              "fromcurrent": true,
              "mode": "immediate",
              "transition": {
               "duration": 0,
               "easing": "linear"
              }
             }
            ],
            "label": "01-27-2020",
            "method": "animate"
           },
           {
            "args": [
             [
              "01-28-2020"
             ],
             {
              "frame": {
               "duration": 0,
               "redraw": true
              },
              "fromcurrent": true,
              "mode": "immediate",
              "transition": {
               "duration": 0,
               "easing": "linear"
              }
             }
            ],
            "label": "01-28-2020",
            "method": "animate"
           },
           {
            "args": [
             [
              "01-29-2020"
             ],
             {
              "frame": {
               "duration": 0,
               "redraw": true
              },
              "fromcurrent": true,
              "mode": "immediate",
              "transition": {
               "duration": 0,
               "easing": "linear"
              }
             }
            ],
            "label": "01-29-2020",
            "method": "animate"
           },
           {
            "args": [
             [
              "01-30-2020"
             ],
             {
              "frame": {
               "duration": 0,
               "redraw": true
              },
              "fromcurrent": true,
              "mode": "immediate",
              "transition": {
               "duration": 0,
               "easing": "linear"
              }
             }
            ],
            "label": "01-30-2020",
            "method": "animate"
           },
           {
            "args": [
             [
              "01-31-2020"
             ],
             {
              "frame": {
               "duration": 0,
               "redraw": true
              },
              "fromcurrent": true,
              "mode": "immediate",
              "transition": {
               "duration": 0,
               "easing": "linear"
              }
             }
            ],
            "label": "01-31-2020",
            "method": "animate"
           },
           {
            "args": [
             [
              "02-01-2020"
             ],
             {
              "frame": {
               "duration": 0,
               "redraw": true
              },
              "fromcurrent": true,
              "mode": "immediate",
              "transition": {
               "duration": 0,
               "easing": "linear"
              }
             }
            ],
            "label": "02-01-2020",
            "method": "animate"
           },
           {
            "args": [
             [
              "02-02-2020"
             ],
             {
              "frame": {
               "duration": 0,
               "redraw": true
              },
              "fromcurrent": true,
              "mode": "immediate",
              "transition": {
               "duration": 0,
               "easing": "linear"
              }
             }
            ],
            "label": "02-02-2020",
            "method": "animate"
           },
           {
            "args": [
             [
              "02-03-2020"
             ],
             {
              "frame": {
               "duration": 0,
               "redraw": true
              },
              "fromcurrent": true,
              "mode": "immediate",
              "transition": {
               "duration": 0,
               "easing": "linear"
              }
             }
            ],
            "label": "02-03-2020",
            "method": "animate"
           },
           {
            "args": [
             [
              "02-04-2020"
             ],
             {
              "frame": {
               "duration": 0,
               "redraw": true
              },
              "fromcurrent": true,
              "mode": "immediate",
              "transition": {
               "duration": 0,
               "easing": "linear"
              }
             }
            ],
            "label": "02-04-2020",
            "method": "animate"
           },
           {
            "args": [
             [
              "02-05-2020"
             ],
             {
              "frame": {
               "duration": 0,
               "redraw": true
              },
              "fromcurrent": true,
              "mode": "immediate",
              "transition": {
               "duration": 0,
               "easing": "linear"
              }
             }
            ],
            "label": "02-05-2020",
            "method": "animate"
           },
           {
            "args": [
             [
              "02-06-2020"
             ],
             {
              "frame": {
               "duration": 0,
               "redraw": true
              },
              "fromcurrent": true,
              "mode": "immediate",
              "transition": {
               "duration": 0,
               "easing": "linear"
              }
             }
            ],
            "label": "02-06-2020",
            "method": "animate"
           },
           {
            "args": [
             [
              "02-07-2020"
             ],
             {
              "frame": {
               "duration": 0,
               "redraw": true
              },
              "fromcurrent": true,
              "mode": "immediate",
              "transition": {
               "duration": 0,
               "easing": "linear"
              }
             }
            ],
            "label": "02-07-2020",
            "method": "animate"
           },
           {
            "args": [
             [
              "02-08-2020"
             ],
             {
              "frame": {
               "duration": 0,
               "redraw": true
              },
              "fromcurrent": true,
              "mode": "immediate",
              "transition": {
               "duration": 0,
               "easing": "linear"
              }
             }
            ],
            "label": "02-08-2020",
            "method": "animate"
           },
           {
            "args": [
             [
              "02-09-2020"
             ],
             {
              "frame": {
               "duration": 0,
               "redraw": true
              },
              "fromcurrent": true,
              "mode": "immediate",
              "transition": {
               "duration": 0,
               "easing": "linear"
              }
             }
            ],
            "label": "02-09-2020",
            "method": "animate"
           },
           {
            "args": [
             [
              "02-10-2020"
             ],
             {
              "frame": {
               "duration": 0,
               "redraw": true
              },
              "fromcurrent": true,
              "mode": "immediate",
              "transition": {
               "duration": 0,
               "easing": "linear"
              }
             }
            ],
            "label": "02-10-2020",
            "method": "animate"
           },
           {
            "args": [
             [
              "02-11-2020"
             ],
             {
              "frame": {
               "duration": 0,
               "redraw": true
              },
              "fromcurrent": true,
              "mode": "immediate",
              "transition": {
               "duration": 0,
               "easing": "linear"
              }
             }
            ],
            "label": "02-11-2020",
            "method": "animate"
           },
           {
            "args": [
             [
              "02-12-2020"
             ],
             {
              "frame": {
               "duration": 0,
               "redraw": true
              },
              "fromcurrent": true,
              "mode": "immediate",
              "transition": {
               "duration": 0,
               "easing": "linear"
              }
             }
            ],
            "label": "02-12-2020",
            "method": "animate"
           },
           {
            "args": [
             [
              "02-13-2020"
             ],
             {
              "frame": {
               "duration": 0,
               "redraw": true
              },
              "fromcurrent": true,
              "mode": "immediate",
              "transition": {
               "duration": 0,
               "easing": "linear"
              }
             }
            ],
            "label": "02-13-2020",
            "method": "animate"
           },
           {
            "args": [
             [
              "02-14-2020"
             ],
             {
              "frame": {
               "duration": 0,
               "redraw": true
              },
              "fromcurrent": true,
              "mode": "immediate",
              "transition": {
               "duration": 0,
               "easing": "linear"
              }
             }
            ],
            "label": "02-14-2020",
            "method": "animate"
           },
           {
            "args": [
             [
              "02-15-2020"
             ],
             {
              "frame": {
               "duration": 0,
               "redraw": true
              },
              "fromcurrent": true,
              "mode": "immediate",
              "transition": {
               "duration": 0,
               "easing": "linear"
              }
             }
            ],
            "label": "02-15-2020",
            "method": "animate"
           },
           {
            "args": [
             [
              "02-16-2020"
             ],
             {
              "frame": {
               "duration": 0,
               "redraw": true
              },
              "fromcurrent": true,
              "mode": "immediate",
              "transition": {
               "duration": 0,
               "easing": "linear"
              }
             }
            ],
            "label": "02-16-2020",
            "method": "animate"
           },
           {
            "args": [
             [
              "02-17-2020"
             ],
             {
              "frame": {
               "duration": 0,
               "redraw": true
              },
              "fromcurrent": true,
              "mode": "immediate",
              "transition": {
               "duration": 0,
               "easing": "linear"
              }
             }
            ],
            "label": "02-17-2020",
            "method": "animate"
           },
           {
            "args": [
             [
              "02-18-2020"
             ],
             {
              "frame": {
               "duration": 0,
               "redraw": true
              },
              "fromcurrent": true,
              "mode": "immediate",
              "transition": {
               "duration": 0,
               "easing": "linear"
              }
             }
            ],
            "label": "02-18-2020",
            "method": "animate"
           },
           {
            "args": [
             [
              "02-19-2020"
             ],
             {
              "frame": {
               "duration": 0,
               "redraw": true
              },
              "fromcurrent": true,
              "mode": "immediate",
              "transition": {
               "duration": 0,
               "easing": "linear"
              }
             }
            ],
            "label": "02-19-2020",
            "method": "animate"
           },
           {
            "args": [
             [
              "02-20-2020"
             ],
             {
              "frame": {
               "duration": 0,
               "redraw": true
              },
              "fromcurrent": true,
              "mode": "immediate",
              "transition": {
               "duration": 0,
               "easing": "linear"
              }
             }
            ],
            "label": "02-20-2020",
            "method": "animate"
           },
           {
            "args": [
             [
              "02-21-2020"
             ],
             {
              "frame": {
               "duration": 0,
               "redraw": true
              },
              "fromcurrent": true,
              "mode": "immediate",
              "transition": {
               "duration": 0,
               "easing": "linear"
              }
             }
            ],
            "label": "02-21-2020",
            "method": "animate"
           },
           {
            "args": [
             [
              "02-22-2020"
             ],
             {
              "frame": {
               "duration": 0,
               "redraw": true
              },
              "fromcurrent": true,
              "mode": "immediate",
              "transition": {
               "duration": 0,
               "easing": "linear"
              }
             }
            ],
            "label": "02-22-2020",
            "method": "animate"
           },
           {
            "args": [
             [
              "02-23-2020"
             ],
             {
              "frame": {
               "duration": 0,
               "redraw": true
              },
              "fromcurrent": true,
              "mode": "immediate",
              "transition": {
               "duration": 0,
               "easing": "linear"
              }
             }
            ],
            "label": "02-23-2020",
            "method": "animate"
           },
           {
            "args": [
             [
              "02-24-2020"
             ],
             {
              "frame": {
               "duration": 0,
               "redraw": true
              },
              "fromcurrent": true,
              "mode": "immediate",
              "transition": {
               "duration": 0,
               "easing": "linear"
              }
             }
            ],
            "label": "02-24-2020",
            "method": "animate"
           },
           {
            "args": [
             [
              "02-25-2020"
             ],
             {
              "frame": {
               "duration": 0,
               "redraw": true
              },
              "fromcurrent": true,
              "mode": "immediate",
              "transition": {
               "duration": 0,
               "easing": "linear"
              }
             }
            ],
            "label": "02-25-2020",
            "method": "animate"
           },
           {
            "args": [
             [
              "02-26-2020"
             ],
             {
              "frame": {
               "duration": 0,
               "redraw": true
              },
              "fromcurrent": true,
              "mode": "immediate",
              "transition": {
               "duration": 0,
               "easing": "linear"
              }
             }
            ],
            "label": "02-26-2020",
            "method": "animate"
           },
           {
            "args": [
             [
              "02-27-2020"
             ],
             {
              "frame": {
               "duration": 0,
               "redraw": true
              },
              "fromcurrent": true,
              "mode": "immediate",
              "transition": {
               "duration": 0,
               "easing": "linear"
              }
             }
            ],
            "label": "02-27-2020",
            "method": "animate"
           },
           {
            "args": [
             [
              "02-28-2020"
             ],
             {
              "frame": {
               "duration": 0,
               "redraw": true
              },
              "fromcurrent": true,
              "mode": "immediate",
              "transition": {
               "duration": 0,
               "easing": "linear"
              }
             }
            ],
            "label": "02-28-2020",
            "method": "animate"
           },
           {
            "args": [
             [
              "02-29-2020"
             ],
             {
              "frame": {
               "duration": 0,
               "redraw": true
              },
              "fromcurrent": true,
              "mode": "immediate",
              "transition": {
               "duration": 0,
               "easing": "linear"
              }
             }
            ],
            "label": "02-29-2020",
            "method": "animate"
           },
           {
            "args": [
             [
              "03-01-2020"
             ],
             {
              "frame": {
               "duration": 0,
               "redraw": true
              },
              "fromcurrent": true,
              "mode": "immediate",
              "transition": {
               "duration": 0,
               "easing": "linear"
              }
             }
            ],
            "label": "03-01-2020",
            "method": "animate"
           },
           {
            "args": [
             [
              "03-02-2020"
             ],
             {
              "frame": {
               "duration": 0,
               "redraw": true
              },
              "fromcurrent": true,
              "mode": "immediate",
              "transition": {
               "duration": 0,
               "easing": "linear"
              }
             }
            ],
            "label": "03-02-2020",
            "method": "animate"
           },
           {
            "args": [
             [
              "03-03-2020"
             ],
             {
              "frame": {
               "duration": 0,
               "redraw": true
              },
              "fromcurrent": true,
              "mode": "immediate",
              "transition": {
               "duration": 0,
               "easing": "linear"
              }
             }
            ],
            "label": "03-03-2020",
            "method": "animate"
           },
           {
            "args": [
             [
              "03-04-2020"
             ],
             {
              "frame": {
               "duration": 0,
               "redraw": true
              },
              "fromcurrent": true,
              "mode": "immediate",
              "transition": {
               "duration": 0,
               "easing": "linear"
              }
             }
            ],
            "label": "03-04-2020",
            "method": "animate"
           },
           {
            "args": [
             [
              "03-05-2020"
             ],
             {
              "frame": {
               "duration": 0,
               "redraw": true
              },
              "fromcurrent": true,
              "mode": "immediate",
              "transition": {
               "duration": 0,
               "easing": "linear"
              }
             }
            ],
            "label": "03-05-2020",
            "method": "animate"
           },
           {
            "args": [
             [
              "03-06-2020"
             ],
             {
              "frame": {
               "duration": 0,
               "redraw": true
              },
              "fromcurrent": true,
              "mode": "immediate",
              "transition": {
               "duration": 0,
               "easing": "linear"
              }
             }
            ],
            "label": "03-06-2020",
            "method": "animate"
           },
           {
            "args": [
             [
              "03-07-2020"
             ],
             {
              "frame": {
               "duration": 0,
               "redraw": true
              },
              "fromcurrent": true,
              "mode": "immediate",
              "transition": {
               "duration": 0,
               "easing": "linear"
              }
             }
            ],
            "label": "03-07-2020",
            "method": "animate"
           },
           {
            "args": [
             [
              "03-08-2020"
             ],
             {
              "frame": {
               "duration": 0,
               "redraw": true
              },
              "fromcurrent": true,
              "mode": "immediate",
              "transition": {
               "duration": 0,
               "easing": "linear"
              }
             }
            ],
            "label": "03-08-2020",
            "method": "animate"
           },
           {
            "args": [
             [
              "03-09-2020"
             ],
             {
              "frame": {
               "duration": 0,
               "redraw": true
              },
              "fromcurrent": true,
              "mode": "immediate",
              "transition": {
               "duration": 0,
               "easing": "linear"
              }
             }
            ],
            "label": "03-09-2020",
            "method": "animate"
           },
           {
            "args": [
             [
              "03-10-2020"
             ],
             {
              "frame": {
               "duration": 0,
               "redraw": true
              },
              "fromcurrent": true,
              "mode": "immediate",
              "transition": {
               "duration": 0,
               "easing": "linear"
              }
             }
            ],
            "label": "03-10-2020",
            "method": "animate"
           },
           {
            "args": [
             [
              "03-11-2020"
             ],
             {
              "frame": {
               "duration": 0,
               "redraw": true
              },
              "fromcurrent": true,
              "mode": "immediate",
              "transition": {
               "duration": 0,
               "easing": "linear"
              }
             }
            ],
            "label": "03-11-2020",
            "method": "animate"
           },
           {
            "args": [
             [
              "03-12-2020"
             ],
             {
              "frame": {
               "duration": 0,
               "redraw": true
              },
              "fromcurrent": true,
              "mode": "immediate",
              "transition": {
               "duration": 0,
               "easing": "linear"
              }
             }
            ],
            "label": "03-12-2020",
            "method": "animate"
           },
           {
            "args": [
             [
              "03-13-2020"
             ],
             {
              "frame": {
               "duration": 0,
               "redraw": true
              },
              "fromcurrent": true,
              "mode": "immediate",
              "transition": {
               "duration": 0,
               "easing": "linear"
              }
             }
            ],
            "label": "03-13-2020",
            "method": "animate"
           },
           {
            "args": [
             [
              "03-14-2020"
             ],
             {
              "frame": {
               "duration": 0,
               "redraw": true
              },
              "fromcurrent": true,
              "mode": "immediate",
              "transition": {
               "duration": 0,
               "easing": "linear"
              }
             }
            ],
            "label": "03-14-2020",
            "method": "animate"
           },
           {
            "args": [
             [
              "03-15-2020"
             ],
             {
              "frame": {
               "duration": 0,
               "redraw": true
              },
              "fromcurrent": true,
              "mode": "immediate",
              "transition": {
               "duration": 0,
               "easing": "linear"
              }
             }
            ],
            "label": "03-15-2020",
            "method": "animate"
           },
           {
            "args": [
             [
              "03-16-2020"
             ],
             {
              "frame": {
               "duration": 0,
               "redraw": true
              },
              "fromcurrent": true,
              "mode": "immediate",
              "transition": {
               "duration": 0,
               "easing": "linear"
              }
             }
            ],
            "label": "03-16-2020",
            "method": "animate"
           },
           {
            "args": [
             [
              "03-17-2020"
             ],
             {
              "frame": {
               "duration": 0,
               "redraw": true
              },
              "fromcurrent": true,
              "mode": "immediate",
              "transition": {
               "duration": 0,
               "easing": "linear"
              }
             }
            ],
            "label": "03-17-2020",
            "method": "animate"
           },
           {
            "args": [
             [
              "03-18-2020"
             ],
             {
              "frame": {
               "duration": 0,
               "redraw": true
              },
              "fromcurrent": true,
              "mode": "immediate",
              "transition": {
               "duration": 0,
               "easing": "linear"
              }
             }
            ],
            "label": "03-18-2020",
            "method": "animate"
           },
           {
            "args": [
             [
              "03-19-2020"
             ],
             {
              "frame": {
               "duration": 0,
               "redraw": true
              },
              "fromcurrent": true,
              "mode": "immediate",
              "transition": {
               "duration": 0,
               "easing": "linear"
              }
             }
            ],
            "label": "03-19-2020",
            "method": "animate"
           },
           {
            "args": [
             [
              "03-20-2020"
             ],
             {
              "frame": {
               "duration": 0,
               "redraw": true
              },
              "fromcurrent": true,
              "mode": "immediate",
              "transition": {
               "duration": 0,
               "easing": "linear"
              }
             }
            ],
            "label": "03-20-2020",
            "method": "animate"
           },
           {
            "args": [
             [
              "03-21-2020"
             ],
             {
              "frame": {
               "duration": 0,
               "redraw": true
              },
              "fromcurrent": true,
              "mode": "immediate",
              "transition": {
               "duration": 0,
               "easing": "linear"
              }
             }
            ],
            "label": "03-21-2020",
            "method": "animate"
           },
           {
            "args": [
             [
              "03-22-2020"
             ],
             {
              "frame": {
               "duration": 0,
               "redraw": true
              },
              "fromcurrent": true,
              "mode": "immediate",
              "transition": {
               "duration": 0,
               "easing": "linear"
              }
             }
            ],
            "label": "03-22-2020",
            "method": "animate"
           },
           {
            "args": [
             [
              "03-23-2020"
             ],
             {
              "frame": {
               "duration": 0,
               "redraw": true
              },
              "fromcurrent": true,
              "mode": "immediate",
              "transition": {
               "duration": 0,
               "easing": "linear"
              }
             }
            ],
            "label": "03-23-2020",
            "method": "animate"
           },
           {
            "args": [
             [
              "03-24-2020"
             ],
             {
              "frame": {
               "duration": 0,
               "redraw": true
              },
              "fromcurrent": true,
              "mode": "immediate",
              "transition": {
               "duration": 0,
               "easing": "linear"
              }
             }
            ],
            "label": "03-24-2020",
            "method": "animate"
           },
           {
            "args": [
             [
              "03-25-2020"
             ],
             {
              "frame": {
               "duration": 0,
               "redraw": true
              },
              "fromcurrent": true,
              "mode": "immediate",
              "transition": {
               "duration": 0,
               "easing": "linear"
              }
             }
            ],
            "label": "03-25-2020",
            "method": "animate"
           },
           {
            "args": [
             [
              "03-26-2020"
             ],
             {
              "frame": {
               "duration": 0,
               "redraw": true
              },
              "fromcurrent": true,
              "mode": "immediate",
              "transition": {
               "duration": 0,
               "easing": "linear"
              }
             }
            ],
            "label": "03-26-2020",
            "method": "animate"
           },
           {
            "args": [
             [
              "03-27-2020"
             ],
             {
              "frame": {
               "duration": 0,
               "redraw": true
              },
              "fromcurrent": true,
              "mode": "immediate",
              "transition": {
               "duration": 0,
               "easing": "linear"
              }
             }
            ],
            "label": "03-27-2020",
            "method": "animate"
           },
           {
            "args": [
             [
              "03-28-2020"
             ],
             {
              "frame": {
               "duration": 0,
               "redraw": true
              },
              "fromcurrent": true,
              "mode": "immediate",
              "transition": {
               "duration": 0,
               "easing": "linear"
              }
             }
            ],
            "label": "03-28-2020",
            "method": "animate"
           },
           {
            "args": [
             [
              "03-29-2020"
             ],
             {
              "frame": {
               "duration": 0,
               "redraw": true
              },
              "fromcurrent": true,
              "mode": "immediate",
              "transition": {
               "duration": 0,
               "easing": "linear"
              }
             }
            ],
            "label": "03-29-2020",
            "method": "animate"
           },
           {
            "args": [
             [
              "03-30-2020"
             ],
             {
              "frame": {
               "duration": 0,
               "redraw": true
              },
              "fromcurrent": true,
              "mode": "immediate",
              "transition": {
               "duration": 0,
               "easing": "linear"
              }
             }
            ],
            "label": "03-30-2020",
            "method": "animate"
           },
           {
            "args": [
             [
              "03-31-2020"
             ],
             {
              "frame": {
               "duration": 0,
               "redraw": true
              },
              "fromcurrent": true,
              "mode": "immediate",
              "transition": {
               "duration": 0,
               "easing": "linear"
              }
             }
            ],
            "label": "03-31-2020",
            "method": "animate"
           },
           {
            "args": [
             [
              "04-01-2020"
             ],
             {
              "frame": {
               "duration": 0,
               "redraw": true
              },
              "fromcurrent": true,
              "mode": "immediate",
              "transition": {
               "duration": 0,
               "easing": "linear"
              }
             }
            ],
            "label": "04-01-2020",
            "method": "animate"
           },
           {
            "args": [
             [
              "04-02-2020"
             ],
             {
              "frame": {
               "duration": 0,
               "redraw": true
              },
              "fromcurrent": true,
              "mode": "immediate",
              "transition": {
               "duration": 0,
               "easing": "linear"
              }
             }
            ],
            "label": "04-02-2020",
            "method": "animate"
           },
           {
            "args": [
             [
              "04-03-2020"
             ],
             {
              "frame": {
               "duration": 0,
               "redraw": true
              },
              "fromcurrent": true,
              "mode": "immediate",
              "transition": {
               "duration": 0,
               "easing": "linear"
              }
             }
            ],
            "label": "04-03-2020",
            "method": "animate"
           },
           {
            "args": [
             [
              "04-04-2020"
             ],
             {
              "frame": {
               "duration": 0,
               "redraw": true
              },
              "fromcurrent": true,
              "mode": "immediate",
              "transition": {
               "duration": 0,
               "easing": "linear"
              }
             }
            ],
            "label": "04-04-2020",
            "method": "animate"
           },
           {
            "args": [
             [
              "04-05-2020"
             ],
             {
              "frame": {
               "duration": 0,
               "redraw": true
              },
              "fromcurrent": true,
              "mode": "immediate",
              "transition": {
               "duration": 0,
               "easing": "linear"
              }
             }
            ],
            "label": "04-05-2020",
            "method": "animate"
           },
           {
            "args": [
             [
              "04-06-2020"
             ],
             {
              "frame": {
               "duration": 0,
               "redraw": true
              },
              "fromcurrent": true,
              "mode": "immediate",
              "transition": {
               "duration": 0,
               "easing": "linear"
              }
             }
            ],
            "label": "04-06-2020",
            "method": "animate"
           },
           {
            "args": [
             [
              "04-07-2020"
             ],
             {
              "frame": {
               "duration": 0,
               "redraw": true
              },
              "fromcurrent": true,
              "mode": "immediate",
              "transition": {
               "duration": 0,
               "easing": "linear"
              }
             }
            ],
            "label": "04-07-2020",
            "method": "animate"
           },
           {
            "args": [
             [
              "04-08-2020"
             ],
             {
              "frame": {
               "duration": 0,
               "redraw": true
              },
              "fromcurrent": true,
              "mode": "immediate",
              "transition": {
               "duration": 0,
               "easing": "linear"
              }
             }
            ],
            "label": "04-08-2020",
            "method": "animate"
           },
           {
            "args": [
             [
              "04-09-2020"
             ],
             {
              "frame": {
               "duration": 0,
               "redraw": true
              },
              "fromcurrent": true,
              "mode": "immediate",
              "transition": {
               "duration": 0,
               "easing": "linear"
              }
             }
            ],
            "label": "04-09-2020",
            "method": "animate"
           },
           {
            "args": [
             [
              "04-10-2020"
             ],
             {
              "frame": {
               "duration": 0,
               "redraw": true
              },
              "fromcurrent": true,
              "mode": "immediate",
              "transition": {
               "duration": 0,
               "easing": "linear"
              }
             }
            ],
            "label": "04-10-2020",
            "method": "animate"
           },
           {
            "args": [
             [
              "04-11-2020"
             ],
             {
              "frame": {
               "duration": 0,
               "redraw": true
              },
              "fromcurrent": true,
              "mode": "immediate",
              "transition": {
               "duration": 0,
               "easing": "linear"
              }
             }
            ],
            "label": "04-11-2020",
            "method": "animate"
           },
           {
            "args": [
             [
              "04-12-2020"
             ],
             {
              "frame": {
               "duration": 0,
               "redraw": true
              },
              "fromcurrent": true,
              "mode": "immediate",
              "transition": {
               "duration": 0,
               "easing": "linear"
              }
             }
            ],
            "label": "04-12-2020",
            "method": "animate"
           },
           {
            "args": [
             [
              "04-13-2020"
             ],
             {
              "frame": {
               "duration": 0,
               "redraw": true
              },
              "fromcurrent": true,
              "mode": "immediate",
              "transition": {
               "duration": 0,
               "easing": "linear"
              }
             }
            ],
            "label": "04-13-2020",
            "method": "animate"
           },
           {
            "args": [
             [
              "04-14-2020"
             ],
             {
              "frame": {
               "duration": 0,
               "redraw": true
              },
              "fromcurrent": true,
              "mode": "immediate",
              "transition": {
               "duration": 0,
               "easing": "linear"
              }
             }
            ],
            "label": "04-14-2020",
            "method": "animate"
           },
           {
            "args": [
             [
              "04-15-2020"
             ],
             {
              "frame": {
               "duration": 0,
               "redraw": true
              },
              "fromcurrent": true,
              "mode": "immediate",
              "transition": {
               "duration": 0,
               "easing": "linear"
              }
             }
            ],
            "label": "04-15-2020",
            "method": "animate"
           },
           {
            "args": [
             [
              "04-16-2020"
             ],
             {
              "frame": {
               "duration": 0,
               "redraw": true
              },
              "fromcurrent": true,
              "mode": "immediate",
              "transition": {
               "duration": 0,
               "easing": "linear"
              }
             }
            ],
            "label": "04-16-2020",
            "method": "animate"
           },
           {
            "args": [
             [
              "04-17-2020"
             ],
             {
              "frame": {
               "duration": 0,
               "redraw": true
              },
              "fromcurrent": true,
              "mode": "immediate",
              "transition": {
               "duration": 0,
               "easing": "linear"
              }
             }
            ],
            "label": "04-17-2020",
            "method": "animate"
           },
           {
            "args": [
             [
              "04-18-2020"
             ],
             {
              "frame": {
               "duration": 0,
               "redraw": true
              },
              "fromcurrent": true,
              "mode": "immediate",
              "transition": {
               "duration": 0,
               "easing": "linear"
              }
             }
            ],
            "label": "04-18-2020",
            "method": "animate"
           },
           {
            "args": [
             [
              "04-19-2020"
             ],
             {
              "frame": {
               "duration": 0,
               "redraw": true
              },
              "fromcurrent": true,
              "mode": "immediate",
              "transition": {
               "duration": 0,
               "easing": "linear"
              }
             }
            ],
            "label": "04-19-2020",
            "method": "animate"
           },
           {
            "args": [
             [
              "04-20-2020"
             ],
             {
              "frame": {
               "duration": 0,
               "redraw": true
              },
              "fromcurrent": true,
              "mode": "immediate",
              "transition": {
               "duration": 0,
               "easing": "linear"
              }
             }
            ],
            "label": "04-20-2020",
            "method": "animate"
           },
           {
            "args": [
             [
              "04-21-2020"
             ],
             {
              "frame": {
               "duration": 0,
               "redraw": true
              },
              "fromcurrent": true,
              "mode": "immediate",
              "transition": {
               "duration": 0,
               "easing": "linear"
              }
             }
            ],
            "label": "04-21-2020",
            "method": "animate"
           },
           {
            "args": [
             [
              "04-22-2020"
             ],
             {
              "frame": {
               "duration": 0,
               "redraw": true
              },
              "fromcurrent": true,
              "mode": "immediate",
              "transition": {
               "duration": 0,
               "easing": "linear"
              }
             }
            ],
            "label": "04-22-2020",
            "method": "animate"
           },
           {
            "args": [
             [
              "04-23-2020"
             ],
             {
              "frame": {
               "duration": 0,
               "redraw": true
              },
              "fromcurrent": true,
              "mode": "immediate",
              "transition": {
               "duration": 0,
               "easing": "linear"
              }
             }
            ],
            "label": "04-23-2020",
            "method": "animate"
           },
           {
            "args": [
             [
              "04-24-2020"
             ],
             {
              "frame": {
               "duration": 0,
               "redraw": true
              },
              "fromcurrent": true,
              "mode": "immediate",
              "transition": {
               "duration": 0,
               "easing": "linear"
              }
             }
            ],
            "label": "04-24-2020",
            "method": "animate"
           },
           {
            "args": [
             [
              "04-25-2020"
             ],
             {
              "frame": {
               "duration": 0,
               "redraw": true
              },
              "fromcurrent": true,
              "mode": "immediate",
              "transition": {
               "duration": 0,
               "easing": "linear"
              }
             }
            ],
            "label": "04-25-2020",
            "method": "animate"
           },
           {
            "args": [
             [
              "04-26-2020"
             ],
             {
              "frame": {
               "duration": 0,
               "redraw": true
              },
              "fromcurrent": true,
              "mode": "immediate",
              "transition": {
               "duration": 0,
               "easing": "linear"
              }
             }
            ],
            "label": "04-26-2020",
            "method": "animate"
           },
           {
            "args": [
             [
              "04-27-2020"
             ],
             {
              "frame": {
               "duration": 0,
               "redraw": true
              },
              "fromcurrent": true,
              "mode": "immediate",
              "transition": {
               "duration": 0,
               "easing": "linear"
              }
             }
            ],
            "label": "04-27-2020",
            "method": "animate"
           },
           {
            "args": [
             [
              "04-28-2020"
             ],
             {
              "frame": {
               "duration": 0,
               "redraw": true
              },
              "fromcurrent": true,
              "mode": "immediate",
              "transition": {
               "duration": 0,
               "easing": "linear"
              }
             }
            ],
            "label": "04-28-2020",
            "method": "animate"
           },
           {
            "args": [
             [
              "04-29-2020"
             ],
             {
              "frame": {
               "duration": 0,
               "redraw": true
              },
              "fromcurrent": true,
              "mode": "immediate",
              "transition": {
               "duration": 0,
               "easing": "linear"
              }
             }
            ],
            "label": "04-29-2020",
            "method": "animate"
           },
           {
            "args": [
             [
              "04-30-2020"
             ],
             {
              "frame": {
               "duration": 0,
               "redraw": true
              },
              "fromcurrent": true,
              "mode": "immediate",
              "transition": {
               "duration": 0,
               "easing": "linear"
              }
             }
            ],
            "label": "04-30-2020",
            "method": "animate"
           },
           {
            "args": [
             [
              "05-01-2020"
             ],
             {
              "frame": {
               "duration": 0,
               "redraw": true
              },
              "fromcurrent": true,
              "mode": "immediate",
              "transition": {
               "duration": 0,
               "easing": "linear"
              }
             }
            ],
            "label": "05-01-2020",
            "method": "animate"
           },
           {
            "args": [
             [
              "05-02-2020"
             ],
             {
              "frame": {
               "duration": 0,
               "redraw": true
              },
              "fromcurrent": true,
              "mode": "immediate",
              "transition": {
               "duration": 0,
               "easing": "linear"
              }
             }
            ],
            "label": "05-02-2020",
            "method": "animate"
           },
           {
            "args": [
             [
              "05-03-2020"
             ],
             {
              "frame": {
               "duration": 0,
               "redraw": true
              },
              "fromcurrent": true,
              "mode": "immediate",
              "transition": {
               "duration": 0,
               "easing": "linear"
              }
             }
            ],
            "label": "05-03-2020",
            "method": "animate"
           },
           {
            "args": [
             [
              "05-04-2020"
             ],
             {
              "frame": {
               "duration": 0,
               "redraw": true
              },
              "fromcurrent": true,
              "mode": "immediate",
              "transition": {
               "duration": 0,
               "easing": "linear"
              }
             }
            ],
            "label": "05-04-2020",
            "method": "animate"
           },
           {
            "args": [
             [
              "05-05-2020"
             ],
             {
              "frame": {
               "duration": 0,
               "redraw": true
              },
              "fromcurrent": true,
              "mode": "immediate",
              "transition": {
               "duration": 0,
               "easing": "linear"
              }
             }
            ],
            "label": "05-05-2020",
            "method": "animate"
           },
           {
            "args": [
             [
              "05-06-2020"
             ],
             {
              "frame": {
               "duration": 0,
               "redraw": true
              },
              "fromcurrent": true,
              "mode": "immediate",
              "transition": {
               "duration": 0,
               "easing": "linear"
              }
             }
            ],
            "label": "05-06-2020",
            "method": "animate"
           },
           {
            "args": [
             [
              "05-07-2020"
             ],
             {
              "frame": {
               "duration": 0,
               "redraw": true
              },
              "fromcurrent": true,
              "mode": "immediate",
              "transition": {
               "duration": 0,
               "easing": "linear"
              }
             }
            ],
            "label": "05-07-2020",
            "method": "animate"
           },
           {
            "args": [
             [
              "05-08-2020"
             ],
             {
              "frame": {
               "duration": 0,
               "redraw": true
              },
              "fromcurrent": true,
              "mode": "immediate",
              "transition": {
               "duration": 0,
               "easing": "linear"
              }
             }
            ],
            "label": "05-08-2020",
            "method": "animate"
           },
           {
            "args": [
             [
              "05-09-2020"
             ],
             {
              "frame": {
               "duration": 0,
               "redraw": true
              },
              "fromcurrent": true,
              "mode": "immediate",
              "transition": {
               "duration": 0,
               "easing": "linear"
              }
             }
            ],
            "label": "05-09-2020",
            "method": "animate"
           },
           {
            "args": [
             [
              "05-10-2020"
             ],
             {
              "frame": {
               "duration": 0,
               "redraw": true
              },
              "fromcurrent": true,
              "mode": "immediate",
              "transition": {
               "duration": 0,
               "easing": "linear"
              }
             }
            ],
            "label": "05-10-2020",
            "method": "animate"
           },
           {
            "args": [
             [
              "05-11-2020"
             ],
             {
              "frame": {
               "duration": 0,
               "redraw": true
              },
              "fromcurrent": true,
              "mode": "immediate",
              "transition": {
               "duration": 0,
               "easing": "linear"
              }
             }
            ],
            "label": "05-11-2020",
            "method": "animate"
           },
           {
            "args": [
             [
              "05-12-2020"
             ],
             {
              "frame": {
               "duration": 0,
               "redraw": true
              },
              "fromcurrent": true,
              "mode": "immediate",
              "transition": {
               "duration": 0,
               "easing": "linear"
              }
             }
            ],
            "label": "05-12-2020",
            "method": "animate"
           },
           {
            "args": [
             [
              "05-13-2020"
             ],
             {
              "frame": {
               "duration": 0,
               "redraw": true
              },
              "fromcurrent": true,
              "mode": "immediate",
              "transition": {
               "duration": 0,
               "easing": "linear"
              }
             }
            ],
            "label": "05-13-2020",
            "method": "animate"
           },
           {
            "args": [
             [
              "05-14-2020"
             ],
             {
              "frame": {
               "duration": 0,
               "redraw": true
              },
              "fromcurrent": true,
              "mode": "immediate",
              "transition": {
               "duration": 0,
               "easing": "linear"
              }
             }
            ],
            "label": "05-14-2020",
            "method": "animate"
           },
           {
            "args": [
             [
              "05-15-2020"
             ],
             {
              "frame": {
               "duration": 0,
               "redraw": true
              },
              "fromcurrent": true,
              "mode": "immediate",
              "transition": {
               "duration": 0,
               "easing": "linear"
              }
             }
            ],
            "label": "05-15-2020",
            "method": "animate"
           },
           {
            "args": [
             [
              "05-16-2020"
             ],
             {
              "frame": {
               "duration": 0,
               "redraw": true
              },
              "fromcurrent": true,
              "mode": "immediate",
              "transition": {
               "duration": 0,
               "easing": "linear"
              }
             }
            ],
            "label": "05-16-2020",
            "method": "animate"
           },
           {
            "args": [
             [
              "05-17-2020"
             ],
             {
              "frame": {
               "duration": 0,
               "redraw": true
              },
              "fromcurrent": true,
              "mode": "immediate",
              "transition": {
               "duration": 0,
               "easing": "linear"
              }
             }
            ],
            "label": "05-17-2020",
            "method": "animate"
           },
           {
            "args": [
             [
              "05-18-2020"
             ],
             {
              "frame": {
               "duration": 0,
               "redraw": true
              },
              "fromcurrent": true,
              "mode": "immediate",
              "transition": {
               "duration": 0,
               "easing": "linear"
              }
             }
            ],
            "label": "05-18-2020",
            "method": "animate"
           },
           {
            "args": [
             [
              "05-19-2020"
             ],
             {
              "frame": {
               "duration": 0,
               "redraw": true
              },
              "fromcurrent": true,
              "mode": "immediate",
              "transition": {
               "duration": 0,
               "easing": "linear"
              }
             }
            ],
            "label": "05-19-2020",
            "method": "animate"
           },
           {
            "args": [
             [
              "05-20-2020"
             ],
             {
              "frame": {
               "duration": 0,
               "redraw": true
              },
              "fromcurrent": true,
              "mode": "immediate",
              "transition": {
               "duration": 0,
               "easing": "linear"
              }
             }
            ],
            "label": "05-20-2020",
            "method": "animate"
           },
           {
            "args": [
             [
              "05-21-2020"
             ],
             {
              "frame": {
               "duration": 0,
               "redraw": true
              },
              "fromcurrent": true,
              "mode": "immediate",
              "transition": {
               "duration": 0,
               "easing": "linear"
              }
             }
            ],
            "label": "05-21-2020",
            "method": "animate"
           },
           {
            "args": [
             [
              "05-22-2020"
             ],
             {
              "frame": {
               "duration": 0,
               "redraw": true
              },
              "fromcurrent": true,
              "mode": "immediate",
              "transition": {
               "duration": 0,
               "easing": "linear"
              }
             }
            ],
            "label": "05-22-2020",
            "method": "animate"
           },
           {
            "args": [
             [
              "05-23-2020"
             ],
             {
              "frame": {
               "duration": 0,
               "redraw": true
              },
              "fromcurrent": true,
              "mode": "immediate",
              "transition": {
               "duration": 0,
               "easing": "linear"
              }
             }
            ],
            "label": "05-23-2020",
            "method": "animate"
           },
           {
            "args": [
             [
              "05-24-2020"
             ],
             {
              "frame": {
               "duration": 0,
               "redraw": true
              },
              "fromcurrent": true,
              "mode": "immediate",
              "transition": {
               "duration": 0,
               "easing": "linear"
              }
             }
            ],
            "label": "05-24-2020",
            "method": "animate"
           },
           {
            "args": [
             [
              "05-25-2020"
             ],
             {
              "frame": {
               "duration": 0,
               "redraw": true
              },
              "fromcurrent": true,
              "mode": "immediate",
              "transition": {
               "duration": 0,
               "easing": "linear"
              }
             }
            ],
            "label": "05-25-2020",
            "method": "animate"
           },
           {
            "args": [
             [
              "05-26-2020"
             ],
             {
              "frame": {
               "duration": 0,
               "redraw": true
              },
              "fromcurrent": true,
              "mode": "immediate",
              "transition": {
               "duration": 0,
               "easing": "linear"
              }
             }
            ],
            "label": "05-26-2020",
            "method": "animate"
           },
           {
            "args": [
             [
              "05-27-2020"
             ],
             {
              "frame": {
               "duration": 0,
               "redraw": true
              },
              "fromcurrent": true,
              "mode": "immediate",
              "transition": {
               "duration": 0,
               "easing": "linear"
              }
             }
            ],
            "label": "05-27-2020",
            "method": "animate"
           },
           {
            "args": [
             [
              "05-28-2020"
             ],
             {
              "frame": {
               "duration": 0,
               "redraw": true
              },
              "fromcurrent": true,
              "mode": "immediate",
              "transition": {
               "duration": 0,
               "easing": "linear"
              }
             }
            ],
            "label": "05-28-2020",
            "method": "animate"
           },
           {
            "args": [
             [
              "05-29-2020"
             ],
             {
              "frame": {
               "duration": 0,
               "redraw": true
              },
              "fromcurrent": true,
              "mode": "immediate",
              "transition": {
               "duration": 0,
               "easing": "linear"
              }
             }
            ],
            "label": "05-29-2020",
            "method": "animate"
           },
           {
            "args": [
             [
              "05-30-2020"
             ],
             {
              "frame": {
               "duration": 0,
               "redraw": true
              },
              "fromcurrent": true,
              "mode": "immediate",
              "transition": {
               "duration": 0,
               "easing": "linear"
              }
             }
            ],
            "label": "05-30-2020",
            "method": "animate"
           },
           {
            "args": [
             [
              "05-31-2020"
             ],
             {
              "frame": {
               "duration": 0,
               "redraw": true
              },
              "fromcurrent": true,
              "mode": "immediate",
              "transition": {
               "duration": 0,
               "easing": "linear"
              }
             }
            ],
            "label": "05-31-2020",
            "method": "animate"
           },
           {
            "args": [
             [
              "06-01-2020"
             ],
             {
              "frame": {
               "duration": 0,
               "redraw": true
              },
              "fromcurrent": true,
              "mode": "immediate",
              "transition": {
               "duration": 0,
               "easing": "linear"
              }
             }
            ],
            "label": "06-01-2020",
            "method": "animate"
           },
           {
            "args": [
             [
              "06-02-2020"
             ],
             {
              "frame": {
               "duration": 0,
               "redraw": true
              },
              "fromcurrent": true,
              "mode": "immediate",
              "transition": {
               "duration": 0,
               "easing": "linear"
              }
             }
            ],
            "label": "06-02-2020",
            "method": "animate"
           },
           {
            "args": [
             [
              "06-03-2020"
             ],
             {
              "frame": {
               "duration": 0,
               "redraw": true
              },
              "fromcurrent": true,
              "mode": "immediate",
              "transition": {
               "duration": 0,
               "easing": "linear"
              }
             }
            ],
            "label": "06-03-2020",
            "method": "animate"
           },
           {
            "args": [
             [
              "06-04-2020"
             ],
             {
              "frame": {
               "duration": 0,
               "redraw": true
              },
              "fromcurrent": true,
              "mode": "immediate",
              "transition": {
               "duration": 0,
               "easing": "linear"
              }
             }
            ],
            "label": "06-04-2020",
            "method": "animate"
           },
           {
            "args": [
             [
              "06-05-2020"
             ],
             {
              "frame": {
               "duration": 0,
               "redraw": true
              },
              "fromcurrent": true,
              "mode": "immediate",
              "transition": {
               "duration": 0,
               "easing": "linear"
              }
             }
            ],
            "label": "06-05-2020",
            "method": "animate"
           },
           {
            "args": [
             [
              "06-06-2020"
             ],
             {
              "frame": {
               "duration": 0,
               "redraw": true
              },
              "fromcurrent": true,
              "mode": "immediate",
              "transition": {
               "duration": 0,
               "easing": "linear"
              }
             }
            ],
            "label": "06-06-2020",
            "method": "animate"
           },
           {
            "args": [
             [
              "06-07-2020"
             ],
             {
              "frame": {
               "duration": 0,
               "redraw": true
              },
              "fromcurrent": true,
              "mode": "immediate",
              "transition": {
               "duration": 0,
               "easing": "linear"
              }
             }
            ],
            "label": "06-07-2020",
            "method": "animate"
           },
           {
            "args": [
             [
              "06-08-2020"
             ],
             {
              "frame": {
               "duration": 0,
               "redraw": true
              },
              "fromcurrent": true,
              "mode": "immediate",
              "transition": {
               "duration": 0,
               "easing": "linear"
              }
             }
            ],
            "label": "06-08-2020",
            "method": "animate"
           },
           {
            "args": [
             [
              "06-09-2020"
             ],
             {
              "frame": {
               "duration": 0,
               "redraw": true
              },
              "fromcurrent": true,
              "mode": "immediate",
              "transition": {
               "duration": 0,
               "easing": "linear"
              }
             }
            ],
            "label": "06-09-2020",
            "method": "animate"
           },
           {
            "args": [
             [
              "06-10-2020"
             ],
             {
              "frame": {
               "duration": 0,
               "redraw": true
              },
              "fromcurrent": true,
              "mode": "immediate",
              "transition": {
               "duration": 0,
               "easing": "linear"
              }
             }
            ],
            "label": "06-10-2020",
            "method": "animate"
           },
           {
            "args": [
             [
              "06-11-2020"
             ],
             {
              "frame": {
               "duration": 0,
               "redraw": true
              },
              "fromcurrent": true,
              "mode": "immediate",
              "transition": {
               "duration": 0,
               "easing": "linear"
              }
             }
            ],
            "label": "06-11-2020",
            "method": "animate"
           },
           {
            "args": [
             [
              "06-12-2020"
             ],
             {
              "frame": {
               "duration": 0,
               "redraw": true
              },
              "fromcurrent": true,
              "mode": "immediate",
              "transition": {
               "duration": 0,
               "easing": "linear"
              }
             }
            ],
            "label": "06-12-2020",
            "method": "animate"
           },
           {
            "args": [
             [
              "06-13-2020"
             ],
             {
              "frame": {
               "duration": 0,
               "redraw": true
              },
              "fromcurrent": true,
              "mode": "immediate",
              "transition": {
               "duration": 0,
               "easing": "linear"
              }
             }
            ],
            "label": "06-13-2020",
            "method": "animate"
           },
           {
            "args": [
             [
              "06-14-2020"
             ],
             {
              "frame": {
               "duration": 0,
               "redraw": true
              },
              "fromcurrent": true,
              "mode": "immediate",
              "transition": {
               "duration": 0,
               "easing": "linear"
              }
             }
            ],
            "label": "06-14-2020",
            "method": "animate"
           },
           {
            "args": [
             [
              "06-15-2020"
             ],
             {
              "frame": {
               "duration": 0,
               "redraw": true
              },
              "fromcurrent": true,
              "mode": "immediate",
              "transition": {
               "duration": 0,
               "easing": "linear"
              }
             }
            ],
            "label": "06-15-2020",
            "method": "animate"
           },
           {
            "args": [
             [
              "06-16-2020"
             ],
             {
              "frame": {
               "duration": 0,
               "redraw": true
              },
              "fromcurrent": true,
              "mode": "immediate",
              "transition": {
               "duration": 0,
               "easing": "linear"
              }
             }
            ],
            "label": "06-16-2020",
            "method": "animate"
           },
           {
            "args": [
             [
              "06-17-2020"
             ],
             {
              "frame": {
               "duration": 0,
               "redraw": true
              },
              "fromcurrent": true,
              "mode": "immediate",
              "transition": {
               "duration": 0,
               "easing": "linear"
              }
             }
            ],
            "label": "06-17-2020",
            "method": "animate"
           },
           {
            "args": [
             [
              "06-18-2020"
             ],
             {
              "frame": {
               "duration": 0,
               "redraw": true
              },
              "fromcurrent": true,
              "mode": "immediate",
              "transition": {
               "duration": 0,
               "easing": "linear"
              }
             }
            ],
            "label": "06-18-2020",
            "method": "animate"
           },
           {
            "args": [
             [
              "06-19-2020"
             ],
             {
              "frame": {
               "duration": 0,
               "redraw": true
              },
              "fromcurrent": true,
              "mode": "immediate",
              "transition": {
               "duration": 0,
               "easing": "linear"
              }
             }
            ],
            "label": "06-19-2020",
            "method": "animate"
           },
           {
            "args": [
             [
              "06-20-2020"
             ],
             {
              "frame": {
               "duration": 0,
               "redraw": true
              },
              "fromcurrent": true,
              "mode": "immediate",
              "transition": {
               "duration": 0,
               "easing": "linear"
              }
             }
            ],
            "label": "06-20-2020",
            "method": "animate"
           },
           {
            "args": [
             [
              "06-21-2020"
             ],
             {
              "frame": {
               "duration": 0,
               "redraw": true
              },
              "fromcurrent": true,
              "mode": "immediate",
              "transition": {
               "duration": 0,
               "easing": "linear"
              }
             }
            ],
            "label": "06-21-2020",
            "method": "animate"
           },
           {
            "args": [
             [
              "06-22-2020"
             ],
             {
              "frame": {
               "duration": 0,
               "redraw": true
              },
              "fromcurrent": true,
              "mode": "immediate",
              "transition": {
               "duration": 0,
               "easing": "linear"
              }
             }
            ],
            "label": "06-22-2020",
            "method": "animate"
           },
           {
            "args": [
             [
              "06-23-2020"
             ],
             {
              "frame": {
               "duration": 0,
               "redraw": true
              },
              "fromcurrent": true,
              "mode": "immediate",
              "transition": {
               "duration": 0,
               "easing": "linear"
              }
             }
            ],
            "label": "06-23-2020",
            "method": "animate"
           }
          ],
          "x": 0.1,
          "xanchor": "left",
          "y": 0,
          "yanchor": "top"
         }
        ],
        "template": {
         "data": {
          "bar": [
           {
            "error_x": {
             "color": "#2a3f5f"
            },
            "error_y": {
             "color": "#2a3f5f"
            },
            "marker": {
             "line": {
              "color": "#E5ECF6",
              "width": 0.5
             }
            },
            "type": "bar"
           }
          ],
          "barpolar": [
           {
            "marker": {
             "line": {
              "color": "#E5ECF6",
              "width": 0.5
             }
            },
            "type": "barpolar"
           }
          ],
          "carpet": [
           {
            "aaxis": {
             "endlinecolor": "#2a3f5f",
             "gridcolor": "white",
             "linecolor": "white",
             "minorgridcolor": "white",
             "startlinecolor": "#2a3f5f"
            },
            "baxis": {
             "endlinecolor": "#2a3f5f",
             "gridcolor": "white",
             "linecolor": "white",
             "minorgridcolor": "white",
             "startlinecolor": "#2a3f5f"
            },
            "type": "carpet"
           }
          ],
          "choropleth": [
           {
            "colorbar": {
             "outlinewidth": 0,
             "ticks": ""
            },
            "type": "choropleth"
           }
          ],
          "contour": [
           {
            "colorbar": {
             "outlinewidth": 0,
             "ticks": ""
            },
            "colorscale": [
             [
              0,
              "#0d0887"
             ],
             [
              0.1111111111111111,
              "#46039f"
             ],
             [
              0.2222222222222222,
              "#7201a8"
             ],
             [
              0.3333333333333333,
              "#9c179e"
             ],
             [
              0.4444444444444444,
              "#bd3786"
             ],
             [
              0.5555555555555556,
              "#d8576b"
             ],
             [
              0.6666666666666666,
              "#ed7953"
             ],
             [
              0.7777777777777778,
              "#fb9f3a"
             ],
             [
              0.8888888888888888,
              "#fdca26"
             ],
             [
              1,
              "#f0f921"
             ]
            ],
            "type": "contour"
           }
          ],
          "contourcarpet": [
           {
            "colorbar": {
             "outlinewidth": 0,
             "ticks": ""
            },
            "type": "contourcarpet"
           }
          ],
          "heatmap": [
           {
            "colorbar": {
             "outlinewidth": 0,
             "ticks": ""
            },
            "colorscale": [
             [
              0,
              "#0d0887"
             ],
             [
              0.1111111111111111,
              "#46039f"
             ],
             [
              0.2222222222222222,
              "#7201a8"
             ],
             [
              0.3333333333333333,
              "#9c179e"
             ],
             [
              0.4444444444444444,
              "#bd3786"
             ],
             [
              0.5555555555555556,
              "#d8576b"
             ],
             [
              0.6666666666666666,
              "#ed7953"
             ],
             [
              0.7777777777777778,
              "#fb9f3a"
             ],
             [
              0.8888888888888888,
              "#fdca26"
             ],
             [
              1,
              "#f0f921"
             ]
            ],
            "type": "heatmap"
           }
          ],
          "heatmapgl": [
           {
            "colorbar": {
             "outlinewidth": 0,
             "ticks": ""
            },
            "colorscale": [
             [
              0,
              "#0d0887"
             ],
             [
              0.1111111111111111,
              "#46039f"
             ],
             [
              0.2222222222222222,
              "#7201a8"
             ],
             [
              0.3333333333333333,
              "#9c179e"
             ],
             [
              0.4444444444444444,
              "#bd3786"
             ],
             [
              0.5555555555555556,
              "#d8576b"
             ],
             [
              0.6666666666666666,
              "#ed7953"
             ],
             [
              0.7777777777777778,
              "#fb9f3a"
             ],
             [
              0.8888888888888888,
              "#fdca26"
             ],
             [
              1,
              "#f0f921"
             ]
            ],
            "type": "heatmapgl"
           }
          ],
          "histogram": [
           {
            "marker": {
             "colorbar": {
              "outlinewidth": 0,
              "ticks": ""
             }
            },
            "type": "histogram"
           }
          ],
          "histogram2d": [
           {
            "colorbar": {
             "outlinewidth": 0,
             "ticks": ""
            },
            "colorscale": [
             [
              0,
              "#0d0887"
             ],
             [
              0.1111111111111111,
              "#46039f"
             ],
             [
              0.2222222222222222,
              "#7201a8"
             ],
             [
              0.3333333333333333,
              "#9c179e"
             ],
             [
              0.4444444444444444,
              "#bd3786"
             ],
             [
              0.5555555555555556,
              "#d8576b"
             ],
             [
              0.6666666666666666,
              "#ed7953"
             ],
             [
              0.7777777777777778,
              "#fb9f3a"
             ],
             [
              0.8888888888888888,
              "#fdca26"
             ],
             [
              1,
              "#f0f921"
             ]
            ],
            "type": "histogram2d"
           }
          ],
          "histogram2dcontour": [
           {
            "colorbar": {
             "outlinewidth": 0,
             "ticks": ""
            },
            "colorscale": [
             [
              0,
              "#0d0887"
             ],
             [
              0.1111111111111111,
              "#46039f"
             ],
             [
              0.2222222222222222,
              "#7201a8"
             ],
             [
              0.3333333333333333,
              "#9c179e"
             ],
             [
              0.4444444444444444,
              "#bd3786"
             ],
             [
              0.5555555555555556,
              "#d8576b"
             ],
             [
              0.6666666666666666,
              "#ed7953"
             ],
             [
              0.7777777777777778,
              "#fb9f3a"
             ],
             [
              0.8888888888888888,
              "#fdca26"
             ],
             [
              1,
              "#f0f921"
             ]
            ],
            "type": "histogram2dcontour"
           }
          ],
          "mesh3d": [
           {
            "colorbar": {
             "outlinewidth": 0,
             "ticks": ""
            },
            "type": "mesh3d"
           }
          ],
          "parcoords": [
           {
            "line": {
             "colorbar": {
              "outlinewidth": 0,
              "ticks": ""
             }
            },
            "type": "parcoords"
           }
          ],
          "pie": [
           {
            "automargin": true,
            "type": "pie"
           }
          ],
          "scatter": [
           {
            "marker": {
             "colorbar": {
              "outlinewidth": 0,
              "ticks": ""
             }
            },
            "type": "scatter"
           }
          ],
          "scatter3d": [
           {
            "line": {
             "colorbar": {
              "outlinewidth": 0,
              "ticks": ""
             }
            },
            "marker": {
             "colorbar": {
              "outlinewidth": 0,
              "ticks": ""
             }
            },
            "type": "scatter3d"
           }
          ],
          "scattercarpet": [
           {
            "marker": {
             "colorbar": {
              "outlinewidth": 0,
              "ticks": ""
             }
            },
            "type": "scattercarpet"
           }
          ],
          "scattergeo": [
           {
            "marker": {
             "colorbar": {
              "outlinewidth": 0,
              "ticks": ""
             }
            },
            "type": "scattergeo"
           }
          ],
          "scattergl": [
           {
            "marker": {
             "colorbar": {
              "outlinewidth": 0,
              "ticks": ""
             }
            },
            "type": "scattergl"
           }
          ],
          "scattermapbox": [
           {
            "marker": {
             "colorbar": {
              "outlinewidth": 0,
              "ticks": ""
             }
            },
            "type": "scattermapbox"
           }
          ],
          "scatterpolar": [
           {
            "marker": {
             "colorbar": {
              "outlinewidth": 0,
              "ticks": ""
             }
            },
            "type": "scatterpolar"
           }
          ],
          "scatterpolargl": [
           {
            "marker": {
             "colorbar": {
              "outlinewidth": 0,
              "ticks": ""
             }
            },
            "type": "scatterpolargl"
           }
          ],
          "scatterternary": [
           {
            "marker": {
             "colorbar": {
              "outlinewidth": 0,
              "ticks": ""
             }
            },
            "type": "scatterternary"
           }
          ],
          "surface": [
           {
            "colorbar": {
             "outlinewidth": 0,
             "ticks": ""
            },
            "colorscale": [
             [
              0,
              "#0d0887"
             ],
             [
              0.1111111111111111,
              "#46039f"
             ],
             [
              0.2222222222222222,
              "#7201a8"
             ],
             [
              0.3333333333333333,
              "#9c179e"
             ],
             [
              0.4444444444444444,
              "#bd3786"
             ],
             [
              0.5555555555555556,
              "#d8576b"
             ],
             [
              0.6666666666666666,
              "#ed7953"
             ],
             [
              0.7777777777777778,
              "#fb9f3a"
             ],
             [
              0.8888888888888888,
              "#fdca26"
             ],
             [
              1,
              "#f0f921"
             ]
            ],
            "type": "surface"
           }
          ],
          "table": [
           {
            "cells": {
             "fill": {
              "color": "#EBF0F8"
             },
             "line": {
              "color": "white"
             }
            },
            "header": {
             "fill": {
              "color": "#C8D4E3"
             },
             "line": {
              "color": "white"
             }
            },
            "type": "table"
           }
          ]
         },
         "layout": {
          "annotationdefaults": {
           "arrowcolor": "#2a3f5f",
           "arrowhead": 0,
           "arrowwidth": 1
          },
          "coloraxis": {
           "colorbar": {
            "outlinewidth": 0,
            "ticks": ""
           }
          },
          "colorscale": {
           "diverging": [
            [
             0,
             "#8e0152"
            ],
            [
             0.1,
             "#c51b7d"
            ],
            [
             0.2,
             "#de77ae"
            ],
            [
             0.3,
             "#f1b6da"
            ],
            [
             0.4,
             "#fde0ef"
            ],
            [
             0.5,
             "#f7f7f7"
            ],
            [
             0.6,
             "#e6f5d0"
            ],
            [
             0.7,
             "#b8e186"
            ],
            [
             0.8,
             "#7fbc41"
            ],
            [
             0.9,
             "#4d9221"
            ],
            [
             1,
             "#276419"
            ]
           ],
           "sequential": [
            [
             0,
             "#0d0887"
            ],
            [
             0.1111111111111111,
             "#46039f"
            ],
            [
             0.2222222222222222,
             "#7201a8"
            ],
            [
             0.3333333333333333,
             "#9c179e"
            ],
            [
             0.4444444444444444,
             "#bd3786"
            ],
            [
             0.5555555555555556,
             "#d8576b"
            ],
            [
             0.6666666666666666,
             "#ed7953"
            ],
            [
             0.7777777777777778,
             "#fb9f3a"
            ],
            [
             0.8888888888888888,
             "#fdca26"
            ],
            [
             1,
             "#f0f921"
            ]
           ],
           "sequentialminus": [
            [
             0,
             "#0d0887"
            ],
            [
             0.1111111111111111,
             "#46039f"
            ],
            [
             0.2222222222222222,
             "#7201a8"
            ],
            [
             0.3333333333333333,
             "#9c179e"
            ],
            [
             0.4444444444444444,
             "#bd3786"
            ],
            [
             0.5555555555555556,
             "#d8576b"
            ],
            [
             0.6666666666666666,
             "#ed7953"
            ],
            [
             0.7777777777777778,
             "#fb9f3a"
            ],
            [
             0.8888888888888888,
             "#fdca26"
            ],
            [
             1,
             "#f0f921"
            ]
           ]
          },
          "colorway": [
           "#636efa",
           "#EF553B",
           "#00cc96",
           "#ab63fa",
           "#FFA15A",
           "#19d3f3",
           "#FF6692",
           "#B6E880",
           "#FF97FF",
           "#FECB52"
          ],
          "font": {
           "color": "#2a3f5f"
          },
          "geo": {
           "bgcolor": "white",
           "lakecolor": "white",
           "landcolor": "#E5ECF6",
           "showlakes": true,
           "showland": true,
           "subunitcolor": "white"
          },
          "hoverlabel": {
           "align": "left"
          },
          "hovermode": "closest",
          "mapbox": {
           "style": "light"
          },
          "paper_bgcolor": "white",
          "plot_bgcolor": "#E5ECF6",
          "polar": {
           "angularaxis": {
            "gridcolor": "white",
            "linecolor": "white",
            "ticks": ""
           },
           "bgcolor": "#E5ECF6",
           "radialaxis": {
            "gridcolor": "white",
            "linecolor": "white",
            "ticks": ""
           }
          },
          "scene": {
           "xaxis": {
            "backgroundcolor": "#E5ECF6",
            "gridcolor": "white",
            "gridwidth": 2,
            "linecolor": "white",
            "showbackground": true,
            "ticks": "",
            "zerolinecolor": "white"
           },
           "yaxis": {
            "backgroundcolor": "#E5ECF6",
            "gridcolor": "white",
            "gridwidth": 2,
            "linecolor": "white",
            "showbackground": true,
            "ticks": "",
            "zerolinecolor": "white"
           },
           "zaxis": {
            "backgroundcolor": "#E5ECF6",
            "gridcolor": "white",
            "gridwidth": 2,
            "linecolor": "white",
            "showbackground": true,
            "ticks": "",
            "zerolinecolor": "white"
           }
          },
          "shapedefaults": {
           "line": {
            "color": "#2a3f5f"
           }
          },
          "ternary": {
           "aaxis": {
            "gridcolor": "white",
            "linecolor": "white",
            "ticks": ""
           },
           "baxis": {
            "gridcolor": "white",
            "linecolor": "white",
            "ticks": ""
           },
           "bgcolor": "#E5ECF6",
           "caxis": {
            "gridcolor": "white",
            "linecolor": "white",
            "ticks": ""
           }
          },
          "title": {
           "x": 0.05
          },
          "xaxis": {
           "automargin": true,
           "gridcolor": "white",
           "linecolor": "white",
           "ticks": "",
           "title": {
            "standoff": 15
           },
           "zerolinecolor": "white",
           "zerolinewidth": 2
          },
          "yaxis": {
           "automargin": true,
           "gridcolor": "white",
           "linecolor": "white",
           "ticks": "",
           "title": {
            "standoff": 15
           },
           "zerolinecolor": "white",
           "zerolinewidth": 2
          }
         }
        },
        "title": {
         "text": "US Spread of Coronavirus",
         "x": 0.5
        },
        "updatemenus": [
         {
          "buttons": [
           {
            "args": [
             null,
             {
              "frame": {
               "duration": 500,
               "redraw": true
              },
              "fromcurrent": true,
              "mode": "immediate",
              "transition": {
               "duration": 500,
               "easing": "linear"
              }
             }
            ],
            "label": "&#9654;",
            "method": "animate"
           },
           {
            "args": [
             [
              null
             ],
             {
              "frame": {
               "duration": 0,
               "redraw": true
              },
              "fromcurrent": true,
              "mode": "immediate",
              "transition": {
               "duration": 0,
               "easing": "linear"
              }
             }
            ],
            "label": "&#9724;",
            "method": "animate"
           }
          ],
          "direction": "left",
          "pad": {
           "r": 10,
           "t": 70
          },
          "showactive": false,
          "type": "buttons",
          "x": 0.1,
          "xanchor": "right",
          "y": 0,
          "yanchor": "top"
         }
        ]
       }
      },
      "text/html": [
       "<div>\n",
       "        \n",
       "        \n",
       "            <div id=\"284033a7-2c4b-4d4e-acdc-dab6f6a8fabb\" class=\"plotly-graph-div\" style=\"height:525px; width:100%;\"></div>\n",
       "            <script type=\"text/javascript\">\n",
       "                require([\"plotly\"], function(Plotly) {\n",
       "                    window.PLOTLYENV=window.PLOTLYENV || {};\n",
       "                    \n",
       "                if (document.getElementById(\"284033a7-2c4b-4d4e-acdc-dab6f6a8fabb\")) {\n",
       "                    Plotly.newPlot(\n",
       "                        '284033a7-2c4b-4d4e-acdc-dab6f6a8fabb',\n",
       "                        [{\"coloraxis\": \"coloraxis\", \"geo\": \"geo\", \"hovertemplate\": \"Date=01-22-2020<br>Code=%{location}<br>Confirmed=%{z}<extra></extra>\", \"locationmode\": \"USA-states\", \"locations\": [\"WA\"], \"name\": \"\", \"type\": \"choropleth\", \"z\": [1.0]}],\n",
       "                        {\"coloraxis\": {\"colorbar\": {\"title\": {\"text\": \"Confirmed\"}}, \"colorscale\": [[0.0, \"rgb(253, 224, 197)\"], [0.16666666666666666, \"rgb(250, 203, 166)\"], [0.3333333333333333, \"rgb(248, 181, 139)\"], [0.5, \"rgb(245, 158, 114)\"], [0.6666666666666666, \"rgb(242, 133, 93)\"], [0.8333333333333334, \"rgb(239, 106, 76)\"], [1.0, \"rgb(235, 74, 64)\"]]}, \"geo\": {\"center\": {}, \"domain\": {\"x\": [0.0, 1.0], \"y\": [0.0, 1.0]}, \"scope\": \"usa\", \"showcoastlines\": false, \"showframe\": false}, \"legend\": {\"tracegroupgap\": 0}, \"margin\": {\"t\": 60}, \"sliders\": [{\"active\": 0, \"currentvalue\": {\"prefix\": \"Date=\"}, \"len\": 0.9, \"pad\": {\"b\": 10, \"t\": 60}, \"steps\": [{\"args\": [[\"01-22-2020\"], {\"frame\": {\"duration\": 0, \"redraw\": true}, \"fromcurrent\": true, \"mode\": \"immediate\", \"transition\": {\"duration\": 0, \"easing\": \"linear\"}}], \"label\": \"01-22-2020\", \"method\": \"animate\"}, {\"args\": [[\"01-23-2020\"], {\"frame\": {\"duration\": 0, \"redraw\": true}, \"fromcurrent\": true, \"mode\": \"immediate\", \"transition\": {\"duration\": 0, \"easing\": \"linear\"}}], \"label\": \"01-23-2020\", \"method\": \"animate\"}, {\"args\": [[\"01-24-2020\"], {\"frame\": {\"duration\": 0, \"redraw\": true}, \"fromcurrent\": true, \"mode\": \"immediate\", \"transition\": {\"duration\": 0, \"easing\": \"linear\"}}], \"label\": \"01-24-2020\", \"method\": \"animate\"}, {\"args\": [[\"01-25-2020\"], {\"frame\": {\"duration\": 0, \"redraw\": true}, \"fromcurrent\": true, \"mode\": \"immediate\", \"transition\": {\"duration\": 0, \"easing\": \"linear\"}}], \"label\": \"01-25-2020\", \"method\": \"animate\"}, {\"args\": [[\"01-26-2020\"], {\"frame\": {\"duration\": 0, \"redraw\": true}, \"fromcurrent\": true, \"mode\": \"immediate\", \"transition\": {\"duration\": 0, \"easing\": \"linear\"}}], \"label\": \"01-26-2020\", \"method\": \"animate\"}, {\"args\": [[\"01-27-2020\"], {\"frame\": {\"duration\": 0, \"redraw\": true}, \"fromcurrent\": true, \"mode\": \"immediate\", \"transition\": {\"duration\": 0, \"easing\": \"linear\"}}], \"label\": \"01-27-2020\", \"method\": \"animate\"}, {\"args\": [[\"01-28-2020\"], {\"frame\": {\"duration\": 0, \"redraw\": true}, \"fromcurrent\": true, \"mode\": \"immediate\", \"transition\": {\"duration\": 0, \"easing\": \"linear\"}}], \"label\": \"01-28-2020\", \"method\": \"animate\"}, {\"args\": [[\"01-29-2020\"], {\"frame\": {\"duration\": 0, \"redraw\": true}, \"fromcurrent\": true, \"mode\": \"immediate\", \"transition\": {\"duration\": 0, \"easing\": \"linear\"}}], \"label\": \"01-29-2020\", \"method\": \"animate\"}, {\"args\": [[\"01-30-2020\"], {\"frame\": {\"duration\": 0, \"redraw\": true}, \"fromcurrent\": true, \"mode\": \"immediate\", \"transition\": {\"duration\": 0, \"easing\": \"linear\"}}], \"label\": \"01-30-2020\", \"method\": \"animate\"}, {\"args\": [[\"01-31-2020\"], {\"frame\": {\"duration\": 0, \"redraw\": true}, \"fromcurrent\": true, \"mode\": \"immediate\", \"transition\": {\"duration\": 0, \"easing\": \"linear\"}}], \"label\": \"01-31-2020\", \"method\": \"animate\"}, {\"args\": [[\"02-01-2020\"], {\"frame\": {\"duration\": 0, \"redraw\": true}, \"fromcurrent\": true, \"mode\": \"immediate\", \"transition\": {\"duration\": 0, \"easing\": \"linear\"}}], \"label\": \"02-01-2020\", \"method\": \"animate\"}, {\"args\": [[\"02-02-2020\"], {\"frame\": {\"duration\": 0, \"redraw\": true}, \"fromcurrent\": true, \"mode\": \"immediate\", \"transition\": {\"duration\": 0, \"easing\": \"linear\"}}], \"label\": \"02-02-2020\", \"method\": \"animate\"}, {\"args\": [[\"02-03-2020\"], {\"frame\": {\"duration\": 0, \"redraw\": true}, \"fromcurrent\": true, \"mode\": \"immediate\", \"transition\": {\"duration\": 0, \"easing\": \"linear\"}}], \"label\": \"02-03-2020\", \"method\": \"animate\"}, {\"args\": [[\"02-04-2020\"], {\"frame\": {\"duration\": 0, \"redraw\": true}, \"fromcurrent\": true, \"mode\": \"immediate\", \"transition\": {\"duration\": 0, \"easing\": \"linear\"}}], \"label\": \"02-04-2020\", \"method\": \"animate\"}, {\"args\": [[\"02-05-2020\"], {\"frame\": {\"duration\": 0, \"redraw\": true}, \"fromcurrent\": true, \"mode\": \"immediate\", \"transition\": {\"duration\": 0, \"easing\": \"linear\"}}], \"label\": \"02-05-2020\", \"method\": \"animate\"}, {\"args\": [[\"02-06-2020\"], {\"frame\": {\"duration\": 0, \"redraw\": true}, \"fromcurrent\": true, \"mode\": \"immediate\", \"transition\": {\"duration\": 0, \"easing\": \"linear\"}}], \"label\": \"02-06-2020\", \"method\": \"animate\"}, {\"args\": [[\"02-07-2020\"], {\"frame\": {\"duration\": 0, \"redraw\": true}, \"fromcurrent\": true, \"mode\": \"immediate\", \"transition\": {\"duration\": 0, \"easing\": \"linear\"}}], \"label\": \"02-07-2020\", \"method\": \"animate\"}, {\"args\": [[\"02-08-2020\"], {\"frame\": {\"duration\": 0, \"redraw\": true}, \"fromcurrent\": true, \"mode\": \"immediate\", \"transition\": {\"duration\": 0, \"easing\": \"linear\"}}], \"label\": \"02-08-2020\", \"method\": \"animate\"}, {\"args\": [[\"02-09-2020\"], {\"frame\": {\"duration\": 0, \"redraw\": true}, \"fromcurrent\": true, \"mode\": \"immediate\", \"transition\": {\"duration\": 0, \"easing\": \"linear\"}}], \"label\": \"02-09-2020\", \"method\": \"animate\"}, {\"args\": [[\"02-10-2020\"], {\"frame\": {\"duration\": 0, \"redraw\": true}, \"fromcurrent\": true, \"mode\": \"immediate\", \"transition\": {\"duration\": 0, \"easing\": \"linear\"}}], \"label\": \"02-10-2020\", \"method\": \"animate\"}, {\"args\": [[\"02-11-2020\"], {\"frame\": {\"duration\": 0, \"redraw\": true}, \"fromcurrent\": true, \"mode\": \"immediate\", \"transition\": {\"duration\": 0, \"easing\": \"linear\"}}], \"label\": \"02-11-2020\", \"method\": \"animate\"}, {\"args\": [[\"02-12-2020\"], {\"frame\": {\"duration\": 0, \"redraw\": true}, \"fromcurrent\": true, \"mode\": \"immediate\", \"transition\": {\"duration\": 0, \"easing\": \"linear\"}}], \"label\": \"02-12-2020\", \"method\": \"animate\"}, {\"args\": [[\"02-13-2020\"], {\"frame\": {\"duration\": 0, \"redraw\": true}, \"fromcurrent\": true, \"mode\": \"immediate\", \"transition\": {\"duration\": 0, \"easing\": \"linear\"}}], \"label\": \"02-13-2020\", \"method\": \"animate\"}, {\"args\": [[\"02-14-2020\"], {\"frame\": {\"duration\": 0, \"redraw\": true}, \"fromcurrent\": true, \"mode\": \"immediate\", \"transition\": {\"duration\": 0, \"easing\": \"linear\"}}], \"label\": \"02-14-2020\", \"method\": \"animate\"}, {\"args\": [[\"02-15-2020\"], {\"frame\": {\"duration\": 0, \"redraw\": true}, \"fromcurrent\": true, \"mode\": \"immediate\", \"transition\": {\"duration\": 0, \"easing\": \"linear\"}}], \"label\": \"02-15-2020\", \"method\": \"animate\"}, {\"args\": [[\"02-16-2020\"], {\"frame\": {\"duration\": 0, \"redraw\": true}, \"fromcurrent\": true, \"mode\": \"immediate\", \"transition\": {\"duration\": 0, \"easing\": \"linear\"}}], \"label\": \"02-16-2020\", \"method\": \"animate\"}, {\"args\": [[\"02-17-2020\"], {\"frame\": {\"duration\": 0, \"redraw\": true}, \"fromcurrent\": true, \"mode\": \"immediate\", \"transition\": {\"duration\": 0, \"easing\": \"linear\"}}], \"label\": \"02-17-2020\", \"method\": \"animate\"}, {\"args\": [[\"02-18-2020\"], {\"frame\": {\"duration\": 0, \"redraw\": true}, \"fromcurrent\": true, \"mode\": \"immediate\", \"transition\": {\"duration\": 0, \"easing\": \"linear\"}}], \"label\": \"02-18-2020\", \"method\": \"animate\"}, {\"args\": [[\"02-19-2020\"], {\"frame\": {\"duration\": 0, \"redraw\": true}, \"fromcurrent\": true, \"mode\": \"immediate\", \"transition\": {\"duration\": 0, \"easing\": \"linear\"}}], \"label\": \"02-19-2020\", \"method\": \"animate\"}, {\"args\": [[\"02-20-2020\"], {\"frame\": {\"duration\": 0, \"redraw\": true}, \"fromcurrent\": true, \"mode\": \"immediate\", \"transition\": {\"duration\": 0, \"easing\": \"linear\"}}], \"label\": \"02-20-2020\", \"method\": \"animate\"}, {\"args\": [[\"02-21-2020\"], {\"frame\": {\"duration\": 0, \"redraw\": true}, \"fromcurrent\": true, \"mode\": \"immediate\", \"transition\": {\"duration\": 0, \"easing\": \"linear\"}}], \"label\": \"02-21-2020\", \"method\": \"animate\"}, {\"args\": [[\"02-22-2020\"], {\"frame\": {\"duration\": 0, \"redraw\": true}, \"fromcurrent\": true, \"mode\": \"immediate\", \"transition\": {\"duration\": 0, \"easing\": \"linear\"}}], \"label\": \"02-22-2020\", \"method\": \"animate\"}, {\"args\": [[\"02-23-2020\"], {\"frame\": {\"duration\": 0, \"redraw\": true}, \"fromcurrent\": true, \"mode\": \"immediate\", \"transition\": {\"duration\": 0, \"easing\": \"linear\"}}], \"label\": \"02-23-2020\", \"method\": \"animate\"}, {\"args\": [[\"02-24-2020\"], {\"frame\": {\"duration\": 0, \"redraw\": true}, \"fromcurrent\": true, \"mode\": \"immediate\", \"transition\": {\"duration\": 0, \"easing\": \"linear\"}}], \"label\": \"02-24-2020\", \"method\": \"animate\"}, {\"args\": [[\"02-25-2020\"], {\"frame\": {\"duration\": 0, \"redraw\": true}, \"fromcurrent\": true, \"mode\": \"immediate\", \"transition\": {\"duration\": 0, \"easing\": \"linear\"}}], \"label\": \"02-25-2020\", \"method\": \"animate\"}, {\"args\": [[\"02-26-2020\"], {\"frame\": {\"duration\": 0, \"redraw\": true}, \"fromcurrent\": true, \"mode\": \"immediate\", \"transition\": {\"duration\": 0, \"easing\": \"linear\"}}], \"label\": \"02-26-2020\", \"method\": \"animate\"}, {\"args\": [[\"02-27-2020\"], {\"frame\": {\"duration\": 0, \"redraw\": true}, \"fromcurrent\": true, \"mode\": \"immediate\", \"transition\": {\"duration\": 0, \"easing\": \"linear\"}}], \"label\": \"02-27-2020\", \"method\": \"animate\"}, {\"args\": [[\"02-28-2020\"], {\"frame\": {\"duration\": 0, \"redraw\": true}, \"fromcurrent\": true, \"mode\": \"immediate\", \"transition\": {\"duration\": 0, \"easing\": \"linear\"}}], \"label\": \"02-28-2020\", \"method\": \"animate\"}, {\"args\": [[\"02-29-2020\"], {\"frame\": {\"duration\": 0, \"redraw\": true}, \"fromcurrent\": true, \"mode\": \"immediate\", \"transition\": {\"duration\": 0, \"easing\": \"linear\"}}], \"label\": \"02-29-2020\", \"method\": \"animate\"}, {\"args\": [[\"03-01-2020\"], {\"frame\": {\"duration\": 0, \"redraw\": true}, \"fromcurrent\": true, \"mode\": \"immediate\", \"transition\": {\"duration\": 0, \"easing\": \"linear\"}}], \"label\": \"03-01-2020\", \"method\": \"animate\"}, {\"args\": [[\"03-02-2020\"], {\"frame\": {\"duration\": 0, \"redraw\": true}, \"fromcurrent\": true, \"mode\": \"immediate\", \"transition\": {\"duration\": 0, \"easing\": \"linear\"}}], \"label\": \"03-02-2020\", \"method\": \"animate\"}, {\"args\": [[\"03-03-2020\"], {\"frame\": {\"duration\": 0, \"redraw\": true}, \"fromcurrent\": true, \"mode\": \"immediate\", \"transition\": {\"duration\": 0, \"easing\": \"linear\"}}], \"label\": \"03-03-2020\", \"method\": \"animate\"}, {\"args\": [[\"03-04-2020\"], {\"frame\": {\"duration\": 0, \"redraw\": true}, \"fromcurrent\": true, \"mode\": \"immediate\", \"transition\": {\"duration\": 0, \"easing\": \"linear\"}}], \"label\": \"03-04-2020\", \"method\": \"animate\"}, {\"args\": [[\"03-05-2020\"], {\"frame\": {\"duration\": 0, \"redraw\": true}, \"fromcurrent\": true, \"mode\": \"immediate\", \"transition\": {\"duration\": 0, \"easing\": \"linear\"}}], \"label\": \"03-05-2020\", \"method\": \"animate\"}, {\"args\": [[\"03-06-2020\"], {\"frame\": {\"duration\": 0, \"redraw\": true}, \"fromcurrent\": true, \"mode\": \"immediate\", \"transition\": {\"duration\": 0, \"easing\": \"linear\"}}], \"label\": \"03-06-2020\", \"method\": \"animate\"}, {\"args\": [[\"03-07-2020\"], {\"frame\": {\"duration\": 0, \"redraw\": true}, \"fromcurrent\": true, \"mode\": \"immediate\", \"transition\": {\"duration\": 0, \"easing\": \"linear\"}}], \"label\": \"03-07-2020\", \"method\": \"animate\"}, {\"args\": [[\"03-08-2020\"], {\"frame\": {\"duration\": 0, \"redraw\": true}, \"fromcurrent\": true, \"mode\": \"immediate\", \"transition\": {\"duration\": 0, \"easing\": \"linear\"}}], \"label\": \"03-08-2020\", \"method\": \"animate\"}, {\"args\": [[\"03-09-2020\"], {\"frame\": {\"duration\": 0, \"redraw\": true}, \"fromcurrent\": true, \"mode\": \"immediate\", \"transition\": {\"duration\": 0, \"easing\": \"linear\"}}], \"label\": \"03-09-2020\", \"method\": \"animate\"}, {\"args\": [[\"03-10-2020\"], {\"frame\": {\"duration\": 0, \"redraw\": true}, \"fromcurrent\": true, \"mode\": \"immediate\", \"transition\": {\"duration\": 0, \"easing\": \"linear\"}}], \"label\": \"03-10-2020\", \"method\": \"animate\"}, {\"args\": [[\"03-11-2020\"], {\"frame\": {\"duration\": 0, \"redraw\": true}, \"fromcurrent\": true, \"mode\": \"immediate\", \"transition\": {\"duration\": 0, \"easing\": \"linear\"}}], \"label\": \"03-11-2020\", \"method\": \"animate\"}, {\"args\": [[\"03-12-2020\"], {\"frame\": {\"duration\": 0, \"redraw\": true}, \"fromcurrent\": true, \"mode\": \"immediate\", \"transition\": {\"duration\": 0, \"easing\": \"linear\"}}], \"label\": \"03-12-2020\", \"method\": \"animate\"}, {\"args\": [[\"03-13-2020\"], {\"frame\": {\"duration\": 0, \"redraw\": true}, \"fromcurrent\": true, \"mode\": \"immediate\", \"transition\": {\"duration\": 0, \"easing\": \"linear\"}}], \"label\": \"03-13-2020\", \"method\": \"animate\"}, {\"args\": [[\"03-14-2020\"], {\"frame\": {\"duration\": 0, \"redraw\": true}, \"fromcurrent\": true, \"mode\": \"immediate\", \"transition\": {\"duration\": 0, \"easing\": \"linear\"}}], \"label\": \"03-14-2020\", \"method\": \"animate\"}, {\"args\": [[\"03-15-2020\"], {\"frame\": {\"duration\": 0, \"redraw\": true}, \"fromcurrent\": true, \"mode\": \"immediate\", \"transition\": {\"duration\": 0, \"easing\": \"linear\"}}], \"label\": \"03-15-2020\", \"method\": \"animate\"}, {\"args\": [[\"03-16-2020\"], {\"frame\": {\"duration\": 0, \"redraw\": true}, \"fromcurrent\": true, \"mode\": \"immediate\", \"transition\": {\"duration\": 0, \"easing\": \"linear\"}}], \"label\": \"03-16-2020\", \"method\": \"animate\"}, {\"args\": [[\"03-17-2020\"], {\"frame\": {\"duration\": 0, \"redraw\": true}, \"fromcurrent\": true, \"mode\": \"immediate\", \"transition\": {\"duration\": 0, \"easing\": \"linear\"}}], \"label\": \"03-17-2020\", \"method\": \"animate\"}, {\"args\": [[\"03-18-2020\"], {\"frame\": {\"duration\": 0, \"redraw\": true}, \"fromcurrent\": true, \"mode\": \"immediate\", \"transition\": {\"duration\": 0, \"easing\": \"linear\"}}], \"label\": \"03-18-2020\", \"method\": \"animate\"}, {\"args\": [[\"03-19-2020\"], {\"frame\": {\"duration\": 0, \"redraw\": true}, \"fromcurrent\": true, \"mode\": \"immediate\", \"transition\": {\"duration\": 0, \"easing\": \"linear\"}}], \"label\": \"03-19-2020\", \"method\": \"animate\"}, {\"args\": [[\"03-20-2020\"], {\"frame\": {\"duration\": 0, \"redraw\": true}, \"fromcurrent\": true, \"mode\": \"immediate\", \"transition\": {\"duration\": 0, \"easing\": \"linear\"}}], \"label\": \"03-20-2020\", \"method\": \"animate\"}, {\"args\": [[\"03-21-2020\"], {\"frame\": {\"duration\": 0, \"redraw\": true}, \"fromcurrent\": true, \"mode\": \"immediate\", \"transition\": {\"duration\": 0, \"easing\": \"linear\"}}], \"label\": \"03-21-2020\", \"method\": \"animate\"}, {\"args\": [[\"03-22-2020\"], {\"frame\": {\"duration\": 0, \"redraw\": true}, \"fromcurrent\": true, \"mode\": \"immediate\", \"transition\": {\"duration\": 0, \"easing\": \"linear\"}}], \"label\": \"03-22-2020\", \"method\": \"animate\"}, {\"args\": [[\"03-23-2020\"], {\"frame\": {\"duration\": 0, \"redraw\": true}, \"fromcurrent\": true, \"mode\": \"immediate\", \"transition\": {\"duration\": 0, \"easing\": \"linear\"}}], \"label\": \"03-23-2020\", \"method\": \"animate\"}, {\"args\": [[\"03-24-2020\"], {\"frame\": {\"duration\": 0, \"redraw\": true}, \"fromcurrent\": true, \"mode\": \"immediate\", \"transition\": {\"duration\": 0, \"easing\": \"linear\"}}], \"label\": \"03-24-2020\", \"method\": \"animate\"}, {\"args\": [[\"03-25-2020\"], {\"frame\": {\"duration\": 0, \"redraw\": true}, \"fromcurrent\": true, \"mode\": \"immediate\", \"transition\": {\"duration\": 0, \"easing\": \"linear\"}}], \"label\": \"03-25-2020\", \"method\": \"animate\"}, {\"args\": [[\"03-26-2020\"], {\"frame\": {\"duration\": 0, \"redraw\": true}, \"fromcurrent\": true, \"mode\": \"immediate\", \"transition\": {\"duration\": 0, \"easing\": \"linear\"}}], \"label\": \"03-26-2020\", \"method\": \"animate\"}, {\"args\": [[\"03-27-2020\"], {\"frame\": {\"duration\": 0, \"redraw\": true}, \"fromcurrent\": true, \"mode\": \"immediate\", \"transition\": {\"duration\": 0, \"easing\": \"linear\"}}], \"label\": \"03-27-2020\", \"method\": \"animate\"}, {\"args\": [[\"03-28-2020\"], {\"frame\": {\"duration\": 0, \"redraw\": true}, \"fromcurrent\": true, \"mode\": \"immediate\", \"transition\": {\"duration\": 0, \"easing\": \"linear\"}}], \"label\": \"03-28-2020\", \"method\": \"animate\"}, {\"args\": [[\"03-29-2020\"], {\"frame\": {\"duration\": 0, \"redraw\": true}, \"fromcurrent\": true, \"mode\": \"immediate\", \"transition\": {\"duration\": 0, \"easing\": \"linear\"}}], \"label\": \"03-29-2020\", \"method\": \"animate\"}, {\"args\": [[\"03-30-2020\"], {\"frame\": {\"duration\": 0, \"redraw\": true}, \"fromcurrent\": true, \"mode\": \"immediate\", \"transition\": {\"duration\": 0, \"easing\": \"linear\"}}], \"label\": \"03-30-2020\", \"method\": \"animate\"}, {\"args\": [[\"03-31-2020\"], {\"frame\": {\"duration\": 0, \"redraw\": true}, \"fromcurrent\": true, \"mode\": \"immediate\", \"transition\": {\"duration\": 0, \"easing\": \"linear\"}}], \"label\": \"03-31-2020\", \"method\": \"animate\"}, {\"args\": [[\"04-01-2020\"], {\"frame\": {\"duration\": 0, \"redraw\": true}, \"fromcurrent\": true, \"mode\": \"immediate\", \"transition\": {\"duration\": 0, \"easing\": \"linear\"}}], \"label\": \"04-01-2020\", \"method\": \"animate\"}, {\"args\": [[\"04-02-2020\"], {\"frame\": {\"duration\": 0, \"redraw\": true}, \"fromcurrent\": true, \"mode\": \"immediate\", \"transition\": {\"duration\": 0, \"easing\": \"linear\"}}], \"label\": \"04-02-2020\", \"method\": \"animate\"}, {\"args\": [[\"04-03-2020\"], {\"frame\": {\"duration\": 0, \"redraw\": true}, \"fromcurrent\": true, \"mode\": \"immediate\", \"transition\": {\"duration\": 0, \"easing\": \"linear\"}}], \"label\": \"04-03-2020\", \"method\": \"animate\"}, {\"args\": [[\"04-04-2020\"], {\"frame\": {\"duration\": 0, \"redraw\": true}, \"fromcurrent\": true, \"mode\": \"immediate\", \"transition\": {\"duration\": 0, \"easing\": \"linear\"}}], \"label\": \"04-04-2020\", \"method\": \"animate\"}, {\"args\": [[\"04-05-2020\"], {\"frame\": {\"duration\": 0, \"redraw\": true}, \"fromcurrent\": true, \"mode\": \"immediate\", \"transition\": {\"duration\": 0, \"easing\": \"linear\"}}], \"label\": \"04-05-2020\", \"method\": \"animate\"}, {\"args\": [[\"04-06-2020\"], {\"frame\": {\"duration\": 0, \"redraw\": true}, \"fromcurrent\": true, \"mode\": \"immediate\", \"transition\": {\"duration\": 0, \"easing\": \"linear\"}}], \"label\": \"04-06-2020\", \"method\": \"animate\"}, {\"args\": [[\"04-07-2020\"], {\"frame\": {\"duration\": 0, \"redraw\": true}, \"fromcurrent\": true, \"mode\": \"immediate\", \"transition\": {\"duration\": 0, \"easing\": \"linear\"}}], \"label\": \"04-07-2020\", \"method\": \"animate\"}, {\"args\": [[\"04-08-2020\"], {\"frame\": {\"duration\": 0, \"redraw\": true}, \"fromcurrent\": true, \"mode\": \"immediate\", \"transition\": {\"duration\": 0, \"easing\": \"linear\"}}], \"label\": \"04-08-2020\", \"method\": \"animate\"}, {\"args\": [[\"04-09-2020\"], {\"frame\": {\"duration\": 0, \"redraw\": true}, \"fromcurrent\": true, \"mode\": \"immediate\", \"transition\": {\"duration\": 0, \"easing\": \"linear\"}}], \"label\": \"04-09-2020\", \"method\": \"animate\"}, {\"args\": [[\"04-10-2020\"], {\"frame\": {\"duration\": 0, \"redraw\": true}, \"fromcurrent\": true, \"mode\": \"immediate\", \"transition\": {\"duration\": 0, \"easing\": \"linear\"}}], \"label\": \"04-10-2020\", \"method\": \"animate\"}, {\"args\": [[\"04-11-2020\"], {\"frame\": {\"duration\": 0, \"redraw\": true}, \"fromcurrent\": true, \"mode\": \"immediate\", \"transition\": {\"duration\": 0, \"easing\": \"linear\"}}], \"label\": \"04-11-2020\", \"method\": \"animate\"}, {\"args\": [[\"04-12-2020\"], {\"frame\": {\"duration\": 0, \"redraw\": true}, \"fromcurrent\": true, \"mode\": \"immediate\", \"transition\": {\"duration\": 0, \"easing\": \"linear\"}}], \"label\": \"04-12-2020\", \"method\": \"animate\"}, {\"args\": [[\"04-13-2020\"], {\"frame\": {\"duration\": 0, \"redraw\": true}, \"fromcurrent\": true, \"mode\": \"immediate\", \"transition\": {\"duration\": 0, \"easing\": \"linear\"}}], \"label\": \"04-13-2020\", \"method\": \"animate\"}, {\"args\": [[\"04-14-2020\"], {\"frame\": {\"duration\": 0, \"redraw\": true}, \"fromcurrent\": true, \"mode\": \"immediate\", \"transition\": {\"duration\": 0, \"easing\": \"linear\"}}], \"label\": \"04-14-2020\", \"method\": \"animate\"}, {\"args\": [[\"04-15-2020\"], {\"frame\": {\"duration\": 0, \"redraw\": true}, \"fromcurrent\": true, \"mode\": \"immediate\", \"transition\": {\"duration\": 0, \"easing\": \"linear\"}}], \"label\": \"04-15-2020\", \"method\": \"animate\"}, {\"args\": [[\"04-16-2020\"], {\"frame\": {\"duration\": 0, \"redraw\": true}, \"fromcurrent\": true, \"mode\": \"immediate\", \"transition\": {\"duration\": 0, \"easing\": \"linear\"}}], \"label\": \"04-16-2020\", \"method\": \"animate\"}, {\"args\": [[\"04-17-2020\"], {\"frame\": {\"duration\": 0, \"redraw\": true}, \"fromcurrent\": true, \"mode\": \"immediate\", \"transition\": {\"duration\": 0, \"easing\": \"linear\"}}], \"label\": \"04-17-2020\", \"method\": \"animate\"}, {\"args\": [[\"04-18-2020\"], {\"frame\": {\"duration\": 0, \"redraw\": true}, \"fromcurrent\": true, \"mode\": \"immediate\", \"transition\": {\"duration\": 0, \"easing\": \"linear\"}}], \"label\": \"04-18-2020\", \"method\": \"animate\"}, {\"args\": [[\"04-19-2020\"], {\"frame\": {\"duration\": 0, \"redraw\": true}, \"fromcurrent\": true, \"mode\": \"immediate\", \"transition\": {\"duration\": 0, \"easing\": \"linear\"}}], \"label\": \"04-19-2020\", \"method\": \"animate\"}, {\"args\": [[\"04-20-2020\"], {\"frame\": {\"duration\": 0, \"redraw\": true}, \"fromcurrent\": true, \"mode\": \"immediate\", \"transition\": {\"duration\": 0, \"easing\": \"linear\"}}], \"label\": \"04-20-2020\", \"method\": \"animate\"}, {\"args\": [[\"04-21-2020\"], {\"frame\": {\"duration\": 0, \"redraw\": true}, \"fromcurrent\": true, \"mode\": \"immediate\", \"transition\": {\"duration\": 0, \"easing\": \"linear\"}}], \"label\": \"04-21-2020\", \"method\": \"animate\"}, {\"args\": [[\"04-22-2020\"], {\"frame\": {\"duration\": 0, \"redraw\": true}, \"fromcurrent\": true, \"mode\": \"immediate\", \"transition\": {\"duration\": 0, \"easing\": \"linear\"}}], \"label\": \"04-22-2020\", \"method\": \"animate\"}, {\"args\": [[\"04-23-2020\"], {\"frame\": {\"duration\": 0, \"redraw\": true}, \"fromcurrent\": true, \"mode\": \"immediate\", \"transition\": {\"duration\": 0, \"easing\": \"linear\"}}], \"label\": \"04-23-2020\", \"method\": \"animate\"}, {\"args\": [[\"04-24-2020\"], {\"frame\": {\"duration\": 0, \"redraw\": true}, \"fromcurrent\": true, \"mode\": \"immediate\", \"transition\": {\"duration\": 0, \"easing\": \"linear\"}}], \"label\": \"04-24-2020\", \"method\": \"animate\"}, {\"args\": [[\"04-25-2020\"], {\"frame\": {\"duration\": 0, \"redraw\": true}, \"fromcurrent\": true, \"mode\": \"immediate\", \"transition\": {\"duration\": 0, \"easing\": \"linear\"}}], \"label\": \"04-25-2020\", \"method\": \"animate\"}, {\"args\": [[\"04-26-2020\"], {\"frame\": {\"duration\": 0, \"redraw\": true}, \"fromcurrent\": true, \"mode\": \"immediate\", \"transition\": {\"duration\": 0, \"easing\": \"linear\"}}], \"label\": \"04-26-2020\", \"method\": \"animate\"}, {\"args\": [[\"04-27-2020\"], {\"frame\": {\"duration\": 0, \"redraw\": true}, \"fromcurrent\": true, \"mode\": \"immediate\", \"transition\": {\"duration\": 0, \"easing\": \"linear\"}}], \"label\": \"04-27-2020\", \"method\": \"animate\"}, {\"args\": [[\"04-28-2020\"], {\"frame\": {\"duration\": 0, \"redraw\": true}, \"fromcurrent\": true, \"mode\": \"immediate\", \"transition\": {\"duration\": 0, \"easing\": \"linear\"}}], \"label\": \"04-28-2020\", \"method\": \"animate\"}, {\"args\": [[\"04-29-2020\"], {\"frame\": {\"duration\": 0, \"redraw\": true}, \"fromcurrent\": true, \"mode\": \"immediate\", \"transition\": {\"duration\": 0, \"easing\": \"linear\"}}], \"label\": \"04-29-2020\", \"method\": \"animate\"}, {\"args\": [[\"04-30-2020\"], {\"frame\": {\"duration\": 0, \"redraw\": true}, \"fromcurrent\": true, \"mode\": \"immediate\", \"transition\": {\"duration\": 0, \"easing\": \"linear\"}}], \"label\": \"04-30-2020\", \"method\": \"animate\"}, {\"args\": [[\"05-01-2020\"], {\"frame\": {\"duration\": 0, \"redraw\": true}, \"fromcurrent\": true, \"mode\": \"immediate\", \"transition\": {\"duration\": 0, \"easing\": \"linear\"}}], \"label\": \"05-01-2020\", \"method\": \"animate\"}, {\"args\": [[\"05-02-2020\"], {\"frame\": {\"duration\": 0, \"redraw\": true}, \"fromcurrent\": true, \"mode\": \"immediate\", \"transition\": {\"duration\": 0, \"easing\": \"linear\"}}], \"label\": \"05-02-2020\", \"method\": \"animate\"}, {\"args\": [[\"05-03-2020\"], {\"frame\": {\"duration\": 0, \"redraw\": true}, \"fromcurrent\": true, \"mode\": \"immediate\", \"transition\": {\"duration\": 0, \"easing\": \"linear\"}}], \"label\": \"05-03-2020\", \"method\": \"animate\"}, {\"args\": [[\"05-04-2020\"], {\"frame\": {\"duration\": 0, \"redraw\": true}, \"fromcurrent\": true, \"mode\": \"immediate\", \"transition\": {\"duration\": 0, \"easing\": \"linear\"}}], \"label\": \"05-04-2020\", \"method\": \"animate\"}, {\"args\": [[\"05-05-2020\"], {\"frame\": {\"duration\": 0, \"redraw\": true}, \"fromcurrent\": true, \"mode\": \"immediate\", \"transition\": {\"duration\": 0, \"easing\": \"linear\"}}], \"label\": \"05-05-2020\", \"method\": \"animate\"}, {\"args\": [[\"05-06-2020\"], {\"frame\": {\"duration\": 0, \"redraw\": true}, \"fromcurrent\": true, \"mode\": \"immediate\", \"transition\": {\"duration\": 0, \"easing\": \"linear\"}}], \"label\": \"05-06-2020\", \"method\": \"animate\"}, {\"args\": [[\"05-07-2020\"], {\"frame\": {\"duration\": 0, \"redraw\": true}, \"fromcurrent\": true, \"mode\": \"immediate\", \"transition\": {\"duration\": 0, \"easing\": \"linear\"}}], \"label\": \"05-07-2020\", \"method\": \"animate\"}, {\"args\": [[\"05-08-2020\"], {\"frame\": {\"duration\": 0, \"redraw\": true}, \"fromcurrent\": true, \"mode\": \"immediate\", \"transition\": {\"duration\": 0, \"easing\": \"linear\"}}], \"label\": \"05-08-2020\", \"method\": \"animate\"}, {\"args\": [[\"05-09-2020\"], {\"frame\": {\"duration\": 0, \"redraw\": true}, \"fromcurrent\": true, \"mode\": \"immediate\", \"transition\": {\"duration\": 0, \"easing\": \"linear\"}}], \"label\": \"05-09-2020\", \"method\": \"animate\"}, {\"args\": [[\"05-10-2020\"], {\"frame\": {\"duration\": 0, \"redraw\": true}, \"fromcurrent\": true, \"mode\": \"immediate\", \"transition\": {\"duration\": 0, \"easing\": \"linear\"}}], \"label\": \"05-10-2020\", \"method\": \"animate\"}, {\"args\": [[\"05-11-2020\"], {\"frame\": {\"duration\": 0, \"redraw\": true}, \"fromcurrent\": true, \"mode\": \"immediate\", \"transition\": {\"duration\": 0, \"easing\": \"linear\"}}], \"label\": \"05-11-2020\", \"method\": \"animate\"}, {\"args\": [[\"05-12-2020\"], {\"frame\": {\"duration\": 0, \"redraw\": true}, \"fromcurrent\": true, \"mode\": \"immediate\", \"transition\": {\"duration\": 0, \"easing\": \"linear\"}}], \"label\": \"05-12-2020\", \"method\": \"animate\"}, {\"args\": [[\"05-13-2020\"], {\"frame\": {\"duration\": 0, \"redraw\": true}, \"fromcurrent\": true, \"mode\": \"immediate\", \"transition\": {\"duration\": 0, \"easing\": \"linear\"}}], \"label\": \"05-13-2020\", \"method\": \"animate\"}, {\"args\": [[\"05-14-2020\"], {\"frame\": {\"duration\": 0, \"redraw\": true}, \"fromcurrent\": true, \"mode\": \"immediate\", \"transition\": {\"duration\": 0, \"easing\": \"linear\"}}], \"label\": \"05-14-2020\", \"method\": \"animate\"}, {\"args\": [[\"05-15-2020\"], {\"frame\": {\"duration\": 0, \"redraw\": true}, \"fromcurrent\": true, \"mode\": \"immediate\", \"transition\": {\"duration\": 0, \"easing\": \"linear\"}}], \"label\": \"05-15-2020\", \"method\": \"animate\"}, {\"args\": [[\"05-16-2020\"], {\"frame\": {\"duration\": 0, \"redraw\": true}, \"fromcurrent\": true, \"mode\": \"immediate\", \"transition\": {\"duration\": 0, \"easing\": \"linear\"}}], \"label\": \"05-16-2020\", \"method\": \"animate\"}, {\"args\": [[\"05-17-2020\"], {\"frame\": {\"duration\": 0, \"redraw\": true}, \"fromcurrent\": true, \"mode\": \"immediate\", \"transition\": {\"duration\": 0, \"easing\": \"linear\"}}], \"label\": \"05-17-2020\", \"method\": \"animate\"}, {\"args\": [[\"05-18-2020\"], {\"frame\": {\"duration\": 0, \"redraw\": true}, \"fromcurrent\": true, \"mode\": \"immediate\", \"transition\": {\"duration\": 0, \"easing\": \"linear\"}}], \"label\": \"05-18-2020\", \"method\": \"animate\"}, {\"args\": [[\"05-19-2020\"], {\"frame\": {\"duration\": 0, \"redraw\": true}, \"fromcurrent\": true, \"mode\": \"immediate\", \"transition\": {\"duration\": 0, \"easing\": \"linear\"}}], \"label\": \"05-19-2020\", \"method\": \"animate\"}, {\"args\": [[\"05-20-2020\"], {\"frame\": {\"duration\": 0, \"redraw\": true}, \"fromcurrent\": true, \"mode\": \"immediate\", \"transition\": {\"duration\": 0, \"easing\": \"linear\"}}], \"label\": \"05-20-2020\", \"method\": \"animate\"}, {\"args\": [[\"05-21-2020\"], {\"frame\": {\"duration\": 0, \"redraw\": true}, \"fromcurrent\": true, \"mode\": \"immediate\", \"transition\": {\"duration\": 0, \"easing\": \"linear\"}}], \"label\": \"05-21-2020\", \"method\": \"animate\"}, {\"args\": [[\"05-22-2020\"], {\"frame\": {\"duration\": 0, \"redraw\": true}, \"fromcurrent\": true, \"mode\": \"immediate\", \"transition\": {\"duration\": 0, \"easing\": \"linear\"}}], \"label\": \"05-22-2020\", \"method\": \"animate\"}, {\"args\": [[\"05-23-2020\"], {\"frame\": {\"duration\": 0, \"redraw\": true}, \"fromcurrent\": true, \"mode\": \"immediate\", \"transition\": {\"duration\": 0, \"easing\": \"linear\"}}], \"label\": \"05-23-2020\", \"method\": \"animate\"}, {\"args\": [[\"05-24-2020\"], {\"frame\": {\"duration\": 0, \"redraw\": true}, \"fromcurrent\": true, \"mode\": \"immediate\", \"transition\": {\"duration\": 0, \"easing\": \"linear\"}}], \"label\": \"05-24-2020\", \"method\": \"animate\"}, {\"args\": [[\"05-25-2020\"], {\"frame\": {\"duration\": 0, \"redraw\": true}, \"fromcurrent\": true, \"mode\": \"immediate\", \"transition\": {\"duration\": 0, \"easing\": \"linear\"}}], \"label\": \"05-25-2020\", \"method\": \"animate\"}, {\"args\": [[\"05-26-2020\"], {\"frame\": {\"duration\": 0, \"redraw\": true}, \"fromcurrent\": true, \"mode\": \"immediate\", \"transition\": {\"duration\": 0, \"easing\": \"linear\"}}], \"label\": \"05-26-2020\", \"method\": \"animate\"}, {\"args\": [[\"05-27-2020\"], {\"frame\": {\"duration\": 0, \"redraw\": true}, \"fromcurrent\": true, \"mode\": \"immediate\", \"transition\": {\"duration\": 0, \"easing\": \"linear\"}}], \"label\": \"05-27-2020\", \"method\": \"animate\"}, {\"args\": [[\"05-28-2020\"], {\"frame\": {\"duration\": 0, \"redraw\": true}, \"fromcurrent\": true, \"mode\": \"immediate\", \"transition\": {\"duration\": 0, \"easing\": \"linear\"}}], \"label\": \"05-28-2020\", \"method\": \"animate\"}, {\"args\": [[\"05-29-2020\"], {\"frame\": {\"duration\": 0, \"redraw\": true}, \"fromcurrent\": true, \"mode\": \"immediate\", \"transition\": {\"duration\": 0, \"easing\": \"linear\"}}], \"label\": \"05-29-2020\", \"method\": \"animate\"}, {\"args\": [[\"05-30-2020\"], {\"frame\": {\"duration\": 0, \"redraw\": true}, \"fromcurrent\": true, \"mode\": \"immediate\", \"transition\": {\"duration\": 0, \"easing\": \"linear\"}}], \"label\": \"05-30-2020\", \"method\": \"animate\"}, {\"args\": [[\"05-31-2020\"], {\"frame\": {\"duration\": 0, \"redraw\": true}, \"fromcurrent\": true, \"mode\": \"immediate\", \"transition\": {\"duration\": 0, \"easing\": \"linear\"}}], \"label\": \"05-31-2020\", \"method\": \"animate\"}, {\"args\": [[\"06-01-2020\"], {\"frame\": {\"duration\": 0, \"redraw\": true}, \"fromcurrent\": true, \"mode\": \"immediate\", \"transition\": {\"duration\": 0, \"easing\": \"linear\"}}], \"label\": \"06-01-2020\", \"method\": \"animate\"}, {\"args\": [[\"06-02-2020\"], {\"frame\": {\"duration\": 0, \"redraw\": true}, \"fromcurrent\": true, \"mode\": \"immediate\", \"transition\": {\"duration\": 0, \"easing\": \"linear\"}}], \"label\": \"06-02-2020\", \"method\": \"animate\"}, {\"args\": [[\"06-03-2020\"], {\"frame\": {\"duration\": 0, \"redraw\": true}, \"fromcurrent\": true, \"mode\": \"immediate\", \"transition\": {\"duration\": 0, \"easing\": \"linear\"}}], \"label\": \"06-03-2020\", \"method\": \"animate\"}, {\"args\": [[\"06-04-2020\"], {\"frame\": {\"duration\": 0, \"redraw\": true}, \"fromcurrent\": true, \"mode\": \"immediate\", \"transition\": {\"duration\": 0, \"easing\": \"linear\"}}], \"label\": \"06-04-2020\", \"method\": \"animate\"}, {\"args\": [[\"06-05-2020\"], {\"frame\": {\"duration\": 0, \"redraw\": true}, \"fromcurrent\": true, \"mode\": \"immediate\", \"transition\": {\"duration\": 0, \"easing\": \"linear\"}}], \"label\": \"06-05-2020\", \"method\": \"animate\"}, {\"args\": [[\"06-06-2020\"], {\"frame\": {\"duration\": 0, \"redraw\": true}, \"fromcurrent\": true, \"mode\": \"immediate\", \"transition\": {\"duration\": 0, \"easing\": \"linear\"}}], \"label\": \"06-06-2020\", \"method\": \"animate\"}, {\"args\": [[\"06-07-2020\"], {\"frame\": {\"duration\": 0, \"redraw\": true}, \"fromcurrent\": true, \"mode\": \"immediate\", \"transition\": {\"duration\": 0, \"easing\": \"linear\"}}], \"label\": \"06-07-2020\", \"method\": \"animate\"}, {\"args\": [[\"06-08-2020\"], {\"frame\": {\"duration\": 0, \"redraw\": true}, \"fromcurrent\": true, \"mode\": \"immediate\", \"transition\": {\"duration\": 0, \"easing\": \"linear\"}}], \"label\": \"06-08-2020\", \"method\": \"animate\"}, {\"args\": [[\"06-09-2020\"], {\"frame\": {\"duration\": 0, \"redraw\": true}, \"fromcurrent\": true, \"mode\": \"immediate\", \"transition\": {\"duration\": 0, \"easing\": \"linear\"}}], \"label\": \"06-09-2020\", \"method\": \"animate\"}, {\"args\": [[\"06-10-2020\"], {\"frame\": {\"duration\": 0, \"redraw\": true}, \"fromcurrent\": true, \"mode\": \"immediate\", \"transition\": {\"duration\": 0, \"easing\": \"linear\"}}], \"label\": \"06-10-2020\", \"method\": \"animate\"}, {\"args\": [[\"06-11-2020\"], {\"frame\": {\"duration\": 0, \"redraw\": true}, \"fromcurrent\": true, \"mode\": \"immediate\", \"transition\": {\"duration\": 0, \"easing\": \"linear\"}}], \"label\": \"06-11-2020\", \"method\": \"animate\"}, {\"args\": [[\"06-12-2020\"], {\"frame\": {\"duration\": 0, \"redraw\": true}, \"fromcurrent\": true, \"mode\": \"immediate\", \"transition\": {\"duration\": 0, \"easing\": \"linear\"}}], \"label\": \"06-12-2020\", \"method\": \"animate\"}, {\"args\": [[\"06-13-2020\"], {\"frame\": {\"duration\": 0, \"redraw\": true}, \"fromcurrent\": true, \"mode\": \"immediate\", \"transition\": {\"duration\": 0, \"easing\": \"linear\"}}], \"label\": \"06-13-2020\", \"method\": \"animate\"}, {\"args\": [[\"06-14-2020\"], {\"frame\": {\"duration\": 0, \"redraw\": true}, \"fromcurrent\": true, \"mode\": \"immediate\", \"transition\": {\"duration\": 0, \"easing\": \"linear\"}}], \"label\": \"06-14-2020\", \"method\": \"animate\"}, {\"args\": [[\"06-15-2020\"], {\"frame\": {\"duration\": 0, \"redraw\": true}, \"fromcurrent\": true, \"mode\": \"immediate\", \"transition\": {\"duration\": 0, \"easing\": \"linear\"}}], \"label\": \"06-15-2020\", \"method\": \"animate\"}, {\"args\": [[\"06-16-2020\"], {\"frame\": {\"duration\": 0, \"redraw\": true}, \"fromcurrent\": true, \"mode\": \"immediate\", \"transition\": {\"duration\": 0, \"easing\": \"linear\"}}], \"label\": \"06-16-2020\", \"method\": \"animate\"}, {\"args\": [[\"06-17-2020\"], {\"frame\": {\"duration\": 0, \"redraw\": true}, \"fromcurrent\": true, \"mode\": \"immediate\", \"transition\": {\"duration\": 0, \"easing\": \"linear\"}}], \"label\": \"06-17-2020\", \"method\": \"animate\"}, {\"args\": [[\"06-18-2020\"], {\"frame\": {\"duration\": 0, \"redraw\": true}, \"fromcurrent\": true, \"mode\": \"immediate\", \"transition\": {\"duration\": 0, \"easing\": \"linear\"}}], \"label\": \"06-18-2020\", \"method\": \"animate\"}, {\"args\": [[\"06-19-2020\"], {\"frame\": {\"duration\": 0, \"redraw\": true}, \"fromcurrent\": true, \"mode\": \"immediate\", \"transition\": {\"duration\": 0, \"easing\": \"linear\"}}], \"label\": \"06-19-2020\", \"method\": \"animate\"}, {\"args\": [[\"06-20-2020\"], {\"frame\": {\"duration\": 0, \"redraw\": true}, \"fromcurrent\": true, \"mode\": \"immediate\", \"transition\": {\"duration\": 0, \"easing\": \"linear\"}}], \"label\": \"06-20-2020\", \"method\": \"animate\"}, {\"args\": [[\"06-21-2020\"], {\"frame\": {\"duration\": 0, \"redraw\": true}, \"fromcurrent\": true, \"mode\": \"immediate\", \"transition\": {\"duration\": 0, \"easing\": \"linear\"}}], \"label\": \"06-21-2020\", \"method\": \"animate\"}, {\"args\": [[\"06-22-2020\"], {\"frame\": {\"duration\": 0, \"redraw\": true}, \"fromcurrent\": true, \"mode\": \"immediate\", \"transition\": {\"duration\": 0, \"easing\": \"linear\"}}], \"label\": \"06-22-2020\", \"method\": \"animate\"}, {\"args\": [[\"06-23-2020\"], {\"frame\": {\"duration\": 0, \"redraw\": true}, \"fromcurrent\": true, \"mode\": \"immediate\", \"transition\": {\"duration\": 0, \"easing\": \"linear\"}}], \"label\": \"06-23-2020\", \"method\": \"animate\"}], \"x\": 0.1, \"xanchor\": \"left\", \"y\": 0, \"yanchor\": \"top\"}], \"template\": {\"data\": {\"bar\": [{\"error_x\": {\"color\": \"#2a3f5f\"}, \"error_y\": {\"color\": \"#2a3f5f\"}, \"marker\": {\"line\": {\"color\": \"#E5ECF6\", \"width\": 0.5}}, \"type\": \"bar\"}], \"barpolar\": [{\"marker\": {\"line\": {\"color\": \"#E5ECF6\", \"width\": 0.5}}, \"type\": \"barpolar\"}], \"carpet\": [{\"aaxis\": {\"endlinecolor\": \"#2a3f5f\", \"gridcolor\": \"white\", \"linecolor\": \"white\", \"minorgridcolor\": \"white\", \"startlinecolor\": \"#2a3f5f\"}, \"baxis\": {\"endlinecolor\": \"#2a3f5f\", \"gridcolor\": \"white\", \"linecolor\": \"white\", \"minorgridcolor\": \"white\", \"startlinecolor\": \"#2a3f5f\"}, \"type\": \"carpet\"}], \"choropleth\": [{\"colorbar\": {\"outlinewidth\": 0, \"ticks\": \"\"}, \"type\": \"choropleth\"}], \"contour\": [{\"colorbar\": {\"outlinewidth\": 0, \"ticks\": \"\"}, \"colorscale\": [[0.0, \"#0d0887\"], [0.1111111111111111, \"#46039f\"], [0.2222222222222222, \"#7201a8\"], [0.3333333333333333, \"#9c179e\"], [0.4444444444444444, \"#bd3786\"], [0.5555555555555556, \"#d8576b\"], [0.6666666666666666, \"#ed7953\"], [0.7777777777777778, \"#fb9f3a\"], [0.8888888888888888, \"#fdca26\"], [1.0, \"#f0f921\"]], \"type\": \"contour\"}], \"contourcarpet\": [{\"colorbar\": {\"outlinewidth\": 0, \"ticks\": \"\"}, \"type\": \"contourcarpet\"}], \"heatmap\": [{\"colorbar\": {\"outlinewidth\": 0, \"ticks\": \"\"}, \"colorscale\": [[0.0, \"#0d0887\"], [0.1111111111111111, \"#46039f\"], [0.2222222222222222, \"#7201a8\"], [0.3333333333333333, \"#9c179e\"], [0.4444444444444444, \"#bd3786\"], [0.5555555555555556, \"#d8576b\"], [0.6666666666666666, \"#ed7953\"], [0.7777777777777778, \"#fb9f3a\"], [0.8888888888888888, \"#fdca26\"], [1.0, \"#f0f921\"]], \"type\": \"heatmap\"}], \"heatmapgl\": [{\"colorbar\": {\"outlinewidth\": 0, \"ticks\": \"\"}, \"colorscale\": [[0.0, \"#0d0887\"], [0.1111111111111111, \"#46039f\"], [0.2222222222222222, \"#7201a8\"], [0.3333333333333333, \"#9c179e\"], [0.4444444444444444, \"#bd3786\"], [0.5555555555555556, \"#d8576b\"], [0.6666666666666666, \"#ed7953\"], [0.7777777777777778, \"#fb9f3a\"], [0.8888888888888888, \"#fdca26\"], [1.0, \"#f0f921\"]], \"type\": \"heatmapgl\"}], \"histogram\": [{\"marker\": {\"colorbar\": {\"outlinewidth\": 0, \"ticks\": \"\"}}, \"type\": \"histogram\"}], \"histogram2d\": [{\"colorbar\": {\"outlinewidth\": 0, \"ticks\": \"\"}, \"colorscale\": [[0.0, \"#0d0887\"], [0.1111111111111111, \"#46039f\"], [0.2222222222222222, \"#7201a8\"], [0.3333333333333333, \"#9c179e\"], [0.4444444444444444, \"#bd3786\"], [0.5555555555555556, \"#d8576b\"], [0.6666666666666666, \"#ed7953\"], [0.7777777777777778, \"#fb9f3a\"], [0.8888888888888888, \"#fdca26\"], [1.0, \"#f0f921\"]], \"type\": \"histogram2d\"}], \"histogram2dcontour\": [{\"colorbar\": {\"outlinewidth\": 0, \"ticks\": \"\"}, \"colorscale\": [[0.0, \"#0d0887\"], [0.1111111111111111, \"#46039f\"], [0.2222222222222222, \"#7201a8\"], [0.3333333333333333, \"#9c179e\"], [0.4444444444444444, \"#bd3786\"], [0.5555555555555556, \"#d8576b\"], [0.6666666666666666, \"#ed7953\"], [0.7777777777777778, \"#fb9f3a\"], [0.8888888888888888, \"#fdca26\"], [1.0, \"#f0f921\"]], \"type\": \"histogram2dcontour\"}], \"mesh3d\": [{\"colorbar\": {\"outlinewidth\": 0, \"ticks\": \"\"}, \"type\": \"mesh3d\"}], \"parcoords\": [{\"line\": {\"colorbar\": {\"outlinewidth\": 0, \"ticks\": \"\"}}, \"type\": \"parcoords\"}], \"pie\": [{\"automargin\": true, \"type\": \"pie\"}], \"scatter\": [{\"marker\": {\"colorbar\": {\"outlinewidth\": 0, \"ticks\": \"\"}}, \"type\": \"scatter\"}], \"scatter3d\": [{\"line\": {\"colorbar\": {\"outlinewidth\": 0, \"ticks\": \"\"}}, \"marker\": {\"colorbar\": {\"outlinewidth\": 0, \"ticks\": \"\"}}, \"type\": \"scatter3d\"}], \"scattercarpet\": [{\"marker\": {\"colorbar\": {\"outlinewidth\": 0, \"ticks\": \"\"}}, \"type\": \"scattercarpet\"}], \"scattergeo\": [{\"marker\": {\"colorbar\": {\"outlinewidth\": 0, \"ticks\": \"\"}}, \"type\": \"scattergeo\"}], \"scattergl\": [{\"marker\": {\"colorbar\": {\"outlinewidth\": 0, \"ticks\": \"\"}}, \"type\": \"scattergl\"}], \"scattermapbox\": [{\"marker\": {\"colorbar\": {\"outlinewidth\": 0, \"ticks\": \"\"}}, \"type\": \"scattermapbox\"}], \"scatterpolar\": [{\"marker\": {\"colorbar\": {\"outlinewidth\": 0, \"ticks\": \"\"}}, \"type\": \"scatterpolar\"}], \"scatterpolargl\": [{\"marker\": {\"colorbar\": {\"outlinewidth\": 0, \"ticks\": \"\"}}, \"type\": \"scatterpolargl\"}], \"scatterternary\": [{\"marker\": {\"colorbar\": {\"outlinewidth\": 0, \"ticks\": \"\"}}, \"type\": \"scatterternary\"}], \"surface\": [{\"colorbar\": {\"outlinewidth\": 0, \"ticks\": \"\"}, \"colorscale\": [[0.0, \"#0d0887\"], [0.1111111111111111, \"#46039f\"], [0.2222222222222222, \"#7201a8\"], [0.3333333333333333, \"#9c179e\"], [0.4444444444444444, \"#bd3786\"], [0.5555555555555556, \"#d8576b\"], [0.6666666666666666, \"#ed7953\"], [0.7777777777777778, \"#fb9f3a\"], [0.8888888888888888, \"#fdca26\"], [1.0, \"#f0f921\"]], \"type\": \"surface\"}], \"table\": [{\"cells\": {\"fill\": {\"color\": \"#EBF0F8\"}, \"line\": {\"color\": \"white\"}}, \"header\": {\"fill\": {\"color\": \"#C8D4E3\"}, \"line\": {\"color\": \"white\"}}, \"type\": \"table\"}]}, \"layout\": {\"annotationdefaults\": {\"arrowcolor\": \"#2a3f5f\", \"arrowhead\": 0, \"arrowwidth\": 1}, \"coloraxis\": {\"colorbar\": {\"outlinewidth\": 0, \"ticks\": \"\"}}, \"colorscale\": {\"diverging\": [[0, \"#8e0152\"], [0.1, \"#c51b7d\"], [0.2, \"#de77ae\"], [0.3, \"#f1b6da\"], [0.4, \"#fde0ef\"], [0.5, \"#f7f7f7\"], [0.6, \"#e6f5d0\"], [0.7, \"#b8e186\"], [0.8, \"#7fbc41\"], [0.9, \"#4d9221\"], [1, \"#276419\"]], \"sequential\": [[0.0, \"#0d0887\"], [0.1111111111111111, \"#46039f\"], [0.2222222222222222, \"#7201a8\"], [0.3333333333333333, \"#9c179e\"], [0.4444444444444444, \"#bd3786\"], [0.5555555555555556, \"#d8576b\"], [0.6666666666666666, \"#ed7953\"], [0.7777777777777778, \"#fb9f3a\"], [0.8888888888888888, \"#fdca26\"], [1.0, \"#f0f921\"]], \"sequentialminus\": [[0.0, \"#0d0887\"], [0.1111111111111111, \"#46039f\"], [0.2222222222222222, \"#7201a8\"], [0.3333333333333333, \"#9c179e\"], [0.4444444444444444, \"#bd3786\"], [0.5555555555555556, \"#d8576b\"], [0.6666666666666666, \"#ed7953\"], [0.7777777777777778, \"#fb9f3a\"], [0.8888888888888888, \"#fdca26\"], [1.0, \"#f0f921\"]]}, \"colorway\": [\"#636efa\", \"#EF553B\", \"#00cc96\", \"#ab63fa\", \"#FFA15A\", \"#19d3f3\", \"#FF6692\", \"#B6E880\", \"#FF97FF\", \"#FECB52\"], \"font\": {\"color\": \"#2a3f5f\"}, \"geo\": {\"bgcolor\": \"white\", \"lakecolor\": \"white\", \"landcolor\": \"#E5ECF6\", \"showlakes\": true, \"showland\": true, \"subunitcolor\": \"white\"}, \"hoverlabel\": {\"align\": \"left\"}, \"hovermode\": \"closest\", \"mapbox\": {\"style\": \"light\"}, \"paper_bgcolor\": \"white\", \"plot_bgcolor\": \"#E5ECF6\", \"polar\": {\"angularaxis\": {\"gridcolor\": \"white\", \"linecolor\": \"white\", \"ticks\": \"\"}, \"bgcolor\": \"#E5ECF6\", \"radialaxis\": {\"gridcolor\": \"white\", \"linecolor\": \"white\", \"ticks\": \"\"}}, \"scene\": {\"xaxis\": {\"backgroundcolor\": \"#E5ECF6\", \"gridcolor\": \"white\", \"gridwidth\": 2, \"linecolor\": \"white\", \"showbackground\": true, \"ticks\": \"\", \"zerolinecolor\": \"white\"}, \"yaxis\": {\"backgroundcolor\": \"#E5ECF6\", \"gridcolor\": \"white\", \"gridwidth\": 2, \"linecolor\": \"white\", \"showbackground\": true, \"ticks\": \"\", \"zerolinecolor\": \"white\"}, \"zaxis\": {\"backgroundcolor\": \"#E5ECF6\", \"gridcolor\": \"white\", \"gridwidth\": 2, \"linecolor\": \"white\", \"showbackground\": true, \"ticks\": \"\", \"zerolinecolor\": \"white\"}}, \"shapedefaults\": {\"line\": {\"color\": \"#2a3f5f\"}}, \"ternary\": {\"aaxis\": {\"gridcolor\": \"white\", \"linecolor\": \"white\", \"ticks\": \"\"}, \"baxis\": {\"gridcolor\": \"white\", \"linecolor\": \"white\", \"ticks\": \"\"}, \"bgcolor\": \"#E5ECF6\", \"caxis\": {\"gridcolor\": \"white\", \"linecolor\": \"white\", \"ticks\": \"\"}}, \"title\": {\"x\": 0.05}, \"xaxis\": {\"automargin\": true, \"gridcolor\": \"white\", \"linecolor\": \"white\", \"ticks\": \"\", \"title\": {\"standoff\": 15}, \"zerolinecolor\": \"white\", \"zerolinewidth\": 2}, \"yaxis\": {\"automargin\": true, \"gridcolor\": \"white\", \"linecolor\": \"white\", \"ticks\": \"\", \"title\": {\"standoff\": 15}, \"zerolinecolor\": \"white\", \"zerolinewidth\": 2}}}, \"title\": {\"text\": \"US Spread of Coronavirus\", \"x\": 0.5}, \"updatemenus\": [{\"buttons\": [{\"args\": [null, {\"frame\": {\"duration\": 500, \"redraw\": true}, \"fromcurrent\": true, \"mode\": \"immediate\", \"transition\": {\"duration\": 500, \"easing\": \"linear\"}}], \"label\": \"&#9654;\", \"method\": \"animate\"}, {\"args\": [[null], {\"frame\": {\"duration\": 0, \"redraw\": true}, \"fromcurrent\": true, \"mode\": \"immediate\", \"transition\": {\"duration\": 0, \"easing\": \"linear\"}}], \"label\": \"&#9724;\", \"method\": \"animate\"}], \"direction\": \"left\", \"pad\": {\"r\": 10, \"t\": 70}, \"showactive\": false, \"type\": \"buttons\", \"x\": 0.1, \"xanchor\": \"right\", \"y\": 0, \"yanchor\": \"top\"}]},\n",
       "                        {\"responsive\": true}\n",
       "                    ).then(function(){\n",
       "                            Plotly.addFrames('284033a7-2c4b-4d4e-acdc-dab6f6a8fabb', [{\"data\": [{\"coloraxis\": \"coloraxis\", \"geo\": \"geo\", \"hovertemplate\": \"Date=01-22-2020<br>Code=%{location}<br>Confirmed=%{z}<extra></extra>\", \"locationmode\": \"USA-states\", \"locations\": [\"WA\"], \"name\": \"\", \"z\": [1.0], \"type\": \"choropleth\"}], \"name\": \"01-22-2020\"}, {\"data\": [{\"coloraxis\": \"coloraxis\", \"geo\": \"geo\", \"hovertemplate\": \"Date=01-23-2020<br>Code=%{location}<br>Confirmed=%{z}<extra></extra>\", \"locationmode\": \"USA-states\", \"locations\": [\"WA\"], \"name\": \"\", \"z\": [1.0], \"type\": \"choropleth\"}], \"name\": \"01-23-2020\"}, {\"data\": [{\"coloraxis\": \"coloraxis\", \"geo\": \"geo\", \"hovertemplate\": \"Date=01-24-2020<br>Code=%{location}<br>Confirmed=%{z}<extra></extra>\", \"locationmode\": \"USA-states\", \"locations\": [\"WA\", \"Chicago\"], \"name\": \"\", \"z\": [1.0, 1.0], \"type\": \"choropleth\"}], \"name\": \"01-24-2020\"}, {\"data\": [{\"coloraxis\": \"coloraxis\", \"geo\": \"geo\", \"hovertemplate\": \"Date=01-25-2020<br>Code=%{location}<br>Confirmed=%{z}<extra></extra>\", \"locationmode\": \"USA-states\", \"locations\": [\"WA\", \"IL\"], \"name\": \"\", \"z\": [1.0, 1.0], \"type\": \"choropleth\"}], \"name\": \"01-25-2020\"}, {\"data\": [{\"coloraxis\": \"coloraxis\", \"geo\": \"geo\", \"hovertemplate\": \"Date=01-26-2020<br>Code=%{location}<br>Confirmed=%{z}<extra></extra>\", \"locationmode\": \"USA-states\", \"locations\": [\"CA\", \"WA\", \"IL\", \"AZ\"], \"name\": \"\", \"z\": [2.0, 1.0, 1.0, 1.0], \"type\": \"choropleth\"}], \"name\": \"01-26-2020\"}, {\"data\": [{\"coloraxis\": \"coloraxis\", \"geo\": \"geo\", \"hovertemplate\": \"Date=01-27-2020<br>Code=%{location}<br>Confirmed=%{z}<extra></extra>\", \"locationmode\": \"USA-states\", \"locations\": [\"WA\", \"IL\", \"CA\", \"AZ\"], \"name\": \"\", \"z\": [1.0, 1.0, 2.0, 1.0], \"type\": \"choropleth\"}], \"name\": \"01-27-2020\"}, {\"data\": [{\"coloraxis\": \"coloraxis\", \"geo\": \"geo\", \"hovertemplate\": \"Date=01-28-2020<br>Code=%{location}<br>Confirmed=%{z}<extra></extra>\", \"locationmode\": \"USA-states\", \"locations\": [\"WA\", \"AZ\", \"IL\", \"CA\"], \"name\": \"\", \"z\": [1.0, 1.0, 1.0, 2.0], \"type\": \"choropleth\"}], \"name\": \"01-28-2020\"}, {\"data\": [{\"coloraxis\": \"coloraxis\", \"geo\": \"geo\", \"hovertemplate\": \"Date=01-29-2020<br>Code=%{location}<br>Confirmed=%{z}<extra></extra>\", \"locationmode\": \"USA-states\", \"locations\": [\"AZ\", \"CA\", \"IL\", \"WA\"], \"name\": \"\", \"z\": [1.0, 2.0, 1.0, 1.0], \"type\": \"choropleth\"}], \"name\": \"01-29-2020\"}, {\"data\": [{\"coloraxis\": \"coloraxis\", \"geo\": \"geo\", \"hovertemplate\": \"Date=01-30-2020<br>Code=%{location}<br>Confirmed=%{z}<extra></extra>\", \"locationmode\": \"USA-states\", \"locations\": [\"CA\", \"IL\", \"WA\", \"AZ\"], \"name\": \"\", \"z\": [2.0, 1.0, 1.0, 1.0], \"type\": \"choropleth\"}], \"name\": \"01-30-2020\"}, {\"data\": [{\"coloraxis\": \"coloraxis\", \"geo\": \"geo\", \"hovertemplate\": \"Date=01-31-2020<br>Code=%{location}<br>Confirmed=%{z}<extra></extra>\", \"locationmode\": \"USA-states\", \"locations\": [\"AZ\", \"CA\", \"WA\", \"IL\"], \"name\": \"\", \"z\": [1.0, 2.0, 1.0, 2.0], \"type\": \"choropleth\"}], \"name\": \"01-31-2020\"}, {\"data\": [{\"coloraxis\": \"coloraxis\", \"geo\": \"geo\", \"hovertemplate\": \"Date=02-01-2020<br>Code=%{location}<br>Confirmed=%{z}<extra></extra>\", \"locationmode\": \"USA-states\", \"locations\": [\"AZ\", \"CA\", \"MA\", \"IL\", \"WA\"], \"name\": \"\", \"z\": [1.0, 3.0, 1.0, 2.0, 1.0], \"type\": \"choropleth\"}], \"name\": \"02-01-2020\"}, {\"data\": [{\"coloraxis\": \"coloraxis\", \"geo\": \"geo\", \"hovertemplate\": \"Date=02-02-2020<br>Code=%{location}<br>Confirmed=%{z}<extra></extra>\", \"locationmode\": \"USA-states\", \"locations\": [\"IL\", \"AZ\", \"MA\", \"WA\", \"CA\"], \"name\": \"\", \"z\": [2.0, 1.0, 1.0, 1.0, 3.0], \"type\": \"choropleth\"}], \"name\": \"02-02-2020\"}, {\"data\": [{\"coloraxis\": \"coloraxis\", \"geo\": \"geo\", \"hovertemplate\": \"Date=02-03-2020<br>Code=%{location}<br>Confirmed=%{z}<extra></extra>\", \"locationmode\": \"USA-states\", \"locations\": [\"WA\", \"MA\", \"CA\", \"IL\", \"AZ\"], \"name\": \"\", \"z\": [1.0, 1.0, 6.0, 2.0, 1.0], \"type\": \"choropleth\"}], \"name\": \"02-03-2020\"}, {\"data\": [{\"coloraxis\": \"coloraxis\", \"geo\": \"geo\", \"hovertemplate\": \"Date=02-04-2020<br>Code=%{location}<br>Confirmed=%{z}<extra></extra>\", \"locationmode\": \"USA-states\", \"locations\": [\"WA\", \"IL\", \"AZ\", \"CA\", \"MA\"], \"name\": \"\", \"z\": [1.0, 2.0, 1.0, 6.0, 1.0], \"type\": \"choropleth\"}], \"name\": \"02-04-2020\"}, {\"data\": [{\"coloraxis\": \"coloraxis\", \"geo\": \"geo\", \"hovertemplate\": \"Date=02-05-2020<br>Code=%{location}<br>Confirmed=%{z}<extra></extra>\", \"locationmode\": \"USA-states\", \"locations\": [\"MA\", \"IL\", \"WA\", \"WI\", \"CA\", \"AZ\"], \"name\": \"\", \"z\": [1.0, 2.0, 1.0, 1.0, 6.0, 1.0], \"type\": \"choropleth\"}], \"name\": \"02-05-2020\"}, {\"data\": [{\"coloraxis\": \"coloraxis\", \"geo\": \"geo\", \"hovertemplate\": \"Date=02-06-2020<br>Code=%{location}<br>Confirmed=%{z}<extra></extra>\", \"locationmode\": \"USA-states\", \"locations\": [\"WA\", \"WI\", \"AZ\", \"IL\", \"MA\", \"CA\"], \"name\": \"\", \"z\": [1.0, 1.0, 1.0, 2.0, 1.0, 6.0], \"type\": \"choropleth\"}], \"name\": \"02-06-2020\"}, {\"data\": [{\"coloraxis\": \"coloraxis\", \"geo\": \"geo\", \"hovertemplate\": \"Date=02-07-2020<br>Code=%{location}<br>Confirmed=%{z}<extra></extra>\", \"locationmode\": \"USA-states\", \"locations\": [\"IL\", \"MA\", \"AZ\", \"WA\", \"CA\", \"WI\"], \"name\": \"\", \"z\": [2.0, 1.0, 1.0, 1.0, 6.0, 1.0], \"type\": \"choropleth\"}], \"name\": \"02-07-2020\"}, {\"data\": [{\"coloraxis\": \"coloraxis\", \"geo\": \"geo\", \"hovertemplate\": \"Date=02-08-2020<br>Code=%{location}<br>Confirmed=%{z}<extra></extra>\", \"locationmode\": \"USA-states\", \"locations\": [\"WI\", \"IL\", \"AZ\", \"CA\", \"WA\", \"MA\"], \"name\": \"\", \"z\": [1.0, 2.0, 1.0, 6.0, 1.0, 1.0], \"type\": \"choropleth\"}], \"name\": \"02-08-2020\"}, {\"data\": [{\"coloraxis\": \"coloraxis\", \"geo\": \"geo\", \"hovertemplate\": \"Date=02-09-2020<br>Code=%{location}<br>Confirmed=%{z}<extra></extra>\", \"locationmode\": \"USA-states\", \"locations\": [\"WA\", \"IL\", \"CA\", \"AZ\", \"WI\", \"MA\"], \"name\": \"\", \"z\": [1.0, 2.0, 6.0, 1.0, 1.0, 1.0], \"type\": \"choropleth\"}], \"name\": \"02-09-2020\"}, {\"data\": [{\"coloraxis\": \"coloraxis\", \"geo\": \"geo\", \"hovertemplate\": \"Date=02-10-2020<br>Code=%{location}<br>Confirmed=%{z}<extra></extra>\", \"locationmode\": \"USA-states\", \"locations\": [\"IL\", \"WA\", \"WI\", \"AZ\", \"CA\", \"MA\"], \"name\": \"\", \"z\": [2.0, 1.0, 1.0, 1.0, 6.0, 1.0], \"type\": \"choropleth\"}], \"name\": \"02-10-2020\"}, {\"data\": [{\"coloraxis\": \"coloraxis\", \"geo\": \"geo\", \"hovertemplate\": \"Date=02-11-2020<br>Code=%{location}<br>Confirmed=%{z}<extra></extra>\", \"locationmode\": \"USA-states\", \"locations\": [\"WI\", \"CA\", \"AZ\", \"WA\", \"IL\", \"MA\"], \"name\": \"\", \"z\": [1.0, 7.0, 1.0, 1.0, 2.0, 1.0], \"type\": \"choropleth\"}], \"name\": \"02-11-2020\"}, {\"data\": [{\"coloraxis\": \"coloraxis\", \"geo\": \"geo\", \"hovertemplate\": \"Date=02-12-2020<br>Code=%{location}<br>Confirmed=%{z}<extra></extra>\", \"locationmode\": \"USA-states\", \"locations\": [\"MA\", \"AZ\", \"WI\", \"IL\", \"CA\", \"WA\"], \"name\": \"\", \"z\": [1.0, 1.0, 1.0, 2.0, 7.0, 1.0], \"type\": \"choropleth\"}], \"name\": \"02-12-2020\"}, {\"data\": [{\"coloraxis\": \"coloraxis\", \"geo\": \"geo\", \"hovertemplate\": \"Date=02-13-2020<br>Code=%{location}<br>Confirmed=%{z}<extra></extra>\", \"locationmode\": \"USA-states\", \"locations\": [\"WA\", \"WI\", \"MA\", \"AZ\", \"TX\", \"CA\", \"IL\"], \"name\": \"\", \"z\": [1.0, 1.0, 1.0, 1.0, 1.0, 8.0, 2.0], \"type\": \"choropleth\"}], \"name\": \"02-13-2020\"}, {\"data\": [{\"coloraxis\": \"coloraxis\", \"geo\": \"geo\", \"hovertemplate\": \"Date=02-14-2020<br>Code=%{location}<br>Confirmed=%{z}<extra></extra>\", \"locationmode\": \"USA-states\", \"locations\": [\"WI\", \"CA\", \"MA\", \"AZ\", \"WA\", \"IL\", \"TX\"], \"name\": \"\", \"z\": [1.0, 8.0, 1.0, 1.0, 1.0, 2.0, 1.0], \"type\": \"choropleth\"}], \"name\": \"02-14-2020\"}, {\"data\": [{\"coloraxis\": \"coloraxis\", \"geo\": \"geo\", \"hovertemplate\": \"Date=02-15-2020<br>Code=%{location}<br>Confirmed=%{z}<extra></extra>\", \"locationmode\": \"USA-states\", \"locations\": [\"MA\", \"AZ\", \"CA\", \"WA\", \"WI\", \"TX\", \"IL\"], \"name\": \"\", \"z\": [1.0, 1.0, 8.0, 1.0, 1.0, 1.0, 2.0], \"type\": \"choropleth\"}], \"name\": \"02-15-2020\"}, {\"data\": [{\"coloraxis\": \"coloraxis\", \"geo\": \"geo\", \"hovertemplate\": \"Date=02-16-2020<br>Code=%{location}<br>Confirmed=%{z}<extra></extra>\", \"locationmode\": \"USA-states\", \"locations\": [\"TX\", \"AZ\", \"CA\", \"WA\", \"WI\", \"IL\", \"MA\"], \"name\": \"\", \"z\": [1.0, 1.0, 8.0, 1.0, 1.0, 2.0, 1.0], \"type\": \"choropleth\"}], \"name\": \"02-16-2020\"}, {\"data\": [{\"coloraxis\": \"coloraxis\", \"geo\": \"geo\", \"hovertemplate\": \"Date=02-17-2020<br>Code=%{location}<br>Confirmed=%{z}<extra></extra>\", \"locationmode\": \"USA-states\", \"locations\": [\"MA\", \"TX\", \"IL\", \"WA\", \"AZ\", \"WI\", \"CA\"], \"name\": \"\", \"z\": [1.0, 1.0, 2.0, 1.0, 1.0, 1.0, 8.0], \"type\": \"choropleth\"}], \"name\": \"02-17-2020\"}, {\"data\": [{\"coloraxis\": \"coloraxis\", \"geo\": \"geo\", \"hovertemplate\": \"Date=02-18-2020<br>Code=%{location}<br>Confirmed=%{z}<extra></extra>\", \"locationmode\": \"USA-states\", \"locations\": [\"MA\", \"AZ\", \"TX\", \"WA\", \"WI\", \"CA\", \"IL\"], \"name\": \"\", \"z\": [1.0, 1.0, 1.0, 1.0, 1.0, 8.0, 2.0], \"type\": \"choropleth\"}], \"name\": \"02-18-2020\"}, {\"data\": [{\"coloraxis\": \"coloraxis\", \"geo\": \"geo\", \"hovertemplate\": \"Date=02-19-2020<br>Code=%{location}<br>Confirmed=%{z}<extra></extra>\", \"locationmode\": \"USA-states\", \"locations\": [\"CA\", \"MA\", \"AZ\", \"TX\", \"WA\", \"WI\", \"IL\"], \"name\": \"\", \"z\": [8.0, 1.0, 1.0, 1.0, 1.0, 1.0, 2.0], \"type\": \"choropleth\"}], \"name\": \"02-19-2020\"}, {\"data\": [{\"coloraxis\": \"coloraxis\", \"geo\": \"geo\", \"hovertemplate\": \"Date=02-20-2020<br>Code=%{location}<br>Confirmed=%{z}<extra></extra>\", \"locationmode\": \"USA-states\", \"locations\": [\"IL\", \"WA\", \"WI\", \"AZ\", \"TX\", \"CA\", \"MA\"], \"name\": \"\", \"z\": [2.0, 1.0, 1.0, 1.0, 1.0, 8.0, 1.0], \"type\": \"choropleth\"}], \"name\": \"02-20-2020\"}, {\"data\": [{\"coloraxis\": \"coloraxis\", \"geo\": \"geo\", \"hovertemplate\": \"Date=02-21-2020<br>Code=%{location}<br>Confirmed=%{z}<extra></extra>\", \"locationmode\": \"USA-states\", \"locations\": [\"MA\", \"WI\", \"NE\", \"TX\", \"WA\", \"CA\", \"IL\", \"AZ\"], \"name\": \"\", \"z\": [1.0, 1.0, 11.0, 3.0, 1.0, 15.0, 2.0, 1.0], \"type\": \"choropleth\"}], \"name\": \"02-21-2020\"}, {\"data\": [{\"coloraxis\": \"coloraxis\", \"geo\": \"geo\", \"hovertemplate\": \"Date=02-22-2020<br>Code=%{location}<br>Confirmed=%{z}<extra></extra>\", \"locationmode\": \"USA-states\", \"locations\": [\"IL\", \"CA\", \"WA\", \"MA\", \"TX\", \"AZ\", \"WI\"], \"name\": \"\", \"z\": [2.0, 10.0, 1.0, 1.0, 1.0, 1.0, 1.0], \"type\": \"choropleth\"}], \"name\": \"02-22-2020\"}, {\"data\": [{\"coloraxis\": \"coloraxis\", \"geo\": \"geo\", \"hovertemplate\": \"Date=02-23-2020<br>Code=%{location}<br>Confirmed=%{z}<extra></extra>\", \"locationmode\": \"USA-states\", \"locations\": [\"WA\", \"MA\", \"AZ\", \"WI\", \"TX\", \"IL\", \"CA\"], \"name\": \"\", \"z\": [1.0, 1.0, 1.0, 1.0, 1.0, 2.0, 10.0], \"type\": \"choropleth\"}], \"name\": \"02-23-2020\"}, {\"data\": [{\"coloraxis\": \"coloraxis\", \"geo\": \"geo\", \"hovertemplate\": \"Date=02-24-2020<br>Code=%{location}<br>Confirmed=%{z}<extra></extra>\", \"locationmode\": \"USA-states\", \"locations\": [\"MA\", \"WI\", \"TX\", \"AZ\", \"WA\", \"CA\", \"IL\"], \"name\": \"\", \"z\": [1.0, 1.0, 1.0, 1.0, 1.0, 10.0, 2.0], \"type\": \"choropleth\"}], \"name\": \"02-24-2020\"}, {\"data\": [{\"coloraxis\": \"coloraxis\", \"geo\": \"geo\", \"hovertemplate\": \"Date=02-25-2020<br>Code=%{location}<br>Confirmed=%{z}<extra></extra>\", \"locationmode\": \"USA-states\", \"locations\": [\"TX\", \"AZ\", \"MA\", \"IL\", \"CA\", \"WI\", \"WA\"], \"name\": \"\", \"z\": [1.0, 1.0, 1.0, 2.0, 10.0, 1.0, 1.0], \"type\": \"choropleth\"}], \"name\": \"02-25-2020\"}, {\"data\": [{\"coloraxis\": \"coloraxis\", \"geo\": \"geo\", \"hovertemplate\": \"Date=02-26-2020<br>Code=%{location}<br>Confirmed=%{z}<extra></extra>\", \"locationmode\": \"USA-states\", \"locations\": [\"IL\", \"AZ\", \"TX\", \"WI\", \"MA\", \"CA\", \"WA\"], \"name\": \"\", \"z\": [2.0, 1.0, 1.0, 1.0, 1.0, 10.0, 1.0], \"type\": \"choropleth\"}], \"name\": \"02-26-2020\"}, {\"data\": [{\"coloraxis\": \"coloraxis\", \"geo\": \"geo\", \"hovertemplate\": \"Date=02-27-2020<br>Code=%{location}<br>Confirmed=%{z}<extra></extra>\", \"locationmode\": \"USA-states\", \"locations\": [\"WA\", \"TX\", \"MA\", \"WI\", \"CA\", \"IL\", \"AZ\"], \"name\": \"\", \"z\": [1.0, 1.0, 1.0, 1.0, 11.0, 2.0, 1.0], \"type\": \"choropleth\"}], \"name\": \"02-27-2020\"}, {\"data\": [{\"coloraxis\": \"coloraxis\", \"geo\": \"geo\", \"hovertemplate\": \"Date=02-28-2020<br>Code=%{location}<br>Confirmed=%{z}<extra></extra>\", \"locationmode\": \"USA-states\", \"locations\": [\"TX\", \"CA\", \"MA\", \"WA\", \"AZ\", \"WI\", \"IL\"], \"name\": \"\", \"z\": [1.0, 11.0, 1.0, 1.0, 1.0, 1.0, 2.0], \"type\": \"choropleth\"}], \"name\": \"02-28-2020\"}, {\"data\": [{\"coloraxis\": \"coloraxis\", \"geo\": \"geo\", \"hovertemplate\": \"Date=02-29-2020<br>Code=%{location}<br>Confirmed=%{z}<extra></extra>\", \"locationmode\": \"USA-states\", \"locations\": [\"WA\", \"MA\", \"WI\", \"OR\", \"CA\", \"TX\", \"IL\", \"AZ\"], \"name\": \"\", \"z\": [7.0, 1.0, 1.0, 1.0, 12.0, 1.0, 2.0, 1.0], \"type\": \"choropleth\"}], \"name\": \"02-29-2020\"}, {\"data\": [{\"coloraxis\": \"coloraxis\", \"geo\": \"geo\", \"hovertemplate\": \"Date=03-01-2020<br>Code=%{location}<br>Confirmed=%{z}<extra></extra>\", \"locationmode\": \"USA-states\", \"locations\": [\"CA\", \"RI\", \"AZ\", \"IL\", \"OR\", \"TX\", \"WA\", \"WI\", \"MA\"], \"name\": \"\", \"z\": [12.0, 1.0, 1.0, 3.0, 1.0, 1.0, 11.0, 1.0, 1.0], \"type\": \"choropleth\"}], \"name\": \"03-01-2020\"}, {\"data\": [{\"coloraxis\": \"coloraxis\", \"geo\": \"geo\", \"hovertemplate\": \"Date=03-02-2020<br>Code=%{location}<br>Confirmed=%{z}<extra></extra>\", \"locationmode\": \"USA-states\", \"locations\": [\"NY\", \"NH\", \"WI\", \"IL\", \"CA\", \"WA\", \"OR\", \"AZ\", \"RI\", \"TX\", \"FL\", \"MA\"], \"name\": \"\", \"z\": [1.0, 1.0, 1.0, 4.0, 21.0, 18.0, 3.0, 1.0, 2.0, 1.0, 2.0, 1.0], \"type\": \"choropleth\"}], \"name\": \"03-02-2020\"}, {\"data\": [{\"coloraxis\": \"coloraxis\", \"geo\": \"geo\", \"hovertemplate\": \"Date=03-03-2020<br>Code=%{location}<br>Confirmed=%{z}<extra></extra>\", \"locationmode\": \"USA-states\", \"locations\": [\"NY\", \"IL\", \"WI\", \"NC\", \"MA\", \"FL\", \"OR\", \"WA\", \"TX\", \"CA\", \"AZ\", \"RI\", \"GA\", \"NH\"], \"name\": \"\", \"z\": [2.0, 4.0, 1.0, 1.0, 2.0, 3.0, 3.0, 27.0, 1.0, 25.0, 2.0, 2.0, 2.0, 2.0], \"type\": \"choropleth\"}], \"name\": \"03-03-2020\"}, {\"data\": [{\"coloraxis\": \"coloraxis\", \"geo\": \"geo\", \"hovertemplate\": \"Date=03-04-2020<br>Code=%{location}<br>Confirmed=%{z}<extra></extra>\", \"locationmode\": \"USA-states\", \"locations\": [\"WA\", \"TX\", \"CA\", \"AZ\", \"FL\", \"OR\", \"NY\", \"MA\", \"IL\", \"NH\", \"RI\", \"WI\", \"NC\", \"GA\"], \"name\": \"\", \"z\": [39.0, 1.0, 35.0, 2.0, 3.0, 3.0, 11.0, 2.0, 4.0, 2.0, 2.0, 1.0, 1.0, 2.0], \"type\": \"choropleth\"}], \"name\": \"03-04-2020\"}, {\"data\": [{\"coloraxis\": \"coloraxis\", \"geo\": \"geo\", \"hovertemplate\": \"Date=03-05-2020<br>Code=%{location}<br>Confirmed=%{z}<extra></extra>\", \"locationmode\": \"USA-states\", \"locations\": [\"TX\", \"OR\", \"FL\", \"MA\", \"GA\", \"NY\", \"NV\", \"WA\", \"WI\", \"AZ\", \"TN\", \"NC\", \"CA\", \"NJ\", \"IL\", \"RI\", \"NH\"], \"name\": \"\", \"z\": [4.0, 3.0, 4.0, 2.0, 2.0, 23.0, 1.0, 70.0, 1.0, 2.0, 1.0, 1.0, 51.0, 2.0, 5.0, 2.0, 2.0], \"type\": \"choropleth\"}], \"name\": \"03-05-2020\"}, {\"data\": [{\"coloraxis\": \"coloraxis\", \"geo\": \"geo\", \"hovertemplate\": \"Date=03-06-2020<br>Code=%{location}<br>Confirmed=%{z}<extra></extra>\", \"locationmode\": \"USA-states\", \"locations\": [\"AZ\", \"PA\", \"KY\", \"GA\", \"NE\", \"IN\", \"WI\", \"MA\", \"NH\", \"IL\", \"MN\", \"NY\", \"NJ\", \"NV\", \"CA\", \"CO\", \"OR\", \"WA\", \"NC\", \"FL\", \"MD\", \"RI\", \"TX\", \"TN\"], \"name\": \"\", \"z\": [3.0, 2.0, 1.0, 3.0, 1.0, 1.0, 1.0, 7.0, 2.0, 5.0, 1.0, 36.0, 2.0, 2.0, 59.0, 4.0, 3.0, 83.0, 2.0, 4.0, 3.0, 2.0, 5.0, 1.0], \"type\": \"choropleth\"}], \"name\": \"03-06-2020\"}, {\"data\": [{\"coloraxis\": \"coloraxis\", \"geo\": \"geo\", \"hovertemplate\": \"Date=03-07-2020<br>Code=%{location}<br>Confirmed=%{z}<extra></extra>\", \"locationmode\": \"USA-states\", \"locations\": [\"NV\", \"CT\", \"FL\", \"OK\", \"HI\", \"IL\", \"SC\", \"AZ\", \"NH\", \"NY\", \"RI\", \"CA\", \"WA\", \"CO\", \"NC\", \"NJ\", \"MN\", \"OR\", \"PA\", \"IN\", \"TX\", \"MA\", \"MD\", \"NE\", \"TN\", \"KY\", \"UT\", \"WI\", \"GA\"], \"name\": \"\", \"z\": [2.0, 2.0, 8.0, 1.0, 1.0, 6.0, 2.0, 5.0, 2.0, 76.0, 3.0, 82.0, 107.0, 8.0, 2.0, 4.0, 1.0, 6.0, 2.0, 1.0, 9.0, 7.0, 3.0, 1.0, 1.0, 1.0, 1.0, 1.0, 6.0], \"type\": \"choropleth\"}], \"name\": \"03-07-2020\"}, {\"data\": [{\"coloraxis\": \"coloraxis\", \"geo\": \"geo\", \"hovertemplate\": \"Date=03-08-2020<br>Code=%{location}<br>Confirmed=%{z}<extra></extra>\", \"locationmode\": \"USA-states\", \"locations\": [\"VA\", \"KS\", \"NC\", \"AZ\", \"CO\", \"VT\", \"RI\", \"TN\", \"NJ\", \"NE\", \"KY\", \"SC\", \"IN\", \"NH\", \"MD\", \"CA\", \"IL\", \"WA\", \"HI\", \"TX\", \"WI\", \"GA\", \"OR\", \"PA\", \"UT\", \"OK\", \"MO\", \"CT\", \"NY\", \"MN\", \"MA\", \"NV\", \"FL\"], \"name\": \"\", \"z\": [2.0, 1.0, 2.0, 5.0, 8.0, 1.0, 3.0, 3.0, 5.0, 1.0, 1.0, 2.0, 2.0, 6.0, 5.0, 98.0, 7.0, 128.0, 1.0, 12.0, 1.0, 5.0, 14.0, 6.0, 1.0, 1.0, 1.0, 1.0, 106.0, 1.0, 24.0, 4.0, 11.0], \"type\": \"choropleth\"}], \"name\": \"03-08-2020\"}, {\"data\": [{\"coloraxis\": \"coloraxis\", \"geo\": \"geo\", \"hovertemplate\": \"Date=03-09-2020<br>Code=%{location}<br>Confirmed=%{z}<extra></extra>\", \"locationmode\": \"USA-states\", \"locations\": [\"NH\", \"OK\", \"PA\", \"FL\", \"CO\", \"MD\", \"TN\", \"LA\", \"GA\", \"IN\", \"WI\", \"NE\", \"MO\", \"AZ\", \"KY\", \"OR\", \"IL\", \"NV\", \"CA\", \"UT\", \"NC\", \"IA\", \"MA\", \"KS\", \"VT\", \"NJ\", \"NY\", \"RI\", \"TX\", \"VA\", \"HI\", \"SC\", \"MN\", \"WA\", \"CT\"], \"name\": \"\", \"z\": [5.0, 1.0, 7.0, 14.0, 8.0, 5.0, 3.0, 1.0, 10.0, 3.0, 1.0, 3.0, 1.0, 5.0, 4.0, 14.0, 7.0, 4.0, 104.0, 1.0, 2.0, 3.0, 24.0, 1.0, 1.0, 5.0, 142.0, 3.0, 14.0, 2.0, 2.0, 6.0, 2.0, 128.0, 1.0], \"type\": \"choropleth\"}], \"name\": \"03-09-2020\"}, {\"data\": [{\"coloraxis\": \"coloraxis\", \"geo\": \"geo\", \"hovertemplate\": \"Date=03-10-2020<br>Code=%{location}<br>Confirmed=%{z}<extra></extra>\", \"locationmode\": \"USA-states\", \"locations\": [\"MD\", \"MN\", \"MT\", \"MA\", \"MS\", \"MI\", \"LA\", \"KY\", \"MO\", \"DC\", \"KS\", \"SD\", \"TN\", \"DE\", \"SC\", \"RI\", \"FL\", \"PA\", \"CT\", \"TX\", \"GA\", \"OR\", \"OK\", \"HI\", \"OH\", \"NC\", \"NY\", \"NV\", \"ID\", \"NM\", \"UT\", \"CO\", \"VA\", \"VT\", \"CA\", \"NJ\", \"IL\", \"NH\", \"IN\", \"NE\", \"ND\", \"IA\", \"AK\", \"ME\", \"WV\", \"AZ\", \"WA\", \"WY\", \"AR\", \"WI\"], \"name\": \"\", \"z\": [8.0, 3.0, 0.0, 92.0, 0.0, 0.0, 1.0, 6.0, 1.0, 5.0, 1.0, 0.0, 7.0, 0.0, 7.0, 3.0, 15.0, 12.0, 2.0, 13.0, 17.0, 15.0, 2.0, 2.0, 3.0, 7.0, 173.0, 4.0, 0.0, 0.0, 2.0, 15.0, 7.0, 1.0, 144.0, 15.0, 12.0, 4.0, 6.0, 3.0, 0.0, 8.0, 0.0, 0.0, 0.0, 6.0, 267.0, 0.0, 0.0, 3.0], \"type\": \"choropleth\"}], \"name\": \"03-10-2020\"}, {\"data\": [{\"coloraxis\": \"coloraxis\", \"geo\": \"geo\", \"hovertemplate\": \"Date=03-11-2020<br>Code=%{location}<br>Confirmed=%{z}<extra></extra>\", \"locationmode\": \"USA-states\", \"locations\": [\"MD\", \"AK\", \"MS\", \"NE\", \"WA\", \"NC\", \"PA\", \"MA\", \"NY\", \"IA\", \"FL\", \"TN\", \"DC\", \"OH\", \"DE\", \"CT\", \"VT\", \"IN\", \"HI\", \"IL\", \"LA\", \"UT\", \"NH\", \"SC\", \"WV\", \"RI\", \"MO\", \"AR\", \"CO\", \"AZ\", \"MI\", \"KY\", \"OR\", \"TX\", \"NM\", \"MT\", \"MN\", \"WI\", \"KS\", \"ME\", \"NV\", \"OK\", \"GA\", \"NJ\", \"WY\", \"ND\", \"ID\", \"VA\", \"SD\", \"CA\"], \"name\": \"\", \"z\": [9.0, 0.0, 0.0, 5.0, 366.0, 7.0, 16.0, 95.0, 220.0, 13.0, 28.0, 9.0, 10.0, 4.0, 1.0, 3.0, 1.0, 11.0, 2.0, 25.0, 6.0, 3.0, 5.0, 10.0, 0.0, 5.0, 1.0, 1.0, 34.0, 9.0, 2.0, 8.0, 19.0, 21.0, 3.0, 1.0, 5.0, 6.0, 1.0, 0.0, 7.0, 2.0, 23.0, 23.0, 0.0, 0.0, 0.0, 9.0, 8.0, 177.0], \"type\": \"choropleth\"}], \"name\": \"03-11-2020\"}, {\"data\": [{\"coloraxis\": \"coloraxis\", \"geo\": \"geo\", \"hovertemplate\": \"Date=03-12-2020<br>Code=%{location}<br>Confirmed=%{z}<extra></extra>\", \"locationmode\": \"USA-states\", \"locations\": [\"GA\", \"IL\", \"OH\", \"VT\", \"OR\", \"HI\", \"CO\", \"AZ\", \"MO\", \"SD\", \"NM\", \"MN\", \"WV\", \"WY\", \"LA\", \"ND\", \"IA\", \"UT\", \"WA\", \"MA\", \"DC\", \"NC\", \"NE\", \"DE\", \"VA\", \"PA\", \"WI\", \"KS\", \"ME\", \"MS\", \"NY\", \"NH\", \"NV\", \"FL\", \"OK\", \"CT\", \"NJ\", \"IN\", \"AK\", \"MT\", \"CA\", \"AR\", \"MD\", \"ID\", \"SC\", \"TX\", \"TN\", \"MI\", \"RI\", \"KY\"], \"name\": \"\", \"z\": [31.0, 32.0, 5.0, 2.0, 24.0, 2.0, 45.0, 9.0, 1.0, 8.0, 5.0, 9.0, 0.0, 1.0, 19.0, 1.0, 16.0, 5.0, 442.0, 108.0, 10.0, 15.0, 10.0, 1.0, 17.0, 22.0, 8.0, 1.0, 0.0, 1.0, 328.0, 6.0, 14.0, 35.0, 2.0, 5.0, 29.0, 13.0, 0.0, 1.0, 221.0, 6.0, 12.0, 0.0, 12.0, 27.0, 18.0, 2.0, 5.0, 10.0], \"type\": \"choropleth\"}], \"name\": \"03-12-2020\"}, {\"data\": [{\"coloraxis\": \"coloraxis\", \"geo\": \"geo\", \"hovertemplate\": \"Date=03-13-2020<br>Code=%{location}<br>Confirmed=%{z}<extra></extra>\", \"locationmode\": \"USA-states\", \"locations\": [\"HI\", \"ND\", \"IL\", \"MS\", \"UT\", \"NC\", \"WY\", \"WV\", \"PA\", \"VA\", \"MO\", \"AZ\", \"WI\", \"NV\", \"CO\", \"NJ\", \"RI\", \"MN\", \"KY\", \"NM\", \"MT\", \"SD\", \"IA\", \"KS\", \"NY\", \"TX\", \"AK\", \"DE\", \"LA\", \"IN\", \"OH\", \"AR\", \"CA\", \"FL\", \"VT\", \"TN\", \"NE\", \"ID\", \"WA\", \"SC\", \"MI\", \"GA\", \"CT\", \"MD\", \"DC\", \"ME\", \"MA\", \"NH\", \"OR\", \"OK\", \"AL\"], \"name\": \"\", \"z\": [2.0, 1.0, 46.0, 1.0, 9.0, 17.0, 1.0, 0.0, 41.0, 30.0, 2.0, 9.0, 19.0, 17.0, 49.0, 29.0, 14.0, 14.0, 14.0, 10.0, 1.0, 8.0, 17.0, 5.0, 421.0, 43.0, 1.0, 4.0, 36.0, 13.0, 13.0, 6.0, 282.0, 50.0, 2.0, 26.0, 13.0, 1.0, 568.0, 13.0, 16.0, 42.0, 11.0, 18.0, 10.0, 1.0, 123.0, 6.0, 30.0, 2.0, 5.0], \"type\": \"choropleth\"}], \"name\": \"03-13-2020\"}, {\"data\": [{\"coloraxis\": \"coloraxis\", \"geo\": \"geo\", \"hovertemplate\": \"Date=03-14-2020<br>Code=%{location}<br>Confirmed=%{z}<extra></extra>\", \"locationmode\": \"USA-states\", \"locations\": [\"HI\", \"UT\", \"OR\", \"KS\", \"IA\", \"PA\", \"WA\", \"KY\", \"TN\", \"CT\", \"NY\", \"MT\", \"MO\", \"GA\", \"NM\", \"WV\", \"DC\", \"TX\", \"NC\", \"NJ\", \"AR\", \"MS\", \"LA\", \"AZ\", \"MN\", \"SD\", \"IN\", \"CA\", \"WI\", \"ID\", \"SC\", \"MI\", \"FL\", \"VA\", \"ND\", \"IL\", \"NE\", \"VT\", \"OH\", \"AL\", \"DE\", \"WY\", \"OK\", \"MA\", \"ME\", \"MD\", \"NV\", \"CO\", \"NH\", \"RI\"], \"name\": \"\", \"z\": [4.0, 10.0, 32.0, 8.0, 17.0, 47.0, 572.0, 14.0, 32.0, 22.0, 525.0, 5.0, 4.0, 66.0, 10.0, 0.0, 10.0, 57.0, 24.0, 69.0, 12.0, 6.0, 77.0, 12.0, 21.0, 9.0, 16.0, 340.0, 27.0, 2.0, 19.0, 25.0, 76.0, 41.0, 1.0, 64.0, 14.0, 5.0, 26.0, 6.0, 6.0, 2.0, 4.0, 138.0, 3.0, 26.0, 21.0, 101.0, 7.0, 20.0], \"type\": \"choropleth\"}], \"name\": \"03-14-2020\"}, {\"data\": [{\"coloraxis\": \"coloraxis\", \"geo\": \"geo\", \"hovertemplate\": \"Date=03-15-2020<br>Code=%{location}<br>Confirmed=%{z}<extra></extra>\", \"locationmode\": \"USA-states\", \"locations\": [\"WV\", \"IL\", \"NE\", \"ID\", \"OK\", \"NH\", \"NJ\", \"DE\", \"LA\", \"SC\", \"MS\", \"MD\", \"TX\", \"CT\", \"MI\", \"AK\", \"FL\", \"OR\", \"WA\", \"IN\", \"MA\", \"CA\", \"AR\", \"VT\", \"TN\", \"ME\", \"WY\", \"GA\", \"NV\", \"CO\", \"MN\", \"RI\", \"SD\", \"MO\", \"HI\", \"WI\", \"NC\", \"AZ\", \"VA\", \"IA\", \"UT\", \"ND\", \"NM\", \"PA\", \"DC\", \"AL\", \"KY\", \"KS\", \"MT\", \"NY\", \"OH\"], \"name\": \"\", \"z\": [0.0, 93.0, 17.0, 5.0, 7.0, 13.0, 98.0, 7.0, 91.0, 28.0, 10.0, 32.0, 72.0, 24.0, 33.0, 1.0, 115.0, 36.0, 643.0, 20.0, 164.0, 426.0, 16.0, 8.0, 39.0, 12.0, 3.0, 99.0, 24.0, 131.0, 35.0, 20.0, 9.0, 5.0, 6.0, 32.0, 33.0, 13.0, 45.0, 18.0, 28.0, 1.0, 13.0, 66.0, 16.0, 12.0, 20.0, 8.0, 7.0, 732.0, 37.0], \"type\": \"choropleth\"}], \"name\": \"03-15-2020\"}, {\"data\": [{\"coloraxis\": \"coloraxis\", \"geo\": \"geo\", \"hovertemplate\": \"Date=03-16-2020<br>Code=%{location}<br>Confirmed=%{z}<extra></extra>\", \"locationmode\": \"USA-states\", \"locations\": [\"NM\", \"ME\", \"NV\", \"CT\", \"CO\", \"MO\", \"TN\", \"AR\", \"SD\", \"NH\", \"KS\", \"AK\", \"KY\", \"OR\", \"NJ\", \"PA\", \"IA\", \"WV\", \"MD\", \"MS\", \"MA\", \"CA\", \"RI\", \"SC\", \"LA\", \"DC\", \"DE\", \"MT\", \"IL\", \"AL\", \"ID\", \"NE\", \"ND\", \"UT\", \"OK\", \"NY\", \"WY\", \"TX\", \"VA\", \"AZ\", \"WI\", \"VT\", \"WA\", \"IN\", \"HI\", \"OH\", \"GA\", \"NC\", \"MN\", \"MI\", \"FL\"], \"name\": \"\", \"z\": [17.0, 17.0, 45.0, 30.0, 160.0, 6.0, 52.0, 22.0, 10.0, 17.0, 11.0, 1.0, 21.0, 39.0, 178.0, 77.0, 23.0, 0.0, 41.0, 13.0, 197.0, 557.0, 21.0, 33.0, 136.0, 22.0, 8.0, 7.0, 105.0, 29.0, 5.0, 18.0, 1.0, 39.0, 10.0, 967.0, 3.0, 85.0, 49.0, 18.0, 47.0, 12.0, 904.0, 25.0, 7.0, 50.0, 121.0, 38.0, 54.0, 53.0, 155.0], \"type\": \"choropleth\"}], \"name\": \"03-16-2020\"}, {\"data\": [{\"coloraxis\": \"coloraxis\", \"geo\": \"geo\", \"hovertemplate\": \"Date=03-17-2020<br>Code=%{location}<br>Confirmed=%{z}<extra></extra>\", \"locationmode\": \"USA-states\", \"locations\": [\"RI\", \"IL\", \"IA\", \"NH\", \"KS\", \"HI\", \"PA\", \"NC\", \"ND\", \"AL\", \"SC\", \"MT\", \"DC\", \"NE\", \"FL\", \"WY\", \"IN\", \"AR\", \"TN\", \"WV\", \"DE\", \"KY\", \"SD\", \"WI\", \"ID\", \"MS\", \"OR\", \"MA\", \"CT\", \"VA\", \"AZ\", \"MI\", \"WA\", \"OH\", \"MN\", \"CO\", \"LA\", \"NM\", \"GA\", \"MO\", \"TX\", \"AK\", \"UT\", \"NY\", \"MD\", \"ME\", \"NV\", \"NJ\", \"OK\", \"VT\", \"CA\"], \"name\": \"\", \"z\": [23.0, 161.0, 23.0, 26.0, 18.0, 10.0, 112.0, 64.0, 3.0, 39.0, 47.0, 9.0, 22.0, 21.0, 216.0, 11.0, 30.0, 22.0, 74.0, 1.0, 16.0, 26.0, 11.0, 72.0, 8.0, 21.0, 66.0, 218.0, 68.0, 67.0, 20.0, 65.0, 1076.0, 67.0, 60.0, 160.0, 196.0, 23.0, 146.0, 11.0, 110.0, 3.0, 51.0, 1706.0, 60.0, 32.0, 56.0, 267.0, 19.0, 12.0, 698.0], \"type\": \"choropleth\"}], \"name\": \"03-17-2020\"}, {\"data\": [{\"coloraxis\": \"coloraxis\", \"geo\": \"geo\", \"hovertemplate\": \"Date=03-18-2020<br>Code=%{location}<br>Confirmed=%{z}<extra></extra>\", \"locationmode\": \"USA-states\", \"locations\": [\"NV\", \"MN\", \"IA\", \"SD\", \"NC\", \"HI\", \"MO\", \"RI\", \"CO\", \"OH\", \"PA\", \"VT\", \"WV\", \"NM\", \"IL\", \"KS\", \"CA\", \"IN\", \"MI\", \"FL\", \"NE\", \"OK\", \"ID\", \"DE\", \"MA\", \"NH\", \"ME\", \"SC\", \"WI\", \"AL\", \"ND\", \"VA\", \"AZ\", \"MD\", \"UT\", \"AK\", \"KY\", \"WA\", \"TX\", \"TN\", \"MT\", \"GA\", \"AR\", \"WY\", \"NJ\", \"CT\", \"LA\", \"MS\", \"DC\", \"NY\", \"OR\"], \"name\": \"\", \"z\": [55.0, 77.0, 29.0, 11.0, 70.0, 14.0, 18.0, 33.0, 184.0, 86.0, 152.0, 18.0, 1.0, 23.0, 162.0, 18.0, 751.0, 39.0, 83.0, 314.0, 24.0, 19.0, 9.0, 19.0, 218.0, 26.0, 42.0, 47.0, 92.0, 46.0, 6.0, 77.0, 27.0, 85.0, 51.0, 6.0, 27.0, 1014.0, 173.0, 79.0, 11.0, 199.0, 33.0, 15.0, 267.0, 68.0, 257.0, 34.0, 31.0, 2495.0, 68.0], \"type\": \"choropleth\"}], \"name\": \"03-18-2020\"}, {\"data\": [{\"coloraxis\": \"coloraxis\", \"geo\": \"geo\", \"hovertemplate\": \"Date=03-19-2020<br>Code=%{location}<br>Confirmed=%{z}<extra></extra>\", \"locationmode\": \"USA-states\", \"locations\": [\"TN\", \"MN\", \"KY\", \"WY\", \"SD\", \"CA\", \"HI\", \"OR\", \"IN\", \"VA\", \"FL\", \"SC\", \"MA\", \"AK\", \"AZ\", \"DE\", \"ID\", \"WA\", \"IA\", \"CT\", \"AL\", \"MI\", \"MS\", \"ND\", \"NE\", \"WI\", \"WV\", \"AR\", \"MT\", \"IL\", \"UT\", \"NV\", \"NJ\", \"RI\", \"DC\", \"NC\", \"VT\", \"MO\", \"GA\", \"TX\", \"OH\", \"NH\", \"MD\", \"PA\", \"OK\", \"NY\", \"ME\", \"CO\", \"LA\", \"KS\", \"NM\"], \"name\": \"\", \"z\": [154.0, 89.0, 37.0, 18.0, 11.0, 952.0, 16.0, 88.0, 60.0, 99.0, 417.0, 81.0, 328.0, 9.0, 45.0, 30.0, 11.0, 1376.0, 44.0, 159.0, 78.0, 334.0, 50.0, 18.0, 29.0, 159.0, 2.0, 62.0, 11.0, 422.0, 80.0, 95.0, 742.0, 44.0, 40.0, 123.0, 22.0, 31.0, 287.0, 260.0, 119.0, 44.0, 107.0, 206.0, 44.0, 5365.0, 52.0, 277.0, 392.0, 34.0, 35.0], \"type\": \"choropleth\"}], \"name\": \"03-19-2020\"}, {\"data\": [{\"coloraxis\": \"coloraxis\", \"geo\": \"geo\", \"hovertemplate\": \"Date=03-20-2020<br>Code=%{location}<br>Confirmed=%{z}<extra></extra>\", \"locationmode\": \"USA-states\", \"locations\": [\"HI\", \"DE\", \"NV\", \"AZ\", \"MD\", \"ID\", \"MA\", \"TN\", \"IL\", \"OK\", \"KY\", \"NY\", \"CA\", \"ME\", \"RI\", \"MI\", \"VT\", \"AR\", \"IN\", \"NE\", \"NJ\", \"FL\", \"NH\", \"MS\", \"OR\", \"MT\", \"GA\", \"MN\", \"PA\", \"VA\", \"KS\", \"ND\", \"TX\", \"AL\", \"WY\", \"CT\", \"OH\", \"MO\", \"IA\", \"LA\", \"WI\", \"WA\", \"UT\", \"SD\", \"NM\", \"CO\", \"AK\", \"WV\", \"NC\", \"SC\", \"DC\"], \"name\": \"\", \"z\": [26.0, 38.0, 114.0, 78.0, 149.0, 23.0, 413.0, 233.0, 585.0, 49.0, 47.0, 8310.0, 1177.0, 56.0, 54.0, 552.0, 29.0, 96.0, 86.0, 37.0, 890.0, 563.0, 44.0, 80.0, 114.0, 15.0, 420.0, 115.0, 303.0, 122.0, 44.0, 19.0, 394.0, 83.0, 19.0, 194.0, 173.0, 53.0, 45.0, 538.0, 207.0, 1524.0, 78.0, 14.0, 43.0, 363.0, 12.0, 7.0, 172.0, 126.0, 71.0], \"type\": \"choropleth\"}], \"name\": \"03-20-2020\"}, {\"data\": [{\"coloraxis\": \"coloraxis\", \"geo\": \"geo\", \"hovertemplate\": \"Date=03-21-2020<br>Code=%{location}<br>Confirmed=%{z}<extra></extra>\", \"locationmode\": \"USA-states\", \"locations\": [\"KS\", \"OR\", \"TX\", \"NM\", \"ME\", \"AR\", \"CO\", \"TN\", \"MD\", \"LA\", \"NH\", \"NJ\", \"NC\", \"RI\", \"MO\", \"OH\", \"VT\", \"KY\", \"UT\", \"NV\", \"DC\", \"GA\", \"PA\", \"OK\", \"AL\", \"ND\", \"DE\", \"HI\", \"AZ\", \"CT\", \"IL\", \"MI\", \"ID\", \"VA\", \"NE\", \"WI\", \"MA\", \"FL\", \"AK\", \"MT\", \"SC\", \"SD\", \"CA\", \"NY\", \"WA\", \"MN\", \"IN\", \"WY\", \"MS\", \"WV\", \"IA\"], \"name\": \"\", \"z\": [57.0, 114.0, 581.0, 43.0, 70.0, 122.0, 390.0, 371.0, 193.0, 585.0, 55.0, 1327.0, 253.0, 66.0, 74.0, 248.0, 29.0, 87.0, 136.0, 161.0, 98.0, 507.0, 396.0, 53.0, 131.0, 28.0, 45.0, 37.0, 118.0, 194.0, 753.0, 788.0, 36.0, 156.0, 38.0, 282.0, 525.0, 659.0, 15.0, 21.0, 171.0, 14.0, 1364.0, 11710.0, 1793.0, 138.0, 128.0, 23.0, 140.0, 8.0, 68.0], \"type\": \"choropleth\"}], \"name\": \"03-21-2020\"}, {\"data\": [{\"coloraxis\": \"coloraxis\", \"geo\": \"geo\", \"hovertemplate\": \"Date=03-22-2020<br>Code=%{location}<br>Confirmed=%{z}<extra></extra>\", \"locationmode\": \"USA-states\", \"locations\": [\"ID\", \"NV\", \"GA\", \"WI\", \"AL\", \"HI\", \"OK\", \"AR\", \"FL\", \"NJ\", \"PA\", \"OR\", \"NM\", \"WV\", \"IL\", \"NC\", \"WY\", \"AK\", \"MO\", \"IN\", \"TX\", \"CT\", \"MI\", \"WA\", \"NE\", \"MT\", \"IA\", \"SD\", \"MA\", \"DC\", \"ND\", \"VA\", \"CO\", \"DE\", \"SC\", \"MN\", \"CA\", \"AZ\", \"KS\", \"ME\", \"TN\", \"RI\", \"UT\", \"NH\", \"MS\", \"MD\", \"LA\", \"NY\", \"KY\", \"OH\", \"VT\"], \"name\": \"\", \"z\": [42.0, 190.0, 621.0, 381.0, 157.0, 53.0, 67.0, 165.0, 1004.0, 1914.0, 509.0, 161.0, 57.0, 16.0, 1049.0, 305.0, 26.0, 20.0, 87.0, 204.0, 643.0, 327.0, 1035.0, 1997.0, 51.0, 34.0, 90.0, 21.0, 646.0, 204.0, 28.0, 220.0, 591.0, 56.0, 196.0, 167.0, 1646.0, 152.0, 65.0, 89.0, 505.0, 83.0, 162.0, 74.0, 207.0, 244.0, 837.0, 15800.0, 103.0, 356.0, 52.0], \"type\": \"choropleth\"}], \"name\": \"03-22-2020\"}, {\"data\": [{\"coloraxis\": \"coloraxis\", \"geo\": \"geo\", \"hovertemplate\": \"Date=03-23-2020<br>Code=%{location}<br>Confirmed=%{z}<extra></extra>\", \"locationmode\": \"USA-states\", \"locations\": [\"LA\", \"WA\", \"ND\", \"DC\", \"NV\", \"NC\", \"MO\", \"AL\", \"SD\", \"TX\", \"NM\", \"CO\", \"MN\", \"GA\", \"TN\", \"UT\", \"PA\", \"KS\", \"OH\", \"NJ\", \"WI\", \"SC\", \"OR\", \"VT\", \"MS\", \"IL\", \"MD\", \"NH\", \"RI\", \"ME\", \"KY\", \"HI\", \"NY\", \"AR\", \"AZ\", \"AK\", \"OK\", \"CA\", \"WV\", \"VA\", \"MT\", \"DE\", \"MA\", \"ID\", \"CT\", \"WY\", \"IA\", \"MI\", \"IN\", \"NE\", \"FL\"], \"name\": \"\", \"z\": [1172.0, 2221.0, 30.0, 120.0, 245.0, 353.0, 187.0, 196.0, 28.0, 758.0, 83.0, 704.0, 234.0, 772.0, 614.0, 257.0, 698.0, 84.0, 443.0, 2844.0, 425.0, 298.0, 191.0, 75.0, 249.0, 1285.0, 290.0, 101.0, 106.0, 107.0, 123.0, 56.0, 20884.0, 192.0, 235.0, 30.0, 81.0, 2108.0, 16.0, 254.0, 34.0, 68.0, 777.0, 68.0, 415.0, 26.0, 105.0, 1329.0, 270.0, 51.0, 1227.0], \"type\": \"choropleth\"}], \"name\": \"03-23-2020\"}, {\"data\": [{\"coloraxis\": \"coloraxis\", \"geo\": \"geo\", \"hovertemplate\": \"Date=03-24-2020<br>Code=%{location}<br>Confirmed=%{z}<extra></extra>\", \"locationmode\": \"USA-states\", \"locations\": [\"CT\", \"WA\", \"TX\", \"MS\", \"AK\", \"LA\", \"VT\", \"NY\", \"MD\", \"WI\", \"ME\", \"AZ\", \"OK\", \"CA\", \"OH\", \"MI\", \"ID\", \"VA\", \"NM\", \"CO\", \"MN\", \"MO\", \"UT\", \"GA\", \"MA\", \"OR\", \"NV\", \"TN\", \"KS\", \"RI\", \"SD\", \"NH\", \"NC\", \"AL\", \"ND\", \"DC\", \"AR\", \"IL\", \"SC\", \"WV\", \"MT\", \"WY\", \"PA\", \"KY\", \"DE\", \"IA\", \"IN\", \"NJ\", \"HI\", \"NE\", \"FL\"], \"name\": \"\", \"z\": [618.0, 2328.0, 955.0, 320.0, 34.0, 1388.0, 95.0, 25681.0, 349.0, 481.0, 118.0, 326.0, 106.0, 2538.0, 567.0, 1793.0, 81.0, 293.0, 100.0, 723.0, 261.0, 257.0, 298.0, 1026.0, 1159.0, 210.0, 278.0, 772.0, 100.0, 124.0, 30.0, 101.0, 495.0, 242.0, 36.0, 141.0, 219.0, 1537.0, 342.0, 22.0, 51.0, 29.0, 946.0, 162.0, 104.0, 124.0, 368.0, 3675.0, 90.0, 66.0, 1412.0], \"type\": \"choropleth\"}], \"name\": \"03-24-2020\"}, {\"data\": [{\"coloraxis\": \"coloraxis\", \"geo\": \"geo\", \"hovertemplate\": \"Date=03-25-2020<br>Code=%{location}<br>Confirmed=%{z}<extra></extra>\", \"locationmode\": \"USA-states\", \"locations\": [\"VA\", \"MN\", \"SD\", \"MI\", \"CO\", \"AR\", \"AL\", \"MA\", \"FL\", \"OK\", \"ND\", \"AZ\", \"NJ\", \"NE\", \"SC\", \"ID\", \"ME\", \"DE\", \"WV\", \"IA\", \"NM\", \"AK\", \"RI\", \"TX\", \"WA\", \"OR\", \"VT\", \"MS\", \"HI\", \"KY\", \"NY\", \"CT\", \"IL\", \"WY\", \"MT\", \"TN\", \"PA\", \"MD\", \"OH\", \"IN\", \"NV\", \"CA\", \"MO\", \"DC\", \"LA\", \"WI\", \"NC\", \"NH\", \"UT\", \"KS\", \"GA\"], \"name\": \"\", \"z\": [396.0, 286.0, 41.0, 2296.0, 1021.0, 280.0, 381.0, 1838.0, 1682.0, 164.0, 45.0, 401.0, 4402.0, 71.0, 424.0, 91.0, 142.0, 119.0, 39.0, 146.0, 113.0, 41.0, 132.0, 1229.0, 2591.0, 266.0, 125.0, 377.0, 91.0, 197.0, 30841.0, 875.0, 1865.0, 44.0, 65.0, 916.0, 1260.0, 425.0, 704.0, 477.0, 323.0, 2998.0, 354.0, 187.0, 1795.0, 621.0, 590.0, 108.0, 340.0, 134.0, 1247.0], \"type\": \"choropleth\"}], \"name\": \"03-25-2020\"}, {\"data\": [{\"coloraxis\": \"coloraxis\", \"geo\": \"geo\", \"hovertemplate\": \"Date=03-26-2020<br>Code=%{location}<br>Confirmed=%{z}<extra></extra>\", \"locationmode\": \"USA-states\", \"locations\": [\"NY\", \"ME\", \"VT\", \"AR\", \"NV\", \"NE\", \"NH\", \"OK\", \"WI\", \"MD\", \"AZ\", \"IA\", \"IL\", \"RI\", \"NJ\", \"IN\", \"KS\", \"NC\", \"LA\", \"DC\", \"MO\", \"MT\", \"OH\", \"TX\", \"TN\", \"WY\", \"CT\", \"KY\", \"MS\", \"WA\", \"OR\", \"GA\", \"CA\", \"UT\", \"SD\", \"MI\", \"MA\", \"FL\", \"ID\", \"DE\", \"PA\", \"WV\", \"VA\", \"AK\", \"ND\", \"NM\", \"AL\", \"CO\", \"MN\", \"SC\", \"HI\"], \"name\": \"\", \"z\": [37877.0, 155.0, 158.0, 335.0, 420.0, 74.0, 137.0, 248.0, 728.0, 583.0, 508.0, 179.0, 2538.0, 165.0, 6876.0, 645.0, 172.0, 738.0, 2304.0, 231.0, 520.0, 90.0, 868.0, 1563.0, 1097.0, 53.0, 1012.0, 247.0, 485.0, 3207.0, 316.0, 1525.0, 3899.0, 396.0, 46.0, 2845.0, 2417.0, 2357.0, 146.0, 130.0, 1795.0, 52.0, 466.0, 56.0, 51.0, 113.0, 517.0, 1430.0, 344.0, 424.0, 95.0], \"type\": \"choropleth\"}], \"name\": \"03-26-2020\"}, {\"data\": [{\"coloraxis\": \"coloraxis\", \"geo\": \"geo\", \"hovertemplate\": \"Date=03-27-2020<br>Code=%{location}<br>Confirmed=%{z}<extra></extra>\", \"locationmode\": \"USA-states\", \"locations\": [\"IA\", \"NV\", \"OH\", \"HI\", \"GA\", \"OK\", \"SD\", \"KS\", \"NC\", \"WI\", \"MT\", \"TN\", \"WY\", \"KY\", \"WA\", \"MS\", \"CT\", \"TX\", \"NY\", \"MO\", \"UT\", \"MN\", \"CO\", \"AK\", \"VA\", \"MA\", \"MI\", \"CA\", \"AZ\", \"ME\", \"MD\", \"VT\", \"LA\", \"ND\", \"DC\", \"SC\", \"WV\", \"PA\", \"FL\", \"OR\", \"AR\", \"IL\", \"NJ\", \"NH\", \"NM\", \"AL\", \"NE\", \"IN\", \"ID\", \"DE\", \"RI\"], \"name\": \"\", \"z\": [235.0, 536.0, 1137.0, 106.0, 2000.0, 322.0, 58.0, 206.0, 887.0, 926.0, 109.0, 1318.0, 70.0, 301.0, 3477.0, 579.0, 1291.0, 1937.0, 44876.0, 666.0, 472.0, 396.0, 1433.0, 58.0, 607.0, 3240.0, 3634.0, 4657.0, 665.0, 168.0, 775.0, 184.0, 2744.0, 68.0, 271.0, 542.0, 76.0, 2345.0, 2900.0, 416.0, 381.0, 3024.0, 8825.0, 158.0, 136.0, 587.0, 82.0, 979.0, 205.0, 163.0, 203.0], \"type\": \"choropleth\"}], \"name\": \"03-27-2020\"}, {\"data\": [{\"coloraxis\": \"coloraxis\", \"geo\": \"geo\", \"hovertemplate\": \"Date=03-28-2020<br>Code=%{location}<br>Confirmed=%{z}<extra></extra>\", \"locationmode\": \"USA-states\", \"locations\": [\"NM\", \"AL\", \"NJ\", \"MI\", \"MA\", \"ID\", \"NV\", \"MD\", \"AK\", \"ME\", \"WV\", \"LA\", \"ND\", \"MO\", \"IL\", \"MS\", \"WY\", \"NH\", \"KY\", \"IA\", \"NE\", \"MT\", \"NC\", \"KS\", \"IN\", \"MN\", \"NY\", \"VT\", \"CT\", \"TN\", \"WA\", \"OH\", \"PA\", \"FL\", \"AR\", \"DC\", \"CO\", \"HI\", \"CA\", \"UT\", \"OK\", \"VA\", \"RI\", \"OR\", \"SD\", \"GA\", \"WI\", \"TX\", \"SC\", \"DE\", \"AZ\"], \"name\": \"\", \"z\": [208.0, 694.0, 11124.0, 4650.0, 4257.0, 234.0, 626.0, 995.0, 85.0, 211.0, 96.0, 3315.0, 94.0, 836.0, 3491.0, 663.0, 82.0, 187.0, 380.0, 298.0, 96.0, 129.0, 1020.0, 266.0, 1233.0, 441.0, 52410.0, 211.0, 1524.0, 1511.0, 4030.0, 1406.0, 2845.0, 3763.0, 409.0, 304.0, 1740.0, 149.0, 5095.0, 602.0, 377.0, 740.0, 239.0, 479.0, 68.0, 2366.0, 1055.0, 2455.0, 660.0, 214.0, 773.0], \"type\": \"choropleth\"}], \"name\": \"03-28-2020\"}, {\"data\": [{\"coloraxis\": \"coloraxis\", \"geo\": \"geo\", \"hovertemplate\": \"Date=03-29-2020<br>Code=%{location}<br>Confirmed=%{z}<extra></extra>\", \"locationmode\": \"USA-states\", \"locations\": [\"TX\", \"MO\", \"LA\", \"SD\", \"MN\", \"OK\", \"NM\", \"WY\", \"UT\", \"AK\", \"VA\", \"MA\", \"WI\", \"NV\", \"ID\", \"CO\", \"OR\", \"NJ\", \"DE\", \"NE\", \"SC\", \"ND\", \"RI\", \"NH\", \"KS\", \"NC\", \"IL\", \"AR\", \"CT\", \"DC\", \"WV\", \"MT\", \"TN\", \"AL\", \"KY\", \"PA\", \"WA\", \"MS\", \"MI\", \"GA\", \"FL\", \"CA\", \"IN\", \"NY\", \"OH\", \"VT\", \"AZ\", \"ME\", \"MD\", \"HI\", \"IA\"], \"name\": \"\", \"z\": [2792.0, 915.0, 3540.0, 90.0, 503.0, 429.0, 237.0, 86.0, 720.0, 102.0, 890.0, 4955.0, 1164.0, 920.0, 281.0, 2307.0, 548.0, 13386.0, 232.0, 108.0, 774.0, 98.0, 294.0, 214.0, 330.0, 1191.0, 4596.0, 426.0, 1993.0, 342.0, 113.0, 154.0, 1720.0, 825.0, 438.0, 3432.0, 4465.0, 759.0, 5488.0, 2651.0, 4246.0, 5852.0, 1513.0, 59648.0, 1653.0, 235.0, 919.0, 253.0, 1239.0, 149.0, 336.0], \"type\": \"choropleth\"}], \"name\": \"03-29-2020\"}, {\"data\": [{\"coloraxis\": \"coloraxis\", \"geo\": \"geo\", \"hovertemplate\": \"Date=03-30-2020<br>Code=%{location}<br>Confirmed=%{z}<extra></extra>\", \"locationmode\": \"USA-states\", \"locations\": [\"UT\", \"KY\", \"AR\", \"AK\", \"KS\", \"VA\", \"ID\", \"NJ\", \"CT\", \"AL\", \"MD\", \"SD\", \"SC\", \"ND\", \"WV\", \"OK\", \"OR\", \"IL\", \"MN\", \"GA\", \"HI\", \"WA\", \"CO\", \"NM\", \"MS\", \"NC\", \"IA\", \"MA\", \"PA\", \"TN\", \"MO\", \"AZ\", \"MI\", \"RI\", \"IN\", \"DE\", \"ME\", \"NH\", \"VT\", \"LA\", \"MT\", \"NE\", \"DC\", \"NV\", \"TX\", \"FL\", \"NY\", \"WI\", \"CA\", \"WY\", \"OH\"], \"name\": \"\", \"z\": [798.0, 479.0, 473.0, 114.0, 372.0, 1020.0, 340.0, 16636.0, 2571.0, 899.0, 1413.0, 101.0, 925.0, 109.0, 145.0, 481.0, 606.0, 5056.0, 576.0, 2808.0, 175.0, 4923.0, 2311.0, 237.0, 847.0, 1313.0, 424.0, 5752.0, 4155.0, 1917.0, 1051.0, 1157.0, 6498.0, 408.0, 1786.0, 264.0, 275.0, 314.0, 256.0, 4025.0, 171.0, 145.0, 401.0, 1012.0, 3147.0, 5473.0, 66663.0, 1230.0, 7138.0, 94.0, 1933.0], \"type\": \"choropleth\"}], \"name\": \"03-30-2020\"}, {\"data\": [{\"coloraxis\": \"coloraxis\", \"geo\": \"geo\", \"hovertemplate\": \"Date=03-31-2020<br>Code=%{location}<br>Confirmed=%{z}<extra></extra>\", \"locationmode\": \"USA-states\", \"locations\": [\"CT\", \"CO\", \"TX\", \"NC\", \"WY\", \"RI\", \"OR\", \"MO\", \"WV\", \"ID\", \"LA\", \"KS\", \"NH\", \"SD\", \"AZ\", \"NJ\", \"NY\", \"MN\", \"MS\", \"GA\", \"HI\", \"PA\", \"DC\", \"WI\", \"ME\", \"NV\", \"NE\", \"MA\", \"OK\", \"TN\", \"OH\", \"MI\", \"MT\", \"VT\", \"FL\", \"CA\", \"IN\", \"DE\", \"VA\", \"AL\", \"IA\", \"NM\", \"WA\", \"MD\", \"AK\", \"KY\", \"AR\", \"ND\", \"UT\", \"SC\", \"IL\"], \"name\": \"\", \"z\": [3128.0, 2966.0, 3809.0, 1535.0, 109.0, 488.0, 690.0, 1357.0, 162.0, 515.0, 5237.0, 434.0, 357.0, 108.0, 1289.0, 18696.0, 75833.0, 629.0, 937.0, 3929.0, 204.0, 4963.0, 495.0, 1412.0, 303.0, 1114.0, 172.0, 6620.0, 568.0, 2391.0, 2199.0, 7615.0, 198.0, 293.0, 6741.0, 8210.0, 2158.0, 319.0, 1249.0, 987.0, 497.0, 315.0, 5432.0, 1660.0, 119.0, 628.0, 523.0, 122.0, 888.0, 1083.0, 5994.0], \"type\": \"choropleth\"}], \"name\": \"03-31-2020\"}, {\"data\": [{\"coloraxis\": \"coloraxis\", \"geo\": \"geo\", \"hovertemplate\": \"Date=04-01-2020<br>Code=%{location}<br>Confirmed=%{z}<extra></extra>\", \"locationmode\": \"USA-states\", \"locations\": [\"OR\", \"MT\", \"IL\", \"FL\", \"MD\", \"NC\", \"CT\", \"OH\", \"TN\", \"WA\", \"KY\", \"AZ\", \"KS\", \"PA\", \"NH\", \"NJ\", \"AL\", \"DC\", \"MO\", \"MS\", \"VT\", \"MN\", \"ID\", \"NY\", \"NV\", \"NE\", \"CO\", \"WV\", \"VA\", \"OK\", \"HI\", \"NM\", \"IA\", \"AK\", \"ND\", \"GA\", \"UT\", \"MA\", \"DE\", \"SC\", \"ME\", \"IN\", \"SD\", \"CA\", \"WI\", \"RI\", \"LA\", \"WY\", \"MI\", \"TX\", \"AR\"], \"name\": \"\", \"z\": [736.0, 208.0, 6980.0, 6956.0, 1986.0, 1675.0, 3557.0, 2547.0, 2933.0, 5608.0, 632.0, 1530.0, 485.0, 6009.0, 367.0, 22255.0, 1060.0, 586.0, 1613.0, 1073.0, 321.0, 689.0, 566.0, 83948.0, 1279.0, 210.0, 2982.0, 191.0, 1483.0, 721.0, 224.0, 340.0, 547.0, 132.0, 142.0, 4638.0, 888.0, 7738.0, 368.0, 1293.0, 303.0, 2564.0, 129.0, 9399.0, 1556.0, 566.0, 6424.0, 130.0, 9315.0, 4355.0, 584.0], \"type\": \"choropleth\"}], \"name\": \"04-01-2020\"}, {\"data\": [{\"coloraxis\": \"coloraxis\", \"geo\": \"geo\", \"hovertemplate\": \"Date=04-02-2020<br>Code=%{location}<br>Confirmed=%{z}<extra></extra>\", \"locationmode\": \"USA-states\", \"locations\": [\"AK\", \"CA\", \"WA\", \"NY\", \"IA\", \"FL\", \"ME\", \"MA\", \"AL\", \"IN\", \"DE\", \"VA\", \"ND\", \"OH\", \"NE\", \"PA\", \"KY\", \"NV\", \"MI\", \"MT\", \"TN\", \"DC\", \"GA\", \"SD\", \"UT\", \"TX\", \"AR\", \"MO\", \"LA\", \"AZ\", \"NH\", \"NJ\", \"WY\", \"RI\", \"MD\", \"ID\", \"MN\", \"SC\", \"OR\", \"KS\", \"HI\", \"VT\", \"CO\", \"CT\", \"NC\", \"WI\", \"WV\", \"NM\", \"OK\", \"IL\", \"MS\"], \"name\": \"\", \"z\": [143.0, 10773.0, 6389.0, 92506.0, 614.0, 9008.0, 376.0, 8966.0, 1233.0, 3038.0, 393.0, 1706.0, 159.0, 2901.0, 246.0, 7268.0, 770.0, 1463.0, 10791.0, 241.0, 3013.0, 653.0, 5348.0, 165.0, 1092.0, 5069.0, 643.0, 1857.0, 9149.0, 1715.0, 316.0, 25590.0, 150.0, 645.0, 2331.0, 776.0, 742.0, 1554.0, 826.0, 553.0, 256.0, 338.0, 3342.0, 3824.0, 1977.0, 1748.0, 216.0, 388.0, 881.0, 7695.0, 1177.0], \"type\": \"choropleth\"}], \"name\": \"04-02-2020\"}, {\"data\": [{\"coloraxis\": \"coloraxis\", \"geo\": \"geo\", \"hovertemplate\": \"Date=04-03-2020<br>Code=%{location}<br>Confirmed=%{z}<extra></extra>\", \"locationmode\": \"USA-states\", \"locations\": [\"NE\", \"WV\", \"AR\", \"SD\", \"IN\", \"IL\", \"DC\", \"NY\", \"MD\", \"RI\", \"NH\", \"MT\", \"NC\", \"ND\", \"KS\", \"DE\", \"SC\", \"MO\", \"WI\", \"VA\", \"CT\", \"FL\", \"NJ\", \"MN\", \"ME\", \"MS\", \"IA\", \"OK\", \"HI\", \"NV\", \"NM\", \"GA\", \"VT\", \"AK\", \"ID\", \"KY\", \"OH\", \"WA\", \"TX\", \"OR\", \"AL\", \"PA\", \"UT\", \"MI\", \"WY\", \"CO\", \"LA\", \"CA\", \"TN\", \"MA\", \"AZ\"], \"name\": \"\", \"z\": [279.0, 237.0, 704.0, 187.0, 3437.0, 8904.0, 757.0, 102987.0, 2758.0, 711.0, 479.0, 243.0, 2251.0, 173.0, 629.0, 450.0, 1700.0, 1864.0, 2012.0, 2012.0, 4914.0, 10268.0, 29895.0, 788.0, 432.0, 1358.0, 699.0, 990.0, 319.0, 1514.0, 534.0, 5831.0, 389.0, 157.0, 891.0, 770.0, 3312.0, 6846.0, 5734.0, 899.0, 1495.0, 8570.0, 1255.0, 12744.0, 162.0, 3742.0, 10297.0, 12004.0, 3067.0, 10402.0, 1937.0], \"type\": \"choropleth\"}], \"name\": \"04-03-2020\"}, {\"data\": [{\"coloraxis\": \"coloraxis\", \"geo\": \"geo\", \"hovertemplate\": \"Date=04-04-2020<br>Code=%{location}<br>Confirmed=%{z}<extra></extra>\", \"locationmode\": \"USA-states\", \"locations\": [\"FL\", \"MN\", \"RI\", \"ID\", \"OK\", \"WV\", \"VA\", \"NM\", \"CA\", \"IN\", \"DE\", \"MI\", \"MA\", \"MD\", \"NY\", \"NV\", \"IA\", \"OH\", \"NE\", \"ND\", \"AK\", \"WY\", \"UT\", \"SC\", \"CO\", \"LA\", \"ME\", \"IL\", \"DC\", \"KY\", \"WI\", \"WA\", \"AL\", \"CT\", \"NC\", \"PA\", \"KS\", \"OR\", \"MS\", \"VT\", \"HI\", \"AR\", \"SD\", \"TX\", \"NH\", \"GA\", \"NJ\", \"AZ\", \"MT\", \"TN\", \"MO\"], \"name\": \"\", \"z\": [11537.0, 865.0, 806.0, 1022.0, 1161.0, 282.0, 2407.0, 534.0, 12837.0, 3953.0, 593.0, 14225.0, 11736.0, 3125.0, 113833.0, 1742.0, 787.0, 3739.0, 321.0, 186.0, 171.0, 187.0, 1435.0, 1917.0, 4188.0, 12496.0, 456.0, 10357.0, 902.0, 917.0, 2030.0, 7247.0, 1614.0, 5276.0, 2486.0, 10444.0, 698.0, 899.0, 1455.0, 461.0, 351.0, 743.0, 212.0, 6567.0, 540.0, 6160.0, 34124.0, 2187.0, 265.0, 3322.0, 2310.0], \"type\": \"choropleth\"}], \"name\": \"04-04-2020\"}, {\"data\": [{\"coloraxis\": \"coloraxis\", \"geo\": \"geo\", \"hovertemplate\": \"Date=04-05-2020<br>Code=%{location}<br>Confirmed=%{z}<extra></extra>\", \"locationmode\": \"USA-states\", \"locations\": [\"MT\", \"ME\", \"MD\", \"MA\", \"WA\", \"TN\", \"CA\", \"DE\", \"IN\", \"MI\", \"KY\", \"LA\", \"DC\", \"TX\", \"MN\", \"MO\", \"SD\", \"SC\", \"AZ\", \"VT\", \"UT\", \"WY\", \"AK\", \"KS\", \"NC\", \"CO\", \"ND\", \"VA\", \"MS\", \"CT\", \"IA\", \"NM\", \"NE\", \"PA\", \"AL\", \"GA\", \"OK\", \"NH\", \"NJ\", \"OR\", \"HI\", \"AR\", \"WI\", \"IL\", \"ID\", \"RI\", \"WV\", \"NV\", \"FL\", \"OH\", \"NY\"], \"name\": \"\", \"z\": [286.0, 470.0, 3617.0, 12500.0, 7825.0, 3633.0, 15034.0, 673.0, 4411.0, 15718.0, 955.0, 13010.0, 1002.0, 7209.0, 935.0, 2347.0, 240.0, 2049.0, 2486.0, 512.0, 1608.0, 197.0, 185.0, 751.0, 2649.0, 4950.0, 207.0, 2640.0, 1638.0, 5675.0, 869.0, 670.0, 364.0, 11589.0, 1765.0, 6647.0, 1254.0, 621.0, 37505.0, 1068.0, 371.0, 837.0, 2320.0, 11259.0, 1078.0, 922.0, 324.0, 1855.0, 12350.0, 4043.0, 123160.0], \"type\": \"choropleth\"}], \"name\": \"04-05-2020\"}, {\"data\": [{\"coloraxis\": \"coloraxis\", \"geo\": \"geo\", \"hovertemplate\": \"Date=04-06-2020<br>Code=%{location}<br>Confirmed=%{z}<extra></extra>\", \"locationmode\": \"USA-states\", \"locations\": [\"ND\", \"CO\", \"GA\", \"OH\", \"WV\", \"MA\", \"ID\", \"ME\", \"VA\", \"MO\", \"NE\", \"NH\", \"PA\", \"FL\", \"RI\", \"TN\", \"TX\", \"CA\", \"SC\", \"AR\", \"LA\", \"MI\", \"UT\", \"SD\", \"KS\", \"IA\", \"HI\", \"MS\", \"WY\", \"MD\", \"NC\", \"DC\", \"NY\", \"CT\", \"IL\", \"WI\", \"VT\", \"IN\", \"MT\", \"NM\", \"KY\", \"OR\", \"NV\", \"DE\", \"OK\", \"AZ\", \"AK\", \"MN\", \"AL\", \"WA\", \"NJ\"], \"name\": \"\", \"z\": [225.0, 5183.0, 7314.0, 4453.0, 345.0, 13837.0, 1101.0, 499.0, 2878.0, 2736.0, 417.0, 715.0, 13127.0, 13324.0, 1082.0, 3802.0, 8043.0, 16019.0, 2232.0, 875.0, 14867.0, 17221.0, 1685.0, 288.0, 849.0, 946.0, 387.0, 1738.0, 210.0, 4045.0, 2962.0, 1097.0, 131815.0, 6906.0, 12262.0, 2449.0, 543.0, 4956.0, 299.0, 757.0, 955.0, 1068.0, 1953.0, 783.0, 1329.0, 2732.0, 190.0, 986.0, 1952.0, 8311.0, 41090.0], \"type\": \"choropleth\"}], \"name\": \"04-06-2020\"}, {\"data\": [{\"coloraxis\": \"coloraxis\", \"geo\": \"geo\", \"hovertemplate\": \"Date=04-07-2020<br>Code=%{location}<br>Confirmed=%{z}<extra></extra>\", \"locationmode\": \"USA-states\", \"locations\": [\"UT\", \"IL\", \"OH\", \"NH\", \"VA\", \"MN\", \"WY\", \"MT\", \"DC\", \"RI\", \"CO\", \"OK\", \"ID\", \"SD\", \"AR\", \"AK\", \"KS\", \"NC\", \"NM\", \"WV\", \"VT\", \"WA\", \"HI\", \"NV\", \"IA\", \"IN\", \"DE\", \"MO\", \"ME\", \"GA\", \"CT\", \"OR\", \"ND\", \"NE\", \"AL\", \"KY\", \"CA\", \"TX\", \"NY\", \"SC\", \"MD\", \"LA\", \"MI\", \"AZ\", \"MS\", \"NJ\", \"FL\", \"MA\", \"PA\", \"TN\", \"WI\"], \"name\": \"\", \"z\": [1746.0, 12271.0, 4782.0, 715.0, 3335.0, 1069.0, 216.0, 319.0, 1211.0, 1229.0, 5429.0, 1474.0, 1170.0, 320.0, 946.0, 213.0, 912.0, 3299.0, 876.0, 412.0, 575.0, 8692.0, 410.0, 2124.0, 1046.0, 5510.0, 928.0, 3130.0, 519.0, 8822.0, 7781.0, 1132.0, 237.0, 447.0, 2169.0, 1149.0, 17351.0, 8925.0, 139875.0, 2417.0, 4371.0, 16284.0, 18970.0, 2870.0, 1915.0, 44416.0, 14545.0, 15202.0, 14853.0, 4139.0, 2578.0], \"type\": \"choropleth\"}], \"name\": \"04-07-2020\"}, {\"data\": [{\"coloraxis\": \"coloraxis\", \"geo\": \"geo\", \"hovertemplate\": \"Date=04-08-2020<br>Code=%{location}<br>Confirmed=%{z}<extra></extra>\", \"locationmode\": \"USA-states\", \"locations\": [\"PA\", \"OR\", \"CT\", \"NM\", \"MS\", \"KY\", \"DC\", \"MN\", \"AL\", \"OK\", \"WA\", \"MO\", \"ID\", \"GA\", \"TN\", \"TX\", \"FL\", \"CO\", \"LA\", \"MT\", \"NJ\", \"IL\", \"NY\", \"UT\", \"IN\", \"SC\", \"MA\", \"NV\", \"NC\", \"CA\", \"AR\", \"VT\", \"SD\", \"NE\", \"VA\", \"OH\", \"NH\", \"DE\", \"ME\", \"ND\", \"MI\", \"WY\", \"RI\", \"IA\", \"MD\", \"KS\", \"HI\", \"AZ\", \"WI\", \"WV\", \"AK\"], \"name\": \"\", \"z\": [16631.0, 1181.0, 7781.0, 902.0, 2003.0, 1149.0, 1440.0, 1154.0, 2328.0, 1526.0, 9276.0, 3209.0, 1210.0, 9901.0, 4363.0, 9777.0, 15456.0, 5655.0, 17030.0, 332.0, 47437.0, 15078.0, 151061.0, 1855.0, 5943.0, 2417.0, 16790.0, 2259.0, 3499.0, 18897.0, 1000.0, 605.0, 393.0, 519.0, 3645.0, 5148.0, 747.0, 1116.0, 537.0, 251.0, 20346.0, 221.0, 1450.0, 1145.0, 5529.0, 1046.0, 410.0, 3036.0, 2710.0, 483.0, 226.0], \"type\": \"choropleth\"}], \"name\": \"04-08-2020\"}, {\"data\": [{\"coloraxis\": \"coloraxis\", \"geo\": \"geo\", \"hovertemplate\": \"Date=04-09-2020<br>Code=%{location}<br>Confirmed=%{z}<extra></extra>\", \"locationmode\": \"USA-states\", \"locations\": [\"FL\", \"TX\", \"HI\", \"CA\", \"RI\", \"IN\", \"IL\", \"MO\", \"WI\", \"NE\", \"TN\", \"GA\", \"WA\", \"SC\", \"ND\", \"ME\", \"AZ\", \"NJ\", \"IA\", \"VT\", \"WV\", \"MI\", \"WY\", \"UT\", \"AK\", \"KS\", \"MS\", \"CT\", \"DE\", \"NM\", \"OK\", \"NH\", \"OH\", \"LA\", \"MN\", \"MD\", \"AR\", \"SD\", \"ID\", \"NY\", \"OR\", \"CO\", \"MT\", \"NC\", \"KY\", \"PA\", \"NV\", \"AL\", \"MA\", \"VA\", \"DC\"], \"name\": \"\", \"z\": [16364.0, 11208.0, 442.0, 19710.0, 1727.0, 6351.0, 15079.0, 3432.0, 2886.0, 568.0, 4634.0, 10566.0, 9639.0, 2793.0, 269.0, 560.0, 3018.0, 51027.0, 1270.0, 628.0, 514.0, 21504.0, 230.0, 1856.0, 235.0, 1116.0, 2260.0, 9784.0, 1209.0, 865.0, 1686.0, 819.0, 5512.0, 18283.0, 1240.0, 6185.0, 1119.0, 447.0, 1232.0, 161779.0, 1321.0, 5655.0, 354.0, 3736.0, 1341.0, 18300.0, 2456.0, 2703.0, 18941.0, 4042.0, 1523.0], \"type\": \"choropleth\"}], \"name\": \"04-09-2020\"}, {\"data\": [{\"coloraxis\": \"coloraxis\", \"geo\": \"geo\", \"hovertemplate\": \"Date=04-10-2020<br>Code=%{location}<br>Confirmed=%{z}<extra></extra>\", \"locationmode\": \"USA-states\", \"locations\": [\"MD\", \"VT\", \"AZ\", \"OR\", \"CT\", \"NY\", \"TX\", \"MO\", \"NM\", \"MI\", \"WY\", \"AK\", \"UT\", \"OH\", \"OK\", \"MN\", \"ID\", \"VA\", \"CO\", \"LA\", \"NV\", \"MA\", \"CA\", \"WI\", \"GA\", \"ME\", \"IA\", \"HI\", \"MS\", \"NJ\", \"RI\", \"PA\", \"SC\", \"WV\", \"NH\", \"MT\", \"AL\", \"SD\", \"KS\", \"KY\", \"NC\", \"IN\", \"IL\", \"ND\", \"DE\", \"DC\", \"AR\", \"NE\", \"FL\", \"WA\", \"TN\"], \"name\": \"\", \"z\": [6968.0, 679.0, 3112.0, 1322.0, 10538.0, 172348.0, 12105.0, 3897.0, 1081.0, 22434.0, 239.0, 246.0, 2103.0, 5878.0, 1794.0, 1336.0, 1354.0, 4509.0, 6202.0, 19253.0, 2722.0, 20974.0, 21081.0, 3068.0, 11485.0, 586.0, 1388.0, 442.0, 2469.0, 54588.0, 1727.0, 20051.0, 3067.0, 574.0, 819.0, 365.0, 2947.0, 536.0, 1117.0, 1693.0, 3965.0, 6907.0, 17887.0, 278.0, 1326.0, 1660.0, 1171.0, 635.0, 17531.0, 10119.0, 4891.0], \"type\": \"choropleth\"}], \"name\": \"04-10-2020\"}, {\"data\": [{\"coloraxis\": \"coloraxis\", \"geo\": \"geo\", \"hovertemplate\": \"Date=04-11-2020<br>Code=%{location}<br>Confirmed=%{z}<extra></extra>\", \"locationmode\": \"USA-states\", \"locations\": [\"TN\", \"HI\", \"NY\", \"SD\", \"VA\", \"OH\", \"FL\", \"ID\", \"GA\", \"NC\", \"TX\", \"UT\", \"DC\", \"ND\", \"IL\", \"PA\", \"OK\", \"MI\", \"WY\", \"VT\", \"MN\", \"IN\", \"AK\", \"KS\", \"AZ\", \"MT\", \"CO\", \"WV\", \"RI\", \"LA\", \"NH\", \"NM\", \"NE\", \"SC\", \"OR\", \"IA\", \"CA\", \"NV\", \"MA\", \"AL\", \"MO\", \"KY\", \"CT\", \"MS\", \"MD\", \"DE\", \"ME\", \"AR\", \"NJ\", \"WA\", \"WI\"], \"name\": \"\", \"z\": [5132.0, 465.0, 181026.0, 626.0, 5077.0, 6250.0, 18494.0, 1396.0, 12159.0, 4354.0, 13023.0, 2207.0, 1778.0, 293.0, 19180.0, 21719.0, 1868.0, 23605.0, 261.0, 711.0, 1427.0, 7435.0, 257.0, 1275.0, 3393.0, 377.0, 6513.0, 577.0, 2349.0, 20014.0, 885.0, 1091.0, 699.0, 3211.0, 1371.0, 1510.0, 21706.0, 2702.0, 22860.0, 3217.0, 4108.0, 1693.0, 11510.0, 2642.0, 7694.0, 1479.0, 616.0, 1228.0, 58151.0, 10434.0, 3213.0], \"type\": \"choropleth\"}], \"name\": \"04-11-2020\"}, {\"data\": [{\"coloraxis\": \"coloraxis\", \"geo\": \"geo\", \"hovertemplate\": \"Date=04-12-2020<br>Code=%{location}<br>Confirmed=%{z}<extra></extra>\", \"locationmode\": \"USA-states\", \"locations\": [\"CO\", \"CA\", \"NH\", \"CT\", \"MT\", \"OR\", \"AK\", \"WV\", \"AR\", \"IN\", \"MS\", \"NM\", \"ME\", \"PA\", \"IL\", \"IA\", \"OK\", \"MI\", \"VT\", \"KS\", \"MD\", \"WY\", \"NJ\", \"MN\", \"AZ\", \"NE\", \"WI\", \"ND\", \"UT\", \"DE\", \"TN\", \"WA\", \"NC\", \"GA\", \"MO\", \"HI\", \"FL\", \"MA\", \"DC\", \"TX\", \"NY\", \"SC\", \"SD\", \"VA\", \"OH\", \"KY\", \"NV\", \"ID\", \"LA\", \"RI\", \"AL\"], \"name\": \"\", \"z\": [7307.0, 22795.0, 929.0, 12035.0, 387.0, 1527.0, 272.0, 593.0, 1280.0, 7928.0, 2781.0, 1245.0, 633.0, 22938.0, 20852.0, 1587.0, 1970.0, 24244.0, 727.0, 1344.0, 8225.0, 270.0, 61850.0, 1621.0, 3542.0, 791.0, 3341.0, 308.0, 2303.0, 1625.0, 5508.0, 10609.0, 4570.0, 12452.0, 4269.0, 499.0, 19895.0, 25475.0, 1875.0, 13677.0, 189033.0, 3320.0, 730.0, 5274.0, 6604.0, 1963.0, 2836.0, 1407.0, 20595.0, 2665.0, 3563.0], \"type\": \"choropleth\"}], \"name\": \"04-12-2020\"}, {\"data\": [{\"coloraxis\": \"coloraxis\", \"geo\": \"geo\", \"hovertemplate\": \"Date=04-13-2020<br>Code=%{location}<br>Confirmed=%{z}<extra></extra>\", \"locationmode\": \"USA-states\", \"locations\": [\"NM\", \"NC\", \"IL\", \"ME\", \"UT\", \"SC\", \"ND\", \"RI\", \"WI\", \"DC\", \"HI\", \"MI\", \"AK\", \"IA\", \"VA\", \"KS\", \"NE\", \"NV\", \"MA\", \"WY\", \"AZ\", \"AR\", \"WV\", \"OH\", \"CA\", \"VT\", \"CT\", \"LA\", \"WA\", \"CO\", \"MT\", \"ID\", \"OR\", \"KY\", \"MD\", \"NY\", \"TX\", \"NH\", \"IN\", \"FL\", \"SD\", \"MN\", \"AL\", \"NJ\", \"DE\", \"PA\", \"OK\", \"TN\", \"MS\", \"GA\", \"MO\"], \"name\": \"\", \"z\": [1262.0, 4886.0, 22025.0, 698.0, 2363.0, 3391.0, 331.0, 2665.0, 3428.0, 1955.0, 504.0, 25635.0, 277.0, 1710.0, 5747.0, 1390.0, 814.0, 2990.0, 26867.0, 275.0, 3705.0, 1410.0, 611.0, 6975.0, 23931.0, 748.0, 13381.0, 21016.0, 10635.0, 7691.0, 394.0, 1426.0, 1584.0, 2018.0, 8936.0, 195749.0, 14275.0, 985.0, 8359.0, 21019.0, 868.0, 1621.0, 3734.0, 64584.0, 1758.0, 24292.0, 2069.0, 5610.0, 2942.0, 13315.0, 4515.0], \"type\": \"choropleth\"}], \"name\": \"04-13-2020\"}, {\"data\": [{\"coloraxis\": \"coloraxis\", \"geo\": \"geo\", \"hovertemplate\": \"Date=04-14-2020<br>Code=%{location}<br>Confirmed=%{z}<extra></extra>\", \"locationmode\": \"USA-states\", \"locations\": [\"WA\", \"UT\", \"OH\", \"SC\", \"LA\", \"ID\", \"KY\", \"GA\", \"NJ\", \"DC\", \"HI\", \"DE\", \"NY\", \"TN\", \"VT\", \"TX\", \"NC\", \"AL\", \"VA\", \"FL\", \"WV\", \"NV\", \"CA\", \"MA\", \"MO\", \"NM\", \"PA\", \"AR\", \"MS\", \"IL\", \"ME\", \"ND\", \"MI\", \"OK\", \"NH\", \"KS\", \"SD\", \"IA\", \"AZ\", \"MN\", \"WY\", \"AK\", \"RI\", \"CO\", \"WI\", \"OR\", \"MT\", \"CT\", \"IN\", \"MD\", \"NE\"], \"name\": \"\", \"z\": [10799.0, 2417.0, 7285.0, 3553.0, 21518.0, 1464.0, 2048.0, 14578.0, 68824.0, 2058.0, 511.0, 1926.0, 203020.0, 5827.0, 752.0, 15006.0, 5113.0, 3953.0, 6182.0, 21628.0, 640.0, 3134.0, 25356.0, 28164.0, 4746.0, 1345.0, 25465.0, 1498.0, 3087.0, 23248.0, 735.0, 341.0, 27001.0, 2184.0, 922.0, 1441.0, 988.0, 1899.0, 3809.0, 1695.0, 282.0, 285.0, 3251.0, 7950.0, 3555.0, 1633.0, 399.0, 13989.0, 8527.0, 9472.0, 897.0], \"type\": \"choropleth\"}], \"name\": \"04-14-2020\"}, {\"data\": [{\"coloraxis\": \"coloraxis\", \"geo\": \"geo\", \"hovertemplate\": \"Date=04-15-2020<br>Code=%{location}<br>Confirmed=%{z}<extra></extra>\", \"locationmode\": \"USA-states\", \"locations\": [\"MA\", \"CA\", \"ND\", \"CT\", \"NE\", \"WV\", \"NH\", \"MD\", \"NV\", \"AL\", \"OR\", \"KY\", \"IA\", \"DE\", \"ME\", \"PA\", \"GA\", \"TN\", \"IN\", \"IL\", \"MT\", \"HI\", \"RI\", \"AK\", \"MN\", \"MO\", \"WY\", \"OK\", \"MI\", \"AZ\", \"KS\", \"VT\", \"NM\", \"AR\", \"SD\", \"WI\", \"MS\", \"TX\", \"SC\", \"LA\", \"UT\", \"NJ\", \"WA\", \"NC\", \"OH\", \"ID\", \"NY\", \"DC\", \"CO\", \"VA\", \"FL\"], \"name\": \"\", \"z\": [29918.0, 26686.0, 365.0, 14755.0, 901.0, 702.0, 1139.0, 10032.0, 3211.0, 4075.0, 1663.0, 2210.0, 1995.0, 2014.0, 770.0, 26753.0, 14987.0, 5827.0, 8960.0, 24593.0, 404.0, 524.0, 3251.0, 293.0, 1809.0, 4791.0, 287.0, 2263.0, 28059.0, 3964.0, 1504.0, 759.0, 1484.0, 1569.0, 1168.0, 3721.0, 3360.0, 15907.0, 3656.0, 21951.0, 2548.0, 71030.0, 10942.0, 5340.0, 7794.0, 1473.0, 214454.0, 2197.0, 7956.0, 6500.0, 22511.0], \"type\": \"choropleth\"}], \"name\": \"04-15-2020\"}, {\"data\": [{\"coloraxis\": \"coloraxis\", \"geo\": \"geo\", \"hovertemplate\": \"Date=04-16-2020<br>Code=%{location}<br>Confirmed=%{z}<extra></extra>\", \"locationmode\": \"USA-states\", \"locations\": [\"MD\", \"VT\", \"HI\", \"AZ\", \"WV\", \"ND\", \"NY\", \"RI\", \"IN\", \"AK\", \"PA\", \"KS\", \"NM\", \"ME\", \"OK\", \"SD\", \"MN\", \"AR\", \"WA\", \"MT\", \"CO\", \"LA\", \"ID\", \"GA\", \"TX\", \"FL\", \"NJ\", \"TN\", \"MO\", \"AL\", \"KY\", \"OR\", \"NH\", \"CT\", \"MI\", \"WY\", \"DE\", \"MS\", \"NC\", \"VA\", \"NV\", \"DC\", \"MA\", \"OH\", \"UT\", \"CA\", \"NE\", \"IA\", \"IL\", \"WI\", \"SC\"], \"name\": \"\", \"z\": [10784.0, 774.0, 530.0, 4237.0, 728.0, 393.0, 223691.0, 3529.0, 9542.0, 300.0, 28258.0, 1615.0, 1484.0, 796.0, 2357.0, 1311.0, 1809.0, 1620.0, 11057.0, 415.0, 8286.0, 22532.0, 1587.0, 15669.0, 16876.0, 23343.0, 75317.0, 6375.0, 5174.0, 4345.0, 2435.0, 1736.0, 1139.0, 15884.0, 28809.0, 296.0, 2070.0, 3624.0, 5639.0, 6889.0, 3214.0, 2350.0, 32181.0, 8414.0, 2683.0, 27677.0, 952.0, 2141.0, 25734.0, 3875.0, 3931.0], \"type\": \"choropleth\"}], \"name\": \"04-16-2020\"}, {\"data\": [{\"coloraxis\": \"coloraxis\", \"geo\": \"geo\", \"hovertemplate\": \"Date=04-17-2020<br>Code=%{location}<br>Confirmed=%{z}<extra></extra>\", \"locationmode\": \"USA-states\", \"locations\": [\"ND\", \"WV\", \"OR\", \"MO\", \"NV\", \"TN\", \"NH\", \"NE\", \"NJ\", \"RI\", \"NC\", \"SC\", \"MI\", \"VT\", \"NM\", \"WI\", \"PA\", \"OH\", \"SD\", \"MN\", \"UT\", \"WA\", \"MT\", \"VA\", \"NY\", \"WY\", \"OK\", \"TX\", \"ME\", \"MS\", \"AZ\", \"IA\", \"FL\", \"KY\", \"MD\", \"AK\", \"KS\", \"CO\", \"HI\", \"DE\", \"AL\", \"GA\", \"MA\", \"ID\", \"CA\", \"IL\", \"AR\", \"LA\", \"IN\", \"CT\", \"DC\"], \"name\": \"\", \"z\": [393.0, 775.0, 1785.0, 5371.0, 3524.0, 6263.0, 1287.0, 1066.0, 78467.0, 4177.0, 6045.0, 4099.0, 30023.0, 779.0, 1597.0, 4053.0, 29888.0, 9107.0, 1411.0, 2070.0, 2793.0, 11517.0, 422.0, 7491.0, 230597.0, 305.0, 2465.0, 17849.0, 827.0, 3793.0, 4511.0, 2332.0, 24759.0, 2522.0, 11572.0, 309.0, 1730.0, 8691.0, 541.0, 2317.0, 4571.0, 17194.0, 34402.0, 1609.0, 29157.0, 27578.0, 1695.0, 23118.0, 10154.0, 16809.0, 2476.0], \"type\": \"choropleth\"}], \"name\": \"04-17-2020\"}, {\"data\": [{\"coloraxis\": \"coloraxis\", \"geo\": \"geo\", \"hovertemplate\": \"Date=04-18-2020<br>Code=%{location}<br>Confirmed=%{z}<extra></extra>\", \"locationmode\": \"USA-states\", \"locations\": [\"CT\", \"NV\", \"KS\", \"VA\", \"AK\", \"NE\", \"TX\", \"NC\", \"MD\", \"WY\", \"MT\", \"IA\", \"IL\", \"NH\", \"RI\", \"SD\", \"NJ\", \"ND\", \"ID\", \"IN\", \"MA\", \"ME\", \"WV\", \"UT\", \"SC\", \"DC\", \"DE\", \"AL\", \"CO\", \"NM\", \"MI\", \"CA\", \"MN\", \"TN\", \"HI\", \"AZ\", \"LA\", \"OH\", \"NY\", \"MO\", \"AR\", \"WA\", \"KY\", \"MS\", \"WI\", \"GA\", \"PA\", \"OK\", \"OR\", \"VT\", \"FL\"], \"name\": \"\", \"z\": [17550.0, 3626.0, 1821.0, 8053.0, 314.0, 1249.0, 18704.0, 6328.0, 12326.0, 309.0, 426.0, 2513.0, 29160.0, 1342.0, 4491.0, 1542.0, 81420.0, 528.0, 1655.0, 10641.0, 36372.0, 847.0, 785.0, 2917.0, 4248.0, 2666.0, 2538.0, 4712.0, 9047.0, 1798.0, 30791.0, 30491.0, 2209.0, 6589.0, 574.0, 4724.0, 23580.0, 10222.0, 241712.0, 5579.0, 1744.0, 11776.0, 2707.0, 3974.0, 4199.0, 17669.0, 31652.0, 2465.0, 1844.0, 803.0, 25492.0], \"type\": \"choropleth\"}], \"name\": \"04-18-2020\"}, {\"data\": [{\"coloraxis\": \"coloraxis\", \"geo\": \"geo\", \"hovertemplate\": \"Date=04-19-2020<br>Code=%{location}<br>Confirmed=%{z}<extra></extra>\", \"locationmode\": \"USA-states\", \"locations\": [\"GA\", \"ME\", \"MA\", \"CO\", \"ID\", \"SC\", \"OH\", \"MO\", \"VT\", \"TX\", \"MN\", \"IL\", \"MD\", \"NH\", \"NE\", \"OK\", \"ND\", \"CT\", \"SD\", \"AR\", \"DC\", \"LA\", \"IN\", \"NJ\", \"WV\", \"WA\", \"OR\", \"HI\", \"PA\", \"IA\", \"CA\", \"MT\", \"WY\", \"FL\", \"KY\", \"AK\", \"VA\", \"TN\", \"DE\", \"NV\", \"MS\", \"NC\", \"RI\", \"NY\", \"KS\", \"NM\", \"WI\", \"UT\", \"AZ\", \"AL\", \"MI\"], \"name\": \"\", \"z\": [18301.0, 867.0, 38077.0, 9730.0, 1668.0, 4377.0, 11602.0, 5743.0, 813.0, 19260.0, 2356.0, 30357.0, 12847.0, 1390.0, 1474.0, 2567.0, 585.0, 17962.0, 1635.0, 1781.0, 2793.0, 23928.0, 11211.0, 85301.0, 890.0, 12255.0, 1910.0, 580.0, 32902.0, 2902.0, 31431.0, 433.0, 313.0, 26314.0, 2960.0, 319.0, 8542.0, 7070.0, 2538.0, 3728.0, 4274.0, 6601.0, 4706.0, 247815.0, 1905.0, 1845.0, 4346.0, 3069.0, 4933.0, 4888.0, 31424.0], \"type\": \"choropleth\"}], \"name\": \"04-19-2020\"}, {\"data\": [{\"coloraxis\": \"coloraxis\", \"geo\": \"geo\", \"hovertemplate\": \"Date=04-20-2020<br>Code=%{location}<br>Confirmed=%{z}<extra></extra>\", \"locationmode\": \"USA-states\", \"locations\": [\"AL\", \"CA\", \"WV\", \"NE\", \"MT\", \"AZ\", \"MO\", \"CT\", \"TN\", \"MN\", \"NC\", \"CO\", \"VA\", \"AR\", \"LA\", \"KS\", \"MA\", \"WA\", \"WI\", \"VT\", \"IN\", \"MS\", \"UT\", \"TX\", \"ND\", \"KY\", \"MI\", \"MD\", \"NY\", \"HI\", \"ID\", \"ME\", \"SC\", \"DE\", \"OR\", \"GA\", \"NM\", \"OH\", \"NJ\", \"DC\", \"SD\", \"RI\", \"NV\", \"WY\", \"FL\", \"IA\", \"PA\", \"AK\", \"OK\", \"IL\", \"NH\"], \"name\": \"\", \"z\": [5079.0, 33686.0, 902.0, 1648.0, 433.0, 5068.0, 5890.0, 19815.0, 7238.0, 2470.0, 6895.0, 9730.0, 8990.0, 1973.0, 24523.0, 2048.0, 38077.0, 12114.0, 4499.0, 816.0, 11688.0, 4512.0, 3213.0, 19751.0, 627.0, 3050.0, 32000.0, 13684.0, 253060.0, 584.0, 1672.0, 875.0, 4446.0, 2745.0, 1957.0, 19407.0, 1971.0, 12919.0, 88722.0, 2927.0, 1685.0, 5090.0, 3830.0, 317.0, 27059.0, 3159.0, 33914.0, 321.0, 2680.0, 31513.0, 1447.0], \"type\": \"choropleth\"}], \"name\": \"04-20-2020\"}, {\"data\": [{\"coloraxis\": \"coloraxis\", \"geo\": \"geo\", \"hovertemplate\": \"Date=04-21-2020<br>Code=%{location}<br>Confirmed=%{z}<extra></extra>\", \"locationmode\": \"USA-states\", \"locations\": [\"IA\", \"MT\", \"CA\", \"SC\", \"VA\", \"DE\", \"WI\", \"AL\", \"AK\", \"PA\", \"NV\", \"MI\", \"NY\", \"MS\", \"RI\", \"UT\", \"VT\", \"ME\", \"KY\", \"KS\", \"NC\", \"FL\", \"NM\", \"NE\", \"AZ\", \"WY\", \"WV\", \"OK\", \"LA\", \"SD\", \"DC\", \"MA\", \"NH\", \"IN\", \"WA\", \"MN\", \"CT\", \"OH\", \"NJ\", \"TX\", \"HI\", \"CO\", \"IL\", \"OR\", \"ID\", \"MD\", \"MO\", \"ND\", \"TN\", \"GA\", \"AR\"], \"name\": \"\", \"z\": [3641.0, 437.0, 35465.0, 4439.0, 9630.0, 2931.0, 4625.0, 5317.0, 329.0, 35249.0, 3937.0, 32667.0, 258361.0, 4716.0, 5500.0, 3297.0, 818.0, 888.0, 3204.0, 2164.0, 7134.0, 27869.0, 1971.0, 1685.0, 5256.0, 443.0, 908.0, 2807.0, 24854.0, 1755.0, 3098.0, 41199.0, 1490.0, 12097.0, 12392.0, 2567.0, 20360.0, 13725.0, 92387.0, 20574.0, 586.0, 10473.0, 33059.0, 2004.0, 1736.0, 14193.0, 6066.0, 644.0, 7394.0, 19881.0, 1990.0], \"type\": \"choropleth\"}], \"name\": \"04-21-2020\"}, {\"data\": [{\"coloraxis\": \"coloraxis\", \"geo\": \"geo\", \"hovertemplate\": \"Date=04-22-2020<br>Code=%{location}<br>Confirmed=%{z}<extra></extra>\", \"locationmode\": \"USA-states\", \"locations\": [\"WY\", \"CA\", \"MD\", \"MN\", \"OK\", \"PA\", \"HI\", \"LA\", \"FL\", \"GA\", \"WA\", \"VT\", \"MS\", \"OH\", \"NY\", \"AZ\", \"WI\", \"MO\", \"OR\", \"AR\", \"KY\", \"IL\", \"MA\", \"AL\", \"DE\", \"ME\", \"SC\", \"MT\", \"CO\", \"ID\", \"ND\", \"NM\", \"TX\", \"IN\", \"DC\", \"SD\", \"WV\", \"CT\", \"NH\", \"NE\", \"TN\", \"NJ\", \"MI\", \"KS\", \"NV\", \"IA\", \"AK\", \"RI\", \"VA\", \"UT\", \"NC\"], \"name\": \"\", \"z\": [447.0, 37344.0, 14775.0, 2722.0, 2894.0, 36082.0, 592.0, 25258.0, 28309.0, 21214.0, 12596.0, 823.0, 4894.0, 14117.0, 263292.0, 5473.0, 4845.0, 6277.0, 2059.0, 2276.0, 3378.0, 35107.0, 42944.0, 5593.0, 3200.0, 907.0, 4761.0, 439.0, 10891.0, 1766.0, 679.0, 2210.0, 21321.0, 12438.0, 3206.0, 1858.0, 939.0, 22469.0, 1588.0, 1813.0, 7394.0, 95914.0, 33966.0, 2331.0, 4081.0, 3748.0, 335.0, 5841.0, 10266.0, 3445.0, 7495.0], \"type\": \"choropleth\"}], \"name\": \"04-22-2020\"}, {\"data\": [{\"coloraxis\": \"coloraxis\", \"geo\": \"geo\", \"hovertemplate\": \"Date=04-23-2020<br>Code=%{location}<br>Confirmed=%{z}<extra></extra>\", \"locationmode\": \"USA-states\", \"locations\": [\"OH\", \"KS\", \"GA\", \"OK\", \"PA\", \"LA\", \"SD\", \"WA\", \"NH\", \"CT\", \"NV\", \"VA\", \"MN\", \"NE\", \"TN\", \"MT\", \"AR\", \"DC\", \"RI\", \"IN\", \"MS\", \"NY\", \"KY\", \"AZ\", \"DE\", \"VT\", \"OR\", \"HI\", \"UT\", \"NC\", \"SC\", \"CO\", \"MO\", \"FL\", \"ID\", \"IA\", \"TX\", \"NJ\", \"NM\", \"IL\", \"CA\", \"ND\", \"ME\", \"MD\", \"AK\", \"WY\", \"MI\", \"MA\", \"WV\", \"WI\", \"AL\"], \"name\": \"\", \"z\": [14694.0, 2721.0, 21883.0, 3017.0, 38379.0, 25739.0, 1956.0, 12753.0, 1670.0, 23100.0, 4208.0, 10998.0, 2942.0, 2202.0, 8266.0, 442.0, 2599.0, 3361.0, 6256.0, 13039.0, 5153.0, 263460.0, 3479.0, 5772.0, 3308.0, 825.0, 2127.0, 596.0, 3612.0, 7820.0, 4917.0, 11278.0, 6506.0, 29648.0, 1836.0, 3924.0, 22650.0, 100025.0, 2379.0, 36937.0, 39561.0, 709.0, 937.0, 15737.0, 337.0, 453.0, 35296.0, 46023.0, 981.0, 5052.0, 5832.0], \"type\": \"choropleth\"}], \"name\": \"04-23-2020\"}, {\"data\": [{\"coloraxis\": \"coloraxis\", \"geo\": \"geo\", \"hovertemplate\": \"Date=04-24-2020<br>Code=%{location}<br>Confirmed=%{z}<extra></extra>\", \"locationmode\": \"USA-states\", \"locations\": [\"MS\", \"LA\", \"AR\", \"AZ\", \"NY\", \"NV\", \"AK\", \"HI\", \"GA\", \"WA\", \"KS\", \"FL\", \"VA\", \"NH\", \"SC\", \"IL\", \"CA\", \"WY\", \"WI\", \"AL\", \"PA\", \"WV\", \"NE\", \"OH\", \"KY\", \"IA\", \"DC\", \"ND\", \"TX\", \"ME\", \"MT\", \"OR\", \"TN\", \"MN\", \"DE\", \"NM\", \"NC\", \"UT\", \"NJ\", \"RI\", \"CT\", \"IN\", \"OK\", \"SD\", \"MI\", \"MD\", \"VT\", \"MO\", \"CO\", \"MA\", \"ID\"], \"name\": \"\", \"z\": [5434.0, 26140.0, 2810.0, 6045.0, 271590.0, 4398.0, 339.0, 601.0, 22491.0, 12977.0, 2959.0, 30533.0, 11594.0, 1720.0, 5070.0, 39658.0, 41355.0, 473.0, 5356.0, 6026.0, 40208.0, 1010.0, 2424.0, 15169.0, 3779.0, 4445.0, 3528.0, 748.0, 23642.0, 965.0, 444.0, 2177.0, 8728.0, 3185.0, 3442.0, 2521.0, 8290.0, 3782.0, 102196.0, 6699.0, 23936.0, 13681.0, 3121.0, 2040.0, 36641.0, 16616.0, 827.0, 6788.0, 12256.0, 50969.0, 1870.0], \"type\": \"choropleth\"}], \"name\": \"04-24-2020\"}, {\"data\": [{\"coloraxis\": \"coloraxis\", \"geo\": \"geo\", \"hovertemplate\": \"Date=04-25-2020<br>Code=%{location}<br>Confirmed=%{z}<extra></extra>\", \"locationmode\": \"USA-states\", \"locations\": [\"ND\", \"NC\", \"NY\", \"NH\", \"OR\", \"NJ\", \"MO\", \"FL\", \"WI\", \"NE\", \"AL\", \"MT\", \"NM\", \"UT\", \"RI\", \"DE\", \"MI\", \"VT\", \"MA\", \"CO\", \"ID\", \"IA\", \"AK\", \"NV\", \"MS\", \"KY\", \"VA\", \"TN\", \"IL\", \"SC\", \"CA\", \"WY\", \"PA\", \"AZ\", \"WA\", \"ME\", \"DC\", \"GA\", \"AR\", \"CT\", \"OH\", \"SD\", \"MD\", \"IN\", \"LA\", \"WV\", \"KS\", \"OK\", \"HI\", \"TX\", \"MN\"], \"name\": \"\", \"z\": [803.0, 8768.0, 282143.0, 1797.0, 2253.0, 105498.0, 6935.0, 30839.0, 5687.0, 2719.0, 6026.0, 445.0, 2660.0, 3948.0, 7129.0, 3576.0, 37074.0, 843.0, 53348.0, 12968.0, 1887.0, 5092.0, 339.0, 4539.0, 5718.0, 3915.0, 12366.0, 9189.0, 41777.0, 5253.0, 42368.0, 491.0, 41153.0, 6286.0, 13319.0, 965.0, 3699.0, 23222.0, 2911.0, 24583.0, 15587.0, 2147.0, 17766.0, 14399.0, 26512.0, 1010.0, 3135.0, 3194.0, 605.0, 24153.0, 3446.0], \"type\": \"choropleth\"}], \"name\": \"04-25-2020\"}, {\"data\": [{\"coloraxis\": \"coloraxis\", \"geo\": \"geo\", \"hovertemplate\": \"Date=04-26-2020<br>Code=%{location}<br>Confirmed=%{z}<extra></extra>\", \"locationmode\": \"USA-states\", \"locations\": [\"IA\", \"NH\", \"ID\", \"FL\", \"WV\", \"LA\", \"AK\", \"GA\", \"DC\", \"MS\", \"AZ\", \"SC\", \"PA\", \"WY\", \"TN\", \"KS\", \"VA\", \"NV\", \"CA\", \"WI\", \"NE\", \"OH\", \"IL\", \"AR\", \"NY\", \"WA\", \"CO\", \"KY\", \"MA\", \"NC\", \"CT\", \"AL\", \"TX\", \"ME\", \"MT\", \"MN\", \"OR\", \"NM\", \"UT\", \"NJ\", \"MO\", \"MI\", \"SD\", \"RI\", \"IN\", \"MD\", \"ND\", \"VT\", \"DE\", \"OK\", \"HI\"], \"name\": \"\", \"z\": [5476.0, 1864.0, 1897.0, 31532.0, 1055.0, 26773.0, 340.0, 23486.0, 3841.0, 5911.0, 6534.0, 5498.0, 42616.0, 502.0, 9667.0, 3277.0, 12970.0, 4734.0, 43558.0, 5912.0, 3028.0, 15972.0, 43903.0, 3001.0, 288045.0, 13521.0, 13441.0, 4085.0, 54938.0, 8997.0, 25269.0, 6421.0, 24967.0, 1015.0, 448.0, 3602.0, 2311.0, 2726.0, 4123.0, 109038.0, 7120.0, 37778.0, 2212.0, 7439.0, 15012.0, 18581.0, 867.0, 851.0, 4034.0, 3254.0, 606.0], \"type\": \"choropleth\"}], \"name\": \"04-26-2020\"}, {\"data\": [{\"coloraxis\": \"coloraxis\", \"geo\": \"geo\", \"hovertemplate\": \"Date=04-27-2020<br>Code=%{location}<br>Confirmed=%{z}<extra></extra>\", \"locationmode\": \"USA-states\", \"locations\": [\"VT\", \"SC\", \"TN\", \"OK\", \"VA\", \"IN\", \"CO\", \"MD\", \"KY\", \"MN\", \"AR\", \"KS\", \"TX\", \"AK\", \"MT\", \"DE\", \"GA\", \"ME\", \"ID\", \"MI\", \"NV\", \"IA\", \"MS\", \"DC\", \"MA\", \"RI\", \"IL\", \"UT\", \"WI\", \"SD\", \"NM\", \"WA\", \"LA\", \"ND\", \"NJ\", \"NE\", \"MO\", \"NH\", \"WV\", \"CA\", \"HI\", \"NY\", \"OH\", \"AZ\", \"WY\", \"FL\", \"AL\", \"NC\", \"CT\", \"OR\", \"PA\"], \"name\": \"\", \"z\": [855.0, 5613.0, 9918.0, 3281.0, 13538.0, 15961.0, 13879.0, 19487.0, 4156.0, 3811.0, 3069.0, 3473.0, 25321.0, 345.0, 449.0, 4162.0, 24302.0, 1023.0, 1897.0, 38210.0, 4700.0, 5868.0, 6094.0, 3892.0, 56462.0, 7708.0, 45883.0, 4236.0, 6081.0, 2244.0, 2825.0, 13686.0, 27068.0, 942.0, 111188.0, 3358.0, 7305.0, 1938.0, 1063.0, 44966.0, 607.0, 291996.0, 16325.0, 6725.0, 520.0, 32138.0, 6539.0, 9428.0, 25997.0, 2354.0, 43558.0], \"type\": \"choropleth\"}], \"name\": \"04-27-2020\"}, {\"data\": [{\"coloraxis\": \"coloraxis\", \"geo\": \"geo\", \"hovertemplate\": \"Date=04-28-2020<br>Code=%{location}<br>Confirmed=%{z}<extra></extra>\", \"locationmode\": \"USA-states\", \"locations\": [\"CO\", \"VT\", \"ME\", \"MD\", \"FL\", \"MA\", \"NH\", \"IA\", \"WV\", \"NY\", \"DE\", \"KS\", \"SC\", \"NJ\", \"WA\", \"CT\", \"TX\", \"NC\", \"MN\", \"OR\", \"ND\", \"NM\", \"UT\", \"SD\", \"RI\", \"HI\", \"MI\", \"AK\", \"MT\", \"MO\", \"OK\", \"DC\", \"CA\", \"VA\", \"NE\", \"AZ\", \"AR\", \"MS\", \"KY\", \"IL\", \"LA\", \"ID\", \"WY\", \"OH\", \"WI\", \"AL\", \"PA\", \"GA\", \"IN\", \"TN\", \"NV\"], \"name\": \"\", \"z\": [14316.0, 862.0, 1040.0, 20113.0, 32848.0, 58302.0, 2010.0, 6376.0, 1095.0, 295106.0, 4575.0, 3652.0, 5735.0, 113856.0, 13842.0, 26312.0, 26357.0, 9755.0, 4181.0, 2385.0, 991.0, 2974.0, 4345.0, 2313.0, 7927.0, 609.0, 39262.0, 351.0, 451.0, 7450.0, 3410.0, 3994.0, 46164.0, 14339.0, 3517.0, 6955.0, 3127.0, 6342.0, 4375.0, 48102.0, 27286.0, 1952.0, 536.0, 16769.0, 6289.0, 6750.0, 45137.0, 24922.0, 16588.0, 10052.0, 4821.0], \"type\": \"choropleth\"}], \"name\": \"04-28-2020\"}, {\"data\": [{\"coloraxis\": \"coloraxis\", \"geo\": \"geo\", \"hovertemplate\": \"Date=04-29-2020<br>Code=%{location}<br>Confirmed=%{z}<extra></extra>\", \"locationmode\": \"USA-states\", \"locations\": [\"WA\", \"PA\", \"MI\", \"TX\", \"HI\", \"VA\", \"RI\", \"IL\", \"AR\", \"CT\", \"NE\", \"IN\", \"UT\", \"MT\", \"KY\", \"SD\", \"NM\", \"WY\", \"KS\", \"NC\", \"OH\", \"MN\", \"OR\", \"WI\", \"CA\", \"MO\", \"ID\", \"NY\", \"CO\", \"OK\", \"NV\", \"DE\", \"WV\", \"AL\", \"SC\", \"FL\", \"LA\", \"AK\", \"DC\", \"IA\", \"MA\", \"TN\", \"MD\", \"ND\", \"AZ\", \"GA\", \"NJ\", \"NH\", \"ME\", \"MS\", \"VT\"], \"name\": \"\", \"z\": [14070.0, 46327.0, 40399.0, 27257.0, 613.0, 14962.0, 8247.0, 50358.0, 3193.0, 26767.0, 3851.0, 17182.0, 4497.0, 451.0, 4537.0, 2373.0, 3213.0, 545.0, 3839.0, 10180.0, 17303.0, 4644.0, 2446.0, 6520.0, 48747.0, 7660.0, 1952.0, 299691.0, 14758.0, 3473.0, 4934.0, 4655.0, 1110.0, 6912.0, 5882.0, 33193.0, 27660.0, 355.0, 4106.0, 6843.0, 60265.0, 10366.0, 20849.0, 1033.0, 7209.0, 25775.0, 116365.0, 2058.0, 1056.0, 6569.0, 862.0], \"type\": \"choropleth\"}], \"name\": \"04-29-2020\"}, {\"data\": [{\"coloraxis\": \"coloraxis\", \"geo\": \"geo\", \"hovertemplate\": \"Date=04-30-2020<br>Code=%{location}<br>Confirmed=%{z}<extra></extra>\", \"locationmode\": \"USA-states\", \"locations\": [\"KS\", \"DC\", \"IL\", \"MI\", \"MT\", \"NH\", \"NJ\", \"SC\", \"NC\", \"ID\", \"CA\", \"ME\", \"NV\", \"MD\", \"MS\", \"OH\", \"WI\", \"SD\", \"KY\", \"FL\", \"AL\", \"ND\", \"TN\", \"OR\", \"AZ\", \"WA\", \"NE\", \"HI\", \"PA\", \"WY\", \"LA\", \"CO\", \"CT\", \"IA\", \"MN\", \"NM\", \"MA\", \"TX\", \"UT\", \"MO\", \"GA\", \"OK\", \"AK\", \"RI\", \"NY\", \"VT\", \"WV\", \"DE\", \"IN\", \"AR\", \"VA\"], \"name\": \"\", \"z\": [4413.0, 4323.0, 52918.0, 41379.0, 453.0, 2146.0, 118652.0, 6095.0, 10754.0, 1984.0, 50130.0, 1095.0, 5053.0, 21742.0, 6815.0, 18027.0, 6854.0, 2449.0, 4708.0, 33690.0, 7088.0, 1067.0, 10735.0, 2510.0, 7655.0, 14327.0, 4281.0, 618.0, 47971.0, 559.0, 28001.0, 15284.0, 27700.0, 7145.0, 5136.0, 3411.0, 62205.0, 28727.0, 4672.0, 7818.0, 26264.0, 3618.0, 355.0, 8621.0, 304372.0, 866.0, 1125.0, 4734.0, 17835.0, 3281.0, 15847.0], \"type\": \"choropleth\"}], \"name\": \"04-30-2020\"}, {\"data\": [{\"coloraxis\": \"coloraxis\", \"geo\": \"geo\", \"hovertemplate\": \"Date=05-01-2020<br>Code=%{location}<br>Confirmed=%{z}<extra></extra>\", \"locationmode\": \"USA-states\", \"locations\": [\"ND\", \"CT\", \"MO\", \"NC\", \"VA\", \"LA\", \"DC\", \"WA\", \"MI\", \"KS\", \"OR\", \"OH\", \"MD\", \"AR\", \"IN\", \"OK\", \"TX\", \"MN\", \"GA\", \"HI\", \"NJ\", \"SC\", \"SD\", \"ME\", \"DE\", \"IA\", \"CO\", \"MS\", \"ID\", \"WI\", \"KY\", \"AK\", \"RI\", \"NV\", \"TN\", \"IL\", \"MT\", \"NE\", \"PA\", \"WY\", \"UT\", \"AZ\", \"NM\", \"CA\", \"AL\", \"FL\", \"WV\", \"NY\", \"MA\", \"NH\", \"VT\"], \"name\": \"\", \"z\": [1107.0, 28764.0, 8067.0, 11070.0, 16902.0, 28711.0, 4658.0, 14637.0, 42356.0, 4634.0, 2579.0, 18743.0, 23472.0, 3337.0, 18630.0, 3748.0, 29692.0, 5730.0, 27489.0, 619.0, 121190.0, 6258.0, 2525.0, 1123.0, 4918.0, 7884.0, 15793.0, 7212.0, 2015.0, 7314.0, 4882.0, 364.0, 8962.0, 5248.0, 11891.0, 56055.0, 453.0, 5008.0, 49579.0, 566.0, 4828.0, 7969.0, 3513.0, 52026.0, 7294.0, 34728.0, 1152.0, 308314.0, 64311.0, 2310.0, 879.0], \"type\": \"choropleth\"}], \"name\": \"05-01-2020\"}, {\"data\": [{\"coloraxis\": \"coloraxis\", \"geo\": \"geo\", \"hovertemplate\": \"Date=05-02-2020<br>Code=%{location}<br>Confirmed=%{z}<extra></extra>\", \"locationmode\": \"USA-states\", \"locations\": [\"UT\", \"IL\", \"TX\", \"NH\", \"NC\", \"MI\", \"TN\", \"NE\", \"WV\", \"CT\", \"ND\", \"MA\", \"IN\", \"CO\", \"RI\", \"AZ\", \"MO\", \"AK\", \"KY\", \"MS\", \"CA\", \"OH\", \"MD\", \"ID\", \"AL\", \"SD\", \"IA\", \"VA\", \"LA\", \"DE\", \"VT\", \"WA\", \"NM\", \"WI\", \"HI\", \"AR\", \"MT\", \"NV\", \"SC\", \"OR\", \"KS\", \"OK\", \"DC\", \"NJ\", \"ME\", \"FL\", \"PA\", \"NY\", \"WY\", \"MN\", \"GA\"], \"name\": \"\", \"z\": [4985.0, 58505.0, 30917.0, 2429.0, 11588.0, 43207.0, 12661.0, 5317.0, 1185.0, 29287.0, 1153.0, 66263.0, 19295.0, 16225.0, 9289.0, 8364.0, 8356.0, 365.0, 4879.0, 7441.0, 53347.0, 19335.0, 24473.0, 2061.0, 7611.0, 2588.0, 8643.0, 17738.0, 29140.0, 5038.0, 886.0, 15003.0, 3732.0, 7660.0, 620.0, 3372.0, 455.0, 5389.0, 6489.0, 2635.0, 4885.0, 3851.0, 4797.0, 123717.0, 1153.0, 35463.0, 50494.0, 312977.0, 579.0, 6232.0, 28331.0], \"type\": \"choropleth\"}], \"name\": \"05-02-2020\"}, {\"data\": [{\"coloraxis\": \"coloraxis\", \"geo\": \"geo\", \"hovertemplate\": \"Date=05-03-2020<br>Code=%{location}<br>Confirmed=%{z}<extra></extra>\", \"locationmode\": \"USA-states\", \"locations\": [\"MO\", \"VT\", \"FL\", \"WI\", \"CT\", \"AZ\", \"WY\", \"DE\", \"IA\", \"ND\", \"AL\", \"NV\", \"NE\", \"MS\", \"NY\", \"OR\", \"TN\", \"CO\", \"KY\", \"PA\", \"AK\", \"SD\", \"HI\", \"ME\", \"NC\", \"TX\", \"DC\", \"NH\", \"NJ\", \"GA\", \"OK\", \"AR\", \"KS\", \"SC\", \"OH\", \"CA\", \"ID\", \"MD\", \"MT\", \"IL\", \"IN\", \"RI\", \"WV\", \"NM\", \"UT\", \"MN\", \"WA\", \"VA\", \"LA\", \"MI\", \"MA\"], \"name\": \"\", \"z\": [8618.0, 897.0, 36078.0, 7964.0, 29287.0, 8640.0, 586.0, 5208.0, 9175.0, 1191.0, 7888.0, 5472.0, 5661.0, 7550.0, 316415.0, 2680.0, 13177.0, 16635.0, 5130.0, 51225.0, 368.0, 2631.0, 620.0, 1185.0, 11770.0, 31998.0, 5016.0, 2518.0, 126744.0, 28665.0, 3972.0, 3437.0, 5156.0, 6626.0, 19914.0, 54903.0, 2061.0, 25462.0, 455.0, 61499.0, 19933.0, 9477.0, 1195.0, 3850.0, 5175.0, 6663.0, 15185.0, 18672.0, 29340.0, 43801.0, 68087.0], \"type\": \"choropleth\"}], \"name\": \"05-03-2020\"}, {\"data\": [{\"coloraxis\": \"coloraxis\", \"geo\": \"geo\", \"hovertemplate\": \"Date=05-04-2020<br>Code=%{location}<br>Confirmed=%{z}<extra></extra>\", \"locationmode\": \"USA-states\", \"locations\": [\"LA\", \"FL\", \"MA\", \"GA\", \"MN\", \"AR\", \"OR\", \"MO\", \"TX\", \"OH\", \"MD\", \"AL\", \"ND\", \"WA\", \"CT\", \"HI\", \"NY\", \"OK\", \"KY\", \"VA\", \"RI\", \"NM\", \"AZ\", \"UT\", \"WV\", \"IL\", \"MT\", \"ID\", \"AK\", \"CA\", \"NJ\", \"NH\", \"NC\", \"ME\", \"DC\", \"KS\", \"MI\", \"SD\", \"SC\", \"WI\", \"IN\", \"DE\", \"VT\", \"TN\", \"NV\", \"CO\", \"MS\", \"IA\", \"NE\", \"WY\", \"PA\"], \"name\": \"\", \"z\": [29673.0, 36897.0, 69087.0, 29451.0, 7234.0, 3491.0, 2759.0, 8946.0, 32783.0, 20474.0, 26408.0, 8112.0, 1225.0, 15462.0, 29973.0, 621.0, 318953.0, 4044.0, 5245.0, 19493.0, 9652.0, 4031.0, 8924.0, 5317.0, 1224.0, 63777.0, 457.0, 2106.0, 370.0, 55884.0, 128269.0, 2588.0, 11971.0, 1205.0, 5170.0, 5383.0, 43990.0, 2668.0, 6757.0, 8236.0, 20507.0, 5288.0, 902.0, 13571.0, 5630.0, 16918.0, 7877.0, 9703.0, 6037.0, 596.0, 52816.0], \"type\": \"choropleth\"}], \"name\": \"05-04-2020\"}, {\"data\": [{\"coloraxis\": \"coloraxis\", \"geo\": \"geo\", \"hovertemplate\": \"Date=05-05-2020<br>Code=%{location}<br>Confirmed=%{z}<extra></extra>\", \"locationmode\": \"USA-states\", \"locations\": [\"FL\", \"GA\", \"CT\", \"DC\", \"ME\", \"NH\", \"NE\", \"NY\", \"OR\", \"SD\", \"NJ\", \"TN\", \"OK\", \"OH\", \"ID\", \"PA\", \"NV\", \"IL\", \"WV\", \"MD\", \"IA\", \"NM\", \"RI\", \"HI\", \"DE\", \"AK\", \"SC\", \"WY\", \"LA\", \"UT\", \"AR\", \"ND\", \"AL\", \"IN\", \"NC\", \"MO\", \"WA\", \"MS\", \"KY\", \"CO\", \"KS\", \"VA\", \"MI\", \"MA\", \"MT\", \"WI\", \"MN\", \"AZ\", \"VT\", \"TX\", \"CA\"], \"name\": \"\", \"z\": [37439.0, 29998.0, 30621.0, 5322.0, 1226.0, 2636.0, 6373.0, 321192.0, 2839.0, 2721.0, 130593.0, 13690.0, 4127.0, 20969.0, 2127.0, 53864.0, 5660.0, 65889.0, 1246.0, 27117.0, 10111.0, 4138.0, 9933.0, 625.0, 5371.0, 371.0, 6841.0, 604.0, 29996.0, 5449.0, 3525.0, 1266.0, 8437.0, 21033.0, 12510.0, 9121.0, 15594.0, 8207.0, 5822.0, 17367.0, 5648.0, 20257.0, 44451.0, 70271.0, 456.0, 8566.0, 7851.0, 9305.0, 907.0, 33912.0, 58456.0], \"type\": \"choropleth\"}], \"name\": \"05-05-2020\"}, {\"data\": [{\"coloraxis\": \"coloraxis\", \"geo\": \"geo\", \"hovertemplate\": \"Date=05-06-2020<br>Code=%{location}<br>Confirmed=%{z}<extra></extra>\", \"locationmode\": \"USA-states\", \"locations\": [\"AL\", \"CA\", \"MO\", \"ND\", \"IN\", \"PA\", \"AZ\", \"CO\", \"WY\", \"LA\", \"NV\", \"OR\", \"MS\", \"ME\", \"NJ\", \"KY\", \"NE\", \"TN\", \"SC\", \"VA\", \"FL\", \"NC\", \"IL\", \"NY\", \"MT\", \"WI\", \"SD\", \"GA\", \"MI\", \"MA\", \"TX\", \"VT\", \"MN\", \"AK\", \"DE\", \"OK\", \"KS\", \"RI\", \"NH\", \"OH\", \"DC\", \"AR\", \"UT\", \"WA\", \"WV\", \"MD\", \"HI\", \"ID\", \"CT\", \"IA\", \"NM\"], \"name\": \"\", \"z\": [8691.0, 60616.0, 9323.0, 1323.0, 21870.0, 54800.0, 9707.0, 17832.0, 631.0, 30399.0, 5741.0, 2916.0, 8424.0, 1254.0, 131890.0, 5934.0, 6689.0, 13938.0, 6936.0, 20257.0, 38002.0, 13053.0, 68232.0, 323978.0, 456.0, 8901.0, 2780.0, 30743.0, 45179.0, 72025.0, 34928.0, 908.0, 8579.0, 372.0, 5778.0, 4202.0, 5993.0, 10205.0, 2741.0, 21576.0, 5461.0, 3611.0, 5595.0, 15905.0, 1242.0, 28163.0, 626.0, 2158.0, 30995.0, 10404.0, 4291.0], \"type\": \"choropleth\"}], \"name\": \"05-06-2020\"}, {\"data\": [{\"coloraxis\": \"coloraxis\", \"geo\": \"geo\", \"hovertemplate\": \"Date=05-07-2020<br>Code=%{location}<br>Confirmed=%{z}<extra></extra>\", \"locationmode\": \"USA-states\", \"locations\": [\"AK\", \"WI\", \"UT\", \"WV\", \"NV\", \"CO\", \"TN\", \"CT\", \"KY\", \"DE\", \"VA\", \"RI\", \"MA\", \"NM\", \"IA\", \"VT\", \"MT\", \"MS\", \"PA\", \"NH\", \"HI\", \"ID\", \"MD\", \"WA\", \"DC\", \"OH\", \"KS\", \"OK\", \"MN\", \"MI\", \"TX\", \"GA\", \"SD\", \"LA\", \"AR\", \"ND\", \"ME\", \"IN\", \"AZ\", \"WY\", \"CA\", \"FL\", \"SC\", \"AL\", \"NY\", \"NJ\", \"NE\", \"IL\", \"MO\", \"NC\", \"OR\"], \"name\": \"\", \"z\": [374.0, 9215.0, 5724.0, 1287.0, 5855.0, 18370.0, 14096.0, 31784.0, 6129.0, 5939.0, 21570.0, 10530.0, 73721.0, 4493.0, 11059.0, 916.0, 456.0, 8686.0, 55956.0, 2843.0, 629.0, 2178.0, 29374.0, 16231.0, 5654.0, 22131.0, 6332.0, 4330.0, 9365.0, 45745.0, 36036.0, 31618.0, 2906.0, 30652.0, 3703.0, 1371.0, 1330.0, 22503.0, 9945.0, 635.0, 62148.0, 38828.0, 7142.0, 9046.0, 327469.0, 133991.0, 7334.0, 70871.0, 9581.0, 13540.0, 2989.0], \"type\": \"choropleth\"}], \"name\": \"05-07-2020\"}, {\"data\": [{\"coloraxis\": \"coloraxis\", \"geo\": \"geo\", \"hovertemplate\": \"Date=05-08-2020<br>Code=%{location}<br>Confirmed=%{z}<extra></extra>\", \"locationmode\": \"USA-states\", \"locations\": [\"NH\", \"ME\", \"CA\", \"UT\", \"AK\", \"NC\", \"MT\", \"SC\", \"KS\", \"RI\", \"VA\", \"NJ\", \"DC\", \"NM\", \"ID\", \"MI\", \"MA\", \"PA\", \"HI\", \"AZ\", \"WY\", \"OH\", \"FL\", \"NE\", \"WA\", \"IL\", \"NY\", \"MD\", \"OR\", \"MO\", \"IN\", \"ND\", \"AR\", \"OK\", \"NV\", \"AL\", \"LA\", \"MN\", \"IA\", \"TN\", \"SD\", \"WI\", \"VT\", \"CO\", \"WV\", \"GA\", \"TX\", \"MS\", \"DE\", \"CT\", \"KY\"], \"name\": \"\", \"z\": [2947.0, 1374.0, 63779.0, 5919.0, 377.0, 14006.0, 458.0, 7367.0, 6667.0, 10779.0, 22342.0, 135840.0, 5899.0, 4673.0, 2178.0, 46386.0, 75333.0, 57371.0, 629.0, 10526.0, 644.0, 23016.0, 39199.0, 7818.0, 16388.0, 73760.0, 330407.0, 30485.0, 3068.0, 9733.0, 23146.0, 1425.0, 3747.0, 4424.0, 5920.0, 9385.0, 30855.0, 10088.0, 11457.0, 14441.0, 3145.0, 9590.0, 919.0, 18827.0, 1323.0, 32181.0, 37246.0, 9090.0, 6111.0, 32411.0, 6288.0], \"type\": \"choropleth\"}], \"name\": \"05-08-2020\"}, {\"data\": [{\"coloraxis\": \"coloraxis\", \"geo\": \"geo\", \"hovertemplate\": \"Date=05-09-2020<br>Code=%{location}<br>Confirmed=%{z}<extra></extra>\", \"locationmode\": \"USA-states\", \"locations\": [\"MI\", \"AL\", \"MD\", \"GA\", \"LA\", \"ME\", \"DC\", \"WA\", \"KS\", \"OH\", \"OK\", \"MN\", \"ID\", \"WI\", \"AR\", \"MO\", \"VT\", \"DE\", \"IA\", \"RI\", \"MS\", \"VA\", \"AK\", \"KY\", \"NV\", \"PA\", \"MT\", \"AZ\", \"WY\", \"CA\", \"FL\", \"SC\", \"NJ\", \"NY\", \"OR\", \"HI\", \"SD\", \"NM\", \"CT\", \"CO\", \"NE\", \"NC\", \"NH\", \"TN\", \"TX\", \"IL\", \"ND\", \"WV\", \"MA\", \"UT\", \"IN\"], \"name\": \"\", \"z\": [46815.0, 9668.0, 31534.0, 32588.0, 31417.0, 1408.0, 6102.0, 16674.0, 6829.0, 23697.0, 4490.0, 10790.0, 2205.0, 9939.0, 3747.0, 9911.0, 921.0, 6277.0, 11671.0, 10989.0, 9378.0, 23196.0, 378.0, 6440.0, 6171.0, 58560.0, 458.0, 10960.0, 653.0, 66558.0, 40001.0, 7531.0, 137397.0, 333122.0, 3160.0, 631.0, 3393.0, 4778.0, 32984.0, 19375.0, 8093.0, 14478.0, 3011.0, 14768.0, 38394.0, 76085.0, 1464.0, 1323.0, 76743.0, 6103.0, 23732.0], \"type\": \"choropleth\"}], \"name\": \"05-09-2020\"}, {\"data\": [{\"coloraxis\": \"coloraxis\", \"geo\": \"geo\", \"hovertemplate\": \"Date=05-10-2020<br>Code=%{location}<br>Confirmed=%{z}<extra></extra>\", \"locationmode\": \"USA-states\", \"locations\": [\"NH\", \"SD\", \"TN\", \"PA\", \"KY\", \"SC\", \"WY\", \"AR\", \"NE\", \"NV\", \"ID\", \"CT\", \"DC\", \"CA\", \"MT\", \"AK\", \"WV\", \"VA\", \"NM\", \"RI\", \"NJ\", \"UT\", \"NC\", \"WI\", \"IL\", \"VT\", \"DE\", \"IA\", \"MS\", \"FL\", \"AZ\", \"TX\", \"ME\", \"MN\", \"ND\", \"OH\", \"MI\", \"IN\", \"MD\", \"LA\", \"HI\", \"OR\", \"MA\", \"CO\", \"NY\", \"GA\", \"MO\", \"KS\", \"OK\", \"WA\", \"AL\"], \"name\": \"\", \"z\": [3071.0, 3517.0, 14985.0, 59939.0, 6440.0, 7653.0, 662.0, 4012.0, 8171.0, 6120.0, 2230.0, 33554.0, 6272.0, 67600.0, 458.0, 379.0, 1360.0, 24081.0, 4863.0, 11274.0, 138754.0, 6251.0, 14938.0, 10219.0, 77741.0, 927.0, 6277.0, 11959.0, 9501.0, 40596.0, 11119.0, 39258.0, 1436.0, 11271.0, 1491.0, 24081.0, 47182.0, 24126.0, 32587.0, 31600.0, 632.0, 3228.0, 77793.0, 19703.0, 335395.0, 33580.0, 10068.0, 6951.0, 4589.0, 16891.0, 9889.0], \"type\": \"choropleth\"}], \"name\": \"05-10-2020\"}, {\"data\": [{\"coloraxis\": \"coloraxis\", \"geo\": \"geo\", \"hovertemplate\": \"Date=05-11-2020<br>Code=%{location}<br>Confirmed=%{z}<extra></extra>\", \"locationmode\": \"USA-states\", \"locations\": [\"WI\", \"MN\", \"MA\", \"UT\", \"WY\", \"RI\", \"NM\", \"VA\", \"LA\", \"WV\", \"CO\", \"AK\", \"MT\", \"CA\", \"TX\", \"OK\", \"IA\", \"IL\", \"MO\", \"NE\", \"AR\", \"NY\", \"OR\", \"AZ\", \"KY\", \"IN\", \"PA\", \"NV\", \"TN\", \"ND\", \"HI\", \"AL\", \"MD\", \"MS\", \"CT\", \"FL\", \"DE\", \"WA\", \"VT\", \"OH\", \"SC\", \"SD\", \"GA\", \"ID\", \"KS\", \"DC\", \"NC\", \"NJ\", \"MI\", \"ME\", \"NH\"], \"name\": \"\", \"z\": [10418.0, 11799.0, 78462.0, 6362.0, 669.0, 11450.0, 5069.0, 25070.0, 31815.0, 1366.0, 19879.0, 379.0, 459.0, 69329.0, 40555.0, 4613.0, 12373.0, 79007.0, 10157.0, 8407.0, 4043.0, 337055.0, 3286.0, 11383.0, 6677.0, 24627.0, 60459.0, 6152.0, 15544.0, 1518.0, 634.0, 10164.0, 33373.0, 9674.0, 33765.0, 40982.0, 6565.0, 17122.0, 926.0, 24777.0, 7792.0, 3614.0, 34002.0, 2260.0, 7159.0, 6389.0, 15274.0, 140206.0, 47552.0, 1462.0, 3160.0], \"type\": \"choropleth\"}], \"name\": \"05-11-2020\"}, {\"data\": [{\"coloraxis\": \"coloraxis\", \"geo\": \"geo\", \"hovertemplate\": \"Date=05-12-2020<br>Code=%{location}<br>Confirmed=%{z}<extra></extra>\", \"locationmode\": \"USA-states\", \"locations\": [\"NY\", \"OR\", \"IA\", \"VA\", \"IN\", \"MI\", \"GA\", \"ND\", \"WV\", \"SC\", \"AK\", \"CT\", \"ME\", \"AL\", \"KY\", \"MD\", \"AZ\", \"PA\", \"NM\", \"NH\", \"CA\", \"SD\", \"WI\", \"NC\", \"FL\", \"HI\", \"WY\", \"DC\", \"VT\", \"NE\", \"AR\", \"UT\", \"NJ\", \"RI\", \"MO\", \"DE\", \"WA\", \"IL\", \"KS\", \"NV\", \"ID\", \"TN\", \"CO\", \"OK\", \"LA\", \"OH\", \"TX\", \"MT\", \"MN\", \"MS\", \"MA\"], \"name\": \"\", \"z\": [338485.0, 3358.0, 12912.0, 25800.0, 25127.0, 48021.0, 34924.0, 1571.0, 1378.0, 7927.0, 383.0, 34333.0, 1477.0, 10464.0, 6853.0, 34061.0, 11736.0, 61310.0, 5212.0, 3239.0, 70978.0, 3663.0, 10611.0, 15622.0, 41923.0, 635.0, 675.0, 6485.0, 927.0, 8532.0, 4164.0, 6432.0, 140917.0, 11614.0, 10269.0, 6741.0, 17330.0, 83021.0, 7240.0, 6313.0, 2293.0, 16111.0, 20157.0, 4732.0, 32050.0, 25250.0, 41432.0, 461.0, 12494.0, 9908.0, 79332.0], \"type\": \"choropleth\"}], \"name\": \"05-12-2020\"}, {\"data\": [{\"coloraxis\": \"coloraxis\", \"geo\": \"geo\", \"hovertemplate\": \"Date=05-13-2020<br>Code=%{location}<br>Confirmed=%{z}<extra></extra>\", \"locationmode\": \"USA-states\", \"locations\": [\"SD\", \"MO\", \"LA\", \"PA\", \"AR\", \"FL\", \"TX\", \"NM\", \"KS\", \"DE\", \"NY\", \"RI\", \"MI\", \"UT\", \"GA\", \"NC\", \"MN\", \"DC\", \"WY\", \"HI\", \"TN\", \"WI\", \"CO\", \"NH\", \"CA\", \"NJ\", \"WA\", \"NE\", \"AZ\", \"ID\", \"MD\", \"VT\", \"AL\", \"KY\", \"AK\", \"MA\", \"ME\", \"OH\", \"ND\", \"NV\", \"IL\", \"MT\", \"CT\", \"SC\", \"OR\", \"OK\", \"VA\", \"IA\", \"WV\", \"IN\", \"MS\"], \"name\": \"\", \"z\": [3732.0, 10404.0, 32662.0, 62101.0, 4236.0, 42402.0, 43020.0, 5364.0, 7518.0, 6952.0, 340661.0, 11835.0, 48391.0, 6620.0, 35427.0, 16352.0, 12917.0, 6584.0, 688.0, 638.0, 16370.0, 10902.0, 20475.0, 3299.0, 72798.0, 141560.0, 17512.0, 8912.0, 12216.0, 2293.0, 34812.0, 929.0, 10700.0, 6853.0, 383.0, 80497.0, 1515.0, 25721.0, 1647.0, 6476.0, 84694.0, 462.0, 34855.0, 8030.0, 3416.0, 4858.0, 26746.0, 13289.0, 1398.0, 25473.0, 10090.0], \"type\": \"choropleth\"}], \"name\": \"05-13-2020\"}, {\"data\": [{\"coloraxis\": \"coloraxis\", \"geo\": \"geo\", \"hovertemplate\": \"Date=05-14-2020<br>Code=%{location}<br>Confirmed=%{z}<extra></extra>\", \"locationmode\": \"USA-states\", \"locations\": [\"IL\", \"PA\", \"IA\", \"DE\", \"MS\", \"ID\", \"NV\", \"VT\", \"NE\", \"TN\", \"GA\", \"AR\", \"KS\", \"KY\", \"AZ\", \"DC\", \"CT\", \"NH\", \"SD\", \"CA\", \"VA\", \"ND\", \"WV\", \"AK\", \"MD\", \"ME\", \"WA\", \"IN\", \"MA\", \"MT\", \"OK\", \"LA\", \"MI\", \"MN\", \"CO\", \"NC\", \"OH\", \"OR\", \"AL\", \"RI\", \"SC\", \"TX\", \"NY\", \"WY\", \"NM\", \"WI\", \"MO\", \"FL\", \"UT\", \"HI\", \"NJ\"], \"name\": \"\", \"z\": [87937.0, 63105.0, 13675.0, 7223.0, 10483.0, 2351.0, 6504.0, 932.0, 9260.0, 16699.0, 35977.0, 4366.0, 7705.0, 7225.0, 12674.0, 6736.0, 35464.0, 3382.0, 3792.0, 74871.0, 27813.0, 1712.0, 1427.0, 383.0, 35903.0, 1565.0, 17773.0, 26053.0, 82182.0, 462.0, 4963.0, 33489.0, 49582.0, 13435.0, 20838.0, 16968.0, 26357.0, 3479.0, 11101.0, 12016.0, 8189.0, 44480.0, 343051.0, 701.0, 5503.0, 11275.0, 10594.0, 43210.0, 6749.0, 637.0, 142704.0], \"type\": \"choropleth\"}], \"name\": \"05-14-2020\"}, {\"data\": [{\"coloraxis\": \"coloraxis\", \"geo\": \"geo\", \"hovertemplate\": \"Date=05-15-2020<br>Code=%{location}<br>Confirmed=%{z}<extra></extra>\", \"locationmode\": \"USA-states\", \"locations\": [\"CO\", \"NH\", \"GA\", \"MO\", \"SD\", \"WY\", \"OK\", \"UT\", \"LA\", \"TX\", \"OH\", \"MN\", \"FL\", \"MA\", \"OR\", \"IN\", \"AR\", \"KY\", \"ND\", \"NY\", \"HI\", \"AL\", \"MD\", \"ID\", \"TN\", \"ME\", \"WA\", \"NE\", \"DE\", \"NV\", \"PA\", \"AZ\", \"VA\", \"KS\", \"VT\", \"IA\", \"WV\", \"AK\", \"DC\", \"MT\", \"NJ\", \"IL\", \"NM\", \"MI\", \"CT\", \"MS\", \"CA\", \"WI\", \"SC\", \"NC\", \"RI\"], \"name\": \"\", \"z\": [21232.0, 3453.0, 36772.0, 10766.0, 3887.0, 716.0, 5087.0, 6913.0, 33837.0, 45721.0, 26954.0, 14240.0, 44138.0, 83421.0, 3541.0, 26656.0, 4463.0, 7444.0, 1761.0, 345813.0, 638.0, 11373.0, 36986.0, 2351.0, 16960.0, 1603.0, 17951.0, 9610.0, 7373.0, 6733.0, 64136.0, 13169.0, 28672.0, 7886.0, 933.0, 14049.0, 1447.0, 388.0, 6871.0, 466.0, 143984.0, 90369.0, 5662.0, 50079.0, 36085.0, 10801.0, 76693.0, 11685.0, 8407.0, 17494.0, 12219.0], \"type\": \"choropleth\"}], \"name\": \"05-15-2020\"}, {\"data\": [{\"coloraxis\": \"coloraxis\", \"geo\": \"geo\", \"hovertemplate\": \"Date=05-16-2020<br>Code=%{location}<br>Confirmed=%{z}<extra></extra>\", \"locationmode\": \"USA-states\", \"locations\": [\"ND\", \"AK\", \"AL\", \"IA\", \"NY\", \"NE\", \"WY\", \"MO\", \"MD\", \"NH\", \"RI\", \"NC\", \"NM\", \"NJ\", \"TX\", \"AR\", \"VA\", \"WI\", \"IN\", \"MA\", \"OR\", \"CA\", \"FL\", \"IL\", \"HI\", \"SD\", \"ME\", \"AZ\", \"LA\", \"OK\", \"MI\", \"KY\", \"DE\", \"PA\", \"MN\", \"OH\", \"CO\", \"DC\", \"MT\", \"CT\", \"UT\", \"NV\", \"MS\", \"TN\", \"WA\", \"SC\", \"VT\", \"KS\", \"WV\", \"GA\", \"ID\"], \"name\": \"\", \"z\": [1848.0, 388.0, 11674.0, 14328.0, 348232.0, 10220.0, 741.0, 10959.0, 37968.0, 3556.0, 12434.0, 18130.0, 5847.0, 145089.0, 47452.0, 4578.0, 29683.0, 12187.0, 27280.0, 84933.0, 3612.0, 78725.0, 44811.0, 92457.0, 639.0, 3959.0, 1648.0, 13666.0, 34117.0, 5237.0, 50538.0, 7688.0, 7547.0, 65185.0, 14969.0, 27474.0, 21633.0, 7042.0, 468.0, 36703.0, 7068.0, 6813.0, 11123.0, 17263.0, 18288.0, 8661.0, 934.0, 7939.0, 1470.0, 37212.0, 2419.0], \"type\": \"choropleth\"}], \"name\": \"05-16-2020\"}, {\"data\": [{\"coloraxis\": \"coloraxis\", \"geo\": \"geo\", \"hovertemplate\": \"Date=05-17-2020<br>Code=%{location}<br>Confirmed=%{z}<extra></extra>\", \"locationmode\": \"USA-states\", \"locations\": [\"MT\", \"SC\", \"MI\", \"NH\", \"NY\", \"WV\", \"UT\", \"GA\", \"NM\", \"MN\", \"FL\", \"CO\", \"VA\", \"ME\", \"MA\", \"MD\", \"AL\", \"AK\", \"WA\", \"ND\", \"RI\", \"OR\", \"CT\", \"WY\", \"SD\", \"NC\", \"NJ\", \"OH\", \"LA\", \"OK\", \"IN\", \"DC\", \"MO\", \"TX\", \"HI\", \"VT\", \"KS\", \"IL\", \"TN\", \"NV\", \"PA\", \"CA\", \"AZ\", \"AR\", \"MS\", \"WI\", \"NE\", \"KY\", \"ID\", \"DE\", \"IA\"], \"name\": \"\", \"z\": [468.0, 8816.0, 51142.0, 3596.0, 350121.0, 1492.0, 7238.0, 37579.0, 5938.0, 15668.0, 45588.0, 21938.0, 30388.0, 1687.0, 86010.0, 38804.0, 11771.0, 388.0, 18433.0, 1900.0, 12674.0, 3623.0, 37419.0, 754.0, 3987.0, 18673.0, 146504.0, 27923.0, 34432.0, 5310.0, 27778.0, 7123.0, 11108.0, 48396.0, 640.0, 940.0, 7953.0, 94191.0, 17359.0, 6949.0, 65700.0, 80166.0, 13945.0, 4759.0, 11296.0, 12543.0, 10177.0, 7688.0, 2419.0, 7670.0, 14651.0], \"type\": \"choropleth\"}], \"name\": \"05-17-2020\"}, {\"data\": [{\"coloraxis\": \"coloraxis\", \"geo\": \"geo\", \"hovertemplate\": \"Date=05-18-2020<br>Code=%{location}<br>Confirmed=%{z}<extra></extra>\", \"locationmode\": \"USA-states\", \"locations\": [\"PA\", \"TN\", \"OK\", \"MA\", \"MT\", \"LA\", \"AR\", \"WA\", \"NJ\", \"OH\", \"SD\", \"AL\", \"KS\", \"IA\", \"CT\", \"RI\", \"NE\", \"ND\", \"ME\", \"ID\", \"WY\", \"CA\", \"DE\", \"VA\", \"MO\", \"SC\", \"TX\", \"AZ\", \"GA\", \"WI\", \"NH\", \"FL\", \"IN\", \"DC\", \"MS\", \"MD\", \"NV\", \"NM\", \"UT\", \"NY\", \"CO\", \"KY\", \"WV\", \"AK\", \"IL\", \"MN\", \"OR\", \"VT\", \"MI\", \"NC\", \"HI\"], \"name\": \"\", \"z\": [66669.0, 18011.0, 5398.0, 87052.0, 470.0, 34709.0, 4813.0, 18611.0, 148240.0, 28454.0, 4027.0, 12086.0, 8303.0, 14955.0, 38116.0, 12795.0, 10625.0, 1931.0, 1713.0, 2455.0, 766.0, 81457.0, 7869.0, 31140.0, 11242.0, 8942.0, 49177.0, 14208.0, 38283.0, 12687.0, 3652.0, 46442.0, 28255.0, 7270.0, 11432.0, 39762.0, 7061.0, 6096.0, 7384.0, 351371.0, 22202.0, 7935.0, 1502.0, 388.0, 96485.0, 16372.0, 3687.0, 940.0, 51915.0, 19207.0, 640.0], \"type\": \"choropleth\"}], \"name\": \"05-18-2020\"}, {\"data\": [{\"coloraxis\": \"coloraxis\", \"geo\": \"geo\", \"hovertemplate\": \"Date=05-19-2020<br>Code=%{location}<br>Confirmed=%{z}<extra></extra>\", \"locationmode\": \"USA-states\", \"locations\": [\"CO\", \"KY\", \"WA\", \"MO\", \"VT\", \"TX\", \"GA\", \"DC\", \"UT\", \"WV\", \"NV\", \"MS\", \"MN\", \"CA\", \"MT\", \"DE\", \"ND\", \"OK\", \"PA\", \"LA\", \"OH\", \"AZ\", \"CT\", \"ME\", \"MI\", \"MA\", \"SC\", \"KS\", \"NJ\", \"IA\", \"NE\", \"RI\", \"OR\", \"NY\", \"HI\", \"TN\", \"AL\", \"WY\", \"ID\", \"IL\", \"NH\", \"NM\", \"MD\", \"VA\", \"AR\", \"IN\", \"FL\", \"WI\", \"AK\", \"NC\", \"SD\"], \"name\": \"\", \"z\": [22482.0, 8069.0, 18811.0, 11393.0, 944.0, 50552.0, 38855.0, 7434.0, 7518.0, 1502.0, 7096.0, 11704.0, 17029.0, 83752.0, 471.0, 8037.0, 1994.0, 5489.0, 67311.0, 35038.0, 28952.0, 14576.0, 38430.0, 1741.0, 52350.0, 87925.0, 9056.0, 8353.0, 149356.0, 15296.0, 10854.0, 12951.0, 3726.0, 352845.0, 641.0, 18412.0, 12376.0, 776.0, 2455.0, 98030.0, 3721.0, 6192.0, 41546.0, 32145.0, 4923.0, 28705.0, 46944.0, 12885.0, 400.0, 19239.0, 4085.0], \"type\": \"choropleth\"}], \"name\": \"05-19-2020\"}, {\"data\": [{\"coloraxis\": \"coloraxis\", \"geo\": \"geo\", \"hovertemplate\": \"Date=05-20-2020<br>Code=%{location}<br>Confirmed=%{z}<extra></extra>\", \"locationmode\": \"USA-states\", \"locations\": [\"CA\", \"ID\", \"MN\", \"AL\", \"IL\", \"OR\", \"MT\", \"MS\", \"NV\", \"ME\", \"AK\", \"NC\", \"HI\", \"KS\", \"UT\", \"WV\", \"NH\", \"IN\", \"DC\", \"GA\", \"NM\", \"TX\", \"VA\", \"WI\", \"CT\", \"NY\", \"DE\", \"RI\", \"MO\", \"KY\", \"FL\", \"LA\", \"CO\", \"SC\", \"MD\", \"MI\", \"WY\", \"NE\", \"MA\", \"VT\", \"NJ\", \"AZ\", \"ND\", \"PA\", \"AR\", \"OK\", \"OH\", \"TN\", \"IA\", \"SD\", \"WA\"], \"name\": \"\", \"z\": [85997.0, 2506.0, 17670.0, 13052.0, 100418.0, 3801.0, 478.0, 11967.0, 7388.0, 1819.0, 401.0, 20262.0, 643.0, 8507.0, 7710.0, 1567.0, 3868.0, 29274.0, 7551.0, 39801.0, 6317.0, 51673.0, 32908.0, 13413.0, 39017.0, 354370.0, 8194.0, 13356.0, 11528.0, 8167.0, 47471.0, 35316.0, 22797.0, 9175.0, 42323.0, 53009.0, 787.0, 11122.0, 88970.0, 944.0, 150776.0, 14906.0, 2095.0, 68126.0, 5003.0, 5532.0, 29436.0, 18412.0, 15620.0, 4177.0, 18971.0], \"type\": \"choropleth\"}], \"name\": \"05-20-2020\"}, {\"data\": [{\"coloraxis\": \"coloraxis\", \"geo\": \"geo\", \"hovertemplate\": \"Date=05-21-2020<br>Code=%{location}<br>Confirmed=%{z}<extra></extra>\", \"locationmode\": \"USA-states\", \"locations\": [\"SD\", \"FL\", \"CT\", \"CO\", \"TX\", \"VA\", \"SC\", \"DC\", \"PA\", \"OK\", \"OR\", \"WV\", \"WY\", \"WI\", \"AR\", \"AZ\", \"AL\", \"RI\", \"UT\", \"CA\", \"WA\", \"VT\", \"TN\", \"AK\", \"DE\", \"GA\", \"KY\", \"NY\", \"MI\", \"HI\", \"NC\", \"MT\", \"ME\", \"NE\", \"IA\", \"OH\", \"MN\", \"LA\", \"NH\", \"IL\", \"ND\", \"KS\", \"IN\", \"NM\", \"NV\", \"MA\", \"MD\", \"MS\", \"ID\", \"NJ\", \"MO\"], \"name\": \"\", \"z\": [4177.0, 48675.0, 39208.0, 23191.0, 53053.0, 34137.0, 9381.0, 7788.0, 69252.0, 5680.0, 3817.0, 1593.0, 801.0, 13885.0, 5458.0, 15348.0, 13288.0, 13571.0, 7874.0, 88031.0, 19117.0, 950.0, 18961.0, 401.0, 8386.0, 40663.0, 8286.0, 356458.0, 53510.0, 647.0, 20512.0, 479.0, 1877.0, 11427.0, 16170.0, 30167.0, 18200.0, 36504.0, 3935.0, 102688.0, 2229.0, 8625.0, 29936.0, 6472.0, 7400.0, 90084.0, 43531.0, 12222.0, 2506.0, 151586.0, 11689.0], \"type\": \"choropleth\"}], \"name\": \"05-21-2020\"}, {\"data\": [{\"coloraxis\": \"coloraxis\", \"geo\": \"geo\", \"hovertemplate\": \"Date=05-22-2020<br>Code=%{location}<br>Confirmed=%{z}<extra></extra>\", \"locationmode\": \"USA-states\", \"locations\": [\"IL\", \"DC\", \"NM\", \"ID\", \"OH\", \"AL\", \"VT\", \"KS\", \"MN\", \"AR\", \"IN\", \"CT\", \"NJ\", \"MO\", \"LA\", \"ND\", \"DE\", \"WV\", \"ME\", \"CA\", \"MT\", \"FL\", \"KY\", \"WI\", \"NE\", \"TX\", \"WY\", \"IA\", \"MI\", \"NY\", \"NV\", \"SC\", \"AZ\", \"PA\", \"CO\", \"OR\", \"NH\", \"MD\", \"SD\", \"UT\", \"VA\", \"NC\", \"MA\", \"WA\", \"AK\", \"HI\", \"GA\", \"OK\", \"TN\", \"MS\", \"RI\"], \"name\": \"\", \"z\": [105444.0, 7893.0, 6625.0, 2595.0, 30794.0, 13670.0, 952.0, 8909.0, 19005.0, 5612.0, 30409.0, 39640.0, 152579.0, 11836.0, 36925.0, 2317.0, 8529.0, 1705.0, 1948.0, 90252.0, 479.0, 49451.0, 8426.0, 14396.0, 11662.0, 53539.0, 803.0, 16492.0, 53913.0, 358154.0, 7525.0, 9638.0, 15624.0, 70211.0, 23487.0, 3864.0, 4014.0, 44424.0, 4356.0, 8057.0, 34950.0, 22110.0, 90889.0, 19265.0, 403.0, 642.0, 41482.0, 5849.0, 19394.0, 12625.0, 13736.0], \"type\": \"choropleth\"}], \"name\": \"05-22-2020\"}, {\"data\": [{\"coloraxis\": \"coloraxis\", \"geo\": \"geo\", \"hovertemplate\": \"Date=05-23-2020<br>Code=%{location}<br>Confirmed=%{z}<extra></extra>\", \"locationmode\": \"USA-states\", \"locations\": [\"MT\", \"RI\", \"ND\", \"MN\", \"IN\", \"DE\", \"MO\", \"NV\", \"WA\", \"NY\", \"IA\", \"OR\", \"FL\", \"NC\", \"TX\", \"UT\", \"WI\", \"NM\", \"AL\", \"LA\", \"CA\", \"HI\", \"KY\", \"GA\", \"OK\", \"CT\", \"AK\", \"AZ\", \"WV\", \"ME\", \"NH\", \"MD\", \"IL\", \"WY\", \"SD\", \"DC\", \"KS\", \"SC\", \"NE\", \"VA\", \"PA\", \"AR\", \"CO\", \"MI\", \"MS\", \"MA\", \"VT\", \"TN\", \"OH\", \"NJ\", \"ID\"], \"name\": \"\", \"z\": [479.0, 13952.0, 2365.0, 19845.0, 30901.0, 8529.0, 11966.0, 7526.0, 19265.0, 359926.0, 16898.0, 3888.0, 50127.0, 22864.0, 54776.0, 8260.0, 14877.0, 6625.0, 14117.0, 36925.0, 92539.0, 643.0, 8571.0, 42242.0, 5960.0, 40022.0, 407.0, 16053.0, 1705.0, 2013.0, 4089.0, 45495.0, 107796.0, 813.0, 4464.0, 7966.0, 8946.0, 9895.0, 11963.0, 35749.0, 71009.0, 5775.0, 23964.0, 54365.0, 13005.0, 91662.0, 954.0, 19785.0, 31408.0, 153140.0, 2595.0], \"type\": \"choropleth\"}], \"name\": \"05-23-2020\"}, {\"data\": [{\"coloraxis\": \"coloraxis\", \"geo\": \"geo\", \"hovertemplate\": \"Date=05-24-2020<br>Code=%{location}<br>Confirmed=%{z}<extra></extra>\", \"locationmode\": \"USA-states\", \"locations\": [\"SD\", \"NC\", \"OR\", \"PA\", \"MA\", \"NH\", \"WI\", \"IA\", \"HI\", \"MD\", \"WY\", \"WA\", \"VA\", \"ID\", \"MO\", \"NY\", \"NV\", \"NJ\", \"DE\", \"GA\", \"SC\", \"AZ\", \"UT\", \"AR\", \"OH\", \"MT\", \"RI\", \"NE\", \"KS\", \"IL\", \"FL\", \"TX\", \"ME\", \"IN\", \"LA\", \"WV\", \"ND\", \"TN\", \"AK\", \"OK\", \"CO\", \"MI\", \"MS\", \"VT\", \"MN\", \"NM\", \"CT\", \"DC\", \"CA\", \"AL\", \"KY\"], \"name\": \"\", \"z\": [4563.0, 23365.0, 3927.0, 71563.0, 92675.0, 4149.0, 15277.0, 17251.0, 643.0, 46313.0, 838.0, 19828.0, 36244.0, 2626.0, 12149.0, 361515.0, 7881.0, 154154.0, 8809.0, 42902.0, 10096.0, 16377.0, 8392.0, 5922.0, 31911.0, 479.0, 14065.0, 12134.0, 9004.0, 110304.0, 50867.0, 55861.0, 2055.0, 31376.0, 37169.0, 1759.0, 2418.0, 20111.0, 407.0, 6037.0, 24174.0, 54679.0, 13260.0, 956.0, 20573.0, 6943.0, 40468.0, 8110.0, 94020.0, 14478.0, 8571.0], \"type\": \"choropleth\"}], \"name\": \"05-24-2020\"}, {\"data\": [{\"coloraxis\": \"coloraxis\", \"geo\": \"geo\", \"hovertemplate\": \"Date=05-25-2020<br>Code=%{location}<br>Confirmed=%{z}<extra></extra>\", \"locationmode\": \"USA-states\", \"locations\": [\"VA\", \"NY\", \"KY\", \"DE\", \"HI\", \"AZ\", \"VT\", \"CA\", \"UT\", \"PA\", \"MS\", \"MT\", \"KS\", \"LA\", \"NJ\", \"MA\", \"RI\", \"SD\", \"ND\", \"MI\", \"WI\", \"CO\", \"AK\", \"AR\", \"OH\", \"NE\", \"IL\", \"ME\", \"WV\", \"OK\", \"DC\", \"TN\", \"IN\", \"FL\", \"AL\", \"GA\", \"NV\", \"MO\", \"WA\", \"IA\", \"OR\", \"ID\", \"NC\", \"NH\", \"CT\", \"TX\", \"WY\", \"MN\", \"MD\", \"SC\", \"NM\"], \"name\": \"\", \"z\": [37727.0, 362764.0, 8571.0, 8965.0, 643.0, 16575.0, 962.0, 96400.0, 8521.0, 71925.0, 13458.0, 479.0, 9125.0, 37809.0, 155092.0, 93271.0, 14065.0, 4586.0, 2457.0, 54881.0, 15584.0, 24256.0, 408.0, 6029.0, 32477.0, 12362.0, 112017.0, 2074.0, 1774.0, 6090.0, 8225.0, 20535.0, 31715.0, 51746.0, 14986.0, 43400.0, 7956.0, 12476.0, 20065.0, 17557.0, 3949.0, 2626.0, 24057.0, 4197.0, 40873.0, 56409.0, 843.0, 21315.0, 47152.0, 10178.0, 7026.0], \"type\": \"choropleth\"}], \"name\": \"05-25-2020\"}, {\"data\": [{\"coloraxis\": \"coloraxis\", \"geo\": \"geo\", \"hovertemplate\": \"Date=05-26-2020<br>Code=%{location}<br>Confirmed=%{z}<extra></extra>\", \"locationmode\": \"USA-states\", \"locations\": [\"SC\", \"SD\", \"KS\", \"CT\", \"NH\", \"ID\", \"PA\", \"NV\", \"IL\", \"DE\", \"IA\", \"NC\", \"TX\", \"IN\", \"NM\", \"DC\", \"UT\", \"VA\", \"MT\", \"RI\", \"ND\", \"TN\", \"NE\", \"CA\", \"CO\", \"NJ\", \"MS\", \"MI\", \"MO\", \"MA\", \"WA\", \"VT\", \"AK\", \"OK\", \"AR\", \"OR\", \"NY\", \"KY\", \"MD\", \"HI\", \"WY\", \"GA\", \"OH\", \"MN\", \"FL\", \"AZ\", \"ME\", \"LA\", \"WV\", \"AL\", \"WI\"], \"name\": \"\", \"z\": [10416.0, 4653.0, 9199.0, 41303.0, 4231.0, 2626.0, 72778.0, 8057.0, 113195.0, 9066.0, 17703.0, 24455.0, 57230.0, 32078.0, 7130.0, 8334.0, 8620.0, 39342.0, 479.0, 14210.0, 2422.0, 20895.0, 12619.0, 99387.0, 24552.0, 155764.0, 13731.0, 55104.0, 12579.0, 93693.0, 20181.0, 967.0, 410.0, 6138.0, 6180.0, 3967.0, 363836.0, 8951.0, 47687.0, 643.0, 850.0, 43983.0, 33006.0, 21960.0, 52255.0, 16864.0, 2109.0, 38054.0, 1774.0, 15650.0, 15863.0], \"type\": \"choropleth\"}], \"name\": \"05-26-2020\"}, {\"data\": [{\"coloraxis\": \"coloraxis\", \"geo\": \"geo\", \"hovertemplate\": \"Date=05-27-2020<br>Code=%{location}<br>Confirmed=%{z}<extra></extra>\", \"locationmode\": \"USA-states\", \"locations\": [\"AR\", \"DE\", \"CO\", \"AK\", \"UT\", \"TN\", \"OH\", \"WI\", \"HI\", \"VA\", \"MO\", \"MN\", \"IN\", \"NM\", \"NC\", \"AL\", \"LA\", \"NV\", \"NY\", \"RI\", \"IA\", \"OR\", \"MI\", \"ND\", \"WA\", \"FL\", \"TX\", \"NE\", \"NH\", \"MD\", \"MS\", \"PA\", \"KS\", \"SC\", \"MA\", \"VT\", \"SD\", \"AZ\", \"KY\", \"CT\", \"MT\", \"ID\", \"WY\", \"IL\", \"CA\", \"ME\", \"GA\", \"WV\", \"OK\", \"NJ\", \"DC\"], \"name\": \"\", \"z\": [6277.0, 9096.0, 24754.0, 411.0, 8706.0, 21285.0, 33439.0, 16462.0, 644.0, 40249.0, 12816.0, 22464.0, 32437.0, 7252.0, 24916.0, 16032.0, 38497.0, 8150.0, 364965.0, 14353.0, 18369.0, 4038.0, 55608.0, 2439.0, 20406.0, 52634.0, 58542.0, 12984.0, 4286.0, 48423.0, 14044.0, 73557.0, 9291.0, 10623.0, 94220.0, 971.0, 4710.0, 17318.0, 9077.0, 41288.0, 481.0, 2699.0, 860.0, 114306.0, 101050.0, 2137.0, 44638.0, 1899.0, 6229.0, 156628.0, 8406.0], \"type\": \"choropleth\"}], \"name\": \"05-27-2020\"}, {\"data\": [{\"coloraxis\": \"coloraxis\", \"geo\": \"geo\", \"hovertemplate\": \"Date=05-28-2020<br>Code=%{location}<br>Confirmed=%{z}<extra></extra>\", \"locationmode\": \"USA-states\", \"locations\": [\"SC\", \"ID\", \"WY\", \"NM\", \"LA\", \"MD\", \"MN\", \"AL\", \"GA\", \"IN\", \"IL\", \"NJ\", \"ME\", \"AK\", \"WV\", \"DC\", \"TN\", \"CO\", \"OK\", \"RI\", \"WI\", \"CT\", \"SD\", \"ND\", \"MA\", \"NE\", \"MI\", \"NH\", \"OH\", \"TX\", \"FL\", \"NV\", \"AR\", \"NY\", \"CA\", \"WA\", \"DE\", \"MS\", \"NC\", \"IA\", \"AZ\", \"KS\", \"VT\", \"MO\", \"MT\", \"HI\", \"OR\", \"UT\", \"VA\", \"KY\", \"PA\"], \"name\": \"\", \"z\": [10788.0, 2770.0, 876.0, 7364.0, 38802.0, 49709.0, 22947.0, 16530.0, 45266.0, 33068.0, 115833.0, 157185.0, 2189.0, 424.0, 1935.0, 8492.0, 21679.0, 25107.0, 6273.0, 14494.0, 16974.0, 41559.0, 4793.0, 2481.0, 94895.0, 13249.0, 56014.0, 4389.0, 33915.0, 60395.0, 53285.0, 8248.0, 6538.0, 366733.0, 103813.0, 20764.0, 9171.0, 14372.0, 25800.0, 18586.0, 17877.0, 9371.0, 974.0, 12981.0, 485.0, 647.0, 4086.0, 8921.0, 41401.0, 9185.0, 74220.0], \"type\": \"choropleth\"}], \"name\": \"05-28-2020\"}, {\"data\": [{\"coloraxis\": \"coloraxis\", \"geo\": \"geo\", \"hovertemplate\": \"Date=05-29-2020<br>Code=%{location}<br>Confirmed=%{z}<extra></extra>\", \"locationmode\": \"USA-states\", \"locations\": [\"NH\", \"MO\", \"WI\", \"DC\", \"CO\", \"ME\", \"MA\", \"KY\", \"PA\", \"TN\", \"DE\", \"TX\", \"OH\", \"VT\", \"AK\", \"NE\", \"IL\", \"HI\", \"UT\", \"CA\", \"ND\", \"MI\", \"OR\", \"VA\", \"MN\", \"GA\", \"IN\", \"WV\", \"WY\", \"OK\", \"NM\", \"AZ\", \"NC\", \"AL\", \"ID\", \"WA\", \"SC\", \"NY\", \"KS\", \"FL\", \"LA\", \"NV\", \"IA\", \"RI\", \"MD\", \"MT\", \"MS\", \"NJ\", \"SD\", \"AR\", \"CT\"], \"name\": \"\", \"z\": [4492.0, 13084.0, 17707.0, 8538.0, 25598.0, 2226.0, 95512.0, 9464.0, 74984.0, 22063.0, 9236.0, 60901.0, 34566.0, 975.0, 429.0, 13648.0, 117455.0, 649.0, 9264.0, 106622.0, 2520.0, 56621.0, 4131.0, 42533.0, 23531.0, 45881.0, 33558.0, 1951.0, 891.0, 6338.0, 7493.0, 18472.0, 26885.0, 17031.0, 2770.0, 21071.0, 11131.0, 368284.0, 9662.0, 54497.0, 38802.0, 8376.0, 18957.0, 14635.0, 50988.0, 493.0, 14793.0, 158844.0, 4866.0, 6777.0, 41762.0], \"type\": \"choropleth\"}], \"name\": \"05-29-2020\"}, {\"data\": [{\"coloraxis\": \"coloraxis\", \"geo\": \"geo\", \"hovertemplate\": \"Date=05-30-2020<br>Code=%{location}<br>Confirmed=%{z}<extra></extra>\", \"locationmode\": \"USA-states\", \"locations\": [\"MT\", \"OK\", \"TX\", \"SD\", \"GA\", \"WY\", \"AZ\", \"SC\", \"KS\", \"NV\", \"MS\", \"NJ\", \"ID\", \"NH\", \"MD\", \"MA\", \"PA\", \"OH\", \"VT\", \"CT\", \"WV\", \"VA\", \"KY\", \"MI\", \"WI\", \"DE\", \"TN\", \"AL\", \"WA\", \"NM\", \"NY\", \"IA\", \"MO\", \"FL\", \"LA\", \"ND\", \"OR\", \"CO\", \"AK\", \"NC\", \"UT\", \"DC\", \"MN\", \"AR\", \"HI\", \"ME\", \"IL\", \"NE\", \"CA\", \"IN\", \"RI\"], \"name\": \"\", \"z\": [505.0, 6418.0, 62675.0, 4960.0, 46331.0, 898.0, 19258.0, 11394.0, 9690.0, 8517.0, 15229.0, 159608.0, 2803.0, 4492.0, 52015.0, 96301.0, 75697.0, 35033.0, 977.0, 42022.0, 1989.0, 43611.0, 9704.0, 56969.0, 18230.0, 9422.0, 22566.0, 17359.0, 21349.0, 7624.0, 369660.0, 19244.0, 13298.0, 55424.0, 39577.0, 2554.0, 4185.0, 26084.0, 433.0, 27794.0, 9533.0, 8717.0, 24190.0, 7013.0, 651.0, 2282.0, 118917.0, 13905.0, 109895.0, 34211.0, 14819.0], \"type\": \"choropleth\"}], \"name\": \"05-30-2020\"}, {\"data\": [{\"coloraxis\": \"coloraxis\", \"geo\": \"geo\", \"hovertemplate\": \"Date=05-31-2020<br>Code=%{location}<br>Confirmed=%{z}<extra></extra>\", \"locationmode\": \"USA-states\", \"locations\": [\"WA\", \"KS\", \"AL\", \"VA\", \"WY\", \"IN\", \"NC\", \"MS\", \"MN\", \"AZ\", \"ND\", \"MI\", \"WV\", \"AR\", \"VT\", \"CA\", \"UT\", \"CT\", \"SD\", \"ME\", \"AK\", \"LA\", \"WI\", \"IL\", \"MA\", \"MD\", \"CO\", \"MO\", \"MT\", \"NH\", \"ID\", \"KY\", \"TN\", \"NE\", \"TX\", \"GA\", \"RI\", \"NM\", \"PA\", \"NV\", \"FL\", \"NJ\", \"SC\", \"OH\", \"DC\", \"OK\", \"NY\", \"OR\", \"DE\", \"IA\", \"HI\"], \"name\": \"\", \"z\": [21702.0, 9700.0, 17952.0, 44607.0, 903.0, 34574.0, 28785.0, 15523.0, 24850.0, 19936.0, 2577.0, 57397.0, 2010.0, 7253.0, 981.0, 111951.0, 9797.0, 42201.0, 4993.0, 2325.0, 459.0, 39916.0, 18403.0, 120260.0, 96965.0, 52778.0, 26364.0, 13438.0, 515.0, 4651.0, 2839.0, 9704.0, 22566.0, 14101.0, 64652.0, 47063.0, 14928.0, 7689.0, 76129.0, 8628.0, 56163.0, 160445.0, 11861.0, 35513.0, 8801.0, 6418.0, 370770.0, 4243.0, 9498.0, 19552.0, 652.0], \"type\": \"choropleth\"}], \"name\": \"05-31-2020\"}, {\"data\": [{\"coloraxis\": \"coloraxis\", \"geo\": \"geo\", \"hovertemplate\": \"Date=06-01-2020<br>Code=%{location}<br>Confirmed=%{z}<extra></extra>\", \"locationmode\": \"USA-states\", \"locations\": [\"KY\", \"NM\", \"LA\", \"SD\", \"VA\", \"NE\", \"RI\", \"GA\", \"WY\", \"OH\", \"TX\", \"MN\", \"IN\", \"DE\", \"CA\", \"MA\", \"MI\", \"NH\", \"IA\", \"MO\", \"AZ\", \"CT\", \"AL\", \"OR\", \"WI\", \"NC\", \"MD\", \"DC\", \"UT\", \"PA\", \"KS\", \"ID\", \"MS\", \"OK\", \"SC\", \"NV\", \"VT\", \"WA\", \"CO\", \"IL\", \"NJ\", \"AK\", \"WV\", \"ME\", \"NY\", \"ND\", \"FL\", \"MT\", \"AR\", \"HI\", \"TN\"], \"name\": \"\", \"z\": [10046.0, 7800.0, 40341.0, 5034.0, 45398.0, 14345.0, 14991.0, 47902.0, 910.0, 35984.0, 65593.0, 25208.0, 34830.0, 9605.0, 114733.0, 100805.0, 57532.0, 4685.0, 19699.0, 13724.0, 20129.0, 42740.0, 18630.0, 4302.0, 18543.0, 29592.0, 53327.0, 8857.0, 9999.0, 76646.0, 9920.0, 2839.0, 15752.0, 6573.0, 12148.0, 8702.0, 983.0, 21977.0, 26563.0, 121234.0, 160918.0, 466.0, 2028.0, 2349.0, 371711.0, 2625.0, 56830.0, 519.0, 7443.0, 652.0, 22566.0], \"type\": \"choropleth\"}], \"name\": \"06-01-2020\"}, {\"data\": [{\"coloraxis\": \"coloraxis\", \"geo\": \"geo\", \"hovertemplate\": \"Date=06-02-2020<br>Code=%{location}<br>Confirmed=%{z}<extra></extra>\", \"locationmode\": \"USA-states\", \"locations\": [\"OK\", \"WA\", \"NC\", \"IL\", \"IA\", \"NY\", \"ME\", \"WI\", \"CT\", \"DC\", \"AZ\", \"RI\", \"DE\", \"ND\", \"NE\", \"AK\", \"NM\", \"TN\", \"TX\", \"OH\", \"MN\", \"MS\", \"VT\", \"IN\", \"MA\", \"CO\", \"WV\", \"MO\", \"OR\", \"VA\", \"NV\", \"SC\", \"MI\", \"CA\", \"NJ\", \"ID\", \"KS\", \"AL\", \"PA\", \"AR\", \"KY\", \"MD\", \"NH\", \"LA\", \"FL\", \"HI\", \"WY\", \"GA\", \"SD\", \"UT\", \"MT\"], \"name\": \"\", \"z\": [6692.0, 22157.0, 30023.0, 122848.0, 20019.0, 373040.0, 2377.0, 18917.0, 42979.0, 8886.0, 21264.0, 15112.0, 9685.0, 2646.0, 14616.0, 486.0, 8024.0, 24342.0, 67310.0, 36350.0, 25508.0, 16041.0, 988.0, 35237.0, 101163.0, 26774.0, 2056.0, 14015.0, 4335.0, 46239.0, 8858.0, 12415.0, 57731.0, 117215.0, 161545.0, 2933.0, 9965.0, 18766.0, 77225.0, 7818.0, 10185.0, 54175.0, 4749.0, 40746.0, 57447.0, 653.0, 912.0, 48207.0, 5067.0, 10202.0, 523.0], \"type\": \"choropleth\"}], \"name\": \"06-02-2020\"}, {\"data\": [{\"coloraxis\": \"coloraxis\", \"geo\": \"geo\", \"hovertemplate\": \"Date=06-03-2020<br>Code=%{location}<br>Confirmed=%{z}<extra></extra>\", \"locationmode\": \"USA-states\", \"locations\": [\"NM\", \"MA\", \"CA\", \"WA\", \"IN\", \"DC\", \"VT\", \"GA\", \"VA\", \"RI\", \"MN\", \"ID\", \"MS\", \"TN\", \"OH\", \"NH\", \"ND\", \"TX\", \"PA\", \"NE\", \"AK\", \"LA\", \"SD\", \"NJ\", \"SC\", \"HI\", \"DE\", \"MO\", \"UT\", \"OR\", \"MD\", \"FL\", \"KS\", \"ME\", \"IA\", \"KY\", \"NY\", \"AR\", \"NC\", \"WY\", \"MT\", \"CT\", \"AL\", \"WI\", \"WV\", \"CO\", \"NV\", \"AZ\", \"IL\", \"MI\", \"OK\"], \"name\": \"\", \"z\": [8140.0, 101592.0, 119348.0, 22484.0, 35712.0, 9016.0, 990.0, 48894.0, 46905.0, 15219.0, 25870.0, 2933.0, 16322.0, 24833.0, 36792.0, 4795.0, 2679.0, 68877.0, 77780.0, 14885.0, 504.0, 41133.0, 5162.0, 162068.0, 12415.0, 653.0, 9712.0, 14189.0, 10497.0, 4399.0, 54982.0, 58764.0, 10092.0, 2418.0, 20300.0, 10410.0, 374085.0, 8067.0, 31276.0, 915.0, 525.0, 43091.0, 18851.0, 19400.0, 2077.0, 27046.0, 8951.0, 22356.0, 123830.0, 58035.0, 6805.0], \"type\": \"choropleth\"}], \"name\": \"06-03-2020\"}, {\"data\": [{\"coloraxis\": \"coloraxis\", \"geo\": \"geo\", \"hovertemplate\": \"Date=06-04-2020<br>Code=%{location}<br>Confirmed=%{z}<extra></extra>\", \"locationmode\": \"USA-states\", \"locations\": [\"SC\", \"WV\", \"ME\", \"KS\", \"RI\", \"ND\", \"IL\", \"VT\", \"OK\", \"PA\", \"WA\", \"NV\", \"ID\", \"CO\", \"TN\", \"MS\", \"OR\", \"AR\", \"NM\", \"WY\", \"DC\", \"HI\", \"MT\", \"MA\", \"IN\", \"NJ\", \"MI\", \"AZ\", \"CT\", \"WI\", \"CA\", \"AL\", \"NC\", \"KY\", \"UT\", \"FL\", \"MD\", \"MO\", \"DE\", \"NY\", \"VA\", \"NH\", \"AK\", \"IA\", \"GA\", \"NE\", \"LA\", \"TX\", \"OH\", \"SD\", \"MN\"], \"name\": \"\", \"z\": [12415.0, 2102.0, 2446.0, 10167.0, 15325.0, 2706.0, 124759.0, 1026.0, 6907.0, 78335.0, 22729.0, 9129.0, 2990.0, 27346.0, 25190.0, 16560.0, 4474.0, 8425.0, 8353.0, 921.0, 9120.0, 655.0, 539.0, 102063.0, 36096.0, 162530.0, 58241.0, 22886.0, 43239.0, 19892.0, 122168.0, 19072.0, 32075.0, 10705.0, 10813.0, 60183.0, 55858.0, 14438.0, 9746.0, 375133.0, 47856.0, 4876.0, 512.0, 20806.0, 49859.0, 15139.0, 41562.0, 70555.0, 37282.0, 5247.0, 26273.0], \"type\": \"choropleth\"}], \"name\": \"06-04-2020\"}, {\"data\": [{\"coloraxis\": \"coloraxis\", \"geo\": \"geo\", \"hovertemplate\": \"Date=06-05-2020<br>Code=%{location}<br>Confirmed=%{z}<extra></extra>\", \"locationmode\": \"USA-states\", \"locations\": [\"MN\", \"DE\", \"IA\", \"KS\", \"NY\", \"RI\", \"FL\", \"AL\", \"NV\", \"PA\", \"UT\", \"MT\", \"CO\", \"NC\", \"VA\", \"ND\", \"AK\", \"WI\", \"AZ\", \"WA\", \"NM\", \"MS\", \"MI\", \"LA\", \"IN\", \"TX\", \"CA\", \"ME\", \"OK\", \"TN\", \"MA\", \"SC\", \"CT\", \"OH\", \"MD\", \"AR\", \"WV\", \"HI\", \"IL\", \"SD\", \"WY\", \"DC\", \"NJ\", \"ID\", \"NH\", \"KY\", \"NE\", \"MO\", \"GA\", \"VT\", \"OR\"], \"name\": \"\", \"z\": [26980.0, 9773.0, 21154.0, 10306.0, 376208.0, 15441.0, 61488.0, 19387.0, 9309.0, 78815.0, 11252.0, 541.0, 27601.0, 33295.0, 48532.0, 2745.0, 523.0, 20249.0, 24439.0, 22993.0, 8672.0, 16769.0, 63777.0, 41989.0, 36578.0, 72548.0, 125738.0, 2482.0, 7007.0, 25664.0, 102557.0, 13453.0, 43460.0, 37758.0, 56770.0, 8651.0, 2119.0, 664.0, 125915.0, 5277.0, 933.0, 9199.0, 163336.0, 3111.0, 4953.0, 10977.0, 15406.0, 14572.0, 50621.0, 1027.0, 4570.0], \"type\": \"choropleth\"}], \"name\": \"06-05-2020\"}, {\"data\": [{\"coloraxis\": \"coloraxis\", \"geo\": \"geo\", \"hovertemplate\": \"Date=06-06-2020<br>Code=%{location}<br>Confirmed=%{z}<extra></extra>\", \"locationmode\": \"USA-states\", \"locations\": [\"ID\", \"AR\", \"AK\", \"OH\", \"HI\", \"IA\", \"PA\", \"NJ\", \"NM\", \"NE\", \"MI\", \"MN\", \"MA\", \"UT\", \"IN\", \"MO\", \"GA\", \"FL\", \"AL\", \"SD\", \"DE\", \"KY\", \"NC\", \"DC\", \"MT\", \"CA\", \"MD\", \"AZ\", \"OR\", \"CT\", \"WI\", \"NY\", \"NV\", \"WY\", \"RI\", \"TX\", \"CO\", \"IL\", \"NH\", \"ND\", \"SC\", \"VA\", \"OK\", \"WV\", \"VT\", \"KS\", \"TN\", \"MS\", \"LA\", \"WA\", \"ME\"], \"name\": \"\", \"z\": [3139.0, 9101.0, 535.0, 38111.0, 673.0, 21478.0, 79505.0, 163893.0, 8800.0, 15572.0, 64229.0, 27501.0, 103132.0, 11798.0, 36997.0, 14951.0, 51359.0, 62758.0, 20043.0, 5367.0, 9845.0, 11287.0, 34718.0, 9269.0, 540.0, 128593.0, 57482.0, 25451.0, 4570.0, 43818.0, 20571.0, 377316.0, 9491.0, 939.0, 15441.0, 74470.0, 27834.0, 126890.0, 5019.0, 2816.0, 13453.0, 49397.0, 7059.0, 2136.0, 1046.0, 10361.0, 26177.0, 17039.0, 42486.0, 23442.0, 2524.0], \"type\": \"choropleth\"}], \"name\": \"06-06-2020\"}, {\"data\": [{\"coloraxis\": \"coloraxis\", \"geo\": \"geo\", \"hovertemplate\": \"Date=06-07-2020<br>Code=%{location}<br>Confirmed=%{z}<extra></extra>\", \"locationmode\": \"USA-states\", \"locations\": [\"AR\", \"NV\", \"MD\", \"NY\", \"UT\", \"IN\", \"TN\", \"MS\", \"LA\", \"DC\", \"MA\", \"OR\", \"ME\", \"VA\", \"GA\", \"AL\", \"SD\", \"IL\", \"KS\", \"KY\", \"NC\", \"DE\", \"MT\", \"CO\", \"WY\", \"WV\", \"CA\", \"AZ\", \"CT\", \"WI\", \"MN\", \"FL\", \"AK\", \"WA\", \"NM\", \"NE\", \"NJ\", \"ND\", \"NH\", \"MI\", \"HI\", \"IA\", \"OK\", \"TX\", \"PA\", \"ID\", \"SC\", \"RI\", \"MO\", \"OH\", \"VT\"], \"name\": \"\", \"z\": [9426.0, 9669.0, 57973.0, 378097.0, 12066.0, 37397.0, 26493.0, 17270.0, 42816.0, 9332.0, 103436.0, 4662.0, 2570.0, 50679.0, 51898.0, 20500.0, 5438.0, 127757.0, 10406.0, 11287.0, 35625.0, 9942.0, 545.0, 27987.0, 947.0, 2144.0, 130615.0, 26989.0, 43968.0, 20835.0, 27886.0, 63938.0, 543.0, 23729.0, 8940.0, 15664.0, 164164.0, 2861.0, 5043.0, 64648.0, 675.0, 21712.0, 7150.0, 75408.0, 79908.0, 3139.0, 14286.0, 15441.0, 15023.0, 38476.0, 1063.0], \"type\": \"choropleth\"}], \"name\": \"06-07-2020\"}, {\"data\": [{\"coloraxis\": \"coloraxis\", \"geo\": \"geo\", \"hovertemplate\": \"Date=06-08-2020<br>Code=%{location}<br>Confirmed=%{z}<extra></extra>\", \"locationmode\": \"USA-states\", \"locations\": [\"KY\", \"RI\", \"SD\", \"NE\", \"ND\", \"AL\", \"VT\", \"LA\", \"DE\", \"IL\", \"OK\", \"CO\", \"IA\", \"MT\", \"CA\", \"NC\", \"MI\", \"KS\", \"ID\", \"SC\", \"ME\", \"WA\", \"OR\", \"GA\", \"MS\", \"MO\", \"DC\", \"OH\", \"WY\", \"NH\", \"FL\", \"PA\", \"IN\", \"TX\", \"TN\", \"MD\", \"NY\", \"WV\", \"MA\", \"VA\", \"NV\", \"HI\", \"NJ\", \"WI\", \"MN\", \"NM\", \"CT\", \"AK\", \"AZ\", \"AR\", \"UT\"], \"name\": \"\", \"z\": [11476.0, 15642.0, 5471.0, 15786.0, 2880.0, 20925.0, 1075.0, 43050.0, 9972.0, 128415.0, 7205.0, 28169.0, 22007.0, 548.0, 133816.0, 36517.0, 64944.0, 10544.0, 3189.0, 14800.0, 2588.0, 24041.0, 4922.0, 52497.0, 17768.0, 15158.0, 9389.0, 38837.0, 960.0, 5079.0, 64904.0, 80339.0, 37623.0, 76463.0, 27005.0, 58404.0, 378799.0, 2161.0, 103626.0, 51251.0, 9816.0, 676.0, 164497.0, 21038.0, 28224.0, 9062.0, 44092.0, 562.0, 27678.0, 9740.0, 12322.0], \"type\": \"choropleth\"}], \"name\": \"06-08-2020\"}, {\"data\": [{\"coloraxis\": \"coloraxis\", \"geo\": \"geo\", \"hovertemplate\": \"Date=06-09-2020<br>Code=%{location}<br>Confirmed=%{z}<extra></extra>\", \"locationmode\": \"USA-states\", \"locations\": [\"AR\", \"NH\", \"UT\", \"OR\", \"GA\", \"NJ\", \"DE\", \"MI\", \"SD\", \"VA\", \"OK\", \"MO\", \"WA\", \"NM\", \"NE\", \"ID\", \"MN\", \"VT\", \"RI\", \"ND\", \"MD\", \"SC\", \"WV\", \"MS\", \"WY\", \"TN\", \"ME\", \"KS\", \"CO\", \"IL\", \"IA\", \"TX\", \"HI\", \"AK\", \"FL\", \"NV\", \"AL\", \"MT\", \"NC\", \"NY\", \"OH\", \"CA\", \"AZ\", \"KY\", \"WI\", \"MA\", \"IN\", \"LA\", \"DC\", \"PA\", \"CT\"], \"name\": \"\", \"z\": [10080.0, 5079.0, 12559.0, 4988.0, 53249.0, 164796.0, 10020.0, 64998.0, 5523.0, 51738.0, 7363.0, 15352.0, 24354.0, 9105.0, 15918.0, 3221.0, 28523.0, 1084.0, 15691.0, 2901.0, 58904.0, 15228.0, 2169.0, 18123.0, 970.0, 27575.0, 2606.0, 10609.0, 28333.0, 129212.0, 22237.0, 78208.0, 682.0, 572.0, 66000.0, 10045.0, 21422.0, 554.0, 37227.0, 379482.0, 39162.0, 136641.0, 28296.0, 11707.0, 21308.0, 103889.0, 38033.0, 43612.0, 9474.0, 80870.0, 44179.0], \"type\": \"choropleth\"}], \"name\": \"06-09-2020\"}, {\"data\": [{\"coloraxis\": \"coloraxis\", \"geo\": \"geo\", \"hovertemplate\": \"Date=06-10-2020<br>Code=%{location}<br>Confirmed=%{z}<extra></extra>\", \"locationmode\": \"USA-states\", \"locations\": [\"AR\", \"SC\", \"ID\", \"WY\", \"MT\", \"PA\", \"NV\", \"LA\", \"CA\", \"OR\", \"DC\", \"OH\", \"AK\", \"TX\", \"WA\", \"NM\", \"NE\", \"HI\", \"MN\", \"MA\", \"VT\", \"WV\", \"ND\", \"IA\", \"MS\", \"GA\", \"ME\", \"TN\", \"CO\", \"IL\", \"RI\", \"WI\", \"IN\", \"CT\", \"NH\", \"VA\", \"DE\", \"MI\", \"NJ\", \"UT\", \"SD\", \"MD\", \"OK\", \"FL\", \"MO\", \"NY\", \"KY\", \"AZ\", \"AL\", \"KS\", \"NC\"], \"name\": \"\", \"z\": [10368.0, 15759.0, 3260.0, 980.0, 561.0, 81316.0, 10218.0, 44030.0, 139715.0, 5060.0, 9537.0, 39575.0, 592.0, 80777.0, 24354.0, 9250.0, 16058.0, 685.0, 28869.0, 104156.0, 1095.0, 2194.0, 2941.0, 22626.0, 18483.0, 53980.0, 2637.0, 27930.0, 28484.0, 129837.0, 15756.0, 21593.0, 38337.0, 44347.0, 5178.0, 52177.0, 10056.0, 65182.0, 165346.0, 12864.0, 5604.0, 59465.0, 7483.0, 67371.0, 15512.0, 380156.0, 11883.0, 29852.0, 21989.0, 10750.0, 38473.0], \"type\": \"choropleth\"}], \"name\": \"06-10-2020\"}, {\"data\": [{\"coloraxis\": \"coloraxis\", \"geo\": \"geo\", \"hovertemplate\": \"Date=06-11-2020<br>Code=%{location}<br>Confirmed=%{z}<extra></extra>\", \"locationmode\": \"USA-states\", \"locations\": [\"NV\", \"AL\", \"WA\", \"NY\", \"MS\", \"MN\", \"OR\", \"AR\", \"VA\", \"HI\", \"KY\", \"VT\", \"MO\", \"AZ\", \"AK\", \"CT\", \"MA\", \"DE\", \"CA\", \"OH\", \"ME\", \"NE\", \"DC\", \"MI\", \"RI\", \"CO\", \"KS\", \"FL\", \"WV\", \"OK\", \"NC\", \"IA\", \"TN\", \"UT\", \"GA\", \"IL\", \"WI\", \"ID\", \"TX\", \"SC\", \"IN\", \"NM\", \"ND\", \"NH\", \"NJ\", \"WY\", \"SD\", \"PA\", \"MD\", \"LA\", \"MT\"], \"name\": \"\", \"z\": [10473.0, 22845.0, 24779.0, 380892.0, 18483.0, 29316.0, 5237.0, 10816.0, 52647.0, 692.0, 11945.0, 1110.0, 15699.0, 31267.0, 609.0, 44461.0, 104667.0, 10106.0, 143377.0, 40004.0, 2667.0, 16315.0, 9589.0, 65449.0, 15862.0, 28632.0, 10823.0, 69069.0, 2217.0, 7626.0, 39584.0, 22973.0, 28340.0, 13252.0, 54973.0, 130603.0, 21926.0, 3260.0, 82658.0, 16441.0, 38748.0, 9367.0, 2980.0, 5209.0, 165816.0, 1009.0, 5665.0, 81848.0, 60197.0, 44472.0, 563.0], \"type\": \"choropleth\"}], \"name\": \"06-11-2020\"}, {\"data\": [{\"coloraxis\": \"coloraxis\", \"geo\": \"geo\", \"hovertemplate\": \"Date=06-12-2020<br>Code=%{location}<br>Confirmed=%{z}<extra></extra>\", \"locationmode\": \"USA-states\", \"locations\": [\"OK\", \"WA\", \"NM\", \"GA\", \"RI\", \"ND\", \"MS\", \"IL\", \"DE\", \"ME\", \"KS\", \"IA\", \"WY\", \"SC\", \"ID\", \"AR\", \"OR\", \"NH\", \"NJ\", \"SD\", \"MD\", \"TN\", \"MO\", \"CT\", \"OH\", \"NE\", \"DC\", \"HI\", \"TX\", \"MN\", \"VT\", \"WV\", \"MA\", \"KY\", \"CO\", \"AZ\", \"AK\", \"MI\", \"MT\", \"CA\", \"VA\", \"WI\", \"IN\", \"FL\", \"NC\", \"LA\", \"AL\", \"NV\", \"NY\", \"UT\", \"PA\"], \"name\": \"\", \"z\": [7849.0, 25171.0, 9526.0, 55783.0, 15947.0, 3016.0, 19091.0, 131198.0, 10173.0, 2721.0, 10973.0, 23350.0, 1027.0, 17170.0, 3353.0, 11547.0, 5377.0, 5251.0, 166164.0, 5742.0, 60613.0, 29118.0, 15997.0, 44689.0, 40424.0, 16522.0, 9654.0, 706.0, 84927.0, 29795.0, 1119.0, 2249.0, 105059.0, 12166.0, 28807.0, 33039.0, 624.0, 65672.0, 573.0, 146659.0, 53211.0, 22246.0, 39146.0, 70971.0, 41417.0, 44995.0, 23710.0, 10704.0, 381714.0, 13577.0, 82481.0], \"type\": \"choropleth\"}], \"name\": \"06-12-2020\"}, {\"data\": [{\"coloraxis\": \"coloraxis\", \"geo\": \"geo\", \"hovertemplate\": \"Date=06-13-2020<br>Code=%{location}<br>Confirmed=%{z}<extra></extra>\", \"locationmode\": \"USA-states\", \"locations\": [\"HI\", \"KY\", \"UT\", \"NM\", \"KS\", \"VT\", \"WV\", \"FL\", \"IA\", \"MN\", \"DC\", \"PA\", \"NE\", \"NH\", \"AR\", \"NV\", \"LA\", \"NJ\", \"OH\", \"ID\", \"SD\", \"MT\", \"MD\", \"MI\", \"MO\", \"MA\", \"CT\", \"VA\", \"AL\", \"SC\", \"NY\", \"TN\", \"IN\", \"GA\", \"ND\", \"CO\", \"RI\", \"MS\", \"AK\", \"DE\", \"WA\", \"AZ\", \"ME\", \"WI\", \"OK\", \"NC\", \"OR\", \"TX\", \"CA\", \"IL\", \"WY\"], \"name\": \"\", \"z\": [723.0, 12445.0, 13981.0, 9621.0, 11020.0, 1125.0, 2274.0, 73552.0, 23717.0, 30172.0, 9709.0, 82944.0, 16640.0, 5299.0, 12095.0, 10997.0, 46283.0, 166605.0, 40851.0, 3353.0, 5833.0, 588.0, 61305.0, 65836.0, 16232.0, 105395.0, 44994.0, 53869.0, 24601.0, 17955.0, 382630.0, 29549.0, 39543.0, 56804.0, 3058.0, 29002.0, 15947.0, 19348.0, 653.0, 10229.0, 25538.0, 34660.0, 2757.0, 22518.0, 8073.0, 42845.0, 5377.0, 86915.0, 150018.0, 131871.0, 1050.0], \"type\": \"choropleth\"}], \"name\": \"06-13-2020\"}, {\"data\": [{\"coloraxis\": \"coloraxis\", \"geo\": \"geo\", \"hovertemplate\": \"Date=06-14-2020<br>Code=%{location}<br>Confirmed=%{z}<extra></extra>\", \"locationmode\": \"USA-states\", \"locations\": [\"MA\", \"MS\", \"ND\", \"MD\", \"PA\", \"MO\", \"AL\", \"SD\", \"WI\", \"GA\", \"LA\", \"AK\", \"OH\", \"NJ\", \"WA\", \"MT\", \"NV\", \"AR\", \"NM\", \"TX\", \"MI\", \"OR\", \"VA\", \"CA\", \"FL\", \"IL\", \"IA\", \"OK\", \"WV\", \"NH\", \"DE\", \"VT\", \"DC\", \"NC\", \"IN\", \"WY\", \"CT\", \"MN\", \"KY\", \"AZ\", \"HI\", \"KS\", \"RI\", \"UT\", \"SC\", \"NY\", \"NE\", \"ME\", \"TN\", \"CO\", \"ID\"], \"name\": \"\", \"z\": [105603.0, 19516.0, 3080.0, 61701.0, 83203.0, 16262.0, 25615.0, 5898.0, 22758.0, 57681.0, 46619.0, 660.0, 41148.0, 166881.0, 25834.0, 601.0, 11201.0, 12501.0, 9723.0, 88523.0, 66054.0, 5377.0, 54506.0, 152300.0, 75568.0, 132543.0, 23926.0, 8231.0, 2290.0, 5318.0, 10264.0, 1127.0, 9767.0, 44264.0, 39909.0, 1060.0, 45088.0, 30471.0, 12445.0, 35706.0, 728.0, 11101.0, 15947.0, 14313.0, 18795.0, 383324.0, 16730.0, 2793.0, 30343.0, 29115.0, 3399.0], \"type\": \"choropleth\"}], \"name\": \"06-14-2020\"}, {\"data\": [{\"coloraxis\": \"coloraxis\", \"geo\": \"geo\", \"hovertemplate\": \"Date=06-15-2020<br>Code=%{location}<br>Confirmed=%{z}<extra></extra>\", \"locationmode\": \"USA-states\", \"locations\": [\"OR\", \"WY\", \"MN\", \"LA\", \"MI\", \"MD\", \"MA\", \"GA\", \"NY\", \"KY\", \"WV\", \"AL\", \"OK\", \"FL\", \"ME\", \"WI\", \"WA\", \"OH\", \"AK\", \"SC\", \"HI\", \"SD\", \"KS\", \"IN\", \"MT\", \"ND\", \"TX\", \"MS\", \"UT\", \"PA\", \"CT\", \"VA\", \"CO\", \"NM\", \"NJ\", \"RI\", \"DC\", \"NE\", \"ID\", \"VT\", \"IA\", \"TN\", \"CA\", \"MO\", \"AR\", \"AZ\", \"DE\", \"IL\", \"NC\", \"NV\", \"NH\"], \"name\": \"\", \"z\": [5820.0, 1079.0, 30693.0, 47172.0, 66085.0, 62032.0, 105690.0, 58414.0, 383944.0, 12647.0, 2322.0, 26272.0, 8417.0, 77326.0, 2810.0, 22932.0, 26158.0, 41576.0, 663.0, 19378.0, 736.0, 5928.0, 11319.0, 40430.0, 609.0, 3101.0, 90211.0, 19799.0, 14608.0, 83589.0, 45235.0, 54886.0, 29284.0, 9845.0, 167103.0, 16093.0, 9799.0, 16851.0, 3399.0, 1128.0, 24082.0, 31004.0, 155726.0, 16611.0, 12917.0, 36844.0, 10340.0, 133016.0, 45114.0, 11315.0, 5345.0], \"type\": \"choropleth\"}], \"name\": \"06-15-2020\"}, {\"data\": [{\"coloraxis\": \"coloraxis\", \"geo\": \"geo\", \"hovertemplate\": \"Date=06-16-2020<br>Code=%{location}<br>Confirmed=%{z}<extra></extra>\", \"locationmode\": \"USA-states\", \"locations\": [\"DE\", \"RI\", \"VA\", \"GA\", \"HI\", \"MT\", \"WI\", \"MA\", \"CO\", \"CT\", \"WA\", \"OK\", \"NY\", \"IL\", \"NE\", \"DC\", \"KS\", \"TN\", \"NV\", \"AZ\", \"AL\", \"MS\", \"ME\", \"PA\", \"WV\", \"IN\", \"MO\", \"NM\", \"MD\", \"UT\", \"SC\", \"NH\", \"KY\", \"FL\", \"AK\", \"ID\", \"WY\", \"NC\", \"AR\", \"NJ\", \"IA\", \"VT\", \"CA\", \"OH\", \"SD\", \"ND\", \"TX\", \"OR\", \"MI\", \"MN\", \"LA\"], \"name\": \"\", \"z\": [10403.0, 16164.0, 55331.0, 59078.0, 736.0, 614.0, 23198.0, 105885.0, 29427.0, 45349.0, 26531.0, 8645.0, 384575.0, 133639.0, 17038.0, 9818.0, 11411.0, 31751.0, 11683.0, 39185.0, 26912.0, 20152.0, 2819.0, 83978.0, 2341.0, 40786.0, 16857.0, 9933.0, 62409.0, 14937.0, 19990.0, 5364.0, 12647.0, 80109.0, 675.0, 3462.0, 1089.0, 45907.0, 13191.0, 167426.0, 24179.0, 1131.0, 158961.0, 42010.0, 5966.0, 3124.0, 93569.0, 6098.0, 66269.0, 30882.0, 47706.0], \"type\": \"choropleth\"}], \"name\": \"06-16-2020\"}, {\"data\": [{\"coloraxis\": \"coloraxis\", \"geo\": \"geo\", \"hovertemplate\": \"Date=06-17-2020<br>Code=%{location}<br>Confirmed=%{z}<extra></extra>\", \"locationmode\": \"USA-states\", \"locations\": [\"TN\", \"FL\", \"CA\", \"KS\", \"AL\", \"NM\", \"ME\", \"IL\", \"MT\", \"PA\", \"ND\", \"MI\", \"TX\", \"GA\", \"WI\", \"RI\", \"UT\", \"CO\", \"OK\", \"NY\", \"IN\", \"VA\", \"AK\", \"LA\", \"WV\", \"NC\", \"VT\", \"MD\", \"SD\", \"MN\", \"DE\", \"HI\", \"NJ\", \"MA\", \"MS\", \"OH\", \"CT\", \"KY\", \"WA\", \"IA\", \"ID\", \"NH\", \"NV\", \"AR\", \"DC\", \"MO\", \"NE\", \"AZ\", \"SC\", \"OR\", \"WY\"], \"name\": \"\", \"z\": [32114.0, 82719.0, 162798.0, 11644.0, 27312.0, 10065.0, 2836.0, 134185.0, 630.0, 84289.0, 3166.0, 66497.0, 97699.0, 60030.0, 23456.0, 16213.0, 15344.0, 29656.0, 8904.0, 385142.0, 41013.0, 55775.0, 695.0, 48634.0, 2376.0, 46934.0, 1130.0, 62969.0, 6050.0, 31296.0, 10444.0, 744.0, 167703.0, 106151.0, 20641.0, 42422.0, 45429.0, 12995.0, 26784.0, 24460.0, 3632.0, 5436.0, 11854.0, 13606.0, 9847.0, 17069.0, 17231.0, 40937.0, 20556.0, 6218.0, 1114.0], \"type\": \"choropleth\"}], \"name\": \"06-17-2020\"}, {\"data\": [{\"coloraxis\": \"coloraxis\", \"geo\": \"geo\", \"hovertemplate\": \"Date=06-18-2020<br>Code=%{location}<br>Confirmed=%{z}<extra></extra>\", \"locationmode\": \"USA-states\", \"locations\": [\"VT\", \"PA\", \"WY\", \"NC\", \"MN\", \"MI\", \"NJ\", \"FL\", \"WI\", \"TX\", \"OH\", \"KY\", \"AK\", \"SC\", \"LA\", \"UT\", \"ND\", \"NH\", \"IN\", \"NM\", \"ID\", \"OR\", \"MO\", \"AR\", \"CA\", \"AL\", \"NY\", \"VA\", \"IL\", \"WA\", \"NE\", \"ME\", \"IA\", \"OK\", \"DC\", \"KS\", \"CT\", \"CO\", \"RI\", \"TN\", \"HI\", \"GA\", \"MA\", \"SD\", \"NV\", \"AZ\", \"WV\", \"MS\", \"MT\", \"DE\", \"MD\"], \"name\": \"\", \"z\": [1135.0, 84683.0, 1144.0, 48168.0, 31675.0, 66798.0, 168107.0, 85926.0, 23876.0, 101259.0, 43122.0, 13197.0, 707.0, 21533.0, 48634.0, 15839.0, 3193.0, 5450.0, 41438.0, 10153.0, 3743.0, 6366.0, 17371.0, 13928.0, 167086.0, 28206.0, 385760.0, 56238.0, 134778.0, 27192.0, 17414.0, 2878.0, 24861.0, 9355.0, 9903.0, 11753.0, 45440.0, 29886.0, 16269.0, 32770.0, 762.0, 60912.0, 106422.0, 6109.0, 12169.0, 43445.0, 2418.0, 20641.0, 655.0, 10499.0, 63229.0], \"type\": \"choropleth\"}], \"name\": \"06-18-2020\"}, {\"data\": [{\"coloraxis\": \"coloraxis\", \"geo\": \"geo\", \"hovertemplate\": \"Date=06-19-2020<br>Code=%{location}<br>Confirmed=%{z}<extra></extra>\", \"locationmode\": \"USA-states\", \"locations\": [\"WY\", \"NE\", \"NC\", \"WV\", \"DC\", \"TN\", \"SC\", \"CO\", \"ND\", \"CT\", \"SD\", \"IL\", \"NJ\", \"MD\", \"MA\", \"TX\", \"WI\", \"OH\", \"AK\", \"LA\", \"IA\", \"OK\", \"NH\", \"ID\", \"RI\", \"ME\", \"OR\", \"KY\", \"UT\", \"IN\", \"WA\", \"NY\", \"MO\", \"VA\", \"GA\", \"MT\", \"NV\", \"MS\", \"PA\", \"MI\", \"HI\", \"NM\", \"KS\", \"AL\", \"FL\", \"AZ\", \"CA\", \"VT\", \"DE\", \"AR\", \"MN\"], \"name\": \"\", \"z\": [1173.0, 17588.0, 50018.0, 2468.0, 9952.0, 34017.0, 22608.0, 30172.0, 3226.0, 45557.0, 6158.0, 135470.0, 168496.0, 63548.0, 106650.0, 105394.0, 24154.0, 43731.0, 720.0, 48515.0, 25274.0, 9707.0, 5486.0, 3871.0, 16337.0, 2913.0, 6572.0, 13454.0, 16425.0, 41746.0, 27601.0, 386556.0, 17667.0, 56793.0, 62009.0, 666.0, 12524.0, 20641.0, 85199.0, 67097.0, 789.0, 10260.0, 12021.0, 29002.0, 89748.0, 46910.0, 170862.0, 1144.0, 10611.0, 14631.0, 32031.0], \"type\": \"choropleth\"}], \"name\": \"06-19-2020\"}, {\"data\": [{\"coloraxis\": \"coloraxis\", \"geo\": \"geo\", \"hovertemplate\": \"Date=06-20-2020<br>Code=%{location}<br>Confirmed=%{z}<extra></extra>\", \"locationmode\": \"USA-states\", \"locations\": [\"IA\", \"DC\", \"HI\", \"ME\", \"IL\", \"MD\", \"MS\", \"MA\", \"NE\", \"MT\", \"TN\", \"AZ\", \"CA\", \"AL\", \"WV\", \"CO\", \"WA\", \"VA\", \"NV\", \"OK\", \"DE\", \"RI\", \"ID\", \"GA\", \"NY\", \"KS\", \"ND\", \"IN\", \"MO\", \"CT\", \"SC\", \"AR\", \"NH\", \"AK\", \"OH\", \"KY\", \"WI\", \"LA\", \"NM\", \"MN\", \"OR\", \"SD\", \"MI\", \"PA\", \"NJ\", \"FL\", \"WY\", \"TX\", \"NC\", \"VT\", \"UT\"], \"name\": \"\", \"z\": [25496.0, 9984.0, 789.0, 2938.0, 136104.0, 63956.0, 20641.0, 106936.0, 17707.0, 698.0, 34446.0, 50127.0, 175213.0, 29549.0, 2500.0, 30333.0, 28225.0, 57443.0, 12976.0, 10038.0, 10681.0, 16337.0, 4004.0, 63809.0, 387272.0, 12097.0, 3251.0, 42061.0, 18056.0, 45715.0, 23756.0, 15142.0, 5518.0, 741.0, 44261.0, 13630.0, 24539.0, 49385.0, 10430.0, 32467.0, 6572.0, 6225.0, 67545.0, 85590.0, 168834.0, 93797.0, 1179.0, 109581.0, 51390.0, 1147.0, 17068.0], \"type\": \"choropleth\"}], \"name\": \"06-20-2020\"}, {\"data\": [{\"coloraxis\": \"coloraxis\", \"geo\": \"geo\", \"hovertemplate\": \"Date=06-21-2020<br>Code=%{location}<br>Confirmed=%{z}<extra></extra>\", \"locationmode\": \"USA-states\", \"locations\": [\"WV\", \"AL\", \"AR\", \"DC\", \"SC\", \"OR\", \"WY\", \"CT\", \"ID\", \"KS\", \"SD\", \"MD\", \"MA\", \"VT\", \"HI\", \"NJ\", \"MS\", \"NV\", \"IA\", \"KY\", \"OH\", \"NH\", \"MO\", \"DE\", \"NE\", \"WA\", \"MN\", \"AZ\", \"CA\", \"IL\", \"TX\", \"MT\", \"GA\", \"LA\", \"ME\", \"FL\", \"OK\", \"WI\", \"NY\", \"CO\", \"ND\", \"IN\", \"UT\", \"RI\", \"MI\", \"PA\", \"NC\", \"TN\", \"AK\", \"VA\", \"NM\"], \"name\": \"\", \"z\": [2533.0, 30021.0, 15561.0, 10020.0, 24661.0, 6572.0, 1197.0, 45755.0, 4006.0, 12136.0, 6297.0, 64306.0, 107061.0, 1159.0, 814.0, 169142.0, 20641.0, 13240.0, 25963.0, 13750.0, 44808.0, 5544.0, 18459.0, 10775.0, 17812.0, 28680.0, 32920.0, 52591.0, 178546.0, 136762.0, 112944.0, 717.0, 64701.0, 49778.0, 2957.0, 97291.0, 10516.0, 24819.0, 387936.0, 30524.0, 3288.0, 42423.0, 17462.0, 16337.0, 67711.0, 85935.0, 52801.0, 35102.0, 752.0, 57994.0, 10565.0], \"type\": \"choropleth\"}], \"name\": \"06-21-2020\"}, {\"data\": [{\"coloraxis\": \"coloraxis\", \"geo\": \"geo\", \"hovertemplate\": \"Date=06-22-2020<br>Code=%{location}<br>Confirmed=%{z}<extra></extra>\", \"locationmode\": \"USA-states\", \"locations\": [\"MT\", \"VT\", \"MS\", \"CT\", \"WY\", \"HI\", \"LA\", \"IN\", \"AK\", \"ME\", \"MA\", \"MO\", \"PA\", \"DE\", \"MD\", \"NC\", \"AZ\", \"MI\", \"ND\", \"TX\", \"SD\", \"NH\", \"UT\", \"FL\", \"RI\", \"CA\", \"TN\", \"DC\", \"VA\", \"AL\", \"OR\", \"KY\", \"CO\", \"WV\", \"NM\", \"NY\", \"IA\", \"NV\", \"AR\", \"WA\", \"OK\", \"OH\", \"NE\", \"SC\", \"ID\", \"GA\", \"KS\", \"MN\", \"IL\", \"WI\", \"NJ\"], \"name\": \"\", \"z\": [734.0, 1163.0, 22329.0, 45782.0, 1230.0, 816.0, 50239.0, 42633.0, 758.0, 2971.0, 107210.0, 18592.0, 86576.0, 10820.0, 64603.0, 53964.0, 54599.0, 67957.0, 3313.0, 117790.0, 6326.0, 5558.0, 17906.0, 100217.0, 16459.0, 184765.0, 35553.0, 10058.0, 58465.0, 30454.0, 7083.0, 13839.0, 30689.0, 2552.0, 10694.0, 388488.0, 26146.0, 13528.0, 16083.0, 28870.0, 10734.0, 45537.0, 17963.0, 25666.0, 4254.0, 65928.0, 12428.0, 33227.0, 137224.0, 25068.0, 169415.0], \"type\": \"choropleth\"}], \"name\": \"06-22-2020\"}, {\"data\": [{\"coloraxis\": \"coloraxis\", \"geo\": \"geo\", \"hovertemplate\": \"Date=06-23-2020<br>Code=%{location}<br>Confirmed=%{z}<extra></extra>\", \"locationmode\": \"USA-states\", \"locations\": [\"VT\", \"OH\", \"AZ\", \"AK\", \"NH\", \"NM\", \"CT\", \"AR\", \"SC\", \"WI\", \"OR\", \"CA\", \"MO\", \"FL\", \"OK\", \"PA\", \"ID\", \"NE\", \"GA\", \"NY\", \"WA\", \"HI\", \"KS\", \"NV\", \"CO\", \"AL\", \"VA\", \"DC\", \"TN\", \"RI\", \"WV\", \"IL\", \"IA\", \"NJ\", \"KY\", \"MN\", \"NC\", \"TX\", \"DE\", \"MI\", \"SD\", \"LA\", \"ME\", \"MD\", \"MA\", \"IN\", \"MT\", \"ND\", \"MS\", \"UT\", \"WY\"], \"name\": \"\", \"z\": [1164.0, 46127.0, 58378.0, 760.0, 5571.0, 10838.0, 45899.0, 16678.0, 26572.0, 25331.0, 7274.0, 191477.0, 19005.0, 103503.0, 11031.0, 87208.0, 4254.0, 18099.0, 67810.0, 389085.0, 29386.0, 819.0, 12537.0, 13528.0, 30877.0, 31097.0, 58994.0, 10094.0, 36303.0, 16533.0, 2593.0, 137825.0, 26469.0, 169734.0, 14141.0, 33469.0, 54639.0, 122932.0, 10847.0, 68197.0, 6353.0, 51595.0, 2996.0, 65007.0, 107439.0, 42871.0, 743.0, 3320.0, 22898.0, 18300.0, 1254.0], \"type\": \"choropleth\"}], \"name\": \"06-23-2020\"}]);\n",
       "                        }).then(function(){\n",
       "                            \n",
       "var gd = document.getElementById('284033a7-2c4b-4d4e-acdc-dab6f6a8fabb');\n",
       "var x = new MutationObserver(function (mutations, observer) {{\n",
       "        var display = window.getComputedStyle(gd).display;\n",
       "        if (!display || display === 'none') {{\n",
       "            console.log([gd, 'removed!']);\n",
       "            Plotly.purge(gd);\n",
       "            observer.disconnect();\n",
       "        }}\n",
       "}});\n",
       "\n",
       "// Listen for the removal of the full notebook cells\n",
       "var notebookContainer = gd.closest('#notebook-container');\n",
       "if (notebookContainer) {{\n",
       "    x.observe(notebookContainer, {childList: true});\n",
       "}}\n",
       "\n",
       "// Listen for the clearing of the current output cell\n",
       "var outputEl = gd.closest('.output');\n",
       "if (outputEl) {{\n",
       "    x.observe(outputEl, {childList: true});\n",
       "}}\n",
       "\n",
       "                        })\n",
       "                };\n",
       "                });\n",
       "            </script>\n",
       "        </div>"
      ]
     },
     "metadata": {},
     "output_type": "display_data"
    }
   ],
   "source": [
    "fig = px.choropleth(df_usa, \n",
    "                    locations=df_usa.Code, \n",
    "                    locationmode = \"USA-states\",\n",
    "                    color=\"Confirmed\", \n",
    "                    color_continuous_scale=\"Peach\",\n",
    "                    animation_frame=\"Date\"\n",
    "                   )\n",
    "\n",
    "fig.update_layout(\n",
    "    title_text = 'US Spread of Coronavirus',\n",
    "    title_x = 0.5,\n",
    "    geo_scope='usa',\n",
    "    geo=dict(\n",
    "        showframe = False,\n",
    "        showcoastlines = False,\n",
    "    ))\n",
    "    \n",
    "fig.show()"
   ]
  },
  {
   "cell_type": "code",
   "execution_count": null,
   "metadata": {},
   "outputs": [],
   "source": []
  }
 ],
 "metadata": {
  "kernelspec": {
   "display_name": "Python 3",
   "language": "python",
   "name": "python3"
  },
  "language_info": {
   "codemirror_mode": {
    "name": "ipython",
    "version": 3
   },
   "file_extension": ".py",
   "mimetype": "text/x-python",
   "name": "python",
   "nbconvert_exporter": "python",
   "pygments_lexer": "ipython3",
   "version": "3.7.7"
  }
 },
 "nbformat": 4,
 "nbformat_minor": 4
}
