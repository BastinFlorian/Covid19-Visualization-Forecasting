{
 "cells": [
  {
   "cell_type": "markdown",
   "metadata": {},
   "source": [
    "## US map of confirmed cases "
   ]
  },
  {
   "cell_type": "markdown",
   "metadata": {},
   "source": [
    "In this notebook we would like to study the number of confirmed cases per state in the US.\n",
    "\n",
    "We will also correlate the spread of the desease with the size of the population per state"
   ]
  },
  {
   "cell_type": "code",
   "execution_count": 6,
   "metadata": {},
   "outputs": [],
   "source": [
    "import pandas as pd\n",
    "import os\n",
    "import utils.preprocess_data as ppd\n",
    "import dash \n",
    "import plotly.express as px\n",
    "import json "
   ]
  },
  {
   "cell_type": "code",
   "execution_count": 7,
   "metadata": {},
   "outputs": [],
   "source": [
    "df_usa = ppd.get_states_data(dir_name=\"../data/covid\",\n",
    "                         dir_name_zipcode_data=\"../data/us_meta\")"
   ]
  },
  {
   "cell_type": "code",
   "execution_count": 8,
   "metadata": {},
   "outputs": [
    {
     "data": {
      "application/vnd.plotly.v1+json": {
       "config": {
        "plotlyServerURL": "https://plot.ly"
       },
       "data": [
        {
         "coloraxis": "coloraxis",
         "geo": "geo",
         "hovertemplate": "Date=01-22-2020<br>Code=%{location}<br>Confirmed=%{z}<extra></extra>",
         "locationmode": "USA-states",
         "locations": [
          "WA"
         ],
         "name": "",
         "type": "choropleth",
         "z": [
          1
         ]
        }
       ],
       "frames": [
        {
         "data": [
          {
           "coloraxis": "coloraxis",
           "geo": "geo",
           "hovertemplate": "Date=01-22-2020<br>Code=%{location}<br>Confirmed=%{z}<extra></extra>",
           "locationmode": "USA-states",
           "locations": [
            "WA"
           ],
           "name": "",
           "type": "choropleth",
           "z": [
            1
           ]
          }
         ],
         "name": "01-22-2020"
        },
        {
         "data": [
          {
           "coloraxis": "coloraxis",
           "geo": "geo",
           "hovertemplate": "Date=01-23-2020<br>Code=%{location}<br>Confirmed=%{z}<extra></extra>",
           "locationmode": "USA-states",
           "locations": [
            "WA"
           ],
           "name": "",
           "type": "choropleth",
           "z": [
            1
           ]
          }
         ],
         "name": "01-23-2020"
        },
        {
         "data": [
          {
           "coloraxis": "coloraxis",
           "geo": "geo",
           "hovertemplate": "Date=01-24-2020<br>Code=%{location}<br>Confirmed=%{z}<extra></extra>",
           "locationmode": "USA-states",
           "locations": [
            "IL",
            "WA"
           ],
           "name": "",
           "type": "choropleth",
           "z": [
            1,
            1
           ]
          }
         ],
         "name": "01-24-2020"
        },
        {
         "data": [
          {
           "coloraxis": "coloraxis",
           "geo": "geo",
           "hovertemplate": "Date=01-25-2020<br>Code=%{location}<br>Confirmed=%{z}<extra></extra>",
           "locationmode": "USA-states",
           "locations": [
            "IL",
            "WA"
           ],
           "name": "",
           "type": "choropleth",
           "z": [
            1,
            1
           ]
          }
         ],
         "name": "01-25-2020"
        },
        {
         "data": [
          {
           "coloraxis": "coloraxis",
           "geo": "geo",
           "hovertemplate": "Date=01-26-2020<br>Code=%{location}<br>Confirmed=%{z}<extra></extra>",
           "locationmode": "USA-states",
           "locations": [
            "CA",
            "IL",
            "AZ",
            "WA"
           ],
           "name": "",
           "type": "choropleth",
           "z": [
            2,
            1,
            1,
            1
           ]
          }
         ],
         "name": "01-26-2020"
        },
        {
         "data": [
          {
           "coloraxis": "coloraxis",
           "geo": "geo",
           "hovertemplate": "Date=01-27-2020<br>Code=%{location}<br>Confirmed=%{z}<extra></extra>",
           "locationmode": "USA-states",
           "locations": [
            "IL",
            "CA",
            "AZ",
            "WA"
           ],
           "name": "",
           "type": "choropleth",
           "z": [
            1,
            2,
            1,
            1
           ]
          }
         ],
         "name": "01-27-2020"
        },
        {
         "data": [
          {
           "coloraxis": "coloraxis",
           "geo": "geo",
           "hovertemplate": "Date=01-28-2020<br>Code=%{location}<br>Confirmed=%{z}<extra></extra>",
           "locationmode": "USA-states",
           "locations": [
            "CA",
            "WA",
            "IL",
            "AZ"
           ],
           "name": "",
           "type": "choropleth",
           "z": [
            2,
            1,
            1,
            1
           ]
          }
         ],
         "name": "01-28-2020"
        },
        {
         "data": [
          {
           "coloraxis": "coloraxis",
           "geo": "geo",
           "hovertemplate": "Date=01-29-2020<br>Code=%{location}<br>Confirmed=%{z}<extra></extra>",
           "locationmode": "USA-states",
           "locations": [
            "AZ",
            "CA",
            "IL",
            "WA"
           ],
           "name": "",
           "type": "choropleth",
           "z": [
            1,
            2,
            1,
            1
           ]
          }
         ],
         "name": "01-29-2020"
        },
        {
         "data": [
          {
           "coloraxis": "coloraxis",
           "geo": "geo",
           "hovertemplate": "Date=01-30-2020<br>Code=%{location}<br>Confirmed=%{z}<extra></extra>",
           "locationmode": "USA-states",
           "locations": [
            "AZ",
            "WA",
            "IL",
            "CA"
           ],
           "name": "",
           "type": "choropleth",
           "z": [
            1,
            1,
            1,
            2
           ]
          }
         ],
         "name": "01-30-2020"
        },
        {
         "data": [
          {
           "coloraxis": "coloraxis",
           "geo": "geo",
           "hovertemplate": "Date=01-31-2020<br>Code=%{location}<br>Confirmed=%{z}<extra></extra>",
           "locationmode": "USA-states",
           "locations": [
            "AZ",
            "IL",
            "WA",
            "CA"
           ],
           "name": "",
           "type": "choropleth",
           "z": [
            1,
            2,
            1,
            2
           ]
          }
         ],
         "name": "01-31-2020"
        },
        {
         "data": [
          {
           "coloraxis": "coloraxis",
           "geo": "geo",
           "hovertemplate": "Date=02-01-2020<br>Code=%{location}<br>Confirmed=%{z}<extra></extra>",
           "locationmode": "USA-states",
           "locations": [
            "CA",
            "AZ",
            "IL",
            "WA",
            "MA"
           ],
           "name": "",
           "type": "choropleth",
           "z": [
            3,
            1,
            2,
            1,
            1
           ]
          }
         ],
         "name": "02-01-2020"
        },
        {
         "data": [
          {
           "coloraxis": "coloraxis",
           "geo": "geo",
           "hovertemplate": "Date=02-02-2020<br>Code=%{location}<br>Confirmed=%{z}<extra></extra>",
           "locationmode": "USA-states",
           "locations": [
            "MA",
            "AZ",
            "IL",
            "CA",
            "WA"
           ],
           "name": "",
           "type": "choropleth",
           "z": [
            1,
            1,
            2,
            3,
            1
           ]
          }
         ],
         "name": "02-02-2020"
        },
        {
         "data": [
          {
           "coloraxis": "coloraxis",
           "geo": "geo",
           "hovertemplate": "Date=02-03-2020<br>Code=%{location}<br>Confirmed=%{z}<extra></extra>",
           "locationmode": "USA-states",
           "locations": [
            "CA",
            "IL",
            "WA",
            "MA",
            "AZ"
           ],
           "name": "",
           "type": "choropleth",
           "z": [
            6,
            2,
            1,
            1,
            1
           ]
          }
         ],
         "name": "02-03-2020"
        },
        {
         "data": [
          {
           "coloraxis": "coloraxis",
           "geo": "geo",
           "hovertemplate": "Date=02-04-2020<br>Code=%{location}<br>Confirmed=%{z}<extra></extra>",
           "locationmode": "USA-states",
           "locations": [
            "MA",
            "AZ",
            "WA",
            "IL",
            "CA"
           ],
           "name": "",
           "type": "choropleth",
           "z": [
            1,
            1,
            1,
            2,
            6
           ]
          }
         ],
         "name": "02-04-2020"
        },
        {
         "data": [
          {
           "coloraxis": "coloraxis",
           "geo": "geo",
           "hovertemplate": "Date=02-05-2020<br>Code=%{location}<br>Confirmed=%{z}<extra></extra>",
           "locationmode": "USA-states",
           "locations": [
            "IL",
            "MA",
            "CA",
            "WI",
            "WA",
            "AZ"
           ],
           "name": "",
           "type": "choropleth",
           "z": [
            2,
            1,
            6,
            1,
            1,
            1
           ]
          }
         ],
         "name": "02-05-2020"
        },
        {
         "data": [
          {
           "coloraxis": "coloraxis",
           "geo": "geo",
           "hovertemplate": "Date=02-06-2020<br>Code=%{location}<br>Confirmed=%{z}<extra></extra>",
           "locationmode": "USA-states",
           "locations": [
            "CA",
            "WI",
            "AZ",
            "WA",
            "MA",
            "IL"
           ],
           "name": "",
           "type": "choropleth",
           "z": [
            6,
            1,
            1,
            1,
            1,
            2
           ]
          }
         ],
         "name": "02-06-2020"
        },
        {
         "data": [
          {
           "coloraxis": "coloraxis",
           "geo": "geo",
           "hovertemplate": "Date=02-07-2020<br>Code=%{location}<br>Confirmed=%{z}<extra></extra>",
           "locationmode": "USA-states",
           "locations": [
            "AZ",
            "WA",
            "CA",
            "IL",
            "MA",
            "WI"
           ],
           "name": "",
           "type": "choropleth",
           "z": [
            1,
            1,
            6,
            2,
            1,
            1
           ]
          }
         ],
         "name": "02-07-2020"
        },
        {
         "data": [
          {
           "coloraxis": "coloraxis",
           "geo": "geo",
           "hovertemplate": "Date=02-08-2020<br>Code=%{location}<br>Confirmed=%{z}<extra></extra>",
           "locationmode": "USA-states",
           "locations": [
            "CA",
            "IL",
            "AZ",
            "WI",
            "MA",
            "WA"
           ],
           "name": "",
           "type": "choropleth",
           "z": [
            6,
            2,
            1,
            1,
            1,
            1
           ]
          }
         ],
         "name": "02-08-2020"
        },
        {
         "data": [
          {
           "coloraxis": "coloraxis",
           "geo": "geo",
           "hovertemplate": "Date=02-09-2020<br>Code=%{location}<br>Confirmed=%{z}<extra></extra>",
           "locationmode": "USA-states",
           "locations": [
            "MA",
            "WA",
            "IL",
            "AZ",
            "CA",
            "WI"
           ],
           "name": "",
           "type": "choropleth",
           "z": [
            1,
            1,
            2,
            1,
            6,
            1
           ]
          }
         ],
         "name": "02-09-2020"
        },
        {
         "data": [
          {
           "coloraxis": "coloraxis",
           "geo": "geo",
           "hovertemplate": "Date=02-10-2020<br>Code=%{location}<br>Confirmed=%{z}<extra></extra>",
           "locationmode": "USA-states",
           "locations": [
            "MA",
            "WA",
            "CA",
            "IL",
            "AZ",
            "WI"
           ],
           "name": "",
           "type": "choropleth",
           "z": [
            1,
            1,
            6,
            2,
            1,
            1
           ]
          }
         ],
         "name": "02-10-2020"
        },
        {
         "data": [
          {
           "coloraxis": "coloraxis",
           "geo": "geo",
           "hovertemplate": "Date=02-11-2020<br>Code=%{location}<br>Confirmed=%{z}<extra></extra>",
           "locationmode": "USA-states",
           "locations": [
            "AZ",
            "IL",
            "WI",
            "CA",
            "MA",
            "WA"
           ],
           "name": "",
           "type": "choropleth",
           "z": [
            1,
            2,
            1,
            7,
            1,
            1
           ]
          }
         ],
         "name": "02-11-2020"
        },
        {
         "data": [
          {
           "coloraxis": "coloraxis",
           "geo": "geo",
           "hovertemplate": "Date=02-12-2020<br>Code=%{location}<br>Confirmed=%{z}<extra></extra>",
           "locationmode": "USA-states",
           "locations": [
            "IL",
            "AZ",
            "CA",
            "WI",
            "MA",
            "WA"
           ],
           "name": "",
           "type": "choropleth",
           "z": [
            2,
            1,
            7,
            1,
            1,
            1
           ]
          }
         ],
         "name": "02-12-2020"
        },
        {
         "data": [
          {
           "coloraxis": "coloraxis",
           "geo": "geo",
           "hovertemplate": "Date=02-13-2020<br>Code=%{location}<br>Confirmed=%{z}<extra></extra>",
           "locationmode": "USA-states",
           "locations": [
            "AZ",
            "CA",
            "MA",
            "WI",
            "IL",
            "WA",
            "TX"
           ],
           "name": "",
           "type": "choropleth",
           "z": [
            1,
            8,
            1,
            1,
            2,
            1,
            1
           ]
          }
         ],
         "name": "02-13-2020"
        },
        {
         "data": [
          {
           "coloraxis": "coloraxis",
           "geo": "geo",
           "hovertemplate": "Date=02-14-2020<br>Code=%{location}<br>Confirmed=%{z}<extra></extra>",
           "locationmode": "USA-states",
           "locations": [
            "CA",
            "IL",
            "AZ",
            "WA",
            "WI",
            "TX",
            "MA"
           ],
           "name": "",
           "type": "choropleth",
           "z": [
            8,
            2,
            1,
            1,
            1,
            1,
            1
           ]
          }
         ],
         "name": "02-14-2020"
        },
        {
         "data": [
          {
           "coloraxis": "coloraxis",
           "geo": "geo",
           "hovertemplate": "Date=02-15-2020<br>Code=%{location}<br>Confirmed=%{z}<extra></extra>",
           "locationmode": "USA-states",
           "locations": [
            "AZ",
            "IL",
            "MA",
            "TX",
            "WA",
            "CA",
            "WI"
           ],
           "name": "",
           "type": "choropleth",
           "z": [
            1,
            2,
            1,
            1,
            1,
            8,
            1
           ]
          }
         ],
         "name": "02-15-2020"
        },
        {
         "data": [
          {
           "coloraxis": "coloraxis",
           "geo": "geo",
           "hovertemplate": "Date=02-16-2020<br>Code=%{location}<br>Confirmed=%{z}<extra></extra>",
           "locationmode": "USA-states",
           "locations": [
            "MA",
            "WI",
            "IL",
            "CA",
            "AZ",
            "TX",
            "WA"
           ],
           "name": "",
           "type": "choropleth",
           "z": [
            1,
            1,
            2,
            8,
            1,
            1,
            1
           ]
          }
         ],
         "name": "02-16-2020"
        },
        {
         "data": [
          {
           "coloraxis": "coloraxis",
           "geo": "geo",
           "hovertemplate": "Date=02-17-2020<br>Code=%{location}<br>Confirmed=%{z}<extra></extra>",
           "locationmode": "USA-states",
           "locations": [
            "MA",
            "WI",
            "AZ",
            "IL",
            "CA",
            "TX",
            "WA"
           ],
           "name": "",
           "type": "choropleth",
           "z": [
            1,
            1,
            1,
            2,
            8,
            1,
            1
           ]
          }
         ],
         "name": "02-17-2020"
        },
        {
         "data": [
          {
           "coloraxis": "coloraxis",
           "geo": "geo",
           "hovertemplate": "Date=02-18-2020<br>Code=%{location}<br>Confirmed=%{z}<extra></extra>",
           "locationmode": "USA-states",
           "locations": [
            "WA",
            "AZ",
            "TX",
            "CA",
            "MA",
            "IL",
            "WI"
           ],
           "name": "",
           "type": "choropleth",
           "z": [
            1,
            1,
            1,
            8,
            1,
            2,
            1
           ]
          }
         ],
         "name": "02-18-2020"
        },
        {
         "data": [
          {
           "coloraxis": "coloraxis",
           "geo": "geo",
           "hovertemplate": "Date=02-19-2020<br>Code=%{location}<br>Confirmed=%{z}<extra></extra>",
           "locationmode": "USA-states",
           "locations": [
            "WA",
            "CA",
            "IL",
            "WI",
            "MA",
            "TX",
            "AZ"
           ],
           "name": "",
           "type": "choropleth",
           "z": [
            1,
            8,
            2,
            1,
            1,
            1,
            1
           ]
          }
         ],
         "name": "02-19-2020"
        },
        {
         "data": [
          {
           "coloraxis": "coloraxis",
           "geo": "geo",
           "hovertemplate": "Date=02-20-2020<br>Code=%{location}<br>Confirmed=%{z}<extra></extra>",
           "locationmode": "USA-states",
           "locations": [
            "IL",
            "AZ",
            "TX",
            "CA",
            "WA",
            "WI",
            "MA"
           ],
           "name": "",
           "type": "choropleth",
           "z": [
            2,
            1,
            1,
            8,
            1,
            1,
            1
           ]
          }
         ],
         "name": "02-20-2020"
        },
        {
         "data": [
          {
           "coloraxis": "coloraxis",
           "geo": "geo",
           "hovertemplate": "Date=02-21-2020<br>Code=%{location}<br>Confirmed=%{z}<extra></extra>",
           "locationmode": "USA-states",
           "locations": [
            "TX",
            "CA",
            "IL",
            "AZ",
            "MA",
            "NE",
            "WA",
            "WI"
           ],
           "name": "",
           "type": "choropleth",
           "z": [
            3,
            15,
            2,
            1,
            1,
            11,
            1,
            1
           ]
          }
         ],
         "name": "02-21-2020"
        },
        {
         "data": [
          {
           "coloraxis": "coloraxis",
           "geo": "geo",
           "hovertemplate": "Date=02-22-2020<br>Code=%{location}<br>Confirmed=%{z}<extra></extra>",
           "locationmode": "USA-states",
           "locations": [
            "IL",
            "CA",
            "TX (From Diamond Princess)",
            "AZ",
            "MA",
            "CA (From Diamond Princess)",
            "WI",
            "WA",
            "NE (From Diamond Princess)",
            "TX"
           ],
           "name": "",
           "type": "choropleth",
           "z": [
            2,
            10,
            2,
            1,
            1,
            5,
            1,
            1,
            11,
            1
           ]
          }
         ],
         "name": "02-22-2020"
        },
        {
         "data": [
          {
           "coloraxis": "coloraxis",
           "geo": "geo",
           "hovertemplate": "Date=02-23-2020<br>Code=%{location}<br>Confirmed=%{z}<extra></extra>",
           "locationmode": "USA-states",
           "locations": [
            "IL",
            "CA (From Diamond Princess)",
            "MA",
            "WA",
            "TX",
            "NE (From Diamond Princess)",
            "AZ",
            "TX (From Diamond Princess)",
            "CA",
            "WI"
           ],
           "name": "",
           "type": "choropleth",
           "z": [
            2,
            5,
            1,
            1,
            1,
            11,
            1,
            2,
            10,
            1
           ]
          }
         ],
         "name": "02-23-2020"
        },
        {
         "data": [
          {
           "coloraxis": "coloraxis",
           "geo": "geo",
           "hovertemplate": "Date=02-24-2020<br>Code=%{location}<br>Confirmed=%{z}<extra></extra>",
           "locationmode": "USA-states",
           "locations": [
            "WI",
            "TX",
            "TX (From Diamond Princess)",
            "CA (From Diamond Princess)",
            "WA",
            "CA",
            "AZ",
            "IL",
            "Unassigned Location (From Diamond Princess)",
            "NE (From Diamond Princess)",
            "MA"
           ],
           "name": "",
           "type": "choropleth",
           "z": [
            1,
            1,
            0,
            0,
            1,
            10,
            1,
            2,
            36,
            0,
            1
           ]
          }
         ],
         "name": "02-24-2020"
        },
        {
         "data": [
          {
           "coloraxis": "coloraxis",
           "geo": "geo",
           "hovertemplate": "Date=02-25-2020<br>Code=%{location}<br>Confirmed=%{z}<extra></extra>",
           "locationmode": "USA-states",
           "locations": [
            "IL",
            "TX (From Diamond Princess)",
            "AZ",
            "CA",
            "Unassigned Location (From Diamond Princess)",
            "CA (From Diamond Princess)",
            "WI",
            "MA",
            "TX",
            "WA",
            "NE (From Diamond Princess)"
           ],
           "name": "",
           "type": "choropleth",
           "z": [
            2,
            0,
            1,
            10,
            36,
            0,
            1,
            1,
            1,
            1,
            0
           ]
          }
         ],
         "name": "02-25-2020"
        },
        {
         "data": [
          {
           "coloraxis": "coloraxis",
           "geo": "geo",
           "hovertemplate": "Date=02-26-2020<br>Code=%{location}<br>Confirmed=%{z}<extra></extra>",
           "locationmode": "USA-states",
           "locations": [
            "WA",
            "AZ",
            "CA",
            "TX",
            "CA (From Diamond Princess)",
            "NE (From Diamond Princess)",
            "MA",
            "WI",
            "IL",
            "TX (From Diamond Princess)",
            "Unassigned Location (From Diamond Princess)"
           ],
           "name": "",
           "type": "choropleth",
           "z": [
            1,
            1,
            10,
            1,
            0,
            0,
            1,
            1,
            2,
            0,
            42
           ]
          }
         ],
         "name": "02-26-2020"
        },
        {
         "data": [
          {
           "coloraxis": "coloraxis",
           "geo": "geo",
           "hovertemplate": "Date=02-27-2020<br>Code=%{location}<br>Confirmed=%{z}<extra></extra>",
           "locationmode": "USA-states",
           "locations": [
            "CA (From Diamond Princess)",
            "CA",
            "IL",
            "AZ",
            "MA",
            "WI",
            "TX",
            "TX (From Diamond Princess)",
            "WA",
            "NE (From Diamond Princess)",
            "Unassigned Location (From Diamond Princess)"
           ],
           "name": "",
           "type": "choropleth",
           "z": [
            0,
            11,
            2,
            1,
            1,
            1,
            1,
            0,
            1,
            0,
            42
           ]
          }
         ],
         "name": "02-27-2020"
        },
        {
         "data": [
          {
           "coloraxis": "coloraxis",
           "geo": "geo",
           "hovertemplate": "Date=02-28-2020<br>Code=%{location}<br>Confirmed=%{z}<extra></extra>",
           "locationmode": "USA-states",
           "locations": [
            "IL",
            "WI",
            "CA",
            "CA (From Diamond Princess)",
            "AZ",
            "WA",
            "MA",
            "NE (From Diamond Princess)",
            "TX (From Diamond Princess)",
            "TX",
            "Unassigned Location (From Diamond Princess)"
           ],
           "name": "",
           "type": "choropleth",
           "z": [
            2,
            1,
            11,
            0,
            1,
            1,
            1,
            0,
            0,
            1,
            44
           ]
          }
         ],
         "name": "02-28-2020"
        },
        {
         "data": [
          {
           "coloraxis": "coloraxis",
           "geo": "geo",
           "hovertemplate": "Date=02-29-2020<br>Code=%{location}<br>Confirmed=%{z}<extra></extra>",
           "locationmode": "USA-states",
           "locations": [
            "MA",
            "CA (From Diamond Princess)",
            "TX (From Diamond Princess)",
            "IL",
            "TX",
            "OR",
            "WI",
            "CA",
            "NE (From Diamond Princess)",
            "WA",
            "Unassigned Location (From Diamond Princess)",
            "AZ"
           ],
           "name": "",
           "type": "choropleth",
           "z": [
            1,
            0,
            0,
            2,
            1,
            1,
            1,
            12,
            0,
            7,
            44,
            1
           ]
          }
         ],
         "name": "02-29-2020"
        },
        {
         "data": [
          {
           "coloraxis": "coloraxis",
           "geo": "geo",
           "hovertemplate": "Date=03-01-2020<br>Code=%{location}<br>Confirmed=%{z}<extra></extra>",
           "locationmode": "USA-states",
           "locations": [
            "IL",
            "WA",
            "Unassigned Location (From Diamond Princess)",
            "CA",
            "TX (From Diamond Princess)",
            "RI",
            "CA (From Diamond Princess)",
            "MA",
            "AZ",
            "WI",
            "OR",
            "NE (From Diamond Princess)",
            "TX"
           ],
           "name": "",
           "type": "choropleth",
           "z": [
            3,
            11,
            44,
            12,
            0,
            1,
            0,
            1,
            1,
            1,
            1,
            0,
            1
           ]
          }
         ],
         "name": "03-01-2020"
        },
        {
         "data": [
          {
           "coloraxis": "coloraxis",
           "geo": "geo",
           "hovertemplate": "Date=03-02-2020<br>Code=%{location}<br>Confirmed=%{z}<extra></extra>",
           "locationmode": "USA-states",
           "locations": [
            "FL",
            "NH",
            "RI",
            "WA",
            "NE (From Diamond Princess)",
            "TX (From Diamond Princess)",
            "AZ",
            "MA",
            "NY",
            "WI",
            "CA (From Diamond Princess)",
            "CA",
            "Unassigned Location (From Diamond Princess)",
            "IL",
            "OR",
            "TX"
           ],
           "name": "",
           "type": "choropleth",
           "z": [
            2,
            1,
            2,
            18,
            0,
            0,
            1,
            1,
            1,
            1,
            0,
            21,
            45,
            4,
            3,
            1
           ]
          }
         ],
         "name": "03-02-2020"
        },
        {
         "data": [
          {
           "coloraxis": "coloraxis",
           "geo": "geo",
           "hovertemplate": "Date=03-03-2020<br>Code=%{location}<br>Confirmed=%{z}<extra></extra>",
           "locationmode": "USA-states",
           "locations": [
            "OR",
            "TX (From Diamond Princess)",
            "NY",
            "Unassigned Location (From Diamond Princess)",
            "CA (From Diamond Princess)",
            "RI",
            "IL",
            "CA",
            "NE (From Diamond Princess)",
            "GA",
            "NH",
            "TX",
            "WA",
            "FL",
            "WI",
            "AZ",
            "NC",
            "MA"
           ],
           "name": "",
           "type": "choropleth",
           "z": [
            3,
            0,
            2,
            45,
            0,
            2,
            4,
            25,
            0,
            2,
            2,
            1,
            27,
            3,
            1,
            2,
            1,
            2
           ]
          }
         ],
         "name": "03-03-2020"
        },
        {
         "data": [
          {
           "coloraxis": "coloraxis",
           "geo": "geo",
           "hovertemplate": "Date=03-04-2020<br>Code=%{location}<br>Confirmed=%{z}<extra></extra>",
           "locationmode": "USA-states",
           "locations": [
            "FL",
            "NY",
            "Unassigned Location (From Diamond Princess)",
            "IL",
            "AZ",
            "MA",
            "NE (From Diamond Princess)",
            "RI",
            "WA",
            "TX (From Diamond Princess)",
            "NC",
            "CA",
            "WI",
            "NH",
            "OR",
            "CA (From Diamond Princess)",
            "GA",
            "TX"
           ],
           "name": "",
           "type": "choropleth",
           "z": [
            3,
            11,
            45,
            4,
            2,
            2,
            0,
            2,
            39,
            0,
            1,
            35,
            1,
            2,
            3,
            0,
            2,
            1
           ]
          }
         ],
         "name": "03-04-2020"
        },
        {
         "data": [
          {
           "coloraxis": "coloraxis",
           "geo": "geo",
           "hovertemplate": "Date=03-05-2020<br>Code=%{location}<br>Confirmed=%{z}<extra></extra>",
           "locationmode": "USA-states",
           "locations": [
            "NY",
            "CA (From Diamond Princess)",
            "WA",
            "FL",
            "AZ",
            "MA",
            "CA",
            "WI",
            "TX",
            "RI",
            "Unassigned Location (From Diamond Princess)",
            "TX (From Diamond Princess)",
            "NV",
            "NE (From Diamond Princess)",
            "NC",
            "IL",
            "NJ",
            "GA",
            "OR",
            "NH",
            "TN"
           ],
           "name": "",
           "type": "choropleth",
           "z": [
            23,
            0,
            70,
            4,
            2,
            2,
            51,
            1,
            4,
            2,
            45,
            0,
            1,
            0,
            1,
            5,
            2,
            2,
            3,
            2,
            1
           ]
          }
         ],
         "name": "03-05-2020"
        },
        {
         "data": [
          {
           "coloraxis": "coloraxis",
           "geo": "geo",
           "hovertemplate": "Date=03-06-2020<br>Code=%{location}<br>Confirmed=%{z}<extra></extra>",
           "locationmode": "USA-states",
           "locations": [
            "TN",
            "FL",
            "Unassigned Location (From Diamond Princess)",
            "NV",
            "MA",
            "NE",
            "PA",
            "NC",
            "TX",
            "NY",
            "WI",
            "TX (From Diamond Princess)",
            "NJ",
            "OR",
            "CA (From Diamond Princess)",
            "AZ",
            "MD",
            "NH",
            "MN",
            "KY",
            "CO",
            "GA",
            "WA",
            "IL",
            "NE (From Diamond Princess)",
            "IN",
            "CA",
            "RI"
           ],
           "name": "",
           "type": "choropleth",
           "z": [
            1,
            4,
            45,
            2,
            7,
            1,
            2,
            2,
            5,
            36,
            1,
            0,
            2,
            3,
            0,
            3,
            3,
            2,
            1,
            1,
            4,
            3,
            83,
            5,
            0,
            1,
            59,
            2
           ]
          }
         ],
         "name": "03-06-2020"
        },
        {
         "data": [
          {
           "coloraxis": "coloraxis",
           "geo": "geo",
           "hovertemplate": "Date=03-07-2020<br>Code=%{location}<br>Confirmed=%{z}<extra></extra>",
           "locationmode": "USA-states",
           "locations": [
            "MA",
            "NH",
            "CA",
            "TX",
            "NY",
            "HI",
            "SC",
            "WI",
            "Grand Princess Cruise Ship",
            "TX (From Diamond Princess)",
            "OR",
            "IL",
            "NJ",
            "MN",
            "UT",
            "IN",
            "OK",
            "NV",
            "GA",
            "AZ",
            "KY",
            "CA (From Diamond Princess)",
            "MD",
            "TN",
            "FL",
            "CT",
            "NC",
            "Unassigned Location (From Diamond Princess)",
            "CO",
            "NE (From Diamond Princess)",
            "PA",
            "NE",
            "WA",
            "RI"
           ],
           "name": "",
           "type": "choropleth",
           "z": [
            7,
            2,
            82,
            9,
            76,
            1,
            2,
            1,
            21,
            0,
            6,
            6,
            4,
            1,
            1,
            1,
            1,
            2,
            6,
            5,
            1,
            0,
            3,
            1,
            8,
            2,
            2,
            45,
            8,
            0,
            2,
            1,
            107,
            3
           ]
          }
         ],
         "name": "03-07-2020"
        },
        {
         "data": [
          {
           "coloraxis": "coloraxis",
           "geo": "geo",
           "hovertemplate": "Date=03-08-2020<br>Code=%{location}<br>Confirmed=%{z}<extra></extra>",
           "locationmode": "USA-states",
           "locations": [
            "TN",
            "HI",
            "RI",
            "FL",
            "MD",
            "MN",
            "PA",
            "OR",
            "TX (From Diamond Princess)",
            "GA",
            "SC",
            "TX",
            "MA",
            "MO",
            "Grand Princess Cruise Ship",
            "NJ",
            "AZ",
            "WA",
            "VT",
            "UT",
            "KY",
            "VA",
            "CA",
            "Unassigned Location (From Diamond Princess)",
            "KS",
            "NE",
            "CT",
            "NC",
            "IN",
            "NV",
            "IL",
            "D.C.",
            "OK",
            "NH",
            "CA (From Diamond Princess)",
            "WI",
            "NY",
            "NE (From Diamond Princess)",
            "CO"
           ],
           "name": "",
           "type": "choropleth",
           "z": [
            3,
            1,
            3,
            11,
            5,
            1,
            6,
            14,
            0,
            5,
            2,
            12,
            24,
            1,
            21,
            5,
            5,
            128,
            1,
            1,
            1,
            2,
            98,
            45,
            1,
            1,
            1,
            2,
            2,
            4,
            7,
            2,
            1,
            6,
            0,
            1,
            106,
            0,
            8
           ]
          }
         ],
         "name": "03-08-2020"
        },
        {
         "data": [
          {
           "coloraxis": "coloraxis",
           "geo": "geo",
           "hovertemplate": "Date=03-09-2020<br>Code=%{location}<br>Confirmed=%{z}<extra></extra>",
           "locationmode": "USA-states",
           "locations": [
            "KS",
            "CA (From Diamond Princess)",
            "CA",
            "SC",
            "GA",
            "CO",
            "VT",
            "MN",
            "IL",
            "RI",
            "NH",
            "IN",
            "TN",
            "WA",
            "TX",
            "UT",
            "CT",
            "OK",
            "TX (From Diamond Princess)",
            "IA",
            "WI",
            "NY",
            "NV",
            "OR",
            "D.C.",
            "HI",
            "NJ",
            "NC",
            "LA",
            "PA",
            "Grand Princess Cruise Ship",
            "MA",
            "Unassigned Location (From Diamond Princess)",
            "NE",
            "KY",
            "VA",
            "MD",
            "FL",
            "AZ",
            "MO",
            "NE (From Diamond Princess)"
           ],
           "name": "",
           "type": "choropleth",
           "z": [
            1,
            0,
            104,
            6,
            10,
            8,
            1,
            2,
            7,
            3,
            5,
            3,
            3,
            128,
            14,
            1,
            1,
            1,
            0,
            3,
            1,
            142,
            4,
            14,
            2,
            2,
            5,
            2,
            1,
            7,
            21,
            24,
            45,
            3,
            4,
            2,
            5,
            14,
            5,
            1,
            0
           ]
          }
         ],
         "name": "03-09-2020"
        },
        {
         "data": [
          {
           "coloraxis": "coloraxis",
           "geo": "geo",
           "hovertemplate": "Date=03-10-2020<br>Code=%{location}<br>Confirmed=%{z}<extra></extra>",
           "locationmode": "USA-states",
           "locations": [
            "AK",
            "NH",
            "SD",
            "ME",
            "MN",
            "MO",
            "MD",
            "MS",
            "MT",
            "MA",
            "NC",
            "LA",
            "ND",
            "NE",
            "KY",
            "KS",
            "NJ",
            "IN",
            "NM",
            "IL",
            "NV",
            "NY",
            "ID",
            "OH",
            "IA",
            "OK",
            "OR",
            "HI",
            "PA",
            "RI",
            "Grand Princess",
            "SC",
            "GA",
            "TN",
            "MI",
            "AR",
            "WY",
            "WV",
            "CT",
            "DE",
            "WA",
            "UT",
            "CA",
            "FL",
            "VA",
            "AZ",
            "WI",
            "TX",
            "Diamond Princess",
            "CO",
            "DC",
            "VT"
           ],
           "name": "",
           "type": "choropleth",
           "z": [
            0,
            4,
            0,
            0,
            3,
            1,
            8,
            0,
            0,
            92,
            7,
            1,
            0,
            3,
            6,
            1,
            15,
            6,
            0,
            12,
            4,
            173,
            0,
            3,
            8,
            2,
            15,
            2,
            12,
            3,
            21,
            7,
            17,
            7,
            0,
            0,
            0,
            0,
            2,
            0,
            267,
            2,
            144,
            15,
            7,
            6,
            3,
            13,
            46,
            15,
            5,
            1
           ]
          }
         ],
         "name": "03-10-2020"
        },
        {
         "data": [
          {
           "coloraxis": "coloraxis",
           "geo": "geo",
           "hovertemplate": "Date=03-11-2020<br>Code=%{location}<br>Confirmed=%{z}<extra></extra>",
           "locationmode": "USA-states",
           "locations": [
            "MT",
            "KS",
            "IL",
            "CA",
            "Grand Princess",
            "RI",
            "MD",
            "WA",
            "MA",
            "MI",
            "NE",
            "WY",
            "MS",
            "Diamond Princess",
            "VT",
            "TX",
            "HI",
            "WV",
            "ID",
            "ND",
            "LA",
            "OH",
            "NV",
            "NC",
            "DC",
            "IA",
            "KY",
            "OK",
            "AZ",
            "AR",
            "WI",
            "UT",
            "VA",
            "DE",
            "CT",
            "SC",
            "OR",
            "PA",
            "NH",
            "NY",
            "MN",
            "NM",
            "GA",
            "TN",
            "IN",
            "FL",
            "MO",
            "NJ",
            "SD",
            "CO",
            "ME",
            "AK"
           ],
           "name": "",
           "type": "choropleth",
           "z": [
            1,
            1,
            25,
            177,
            21,
            5,
            9,
            366,
            95,
            2,
            5,
            0,
            0,
            46,
            1,
            21,
            2,
            0,
            0,
            0,
            6,
            4,
            7,
            7,
            10,
            13,
            8,
            2,
            9,
            1,
            6,
            3,
            9,
            1,
            3,
            10,
            19,
            16,
            5,
            220,
            5,
            3,
            23,
            9,
            11,
            28,
            1,
            23,
            8,
            34,
            0,
            0
           ]
          }
         ],
         "name": "03-11-2020"
        },
        {
         "data": [
          {
           "coloraxis": "coloraxis",
           "geo": "geo",
           "hovertemplate": "Date=03-12-2020<br>Code=%{location}<br>Confirmed=%{z}<extra></extra>",
           "locationmode": "USA-states",
           "locations": [
            "ME",
            "IL",
            "IA",
            "VA",
            "CO",
            "NJ",
            "KS",
            "AR",
            "DE",
            "MT",
            "KY",
            "OK",
            "TN",
            "HI",
            "AZ",
            "MA",
            "MN",
            "FL",
            "WI",
            "WV",
            "VT",
            "AK",
            "UT",
            "WY",
            "CT",
            "SD",
            "WA",
            "PA",
            "OR",
            "GA",
            "TX",
            "NE",
            "NH",
            "ID",
            "SC",
            "MO",
            "ND",
            "Diamond Princess",
            "NY",
            "MI",
            "MD",
            "LA",
            "OH",
            "Grand Princess",
            "CA",
            "DC",
            "RI",
            "NV",
            "IN",
            "NC",
            "MS",
            "NM"
           ],
           "name": "",
           "type": "choropleth",
           "z": [
            0,
            32,
            16,
            17,
            45,
            29,
            1,
            6,
            1,
            1,
            10,
            2,
            18,
            2,
            9,
            108,
            9,
            35,
            8,
            0,
            2,
            0,
            5,
            1,
            5,
            8,
            442,
            22,
            24,
            31,
            27,
            10,
            6,
            0,
            12,
            1,
            1,
            46,
            328,
            2,
            12,
            19,
            5,
            21,
            221,
            10,
            5,
            14,
            13,
            15,
            1,
            5
           ]
          }
         ],
         "name": "03-12-2020"
        },
        {
         "data": [
          {
           "coloraxis": "coloraxis",
           "geo": "geo",
           "hovertemplate": "Date=03-13-2020<br>Code=%{location}<br>Confirmed=%{z}<extra></extra>",
           "locationmode": "USA-states",
           "locations": [
            "KY",
            "AR",
            "DE",
            "AK",
            "ND",
            "NE",
            "HI",
            "ID",
            "CT",
            "NC",
            "WI",
            "IN",
            "NY",
            "AZ",
            "ME",
            "CO",
            "UT",
            "DC",
            "IA",
            "MI",
            "LA",
            "OK",
            "TN",
            "OH",
            "FL",
            "NV",
            "OR",
            "VT",
            "VA",
            "MN",
            "Grand Princess",
            "WY",
            "NM",
            "IL",
            "CA",
            "MD",
            "PA",
            "SD",
            "MS",
            "RI",
            "WA",
            "MA",
            "AL",
            "WV",
            "NH",
            "SC",
            "TX",
            "MT",
            "MO",
            "NJ",
            "GA",
            "Diamond Princess",
            "KS"
           ],
           "name": "",
           "type": "choropleth",
           "z": [
            14,
            6,
            4,
            1,
            1,
            13,
            2,
            1,
            11,
            17,
            19,
            13,
            421,
            9,
            1,
            49,
            9,
            10,
            17,
            16,
            36,
            2,
            26,
            13,
            50,
            17,
            30,
            2,
            30,
            14,
            21,
            1,
            10,
            46,
            282,
            18,
            41,
            8,
            1,
            14,
            568,
            123,
            5,
            0,
            6,
            13,
            43,
            1,
            2,
            29,
            42,
            46,
            5
           ]
          }
         ],
         "name": "03-13-2020"
        },
        {
         "data": [
          {
           "coloraxis": "coloraxis",
           "geo": "geo",
           "hovertemplate": "Date=03-14-2020<br>Code=%{location}<br>Confirmed=%{z}<extra></extra>",
           "locationmode": "USA-states",
           "locations": [
            "NV",
            "AR",
            "IL",
            "NC",
            "GA",
            "Grand Princess",
            "MN",
            "RI",
            "NM",
            "OH",
            "MI",
            "LA",
            "CA",
            "DC",
            "NY",
            "MD",
            "Diamond Princess",
            "IN",
            "SC",
            "ID",
            "NE",
            "FL",
            "ND",
            "KY",
            "TX",
            "MS",
            "OR",
            "NJ",
            "IA",
            "WI",
            "AZ",
            "U.S.",
            "CT",
            "ME",
            "WA",
            "HI",
            "SD",
            "AL",
            "DE",
            "VA",
            "MO",
            "WV",
            "CO",
            "PA",
            "VT",
            "MT",
            "UT",
            "KS",
            "TN",
            "OK",
            "PR",
            "WY",
            "NH",
            "MA"
           ],
           "name": "",
           "type": "choropleth",
           "z": [
            21,
            12,
            64,
            24,
            66,
            21,
            21,
            20,
            10,
            26,
            25,
            77,
            340,
            10,
            525,
            26,
            46,
            16,
            19,
            2,
            14,
            76,
            1,
            14,
            57,
            6,
            32,
            69,
            17,
            27,
            12,
            1,
            22,
            3,
            572,
            4,
            9,
            6,
            6,
            41,
            4,
            0,
            101,
            47,
            5,
            5,
            10,
            8,
            32,
            4,
            3,
            2,
            7,
            138
           ]
          }
         ],
         "name": "03-14-2020"
        },
        {
         "data": [
          {
           "coloraxis": "coloraxis",
           "geo": "geo",
           "hovertemplate": "Date=03-15-2020<br>Code=%{location}<br>Confirmed=%{z}<extra></extra>",
           "locationmode": "USA-states",
           "locations": [
            "NH",
            "NJ",
            "KY",
            "VA",
            "VT",
            "KS",
            "NV",
            "WA",
            "NE",
            "IL",
            "CA",
            "NM",
            "AZ",
            "DC",
            "CO",
            "CT",
            "FL",
            "MT",
            "GA",
            "IN",
            "MN",
            "U.S.",
            "WI",
            "MD",
            "SC",
            "MO",
            "HI",
            "DE",
            "OR",
            "AL",
            "RI",
            "Grand Princess",
            "WV",
            "PA",
            "TX",
            "WY",
            "MS",
            "Guam",
            "MA",
            "Diamond Princess",
            "OK",
            "PR",
            "OH",
            "ME",
            "UT",
            "LA",
            "SD",
            "AK",
            "TN",
            "NY",
            "AR",
            "ID",
            "NC",
            "ND",
            "IA",
            "MI"
           ],
           "name": "",
           "type": "choropleth",
           "z": [
            13,
            98,
            20,
            45,
            8,
            8,
            24,
            643,
            17,
            93,
            426,
            13,
            13,
            16,
            131,
            24,
            115,
            7,
            99,
            20,
            35,
            1,
            32,
            32,
            28,
            5,
            6,
            7,
            36,
            12,
            20,
            21,
            0,
            66,
            72,
            3,
            10,
            3,
            164,
            46,
            7,
            5,
            37,
            12,
            28,
            91,
            9,
            1,
            39,
            732,
            16,
            5,
            33,
            1,
            18,
            33
           ]
          }
         ],
         "name": "03-15-2020"
        },
        {
         "data": [
          {
           "coloraxis": "coloraxis",
           "geo": "geo",
           "hovertemplate": "Date=03-16-2020<br>Code=%{location}<br>Confirmed=%{z}<extra></extra>",
           "locationmode": "USA-states",
           "locations": [
            "TX",
            "MS",
            "FL",
            "MO",
            "ME",
            "IL",
            "PR",
            "Grand Princess",
            "TN",
            "MI",
            "Diamond Princess",
            "SD",
            "CO",
            "CA",
            "SC",
            "MD",
            "NM",
            "AK",
            "NJ",
            "KS",
            "MN",
            "Virgin Islands",
            "GA",
            "NH",
            "RI",
            "ND",
            "Guam",
            "MA",
            "AZ",
            "MT",
            "NE",
            "OK",
            "UT",
            "IA",
            "NC",
            "LA",
            "NV",
            "OH",
            "KY",
            "AR",
            "NY",
            "DC",
            "ID",
            "CT",
            "WI",
            "IN",
            "PA",
            "VT",
            "AL",
            "HI",
            "WY",
            "OR",
            "VA",
            "WV",
            "DE",
            "WA"
           ],
           "name": "",
           "type": "choropleth",
           "z": [
            85,
            13,
            155,
            6,
            17,
            105,
            5,
            20,
            52,
            53,
            47,
            10,
            160,
            557,
            33,
            41,
            17,
            1,
            178,
            11,
            54,
            1,
            121,
            17,
            21,
            1,
            3,
            197,
            18,
            7,
            18,
            10,
            39,
            23,
            38,
            136,
            45,
            50,
            21,
            22,
            967,
            22,
            5,
            30,
            47,
            25,
            77,
            12,
            29,
            7,
            3,
            39,
            49,
            0,
            8,
            904
           ]
          }
         ],
         "name": "03-16-2020"
        },
        {
         "data": [
          {
           "coloraxis": "coloraxis",
           "geo": "geo",
           "hovertemplate": "Date=03-17-2020<br>Code=%{location}<br>Confirmed=%{z}<extra></extra>",
           "locationmode": "USA-states",
           "locations": [
            "ND",
            "KY",
            "WI",
            "AR",
            "WV",
            "MI",
            "WY",
            "MA",
            "MS",
            "ME",
            "MO",
            "NC",
            "AK",
            "AL",
            "Virgin Islands",
            "NH",
            "WA",
            "NE",
            "MT",
            "KS",
            "MD",
            "AZ",
            "CA",
            "LA",
            "MN",
            "CO",
            "IL",
            "Diamond Princess",
            "RI",
            "Guam",
            "VA",
            "PR",
            "DC",
            "NM",
            "TN",
            "OH",
            "VT",
            "NY",
            "SD",
            "ID",
            "GA",
            "Grand Princess",
            "IA",
            "OR",
            "OK",
            "HI",
            "FL",
            "NJ",
            "DE",
            "UT",
            "SC",
            "TX",
            "NV",
            "CT",
            "IN",
            "PA"
           ],
           "name": "",
           "type": "choropleth",
           "z": [
            3,
            26,
            72,
            22,
            1,
            65,
            11,
            218,
            21,
            32,
            11,
            64,
            3,
            39,
            2,
            26,
            1076,
            21,
            9,
            18,
            60,
            20,
            698,
            196,
            60,
            160,
            161,
            47,
            23,
            3,
            67,
            5,
            22,
            23,
            74,
            67,
            12,
            1706,
            11,
            8,
            146,
            21,
            23,
            66,
            19,
            10,
            216,
            267,
            16,
            51,
            47,
            110,
            56,
            68,
            30,
            112
           ]
          }
         ],
         "name": "03-17-2020"
        },
        {
         "data": [
          {
           "coloraxis": "coloraxis",
           "geo": "geo",
           "hovertemplate": "Date=03-18-2020<br>Code=%{location}<br>Confirmed=%{z}<extra></extra>",
           "locationmode": "USA-states",
           "locations": [
            "DC",
            "SC",
            "NV",
            "MO",
            "WA",
            "AR",
            "WY",
            "MD",
            "RI",
            "KY",
            "Grand Princess",
            "IN",
            "TX",
            "HI",
            "AL",
            "DE",
            "WI",
            "US",
            "WV",
            "MT",
            "PA",
            "OK",
            "IA",
            "Guam",
            "UT",
            "MA",
            "NC",
            "PR",
            "LA",
            "OH",
            "United States Virgin Islands",
            "MS",
            "NY",
            "ID",
            "ND",
            "NE",
            "OR",
            "AZ",
            "CA",
            "GA",
            "TN",
            "ME",
            "VA",
            "MN",
            "KS",
            "NM",
            "Diamond Princess",
            "NH",
            "VT",
            "IL",
            "CO",
            "Virgin Islands",
            "FL",
            "CT",
            "MI",
            "SD",
            "AK",
            "NJ"
           ],
           "name": "",
           "type": "choropleth",
           "z": [
            31,
            47,
            55,
            18,
            1014,
            33,
            15,
            85,
            33,
            27,
            21,
            39,
            173,
            14,
            46,
            19,
            92,
            1,
            1,
            11,
            152,
            19,
            29,
            5,
            51,
            218,
            70,
            5,
            257,
            86,
            2,
            34,
            2495,
            9,
            6,
            24,
            68,
            27,
            751,
            199,
            79,
            42,
            77,
            77,
            18,
            23,
            47,
            26,
            18,
            162,
            184,
            2,
            314,
            68,
            83,
            11,
            6,
            267
           ]
          }
         ],
         "name": "03-18-2020"
        },
        {
         "data": [
          {
           "coloraxis": "coloraxis",
           "geo": "geo",
           "hovertemplate": "Date=03-19-2020<br>Code=%{location}<br>Confirmed=%{z}<extra></extra>",
           "locationmode": "USA-states",
           "locations": [
            "NE",
            "PR",
            "SD",
            "LA",
            "HI",
            "IL",
            "Virgin Islands",
            "OH",
            "UT",
            "FL",
            "NC",
            "CA",
            "WI",
            "NM",
            "IA",
            "ME",
            "US",
            "OK",
            "Guam",
            "TN",
            "PA",
            "NH",
            "MI",
            "MT",
            "MA",
            "DE",
            "TX",
            "NY",
            "MD",
            "United States Virgin Islands",
            "IN",
            "AK",
            "WA",
            "SC",
            "CT",
            "NV",
            "RI",
            "AZ",
            "KY",
            "MN",
            "WY",
            "VA",
            "MS",
            "DC",
            "GA",
            "CO",
            "NJ",
            "Diamond Princess",
            "ID",
            "KS",
            "ND",
            "AL",
            "WV",
            "VT",
            "AR",
            "OR",
            "MO",
            "Grand Princess"
           ],
           "name": "",
           "type": "choropleth",
           "z": [
            29,
            5,
            11,
            392,
            16,
            422,
            3,
            119,
            80,
            417,
            123,
            952,
            159,
            35,
            44,
            52,
            1,
            44,
            12,
            154,
            206,
            44,
            334,
            11,
            328,
            30,
            260,
            5365,
            107,
            2,
            60,
            9,
            1376,
            81,
            159,
            95,
            44,
            45,
            37,
            89,
            18,
            99,
            50,
            40,
            287,
            277,
            742,
            47,
            11,
            34,
            18,
            78,
            2,
            22,
            62,
            88,
            31,
            22
           ]
          }
         ],
         "name": "03-19-2020"
        },
        {
         "data": [
          {
           "coloraxis": "coloraxis",
           "geo": "geo",
           "hovertemplate": "Date=03-20-2020<br>Code=%{location}<br>Confirmed=%{z}<extra></extra>",
           "locationmode": "USA-states",
           "locations": [
            "FL",
            "DE",
            "OR",
            "MD",
            "Guam",
            "SC",
            "AK",
            "MN",
            "GA",
            "MO",
            "Grand Princess",
            "Diamond Princess",
            "WV",
            "TX",
            "PR",
            "SD",
            "MA",
            "TN",
            "PA",
            "ME",
            "MI",
            "MS",
            "WY",
            "MT",
            "RI",
            "OH",
            "NC",
            "VT",
            "LA",
            "VA",
            "AZ",
            "CT",
            "NY",
            "CO",
            "ID",
            "NE",
            "United States Virgin Islands",
            "WA",
            "AR",
            "UT",
            "DC",
            "NV",
            "KY",
            "ND",
            "IL",
            "KS",
            "AL",
            "NH",
            "US",
            "NM",
            "CA",
            "HI",
            "WI",
            "IA",
            "IN",
            "OK",
            "NJ"
           ],
           "name": "",
           "type": "choropleth",
           "z": [
            563,
            38,
            114,
            149,
            14,
            126,
            12,
            115,
            420,
            53,
            23,
            49,
            7,
            394,
            14,
            14,
            413,
            233,
            303,
            56,
            552,
            80,
            19,
            15,
            54,
            173,
            172,
            29,
            538,
            122,
            78,
            194,
            8310,
            363,
            23,
            37,
            3,
            1524,
            96,
            78,
            71,
            114,
            47,
            19,
            585,
            44,
            83,
            44,
            1,
            43,
            1177,
            26,
            207,
            45,
            86,
            49,
            890
           ]
          }
         ],
         "name": "03-20-2020"
        },
        {
         "data": [
          {
           "coloraxis": "coloraxis",
           "geo": "geo",
           "hovertemplate": "Date=03-21-2020<br>Code=%{location}<br>Confirmed=%{z}<extra></extra>",
           "locationmode": "USA-states",
           "locations": [
            "RI",
            "FL",
            "UT",
            "SC",
            "CA",
            "NH",
            "IN",
            "NV",
            "MD",
            "NE",
            "MI",
            "IL",
            "SD",
            "CO",
            "Diamond Princess",
            "VT",
            "TN",
            "AK",
            "GA",
            "NM",
            "VA",
            "AZ",
            "NJ",
            "MN",
            "ME",
            "CT",
            "KS",
            "United States Virgin Islands",
            "AL",
            "KY",
            "PR",
            "MA",
            "LA",
            "WY",
            "PA",
            "TX",
            "DE",
            "MS",
            "IA",
            "Guam",
            "MT",
            "WV",
            "US",
            "HI",
            "WI",
            "OR",
            "OK",
            "NY",
            "OH",
            "NC",
            "ND",
            "Grand Princess",
            "MO",
            "WA",
            "ID",
            "DC",
            "AR"
           ],
           "name": "",
           "type": "choropleth",
           "z": [
            66,
            659,
            136,
            171,
            1364,
            55,
            128,
            161,
            193,
            38,
            788,
            753,
            14,
            390,
            49,
            29,
            371,
            15,
            507,
            43,
            156,
            118,
            1327,
            138,
            70,
            194,
            57,
            6,
            131,
            87,
            21,
            525,
            585,
            23,
            396,
            581,
            45,
            140,
            68,
            15,
            21,
            8,
            1,
            37,
            282,
            114,
            53,
            11710,
            248,
            253,
            28,
            23,
            74,
            1793,
            36,
            98,
            122
           ]
          }
         ],
         "name": "03-21-2020"
        },
        {
         "data": [
          {
           "coloraxis": "coloraxis",
           "geo": "geo",
           "hovertemplate": "Date=03-22-2020<br>Code=%{location}<br>Confirmed=%{z}<extra></extra>",
           "locationmode": "USA-states",
           "locations": [
            "MT",
            "NJ",
            "WV",
            "OK",
            "WA",
            "RI",
            "NH",
            "WI",
            "Virgin Islands",
            "OR",
            "NV",
            "UT",
            "NM",
            "ND",
            "SD",
            "MS",
            "PR",
            "NC",
            "NY",
            "VA",
            "Northern Mariana Islands",
            "NE",
            "SC",
            "VT",
            "PA",
            "TN",
            "OH",
            "MI",
            "TX",
            "MN",
            "MO",
            "WY",
            "Wuhan Evacuee",
            "DE",
            "KS",
            "AL",
            "ME",
            "Grand Princess",
            "MA",
            "Diamond Princess",
            "IN",
            "CO",
            "KY",
            "Guam",
            "LA",
            "GA",
            "DC",
            "FL",
            "CA",
            "AK",
            "AR",
            "IA",
            "IL",
            "American Samoa",
            "ID",
            "AZ",
            "MD",
            "HI",
            "CT"
           ],
           "name": "",
           "type": "choropleth",
           "z": [
            34,
            1914,
            16,
            67,
            1997,
            83,
            74,
            381,
            6,
            161,
            190,
            162,
            57,
            28,
            21,
            207,
            23,
            305,
            15800,
            220,
            0,
            51,
            196,
            52,
            509,
            505,
            356,
            1035,
            643,
            167,
            87,
            26,
            4,
            56,
            65,
            157,
            89,
            30,
            646,
            49,
            204,
            591,
            103,
            27,
            837,
            621,
            204,
            1004,
            1646,
            20,
            165,
            90,
            1049,
            0,
            42,
            152,
            244,
            53,
            327
           ]
          }
         ],
         "name": "03-22-2020"
        },
        {
         "data": [
          {
           "coloraxis": "coloraxis",
           "geo": "geo",
           "hovertemplate": "Date=03-23-2020<br>Code=%{location}<br>Confirmed=%{z}<extra></extra>",
           "locationmode": "USA-states",
           "locations": [
            "LA",
            "DC",
            "NC",
            "UT",
            "Diamond Princess",
            "VA",
            "MT",
            "CO",
            "VT",
            "Virgin Islands",
            "MS",
            "CA",
            "American Samoa",
            "MO",
            "AZ",
            "CT",
            "MA",
            "FL",
            "TX",
            "ID",
            "Northern Mariana Islands",
            "NV",
            "IA",
            "OH",
            "IL",
            "OK",
            "NM",
            "HI",
            "OR",
            "Guam",
            "NJ",
            "PA",
            "PR",
            "IN",
            "Grand Princess",
            "RI",
            "NH",
            "KS",
            "SC",
            "GA",
            "SD",
            "NE",
            "KY",
            "MD",
            "TN",
            "ND",
            "DE",
            "WA",
            "NY",
            "MI",
            "AR",
            "AL",
            "ME",
            "MN",
            "WI",
            "WY",
            "WV",
            "AK"
           ],
           "name": "",
           "type": "choropleth",
           "z": [
            1172,
            120,
            353,
            257,
            49,
            254,
            34,
            704,
            75,
            7,
            249,
            2108,
            0,
            187,
            235,
            415,
            777,
            1227,
            758,
            68,
            0,
            245,
            105,
            443,
            1285,
            81,
            83,
            56,
            191,
            29,
            2844,
            698,
            31,
            270,
            28,
            106,
            101,
            84,
            298,
            772,
            28,
            51,
            123,
            290,
            614,
            30,
            68,
            2221,
            20884,
            1329,
            192,
            196,
            107,
            234,
            425,
            26,
            16,
            30
           ]
          }
         ],
         "name": "03-23-2020"
        },
        {
         "data": [
          {
           "coloraxis": "coloraxis",
           "geo": "geo",
           "hovertemplate": "Date=03-24-2020<br>Code=%{location}<br>Confirmed=%{z}<extra></extra>",
           "locationmode": "USA-states",
           "locations": [
            "KY",
            "NE",
            "SD",
            "SC",
            "GA",
            "CA",
            "MI",
            "Recovered",
            "RI",
            "NH",
            "ME",
            "Grand Princess",
            "American Samoa",
            "KS",
            "MS",
            "TN",
            "ND",
            "VA",
            "WI",
            "CT",
            "AL",
            "MA",
            "UT",
            "LA",
            "FL",
            "CO",
            "VT",
            "DC",
            "WV",
            "DE",
            "TX",
            "Virgin Islands",
            "Diamond Princess",
            "NC",
            "IN",
            "MT",
            "HI",
            "OK",
            "OH",
            "NM",
            "MD",
            "IL",
            "IA",
            "MN",
            "NV",
            "AZ",
            "WA",
            "Northern Mariana Islands",
            "AK",
            "NY",
            "WY",
            "ID",
            "PR",
            "MO",
            "Guam",
            "PA",
            "AR",
            "OR",
            "NJ"
           ],
           "name": "",
           "type": "choropleth",
           "z": [
            162,
            66,
            30,
            342,
            1026,
            2538,
            1793,
            0,
            124,
            101,
            118,
            28,
            0,
            100,
            320,
            772,
            36,
            293,
            481,
            618,
            242,
            1159,
            298,
            1388,
            1412,
            723,
            95,
            141,
            22,
            104,
            955,
            17,
            49,
            495,
            368,
            51,
            90,
            106,
            567,
            100,
            349,
            1537,
            124,
            261,
            278,
            326,
            2328,
            0,
            34,
            25681,
            29,
            81,
            39,
            257,
            32,
            946,
            219,
            210,
            3675
           ]
          }
         ],
         "name": "03-24-2020"
        },
        {
         "data": [
          {
           "coloraxis": "coloraxis",
           "geo": "geo",
           "hovertemplate": "Date=03-25-2020<br>Code=%{location}<br>Confirmed=%{z}<extra></extra>",
           "locationmode": "USA-states",
           "locations": [
            "WV",
            "WY",
            "DC",
            "OH",
            "MT",
            "VA",
            "UT",
            "IA",
            "WI",
            "NV",
            "LA",
            "Northern Mariana Islands",
            "ID",
            "NY",
            "CT",
            "NC",
            "PR",
            "Diamond Princess",
            "TX",
            "IN",
            "Grand Princess",
            "NJ",
            "NH",
            "Guam",
            "RI",
            "OR",
            "Recovered",
            "AK",
            "KS",
            "GA",
            "MI",
            "HI",
            "SC",
            "SD",
            "NE",
            "IL",
            "KY",
            "TN",
            "ME",
            "ND",
            "NM",
            "OK",
            "DE",
            "FL",
            "PA",
            "WA",
            "VT",
            "AL",
            "MN",
            "MD",
            "CO",
            "MS",
            "MO",
            "MA",
            "American Samoa",
            "Virgin Islands",
            "CA",
            "AZ",
            "AR"
           ],
           "name": "",
           "type": "choropleth",
           "z": [
            39,
            44,
            187,
            704,
            65,
            396,
            340,
            146,
            621,
            323,
            1795,
            0,
            91,
            30841,
            875,
            590,
            51,
            49,
            1229,
            477,
            28,
            4402,
            108,
            37,
            132,
            266,
            0,
            41,
            134,
            1247,
            2296,
            91,
            424,
            41,
            71,
            1865,
            197,
            916,
            142,
            45,
            113,
            164,
            119,
            1682,
            1260,
            2591,
            125,
            381,
            286,
            425,
            1021,
            377,
            354,
            1838,
            0,
            17,
            2998,
            401,
            280
           ]
          }
         ],
         "name": "03-25-2020"
        },
        {
         "data": [
          {
           "coloraxis": "coloraxis",
           "geo": "geo",
           "hovertemplate": "Date=03-26-2020<br>Code=%{location}<br>Confirmed=%{z}<extra></extra>",
           "locationmode": "USA-states",
           "locations": [
            "CA",
            "DE",
            "MO",
            "MI",
            "Guam",
            "TN",
            "SD",
            "OR",
            "NE",
            "AK",
            "MS",
            "FL",
            "DC",
            "VT",
            "NJ",
            "Diamond Princess",
            "PA",
            "ME",
            "RI",
            "Recovered",
            "NH",
            "ND",
            "Virgin Islands",
            "KS",
            "SC",
            "American Samoa",
            "WV",
            "AZ",
            "TX",
            "PR",
            "IN",
            "GA",
            "Grand Princess",
            "MT",
            "KY",
            "CO",
            "IA",
            "CT",
            "OH",
            "WY",
            "Northern Mariana Islands",
            "WA",
            "VA",
            "OK",
            "NY",
            "UT",
            "NV",
            "HI",
            "WI",
            "NC",
            "IL",
            "NM",
            "AL",
            "LA",
            "ID",
            "AR",
            "MA",
            "MD",
            "MN"
           ],
           "name": "",
           "type": "choropleth",
           "z": [
            3899,
            130,
            520,
            2845,
            45,
            1097,
            46,
            316,
            74,
            56,
            485,
            2357,
            231,
            158,
            6876,
            49,
            1795,
            155,
            165,
            0,
            137,
            51,
            17,
            172,
            424,
            0,
            52,
            508,
            1563,
            64,
            645,
            1525,
            28,
            90,
            247,
            1430,
            179,
            1012,
            868,
            53,
            0,
            3207,
            466,
            248,
            37877,
            396,
            420,
            95,
            728,
            738,
            2538,
            113,
            517,
            2304,
            146,
            335,
            2417,
            583,
            344
           ]
          }
         ],
         "name": "03-26-2020"
        },
        {
         "data": [
          {
           "coloraxis": "coloraxis",
           "geo": "geo",
           "hovertemplate": "Date=03-27-2020<br>Code=%{location}<br>Confirmed=%{z}<extra></extra>",
           "locationmode": "USA-states",
           "locations": [
            "ID",
            "CA",
            "NV",
            "Northern Mariana Islands",
            "KS",
            "GA",
            "Virgin Islands",
            "NY",
            "FL",
            "MA",
            "MI",
            "AR",
            "SD",
            "NE",
            "SC",
            "AZ",
            "American Samoa",
            "IA",
            "Guam",
            "MD",
            "AK",
            "NJ",
            "NM",
            "MO",
            "HI",
            "PA",
            "ME",
            "OK",
            "IN",
            "MN",
            "PR",
            "Grand Princess",
            "WA",
            "OH",
            "IL",
            "NH",
            "WY",
            "RI",
            "OR",
            "Recovered",
            "CO",
            "MS",
            "LA",
            "DE",
            "WI",
            "AL",
            "NC",
            "KY",
            "Diamond Princess",
            "VT",
            "VA",
            "TN",
            "CT",
            "DC",
            "ND",
            "WV",
            "TX",
            "UT",
            "MT"
           ],
           "name": "",
           "type": "choropleth",
           "z": [
            205,
            4657,
            536,
            0,
            206,
            2000,
            19,
            44876,
            2900,
            3240,
            3634,
            381,
            58,
            82,
            542,
            665,
            0,
            235,
            51,
            775,
            58,
            8825,
            136,
            666,
            106,
            2345,
            168,
            322,
            979,
            396,
            79,
            28,
            3477,
            1137,
            3024,
            158,
            70,
            203,
            416,
            0,
            1433,
            579,
            2744,
            163,
            926,
            587,
            887,
            301,
            49,
            184,
            607,
            1318,
            1291,
            271,
            68,
            76,
            1937,
            472,
            109
           ]
          }
         ],
         "name": "03-27-2020"
        },
        {
         "data": [
          {
           "coloraxis": "coloraxis",
           "geo": "geo",
           "hovertemplate": "Date=03-28-2020<br>Code=%{location}<br>Confirmed=%{z}<extra></extra>",
           "locationmode": "USA-states",
           "locations": [
            "CA",
            "PA",
            "OK",
            "Guam",
            "UT",
            "NM",
            "VT",
            "HI",
            "WI",
            "Diamond Princess",
            "LA",
            "KS",
            "RI",
            "ND",
            "IL",
            "Grand Princess",
            "NC",
            "AL",
            "AZ",
            "NH",
            "WV",
            "DC",
            "AK",
            "Recovered",
            "MD",
            "American Samoa",
            "SD",
            "KY",
            "ME",
            "VA",
            "MA",
            "NY",
            "NE",
            "AR",
            "MO",
            "Northern Mariana Islands",
            "DE",
            "MN",
            "PR",
            "NV",
            "NJ",
            "ID",
            "TX",
            "MT",
            "MS",
            "IN",
            "IA",
            "CO",
            "SC",
            "TN",
            "WY",
            "Virgin Islands",
            "WA",
            "CT",
            "OR",
            "GA",
            "OH",
            "MI",
            "FL"
           ],
           "name": "",
           "type": "choropleth",
           "z": [
            5095,
            2845,
            377,
            55,
            602,
            208,
            211,
            149,
            1055,
            49,
            3315,
            266,
            239,
            94,
            3491,
            103,
            1020,
            694,
            773,
            187,
            96,
            304,
            85,
            0,
            995,
            0,
            68,
            380,
            211,
            740,
            4257,
            52410,
            96,
            409,
            836,
            0,
            214,
            441,
            100,
            626,
            11124,
            234,
            2455,
            129,
            663,
            1233,
            298,
            1740,
            660,
            1511,
            82,
            22,
            4030,
            1524,
            479,
            2366,
            1406,
            4650,
            3763
           ]
          }
         ],
         "name": "03-28-2020"
        },
        {
         "data": [
          {
           "coloraxis": "coloraxis",
           "geo": "geo",
           "hovertemplate": "Date=03-29-2020<br>Code=%{location}<br>Confirmed=%{z}<extra></extra>",
           "locationmode": "USA-states",
           "locations": [
            "VT",
            "MO",
            "OR",
            "Guam",
            "DE",
            "NJ",
            "AL",
            "MD",
            "MT",
            "ID",
            "VA",
            "NY",
            "AR",
            "Northern Mariana Islands",
            "NV",
            "CO",
            "WY",
            "IA",
            "DC",
            "WA",
            "OH",
            "UT",
            "OK",
            "HI",
            "NM",
            "LA",
            "WI",
            "IL",
            "NC",
            "AZ",
            "CT",
            "PA",
            "ME",
            "MN",
            "American Samoa",
            "NH",
            "AK",
            "IN",
            "ND",
            "MI",
            "RI",
            "SD",
            "WV",
            "Recovered",
            "Diamond Princess",
            "KS",
            "NE",
            "GA",
            "Virgin Islands",
            "TN",
            "SC",
            "MA",
            "CA",
            "Grand Princess",
            "MS",
            "PR",
            "KY",
            "FL",
            "TX"
           ],
           "name": "",
           "type": "choropleth",
           "z": [
            235,
            915,
            548,
            56,
            232,
            13386,
            825,
            1239,
            154,
            281,
            890,
            59648,
            426,
            0,
            920,
            2307,
            86,
            336,
            342,
            4465,
            1653,
            720,
            429,
            149,
            237,
            3540,
            1164,
            4596,
            1191,
            919,
            1993,
            3432,
            253,
            503,
            0,
            214,
            102,
            1513,
            98,
            5488,
            294,
            90,
            113,
            0,
            49,
            330,
            108,
            2651,
            23,
            1720,
            774,
            4955,
            5852,
            103,
            759,
            127,
            438,
            4246,
            2792
           ]
          }
         ],
         "name": "03-29-2020"
        },
        {
         "data": [
          {
           "coloraxis": "coloraxis",
           "geo": "geo",
           "hovertemplate": "Date=03-30-2020<br>Code=%{location}<br>Confirmed=%{z}<extra></extra>",
           "locationmode": "USA-states",
           "locations": [
            "Diamond Princess",
            "MD",
            "KS",
            "PA",
            "GA",
            "UT",
            "WY",
            "AK",
            "CA",
            "NE",
            "CT",
            "OH",
            "TX",
            "MN",
            "ID",
            "Virgin Islands",
            "AZ",
            "TN",
            "WA",
            "SD",
            "MO",
            "SC",
            "Northern Mariana Islands",
            "IA",
            "MA",
            "AR",
            "DE",
            "CO",
            "WV",
            "OK",
            "Guam",
            "NV",
            "HI",
            "American Samoa",
            "DC",
            "NC",
            "PR",
            "IL",
            "IN",
            "AL",
            "NY",
            "FL",
            "Grand Princess",
            "ND",
            "MS",
            "ME",
            "NJ",
            "RI",
            "KY",
            "MI",
            "VA",
            "Recovered",
            "NM",
            "LA",
            "OR",
            "MT",
            "VT",
            "WI",
            "NH"
           ],
           "name": "",
           "type": "choropleth",
           "z": [
            49,
            1413,
            372,
            4155,
            2808,
            798,
            94,
            114,
            7138,
            145,
            2571,
            1933,
            3147,
            576,
            340,
            30,
            1157,
            1917,
            4923,
            101,
            1051,
            925,
            0,
            424,
            5752,
            473,
            264,
            2311,
            145,
            481,
            58,
            1012,
            175,
            0,
            401,
            1313,
            174,
            5056,
            1786,
            899,
            66663,
            5473,
            103,
            109,
            847,
            275,
            16636,
            408,
            479,
            6498,
            1020,
            0,
            237,
            4025,
            606,
            171,
            256,
            1230,
            314
           ]
          }
         ],
         "name": "03-30-2020"
        },
        {
         "data": [
          {
           "coloraxis": "coloraxis",
           "geo": "geo",
           "hovertemplate": "Date=03-31-2020<br>Code=%{location}<br>Confirmed=%{z}<extra></extra>",
           "locationmode": "USA-states",
           "locations": [
            "Northern Mariana Islands",
            "SD",
            "FL",
            "CO",
            "VA",
            "AK",
            "WV",
            "WY",
            "NY",
            "PA",
            "AR",
            "DE",
            "TX",
            "AZ",
            "VT",
            "PR",
            "DC",
            "Grand Princess",
            "Guam",
            "OR",
            "AL",
            "WI",
            "IA",
            "RI",
            "GA",
            "HI",
            "OK",
            "UT",
            "OH",
            "CT",
            "Diamond Princess",
            "TN",
            "Virgin Islands",
            "WA",
            "SC",
            "Recovered",
            "CA",
            "MS",
            "NM",
            "MD",
            "IN",
            "NE",
            "IL",
            "MT",
            "NV",
            "MO",
            "KY",
            "MN",
            "KS",
            "MA",
            "MI",
            "ND",
            "ME",
            "NJ",
            "NH",
            "LA",
            "ID",
            "NC"
           ],
           "name": "",
           "type": "choropleth",
           "z": [
            2,
            108,
            6741,
            2966,
            1249,
            119,
            162,
            109,
            75833,
            4963,
            523,
            319,
            3809,
            1289,
            293,
            239,
            495,
            103,
            69,
            690,
            987,
            1412,
            497,
            488,
            3929,
            204,
            568,
            888,
            2199,
            3128,
            49,
            2391,
            30,
            5432,
            1083,
            0,
            8210,
            937,
            315,
            1660,
            2158,
            172,
            5994,
            198,
            1114,
            1357,
            628,
            629,
            434,
            6620,
            7615,
            122,
            303,
            18696,
            357,
            5237,
            515,
            1535
           ]
          }
         ],
         "name": "03-31-2020"
        },
        {
         "data": [
          {
           "coloraxis": "coloraxis",
           "geo": "geo",
           "hovertemplate": "Date=04-01-2020<br>Code=%{location}<br>Confirmed=%{z}<extra></extra>",
           "locationmode": "USA-states",
           "locations": [
            "Virgin Islands",
            "MS",
            "KS",
            "IA",
            "MA",
            "ID",
            "GA",
            "DE",
            "SC",
            "CA",
            "HI",
            "NM",
            "VT",
            "DC",
            "ND",
            "Diamond Princess",
            "NC",
            "LA",
            "UT",
            "TN",
            "KY",
            "FL",
            "OH",
            "CT",
            "OK",
            "MT",
            "VA",
            "CO",
            "NE",
            "SD",
            "TX",
            "Grand Princess",
            "NY",
            "PR",
            "PA",
            "WI",
            "IL",
            "AL",
            "NJ",
            "NH",
            "MD",
            "MN",
            "AK",
            "WV",
            "AR",
            "MI",
            "ME",
            "Guam",
            "Northern Mariana Islands",
            "NV",
            "IN",
            "Recovered",
            "OR",
            "MO",
            "WA",
            "WY",
            "RI",
            "AZ"
           ],
           "name": "",
           "type": "choropleth",
           "z": [
            30,
            1073,
            485,
            547,
            7738,
            566,
            4638,
            368,
            1293,
            9399,
            224,
            340,
            321,
            586,
            142,
            49,
            1675,
            6424,
            888,
            2933,
            632,
            6956,
            2547,
            3557,
            721,
            208,
            1483,
            2982,
            210,
            129,
            4355,
            103,
            83948,
            286,
            6009,
            1556,
            6980,
            1060,
            22255,
            367,
            1986,
            689,
            132,
            191,
            584,
            9315,
            303,
            77,
            6,
            1279,
            2564,
            0,
            736,
            1613,
            5608,
            130,
            566,
            1530
           ]
          }
         ],
         "name": "04-01-2020"
        },
        {
         "data": [
          {
           "coloraxis": "coloraxis",
           "geo": "geo",
           "hovertemplate": "Date=04-02-2020<br>Code=%{location}<br>Confirmed=%{z}<extra></extra>",
           "locationmode": "USA-states",
           "locations": [
            "ME",
            "NJ",
            "HI",
            "TN",
            "KY",
            "DE",
            "Diamond Princess",
            "IL",
            "PA",
            "NM",
            "GA",
            "Recovered",
            "RI",
            "KS",
            "IN",
            "OR",
            "SC",
            "NH",
            "SD",
            "OK",
            "Grand Princess",
            "PR",
            "FL",
            "NE",
            "ND",
            "LA",
            "CO",
            "NV",
            "VT",
            "MD",
            "AL",
            "ID",
            "IA",
            "MS",
            "WI",
            "MA",
            "Virgin Islands",
            "TX",
            "AR",
            "CA",
            "MO",
            "AZ",
            "Northern Mariana Islands",
            "MN",
            "VA",
            "WA",
            "NY",
            "Guam",
            "MT",
            "WV",
            "OH",
            "CT",
            "MI",
            "WY",
            "NC",
            "DC",
            "UT",
            "AK"
           ],
           "name": "",
           "type": "choropleth",
           "z": [
            376,
            25590,
            256,
            3013,
            770,
            393,
            49,
            7695,
            7268,
            388,
            5348,
            0,
            645,
            553,
            3038,
            826,
            1554,
            316,
            165,
            881,
            103,
            316,
            9008,
            246,
            159,
            9149,
            3342,
            1463,
            338,
            2331,
            1233,
            776,
            614,
            1177,
            1748,
            8966,
            30,
            5069,
            643,
            10773,
            1857,
            1715,
            6,
            742,
            1706,
            6389,
            92506,
            82,
            241,
            216,
            2901,
            3824,
            10791,
            150,
            1977,
            653,
            1092,
            143
           ]
          }
         ],
         "name": "04-02-2020"
        },
        {
         "data": [
          {
           "coloraxis": "coloraxis",
           "geo": "geo",
           "hovertemplate": "Date=04-03-2020<br>Code=%{location}<br>Confirmed=%{z}<extra></extra>",
           "locationmode": "USA-states",
           "locations": [
            "AR",
            "NJ",
            "WA",
            "WY",
            "IN",
            "AK",
            "WV",
            "AL",
            "MI",
            "NH",
            "WI",
            "MD",
            "Grand Princess",
            "PR",
            "PA",
            "MN",
            "TX",
            "GA",
            "Recovered",
            "DE",
            "KY",
            "DC",
            "NC",
            "ND",
            "LA",
            "Diamond Princess",
            "TN",
            "UT",
            "CT",
            "MT",
            "FL",
            "SD",
            "VA",
            "CO",
            "VT",
            "NE",
            "SC",
            "MS",
            "KS",
            "MA",
            "Virgin Islands",
            "CA",
            "MO",
            "AZ",
            "RI",
            "Guam",
            "ME",
            "NM",
            "OK",
            "Northern Mariana Islands",
            "NV",
            "OH",
            "ID",
            "IL",
            "OR",
            "HI",
            "NY",
            "IA"
           ],
           "name": "",
           "type": "choropleth",
           "z": [
            704,
            29895,
            6846,
            162,
            3437,
            157,
            237,
            1495,
            12744,
            479,
            2012,
            2758,
            103,
            316,
            8570,
            788,
            5734,
            5831,
            0,
            450,
            770,
            757,
            2251,
            173,
            10297,
            49,
            3067,
            1255,
            4914,
            243,
            10268,
            187,
            2012,
            3742,
            389,
            279,
            1700,
            1358,
            629,
            10402,
            37,
            12004,
            1864,
            1937,
            711,
            84,
            432,
            534,
            990,
            8,
            1514,
            3312,
            891,
            8904,
            899,
            319,
            102987,
            699
           ]
          }
         ],
         "name": "04-03-2020"
        },
        {
         "data": [
          {
           "coloraxis": "coloraxis",
           "geo": "geo",
           "hovertemplate": "Date=04-04-2020<br>Code=%{location}<br>Confirmed=%{z}<extra></extra>",
           "locationmode": "USA-states",
           "locations": [
            "MA",
            "MO",
            "Diamond Princess",
            "UT",
            "ND",
            "ME",
            "GA",
            "MT",
            "RI",
            "DC",
            "NH",
            "WY",
            "IN",
            "MN",
            "FL",
            "NE",
            "PR",
            "KY",
            "SD",
            "NY",
            "WA",
            "CA",
            "NM",
            "Grand Princess",
            "WI",
            "AK",
            "OH",
            "CT",
            "KS",
            "HI",
            "Virgin Islands",
            "SC",
            "DE",
            "Northern Mariana Islands",
            "Guam",
            "NV",
            "Recovered",
            "MI",
            "NC",
            "NJ",
            "AR",
            "TN",
            "CO",
            "WV",
            "OR",
            "MS",
            "TX",
            "ID",
            "IL",
            "MD",
            "IA",
            "AZ",
            "OK",
            "VT",
            "VA",
            "LA",
            "PA",
            "AL"
           ],
           "name": "",
           "type": "choropleth",
           "z": [
            11736,
            2310,
            49,
            1435,
            186,
            456,
            6160,
            265,
            806,
            902,
            540,
            187,
            3953,
            865,
            11537,
            321,
            452,
            917,
            212,
            113833,
            7247,
            12837,
            534,
            103,
            2030,
            171,
            3739,
            5276,
            698,
            351,
            40,
            1917,
            593,
            8,
            93,
            1742,
            0,
            14225,
            2486,
            34124,
            743,
            3322,
            4188,
            282,
            899,
            1455,
            6567,
            1022,
            10357,
            3125,
            787,
            2187,
            1161,
            461,
            2407,
            12496,
            10444,
            1614
           ]
          }
         ],
         "name": "04-04-2020"
        },
        {
         "data": [
          {
           "coloraxis": "coloraxis",
           "geo": "geo",
           "hovertemplate": "Date=04-05-2020<br>Code=%{location}<br>Confirmed=%{z}<extra></extra>",
           "locationmode": "USA-states",
           "locations": [
            "UT",
            "CT",
            "Recovered",
            "DC",
            "AK",
            "Guam",
            "RI",
            "Virgin Islands",
            "OH",
            "OK",
            "AZ",
            "SD",
            "GA",
            "AR",
            "FL",
            "WI",
            "IA",
            "MO",
            "IN",
            "WV",
            "MI",
            "NM",
            "LA",
            "NC",
            "WY",
            "MT",
            "OR",
            "Diamond Princess",
            "MA",
            "NH",
            "SC",
            "TN",
            "CO",
            "VA",
            "MS",
            "DE",
            "PA",
            "MD",
            "TX",
            "VT",
            "NJ",
            "MN",
            "Grand Princess",
            "IL",
            "HI",
            "KS",
            "WA",
            "NV",
            "CA",
            "ID",
            "ND",
            "PR",
            "KY",
            "NY",
            "NE",
            "ME",
            "AL",
            "Northern Mariana Islands"
           ],
           "name": "",
           "type": "choropleth",
           "z": [
            1608,
            5675,
            0,
            1002,
            185,
            112,
            922,
            42,
            4043,
            1254,
            2486,
            240,
            6647,
            837,
            12350,
            2320,
            869,
            2347,
            4411,
            324,
            15718,
            670,
            13010,
            2649,
            197,
            286,
            1068,
            49,
            12500,
            621,
            2049,
            3633,
            4950,
            2640,
            1638,
            673,
            11589,
            3617,
            7209,
            512,
            37505,
            935,
            103,
            11259,
            371,
            751,
            7825,
            1855,
            15034,
            1078,
            207,
            475,
            955,
            123160,
            364,
            470,
            1765,
            8
           ]
          }
         ],
         "name": "04-05-2020"
        },
        {
         "data": [
          {
           "coloraxis": "coloraxis",
           "geo": "geo",
           "hovertemplate": "Date=04-06-2020<br>Code=%{location}<br>Confirmed=%{z}<extra></extra>",
           "locationmode": "USA-states",
           "locations": [
            "Virgin Islands",
            "AL",
            "AK",
            "TX",
            "FL",
            "SC",
            "DE",
            "GA",
            "NE",
            "MN",
            "AZ",
            "OK",
            "KS",
            "DC",
            "MI",
            "LA",
            "KY",
            "Recovered",
            "NV",
            "ME",
            "CO",
            "Grand Princess",
            "Northern Mariana Islands",
            "MT",
            "VT",
            "MA",
            "WY",
            "Diamond Princess",
            "PA",
            "VA",
            "ID",
            "IL",
            "OR",
            "NJ",
            "TN",
            "MS",
            "MD",
            "NC",
            "PR",
            "ND",
            "WA",
            "MO",
            "AR",
            "SD",
            "WV",
            "RI",
            "OH",
            "CA",
            "IN",
            "UT",
            "NM",
            "WI",
            "Guam",
            "CT",
            "HI",
            "IA",
            "NY",
            "NH"
           ],
           "name": "",
           "type": "choropleth",
           "z": [
            43,
            1952,
            190,
            8043,
            13324,
            2232,
            783,
            7314,
            417,
            986,
            2732,
            1329,
            849,
            1097,
            17221,
            14867,
            955,
            0,
            1953,
            499,
            5183,
            103,
            8,
            299,
            543,
            13837,
            210,
            49,
            13127,
            2878,
            1101,
            12262,
            1068,
            41090,
            3802,
            1738,
            4045,
            2962,
            513,
            225,
            8311,
            2736,
            875,
            288,
            345,
            1082,
            4453,
            16019,
            4956,
            1685,
            757,
            2449,
            113,
            6906,
            387,
            946,
            131815,
            715
           ]
          }
         ],
         "name": "04-06-2020"
        },
        {
         "data": [
          {
           "coloraxis": "coloraxis",
           "geo": "geo",
           "hovertemplate": "Date=04-07-2020<br>Code=%{location}<br>Confirmed=%{z}<extra></extra>",
           "locationmode": "USA-states",
           "locations": [
            "OK",
            "DE",
            "TN",
            "SD",
            "NM",
            "NE",
            "ND",
            "WI",
            "FL",
            "Diamond Princess",
            "NY",
            "HI",
            "MO",
            "WY",
            "RI",
            "OH",
            "IN",
            "UT",
            "Guam",
            "PA",
            "KY",
            "MA",
            "Northern Mariana Islands",
            "LA",
            "CT",
            "NH",
            "IA",
            "WA",
            "Grand Princess",
            "ME",
            "CO",
            "PR",
            "MT",
            "NV",
            "CA",
            "VA",
            "VT",
            "OR",
            "SC",
            "NJ",
            "AZ",
            "MS",
            "MN",
            "AK",
            "WV",
            "IL",
            "ID",
            "DC",
            "GA",
            "MI",
            "NC",
            "Recovered",
            "MD",
            "AL",
            "AR",
            "Virgin Islands",
            "KS",
            "TX"
           ],
           "name": "",
           "type": "choropleth",
           "z": [
            1474,
            928,
            4139,
            320,
            876,
            447,
            237,
            2578,
            14545,
            49,
            139875,
            410,
            3130,
            216,
            1229,
            4782,
            5510,
            1746,
            121,
            14853,
            1149,
            15202,
            8,
            16284,
            7781,
            715,
            1046,
            8692,
            103,
            519,
            5429,
            573,
            319,
            2124,
            17351,
            3335,
            575,
            1132,
            2417,
            44416,
            2870,
            1915,
            1069,
            213,
            412,
            12271,
            1170,
            1211,
            8822,
            18970,
            3299,
            0,
            4371,
            2169,
            946,
            43,
            912,
            8925
           ]
          }
         ],
         "name": "04-07-2020"
        },
        {
         "data": [
          {
           "coloraxis": "coloraxis",
           "geo": "geo",
           "hovertemplate": "Date=04-08-2020<br>Code=%{location}<br>Confirmed=%{z}<extra></extra>",
           "locationmode": "USA-states",
           "locations": [
            "CO",
            "Diamond Princess",
            "VA",
            "ID",
            "KY",
            "WA",
            "MT",
            "AL",
            "TX",
            "AZ",
            "NC",
            "DC",
            "DE",
            "AR",
            "OH",
            "NY",
            "LA",
            "UT",
            "CT",
            "HI",
            "NV",
            "VT",
            "MN",
            "MD",
            "MS",
            "SC",
            "MI",
            "WY",
            "IL",
            "GA",
            "NM",
            "WI",
            "KS",
            "IA",
            "SD",
            "MA",
            "CA",
            "OK",
            "AK",
            "NE",
            "FL",
            "PA",
            "PR",
            "NH",
            "OR",
            "NJ",
            "MO",
            "RI",
            "ME",
            "IN",
            "TN",
            "ND",
            "Guam",
            "Virgin Islands",
            "Recovered",
            "WV",
            "Grand Princess",
            "Northern Mariana Islands"
           ],
           "name": "",
           "type": "choropleth",
           "z": [
            5655,
            49,
            3645,
            1210,
            1149,
            9276,
            332,
            2328,
            9777,
            3036,
            3499,
            1440,
            1116,
            1000,
            5148,
            151061,
            17030,
            1855,
            7781,
            410,
            2259,
            605,
            1154,
            5529,
            2003,
            2417,
            20346,
            221,
            15078,
            9901,
            902,
            2710,
            1046,
            1145,
            393,
            16790,
            18897,
            1526,
            226,
            519,
            15456,
            16631,
            620,
            747,
            1181,
            47437,
            3209,
            1450,
            537,
            5943,
            4363,
            251,
            121,
            45,
            0,
            483,
            103,
            11
           ]
          }
         ],
         "name": "04-08-2020"
        },
        {
         "data": [
          {
           "coloraxis": "coloraxis",
           "geo": "geo",
           "hovertemplate": "Date=04-09-2020<br>Code=%{location}<br>Confirmed=%{z}<extra></extra>",
           "locationmode": "USA-states",
           "locations": [
            "MT",
            "NC",
            "AL",
            "IA",
            "PR",
            "MN",
            "Northern Mariana Islands",
            "NH",
            "AZ",
            "ME",
            "CA",
            "RI",
            "Guam",
            "OH",
            "GA",
            "UT",
            "AR",
            "IN",
            "WA",
            "Recovered",
            "VT",
            "NV",
            "MI",
            "CT",
            "CO",
            "DC",
            "AK",
            "KS",
            "WV",
            "SC",
            "OK",
            "DE",
            "VA",
            "SD",
            "NY",
            "ND",
            "FL",
            "TX",
            "IL",
            "MS",
            "NM",
            "MA",
            "WY",
            "ID",
            "HI",
            "Diamond Princess",
            "PA",
            "LA",
            "Grand Princess",
            "Virgin Islands",
            "NE",
            "TN",
            "MD",
            "KY",
            "NJ",
            "MO",
            "OR",
            "WI"
           ],
           "name": "",
           "type": "choropleth",
           "z": [
            354,
            3736,
            2703,
            1270,
            683,
            1240,
            11,
            819,
            3018,
            560,
            19710,
            1727,
            128,
            5512,
            10566,
            1856,
            1119,
            6351,
            9639,
            0,
            628,
            2456,
            21504,
            9784,
            5655,
            1523,
            235,
            1116,
            514,
            2793,
            1686,
            1209,
            4042,
            447,
            161779,
            269,
            16364,
            11208,
            15079,
            2260,
            865,
            18941,
            230,
            1232,
            442,
            49,
            18300,
            18283,
            103,
            45,
            568,
            4634,
            6185,
            1341,
            51027,
            3432,
            1321,
            2886
           ]
          }
         ],
         "name": "04-09-2020"
        },
        {
         "data": [
          {
           "coloraxis": "coloraxis",
           "geo": "geo",
           "hovertemplate": "Date=04-10-2020<br>Code=%{location}<br>Confirmed=%{z}<extra></extra>",
           "locationmode": "USA-states",
           "locations": [
            "VT",
            "OR",
            "Guam",
            "CA",
            "UT",
            "WA",
            "MS",
            "MO",
            "MA",
            "IL",
            "WY",
            "CO",
            "Grand Princess",
            "ME",
            "MN",
            "MT",
            "LA",
            "GA",
            "PR",
            "PA",
            "ID",
            "NH",
            "NJ",
            "VA",
            "CT",
            "IA",
            "AR",
            "NV",
            "NM",
            "HI",
            "DE",
            "OK",
            "SD",
            "FL",
            "NC",
            "NE",
            "TN",
            "AK",
            "KS",
            "AL",
            "DC",
            "Northern Mariana Islands",
            "MI",
            "NY",
            "AZ",
            "Recovered",
            "WI",
            "IN",
            "TX",
            "SC",
            "MD",
            "WV",
            "KY",
            "RI",
            "ND",
            "OH",
            "Diamond Princess",
            "Virgin Islands"
           ],
           "name": "",
           "type": "choropleth",
           "z": [
            679,
            1322,
            130,
            21081,
            2103,
            10119,
            2469,
            3897,
            20974,
            17887,
            239,
            6202,
            103,
            586,
            1336,
            365,
            19253,
            11485,
            725,
            20051,
            1354,
            819,
            54588,
            4509,
            10538,
            1388,
            1171,
            2722,
            1081,
            442,
            1326,
            1794,
            536,
            17531,
            3965,
            635,
            4891,
            246,
            1117,
            2947,
            1660,
            11,
            22434,
            172348,
            3112,
            0,
            3068,
            6907,
            12105,
            3067,
            6968,
            574,
            1693,
            1727,
            278,
            5878,
            49,
            50
           ]
          }
         ],
         "name": "04-10-2020"
        },
        {
         "data": [
          {
           "coloraxis": "coloraxis",
           "geo": "geo",
           "hovertemplate": "Date=04-11-2020<br>Code=%{location}<br>Confirmed=%{z}<extra></extra>",
           "locationmode": "USA-states",
           "locations": [
            "PA",
            "FL",
            "ID",
            "WI",
            "HI",
            "SC",
            "SD",
            "DE",
            "VA",
            "IL",
            "KS",
            "MI",
            "Northern Mariana Islands",
            "NM",
            "MD",
            "LA",
            "MA",
            "ND",
            "Diamond Princess",
            "OR",
            "NJ",
            "Grand Princess",
            "TX",
            "KY",
            "GA",
            "Recovered",
            "CT",
            "NV",
            "IN",
            "WA",
            "WV",
            "TN",
            "UT",
            "AR",
            "OH",
            "CA",
            "RI",
            "Guam",
            "VT",
            "MN",
            "DC",
            "Virgin Islands",
            "AK",
            "IA",
            "WY",
            "CO",
            "MS",
            "NH",
            "NE",
            "AL",
            "ME",
            "NY",
            "MT",
            "OK",
            "PR",
            "NC",
            "AZ",
            "MO"
           ],
           "name": "",
           "type": "choropleth",
           "z": [
            21719,
            18494,
            1396,
            3213,
            465,
            3211,
            626,
            1479,
            5077,
            19180,
            1275,
            23605,
            11,
            1091,
            7694,
            20014,
            22860,
            293,
            49,
            1371,
            58151,
            103,
            13023,
            1693,
            12159,
            0,
            11510,
            2702,
            7435,
            10434,
            577,
            5132,
            2207,
            1228,
            6250,
            21706,
            2349,
            133,
            711,
            1427,
            1778,
            51,
            257,
            1510,
            261,
            6513,
            2642,
            885,
            699,
            3217,
            616,
            181026,
            377,
            1868,
            788,
            4354,
            3393,
            4108
           ]
          }
         ],
         "name": "04-11-2020"
        },
        {
         "data": [
          {
           "coloraxis": "coloraxis",
           "geo": "geo",
           "hovertemplate": "Date=04-12-2020<br>Code=%{location}<br>Confirmed=%{z}<extra></extra>",
           "locationmode": "USA-states",
           "locations": [
            "VT",
            "CA",
            "Virgin Islands",
            "Northern Mariana Islands",
            "AZ",
            "Diamond Princess",
            "LA",
            "MS",
            "MI",
            "KS",
            "SD",
            "FL",
            "WI",
            "AK",
            "SC",
            "OK",
            "NE",
            "Recovered",
            "NV",
            "MD",
            "IN",
            "Guam",
            "GA",
            "WV",
            "ME",
            "PR",
            "NJ",
            "NH",
            "Grand Princess",
            "IA",
            "PA",
            "IL",
            "WY",
            "RI",
            "ND",
            "MO",
            "OR",
            "ID",
            "MT",
            "CT",
            "WA",
            "UT",
            "NM",
            "VA",
            "AR",
            "OH",
            "DC",
            "CO",
            "NC",
            "NY",
            "MA",
            "AL",
            "TX",
            "KY",
            "HI",
            "DE",
            "TN",
            "MN"
           ],
           "name": "",
           "type": "choropleth",
           "z": [
            727,
            22795,
            51,
            11,
            3542,
            49,
            20595,
            2781,
            24244,
            1344,
            730,
            19895,
            3341,
            272,
            3320,
            1970,
            791,
            0,
            2836,
            8225,
            7928,
            133,
            12452,
            593,
            633,
            897,
            61850,
            929,
            103,
            1587,
            22938,
            20852,
            270,
            2665,
            308,
            4269,
            1527,
            1407,
            387,
            12035,
            10609,
            2303,
            1245,
            5274,
            1280,
            6604,
            1875,
            7307,
            4570,
            189033,
            25475,
            3563,
            13677,
            1963,
            499,
            1625,
            5508,
            1621
           ]
          }
         ],
         "name": "04-12-2020"
        },
        {
         "data": [
          {
           "coloraxis": "coloraxis",
           "geo": "geo",
           "hovertemplate": "Date=04-13-2020<br>Code=%{location}<br>Confirmed=%{z}<extra></extra>",
           "locationmode": "USA-states",
           "locations": [
            "AR",
            "MA",
            "WY",
            "MN",
            "IA",
            "AZ",
            "WV",
            "NV",
            "WA",
            "NY",
            "AK",
            "WI",
            "AL",
            "MD",
            "ME",
            "MI",
            "OR",
            "RI",
            "IN",
            "Diamond Princess",
            "LA",
            "MO",
            "Recovered",
            "UT",
            "OK",
            "TN",
            "NE",
            "Guam",
            "SC",
            "VA",
            "NM",
            "CT",
            "ND",
            "ID",
            "FL",
            "SD",
            "CO",
            "KS",
            "DC",
            "MS",
            "MT",
            "GA",
            "NC",
            "IL",
            "PA",
            "Virgin Islands",
            "Northern Mariana Islands",
            "Grand Princess",
            "VT",
            "NH",
            "NJ",
            "OH",
            "TX",
            "CA",
            "PR",
            "HI",
            "KY",
            "DE"
           ],
           "name": "",
           "type": "choropleth",
           "z": [
            1410,
            26867,
            275,
            1621,
            1710,
            3705,
            611,
            2990,
            10635,
            195749,
            277,
            3428,
            3734,
            8936,
            698,
            25635,
            1584,
            2665,
            8359,
            49,
            21016,
            4515,
            0,
            2363,
            2069,
            5610,
            814,
            133,
            3391,
            5747,
            1262,
            13381,
            331,
            1426,
            21019,
            868,
            7691,
            1390,
            1955,
            2942,
            394,
            13315,
            4886,
            22025,
            24292,
            51,
            11,
            103,
            748,
            985,
            64584,
            6975,
            14275,
            23931,
            903,
            504,
            2018,
            1758
           ]
          }
         ],
         "name": "04-13-2020"
        },
        {
         "data": [
          {
           "coloraxis": "coloraxis",
           "geo": "geo",
           "hovertemplate": "Date=04-14-2020<br>Code=%{location}<br>Confirmed=%{z}<extra></extra>",
           "locationmode": "USA-states",
           "locations": [
            "Diamond Princess",
            "DE",
            "NC",
            "ND",
            "AL",
            "NM",
            "TN",
            "KY",
            "TX",
            "HI",
            "MD",
            "MO",
            "SC",
            "KS",
            "WY",
            "OR",
            "Grand Princess",
            "PA",
            "IL",
            "NH",
            "NJ",
            "PR",
            "ME",
            "WV",
            "MI",
            "GA",
            "RI",
            "NV",
            "IN",
            "Recovered",
            "OK",
            "NE",
            "AK",
            "WI",
            "FL",
            "SD",
            "Guam",
            "NY",
            "IA",
            "Virgin Islands",
            "ID",
            "MN",
            "CA",
            "MT",
            "VA",
            "AR",
            "UT",
            "CT",
            "Northern Mariana Islands",
            "WA",
            "AZ",
            "MA",
            "OH",
            "CO",
            "DC",
            "VT",
            "LA",
            "MS"
           ],
           "name": "",
           "type": "choropleth",
           "z": [
            49,
            1926,
            5113,
            341,
            3953,
            1345,
            5827,
            2048,
            15006,
            511,
            9472,
            4746,
            3553,
            1441,
            282,
            1633,
            103,
            25465,
            23248,
            922,
            68824,
            923,
            735,
            640,
            27001,
            14578,
            3251,
            3134,
            8527,
            0,
            2184,
            897,
            285,
            3555,
            21628,
            988,
            133,
            203020,
            1899,
            51,
            1464,
            1695,
            25356,
            399,
            6182,
            1498,
            2417,
            13989,
            11,
            10799,
            3809,
            28164,
            7285,
            7950,
            2058,
            752,
            21518,
            3087
           ]
          }
         ],
         "name": "04-14-2020"
        },
        {
         "data": [
          {
           "coloraxis": "coloraxis",
           "geo": "geo",
           "hovertemplate": "Date=04-15-2020<br>Code=%{location}<br>Confirmed=%{z}<extra></extra>",
           "locationmode": "USA-states",
           "locations": [
            "MD",
            "ID",
            "GA",
            "FL",
            "MN",
            "WI",
            "VT",
            "CA",
            "AK",
            "SC",
            "MS",
            "AR",
            "ME",
            "RI",
            "LA",
            "NV",
            "NE",
            "DC",
            "NJ",
            "MA",
            "OK",
            "PR",
            "Recovered",
            "IN",
            "VA",
            "Guam",
            "TN",
            "SD",
            "Virgin Islands",
            "DE",
            "AZ",
            "CT",
            "Grand Princess",
            "KY",
            "HI",
            "OH",
            "TX",
            "NM",
            "AL",
            "OR",
            "NC",
            "MO",
            "WY",
            "NY",
            "IA",
            "WA",
            "WV",
            "PA",
            "CO",
            "KS",
            "Northern Mariana Islands",
            "ND",
            "NH",
            "UT",
            "Diamond Princess",
            "IL",
            "MT",
            "MI"
           ],
           "name": "",
           "type": "choropleth",
           "z": [
            10032,
            1473,
            14987,
            22511,
            1809,
            3721,
            759,
            26686,
            293,
            3656,
            3360,
            1569,
            770,
            3251,
            21951,
            3211,
            901,
            2197,
            71030,
            29918,
            2263,
            974,
            0,
            8960,
            6500,
            135,
            5827,
            1168,
            51,
            2014,
            3964,
            14755,
            103,
            2210,
            524,
            7794,
            15907,
            1484,
            4075,
            1663,
            5340,
            4791,
            287,
            214454,
            1995,
            10942,
            702,
            26753,
            7956,
            1504,
            13,
            365,
            1139,
            2548,
            49,
            24593,
            404,
            28059
           ]
          }
         ],
         "name": "04-15-2020"
        },
        {
         "data": [
          {
           "coloraxis": "coloraxis",
           "geo": "geo",
           "hovertemplate": "Date=04-16-2020<br>Code=%{location}<br>Confirmed=%{z}<extra></extra>",
           "locationmode": "USA-states",
           "locations": [
            "IA",
            "IL",
            "MO",
            "NH",
            "GA",
            "NJ",
            "Grand Princess",
            "WY",
            "OR",
            "AZ",
            "Virgin Islands",
            "MD",
            "PR",
            "CA",
            "ME",
            "PA",
            "Northern Mariana Islands",
            "NV",
            "DC",
            "VT",
            "CO",
            "MI",
            "MT",
            "NM",
            "UT",
            "TN",
            "DE",
            "Diamond Princess",
            "WA",
            "KY",
            "TX",
            "OH",
            "AL",
            "NC",
            "HI",
            "NY",
            "CT",
            "WV",
            "ND",
            "SD",
            "MS",
            "LA",
            "RI",
            "VA",
            "Guam",
            "Recovered",
            "IN",
            "KS",
            "OK",
            "AR",
            "MN",
            "AK",
            "WI",
            "SC",
            "FL",
            "ID",
            "MA",
            "NE"
           ],
           "name": "",
           "type": "choropleth",
           "z": [
            2141,
            25734,
            5174,
            1139,
            15669,
            75317,
            103,
            296,
            1736,
            4237,
            51,
            10784,
            1043,
            27677,
            796,
            28258,
            13,
            3214,
            2350,
            774,
            8286,
            28809,
            415,
            1484,
            2683,
            6375,
            2070,
            49,
            11057,
            2435,
            16876,
            8414,
            4345,
            5639,
            530,
            223691,
            15884,
            728,
            393,
            1311,
            3624,
            22532,
            3529,
            6889,
            135,
            0,
            9542,
            1615,
            2357,
            1620,
            1809,
            300,
            3875,
            3931,
            23343,
            1587,
            32181,
            952
           ]
          }
         ],
         "name": "04-16-2020"
        }
       ],
       "layout": {
        "coloraxis": {
         "colorbar": {
          "title": {
           "text": "Confirmed"
          }
         },
         "colorscale": [
          [
           0,
           "rgb(253, 224, 197)"
          ],
          [
           0.16666666666666666,
           "rgb(250, 203, 166)"
          ],
          [
           0.3333333333333333,
           "rgb(248, 181, 139)"
          ],
          [
           0.5,
           "rgb(245, 158, 114)"
          ],
          [
           0.6666666666666666,
           "rgb(242, 133, 93)"
          ],
          [
           0.8333333333333334,
           "rgb(239, 106, 76)"
          ],
          [
           1,
           "rgb(235, 74, 64)"
          ]
         ]
        },
        "geo": {
         "center": {},
         "domain": {
          "x": [
           0,
           1
          ],
          "y": [
           0,
           1
          ]
         },
         "scope": "usa",
         "showcoastlines": false,
         "showframe": false
        },
        "legend": {
         "tracegroupgap": 0
        },
        "margin": {
         "t": 60
        },
        "sliders": [
         {
          "active": 0,
          "currentvalue": {
           "prefix": "Date="
          },
          "len": 0.9,
          "pad": {
           "b": 10,
           "t": 60
          },
          "steps": [
           {
            "args": [
             [
              "01-22-2020"
             ],
             {
              "frame": {
               "duration": 0,
               "redraw": true
              },
              "fromcurrent": true,
              "mode": "immediate",
              "transition": {
               "duration": 0,
               "easing": "linear"
              }
             }
            ],
            "label": "01-22-2020",
            "method": "animate"
           },
           {
            "args": [
             [
              "01-23-2020"
             ],
             {
              "frame": {
               "duration": 0,
               "redraw": true
              },
              "fromcurrent": true,
              "mode": "immediate",
              "transition": {
               "duration": 0,
               "easing": "linear"
              }
             }
            ],
            "label": "01-23-2020",
            "method": "animate"
           },
           {
            "args": [
             [
              "01-24-2020"
             ],
             {
              "frame": {
               "duration": 0,
               "redraw": true
              },
              "fromcurrent": true,
              "mode": "immediate",
              "transition": {
               "duration": 0,
               "easing": "linear"
              }
             }
            ],
            "label": "01-24-2020",
            "method": "animate"
           },
           {
            "args": [
             [
              "01-25-2020"
             ],
             {
              "frame": {
               "duration": 0,
               "redraw": true
              },
              "fromcurrent": true,
              "mode": "immediate",
              "transition": {
               "duration": 0,
               "easing": "linear"
              }
             }
            ],
            "label": "01-25-2020",
            "method": "animate"
           },
           {
            "args": [
             [
              "01-26-2020"
             ],
             {
              "frame": {
               "duration": 0,
               "redraw": true
              },
              "fromcurrent": true,
              "mode": "immediate",
              "transition": {
               "duration": 0,
               "easing": "linear"
              }
             }
            ],
            "label": "01-26-2020",
            "method": "animate"
           },
           {
            "args": [
             [
              "01-27-2020"
             ],
             {
              "frame": {
               "duration": 0,
               "redraw": true
              },
              "fromcurrent": true,
              "mode": "immediate",
              "transition": {
               "duration": 0,
               "easing": "linear"
              }
             }
            ],
            "label": "01-27-2020",
            "method": "animate"
           },
           {
            "args": [
             [
              "01-28-2020"
             ],
             {
              "frame": {
               "duration": 0,
               "redraw": true
              },
              "fromcurrent": true,
              "mode": "immediate",
              "transition": {
               "duration": 0,
               "easing": "linear"
              }
             }
            ],
            "label": "01-28-2020",
            "method": "animate"
           },
           {
            "args": [
             [
              "01-29-2020"
             ],
             {
              "frame": {
               "duration": 0,
               "redraw": true
              },
              "fromcurrent": true,
              "mode": "immediate",
              "transition": {
               "duration": 0,
               "easing": "linear"
              }
             }
            ],
            "label": "01-29-2020",
            "method": "animate"
           },
           {
            "args": [
             [
              "01-30-2020"
             ],
             {
              "frame": {
               "duration": 0,
               "redraw": true
              },
              "fromcurrent": true,
              "mode": "immediate",
              "transition": {
               "duration": 0,
               "easing": "linear"
              }
             }
            ],
            "label": "01-30-2020",
            "method": "animate"
           },
           {
            "args": [
             [
              "01-31-2020"
             ],
             {
              "frame": {
               "duration": 0,
               "redraw": true
              },
              "fromcurrent": true,
              "mode": "immediate",
              "transition": {
               "duration": 0,
               "easing": "linear"
              }
             }
            ],
            "label": "01-31-2020",
            "method": "animate"
           },
           {
            "args": [
             [
              "02-01-2020"
             ],
             {
              "frame": {
               "duration": 0,
               "redraw": true
              },
              "fromcurrent": true,
              "mode": "immediate",
              "transition": {
               "duration": 0,
               "easing": "linear"
              }
             }
            ],
            "label": "02-01-2020",
            "method": "animate"
           },
           {
            "args": [
             [
              "02-02-2020"
             ],
             {
              "frame": {
               "duration": 0,
               "redraw": true
              },
              "fromcurrent": true,
              "mode": "immediate",
              "transition": {
               "duration": 0,
               "easing": "linear"
              }
             }
            ],
            "label": "02-02-2020",
            "method": "animate"
           },
           {
            "args": [
             [
              "02-03-2020"
             ],
             {
              "frame": {
               "duration": 0,
               "redraw": true
              },
              "fromcurrent": true,
              "mode": "immediate",
              "transition": {
               "duration": 0,
               "easing": "linear"
              }
             }
            ],
            "label": "02-03-2020",
            "method": "animate"
           },
           {
            "args": [
             [
              "02-04-2020"
             ],
             {
              "frame": {
               "duration": 0,
               "redraw": true
              },
              "fromcurrent": true,
              "mode": "immediate",
              "transition": {
               "duration": 0,
               "easing": "linear"
              }
             }
            ],
            "label": "02-04-2020",
            "method": "animate"
           },
           {
            "args": [
             [
              "02-05-2020"
             ],
             {
              "frame": {
               "duration": 0,
               "redraw": true
              },
              "fromcurrent": true,
              "mode": "immediate",
              "transition": {
               "duration": 0,
               "easing": "linear"
              }
             }
            ],
            "label": "02-05-2020",
            "method": "animate"
           },
           {
            "args": [
             [
              "02-06-2020"
             ],
             {
              "frame": {
               "duration": 0,
               "redraw": true
              },
              "fromcurrent": true,
              "mode": "immediate",
              "transition": {
               "duration": 0,
               "easing": "linear"
              }
             }
            ],
            "label": "02-06-2020",
            "method": "animate"
           },
           {
            "args": [
             [
              "02-07-2020"
             ],
             {
              "frame": {
               "duration": 0,
               "redraw": true
              },
              "fromcurrent": true,
              "mode": "immediate",
              "transition": {
               "duration": 0,
               "easing": "linear"
              }
             }
            ],
            "label": "02-07-2020",
            "method": "animate"
           },
           {
            "args": [
             [
              "02-08-2020"
             ],
             {
              "frame": {
               "duration": 0,
               "redraw": true
              },
              "fromcurrent": true,
              "mode": "immediate",
              "transition": {
               "duration": 0,
               "easing": "linear"
              }
             }
            ],
            "label": "02-08-2020",
            "method": "animate"
           },
           {
            "args": [
             [
              "02-09-2020"
             ],
             {
              "frame": {
               "duration": 0,
               "redraw": true
              },
              "fromcurrent": true,
              "mode": "immediate",
              "transition": {
               "duration": 0,
               "easing": "linear"
              }
             }
            ],
            "label": "02-09-2020",
            "method": "animate"
           },
           {
            "args": [
             [
              "02-10-2020"
             ],
             {
              "frame": {
               "duration": 0,
               "redraw": true
              },
              "fromcurrent": true,
              "mode": "immediate",
              "transition": {
               "duration": 0,
               "easing": "linear"
              }
             }
            ],
            "label": "02-10-2020",
            "method": "animate"
           },
           {
            "args": [
             [
              "02-11-2020"
             ],
             {
              "frame": {
               "duration": 0,
               "redraw": true
              },
              "fromcurrent": true,
              "mode": "immediate",
              "transition": {
               "duration": 0,
               "easing": "linear"
              }
             }
            ],
            "label": "02-11-2020",
            "method": "animate"
           },
           {
            "args": [
             [
              "02-12-2020"
             ],
             {
              "frame": {
               "duration": 0,
               "redraw": true
              },
              "fromcurrent": true,
              "mode": "immediate",
              "transition": {
               "duration": 0,
               "easing": "linear"
              }
             }
            ],
            "label": "02-12-2020",
            "method": "animate"
           },
           {
            "args": [
             [
              "02-13-2020"
             ],
             {
              "frame": {
               "duration": 0,
               "redraw": true
              },
              "fromcurrent": true,
              "mode": "immediate",
              "transition": {
               "duration": 0,
               "easing": "linear"
              }
             }
            ],
            "label": "02-13-2020",
            "method": "animate"
           },
           {
            "args": [
             [
              "02-14-2020"
             ],
             {
              "frame": {
               "duration": 0,
               "redraw": true
              },
              "fromcurrent": true,
              "mode": "immediate",
              "transition": {
               "duration": 0,
               "easing": "linear"
              }
             }
            ],
            "label": "02-14-2020",
            "method": "animate"
           },
           {
            "args": [
             [
              "02-15-2020"
             ],
             {
              "frame": {
               "duration": 0,
               "redraw": true
              },
              "fromcurrent": true,
              "mode": "immediate",
              "transition": {
               "duration": 0,
               "easing": "linear"
              }
             }
            ],
            "label": "02-15-2020",
            "method": "animate"
           },
           {
            "args": [
             [
              "02-16-2020"
             ],
             {
              "frame": {
               "duration": 0,
               "redraw": true
              },
              "fromcurrent": true,
              "mode": "immediate",
              "transition": {
               "duration": 0,
               "easing": "linear"
              }
             }
            ],
            "label": "02-16-2020",
            "method": "animate"
           },
           {
            "args": [
             [
              "02-17-2020"
             ],
             {
              "frame": {
               "duration": 0,
               "redraw": true
              },
              "fromcurrent": true,
              "mode": "immediate",
              "transition": {
               "duration": 0,
               "easing": "linear"
              }
             }
            ],
            "label": "02-17-2020",
            "method": "animate"
           },
           {
            "args": [
             [
              "02-18-2020"
             ],
             {
              "frame": {
               "duration": 0,
               "redraw": true
              },
              "fromcurrent": true,
              "mode": "immediate",
              "transition": {
               "duration": 0,
               "easing": "linear"
              }
             }
            ],
            "label": "02-18-2020",
            "method": "animate"
           },
           {
            "args": [
             [
              "02-19-2020"
             ],
             {
              "frame": {
               "duration": 0,
               "redraw": true
              },
              "fromcurrent": true,
              "mode": "immediate",
              "transition": {
               "duration": 0,
               "easing": "linear"
              }
             }
            ],
            "label": "02-19-2020",
            "method": "animate"
           },
           {
            "args": [
             [
              "02-20-2020"
             ],
             {
              "frame": {
               "duration": 0,
               "redraw": true
              },
              "fromcurrent": true,
              "mode": "immediate",
              "transition": {
               "duration": 0,
               "easing": "linear"
              }
             }
            ],
            "label": "02-20-2020",
            "method": "animate"
           },
           {
            "args": [
             [
              "02-21-2020"
             ],
             {
              "frame": {
               "duration": 0,
               "redraw": true
              },
              "fromcurrent": true,
              "mode": "immediate",
              "transition": {
               "duration": 0,
               "easing": "linear"
              }
             }
            ],
            "label": "02-21-2020",
            "method": "animate"
           },
           {
            "args": [
             [
              "02-22-2020"
             ],
             {
              "frame": {
               "duration": 0,
               "redraw": true
              },
              "fromcurrent": true,
              "mode": "immediate",
              "transition": {
               "duration": 0,
               "easing": "linear"
              }
             }
            ],
            "label": "02-22-2020",
            "method": "animate"
           },
           {
            "args": [
             [
              "02-23-2020"
             ],
             {
              "frame": {
               "duration": 0,
               "redraw": true
              },
              "fromcurrent": true,
              "mode": "immediate",
              "transition": {
               "duration": 0,
               "easing": "linear"
              }
             }
            ],
            "label": "02-23-2020",
            "method": "animate"
           },
           {
            "args": [
             [
              "02-24-2020"
             ],
             {
              "frame": {
               "duration": 0,
               "redraw": true
              },
              "fromcurrent": true,
              "mode": "immediate",
              "transition": {
               "duration": 0,
               "easing": "linear"
              }
             }
            ],
            "label": "02-24-2020",
            "method": "animate"
           },
           {
            "args": [
             [
              "02-25-2020"
             ],
             {
              "frame": {
               "duration": 0,
               "redraw": true
              },
              "fromcurrent": true,
              "mode": "immediate",
              "transition": {
               "duration": 0,
               "easing": "linear"
              }
             }
            ],
            "label": "02-25-2020",
            "method": "animate"
           },
           {
            "args": [
             [
              "02-26-2020"
             ],
             {
              "frame": {
               "duration": 0,
               "redraw": true
              },
              "fromcurrent": true,
              "mode": "immediate",
              "transition": {
               "duration": 0,
               "easing": "linear"
              }
             }
            ],
            "label": "02-26-2020",
            "method": "animate"
           },
           {
            "args": [
             [
              "02-27-2020"
             ],
             {
              "frame": {
               "duration": 0,
               "redraw": true
              },
              "fromcurrent": true,
              "mode": "immediate",
              "transition": {
               "duration": 0,
               "easing": "linear"
              }
             }
            ],
            "label": "02-27-2020",
            "method": "animate"
           },
           {
            "args": [
             [
              "02-28-2020"
             ],
             {
              "frame": {
               "duration": 0,
               "redraw": true
              },
              "fromcurrent": true,
              "mode": "immediate",
              "transition": {
               "duration": 0,
               "easing": "linear"
              }
             }
            ],
            "label": "02-28-2020",
            "method": "animate"
           },
           {
            "args": [
             [
              "02-29-2020"
             ],
             {
              "frame": {
               "duration": 0,
               "redraw": true
              },
              "fromcurrent": true,
              "mode": "immediate",
              "transition": {
               "duration": 0,
               "easing": "linear"
              }
             }
            ],
            "label": "02-29-2020",
            "method": "animate"
           },
           {
            "args": [
             [
              "03-01-2020"
             ],
             {
              "frame": {
               "duration": 0,
               "redraw": true
              },
              "fromcurrent": true,
              "mode": "immediate",
              "transition": {
               "duration": 0,
               "easing": "linear"
              }
             }
            ],
            "label": "03-01-2020",
            "method": "animate"
           },
           {
            "args": [
             [
              "03-02-2020"
             ],
             {
              "frame": {
               "duration": 0,
               "redraw": true
              },
              "fromcurrent": true,
              "mode": "immediate",
              "transition": {
               "duration": 0,
               "easing": "linear"
              }
             }
            ],
            "label": "03-02-2020",
            "method": "animate"
           },
           {
            "args": [
             [
              "03-03-2020"
             ],
             {
              "frame": {
               "duration": 0,
               "redraw": true
              },
              "fromcurrent": true,
              "mode": "immediate",
              "transition": {
               "duration": 0,
               "easing": "linear"
              }
             }
            ],
            "label": "03-03-2020",
            "method": "animate"
           },
           {
            "args": [
             [
              "03-04-2020"
             ],
             {
              "frame": {
               "duration": 0,
               "redraw": true
              },
              "fromcurrent": true,
              "mode": "immediate",
              "transition": {
               "duration": 0,
               "easing": "linear"
              }
             }
            ],
            "label": "03-04-2020",
            "method": "animate"
           },
           {
            "args": [
             [
              "03-05-2020"
             ],
             {
              "frame": {
               "duration": 0,
               "redraw": true
              },
              "fromcurrent": true,
              "mode": "immediate",
              "transition": {
               "duration": 0,
               "easing": "linear"
              }
             }
            ],
            "label": "03-05-2020",
            "method": "animate"
           },
           {
            "args": [
             [
              "03-06-2020"
             ],
             {
              "frame": {
               "duration": 0,
               "redraw": true
              },
              "fromcurrent": true,
              "mode": "immediate",
              "transition": {
               "duration": 0,
               "easing": "linear"
              }
             }
            ],
            "label": "03-06-2020",
            "method": "animate"
           },
           {
            "args": [
             [
              "03-07-2020"
             ],
             {
              "frame": {
               "duration": 0,
               "redraw": true
              },
              "fromcurrent": true,
              "mode": "immediate",
              "transition": {
               "duration": 0,
               "easing": "linear"
              }
             }
            ],
            "label": "03-07-2020",
            "method": "animate"
           },
           {
            "args": [
             [
              "03-08-2020"
             ],
             {
              "frame": {
               "duration": 0,
               "redraw": true
              },
              "fromcurrent": true,
              "mode": "immediate",
              "transition": {
               "duration": 0,
               "easing": "linear"
              }
             }
            ],
            "label": "03-08-2020",
            "method": "animate"
           },
           {
            "args": [
             [
              "03-09-2020"
             ],
             {
              "frame": {
               "duration": 0,
               "redraw": true
              },
              "fromcurrent": true,
              "mode": "immediate",
              "transition": {
               "duration": 0,
               "easing": "linear"
              }
             }
            ],
            "label": "03-09-2020",
            "method": "animate"
           },
           {
            "args": [
             [
              "03-10-2020"
             ],
             {
              "frame": {
               "duration": 0,
               "redraw": true
              },
              "fromcurrent": true,
              "mode": "immediate",
              "transition": {
               "duration": 0,
               "easing": "linear"
              }
             }
            ],
            "label": "03-10-2020",
            "method": "animate"
           },
           {
            "args": [
             [
              "03-11-2020"
             ],
             {
              "frame": {
               "duration": 0,
               "redraw": true
              },
              "fromcurrent": true,
              "mode": "immediate",
              "transition": {
               "duration": 0,
               "easing": "linear"
              }
             }
            ],
            "label": "03-11-2020",
            "method": "animate"
           },
           {
            "args": [
             [
              "03-12-2020"
             ],
             {
              "frame": {
               "duration": 0,
               "redraw": true
              },
              "fromcurrent": true,
              "mode": "immediate",
              "transition": {
               "duration": 0,
               "easing": "linear"
              }
             }
            ],
            "label": "03-12-2020",
            "method": "animate"
           },
           {
            "args": [
             [
              "03-13-2020"
             ],
             {
              "frame": {
               "duration": 0,
               "redraw": true
              },
              "fromcurrent": true,
              "mode": "immediate",
              "transition": {
               "duration": 0,
               "easing": "linear"
              }
             }
            ],
            "label": "03-13-2020",
            "method": "animate"
           },
           {
            "args": [
             [
              "03-14-2020"
             ],
             {
              "frame": {
               "duration": 0,
               "redraw": true
              },
              "fromcurrent": true,
              "mode": "immediate",
              "transition": {
               "duration": 0,
               "easing": "linear"
              }
             }
            ],
            "label": "03-14-2020",
            "method": "animate"
           },
           {
            "args": [
             [
              "03-15-2020"
             ],
             {
              "frame": {
               "duration": 0,
               "redraw": true
              },
              "fromcurrent": true,
              "mode": "immediate",
              "transition": {
               "duration": 0,
               "easing": "linear"
              }
             }
            ],
            "label": "03-15-2020",
            "method": "animate"
           },
           {
            "args": [
             [
              "03-16-2020"
             ],
             {
              "frame": {
               "duration": 0,
               "redraw": true
              },
              "fromcurrent": true,
              "mode": "immediate",
              "transition": {
               "duration": 0,
               "easing": "linear"
              }
             }
            ],
            "label": "03-16-2020",
            "method": "animate"
           },
           {
            "args": [
             [
              "03-17-2020"
             ],
             {
              "frame": {
               "duration": 0,
               "redraw": true
              },
              "fromcurrent": true,
              "mode": "immediate",
              "transition": {
               "duration": 0,
               "easing": "linear"
              }
             }
            ],
            "label": "03-17-2020",
            "method": "animate"
           },
           {
            "args": [
             [
              "03-18-2020"
             ],
             {
              "frame": {
               "duration": 0,
               "redraw": true
              },
              "fromcurrent": true,
              "mode": "immediate",
              "transition": {
               "duration": 0,
               "easing": "linear"
              }
             }
            ],
            "label": "03-18-2020",
            "method": "animate"
           },
           {
            "args": [
             [
              "03-19-2020"
             ],
             {
              "frame": {
               "duration": 0,
               "redraw": true
              },
              "fromcurrent": true,
              "mode": "immediate",
              "transition": {
               "duration": 0,
               "easing": "linear"
              }
             }
            ],
            "label": "03-19-2020",
            "method": "animate"
           },
           {
            "args": [
             [
              "03-20-2020"
             ],
             {
              "frame": {
               "duration": 0,
               "redraw": true
              },
              "fromcurrent": true,
              "mode": "immediate",
              "transition": {
               "duration": 0,
               "easing": "linear"
              }
             }
            ],
            "label": "03-20-2020",
            "method": "animate"
           },
           {
            "args": [
             [
              "03-21-2020"
             ],
             {
              "frame": {
               "duration": 0,
               "redraw": true
              },
              "fromcurrent": true,
              "mode": "immediate",
              "transition": {
               "duration": 0,
               "easing": "linear"
              }
             }
            ],
            "label": "03-21-2020",
            "method": "animate"
           },
           {
            "args": [
             [
              "03-22-2020"
             ],
             {
              "frame": {
               "duration": 0,
               "redraw": true
              },
              "fromcurrent": true,
              "mode": "immediate",
              "transition": {
               "duration": 0,
               "easing": "linear"
              }
             }
            ],
            "label": "03-22-2020",
            "method": "animate"
           },
           {
            "args": [
             [
              "03-23-2020"
             ],
             {
              "frame": {
               "duration": 0,
               "redraw": true
              },
              "fromcurrent": true,
              "mode": "immediate",
              "transition": {
               "duration": 0,
               "easing": "linear"
              }
             }
            ],
            "label": "03-23-2020",
            "method": "animate"
           },
           {
            "args": [
             [
              "03-24-2020"
             ],
             {
              "frame": {
               "duration": 0,
               "redraw": true
              },
              "fromcurrent": true,
              "mode": "immediate",
              "transition": {
               "duration": 0,
               "easing": "linear"
              }
             }
            ],
            "label": "03-24-2020",
            "method": "animate"
           },
           {
            "args": [
             [
              "03-25-2020"
             ],
             {
              "frame": {
               "duration": 0,
               "redraw": true
              },
              "fromcurrent": true,
              "mode": "immediate",
              "transition": {
               "duration": 0,
               "easing": "linear"
              }
             }
            ],
            "label": "03-25-2020",
            "method": "animate"
           },
           {
            "args": [
             [
              "03-26-2020"
             ],
             {
              "frame": {
               "duration": 0,
               "redraw": true
              },
              "fromcurrent": true,
              "mode": "immediate",
              "transition": {
               "duration": 0,
               "easing": "linear"
              }
             }
            ],
            "label": "03-26-2020",
            "method": "animate"
           },
           {
            "args": [
             [
              "03-27-2020"
             ],
             {
              "frame": {
               "duration": 0,
               "redraw": true
              },
              "fromcurrent": true,
              "mode": "immediate",
              "transition": {
               "duration": 0,
               "easing": "linear"
              }
             }
            ],
            "label": "03-27-2020",
            "method": "animate"
           },
           {
            "args": [
             [
              "03-28-2020"
             ],
             {
              "frame": {
               "duration": 0,
               "redraw": true
              },
              "fromcurrent": true,
              "mode": "immediate",
              "transition": {
               "duration": 0,
               "easing": "linear"
              }
             }
            ],
            "label": "03-28-2020",
            "method": "animate"
           },
           {
            "args": [
             [
              "03-29-2020"
             ],
             {
              "frame": {
               "duration": 0,
               "redraw": true
              },
              "fromcurrent": true,
              "mode": "immediate",
              "transition": {
               "duration": 0,
               "easing": "linear"
              }
             }
            ],
            "label": "03-29-2020",
            "method": "animate"
           },
           {
            "args": [
             [
              "03-30-2020"
             ],
             {
              "frame": {
               "duration": 0,
               "redraw": true
              },
              "fromcurrent": true,
              "mode": "immediate",
              "transition": {
               "duration": 0,
               "easing": "linear"
              }
             }
            ],
            "label": "03-30-2020",
            "method": "animate"
           },
           {
            "args": [
             [
              "03-31-2020"
             ],
             {
              "frame": {
               "duration": 0,
               "redraw": true
              },
              "fromcurrent": true,
              "mode": "immediate",
              "transition": {
               "duration": 0,
               "easing": "linear"
              }
             }
            ],
            "label": "03-31-2020",
            "method": "animate"
           },
           {
            "args": [
             [
              "04-01-2020"
             ],
             {
              "frame": {
               "duration": 0,
               "redraw": true
              },
              "fromcurrent": true,
              "mode": "immediate",
              "transition": {
               "duration": 0,
               "easing": "linear"
              }
             }
            ],
            "label": "04-01-2020",
            "method": "animate"
           },
           {
            "args": [
             [
              "04-02-2020"
             ],
             {
              "frame": {
               "duration": 0,
               "redraw": true
              },
              "fromcurrent": true,
              "mode": "immediate",
              "transition": {
               "duration": 0,
               "easing": "linear"
              }
             }
            ],
            "label": "04-02-2020",
            "method": "animate"
           },
           {
            "args": [
             [
              "04-03-2020"
             ],
             {
              "frame": {
               "duration": 0,
               "redraw": true
              },
              "fromcurrent": true,
              "mode": "immediate",
              "transition": {
               "duration": 0,
               "easing": "linear"
              }
             }
            ],
            "label": "04-03-2020",
            "method": "animate"
           },
           {
            "args": [
             [
              "04-04-2020"
             ],
             {
              "frame": {
               "duration": 0,
               "redraw": true
              },
              "fromcurrent": true,
              "mode": "immediate",
              "transition": {
               "duration": 0,
               "easing": "linear"
              }
             }
            ],
            "label": "04-04-2020",
            "method": "animate"
           },
           {
            "args": [
             [
              "04-05-2020"
             ],
             {
              "frame": {
               "duration": 0,
               "redraw": true
              },
              "fromcurrent": true,
              "mode": "immediate",
              "transition": {
               "duration": 0,
               "easing": "linear"
              }
             }
            ],
            "label": "04-05-2020",
            "method": "animate"
           },
           {
            "args": [
             [
              "04-06-2020"
             ],
             {
              "frame": {
               "duration": 0,
               "redraw": true
              },
              "fromcurrent": true,
              "mode": "immediate",
              "transition": {
               "duration": 0,
               "easing": "linear"
              }
             }
            ],
            "label": "04-06-2020",
            "method": "animate"
           },
           {
            "args": [
             [
              "04-07-2020"
             ],
             {
              "frame": {
               "duration": 0,
               "redraw": true
              },
              "fromcurrent": true,
              "mode": "immediate",
              "transition": {
               "duration": 0,
               "easing": "linear"
              }
             }
            ],
            "label": "04-07-2020",
            "method": "animate"
           },
           {
            "args": [
             [
              "04-08-2020"
             ],
             {
              "frame": {
               "duration": 0,
               "redraw": true
              },
              "fromcurrent": true,
              "mode": "immediate",
              "transition": {
               "duration": 0,
               "easing": "linear"
              }
             }
            ],
            "label": "04-08-2020",
            "method": "animate"
           },
           {
            "args": [
             [
              "04-09-2020"
             ],
             {
              "frame": {
               "duration": 0,
               "redraw": true
              },
              "fromcurrent": true,
              "mode": "immediate",
              "transition": {
               "duration": 0,
               "easing": "linear"
              }
             }
            ],
            "label": "04-09-2020",
            "method": "animate"
           },
           {
            "args": [
             [
              "04-10-2020"
             ],
             {
              "frame": {
               "duration": 0,
               "redraw": true
              },
              "fromcurrent": true,
              "mode": "immediate",
              "transition": {
               "duration": 0,
               "easing": "linear"
              }
             }
            ],
            "label": "04-10-2020",
            "method": "animate"
           },
           {
            "args": [
             [
              "04-11-2020"
             ],
             {
              "frame": {
               "duration": 0,
               "redraw": true
              },
              "fromcurrent": true,
              "mode": "immediate",
              "transition": {
               "duration": 0,
               "easing": "linear"
              }
             }
            ],
            "label": "04-11-2020",
            "method": "animate"
           },
           {
            "args": [
             [
              "04-12-2020"
             ],
             {
              "frame": {
               "duration": 0,
               "redraw": true
              },
              "fromcurrent": true,
              "mode": "immediate",
              "transition": {
               "duration": 0,
               "easing": "linear"
              }
             }
            ],
            "label": "04-12-2020",
            "method": "animate"
           },
           {
            "args": [
             [
              "04-13-2020"
             ],
             {
              "frame": {
               "duration": 0,
               "redraw": true
              },
              "fromcurrent": true,
              "mode": "immediate",
              "transition": {
               "duration": 0,
               "easing": "linear"
              }
             }
            ],
            "label": "04-13-2020",
            "method": "animate"
           },
           {
            "args": [
             [
              "04-14-2020"
             ],
             {
              "frame": {
               "duration": 0,
               "redraw": true
              },
              "fromcurrent": true,
              "mode": "immediate",
              "transition": {
               "duration": 0,
               "easing": "linear"
              }
             }
            ],
            "label": "04-14-2020",
            "method": "animate"
           },
           {
            "args": [
             [
              "04-15-2020"
             ],
             {
              "frame": {
               "duration": 0,
               "redraw": true
              },
              "fromcurrent": true,
              "mode": "immediate",
              "transition": {
               "duration": 0,
               "easing": "linear"
              }
             }
            ],
            "label": "04-15-2020",
            "method": "animate"
           },
           {
            "args": [
             [
              "04-16-2020"
             ],
             {
              "frame": {
               "duration": 0,
               "redraw": true
              },
              "fromcurrent": true,
              "mode": "immediate",
              "transition": {
               "duration": 0,
               "easing": "linear"
              }
             }
            ],
            "label": "04-16-2020",
            "method": "animate"
           }
          ],
          "x": 0.1,
          "xanchor": "left",
          "y": 0,
          "yanchor": "top"
         }
        ],
        "template": {
         "data": {
          "bar": [
           {
            "error_x": {
             "color": "#2a3f5f"
            },
            "error_y": {
             "color": "#2a3f5f"
            },
            "marker": {
             "line": {
              "color": "#E5ECF6",
              "width": 0.5
             }
            },
            "type": "bar"
           }
          ],
          "barpolar": [
           {
            "marker": {
             "line": {
              "color": "#E5ECF6",
              "width": 0.5
             }
            },
            "type": "barpolar"
           }
          ],
          "carpet": [
           {
            "aaxis": {
             "endlinecolor": "#2a3f5f",
             "gridcolor": "white",
             "linecolor": "white",
             "minorgridcolor": "white",
             "startlinecolor": "#2a3f5f"
            },
            "baxis": {
             "endlinecolor": "#2a3f5f",
             "gridcolor": "white",
             "linecolor": "white",
             "minorgridcolor": "white",
             "startlinecolor": "#2a3f5f"
            },
            "type": "carpet"
           }
          ],
          "choropleth": [
           {
            "colorbar": {
             "outlinewidth": 0,
             "ticks": ""
            },
            "type": "choropleth"
           }
          ],
          "contour": [
           {
            "colorbar": {
             "outlinewidth": 0,
             "ticks": ""
            },
            "colorscale": [
             [
              0,
              "#0d0887"
             ],
             [
              0.1111111111111111,
              "#46039f"
             ],
             [
              0.2222222222222222,
              "#7201a8"
             ],
             [
              0.3333333333333333,
              "#9c179e"
             ],
             [
              0.4444444444444444,
              "#bd3786"
             ],
             [
              0.5555555555555556,
              "#d8576b"
             ],
             [
              0.6666666666666666,
              "#ed7953"
             ],
             [
              0.7777777777777778,
              "#fb9f3a"
             ],
             [
              0.8888888888888888,
              "#fdca26"
             ],
             [
              1,
              "#f0f921"
             ]
            ],
            "type": "contour"
           }
          ],
          "contourcarpet": [
           {
            "colorbar": {
             "outlinewidth": 0,
             "ticks": ""
            },
            "type": "contourcarpet"
           }
          ],
          "heatmap": [
           {
            "colorbar": {
             "outlinewidth": 0,
             "ticks": ""
            },
            "colorscale": [
             [
              0,
              "#0d0887"
             ],
             [
              0.1111111111111111,
              "#46039f"
             ],
             [
              0.2222222222222222,
              "#7201a8"
             ],
             [
              0.3333333333333333,
              "#9c179e"
             ],
             [
              0.4444444444444444,
              "#bd3786"
             ],
             [
              0.5555555555555556,
              "#d8576b"
             ],
             [
              0.6666666666666666,
              "#ed7953"
             ],
             [
              0.7777777777777778,
              "#fb9f3a"
             ],
             [
              0.8888888888888888,
              "#fdca26"
             ],
             [
              1,
              "#f0f921"
             ]
            ],
            "type": "heatmap"
           }
          ],
          "heatmapgl": [
           {
            "colorbar": {
             "outlinewidth": 0,
             "ticks": ""
            },
            "colorscale": [
             [
              0,
              "#0d0887"
             ],
             [
              0.1111111111111111,
              "#46039f"
             ],
             [
              0.2222222222222222,
              "#7201a8"
             ],
             [
              0.3333333333333333,
              "#9c179e"
             ],
             [
              0.4444444444444444,
              "#bd3786"
             ],
             [
              0.5555555555555556,
              "#d8576b"
             ],
             [
              0.6666666666666666,
              "#ed7953"
             ],
             [
              0.7777777777777778,
              "#fb9f3a"
             ],
             [
              0.8888888888888888,
              "#fdca26"
             ],
             [
              1,
              "#f0f921"
             ]
            ],
            "type": "heatmapgl"
           }
          ],
          "histogram": [
           {
            "marker": {
             "colorbar": {
              "outlinewidth": 0,
              "ticks": ""
             }
            },
            "type": "histogram"
           }
          ],
          "histogram2d": [
           {
            "colorbar": {
             "outlinewidth": 0,
             "ticks": ""
            },
            "colorscale": [
             [
              0,
              "#0d0887"
             ],
             [
              0.1111111111111111,
              "#46039f"
             ],
             [
              0.2222222222222222,
              "#7201a8"
             ],
             [
              0.3333333333333333,
              "#9c179e"
             ],
             [
              0.4444444444444444,
              "#bd3786"
             ],
             [
              0.5555555555555556,
              "#d8576b"
             ],
             [
              0.6666666666666666,
              "#ed7953"
             ],
             [
              0.7777777777777778,
              "#fb9f3a"
             ],
             [
              0.8888888888888888,
              "#fdca26"
             ],
             [
              1,
              "#f0f921"
             ]
            ],
            "type": "histogram2d"
           }
          ],
          "histogram2dcontour": [
           {
            "colorbar": {
             "outlinewidth": 0,
             "ticks": ""
            },
            "colorscale": [
             [
              0,
              "#0d0887"
             ],
             [
              0.1111111111111111,
              "#46039f"
             ],
             [
              0.2222222222222222,
              "#7201a8"
             ],
             [
              0.3333333333333333,
              "#9c179e"
             ],
             [
              0.4444444444444444,
              "#bd3786"
             ],
             [
              0.5555555555555556,
              "#d8576b"
             ],
             [
              0.6666666666666666,
              "#ed7953"
             ],
             [
              0.7777777777777778,
              "#fb9f3a"
             ],
             [
              0.8888888888888888,
              "#fdca26"
             ],
             [
              1,
              "#f0f921"
             ]
            ],
            "type": "histogram2dcontour"
           }
          ],
          "mesh3d": [
           {
            "colorbar": {
             "outlinewidth": 0,
             "ticks": ""
            },
            "type": "mesh3d"
           }
          ],
          "parcoords": [
           {
            "line": {
             "colorbar": {
              "outlinewidth": 0,
              "ticks": ""
             }
            },
            "type": "parcoords"
           }
          ],
          "pie": [
           {
            "automargin": true,
            "type": "pie"
           }
          ],
          "scatter": [
           {
            "marker": {
             "colorbar": {
              "outlinewidth": 0,
              "ticks": ""
             }
            },
            "type": "scatter"
           }
          ],
          "scatter3d": [
           {
            "line": {
             "colorbar": {
              "outlinewidth": 0,
              "ticks": ""
             }
            },
            "marker": {
             "colorbar": {
              "outlinewidth": 0,
              "ticks": ""
             }
            },
            "type": "scatter3d"
           }
          ],
          "scattercarpet": [
           {
            "marker": {
             "colorbar": {
              "outlinewidth": 0,
              "ticks": ""
             }
            },
            "type": "scattercarpet"
           }
          ],
          "scattergeo": [
           {
            "marker": {
             "colorbar": {
              "outlinewidth": 0,
              "ticks": ""
             }
            },
            "type": "scattergeo"
           }
          ],
          "scattergl": [
           {
            "marker": {
             "colorbar": {
              "outlinewidth": 0,
              "ticks": ""
             }
            },
            "type": "scattergl"
           }
          ],
          "scattermapbox": [
           {
            "marker": {
             "colorbar": {
              "outlinewidth": 0,
              "ticks": ""
             }
            },
            "type": "scattermapbox"
           }
          ],
          "scatterpolar": [
           {
            "marker": {
             "colorbar": {
              "outlinewidth": 0,
              "ticks": ""
             }
            },
            "type": "scatterpolar"
           }
          ],
          "scatterpolargl": [
           {
            "marker": {
             "colorbar": {
              "outlinewidth": 0,
              "ticks": ""
             }
            },
            "type": "scatterpolargl"
           }
          ],
          "scatterternary": [
           {
            "marker": {
             "colorbar": {
              "outlinewidth": 0,
              "ticks": ""
             }
            },
            "type": "scatterternary"
           }
          ],
          "surface": [
           {
            "colorbar": {
             "outlinewidth": 0,
             "ticks": ""
            },
            "colorscale": [
             [
              0,
              "#0d0887"
             ],
             [
              0.1111111111111111,
              "#46039f"
             ],
             [
              0.2222222222222222,
              "#7201a8"
             ],
             [
              0.3333333333333333,
              "#9c179e"
             ],
             [
              0.4444444444444444,
              "#bd3786"
             ],
             [
              0.5555555555555556,
              "#d8576b"
             ],
             [
              0.6666666666666666,
              "#ed7953"
             ],
             [
              0.7777777777777778,
              "#fb9f3a"
             ],
             [
              0.8888888888888888,
              "#fdca26"
             ],
             [
              1,
              "#f0f921"
             ]
            ],
            "type": "surface"
           }
          ],
          "table": [
           {
            "cells": {
             "fill": {
              "color": "#EBF0F8"
             },
             "line": {
              "color": "white"
             }
            },
            "header": {
             "fill": {
              "color": "#C8D4E3"
             },
             "line": {
              "color": "white"
             }
            },
            "type": "table"
           }
          ]
         },
         "layout": {
          "annotationdefaults": {
           "arrowcolor": "#2a3f5f",
           "arrowhead": 0,
           "arrowwidth": 1
          },
          "coloraxis": {
           "colorbar": {
            "outlinewidth": 0,
            "ticks": ""
           }
          },
          "colorscale": {
           "diverging": [
            [
             0,
             "#8e0152"
            ],
            [
             0.1,
             "#c51b7d"
            ],
            [
             0.2,
             "#de77ae"
            ],
            [
             0.3,
             "#f1b6da"
            ],
            [
             0.4,
             "#fde0ef"
            ],
            [
             0.5,
             "#f7f7f7"
            ],
            [
             0.6,
             "#e6f5d0"
            ],
            [
             0.7,
             "#b8e186"
            ],
            [
             0.8,
             "#7fbc41"
            ],
            [
             0.9,
             "#4d9221"
            ],
            [
             1,
             "#276419"
            ]
           ],
           "sequential": [
            [
             0,
             "#0d0887"
            ],
            [
             0.1111111111111111,
             "#46039f"
            ],
            [
             0.2222222222222222,
             "#7201a8"
            ],
            [
             0.3333333333333333,
             "#9c179e"
            ],
            [
             0.4444444444444444,
             "#bd3786"
            ],
            [
             0.5555555555555556,
             "#d8576b"
            ],
            [
             0.6666666666666666,
             "#ed7953"
            ],
            [
             0.7777777777777778,
             "#fb9f3a"
            ],
            [
             0.8888888888888888,
             "#fdca26"
            ],
            [
             1,
             "#f0f921"
            ]
           ],
           "sequentialminus": [
            [
             0,
             "#0d0887"
            ],
            [
             0.1111111111111111,
             "#46039f"
            ],
            [
             0.2222222222222222,
             "#7201a8"
            ],
            [
             0.3333333333333333,
             "#9c179e"
            ],
            [
             0.4444444444444444,
             "#bd3786"
            ],
            [
             0.5555555555555556,
             "#d8576b"
            ],
            [
             0.6666666666666666,
             "#ed7953"
            ],
            [
             0.7777777777777778,
             "#fb9f3a"
            ],
            [
             0.8888888888888888,
             "#fdca26"
            ],
            [
             1,
             "#f0f921"
            ]
           ]
          },
          "colorway": [
           "#636efa",
           "#EF553B",
           "#00cc96",
           "#ab63fa",
           "#FFA15A",
           "#19d3f3",
           "#FF6692",
           "#B6E880",
           "#FF97FF",
           "#FECB52"
          ],
          "font": {
           "color": "#2a3f5f"
          },
          "geo": {
           "bgcolor": "white",
           "lakecolor": "white",
           "landcolor": "#E5ECF6",
           "showlakes": true,
           "showland": true,
           "subunitcolor": "white"
          },
          "hoverlabel": {
           "align": "left"
          },
          "hovermode": "closest",
          "mapbox": {
           "style": "light"
          },
          "paper_bgcolor": "white",
          "plot_bgcolor": "#E5ECF6",
          "polar": {
           "angularaxis": {
            "gridcolor": "white",
            "linecolor": "white",
            "ticks": ""
           },
           "bgcolor": "#E5ECF6",
           "radialaxis": {
            "gridcolor": "white",
            "linecolor": "white",
            "ticks": ""
           }
          },
          "scene": {
           "xaxis": {
            "backgroundcolor": "#E5ECF6",
            "gridcolor": "white",
            "gridwidth": 2,
            "linecolor": "white",
            "showbackground": true,
            "ticks": "",
            "zerolinecolor": "white"
           },
           "yaxis": {
            "backgroundcolor": "#E5ECF6",
            "gridcolor": "white",
            "gridwidth": 2,
            "linecolor": "white",
            "showbackground": true,
            "ticks": "",
            "zerolinecolor": "white"
           },
           "zaxis": {
            "backgroundcolor": "#E5ECF6",
            "gridcolor": "white",
            "gridwidth": 2,
            "linecolor": "white",
            "showbackground": true,
            "ticks": "",
            "zerolinecolor": "white"
           }
          },
          "shapedefaults": {
           "line": {
            "color": "#2a3f5f"
           }
          },
          "ternary": {
           "aaxis": {
            "gridcolor": "white",
            "linecolor": "white",
            "ticks": ""
           },
           "baxis": {
            "gridcolor": "white",
            "linecolor": "white",
            "ticks": ""
           },
           "bgcolor": "#E5ECF6",
           "caxis": {
            "gridcolor": "white",
            "linecolor": "white",
            "ticks": ""
           }
          },
          "title": {
           "x": 0.05
          },
          "xaxis": {
           "automargin": true,
           "gridcolor": "white",
           "linecolor": "white",
           "ticks": "",
           "title": {
            "standoff": 15
           },
           "zerolinecolor": "white",
           "zerolinewidth": 2
          },
          "yaxis": {
           "automargin": true,
           "gridcolor": "white",
           "linecolor": "white",
           "ticks": "",
           "title": {
            "standoff": 15
           },
           "zerolinecolor": "white",
           "zerolinewidth": 2
          }
         }
        },
        "title": {
         "text": "US Spread of Coronavirus",
         "x": 0.5
        },
        "updatemenus": [
         {
          "buttons": [
           {
            "args": [
             null,
             {
              "frame": {
               "duration": 500,
               "redraw": true
              },
              "fromcurrent": true,
              "mode": "immediate",
              "transition": {
               "duration": 500,
               "easing": "linear"
              }
             }
            ],
            "label": "&#9654;",
            "method": "animate"
           },
           {
            "args": [
             [
              null
             ],
             {
              "frame": {
               "duration": 0,
               "redraw": true
              },
              "fromcurrent": true,
              "mode": "immediate",
              "transition": {
               "duration": 0,
               "easing": "linear"
              }
             }
            ],
            "label": "&#9724;",
            "method": "animate"
           }
          ],
          "direction": "left",
          "pad": {
           "r": 10,
           "t": 70
          },
          "showactive": false,
          "type": "buttons",
          "x": 0.1,
          "xanchor": "right",
          "y": 0,
          "yanchor": "top"
         }
        ]
       }
      },
      "text/html": [
       "<div>\n",
       "        \n",
       "        \n",
       "            <div id=\"bb0d89bb-268a-46b8-bc3f-db3e1f619597\" class=\"plotly-graph-div\" style=\"height:525px; width:100%;\"></div>\n",
       "            <script type=\"text/javascript\">\n",
       "                require([\"plotly\"], function(Plotly) {\n",
       "                    window.PLOTLYENV=window.PLOTLYENV || {};\n",
       "                    \n",
       "                if (document.getElementById(\"bb0d89bb-268a-46b8-bc3f-db3e1f619597\")) {\n",
       "                    Plotly.newPlot(\n",
       "                        'bb0d89bb-268a-46b8-bc3f-db3e1f619597',\n",
       "                        [{\"coloraxis\": \"coloraxis\", \"geo\": \"geo\", \"hovertemplate\": \"Date=01-22-2020<br>Code=%{location}<br>Confirmed=%{z}<extra></extra>\", \"locationmode\": \"USA-states\", \"locations\": [\"WA\"], \"name\": \"\", \"type\": \"choropleth\", \"z\": [1.0]}],\n",
       "                        {\"coloraxis\": {\"colorbar\": {\"title\": {\"text\": \"Confirmed\"}}, \"colorscale\": [[0.0, \"rgb(253, 224, 197)\"], [0.16666666666666666, \"rgb(250, 203, 166)\"], [0.3333333333333333, \"rgb(248, 181, 139)\"], [0.5, \"rgb(245, 158, 114)\"], [0.6666666666666666, \"rgb(242, 133, 93)\"], [0.8333333333333334, \"rgb(239, 106, 76)\"], [1.0, \"rgb(235, 74, 64)\"]]}, \"geo\": {\"center\": {}, \"domain\": {\"x\": [0.0, 1.0], \"y\": [0.0, 1.0]}, \"scope\": \"usa\", \"showcoastlines\": false, \"showframe\": false}, \"legend\": {\"tracegroupgap\": 0}, \"margin\": {\"t\": 60}, \"sliders\": [{\"active\": 0, \"currentvalue\": {\"prefix\": \"Date=\"}, \"len\": 0.9, \"pad\": {\"b\": 10, \"t\": 60}, \"steps\": [{\"args\": [[\"01-22-2020\"], {\"frame\": {\"duration\": 0, \"redraw\": true}, \"fromcurrent\": true, \"mode\": \"immediate\", \"transition\": {\"duration\": 0, \"easing\": \"linear\"}}], \"label\": \"01-22-2020\", \"method\": \"animate\"}, {\"args\": [[\"01-23-2020\"], {\"frame\": {\"duration\": 0, \"redraw\": true}, \"fromcurrent\": true, \"mode\": \"immediate\", \"transition\": {\"duration\": 0, \"easing\": \"linear\"}}], \"label\": \"01-23-2020\", \"method\": \"animate\"}, {\"args\": [[\"01-24-2020\"], {\"frame\": {\"duration\": 0, \"redraw\": true}, \"fromcurrent\": true, \"mode\": \"immediate\", \"transition\": {\"duration\": 0, \"easing\": \"linear\"}}], \"label\": \"01-24-2020\", \"method\": \"animate\"}, {\"args\": [[\"01-25-2020\"], {\"frame\": {\"duration\": 0, \"redraw\": true}, \"fromcurrent\": true, \"mode\": \"immediate\", \"transition\": {\"duration\": 0, \"easing\": \"linear\"}}], \"label\": \"01-25-2020\", \"method\": \"animate\"}, {\"args\": [[\"01-26-2020\"], {\"frame\": {\"duration\": 0, \"redraw\": true}, \"fromcurrent\": true, \"mode\": \"immediate\", \"transition\": {\"duration\": 0, \"easing\": \"linear\"}}], \"label\": \"01-26-2020\", \"method\": \"animate\"}, {\"args\": [[\"01-27-2020\"], {\"frame\": {\"duration\": 0, \"redraw\": true}, \"fromcurrent\": true, \"mode\": \"immediate\", \"transition\": {\"duration\": 0, \"easing\": \"linear\"}}], \"label\": \"01-27-2020\", \"method\": \"animate\"}, {\"args\": [[\"01-28-2020\"], {\"frame\": {\"duration\": 0, \"redraw\": true}, \"fromcurrent\": true, \"mode\": \"immediate\", \"transition\": {\"duration\": 0, \"easing\": \"linear\"}}], \"label\": \"01-28-2020\", \"method\": \"animate\"}, {\"args\": [[\"01-29-2020\"], {\"frame\": {\"duration\": 0, \"redraw\": true}, \"fromcurrent\": true, \"mode\": \"immediate\", \"transition\": {\"duration\": 0, \"easing\": \"linear\"}}], \"label\": \"01-29-2020\", \"method\": \"animate\"}, {\"args\": [[\"01-30-2020\"], {\"frame\": {\"duration\": 0, \"redraw\": true}, \"fromcurrent\": true, \"mode\": \"immediate\", \"transition\": {\"duration\": 0, \"easing\": \"linear\"}}], \"label\": \"01-30-2020\", \"method\": \"animate\"}, {\"args\": [[\"01-31-2020\"], {\"frame\": {\"duration\": 0, \"redraw\": true}, \"fromcurrent\": true, \"mode\": \"immediate\", \"transition\": {\"duration\": 0, \"easing\": \"linear\"}}], \"label\": \"01-31-2020\", \"method\": \"animate\"}, {\"args\": [[\"02-01-2020\"], {\"frame\": {\"duration\": 0, \"redraw\": true}, \"fromcurrent\": true, \"mode\": \"immediate\", \"transition\": {\"duration\": 0, \"easing\": \"linear\"}}], \"label\": \"02-01-2020\", \"method\": \"animate\"}, {\"args\": [[\"02-02-2020\"], {\"frame\": {\"duration\": 0, \"redraw\": true}, \"fromcurrent\": true, \"mode\": \"immediate\", \"transition\": {\"duration\": 0, \"easing\": \"linear\"}}], \"label\": \"02-02-2020\", \"method\": \"animate\"}, {\"args\": [[\"02-03-2020\"], {\"frame\": {\"duration\": 0, \"redraw\": true}, \"fromcurrent\": true, \"mode\": \"immediate\", \"transition\": {\"duration\": 0, \"easing\": \"linear\"}}], \"label\": \"02-03-2020\", \"method\": \"animate\"}, {\"args\": [[\"02-04-2020\"], {\"frame\": {\"duration\": 0, \"redraw\": true}, \"fromcurrent\": true, \"mode\": \"immediate\", \"transition\": {\"duration\": 0, \"easing\": \"linear\"}}], \"label\": \"02-04-2020\", \"method\": \"animate\"}, {\"args\": [[\"02-05-2020\"], {\"frame\": {\"duration\": 0, \"redraw\": true}, \"fromcurrent\": true, \"mode\": \"immediate\", \"transition\": {\"duration\": 0, \"easing\": \"linear\"}}], \"label\": \"02-05-2020\", \"method\": \"animate\"}, {\"args\": [[\"02-06-2020\"], {\"frame\": {\"duration\": 0, \"redraw\": true}, \"fromcurrent\": true, \"mode\": \"immediate\", \"transition\": {\"duration\": 0, \"easing\": \"linear\"}}], \"label\": \"02-06-2020\", \"method\": \"animate\"}, {\"args\": [[\"02-07-2020\"], {\"frame\": {\"duration\": 0, \"redraw\": true}, \"fromcurrent\": true, \"mode\": \"immediate\", \"transition\": {\"duration\": 0, \"easing\": \"linear\"}}], \"label\": \"02-07-2020\", \"method\": \"animate\"}, {\"args\": [[\"02-08-2020\"], {\"frame\": {\"duration\": 0, \"redraw\": true}, \"fromcurrent\": true, \"mode\": \"immediate\", \"transition\": {\"duration\": 0, \"easing\": \"linear\"}}], \"label\": \"02-08-2020\", \"method\": \"animate\"}, {\"args\": [[\"02-09-2020\"], {\"frame\": {\"duration\": 0, \"redraw\": true}, \"fromcurrent\": true, \"mode\": \"immediate\", \"transition\": {\"duration\": 0, \"easing\": \"linear\"}}], \"label\": \"02-09-2020\", \"method\": \"animate\"}, {\"args\": [[\"02-10-2020\"], {\"frame\": {\"duration\": 0, \"redraw\": true}, \"fromcurrent\": true, \"mode\": \"immediate\", \"transition\": {\"duration\": 0, \"easing\": \"linear\"}}], \"label\": \"02-10-2020\", \"method\": \"animate\"}, {\"args\": [[\"02-11-2020\"], {\"frame\": {\"duration\": 0, \"redraw\": true}, \"fromcurrent\": true, \"mode\": \"immediate\", \"transition\": {\"duration\": 0, \"easing\": \"linear\"}}], \"label\": \"02-11-2020\", \"method\": \"animate\"}, {\"args\": [[\"02-12-2020\"], {\"frame\": {\"duration\": 0, \"redraw\": true}, \"fromcurrent\": true, \"mode\": \"immediate\", \"transition\": {\"duration\": 0, \"easing\": \"linear\"}}], \"label\": \"02-12-2020\", \"method\": \"animate\"}, {\"args\": [[\"02-13-2020\"], {\"frame\": {\"duration\": 0, \"redraw\": true}, \"fromcurrent\": true, \"mode\": \"immediate\", \"transition\": {\"duration\": 0, \"easing\": \"linear\"}}], \"label\": \"02-13-2020\", \"method\": \"animate\"}, {\"args\": [[\"02-14-2020\"], {\"frame\": {\"duration\": 0, \"redraw\": true}, \"fromcurrent\": true, \"mode\": \"immediate\", \"transition\": {\"duration\": 0, \"easing\": \"linear\"}}], \"label\": \"02-14-2020\", \"method\": \"animate\"}, {\"args\": [[\"02-15-2020\"], {\"frame\": {\"duration\": 0, \"redraw\": true}, \"fromcurrent\": true, \"mode\": \"immediate\", \"transition\": {\"duration\": 0, \"easing\": \"linear\"}}], \"label\": \"02-15-2020\", \"method\": \"animate\"}, {\"args\": [[\"02-16-2020\"], {\"frame\": {\"duration\": 0, \"redraw\": true}, \"fromcurrent\": true, \"mode\": \"immediate\", \"transition\": {\"duration\": 0, \"easing\": \"linear\"}}], \"label\": \"02-16-2020\", \"method\": \"animate\"}, {\"args\": [[\"02-17-2020\"], {\"frame\": {\"duration\": 0, \"redraw\": true}, \"fromcurrent\": true, \"mode\": \"immediate\", \"transition\": {\"duration\": 0, \"easing\": \"linear\"}}], \"label\": \"02-17-2020\", \"method\": \"animate\"}, {\"args\": [[\"02-18-2020\"], {\"frame\": {\"duration\": 0, \"redraw\": true}, \"fromcurrent\": true, \"mode\": \"immediate\", \"transition\": {\"duration\": 0, \"easing\": \"linear\"}}], \"label\": \"02-18-2020\", \"method\": \"animate\"}, {\"args\": [[\"02-19-2020\"], {\"frame\": {\"duration\": 0, \"redraw\": true}, \"fromcurrent\": true, \"mode\": \"immediate\", \"transition\": {\"duration\": 0, \"easing\": \"linear\"}}], \"label\": \"02-19-2020\", \"method\": \"animate\"}, {\"args\": [[\"02-20-2020\"], {\"frame\": {\"duration\": 0, \"redraw\": true}, \"fromcurrent\": true, \"mode\": \"immediate\", \"transition\": {\"duration\": 0, \"easing\": \"linear\"}}], \"label\": \"02-20-2020\", \"method\": \"animate\"}, {\"args\": [[\"02-21-2020\"], {\"frame\": {\"duration\": 0, \"redraw\": true}, \"fromcurrent\": true, \"mode\": \"immediate\", \"transition\": {\"duration\": 0, \"easing\": \"linear\"}}], \"label\": \"02-21-2020\", \"method\": \"animate\"}, {\"args\": [[\"02-22-2020\"], {\"frame\": {\"duration\": 0, \"redraw\": true}, \"fromcurrent\": true, \"mode\": \"immediate\", \"transition\": {\"duration\": 0, \"easing\": \"linear\"}}], \"label\": \"02-22-2020\", \"method\": \"animate\"}, {\"args\": [[\"02-23-2020\"], {\"frame\": {\"duration\": 0, \"redraw\": true}, \"fromcurrent\": true, \"mode\": \"immediate\", \"transition\": {\"duration\": 0, \"easing\": \"linear\"}}], \"label\": \"02-23-2020\", \"method\": \"animate\"}, {\"args\": [[\"02-24-2020\"], {\"frame\": {\"duration\": 0, \"redraw\": true}, \"fromcurrent\": true, \"mode\": \"immediate\", \"transition\": {\"duration\": 0, \"easing\": \"linear\"}}], \"label\": \"02-24-2020\", \"method\": \"animate\"}, {\"args\": [[\"02-25-2020\"], {\"frame\": {\"duration\": 0, \"redraw\": true}, \"fromcurrent\": true, \"mode\": \"immediate\", \"transition\": {\"duration\": 0, \"easing\": \"linear\"}}], \"label\": \"02-25-2020\", \"method\": \"animate\"}, {\"args\": [[\"02-26-2020\"], {\"frame\": {\"duration\": 0, \"redraw\": true}, \"fromcurrent\": true, \"mode\": \"immediate\", \"transition\": {\"duration\": 0, \"easing\": \"linear\"}}], \"label\": \"02-26-2020\", \"method\": \"animate\"}, {\"args\": [[\"02-27-2020\"], {\"frame\": {\"duration\": 0, \"redraw\": true}, \"fromcurrent\": true, \"mode\": \"immediate\", \"transition\": {\"duration\": 0, \"easing\": \"linear\"}}], \"label\": \"02-27-2020\", \"method\": \"animate\"}, {\"args\": [[\"02-28-2020\"], {\"frame\": {\"duration\": 0, \"redraw\": true}, \"fromcurrent\": true, \"mode\": \"immediate\", \"transition\": {\"duration\": 0, \"easing\": \"linear\"}}], \"label\": \"02-28-2020\", \"method\": \"animate\"}, {\"args\": [[\"02-29-2020\"], {\"frame\": {\"duration\": 0, \"redraw\": true}, \"fromcurrent\": true, \"mode\": \"immediate\", \"transition\": {\"duration\": 0, \"easing\": \"linear\"}}], \"label\": \"02-29-2020\", \"method\": \"animate\"}, {\"args\": [[\"03-01-2020\"], {\"frame\": {\"duration\": 0, \"redraw\": true}, \"fromcurrent\": true, \"mode\": \"immediate\", \"transition\": {\"duration\": 0, \"easing\": \"linear\"}}], \"label\": \"03-01-2020\", \"method\": \"animate\"}, {\"args\": [[\"03-02-2020\"], {\"frame\": {\"duration\": 0, \"redraw\": true}, \"fromcurrent\": true, \"mode\": \"immediate\", \"transition\": {\"duration\": 0, \"easing\": \"linear\"}}], \"label\": \"03-02-2020\", \"method\": \"animate\"}, {\"args\": [[\"03-03-2020\"], {\"frame\": {\"duration\": 0, \"redraw\": true}, \"fromcurrent\": true, \"mode\": \"immediate\", \"transition\": {\"duration\": 0, \"easing\": \"linear\"}}], \"label\": \"03-03-2020\", \"method\": \"animate\"}, {\"args\": [[\"03-04-2020\"], {\"frame\": {\"duration\": 0, \"redraw\": true}, \"fromcurrent\": true, \"mode\": \"immediate\", \"transition\": {\"duration\": 0, \"easing\": \"linear\"}}], \"label\": \"03-04-2020\", \"method\": \"animate\"}, {\"args\": [[\"03-05-2020\"], {\"frame\": {\"duration\": 0, \"redraw\": true}, \"fromcurrent\": true, \"mode\": \"immediate\", \"transition\": {\"duration\": 0, \"easing\": \"linear\"}}], \"label\": \"03-05-2020\", \"method\": \"animate\"}, {\"args\": [[\"03-06-2020\"], {\"frame\": {\"duration\": 0, \"redraw\": true}, \"fromcurrent\": true, \"mode\": \"immediate\", \"transition\": {\"duration\": 0, \"easing\": \"linear\"}}], \"label\": \"03-06-2020\", \"method\": \"animate\"}, {\"args\": [[\"03-07-2020\"], {\"frame\": {\"duration\": 0, \"redraw\": true}, \"fromcurrent\": true, \"mode\": \"immediate\", \"transition\": {\"duration\": 0, \"easing\": \"linear\"}}], \"label\": \"03-07-2020\", \"method\": \"animate\"}, {\"args\": [[\"03-08-2020\"], {\"frame\": {\"duration\": 0, \"redraw\": true}, \"fromcurrent\": true, \"mode\": \"immediate\", \"transition\": {\"duration\": 0, \"easing\": \"linear\"}}], \"label\": \"03-08-2020\", \"method\": \"animate\"}, {\"args\": [[\"03-09-2020\"], {\"frame\": {\"duration\": 0, \"redraw\": true}, \"fromcurrent\": true, \"mode\": \"immediate\", \"transition\": {\"duration\": 0, \"easing\": \"linear\"}}], \"label\": \"03-09-2020\", \"method\": \"animate\"}, {\"args\": [[\"03-10-2020\"], {\"frame\": {\"duration\": 0, \"redraw\": true}, \"fromcurrent\": true, \"mode\": \"immediate\", \"transition\": {\"duration\": 0, \"easing\": \"linear\"}}], \"label\": \"03-10-2020\", \"method\": \"animate\"}, {\"args\": [[\"03-11-2020\"], {\"frame\": {\"duration\": 0, \"redraw\": true}, \"fromcurrent\": true, \"mode\": \"immediate\", \"transition\": {\"duration\": 0, \"easing\": \"linear\"}}], \"label\": \"03-11-2020\", \"method\": \"animate\"}, {\"args\": [[\"03-12-2020\"], {\"frame\": {\"duration\": 0, \"redraw\": true}, \"fromcurrent\": true, \"mode\": \"immediate\", \"transition\": {\"duration\": 0, \"easing\": \"linear\"}}], \"label\": \"03-12-2020\", \"method\": \"animate\"}, {\"args\": [[\"03-13-2020\"], {\"frame\": {\"duration\": 0, \"redraw\": true}, \"fromcurrent\": true, \"mode\": \"immediate\", \"transition\": {\"duration\": 0, \"easing\": \"linear\"}}], \"label\": \"03-13-2020\", \"method\": \"animate\"}, {\"args\": [[\"03-14-2020\"], {\"frame\": {\"duration\": 0, \"redraw\": true}, \"fromcurrent\": true, \"mode\": \"immediate\", \"transition\": {\"duration\": 0, \"easing\": \"linear\"}}], \"label\": \"03-14-2020\", \"method\": \"animate\"}, {\"args\": [[\"03-15-2020\"], {\"frame\": {\"duration\": 0, \"redraw\": true}, \"fromcurrent\": true, \"mode\": \"immediate\", \"transition\": {\"duration\": 0, \"easing\": \"linear\"}}], \"label\": \"03-15-2020\", \"method\": \"animate\"}, {\"args\": [[\"03-16-2020\"], {\"frame\": {\"duration\": 0, \"redraw\": true}, \"fromcurrent\": true, \"mode\": \"immediate\", \"transition\": {\"duration\": 0, \"easing\": \"linear\"}}], \"label\": \"03-16-2020\", \"method\": \"animate\"}, {\"args\": [[\"03-17-2020\"], {\"frame\": {\"duration\": 0, \"redraw\": true}, \"fromcurrent\": true, \"mode\": \"immediate\", \"transition\": {\"duration\": 0, \"easing\": \"linear\"}}], \"label\": \"03-17-2020\", \"method\": \"animate\"}, {\"args\": [[\"03-18-2020\"], {\"frame\": {\"duration\": 0, \"redraw\": true}, \"fromcurrent\": true, \"mode\": \"immediate\", \"transition\": {\"duration\": 0, \"easing\": \"linear\"}}], \"label\": \"03-18-2020\", \"method\": \"animate\"}, {\"args\": [[\"03-19-2020\"], {\"frame\": {\"duration\": 0, \"redraw\": true}, \"fromcurrent\": true, \"mode\": \"immediate\", \"transition\": {\"duration\": 0, \"easing\": \"linear\"}}], \"label\": \"03-19-2020\", \"method\": \"animate\"}, {\"args\": [[\"03-20-2020\"], {\"frame\": {\"duration\": 0, \"redraw\": true}, \"fromcurrent\": true, \"mode\": \"immediate\", \"transition\": {\"duration\": 0, \"easing\": \"linear\"}}], \"label\": \"03-20-2020\", \"method\": \"animate\"}, {\"args\": [[\"03-21-2020\"], {\"frame\": {\"duration\": 0, \"redraw\": true}, \"fromcurrent\": true, \"mode\": \"immediate\", \"transition\": {\"duration\": 0, \"easing\": \"linear\"}}], \"label\": \"03-21-2020\", \"method\": \"animate\"}, {\"args\": [[\"03-22-2020\"], {\"frame\": {\"duration\": 0, \"redraw\": true}, \"fromcurrent\": true, \"mode\": \"immediate\", \"transition\": {\"duration\": 0, \"easing\": \"linear\"}}], \"label\": \"03-22-2020\", \"method\": \"animate\"}, {\"args\": [[\"03-23-2020\"], {\"frame\": {\"duration\": 0, \"redraw\": true}, \"fromcurrent\": true, \"mode\": \"immediate\", \"transition\": {\"duration\": 0, \"easing\": \"linear\"}}], \"label\": \"03-23-2020\", \"method\": \"animate\"}, {\"args\": [[\"03-24-2020\"], {\"frame\": {\"duration\": 0, \"redraw\": true}, \"fromcurrent\": true, \"mode\": \"immediate\", \"transition\": {\"duration\": 0, \"easing\": \"linear\"}}], \"label\": \"03-24-2020\", \"method\": \"animate\"}, {\"args\": [[\"03-25-2020\"], {\"frame\": {\"duration\": 0, \"redraw\": true}, \"fromcurrent\": true, \"mode\": \"immediate\", \"transition\": {\"duration\": 0, \"easing\": \"linear\"}}], \"label\": \"03-25-2020\", \"method\": \"animate\"}, {\"args\": [[\"03-26-2020\"], {\"frame\": {\"duration\": 0, \"redraw\": true}, \"fromcurrent\": true, \"mode\": \"immediate\", \"transition\": {\"duration\": 0, \"easing\": \"linear\"}}], \"label\": \"03-26-2020\", \"method\": \"animate\"}, {\"args\": [[\"03-27-2020\"], {\"frame\": {\"duration\": 0, \"redraw\": true}, \"fromcurrent\": true, \"mode\": \"immediate\", \"transition\": {\"duration\": 0, \"easing\": \"linear\"}}], \"label\": \"03-27-2020\", \"method\": \"animate\"}, {\"args\": [[\"03-28-2020\"], {\"frame\": {\"duration\": 0, \"redraw\": true}, \"fromcurrent\": true, \"mode\": \"immediate\", \"transition\": {\"duration\": 0, \"easing\": \"linear\"}}], \"label\": \"03-28-2020\", \"method\": \"animate\"}, {\"args\": [[\"03-29-2020\"], {\"frame\": {\"duration\": 0, \"redraw\": true}, \"fromcurrent\": true, \"mode\": \"immediate\", \"transition\": {\"duration\": 0, \"easing\": \"linear\"}}], \"label\": \"03-29-2020\", \"method\": \"animate\"}, {\"args\": [[\"03-30-2020\"], {\"frame\": {\"duration\": 0, \"redraw\": true}, \"fromcurrent\": true, \"mode\": \"immediate\", \"transition\": {\"duration\": 0, \"easing\": \"linear\"}}], \"label\": \"03-30-2020\", \"method\": \"animate\"}, {\"args\": [[\"03-31-2020\"], {\"frame\": {\"duration\": 0, \"redraw\": true}, \"fromcurrent\": true, \"mode\": \"immediate\", \"transition\": {\"duration\": 0, \"easing\": \"linear\"}}], \"label\": \"03-31-2020\", \"method\": \"animate\"}, {\"args\": [[\"04-01-2020\"], {\"frame\": {\"duration\": 0, \"redraw\": true}, \"fromcurrent\": true, \"mode\": \"immediate\", \"transition\": {\"duration\": 0, \"easing\": \"linear\"}}], \"label\": \"04-01-2020\", \"method\": \"animate\"}, {\"args\": [[\"04-02-2020\"], {\"frame\": {\"duration\": 0, \"redraw\": true}, \"fromcurrent\": true, \"mode\": \"immediate\", \"transition\": {\"duration\": 0, \"easing\": \"linear\"}}], \"label\": \"04-02-2020\", \"method\": \"animate\"}, {\"args\": [[\"04-03-2020\"], {\"frame\": {\"duration\": 0, \"redraw\": true}, \"fromcurrent\": true, \"mode\": \"immediate\", \"transition\": {\"duration\": 0, \"easing\": \"linear\"}}], \"label\": \"04-03-2020\", \"method\": \"animate\"}, {\"args\": [[\"04-04-2020\"], {\"frame\": {\"duration\": 0, \"redraw\": true}, \"fromcurrent\": true, \"mode\": \"immediate\", \"transition\": {\"duration\": 0, \"easing\": \"linear\"}}], \"label\": \"04-04-2020\", \"method\": \"animate\"}, {\"args\": [[\"04-05-2020\"], {\"frame\": {\"duration\": 0, \"redraw\": true}, \"fromcurrent\": true, \"mode\": \"immediate\", \"transition\": {\"duration\": 0, \"easing\": \"linear\"}}], \"label\": \"04-05-2020\", \"method\": \"animate\"}, {\"args\": [[\"04-06-2020\"], {\"frame\": {\"duration\": 0, \"redraw\": true}, \"fromcurrent\": true, \"mode\": \"immediate\", \"transition\": {\"duration\": 0, \"easing\": \"linear\"}}], \"label\": \"04-06-2020\", \"method\": \"animate\"}, {\"args\": [[\"04-07-2020\"], {\"frame\": {\"duration\": 0, \"redraw\": true}, \"fromcurrent\": true, \"mode\": \"immediate\", \"transition\": {\"duration\": 0, \"easing\": \"linear\"}}], \"label\": \"04-07-2020\", \"method\": \"animate\"}, {\"args\": [[\"04-08-2020\"], {\"frame\": {\"duration\": 0, \"redraw\": true}, \"fromcurrent\": true, \"mode\": \"immediate\", \"transition\": {\"duration\": 0, \"easing\": \"linear\"}}], \"label\": \"04-08-2020\", \"method\": \"animate\"}, {\"args\": [[\"04-09-2020\"], {\"frame\": {\"duration\": 0, \"redraw\": true}, \"fromcurrent\": true, \"mode\": \"immediate\", \"transition\": {\"duration\": 0, \"easing\": \"linear\"}}], \"label\": \"04-09-2020\", \"method\": \"animate\"}, {\"args\": [[\"04-10-2020\"], {\"frame\": {\"duration\": 0, \"redraw\": true}, \"fromcurrent\": true, \"mode\": \"immediate\", \"transition\": {\"duration\": 0, \"easing\": \"linear\"}}], \"label\": \"04-10-2020\", \"method\": \"animate\"}, {\"args\": [[\"04-11-2020\"], {\"frame\": {\"duration\": 0, \"redraw\": true}, \"fromcurrent\": true, \"mode\": \"immediate\", \"transition\": {\"duration\": 0, \"easing\": \"linear\"}}], \"label\": \"04-11-2020\", \"method\": \"animate\"}, {\"args\": [[\"04-12-2020\"], {\"frame\": {\"duration\": 0, \"redraw\": true}, \"fromcurrent\": true, \"mode\": \"immediate\", \"transition\": {\"duration\": 0, \"easing\": \"linear\"}}], \"label\": \"04-12-2020\", \"method\": \"animate\"}, {\"args\": [[\"04-13-2020\"], {\"frame\": {\"duration\": 0, \"redraw\": true}, \"fromcurrent\": true, \"mode\": \"immediate\", \"transition\": {\"duration\": 0, \"easing\": \"linear\"}}], \"label\": \"04-13-2020\", \"method\": \"animate\"}, {\"args\": [[\"04-14-2020\"], {\"frame\": {\"duration\": 0, \"redraw\": true}, \"fromcurrent\": true, \"mode\": \"immediate\", \"transition\": {\"duration\": 0, \"easing\": \"linear\"}}], \"label\": \"04-14-2020\", \"method\": \"animate\"}, {\"args\": [[\"04-15-2020\"], {\"frame\": {\"duration\": 0, \"redraw\": true}, \"fromcurrent\": true, \"mode\": \"immediate\", \"transition\": {\"duration\": 0, \"easing\": \"linear\"}}], \"label\": \"04-15-2020\", \"method\": \"animate\"}, {\"args\": [[\"04-16-2020\"], {\"frame\": {\"duration\": 0, \"redraw\": true}, \"fromcurrent\": true, \"mode\": \"immediate\", \"transition\": {\"duration\": 0, \"easing\": \"linear\"}}], \"label\": \"04-16-2020\", \"method\": \"animate\"}], \"x\": 0.1, \"xanchor\": \"left\", \"y\": 0, \"yanchor\": \"top\"}], \"template\": {\"data\": {\"bar\": [{\"error_x\": {\"color\": \"#2a3f5f\"}, \"error_y\": {\"color\": \"#2a3f5f\"}, \"marker\": {\"line\": {\"color\": \"#E5ECF6\", \"width\": 0.5}}, \"type\": \"bar\"}], \"barpolar\": [{\"marker\": {\"line\": {\"color\": \"#E5ECF6\", \"width\": 0.5}}, \"type\": \"barpolar\"}], \"carpet\": [{\"aaxis\": {\"endlinecolor\": \"#2a3f5f\", \"gridcolor\": \"white\", \"linecolor\": \"white\", \"minorgridcolor\": \"white\", \"startlinecolor\": \"#2a3f5f\"}, \"baxis\": {\"endlinecolor\": \"#2a3f5f\", \"gridcolor\": \"white\", \"linecolor\": \"white\", \"minorgridcolor\": \"white\", \"startlinecolor\": \"#2a3f5f\"}, \"type\": \"carpet\"}], \"choropleth\": [{\"colorbar\": {\"outlinewidth\": 0, \"ticks\": \"\"}, \"type\": \"choropleth\"}], \"contour\": [{\"colorbar\": {\"outlinewidth\": 0, \"ticks\": \"\"}, \"colorscale\": [[0.0, \"#0d0887\"], [0.1111111111111111, \"#46039f\"], [0.2222222222222222, \"#7201a8\"], [0.3333333333333333, \"#9c179e\"], [0.4444444444444444, \"#bd3786\"], [0.5555555555555556, \"#d8576b\"], [0.6666666666666666, \"#ed7953\"], [0.7777777777777778, \"#fb9f3a\"], [0.8888888888888888, \"#fdca26\"], [1.0, \"#f0f921\"]], \"type\": \"contour\"}], \"contourcarpet\": [{\"colorbar\": {\"outlinewidth\": 0, \"ticks\": \"\"}, \"type\": \"contourcarpet\"}], \"heatmap\": [{\"colorbar\": {\"outlinewidth\": 0, \"ticks\": \"\"}, \"colorscale\": [[0.0, \"#0d0887\"], [0.1111111111111111, \"#46039f\"], [0.2222222222222222, \"#7201a8\"], [0.3333333333333333, \"#9c179e\"], [0.4444444444444444, \"#bd3786\"], [0.5555555555555556, \"#d8576b\"], [0.6666666666666666, \"#ed7953\"], [0.7777777777777778, \"#fb9f3a\"], [0.8888888888888888, \"#fdca26\"], [1.0, \"#f0f921\"]], \"type\": \"heatmap\"}], \"heatmapgl\": [{\"colorbar\": {\"outlinewidth\": 0, \"ticks\": \"\"}, \"colorscale\": [[0.0, \"#0d0887\"], [0.1111111111111111, \"#46039f\"], [0.2222222222222222, \"#7201a8\"], [0.3333333333333333, \"#9c179e\"], [0.4444444444444444, \"#bd3786\"], [0.5555555555555556, \"#d8576b\"], [0.6666666666666666, \"#ed7953\"], [0.7777777777777778, \"#fb9f3a\"], [0.8888888888888888, \"#fdca26\"], [1.0, \"#f0f921\"]], \"type\": \"heatmapgl\"}], \"histogram\": [{\"marker\": {\"colorbar\": {\"outlinewidth\": 0, \"ticks\": \"\"}}, \"type\": \"histogram\"}], \"histogram2d\": [{\"colorbar\": {\"outlinewidth\": 0, \"ticks\": \"\"}, \"colorscale\": [[0.0, \"#0d0887\"], [0.1111111111111111, \"#46039f\"], [0.2222222222222222, \"#7201a8\"], [0.3333333333333333, \"#9c179e\"], [0.4444444444444444, \"#bd3786\"], [0.5555555555555556, \"#d8576b\"], [0.6666666666666666, \"#ed7953\"], [0.7777777777777778, \"#fb9f3a\"], [0.8888888888888888, \"#fdca26\"], [1.0, \"#f0f921\"]], \"type\": \"histogram2d\"}], \"histogram2dcontour\": [{\"colorbar\": {\"outlinewidth\": 0, \"ticks\": \"\"}, \"colorscale\": [[0.0, \"#0d0887\"], [0.1111111111111111, \"#46039f\"], [0.2222222222222222, \"#7201a8\"], [0.3333333333333333, \"#9c179e\"], [0.4444444444444444, \"#bd3786\"], [0.5555555555555556, \"#d8576b\"], [0.6666666666666666, \"#ed7953\"], [0.7777777777777778, \"#fb9f3a\"], [0.8888888888888888, \"#fdca26\"], [1.0, \"#f0f921\"]], \"type\": \"histogram2dcontour\"}], \"mesh3d\": [{\"colorbar\": {\"outlinewidth\": 0, \"ticks\": \"\"}, \"type\": \"mesh3d\"}], \"parcoords\": [{\"line\": {\"colorbar\": {\"outlinewidth\": 0, \"ticks\": \"\"}}, \"type\": \"parcoords\"}], \"pie\": [{\"automargin\": true, \"type\": \"pie\"}], \"scatter\": [{\"marker\": {\"colorbar\": {\"outlinewidth\": 0, \"ticks\": \"\"}}, \"type\": \"scatter\"}], \"scatter3d\": [{\"line\": {\"colorbar\": {\"outlinewidth\": 0, \"ticks\": \"\"}}, \"marker\": {\"colorbar\": {\"outlinewidth\": 0, \"ticks\": \"\"}}, \"type\": \"scatter3d\"}], \"scattercarpet\": [{\"marker\": {\"colorbar\": {\"outlinewidth\": 0, \"ticks\": \"\"}}, \"type\": \"scattercarpet\"}], \"scattergeo\": [{\"marker\": {\"colorbar\": {\"outlinewidth\": 0, \"ticks\": \"\"}}, \"type\": \"scattergeo\"}], \"scattergl\": [{\"marker\": {\"colorbar\": {\"outlinewidth\": 0, \"ticks\": \"\"}}, \"type\": \"scattergl\"}], \"scattermapbox\": [{\"marker\": {\"colorbar\": {\"outlinewidth\": 0, \"ticks\": \"\"}}, \"type\": \"scattermapbox\"}], \"scatterpolar\": [{\"marker\": {\"colorbar\": {\"outlinewidth\": 0, \"ticks\": \"\"}}, \"type\": \"scatterpolar\"}], \"scatterpolargl\": [{\"marker\": {\"colorbar\": {\"outlinewidth\": 0, \"ticks\": \"\"}}, \"type\": \"scatterpolargl\"}], \"scatterternary\": [{\"marker\": {\"colorbar\": {\"outlinewidth\": 0, \"ticks\": \"\"}}, \"type\": \"scatterternary\"}], \"surface\": [{\"colorbar\": {\"outlinewidth\": 0, \"ticks\": \"\"}, \"colorscale\": [[0.0, \"#0d0887\"], [0.1111111111111111, \"#46039f\"], [0.2222222222222222, \"#7201a8\"], [0.3333333333333333, \"#9c179e\"], [0.4444444444444444, \"#bd3786\"], [0.5555555555555556, \"#d8576b\"], [0.6666666666666666, \"#ed7953\"], [0.7777777777777778, \"#fb9f3a\"], [0.8888888888888888, \"#fdca26\"], [1.0, \"#f0f921\"]], \"type\": \"surface\"}], \"table\": [{\"cells\": {\"fill\": {\"color\": \"#EBF0F8\"}, \"line\": {\"color\": \"white\"}}, \"header\": {\"fill\": {\"color\": \"#C8D4E3\"}, \"line\": {\"color\": \"white\"}}, \"type\": \"table\"}]}, \"layout\": {\"annotationdefaults\": {\"arrowcolor\": \"#2a3f5f\", \"arrowhead\": 0, \"arrowwidth\": 1}, \"coloraxis\": {\"colorbar\": {\"outlinewidth\": 0, \"ticks\": \"\"}}, \"colorscale\": {\"diverging\": [[0, \"#8e0152\"], [0.1, \"#c51b7d\"], [0.2, \"#de77ae\"], [0.3, \"#f1b6da\"], [0.4, \"#fde0ef\"], [0.5, \"#f7f7f7\"], [0.6, \"#e6f5d0\"], [0.7, \"#b8e186\"], [0.8, \"#7fbc41\"], [0.9, \"#4d9221\"], [1, \"#276419\"]], \"sequential\": [[0.0, \"#0d0887\"], [0.1111111111111111, \"#46039f\"], [0.2222222222222222, \"#7201a8\"], [0.3333333333333333, \"#9c179e\"], [0.4444444444444444, \"#bd3786\"], [0.5555555555555556, \"#d8576b\"], [0.6666666666666666, \"#ed7953\"], [0.7777777777777778, \"#fb9f3a\"], [0.8888888888888888, \"#fdca26\"], [1.0, \"#f0f921\"]], \"sequentialminus\": [[0.0, \"#0d0887\"], [0.1111111111111111, \"#46039f\"], [0.2222222222222222, \"#7201a8\"], [0.3333333333333333, \"#9c179e\"], [0.4444444444444444, \"#bd3786\"], [0.5555555555555556, \"#d8576b\"], [0.6666666666666666, \"#ed7953\"], [0.7777777777777778, \"#fb9f3a\"], [0.8888888888888888, \"#fdca26\"], [1.0, \"#f0f921\"]]}, \"colorway\": [\"#636efa\", \"#EF553B\", \"#00cc96\", \"#ab63fa\", \"#FFA15A\", \"#19d3f3\", \"#FF6692\", \"#B6E880\", \"#FF97FF\", \"#FECB52\"], \"font\": {\"color\": \"#2a3f5f\"}, \"geo\": {\"bgcolor\": \"white\", \"lakecolor\": \"white\", \"landcolor\": \"#E5ECF6\", \"showlakes\": true, \"showland\": true, \"subunitcolor\": \"white\"}, \"hoverlabel\": {\"align\": \"left\"}, \"hovermode\": \"closest\", \"mapbox\": {\"style\": \"light\"}, \"paper_bgcolor\": \"white\", \"plot_bgcolor\": \"#E5ECF6\", \"polar\": {\"angularaxis\": {\"gridcolor\": \"white\", \"linecolor\": \"white\", \"ticks\": \"\"}, \"bgcolor\": \"#E5ECF6\", \"radialaxis\": {\"gridcolor\": \"white\", \"linecolor\": \"white\", \"ticks\": \"\"}}, \"scene\": {\"xaxis\": {\"backgroundcolor\": \"#E5ECF6\", \"gridcolor\": \"white\", \"gridwidth\": 2, \"linecolor\": \"white\", \"showbackground\": true, \"ticks\": \"\", \"zerolinecolor\": \"white\"}, \"yaxis\": {\"backgroundcolor\": \"#E5ECF6\", \"gridcolor\": \"white\", \"gridwidth\": 2, \"linecolor\": \"white\", \"showbackground\": true, \"ticks\": \"\", \"zerolinecolor\": \"white\"}, \"zaxis\": {\"backgroundcolor\": \"#E5ECF6\", \"gridcolor\": \"white\", \"gridwidth\": 2, \"linecolor\": \"white\", \"showbackground\": true, \"ticks\": \"\", \"zerolinecolor\": \"white\"}}, \"shapedefaults\": {\"line\": {\"color\": \"#2a3f5f\"}}, \"ternary\": {\"aaxis\": {\"gridcolor\": \"white\", \"linecolor\": \"white\", \"ticks\": \"\"}, \"baxis\": {\"gridcolor\": \"white\", \"linecolor\": \"white\", \"ticks\": \"\"}, \"bgcolor\": \"#E5ECF6\", \"caxis\": {\"gridcolor\": \"white\", \"linecolor\": \"white\", \"ticks\": \"\"}}, \"title\": {\"x\": 0.05}, \"xaxis\": {\"automargin\": true, \"gridcolor\": \"white\", \"linecolor\": \"white\", \"ticks\": \"\", \"title\": {\"standoff\": 15}, \"zerolinecolor\": \"white\", \"zerolinewidth\": 2}, \"yaxis\": {\"automargin\": true, \"gridcolor\": \"white\", \"linecolor\": \"white\", \"ticks\": \"\", \"title\": {\"standoff\": 15}, \"zerolinecolor\": \"white\", \"zerolinewidth\": 2}}}, \"title\": {\"text\": \"US Spread of Coronavirus\", \"x\": 0.5}, \"updatemenus\": [{\"buttons\": [{\"args\": [null, {\"frame\": {\"duration\": 500, \"redraw\": true}, \"fromcurrent\": true, \"mode\": \"immediate\", \"transition\": {\"duration\": 500, \"easing\": \"linear\"}}], \"label\": \"&#9654;\", \"method\": \"animate\"}, {\"args\": [[null], {\"frame\": {\"duration\": 0, \"redraw\": true}, \"fromcurrent\": true, \"mode\": \"immediate\", \"transition\": {\"duration\": 0, \"easing\": \"linear\"}}], \"label\": \"&#9724;\", \"method\": \"animate\"}], \"direction\": \"left\", \"pad\": {\"r\": 10, \"t\": 70}, \"showactive\": false, \"type\": \"buttons\", \"x\": 0.1, \"xanchor\": \"right\", \"y\": 0, \"yanchor\": \"top\"}]},\n",
       "                        {\"responsive\": true}\n",
       "                    ).then(function(){\n",
       "                            Plotly.addFrames('bb0d89bb-268a-46b8-bc3f-db3e1f619597', [{\"data\": [{\"coloraxis\": \"coloraxis\", \"geo\": \"geo\", \"hovertemplate\": \"Date=01-22-2020<br>Code=%{location}<br>Confirmed=%{z}<extra></extra>\", \"locationmode\": \"USA-states\", \"locations\": [\"WA\"], \"name\": \"\", \"z\": [1.0], \"type\": \"choropleth\"}], \"name\": \"01-22-2020\"}, {\"data\": [{\"coloraxis\": \"coloraxis\", \"geo\": \"geo\", \"hovertemplate\": \"Date=01-23-2020<br>Code=%{location}<br>Confirmed=%{z}<extra></extra>\", \"locationmode\": \"USA-states\", \"locations\": [\"WA\"], \"name\": \"\", \"z\": [1.0], \"type\": \"choropleth\"}], \"name\": \"01-23-2020\"}, {\"data\": [{\"coloraxis\": \"coloraxis\", \"geo\": \"geo\", \"hovertemplate\": \"Date=01-24-2020<br>Code=%{location}<br>Confirmed=%{z}<extra></extra>\", \"locationmode\": \"USA-states\", \"locations\": [\"IL\", \"WA\"], \"name\": \"\", \"z\": [1.0, 1.0], \"type\": \"choropleth\"}], \"name\": \"01-24-2020\"}, {\"data\": [{\"coloraxis\": \"coloraxis\", \"geo\": \"geo\", \"hovertemplate\": \"Date=01-25-2020<br>Code=%{location}<br>Confirmed=%{z}<extra></extra>\", \"locationmode\": \"USA-states\", \"locations\": [\"IL\", \"WA\"], \"name\": \"\", \"z\": [1.0, 1.0], \"type\": \"choropleth\"}], \"name\": \"01-25-2020\"}, {\"data\": [{\"coloraxis\": \"coloraxis\", \"geo\": \"geo\", \"hovertemplate\": \"Date=01-26-2020<br>Code=%{location}<br>Confirmed=%{z}<extra></extra>\", \"locationmode\": \"USA-states\", \"locations\": [\"CA\", \"IL\", \"AZ\", \"WA\"], \"name\": \"\", \"z\": [2.0, 1.0, 1.0, 1.0], \"type\": \"choropleth\"}], \"name\": \"01-26-2020\"}, {\"data\": [{\"coloraxis\": \"coloraxis\", \"geo\": \"geo\", \"hovertemplate\": \"Date=01-27-2020<br>Code=%{location}<br>Confirmed=%{z}<extra></extra>\", \"locationmode\": \"USA-states\", \"locations\": [\"IL\", \"CA\", \"AZ\", \"WA\"], \"name\": \"\", \"z\": [1.0, 2.0, 1.0, 1.0], \"type\": \"choropleth\"}], \"name\": \"01-27-2020\"}, {\"data\": [{\"coloraxis\": \"coloraxis\", \"geo\": \"geo\", \"hovertemplate\": \"Date=01-28-2020<br>Code=%{location}<br>Confirmed=%{z}<extra></extra>\", \"locationmode\": \"USA-states\", \"locations\": [\"CA\", \"WA\", \"IL\", \"AZ\"], \"name\": \"\", \"z\": [2.0, 1.0, 1.0, 1.0], \"type\": \"choropleth\"}], \"name\": \"01-28-2020\"}, {\"data\": [{\"coloraxis\": \"coloraxis\", \"geo\": \"geo\", \"hovertemplate\": \"Date=01-29-2020<br>Code=%{location}<br>Confirmed=%{z}<extra></extra>\", \"locationmode\": \"USA-states\", \"locations\": [\"AZ\", \"CA\", \"IL\", \"WA\"], \"name\": \"\", \"z\": [1.0, 2.0, 1.0, 1.0], \"type\": \"choropleth\"}], \"name\": \"01-29-2020\"}, {\"data\": [{\"coloraxis\": \"coloraxis\", \"geo\": \"geo\", \"hovertemplate\": \"Date=01-30-2020<br>Code=%{location}<br>Confirmed=%{z}<extra></extra>\", \"locationmode\": \"USA-states\", \"locations\": [\"AZ\", \"WA\", \"IL\", \"CA\"], \"name\": \"\", \"z\": [1.0, 1.0, 1.0, 2.0], \"type\": \"choropleth\"}], \"name\": \"01-30-2020\"}, {\"data\": [{\"coloraxis\": \"coloraxis\", \"geo\": \"geo\", \"hovertemplate\": \"Date=01-31-2020<br>Code=%{location}<br>Confirmed=%{z}<extra></extra>\", \"locationmode\": \"USA-states\", \"locations\": [\"AZ\", \"IL\", \"WA\", \"CA\"], \"name\": \"\", \"z\": [1.0, 2.0, 1.0, 2.0], \"type\": \"choropleth\"}], \"name\": \"01-31-2020\"}, {\"data\": [{\"coloraxis\": \"coloraxis\", \"geo\": \"geo\", \"hovertemplate\": \"Date=02-01-2020<br>Code=%{location}<br>Confirmed=%{z}<extra></extra>\", \"locationmode\": \"USA-states\", \"locations\": [\"CA\", \"AZ\", \"IL\", \"WA\", \"MA\"], \"name\": \"\", \"z\": [3.0, 1.0, 2.0, 1.0, 1.0], \"type\": \"choropleth\"}], \"name\": \"02-01-2020\"}, {\"data\": [{\"coloraxis\": \"coloraxis\", \"geo\": \"geo\", \"hovertemplate\": \"Date=02-02-2020<br>Code=%{location}<br>Confirmed=%{z}<extra></extra>\", \"locationmode\": \"USA-states\", \"locations\": [\"MA\", \"AZ\", \"IL\", \"CA\", \"WA\"], \"name\": \"\", \"z\": [1.0, 1.0, 2.0, 3.0, 1.0], \"type\": \"choropleth\"}], \"name\": \"02-02-2020\"}, {\"data\": [{\"coloraxis\": \"coloraxis\", \"geo\": \"geo\", \"hovertemplate\": \"Date=02-03-2020<br>Code=%{location}<br>Confirmed=%{z}<extra></extra>\", \"locationmode\": \"USA-states\", \"locations\": [\"CA\", \"IL\", \"WA\", \"MA\", \"AZ\"], \"name\": \"\", \"z\": [6.0, 2.0, 1.0, 1.0, 1.0], \"type\": \"choropleth\"}], \"name\": \"02-03-2020\"}, {\"data\": [{\"coloraxis\": \"coloraxis\", \"geo\": \"geo\", \"hovertemplate\": \"Date=02-04-2020<br>Code=%{location}<br>Confirmed=%{z}<extra></extra>\", \"locationmode\": \"USA-states\", \"locations\": [\"MA\", \"AZ\", \"WA\", \"IL\", \"CA\"], \"name\": \"\", \"z\": [1.0, 1.0, 1.0, 2.0, 6.0], \"type\": \"choropleth\"}], \"name\": \"02-04-2020\"}, {\"data\": [{\"coloraxis\": \"coloraxis\", \"geo\": \"geo\", \"hovertemplate\": \"Date=02-05-2020<br>Code=%{location}<br>Confirmed=%{z}<extra></extra>\", \"locationmode\": \"USA-states\", \"locations\": [\"IL\", \"MA\", \"CA\", \"WI\", \"WA\", \"AZ\"], \"name\": \"\", \"z\": [2.0, 1.0, 6.0, 1.0, 1.0, 1.0], \"type\": \"choropleth\"}], \"name\": \"02-05-2020\"}, {\"data\": [{\"coloraxis\": \"coloraxis\", \"geo\": \"geo\", \"hovertemplate\": \"Date=02-06-2020<br>Code=%{location}<br>Confirmed=%{z}<extra></extra>\", \"locationmode\": \"USA-states\", \"locations\": [\"CA\", \"WI\", \"AZ\", \"WA\", \"MA\", \"IL\"], \"name\": \"\", \"z\": [6.0, 1.0, 1.0, 1.0, 1.0, 2.0], \"type\": \"choropleth\"}], \"name\": \"02-06-2020\"}, {\"data\": [{\"coloraxis\": \"coloraxis\", \"geo\": \"geo\", \"hovertemplate\": \"Date=02-07-2020<br>Code=%{location}<br>Confirmed=%{z}<extra></extra>\", \"locationmode\": \"USA-states\", \"locations\": [\"AZ\", \"WA\", \"CA\", \"IL\", \"MA\", \"WI\"], \"name\": \"\", \"z\": [1.0, 1.0, 6.0, 2.0, 1.0, 1.0], \"type\": \"choropleth\"}], \"name\": \"02-07-2020\"}, {\"data\": [{\"coloraxis\": \"coloraxis\", \"geo\": \"geo\", \"hovertemplate\": \"Date=02-08-2020<br>Code=%{location}<br>Confirmed=%{z}<extra></extra>\", \"locationmode\": \"USA-states\", \"locations\": [\"CA\", \"IL\", \"AZ\", \"WI\", \"MA\", \"WA\"], \"name\": \"\", \"z\": [6.0, 2.0, 1.0, 1.0, 1.0, 1.0], \"type\": \"choropleth\"}], \"name\": \"02-08-2020\"}, {\"data\": [{\"coloraxis\": \"coloraxis\", \"geo\": \"geo\", \"hovertemplate\": \"Date=02-09-2020<br>Code=%{location}<br>Confirmed=%{z}<extra></extra>\", \"locationmode\": \"USA-states\", \"locations\": [\"MA\", \"WA\", \"IL\", \"AZ\", \"CA\", \"WI\"], \"name\": \"\", \"z\": [1.0, 1.0, 2.0, 1.0, 6.0, 1.0], \"type\": \"choropleth\"}], \"name\": \"02-09-2020\"}, {\"data\": [{\"coloraxis\": \"coloraxis\", \"geo\": \"geo\", \"hovertemplate\": \"Date=02-10-2020<br>Code=%{location}<br>Confirmed=%{z}<extra></extra>\", \"locationmode\": \"USA-states\", \"locations\": [\"MA\", \"WA\", \"CA\", \"IL\", \"AZ\", \"WI\"], \"name\": \"\", \"z\": [1.0, 1.0, 6.0, 2.0, 1.0, 1.0], \"type\": \"choropleth\"}], \"name\": \"02-10-2020\"}, {\"data\": [{\"coloraxis\": \"coloraxis\", \"geo\": \"geo\", \"hovertemplate\": \"Date=02-11-2020<br>Code=%{location}<br>Confirmed=%{z}<extra></extra>\", \"locationmode\": \"USA-states\", \"locations\": [\"AZ\", \"IL\", \"WI\", \"CA\", \"MA\", \"WA\"], \"name\": \"\", \"z\": [1.0, 2.0, 1.0, 7.0, 1.0, 1.0], \"type\": \"choropleth\"}], \"name\": \"02-11-2020\"}, {\"data\": [{\"coloraxis\": \"coloraxis\", \"geo\": \"geo\", \"hovertemplate\": \"Date=02-12-2020<br>Code=%{location}<br>Confirmed=%{z}<extra></extra>\", \"locationmode\": \"USA-states\", \"locations\": [\"IL\", \"AZ\", \"CA\", \"WI\", \"MA\", \"WA\"], \"name\": \"\", \"z\": [2.0, 1.0, 7.0, 1.0, 1.0, 1.0], \"type\": \"choropleth\"}], \"name\": \"02-12-2020\"}, {\"data\": [{\"coloraxis\": \"coloraxis\", \"geo\": \"geo\", \"hovertemplate\": \"Date=02-13-2020<br>Code=%{location}<br>Confirmed=%{z}<extra></extra>\", \"locationmode\": \"USA-states\", \"locations\": [\"AZ\", \"CA\", \"MA\", \"WI\", \"IL\", \"WA\", \"TX\"], \"name\": \"\", \"z\": [1.0, 8.0, 1.0, 1.0, 2.0, 1.0, 1.0], \"type\": \"choropleth\"}], \"name\": \"02-13-2020\"}, {\"data\": [{\"coloraxis\": \"coloraxis\", \"geo\": \"geo\", \"hovertemplate\": \"Date=02-14-2020<br>Code=%{location}<br>Confirmed=%{z}<extra></extra>\", \"locationmode\": \"USA-states\", \"locations\": [\"CA\", \"IL\", \"AZ\", \"WA\", \"WI\", \"TX\", \"MA\"], \"name\": \"\", \"z\": [8.0, 2.0, 1.0, 1.0, 1.0, 1.0, 1.0], \"type\": \"choropleth\"}], \"name\": \"02-14-2020\"}, {\"data\": [{\"coloraxis\": \"coloraxis\", \"geo\": \"geo\", \"hovertemplate\": \"Date=02-15-2020<br>Code=%{location}<br>Confirmed=%{z}<extra></extra>\", \"locationmode\": \"USA-states\", \"locations\": [\"AZ\", \"IL\", \"MA\", \"TX\", \"WA\", \"CA\", \"WI\"], \"name\": \"\", \"z\": [1.0, 2.0, 1.0, 1.0, 1.0, 8.0, 1.0], \"type\": \"choropleth\"}], \"name\": \"02-15-2020\"}, {\"data\": [{\"coloraxis\": \"coloraxis\", \"geo\": \"geo\", \"hovertemplate\": \"Date=02-16-2020<br>Code=%{location}<br>Confirmed=%{z}<extra></extra>\", \"locationmode\": \"USA-states\", \"locations\": [\"MA\", \"WI\", \"IL\", \"CA\", \"AZ\", \"TX\", \"WA\"], \"name\": \"\", \"z\": [1.0, 1.0, 2.0, 8.0, 1.0, 1.0, 1.0], \"type\": \"choropleth\"}], \"name\": \"02-16-2020\"}, {\"data\": [{\"coloraxis\": \"coloraxis\", \"geo\": \"geo\", \"hovertemplate\": \"Date=02-17-2020<br>Code=%{location}<br>Confirmed=%{z}<extra></extra>\", \"locationmode\": \"USA-states\", \"locations\": [\"MA\", \"WI\", \"AZ\", \"IL\", \"CA\", \"TX\", \"WA\"], \"name\": \"\", \"z\": [1.0, 1.0, 1.0, 2.0, 8.0, 1.0, 1.0], \"type\": \"choropleth\"}], \"name\": \"02-17-2020\"}, {\"data\": [{\"coloraxis\": \"coloraxis\", \"geo\": \"geo\", \"hovertemplate\": \"Date=02-18-2020<br>Code=%{location}<br>Confirmed=%{z}<extra></extra>\", \"locationmode\": \"USA-states\", \"locations\": [\"WA\", \"AZ\", \"TX\", \"CA\", \"MA\", \"IL\", \"WI\"], \"name\": \"\", \"z\": [1.0, 1.0, 1.0, 8.0, 1.0, 2.0, 1.0], \"type\": \"choropleth\"}], \"name\": \"02-18-2020\"}, {\"data\": [{\"coloraxis\": \"coloraxis\", \"geo\": \"geo\", \"hovertemplate\": \"Date=02-19-2020<br>Code=%{location}<br>Confirmed=%{z}<extra></extra>\", \"locationmode\": \"USA-states\", \"locations\": [\"WA\", \"CA\", \"IL\", \"WI\", \"MA\", \"TX\", \"AZ\"], \"name\": \"\", \"z\": [1.0, 8.0, 2.0, 1.0, 1.0, 1.0, 1.0], \"type\": \"choropleth\"}], \"name\": \"02-19-2020\"}, {\"data\": [{\"coloraxis\": \"coloraxis\", \"geo\": \"geo\", \"hovertemplate\": \"Date=02-20-2020<br>Code=%{location}<br>Confirmed=%{z}<extra></extra>\", \"locationmode\": \"USA-states\", \"locations\": [\"IL\", \"AZ\", \"TX\", \"CA\", \"WA\", \"WI\", \"MA\"], \"name\": \"\", \"z\": [2.0, 1.0, 1.0, 8.0, 1.0, 1.0, 1.0], \"type\": \"choropleth\"}], \"name\": \"02-20-2020\"}, {\"data\": [{\"coloraxis\": \"coloraxis\", \"geo\": \"geo\", \"hovertemplate\": \"Date=02-21-2020<br>Code=%{location}<br>Confirmed=%{z}<extra></extra>\", \"locationmode\": \"USA-states\", \"locations\": [\"TX\", \"CA\", \"IL\", \"AZ\", \"MA\", \"NE\", \"WA\", \"WI\"], \"name\": \"\", \"z\": [3.0, 15.0, 2.0, 1.0, 1.0, 11.0, 1.0, 1.0], \"type\": \"choropleth\"}], \"name\": \"02-21-2020\"}, {\"data\": [{\"coloraxis\": \"coloraxis\", \"geo\": \"geo\", \"hovertemplate\": \"Date=02-22-2020<br>Code=%{location}<br>Confirmed=%{z}<extra></extra>\", \"locationmode\": \"USA-states\", \"locations\": [\"IL\", \"CA\", \"TX (From Diamond Princess)\", \"AZ\", \"MA\", \"CA (From Diamond Princess)\", \"WI\", \"WA\", \"NE (From Diamond Princess)\", \"TX\"], \"name\": \"\", \"z\": [2.0, 10.0, 2.0, 1.0, 1.0, 5.0, 1.0, 1.0, 11.0, 1.0], \"type\": \"choropleth\"}], \"name\": \"02-22-2020\"}, {\"data\": [{\"coloraxis\": \"coloraxis\", \"geo\": \"geo\", \"hovertemplate\": \"Date=02-23-2020<br>Code=%{location}<br>Confirmed=%{z}<extra></extra>\", \"locationmode\": \"USA-states\", \"locations\": [\"IL\", \"CA (From Diamond Princess)\", \"MA\", \"WA\", \"TX\", \"NE (From Diamond Princess)\", \"AZ\", \"TX (From Diamond Princess)\", \"CA\", \"WI\"], \"name\": \"\", \"z\": [2.0, 5.0, 1.0, 1.0, 1.0, 11.0, 1.0, 2.0, 10.0, 1.0], \"type\": \"choropleth\"}], \"name\": \"02-23-2020\"}, {\"data\": [{\"coloraxis\": \"coloraxis\", \"geo\": \"geo\", \"hovertemplate\": \"Date=02-24-2020<br>Code=%{location}<br>Confirmed=%{z}<extra></extra>\", \"locationmode\": \"USA-states\", \"locations\": [\"WI\", \"TX\", \"TX (From Diamond Princess)\", \"CA (From Diamond Princess)\", \"WA\", \"CA\", \"AZ\", \"IL\", \"Unassigned Location (From Diamond Princess)\", \"NE (From Diamond Princess)\", \"MA\"], \"name\": \"\", \"z\": [1.0, 1.0, 0.0, 0.0, 1.0, 10.0, 1.0, 2.0, 36.0, 0.0, 1.0], \"type\": \"choropleth\"}], \"name\": \"02-24-2020\"}, {\"data\": [{\"coloraxis\": \"coloraxis\", \"geo\": \"geo\", \"hovertemplate\": \"Date=02-25-2020<br>Code=%{location}<br>Confirmed=%{z}<extra></extra>\", \"locationmode\": \"USA-states\", \"locations\": [\"IL\", \"TX (From Diamond Princess)\", \"AZ\", \"CA\", \"Unassigned Location (From Diamond Princess)\", \"CA (From Diamond Princess)\", \"WI\", \"MA\", \"TX\", \"WA\", \"NE (From Diamond Princess)\"], \"name\": \"\", \"z\": [2.0, 0.0, 1.0, 10.0, 36.0, 0.0, 1.0, 1.0, 1.0, 1.0, 0.0], \"type\": \"choropleth\"}], \"name\": \"02-25-2020\"}, {\"data\": [{\"coloraxis\": \"coloraxis\", \"geo\": \"geo\", \"hovertemplate\": \"Date=02-26-2020<br>Code=%{location}<br>Confirmed=%{z}<extra></extra>\", \"locationmode\": \"USA-states\", \"locations\": [\"WA\", \"AZ\", \"CA\", \"TX\", \"CA (From Diamond Princess)\", \"NE (From Diamond Princess)\", \"MA\", \"WI\", \"IL\", \"TX (From Diamond Princess)\", \"Unassigned Location (From Diamond Princess)\"], \"name\": \"\", \"z\": [1.0, 1.0, 10.0, 1.0, 0.0, 0.0, 1.0, 1.0, 2.0, 0.0, 42.0], \"type\": \"choropleth\"}], \"name\": \"02-26-2020\"}, {\"data\": [{\"coloraxis\": \"coloraxis\", \"geo\": \"geo\", \"hovertemplate\": \"Date=02-27-2020<br>Code=%{location}<br>Confirmed=%{z}<extra></extra>\", \"locationmode\": \"USA-states\", \"locations\": [\"CA (From Diamond Princess)\", \"CA\", \"IL\", \"AZ\", \"MA\", \"WI\", \"TX\", \"TX (From Diamond Princess)\", \"WA\", \"NE (From Diamond Princess)\", \"Unassigned Location (From Diamond Princess)\"], \"name\": \"\", \"z\": [0.0, 11.0, 2.0, 1.0, 1.0, 1.0, 1.0, 0.0, 1.0, 0.0, 42.0], \"type\": \"choropleth\"}], \"name\": \"02-27-2020\"}, {\"data\": [{\"coloraxis\": \"coloraxis\", \"geo\": \"geo\", \"hovertemplate\": \"Date=02-28-2020<br>Code=%{location}<br>Confirmed=%{z}<extra></extra>\", \"locationmode\": \"USA-states\", \"locations\": [\"IL\", \"WI\", \"CA\", \"CA (From Diamond Princess)\", \"AZ\", \"WA\", \"MA\", \"NE (From Diamond Princess)\", \"TX (From Diamond Princess)\", \"TX\", \"Unassigned Location (From Diamond Princess)\"], \"name\": \"\", \"z\": [2.0, 1.0, 11.0, 0.0, 1.0, 1.0, 1.0, 0.0, 0.0, 1.0, 44.0], \"type\": \"choropleth\"}], \"name\": \"02-28-2020\"}, {\"data\": [{\"coloraxis\": \"coloraxis\", \"geo\": \"geo\", \"hovertemplate\": \"Date=02-29-2020<br>Code=%{location}<br>Confirmed=%{z}<extra></extra>\", \"locationmode\": \"USA-states\", \"locations\": [\"MA\", \"CA (From Diamond Princess)\", \"TX (From Diamond Princess)\", \"IL\", \"TX\", \"OR\", \"WI\", \"CA\", \"NE (From Diamond Princess)\", \"WA\", \"Unassigned Location (From Diamond Princess)\", \"AZ\"], \"name\": \"\", \"z\": [1.0, 0.0, 0.0, 2.0, 1.0, 1.0, 1.0, 12.0, 0.0, 7.0, 44.0, 1.0], \"type\": \"choropleth\"}], \"name\": \"02-29-2020\"}, {\"data\": [{\"coloraxis\": \"coloraxis\", \"geo\": \"geo\", \"hovertemplate\": \"Date=03-01-2020<br>Code=%{location}<br>Confirmed=%{z}<extra></extra>\", \"locationmode\": \"USA-states\", \"locations\": [\"IL\", \"WA\", \"Unassigned Location (From Diamond Princess)\", \"CA\", \"TX (From Diamond Princess)\", \"RI\", \"CA (From Diamond Princess)\", \"MA\", \"AZ\", \"WI\", \"OR\", \"NE (From Diamond Princess)\", \"TX\"], \"name\": \"\", \"z\": [3.0, 11.0, 44.0, 12.0, 0.0, 1.0, 0.0, 1.0, 1.0, 1.0, 1.0, 0.0, 1.0], \"type\": \"choropleth\"}], \"name\": \"03-01-2020\"}, {\"data\": [{\"coloraxis\": \"coloraxis\", \"geo\": \"geo\", \"hovertemplate\": \"Date=03-02-2020<br>Code=%{location}<br>Confirmed=%{z}<extra></extra>\", \"locationmode\": \"USA-states\", \"locations\": [\"FL\", \"NH\", \"RI\", \"WA\", \"NE (From Diamond Princess)\", \"TX (From Diamond Princess)\", \"AZ\", \"MA\", \"NY\", \"WI\", \"CA (From Diamond Princess)\", \"CA\", \"Unassigned Location (From Diamond Princess)\", \"IL\", \"OR\", \"TX\"], \"name\": \"\", \"z\": [2.0, 1.0, 2.0, 18.0, 0.0, 0.0, 1.0, 1.0, 1.0, 1.0, 0.0, 21.0, 45.0, 4.0, 3.0, 1.0], \"type\": \"choropleth\"}], \"name\": \"03-02-2020\"}, {\"data\": [{\"coloraxis\": \"coloraxis\", \"geo\": \"geo\", \"hovertemplate\": \"Date=03-03-2020<br>Code=%{location}<br>Confirmed=%{z}<extra></extra>\", \"locationmode\": \"USA-states\", \"locations\": [\"OR\", \"TX (From Diamond Princess)\", \"NY\", \"Unassigned Location (From Diamond Princess)\", \"CA (From Diamond Princess)\", \"RI\", \"IL\", \"CA\", \"NE (From Diamond Princess)\", \"GA\", \"NH\", \"TX\", \"WA\", \"FL\", \"WI\", \"AZ\", \"NC\", \"MA\"], \"name\": \"\", \"z\": [3.0, 0.0, 2.0, 45.0, 0.0, 2.0, 4.0, 25.0, 0.0, 2.0, 2.0, 1.0, 27.0, 3.0, 1.0, 2.0, 1.0, 2.0], \"type\": \"choropleth\"}], \"name\": \"03-03-2020\"}, {\"data\": [{\"coloraxis\": \"coloraxis\", \"geo\": \"geo\", \"hovertemplate\": \"Date=03-04-2020<br>Code=%{location}<br>Confirmed=%{z}<extra></extra>\", \"locationmode\": \"USA-states\", \"locations\": [\"FL\", \"NY\", \"Unassigned Location (From Diamond Princess)\", \"IL\", \"AZ\", \"MA\", \"NE (From Diamond Princess)\", \"RI\", \"WA\", \"TX (From Diamond Princess)\", \"NC\", \"CA\", \"WI\", \"NH\", \"OR\", \"CA (From Diamond Princess)\", \"GA\", \"TX\"], \"name\": \"\", \"z\": [3.0, 11.0, 45.0, 4.0, 2.0, 2.0, 0.0, 2.0, 39.0, 0.0, 1.0, 35.0, 1.0, 2.0, 3.0, 0.0, 2.0, 1.0], \"type\": \"choropleth\"}], \"name\": \"03-04-2020\"}, {\"data\": [{\"coloraxis\": \"coloraxis\", \"geo\": \"geo\", \"hovertemplate\": \"Date=03-05-2020<br>Code=%{location}<br>Confirmed=%{z}<extra></extra>\", \"locationmode\": \"USA-states\", \"locations\": [\"NY\", \"CA (From Diamond Princess)\", \"WA\", \"FL\", \"AZ\", \"MA\", \"CA\", \"WI\", \"TX\", \"RI\", \"Unassigned Location (From Diamond Princess)\", \"TX (From Diamond Princess)\", \"NV\", \"NE (From Diamond Princess)\", \"NC\", \"IL\", \"NJ\", \"GA\", \"OR\", \"NH\", \"TN\"], \"name\": \"\", \"z\": [23.0, 0.0, 70.0, 4.0, 2.0, 2.0, 51.0, 1.0, 4.0, 2.0, 45.0, 0.0, 1.0, 0.0, 1.0, 5.0, 2.0, 2.0, 3.0, 2.0, 1.0], \"type\": \"choropleth\"}], \"name\": \"03-05-2020\"}, {\"data\": [{\"coloraxis\": \"coloraxis\", \"geo\": \"geo\", \"hovertemplate\": \"Date=03-06-2020<br>Code=%{location}<br>Confirmed=%{z}<extra></extra>\", \"locationmode\": \"USA-states\", \"locations\": [\"TN\", \"FL\", \"Unassigned Location (From Diamond Princess)\", \"NV\", \"MA\", \"NE\", \"PA\", \"NC\", \"TX\", \"NY\", \"WI\", \"TX (From Diamond Princess)\", \"NJ\", \"OR\", \"CA (From Diamond Princess)\", \"AZ\", \"MD\", \"NH\", \"MN\", \"KY\", \"CO\", \"GA\", \"WA\", \"IL\", \"NE (From Diamond Princess)\", \"IN\", \"CA\", \"RI\"], \"name\": \"\", \"z\": [1.0, 4.0, 45.0, 2.0, 7.0, 1.0, 2.0, 2.0, 5.0, 36.0, 1.0, 0.0, 2.0, 3.0, 0.0, 3.0, 3.0, 2.0, 1.0, 1.0, 4.0, 3.0, 83.0, 5.0, 0.0, 1.0, 59.0, 2.0], \"type\": \"choropleth\"}], \"name\": \"03-06-2020\"}, {\"data\": [{\"coloraxis\": \"coloraxis\", \"geo\": \"geo\", \"hovertemplate\": \"Date=03-07-2020<br>Code=%{location}<br>Confirmed=%{z}<extra></extra>\", \"locationmode\": \"USA-states\", \"locations\": [\"MA\", \"NH\", \"CA\", \"TX\", \"NY\", \"HI\", \"SC\", \"WI\", \"Grand Princess Cruise Ship\", \"TX (From Diamond Princess)\", \"OR\", \"IL\", \"NJ\", \"MN\", \"UT\", \"IN\", \"OK\", \"NV\", \"GA\", \"AZ\", \"KY\", \"CA (From Diamond Princess)\", \"MD\", \"TN\", \"FL\", \"CT\", \"NC\", \"Unassigned Location (From Diamond Princess)\", \"CO\", \"NE (From Diamond Princess)\", \"PA\", \"NE\", \"WA\", \"RI\"], \"name\": \"\", \"z\": [7.0, 2.0, 82.0, 9.0, 76.0, 1.0, 2.0, 1.0, 21.0, 0.0, 6.0, 6.0, 4.0, 1.0, 1.0, 1.0, 1.0, 2.0, 6.0, 5.0, 1.0, 0.0, 3.0, 1.0, 8.0, 2.0, 2.0, 45.0, 8.0, 0.0, 2.0, 1.0, 107.0, 3.0], \"type\": \"choropleth\"}], \"name\": \"03-07-2020\"}, {\"data\": [{\"coloraxis\": \"coloraxis\", \"geo\": \"geo\", \"hovertemplate\": \"Date=03-08-2020<br>Code=%{location}<br>Confirmed=%{z}<extra></extra>\", \"locationmode\": \"USA-states\", \"locations\": [\"TN\", \"HI\", \"RI\", \"FL\", \"MD\", \"MN\", \"PA\", \"OR\", \"TX (From Diamond Princess)\", \"GA\", \"SC\", \"TX\", \"MA\", \"MO\", \"Grand Princess Cruise Ship\", \"NJ\", \"AZ\", \"WA\", \"VT\", \"UT\", \"KY\", \"VA\", \"CA\", \"Unassigned Location (From Diamond Princess)\", \"KS\", \"NE\", \"CT\", \"NC\", \"IN\", \"NV\", \"IL\", \"D.C.\", \"OK\", \"NH\", \"CA (From Diamond Princess)\", \"WI\", \"NY\", \"NE (From Diamond Princess)\", \"CO\"], \"name\": \"\", \"z\": [3.0, 1.0, 3.0, 11.0, 5.0, 1.0, 6.0, 14.0, 0.0, 5.0, 2.0, 12.0, 24.0, 1.0, 21.0, 5.0, 5.0, 128.0, 1.0, 1.0, 1.0, 2.0, 98.0, 45.0, 1.0, 1.0, 1.0, 2.0, 2.0, 4.0, 7.0, 2.0, 1.0, 6.0, 0.0, 1.0, 106.0, 0.0, 8.0], \"type\": \"choropleth\"}], \"name\": \"03-08-2020\"}, {\"data\": [{\"coloraxis\": \"coloraxis\", \"geo\": \"geo\", \"hovertemplate\": \"Date=03-09-2020<br>Code=%{location}<br>Confirmed=%{z}<extra></extra>\", \"locationmode\": \"USA-states\", \"locations\": [\"KS\", \"CA (From Diamond Princess)\", \"CA\", \"SC\", \"GA\", \"CO\", \"VT\", \"MN\", \"IL\", \"RI\", \"NH\", \"IN\", \"TN\", \"WA\", \"TX\", \"UT\", \"CT\", \"OK\", \"TX (From Diamond Princess)\", \"IA\", \"WI\", \"NY\", \"NV\", \"OR\", \"D.C.\", \"HI\", \"NJ\", \"NC\", \"LA\", \"PA\", \"Grand Princess Cruise Ship\", \"MA\", \"Unassigned Location (From Diamond Princess)\", \"NE\", \"KY\", \"VA\", \"MD\", \"FL\", \"AZ\", \"MO\", \"NE (From Diamond Princess)\"], \"name\": \"\", \"z\": [1.0, 0.0, 104.0, 6.0, 10.0, 8.0, 1.0, 2.0, 7.0, 3.0, 5.0, 3.0, 3.0, 128.0, 14.0, 1.0, 1.0, 1.0, 0.0, 3.0, 1.0, 142.0, 4.0, 14.0, 2.0, 2.0, 5.0, 2.0, 1.0, 7.0, 21.0, 24.0, 45.0, 3.0, 4.0, 2.0, 5.0, 14.0, 5.0, 1.0, 0.0], \"type\": \"choropleth\"}], \"name\": \"03-09-2020\"}, {\"data\": [{\"coloraxis\": \"coloraxis\", \"geo\": \"geo\", \"hovertemplate\": \"Date=03-10-2020<br>Code=%{location}<br>Confirmed=%{z}<extra></extra>\", \"locationmode\": \"USA-states\", \"locations\": [\"AK\", \"NH\", \"SD\", \"ME\", \"MN\", \"MO\", \"MD\", \"MS\", \"MT\", \"MA\", \"NC\", \"LA\", \"ND\", \"NE\", \"KY\", \"KS\", \"NJ\", \"IN\", \"NM\", \"IL\", \"NV\", \"NY\", \"ID\", \"OH\", \"IA\", \"OK\", \"OR\", \"HI\", \"PA\", \"RI\", \"Grand Princess\", \"SC\", \"GA\", \"TN\", \"MI\", \"AR\", \"WY\", \"WV\", \"CT\", \"DE\", \"WA\", \"UT\", \"CA\", \"FL\", \"VA\", \"AZ\", \"WI\", \"TX\", \"Diamond Princess\", \"CO\", \"DC\", \"VT\"], \"name\": \"\", \"z\": [0.0, 4.0, 0.0, 0.0, 3.0, 1.0, 8.0, 0.0, 0.0, 92.0, 7.0, 1.0, 0.0, 3.0, 6.0, 1.0, 15.0, 6.0, 0.0, 12.0, 4.0, 173.0, 0.0, 3.0, 8.0, 2.0, 15.0, 2.0, 12.0, 3.0, 21.0, 7.0, 17.0, 7.0, 0.0, 0.0, 0.0, 0.0, 2.0, 0.0, 267.0, 2.0, 144.0, 15.0, 7.0, 6.0, 3.0, 13.0, 46.0, 15.0, 5.0, 1.0], \"type\": \"choropleth\"}], \"name\": \"03-10-2020\"}, {\"data\": [{\"coloraxis\": \"coloraxis\", \"geo\": \"geo\", \"hovertemplate\": \"Date=03-11-2020<br>Code=%{location}<br>Confirmed=%{z}<extra></extra>\", \"locationmode\": \"USA-states\", \"locations\": [\"MT\", \"KS\", \"IL\", \"CA\", \"Grand Princess\", \"RI\", \"MD\", \"WA\", \"MA\", \"MI\", \"NE\", \"WY\", \"MS\", \"Diamond Princess\", \"VT\", \"TX\", \"HI\", \"WV\", \"ID\", \"ND\", \"LA\", \"OH\", \"NV\", \"NC\", \"DC\", \"IA\", \"KY\", \"OK\", \"AZ\", \"AR\", \"WI\", \"UT\", \"VA\", \"DE\", \"CT\", \"SC\", \"OR\", \"PA\", \"NH\", \"NY\", \"MN\", \"NM\", \"GA\", \"TN\", \"IN\", \"FL\", \"MO\", \"NJ\", \"SD\", \"CO\", \"ME\", \"AK\"], \"name\": \"\", \"z\": [1.0, 1.0, 25.0, 177.0, 21.0, 5.0, 9.0, 366.0, 95.0, 2.0, 5.0, 0.0, 0.0, 46.0, 1.0, 21.0, 2.0, 0.0, 0.0, 0.0, 6.0, 4.0, 7.0, 7.0, 10.0, 13.0, 8.0, 2.0, 9.0, 1.0, 6.0, 3.0, 9.0, 1.0, 3.0, 10.0, 19.0, 16.0, 5.0, 220.0, 5.0, 3.0, 23.0, 9.0, 11.0, 28.0, 1.0, 23.0, 8.0, 34.0, 0.0, 0.0], \"type\": \"choropleth\"}], \"name\": \"03-11-2020\"}, {\"data\": [{\"coloraxis\": \"coloraxis\", \"geo\": \"geo\", \"hovertemplate\": \"Date=03-12-2020<br>Code=%{location}<br>Confirmed=%{z}<extra></extra>\", \"locationmode\": \"USA-states\", \"locations\": [\"ME\", \"IL\", \"IA\", \"VA\", \"CO\", \"NJ\", \"KS\", \"AR\", \"DE\", \"MT\", \"KY\", \"OK\", \"TN\", \"HI\", \"AZ\", \"MA\", \"MN\", \"FL\", \"WI\", \"WV\", \"VT\", \"AK\", \"UT\", \"WY\", \"CT\", \"SD\", \"WA\", \"PA\", \"OR\", \"GA\", \"TX\", \"NE\", \"NH\", \"ID\", \"SC\", \"MO\", \"ND\", \"Diamond Princess\", \"NY\", \"MI\", \"MD\", \"LA\", \"OH\", \"Grand Princess\", \"CA\", \"DC\", \"RI\", \"NV\", \"IN\", \"NC\", \"MS\", \"NM\"], \"name\": \"\", \"z\": [0.0, 32.0, 16.0, 17.0, 45.0, 29.0, 1.0, 6.0, 1.0, 1.0, 10.0, 2.0, 18.0, 2.0, 9.0, 108.0, 9.0, 35.0, 8.0, 0.0, 2.0, 0.0, 5.0, 1.0, 5.0, 8.0, 442.0, 22.0, 24.0, 31.0, 27.0, 10.0, 6.0, 0.0, 12.0, 1.0, 1.0, 46.0, 328.0, 2.0, 12.0, 19.0, 5.0, 21.0, 221.0, 10.0, 5.0, 14.0, 13.0, 15.0, 1.0, 5.0], \"type\": \"choropleth\"}], \"name\": \"03-12-2020\"}, {\"data\": [{\"coloraxis\": \"coloraxis\", \"geo\": \"geo\", \"hovertemplate\": \"Date=03-13-2020<br>Code=%{location}<br>Confirmed=%{z}<extra></extra>\", \"locationmode\": \"USA-states\", \"locations\": [\"KY\", \"AR\", \"DE\", \"AK\", \"ND\", \"NE\", \"HI\", \"ID\", \"CT\", \"NC\", \"WI\", \"IN\", \"NY\", \"AZ\", \"ME\", \"CO\", \"UT\", \"DC\", \"IA\", \"MI\", \"LA\", \"OK\", \"TN\", \"OH\", \"FL\", \"NV\", \"OR\", \"VT\", \"VA\", \"MN\", \"Grand Princess\", \"WY\", \"NM\", \"IL\", \"CA\", \"MD\", \"PA\", \"SD\", \"MS\", \"RI\", \"WA\", \"MA\", \"AL\", \"WV\", \"NH\", \"SC\", \"TX\", \"MT\", \"MO\", \"NJ\", \"GA\", \"Diamond Princess\", \"KS\"], \"name\": \"\", \"z\": [14.0, 6.0, 4.0, 1.0, 1.0, 13.0, 2.0, 1.0, 11.0, 17.0, 19.0, 13.0, 421.0, 9.0, 1.0, 49.0, 9.0, 10.0, 17.0, 16.0, 36.0, 2.0, 26.0, 13.0, 50.0, 17.0, 30.0, 2.0, 30.0, 14.0, 21.0, 1.0, 10.0, 46.0, 282.0, 18.0, 41.0, 8.0, 1.0, 14.0, 568.0, 123.0, 5.0, 0.0, 6.0, 13.0, 43.0, 1.0, 2.0, 29.0, 42.0, 46.0, 5.0], \"type\": \"choropleth\"}], \"name\": \"03-13-2020\"}, {\"data\": [{\"coloraxis\": \"coloraxis\", \"geo\": \"geo\", \"hovertemplate\": \"Date=03-14-2020<br>Code=%{location}<br>Confirmed=%{z}<extra></extra>\", \"locationmode\": \"USA-states\", \"locations\": [\"NV\", \"AR\", \"IL\", \"NC\", \"GA\", \"Grand Princess\", \"MN\", \"RI\", \"NM\", \"OH\", \"MI\", \"LA\", \"CA\", \"DC\", \"NY\", \"MD\", \"Diamond Princess\", \"IN\", \"SC\", \"ID\", \"NE\", \"FL\", \"ND\", \"KY\", \"TX\", \"MS\", \"OR\", \"NJ\", \"IA\", \"WI\", \"AZ\", \"U.S.\", \"CT\", \"ME\", \"WA\", \"HI\", \"SD\", \"AL\", \"DE\", \"VA\", \"MO\", \"WV\", \"CO\", \"PA\", \"VT\", \"MT\", \"UT\", \"KS\", \"TN\", \"OK\", \"PR\", \"WY\", \"NH\", \"MA\"], \"name\": \"\", \"z\": [21.0, 12.0, 64.0, 24.0, 66.0, 21.0, 21.0, 20.0, 10.0, 26.0, 25.0, 77.0, 340.0, 10.0, 525.0, 26.0, 46.0, 16.0, 19.0, 2.0, 14.0, 76.0, 1.0, 14.0, 57.0, 6.0, 32.0, 69.0, 17.0, 27.0, 12.0, 1.0, 22.0, 3.0, 572.0, 4.0, 9.0, 6.0, 6.0, 41.0, 4.0, 0.0, 101.0, 47.0, 5.0, 5.0, 10.0, 8.0, 32.0, 4.0, 3.0, 2.0, 7.0, 138.0], \"type\": \"choropleth\"}], \"name\": \"03-14-2020\"}, {\"data\": [{\"coloraxis\": \"coloraxis\", \"geo\": \"geo\", \"hovertemplate\": \"Date=03-15-2020<br>Code=%{location}<br>Confirmed=%{z}<extra></extra>\", \"locationmode\": \"USA-states\", \"locations\": [\"NH\", \"NJ\", \"KY\", \"VA\", \"VT\", \"KS\", \"NV\", \"WA\", \"NE\", \"IL\", \"CA\", \"NM\", \"AZ\", \"DC\", \"CO\", \"CT\", \"FL\", \"MT\", \"GA\", \"IN\", \"MN\", \"U.S.\", \"WI\", \"MD\", \"SC\", \"MO\", \"HI\", \"DE\", \"OR\", \"AL\", \"RI\", \"Grand Princess\", \"WV\", \"PA\", \"TX\", \"WY\", \"MS\", \"Guam\", \"MA\", \"Diamond Princess\", \"OK\", \"PR\", \"OH\", \"ME\", \"UT\", \"LA\", \"SD\", \"AK\", \"TN\", \"NY\", \"AR\", \"ID\", \"NC\", \"ND\", \"IA\", \"MI\"], \"name\": \"\", \"z\": [13.0, 98.0, 20.0, 45.0, 8.0, 8.0, 24.0, 643.0, 17.0, 93.0, 426.0, 13.0, 13.0, 16.0, 131.0, 24.0, 115.0, 7.0, 99.0, 20.0, 35.0, 1.0, 32.0, 32.0, 28.0, 5.0, 6.0, 7.0, 36.0, 12.0, 20.0, 21.0, 0.0, 66.0, 72.0, 3.0, 10.0, 3.0, 164.0, 46.0, 7.0, 5.0, 37.0, 12.0, 28.0, 91.0, 9.0, 1.0, 39.0, 732.0, 16.0, 5.0, 33.0, 1.0, 18.0, 33.0], \"type\": \"choropleth\"}], \"name\": \"03-15-2020\"}, {\"data\": [{\"coloraxis\": \"coloraxis\", \"geo\": \"geo\", \"hovertemplate\": \"Date=03-16-2020<br>Code=%{location}<br>Confirmed=%{z}<extra></extra>\", \"locationmode\": \"USA-states\", \"locations\": [\"TX\", \"MS\", \"FL\", \"MO\", \"ME\", \"IL\", \"PR\", \"Grand Princess\", \"TN\", \"MI\", \"Diamond Princess\", \"SD\", \"CO\", \"CA\", \"SC\", \"MD\", \"NM\", \"AK\", \"NJ\", \"KS\", \"MN\", \"Virgin Islands\", \"GA\", \"NH\", \"RI\", \"ND\", \"Guam\", \"MA\", \"AZ\", \"MT\", \"NE\", \"OK\", \"UT\", \"IA\", \"NC\", \"LA\", \"NV\", \"OH\", \"KY\", \"AR\", \"NY\", \"DC\", \"ID\", \"CT\", \"WI\", \"IN\", \"PA\", \"VT\", \"AL\", \"HI\", \"WY\", \"OR\", \"VA\", \"WV\", \"DE\", \"WA\"], \"name\": \"\", \"z\": [85.0, 13.0, 155.0, 6.0, 17.0, 105.0, 5.0, 20.0, 52.0, 53.0, 47.0, 10.0, 160.0, 557.0, 33.0, 41.0, 17.0, 1.0, 178.0, 11.0, 54.0, 1.0, 121.0, 17.0, 21.0, 1.0, 3.0, 197.0, 18.0, 7.0, 18.0, 10.0, 39.0, 23.0, 38.0, 136.0, 45.0, 50.0, 21.0, 22.0, 967.0, 22.0, 5.0, 30.0, 47.0, 25.0, 77.0, 12.0, 29.0, 7.0, 3.0, 39.0, 49.0, 0.0, 8.0, 904.0], \"type\": \"choropleth\"}], \"name\": \"03-16-2020\"}, {\"data\": [{\"coloraxis\": \"coloraxis\", \"geo\": \"geo\", \"hovertemplate\": \"Date=03-17-2020<br>Code=%{location}<br>Confirmed=%{z}<extra></extra>\", \"locationmode\": \"USA-states\", \"locations\": [\"ND\", \"KY\", \"WI\", \"AR\", \"WV\", \"MI\", \"WY\", \"MA\", \"MS\", \"ME\", \"MO\", \"NC\", \"AK\", \"AL\", \"Virgin Islands\", \"NH\", \"WA\", \"NE\", \"MT\", \"KS\", \"MD\", \"AZ\", \"CA\", \"LA\", \"MN\", \"CO\", \"IL\", \"Diamond Princess\", \"RI\", \"Guam\", \"VA\", \"PR\", \"DC\", \"NM\", \"TN\", \"OH\", \"VT\", \"NY\", \"SD\", \"ID\", \"GA\", \"Grand Princess\", \"IA\", \"OR\", \"OK\", \"HI\", \"FL\", \"NJ\", \"DE\", \"UT\", \"SC\", \"TX\", \"NV\", \"CT\", \"IN\", \"PA\"], \"name\": \"\", \"z\": [3.0, 26.0, 72.0, 22.0, 1.0, 65.0, 11.0, 218.0, 21.0, 32.0, 11.0, 64.0, 3.0, 39.0, 2.0, 26.0, 1076.0, 21.0, 9.0, 18.0, 60.0, 20.0, 698.0, 196.0, 60.0, 160.0, 161.0, 47.0, 23.0, 3.0, 67.0, 5.0, 22.0, 23.0, 74.0, 67.0, 12.0, 1706.0, 11.0, 8.0, 146.0, 21.0, 23.0, 66.0, 19.0, 10.0, 216.0, 267.0, 16.0, 51.0, 47.0, 110.0, 56.0, 68.0, 30.0, 112.0], \"type\": \"choropleth\"}], \"name\": \"03-17-2020\"}, {\"data\": [{\"coloraxis\": \"coloraxis\", \"geo\": \"geo\", \"hovertemplate\": \"Date=03-18-2020<br>Code=%{location}<br>Confirmed=%{z}<extra></extra>\", \"locationmode\": \"USA-states\", \"locations\": [\"DC\", \"SC\", \"NV\", \"MO\", \"WA\", \"AR\", \"WY\", \"MD\", \"RI\", \"KY\", \"Grand Princess\", \"IN\", \"TX\", \"HI\", \"AL\", \"DE\", \"WI\", \"US\", \"WV\", \"MT\", \"PA\", \"OK\", \"IA\", \"Guam\", \"UT\", \"MA\", \"NC\", \"PR\", \"LA\", \"OH\", \"United States Virgin Islands\", \"MS\", \"NY\", \"ID\", \"ND\", \"NE\", \"OR\", \"AZ\", \"CA\", \"GA\", \"TN\", \"ME\", \"VA\", \"MN\", \"KS\", \"NM\", \"Diamond Princess\", \"NH\", \"VT\", \"IL\", \"CO\", \"Virgin Islands\", \"FL\", \"CT\", \"MI\", \"SD\", \"AK\", \"NJ\"], \"name\": \"\", \"z\": [31.0, 47.0, 55.0, 18.0, 1014.0, 33.0, 15.0, 85.0, 33.0, 27.0, 21.0, 39.0, 173.0, 14.0, 46.0, 19.0, 92.0, 1.0, 1.0, 11.0, 152.0, 19.0, 29.0, 5.0, 51.0, 218.0, 70.0, 5.0, 257.0, 86.0, 2.0, 34.0, 2495.0, 9.0, 6.0, 24.0, 68.0, 27.0, 751.0, 199.0, 79.0, 42.0, 77.0, 77.0, 18.0, 23.0, 47.0, 26.0, 18.0, 162.0, 184.0, 2.0, 314.0, 68.0, 83.0, 11.0, 6.0, 267.0], \"type\": \"choropleth\"}], \"name\": \"03-18-2020\"}, {\"data\": [{\"coloraxis\": \"coloraxis\", \"geo\": \"geo\", \"hovertemplate\": \"Date=03-19-2020<br>Code=%{location}<br>Confirmed=%{z}<extra></extra>\", \"locationmode\": \"USA-states\", \"locations\": [\"NE\", \"PR\", \"SD\", \"LA\", \"HI\", \"IL\", \"Virgin Islands\", \"OH\", \"UT\", \"FL\", \"NC\", \"CA\", \"WI\", \"NM\", \"IA\", \"ME\", \"US\", \"OK\", \"Guam\", \"TN\", \"PA\", \"NH\", \"MI\", \"MT\", \"MA\", \"DE\", \"TX\", \"NY\", \"MD\", \"United States Virgin Islands\", \"IN\", \"AK\", \"WA\", \"SC\", \"CT\", \"NV\", \"RI\", \"AZ\", \"KY\", \"MN\", \"WY\", \"VA\", \"MS\", \"DC\", \"GA\", \"CO\", \"NJ\", \"Diamond Princess\", \"ID\", \"KS\", \"ND\", \"AL\", \"WV\", \"VT\", \"AR\", \"OR\", \"MO\", \"Grand Princess\"], \"name\": \"\", \"z\": [29.0, 5.0, 11.0, 392.0, 16.0, 422.0, 3.0, 119.0, 80.0, 417.0, 123.0, 952.0, 159.0, 35.0, 44.0, 52.0, 1.0, 44.0, 12.0, 154.0, 206.0, 44.0, 334.0, 11.0, 328.0, 30.0, 260.0, 5365.0, 107.0, 2.0, 60.0, 9.0, 1376.0, 81.0, 159.0, 95.0, 44.0, 45.0, 37.0, 89.0, 18.0, 99.0, 50.0, 40.0, 287.0, 277.0, 742.0, 47.0, 11.0, 34.0, 18.0, 78.0, 2.0, 22.0, 62.0, 88.0, 31.0, 22.0], \"type\": \"choropleth\"}], \"name\": \"03-19-2020\"}, {\"data\": [{\"coloraxis\": \"coloraxis\", \"geo\": \"geo\", \"hovertemplate\": \"Date=03-20-2020<br>Code=%{location}<br>Confirmed=%{z}<extra></extra>\", \"locationmode\": \"USA-states\", \"locations\": [\"FL\", \"DE\", \"OR\", \"MD\", \"Guam\", \"SC\", \"AK\", \"MN\", \"GA\", \"MO\", \"Grand Princess\", \"Diamond Princess\", \"WV\", \"TX\", \"PR\", \"SD\", \"MA\", \"TN\", \"PA\", \"ME\", \"MI\", \"MS\", \"WY\", \"MT\", \"RI\", \"OH\", \"NC\", \"VT\", \"LA\", \"VA\", \"AZ\", \"CT\", \"NY\", \"CO\", \"ID\", \"NE\", \"United States Virgin Islands\", \"WA\", \"AR\", \"UT\", \"DC\", \"NV\", \"KY\", \"ND\", \"IL\", \"KS\", \"AL\", \"NH\", \"US\", \"NM\", \"CA\", \"HI\", \"WI\", \"IA\", \"IN\", \"OK\", \"NJ\"], \"name\": \"\", \"z\": [563.0, 38.0, 114.0, 149.0, 14.0, 126.0, 12.0, 115.0, 420.0, 53.0, 23.0, 49.0, 7.0, 394.0, 14.0, 14.0, 413.0, 233.0, 303.0, 56.0, 552.0, 80.0, 19.0, 15.0, 54.0, 173.0, 172.0, 29.0, 538.0, 122.0, 78.0, 194.0, 8310.0, 363.0, 23.0, 37.0, 3.0, 1524.0, 96.0, 78.0, 71.0, 114.0, 47.0, 19.0, 585.0, 44.0, 83.0, 44.0, 1.0, 43.0, 1177.0, 26.0, 207.0, 45.0, 86.0, 49.0, 890.0], \"type\": \"choropleth\"}], \"name\": \"03-20-2020\"}, {\"data\": [{\"coloraxis\": \"coloraxis\", \"geo\": \"geo\", \"hovertemplate\": \"Date=03-21-2020<br>Code=%{location}<br>Confirmed=%{z}<extra></extra>\", \"locationmode\": \"USA-states\", \"locations\": [\"RI\", \"FL\", \"UT\", \"SC\", \"CA\", \"NH\", \"IN\", \"NV\", \"MD\", \"NE\", \"MI\", \"IL\", \"SD\", \"CO\", \"Diamond Princess\", \"VT\", \"TN\", \"AK\", \"GA\", \"NM\", \"VA\", \"AZ\", \"NJ\", \"MN\", \"ME\", \"CT\", \"KS\", \"United States Virgin Islands\", \"AL\", \"KY\", \"PR\", \"MA\", \"LA\", \"WY\", \"PA\", \"TX\", \"DE\", \"MS\", \"IA\", \"Guam\", \"MT\", \"WV\", \"US\", \"HI\", \"WI\", \"OR\", \"OK\", \"NY\", \"OH\", \"NC\", \"ND\", \"Grand Princess\", \"MO\", \"WA\", \"ID\", \"DC\", \"AR\"], \"name\": \"\", \"z\": [66.0, 659.0, 136.0, 171.0, 1364.0, 55.0, 128.0, 161.0, 193.0, 38.0, 788.0, 753.0, 14.0, 390.0, 49.0, 29.0, 371.0, 15.0, 507.0, 43.0, 156.0, 118.0, 1327.0, 138.0, 70.0, 194.0, 57.0, 6.0, 131.0, 87.0, 21.0, 525.0, 585.0, 23.0, 396.0, 581.0, 45.0, 140.0, 68.0, 15.0, 21.0, 8.0, 1.0, 37.0, 282.0, 114.0, 53.0, 11710.0, 248.0, 253.0, 28.0, 23.0, 74.0, 1793.0, 36.0, 98.0, 122.0], \"type\": \"choropleth\"}], \"name\": \"03-21-2020\"}, {\"data\": [{\"coloraxis\": \"coloraxis\", \"geo\": \"geo\", \"hovertemplate\": \"Date=03-22-2020<br>Code=%{location}<br>Confirmed=%{z}<extra></extra>\", \"locationmode\": \"USA-states\", \"locations\": [\"MT\", \"NJ\", \"WV\", \"OK\", \"WA\", \"RI\", \"NH\", \"WI\", \"Virgin Islands\", \"OR\", \"NV\", \"UT\", \"NM\", \"ND\", \"SD\", \"MS\", \"PR\", \"NC\", \"NY\", \"VA\", \"Northern Mariana Islands\", \"NE\", \"SC\", \"VT\", \"PA\", \"TN\", \"OH\", \"MI\", \"TX\", \"MN\", \"MO\", \"WY\", \"Wuhan Evacuee\", \"DE\", \"KS\", \"AL\", \"ME\", \"Grand Princess\", \"MA\", \"Diamond Princess\", \"IN\", \"CO\", \"KY\", \"Guam\", \"LA\", \"GA\", \"DC\", \"FL\", \"CA\", \"AK\", \"AR\", \"IA\", \"IL\", \"American Samoa\", \"ID\", \"AZ\", \"MD\", \"HI\", \"CT\"], \"name\": \"\", \"z\": [34.0, 1914.0, 16.0, 67.0, 1997.0, 83.0, 74.0, 381.0, 6.0, 161.0, 190.0, 162.0, 57.0, 28.0, 21.0, 207.0, 23.0, 305.0, 15800.0, 220.0, 0.0, 51.0, 196.0, 52.0, 509.0, 505.0, 356.0, 1035.0, 643.0, 167.0, 87.0, 26.0, 4.0, 56.0, 65.0, 157.0, 89.0, 30.0, 646.0, 49.0, 204.0, 591.0, 103.0, 27.0, 837.0, 621.0, 204.0, 1004.0, 1646.0, 20.0, 165.0, 90.0, 1049.0, 0.0, 42.0, 152.0, 244.0, 53.0, 327.0], \"type\": \"choropleth\"}], \"name\": \"03-22-2020\"}, {\"data\": [{\"coloraxis\": \"coloraxis\", \"geo\": \"geo\", \"hovertemplate\": \"Date=03-23-2020<br>Code=%{location}<br>Confirmed=%{z}<extra></extra>\", \"locationmode\": \"USA-states\", \"locations\": [\"LA\", \"DC\", \"NC\", \"UT\", \"Diamond Princess\", \"VA\", \"MT\", \"CO\", \"VT\", \"Virgin Islands\", \"MS\", \"CA\", \"American Samoa\", \"MO\", \"AZ\", \"CT\", \"MA\", \"FL\", \"TX\", \"ID\", \"Northern Mariana Islands\", \"NV\", \"IA\", \"OH\", \"IL\", \"OK\", \"NM\", \"HI\", \"OR\", \"Guam\", \"NJ\", \"PA\", \"PR\", \"IN\", \"Grand Princess\", \"RI\", \"NH\", \"KS\", \"SC\", \"GA\", \"SD\", \"NE\", \"KY\", \"MD\", \"TN\", \"ND\", \"DE\", \"WA\", \"NY\", \"MI\", \"AR\", \"AL\", \"ME\", \"MN\", \"WI\", \"WY\", \"WV\", \"AK\"], \"name\": \"\", \"z\": [1172.0, 120.0, 353.0, 257.0, 49.0, 254.0, 34.0, 704.0, 75.0, 7.0, 249.0, 2108.0, 0.0, 187.0, 235.0, 415.0, 777.0, 1227.0, 758.0, 68.0, 0.0, 245.0, 105.0, 443.0, 1285.0, 81.0, 83.0, 56.0, 191.0, 29.0, 2844.0, 698.0, 31.0, 270.0, 28.0, 106.0, 101.0, 84.0, 298.0, 772.0, 28.0, 51.0, 123.0, 290.0, 614.0, 30.0, 68.0, 2221.0, 20884.0, 1329.0, 192.0, 196.0, 107.0, 234.0, 425.0, 26.0, 16.0, 30.0], \"type\": \"choropleth\"}], \"name\": \"03-23-2020\"}, {\"data\": [{\"coloraxis\": \"coloraxis\", \"geo\": \"geo\", \"hovertemplate\": \"Date=03-24-2020<br>Code=%{location}<br>Confirmed=%{z}<extra></extra>\", \"locationmode\": \"USA-states\", \"locations\": [\"KY\", \"NE\", \"SD\", \"SC\", \"GA\", \"CA\", \"MI\", \"Recovered\", \"RI\", \"NH\", \"ME\", \"Grand Princess\", \"American Samoa\", \"KS\", \"MS\", \"TN\", \"ND\", \"VA\", \"WI\", \"CT\", \"AL\", \"MA\", \"UT\", \"LA\", \"FL\", \"CO\", \"VT\", \"DC\", \"WV\", \"DE\", \"TX\", \"Virgin Islands\", \"Diamond Princess\", \"NC\", \"IN\", \"MT\", \"HI\", \"OK\", \"OH\", \"NM\", \"MD\", \"IL\", \"IA\", \"MN\", \"NV\", \"AZ\", \"WA\", \"Northern Mariana Islands\", \"AK\", \"NY\", \"WY\", \"ID\", \"PR\", \"MO\", \"Guam\", \"PA\", \"AR\", \"OR\", \"NJ\"], \"name\": \"\", \"z\": [162.0, 66.0, 30.0, 342.0, 1026.0, 2538.0, 1793.0, 0.0, 124.0, 101.0, 118.0, 28.0, 0.0, 100.0, 320.0, 772.0, 36.0, 293.0, 481.0, 618.0, 242.0, 1159.0, 298.0, 1388.0, 1412.0, 723.0, 95.0, 141.0, 22.0, 104.0, 955.0, 17.0, 49.0, 495.0, 368.0, 51.0, 90.0, 106.0, 567.0, 100.0, 349.0, 1537.0, 124.0, 261.0, 278.0, 326.0, 2328.0, 0.0, 34.0, 25681.0, 29.0, 81.0, 39.0, 257.0, 32.0, 946.0, 219.0, 210.0, 3675.0], \"type\": \"choropleth\"}], \"name\": \"03-24-2020\"}, {\"data\": [{\"coloraxis\": \"coloraxis\", \"geo\": \"geo\", \"hovertemplate\": \"Date=03-25-2020<br>Code=%{location}<br>Confirmed=%{z}<extra></extra>\", \"locationmode\": \"USA-states\", \"locations\": [\"WV\", \"WY\", \"DC\", \"OH\", \"MT\", \"VA\", \"UT\", \"IA\", \"WI\", \"NV\", \"LA\", \"Northern Mariana Islands\", \"ID\", \"NY\", \"CT\", \"NC\", \"PR\", \"Diamond Princess\", \"TX\", \"IN\", \"Grand Princess\", \"NJ\", \"NH\", \"Guam\", \"RI\", \"OR\", \"Recovered\", \"AK\", \"KS\", \"GA\", \"MI\", \"HI\", \"SC\", \"SD\", \"NE\", \"IL\", \"KY\", \"TN\", \"ME\", \"ND\", \"NM\", \"OK\", \"DE\", \"FL\", \"PA\", \"WA\", \"VT\", \"AL\", \"MN\", \"MD\", \"CO\", \"MS\", \"MO\", \"MA\", \"American Samoa\", \"Virgin Islands\", \"CA\", \"AZ\", \"AR\"], \"name\": \"\", \"z\": [39.0, 44.0, 187.0, 704.0, 65.0, 396.0, 340.0, 146.0, 621.0, 323.0, 1795.0, 0.0, 91.0, 30841.0, 875.0, 590.0, 51.0, 49.0, 1229.0, 477.0, 28.0, 4402.0, 108.0, 37.0, 132.0, 266.0, 0.0, 41.0, 134.0, 1247.0, 2296.0, 91.0, 424.0, 41.0, 71.0, 1865.0, 197.0, 916.0, 142.0, 45.0, 113.0, 164.0, 119.0, 1682.0, 1260.0, 2591.0, 125.0, 381.0, 286.0, 425.0, 1021.0, 377.0, 354.0, 1838.0, 0.0, 17.0, 2998.0, 401.0, 280.0], \"type\": \"choropleth\"}], \"name\": \"03-25-2020\"}, {\"data\": [{\"coloraxis\": \"coloraxis\", \"geo\": \"geo\", \"hovertemplate\": \"Date=03-26-2020<br>Code=%{location}<br>Confirmed=%{z}<extra></extra>\", \"locationmode\": \"USA-states\", \"locations\": [\"CA\", \"DE\", \"MO\", \"MI\", \"Guam\", \"TN\", \"SD\", \"OR\", \"NE\", \"AK\", \"MS\", \"FL\", \"DC\", \"VT\", \"NJ\", \"Diamond Princess\", \"PA\", \"ME\", \"RI\", \"Recovered\", \"NH\", \"ND\", \"Virgin Islands\", \"KS\", \"SC\", \"American Samoa\", \"WV\", \"AZ\", \"TX\", \"PR\", \"IN\", \"GA\", \"Grand Princess\", \"MT\", \"KY\", \"CO\", \"IA\", \"CT\", \"OH\", \"WY\", \"Northern Mariana Islands\", \"WA\", \"VA\", \"OK\", \"NY\", \"UT\", \"NV\", \"HI\", \"WI\", \"NC\", \"IL\", \"NM\", \"AL\", \"LA\", \"ID\", \"AR\", \"MA\", \"MD\", \"MN\"], \"name\": \"\", \"z\": [3899.0, 130.0, 520.0, 2845.0, 45.0, 1097.0, 46.0, 316.0, 74.0, 56.0, 485.0, 2357.0, 231.0, 158.0, 6876.0, 49.0, 1795.0, 155.0, 165.0, 0.0, 137.0, 51.0, 17.0, 172.0, 424.0, 0.0, 52.0, 508.0, 1563.0, 64.0, 645.0, 1525.0, 28.0, 90.0, 247.0, 1430.0, 179.0, 1012.0, 868.0, 53.0, 0.0, 3207.0, 466.0, 248.0, 37877.0, 396.0, 420.0, 95.0, 728.0, 738.0, 2538.0, 113.0, 517.0, 2304.0, 146.0, 335.0, 2417.0, 583.0, 344.0], \"type\": \"choropleth\"}], \"name\": \"03-26-2020\"}, {\"data\": [{\"coloraxis\": \"coloraxis\", \"geo\": \"geo\", \"hovertemplate\": \"Date=03-27-2020<br>Code=%{location}<br>Confirmed=%{z}<extra></extra>\", \"locationmode\": \"USA-states\", \"locations\": [\"ID\", \"CA\", \"NV\", \"Northern Mariana Islands\", \"KS\", \"GA\", \"Virgin Islands\", \"NY\", \"FL\", \"MA\", \"MI\", \"AR\", \"SD\", \"NE\", \"SC\", \"AZ\", \"American Samoa\", \"IA\", \"Guam\", \"MD\", \"AK\", \"NJ\", \"NM\", \"MO\", \"HI\", \"PA\", \"ME\", \"OK\", \"IN\", \"MN\", \"PR\", \"Grand Princess\", \"WA\", \"OH\", \"IL\", \"NH\", \"WY\", \"RI\", \"OR\", \"Recovered\", \"CO\", \"MS\", \"LA\", \"DE\", \"WI\", \"AL\", \"NC\", \"KY\", \"Diamond Princess\", \"VT\", \"VA\", \"TN\", \"CT\", \"DC\", \"ND\", \"WV\", \"TX\", \"UT\", \"MT\"], \"name\": \"\", \"z\": [205.0, 4657.0, 536.0, 0.0, 206.0, 2000.0, 19.0, 44876.0, 2900.0, 3240.0, 3634.0, 381.0, 58.0, 82.0, 542.0, 665.0, 0.0, 235.0, 51.0, 775.0, 58.0, 8825.0, 136.0, 666.0, 106.0, 2345.0, 168.0, 322.0, 979.0, 396.0, 79.0, 28.0, 3477.0, 1137.0, 3024.0, 158.0, 70.0, 203.0, 416.0, 0.0, 1433.0, 579.0, 2744.0, 163.0, 926.0, 587.0, 887.0, 301.0, 49.0, 184.0, 607.0, 1318.0, 1291.0, 271.0, 68.0, 76.0, 1937.0, 472.0, 109.0], \"type\": \"choropleth\"}], \"name\": \"03-27-2020\"}, {\"data\": [{\"coloraxis\": \"coloraxis\", \"geo\": \"geo\", \"hovertemplate\": \"Date=03-28-2020<br>Code=%{location}<br>Confirmed=%{z}<extra></extra>\", \"locationmode\": \"USA-states\", \"locations\": [\"CA\", \"PA\", \"OK\", \"Guam\", \"UT\", \"NM\", \"VT\", \"HI\", \"WI\", \"Diamond Princess\", \"LA\", \"KS\", \"RI\", \"ND\", \"IL\", \"Grand Princess\", \"NC\", \"AL\", \"AZ\", \"NH\", \"WV\", \"DC\", \"AK\", \"Recovered\", \"MD\", \"American Samoa\", \"SD\", \"KY\", \"ME\", \"VA\", \"MA\", \"NY\", \"NE\", \"AR\", \"MO\", \"Northern Mariana Islands\", \"DE\", \"MN\", \"PR\", \"NV\", \"NJ\", \"ID\", \"TX\", \"MT\", \"MS\", \"IN\", \"IA\", \"CO\", \"SC\", \"TN\", \"WY\", \"Virgin Islands\", \"WA\", \"CT\", \"OR\", \"GA\", \"OH\", \"MI\", \"FL\"], \"name\": \"\", \"z\": [5095.0, 2845.0, 377.0, 55.0, 602.0, 208.0, 211.0, 149.0, 1055.0, 49.0, 3315.0, 266.0, 239.0, 94.0, 3491.0, 103.0, 1020.0, 694.0, 773.0, 187.0, 96.0, 304.0, 85.0, 0.0, 995.0, 0.0, 68.0, 380.0, 211.0, 740.0, 4257.0, 52410.0, 96.0, 409.0, 836.0, 0.0, 214.0, 441.0, 100.0, 626.0, 11124.0, 234.0, 2455.0, 129.0, 663.0, 1233.0, 298.0, 1740.0, 660.0, 1511.0, 82.0, 22.0, 4030.0, 1524.0, 479.0, 2366.0, 1406.0, 4650.0, 3763.0], \"type\": \"choropleth\"}], \"name\": \"03-28-2020\"}, {\"data\": [{\"coloraxis\": \"coloraxis\", \"geo\": \"geo\", \"hovertemplate\": \"Date=03-29-2020<br>Code=%{location}<br>Confirmed=%{z}<extra></extra>\", \"locationmode\": \"USA-states\", \"locations\": [\"VT\", \"MO\", \"OR\", \"Guam\", \"DE\", \"NJ\", \"AL\", \"MD\", \"MT\", \"ID\", \"VA\", \"NY\", \"AR\", \"Northern Mariana Islands\", \"NV\", \"CO\", \"WY\", \"IA\", \"DC\", \"WA\", \"OH\", \"UT\", \"OK\", \"HI\", \"NM\", \"LA\", \"WI\", \"IL\", \"NC\", \"AZ\", \"CT\", \"PA\", \"ME\", \"MN\", \"American Samoa\", \"NH\", \"AK\", \"IN\", \"ND\", \"MI\", \"RI\", \"SD\", \"WV\", \"Recovered\", \"Diamond Princess\", \"KS\", \"NE\", \"GA\", \"Virgin Islands\", \"TN\", \"SC\", \"MA\", \"CA\", \"Grand Princess\", \"MS\", \"PR\", \"KY\", \"FL\", \"TX\"], \"name\": \"\", \"z\": [235.0, 915.0, 548.0, 56.0, 232.0, 13386.0, 825.0, 1239.0, 154.0, 281.0, 890.0, 59648.0, 426.0, 0.0, 920.0, 2307.0, 86.0, 336.0, 342.0, 4465.0, 1653.0, 720.0, 429.0, 149.0, 237.0, 3540.0, 1164.0, 4596.0, 1191.0, 919.0, 1993.0, 3432.0, 253.0, 503.0, 0.0, 214.0, 102.0, 1513.0, 98.0, 5488.0, 294.0, 90.0, 113.0, 0.0, 49.0, 330.0, 108.0, 2651.0, 23.0, 1720.0, 774.0, 4955.0, 5852.0, 103.0, 759.0, 127.0, 438.0, 4246.0, 2792.0], \"type\": \"choropleth\"}], \"name\": \"03-29-2020\"}, {\"data\": [{\"coloraxis\": \"coloraxis\", \"geo\": \"geo\", \"hovertemplate\": \"Date=03-30-2020<br>Code=%{location}<br>Confirmed=%{z}<extra></extra>\", \"locationmode\": \"USA-states\", \"locations\": [\"Diamond Princess\", \"MD\", \"KS\", \"PA\", \"GA\", \"UT\", \"WY\", \"AK\", \"CA\", \"NE\", \"CT\", \"OH\", \"TX\", \"MN\", \"ID\", \"Virgin Islands\", \"AZ\", \"TN\", \"WA\", \"SD\", \"MO\", \"SC\", \"Northern Mariana Islands\", \"IA\", \"MA\", \"AR\", \"DE\", \"CO\", \"WV\", \"OK\", \"Guam\", \"NV\", \"HI\", \"American Samoa\", \"DC\", \"NC\", \"PR\", \"IL\", \"IN\", \"AL\", \"NY\", \"FL\", \"Grand Princess\", \"ND\", \"MS\", \"ME\", \"NJ\", \"RI\", \"KY\", \"MI\", \"VA\", \"Recovered\", \"NM\", \"LA\", \"OR\", \"MT\", \"VT\", \"WI\", \"NH\"], \"name\": \"\", \"z\": [49.0, 1413.0, 372.0, 4155.0, 2808.0, 798.0, 94.0, 114.0, 7138.0, 145.0, 2571.0, 1933.0, 3147.0, 576.0, 340.0, 30.0, 1157.0, 1917.0, 4923.0, 101.0, 1051.0, 925.0, 0.0, 424.0, 5752.0, 473.0, 264.0, 2311.0, 145.0, 481.0, 58.0, 1012.0, 175.0, 0.0, 401.0, 1313.0, 174.0, 5056.0, 1786.0, 899.0, 66663.0, 5473.0, 103.0, 109.0, 847.0, 275.0, 16636.0, 408.0, 479.0, 6498.0, 1020.0, 0.0, 237.0, 4025.0, 606.0, 171.0, 256.0, 1230.0, 314.0], \"type\": \"choropleth\"}], \"name\": \"03-30-2020\"}, {\"data\": [{\"coloraxis\": \"coloraxis\", \"geo\": \"geo\", \"hovertemplate\": \"Date=03-31-2020<br>Code=%{location}<br>Confirmed=%{z}<extra></extra>\", \"locationmode\": \"USA-states\", \"locations\": [\"Northern Mariana Islands\", \"SD\", \"FL\", \"CO\", \"VA\", \"AK\", \"WV\", \"WY\", \"NY\", \"PA\", \"AR\", \"DE\", \"TX\", \"AZ\", \"VT\", \"PR\", \"DC\", \"Grand Princess\", \"Guam\", \"OR\", \"AL\", \"WI\", \"IA\", \"RI\", \"GA\", \"HI\", \"OK\", \"UT\", \"OH\", \"CT\", \"Diamond Princess\", \"TN\", \"Virgin Islands\", \"WA\", \"SC\", \"Recovered\", \"CA\", \"MS\", \"NM\", \"MD\", \"IN\", \"NE\", \"IL\", \"MT\", \"NV\", \"MO\", \"KY\", \"MN\", \"KS\", \"MA\", \"MI\", \"ND\", \"ME\", \"NJ\", \"NH\", \"LA\", \"ID\", \"NC\"], \"name\": \"\", \"z\": [2.0, 108.0, 6741.0, 2966.0, 1249.0, 119.0, 162.0, 109.0, 75833.0, 4963.0, 523.0, 319.0, 3809.0, 1289.0, 293.0, 239.0, 495.0, 103.0, 69.0, 690.0, 987.0, 1412.0, 497.0, 488.0, 3929.0, 204.0, 568.0, 888.0, 2199.0, 3128.0, 49.0, 2391.0, 30.0, 5432.0, 1083.0, 0.0, 8210.0, 937.0, 315.0, 1660.0, 2158.0, 172.0, 5994.0, 198.0, 1114.0, 1357.0, 628.0, 629.0, 434.0, 6620.0, 7615.0, 122.0, 303.0, 18696.0, 357.0, 5237.0, 515.0, 1535.0], \"type\": \"choropleth\"}], \"name\": \"03-31-2020\"}, {\"data\": [{\"coloraxis\": \"coloraxis\", \"geo\": \"geo\", \"hovertemplate\": \"Date=04-01-2020<br>Code=%{location}<br>Confirmed=%{z}<extra></extra>\", \"locationmode\": \"USA-states\", \"locations\": [\"Virgin Islands\", \"MS\", \"KS\", \"IA\", \"MA\", \"ID\", \"GA\", \"DE\", \"SC\", \"CA\", \"HI\", \"NM\", \"VT\", \"DC\", \"ND\", \"Diamond Princess\", \"NC\", \"LA\", \"UT\", \"TN\", \"KY\", \"FL\", \"OH\", \"CT\", \"OK\", \"MT\", \"VA\", \"CO\", \"NE\", \"SD\", \"TX\", \"Grand Princess\", \"NY\", \"PR\", \"PA\", \"WI\", \"IL\", \"AL\", \"NJ\", \"NH\", \"MD\", \"MN\", \"AK\", \"WV\", \"AR\", \"MI\", \"ME\", \"Guam\", \"Northern Mariana Islands\", \"NV\", \"IN\", \"Recovered\", \"OR\", \"MO\", \"WA\", \"WY\", \"RI\", \"AZ\"], \"name\": \"\", \"z\": [30.0, 1073.0, 485.0, 547.0, 7738.0, 566.0, 4638.0, 368.0, 1293.0, 9399.0, 224.0, 340.0, 321.0, 586.0, 142.0, 49.0, 1675.0, 6424.0, 888.0, 2933.0, 632.0, 6956.0, 2547.0, 3557.0, 721.0, 208.0, 1483.0, 2982.0, 210.0, 129.0, 4355.0, 103.0, 83948.0, 286.0, 6009.0, 1556.0, 6980.0, 1060.0, 22255.0, 367.0, 1986.0, 689.0, 132.0, 191.0, 584.0, 9315.0, 303.0, 77.0, 6.0, 1279.0, 2564.0, 0.0, 736.0, 1613.0, 5608.0, 130.0, 566.0, 1530.0], \"type\": \"choropleth\"}], \"name\": \"04-01-2020\"}, {\"data\": [{\"coloraxis\": \"coloraxis\", \"geo\": \"geo\", \"hovertemplate\": \"Date=04-02-2020<br>Code=%{location}<br>Confirmed=%{z}<extra></extra>\", \"locationmode\": \"USA-states\", \"locations\": [\"ME\", \"NJ\", \"HI\", \"TN\", \"KY\", \"DE\", \"Diamond Princess\", \"IL\", \"PA\", \"NM\", \"GA\", \"Recovered\", \"RI\", \"KS\", \"IN\", \"OR\", \"SC\", \"NH\", \"SD\", \"OK\", \"Grand Princess\", \"PR\", \"FL\", \"NE\", \"ND\", \"LA\", \"CO\", \"NV\", \"VT\", \"MD\", \"AL\", \"ID\", \"IA\", \"MS\", \"WI\", \"MA\", \"Virgin Islands\", \"TX\", \"AR\", \"CA\", \"MO\", \"AZ\", \"Northern Mariana Islands\", \"MN\", \"VA\", \"WA\", \"NY\", \"Guam\", \"MT\", \"WV\", \"OH\", \"CT\", \"MI\", \"WY\", \"NC\", \"DC\", \"UT\", \"AK\"], \"name\": \"\", \"z\": [376.0, 25590.0, 256.0, 3013.0, 770.0, 393.0, 49.0, 7695.0, 7268.0, 388.0, 5348.0, 0.0, 645.0, 553.0, 3038.0, 826.0, 1554.0, 316.0, 165.0, 881.0, 103.0, 316.0, 9008.0, 246.0, 159.0, 9149.0, 3342.0, 1463.0, 338.0, 2331.0, 1233.0, 776.0, 614.0, 1177.0, 1748.0, 8966.0, 30.0, 5069.0, 643.0, 10773.0, 1857.0, 1715.0, 6.0, 742.0, 1706.0, 6389.0, 92506.0, 82.0, 241.0, 216.0, 2901.0, 3824.0, 10791.0, 150.0, 1977.0, 653.0, 1092.0, 143.0], \"type\": \"choropleth\"}], \"name\": \"04-02-2020\"}, {\"data\": [{\"coloraxis\": \"coloraxis\", \"geo\": \"geo\", \"hovertemplate\": \"Date=04-03-2020<br>Code=%{location}<br>Confirmed=%{z}<extra></extra>\", \"locationmode\": \"USA-states\", \"locations\": [\"AR\", \"NJ\", \"WA\", \"WY\", \"IN\", \"AK\", \"WV\", \"AL\", \"MI\", \"NH\", \"WI\", \"MD\", \"Grand Princess\", \"PR\", \"PA\", \"MN\", \"TX\", \"GA\", \"Recovered\", \"DE\", \"KY\", \"DC\", \"NC\", \"ND\", \"LA\", \"Diamond Princess\", \"TN\", \"UT\", \"CT\", \"MT\", \"FL\", \"SD\", \"VA\", \"CO\", \"VT\", \"NE\", \"SC\", \"MS\", \"KS\", \"MA\", \"Virgin Islands\", \"CA\", \"MO\", \"AZ\", \"RI\", \"Guam\", \"ME\", \"NM\", \"OK\", \"Northern Mariana Islands\", \"NV\", \"OH\", \"ID\", \"IL\", \"OR\", \"HI\", \"NY\", \"IA\"], \"name\": \"\", \"z\": [704.0, 29895.0, 6846.0, 162.0, 3437.0, 157.0, 237.0, 1495.0, 12744.0, 479.0, 2012.0, 2758.0, 103.0, 316.0, 8570.0, 788.0, 5734.0, 5831.0, 0.0, 450.0, 770.0, 757.0, 2251.0, 173.0, 10297.0, 49.0, 3067.0, 1255.0, 4914.0, 243.0, 10268.0, 187.0, 2012.0, 3742.0, 389.0, 279.0, 1700.0, 1358.0, 629.0, 10402.0, 37.0, 12004.0, 1864.0, 1937.0, 711.0, 84.0, 432.0, 534.0, 990.0, 8.0, 1514.0, 3312.0, 891.0, 8904.0, 899.0, 319.0, 102987.0, 699.0], \"type\": \"choropleth\"}], \"name\": \"04-03-2020\"}, {\"data\": [{\"coloraxis\": \"coloraxis\", \"geo\": \"geo\", \"hovertemplate\": \"Date=04-04-2020<br>Code=%{location}<br>Confirmed=%{z}<extra></extra>\", \"locationmode\": \"USA-states\", \"locations\": [\"MA\", \"MO\", \"Diamond Princess\", \"UT\", \"ND\", \"ME\", \"GA\", \"MT\", \"RI\", \"DC\", \"NH\", \"WY\", \"IN\", \"MN\", \"FL\", \"NE\", \"PR\", \"KY\", \"SD\", \"NY\", \"WA\", \"CA\", \"NM\", \"Grand Princess\", \"WI\", \"AK\", \"OH\", \"CT\", \"KS\", \"HI\", \"Virgin Islands\", \"SC\", \"DE\", \"Northern Mariana Islands\", \"Guam\", \"NV\", \"Recovered\", \"MI\", \"NC\", \"NJ\", \"AR\", \"TN\", \"CO\", \"WV\", \"OR\", \"MS\", \"TX\", \"ID\", \"IL\", \"MD\", \"IA\", \"AZ\", \"OK\", \"VT\", \"VA\", \"LA\", \"PA\", \"AL\"], \"name\": \"\", \"z\": [11736.0, 2310.0, 49.0, 1435.0, 186.0, 456.0, 6160.0, 265.0, 806.0, 902.0, 540.0, 187.0, 3953.0, 865.0, 11537.0, 321.0, 452.0, 917.0, 212.0, 113833.0, 7247.0, 12837.0, 534.0, 103.0, 2030.0, 171.0, 3739.0, 5276.0, 698.0, 351.0, 40.0, 1917.0, 593.0, 8.0, 93.0, 1742.0, 0.0, 14225.0, 2486.0, 34124.0, 743.0, 3322.0, 4188.0, 282.0, 899.0, 1455.0, 6567.0, 1022.0, 10357.0, 3125.0, 787.0, 2187.0, 1161.0, 461.0, 2407.0, 12496.0, 10444.0, 1614.0], \"type\": \"choropleth\"}], \"name\": \"04-04-2020\"}, {\"data\": [{\"coloraxis\": \"coloraxis\", \"geo\": \"geo\", \"hovertemplate\": \"Date=04-05-2020<br>Code=%{location}<br>Confirmed=%{z}<extra></extra>\", \"locationmode\": \"USA-states\", \"locations\": [\"UT\", \"CT\", \"Recovered\", \"DC\", \"AK\", \"Guam\", \"RI\", \"Virgin Islands\", \"OH\", \"OK\", \"AZ\", \"SD\", \"GA\", \"AR\", \"FL\", \"WI\", \"IA\", \"MO\", \"IN\", \"WV\", \"MI\", \"NM\", \"LA\", \"NC\", \"WY\", \"MT\", \"OR\", \"Diamond Princess\", \"MA\", \"NH\", \"SC\", \"TN\", \"CO\", \"VA\", \"MS\", \"DE\", \"PA\", \"MD\", \"TX\", \"VT\", \"NJ\", \"MN\", \"Grand Princess\", \"IL\", \"HI\", \"KS\", \"WA\", \"NV\", \"CA\", \"ID\", \"ND\", \"PR\", \"KY\", \"NY\", \"NE\", \"ME\", \"AL\", \"Northern Mariana Islands\"], \"name\": \"\", \"z\": [1608.0, 5675.0, 0.0, 1002.0, 185.0, 112.0, 922.0, 42.0, 4043.0, 1254.0, 2486.0, 240.0, 6647.0, 837.0, 12350.0, 2320.0, 869.0, 2347.0, 4411.0, 324.0, 15718.0, 670.0, 13010.0, 2649.0, 197.0, 286.0, 1068.0, 49.0, 12500.0, 621.0, 2049.0, 3633.0, 4950.0, 2640.0, 1638.0, 673.0, 11589.0, 3617.0, 7209.0, 512.0, 37505.0, 935.0, 103.0, 11259.0, 371.0, 751.0, 7825.0, 1855.0, 15034.0, 1078.0, 207.0, 475.0, 955.0, 123160.0, 364.0, 470.0, 1765.0, 8.0], \"type\": \"choropleth\"}], \"name\": \"04-05-2020\"}, {\"data\": [{\"coloraxis\": \"coloraxis\", \"geo\": \"geo\", \"hovertemplate\": \"Date=04-06-2020<br>Code=%{location}<br>Confirmed=%{z}<extra></extra>\", \"locationmode\": \"USA-states\", \"locations\": [\"Virgin Islands\", \"AL\", \"AK\", \"TX\", \"FL\", \"SC\", \"DE\", \"GA\", \"NE\", \"MN\", \"AZ\", \"OK\", \"KS\", \"DC\", \"MI\", \"LA\", \"KY\", \"Recovered\", \"NV\", \"ME\", \"CO\", \"Grand Princess\", \"Northern Mariana Islands\", \"MT\", \"VT\", \"MA\", \"WY\", \"Diamond Princess\", \"PA\", \"VA\", \"ID\", \"IL\", \"OR\", \"NJ\", \"TN\", \"MS\", \"MD\", \"NC\", \"PR\", \"ND\", \"WA\", \"MO\", \"AR\", \"SD\", \"WV\", \"RI\", \"OH\", \"CA\", \"IN\", \"UT\", \"NM\", \"WI\", \"Guam\", \"CT\", \"HI\", \"IA\", \"NY\", \"NH\"], \"name\": \"\", \"z\": [43.0, 1952.0, 190.0, 8043.0, 13324.0, 2232.0, 783.0, 7314.0, 417.0, 986.0, 2732.0, 1329.0, 849.0, 1097.0, 17221.0, 14867.0, 955.0, 0.0, 1953.0, 499.0, 5183.0, 103.0, 8.0, 299.0, 543.0, 13837.0, 210.0, 49.0, 13127.0, 2878.0, 1101.0, 12262.0, 1068.0, 41090.0, 3802.0, 1738.0, 4045.0, 2962.0, 513.0, 225.0, 8311.0, 2736.0, 875.0, 288.0, 345.0, 1082.0, 4453.0, 16019.0, 4956.0, 1685.0, 757.0, 2449.0, 113.0, 6906.0, 387.0, 946.0, 131815.0, 715.0], \"type\": \"choropleth\"}], \"name\": \"04-06-2020\"}, {\"data\": [{\"coloraxis\": \"coloraxis\", \"geo\": \"geo\", \"hovertemplate\": \"Date=04-07-2020<br>Code=%{location}<br>Confirmed=%{z}<extra></extra>\", \"locationmode\": \"USA-states\", \"locations\": [\"OK\", \"DE\", \"TN\", \"SD\", \"NM\", \"NE\", \"ND\", \"WI\", \"FL\", \"Diamond Princess\", \"NY\", \"HI\", \"MO\", \"WY\", \"RI\", \"OH\", \"IN\", \"UT\", \"Guam\", \"PA\", \"KY\", \"MA\", \"Northern Mariana Islands\", \"LA\", \"CT\", \"NH\", \"IA\", \"WA\", \"Grand Princess\", \"ME\", \"CO\", \"PR\", \"MT\", \"NV\", \"CA\", \"VA\", \"VT\", \"OR\", \"SC\", \"NJ\", \"AZ\", \"MS\", \"MN\", \"AK\", \"WV\", \"IL\", \"ID\", \"DC\", \"GA\", \"MI\", \"NC\", \"Recovered\", \"MD\", \"AL\", \"AR\", \"Virgin Islands\", \"KS\", \"TX\"], \"name\": \"\", \"z\": [1474.0, 928.0, 4139.0, 320.0, 876.0, 447.0, 237.0, 2578.0, 14545.0, 49.0, 139875.0, 410.0, 3130.0, 216.0, 1229.0, 4782.0, 5510.0, 1746.0, 121.0, 14853.0, 1149.0, 15202.0, 8.0, 16284.0, 7781.0, 715.0, 1046.0, 8692.0, 103.0, 519.0, 5429.0, 573.0, 319.0, 2124.0, 17351.0, 3335.0, 575.0, 1132.0, 2417.0, 44416.0, 2870.0, 1915.0, 1069.0, 213.0, 412.0, 12271.0, 1170.0, 1211.0, 8822.0, 18970.0, 3299.0, 0.0, 4371.0, 2169.0, 946.0, 43.0, 912.0, 8925.0], \"type\": \"choropleth\"}], \"name\": \"04-07-2020\"}, {\"data\": [{\"coloraxis\": \"coloraxis\", \"geo\": \"geo\", \"hovertemplate\": \"Date=04-08-2020<br>Code=%{location}<br>Confirmed=%{z}<extra></extra>\", \"locationmode\": \"USA-states\", \"locations\": [\"CO\", \"Diamond Princess\", \"VA\", \"ID\", \"KY\", \"WA\", \"MT\", \"AL\", \"TX\", \"AZ\", \"NC\", \"DC\", \"DE\", \"AR\", \"OH\", \"NY\", \"LA\", \"UT\", \"CT\", \"HI\", \"NV\", \"VT\", \"MN\", \"MD\", \"MS\", \"SC\", \"MI\", \"WY\", \"IL\", \"GA\", \"NM\", \"WI\", \"KS\", \"IA\", \"SD\", \"MA\", \"CA\", \"OK\", \"AK\", \"NE\", \"FL\", \"PA\", \"PR\", \"NH\", \"OR\", \"NJ\", \"MO\", \"RI\", \"ME\", \"IN\", \"TN\", \"ND\", \"Guam\", \"Virgin Islands\", \"Recovered\", \"WV\", \"Grand Princess\", \"Northern Mariana Islands\"], \"name\": \"\", \"z\": [5655.0, 49.0, 3645.0, 1210.0, 1149.0, 9276.0, 332.0, 2328.0, 9777.0, 3036.0, 3499.0, 1440.0, 1116.0, 1000.0, 5148.0, 151061.0, 17030.0, 1855.0, 7781.0, 410.0, 2259.0, 605.0, 1154.0, 5529.0, 2003.0, 2417.0, 20346.0, 221.0, 15078.0, 9901.0, 902.0, 2710.0, 1046.0, 1145.0, 393.0, 16790.0, 18897.0, 1526.0, 226.0, 519.0, 15456.0, 16631.0, 620.0, 747.0, 1181.0, 47437.0, 3209.0, 1450.0, 537.0, 5943.0, 4363.0, 251.0, 121.0, 45.0, 0.0, 483.0, 103.0, 11.0], \"type\": \"choropleth\"}], \"name\": \"04-08-2020\"}, {\"data\": [{\"coloraxis\": \"coloraxis\", \"geo\": \"geo\", \"hovertemplate\": \"Date=04-09-2020<br>Code=%{location}<br>Confirmed=%{z}<extra></extra>\", \"locationmode\": \"USA-states\", \"locations\": [\"MT\", \"NC\", \"AL\", \"IA\", \"PR\", \"MN\", \"Northern Mariana Islands\", \"NH\", \"AZ\", \"ME\", \"CA\", \"RI\", \"Guam\", \"OH\", \"GA\", \"UT\", \"AR\", \"IN\", \"WA\", \"Recovered\", \"VT\", \"NV\", \"MI\", \"CT\", \"CO\", \"DC\", \"AK\", \"KS\", \"WV\", \"SC\", \"OK\", \"DE\", \"VA\", \"SD\", \"NY\", \"ND\", \"FL\", \"TX\", \"IL\", \"MS\", \"NM\", \"MA\", \"WY\", \"ID\", \"HI\", \"Diamond Princess\", \"PA\", \"LA\", \"Grand Princess\", \"Virgin Islands\", \"NE\", \"TN\", \"MD\", \"KY\", \"NJ\", \"MO\", \"OR\", \"WI\"], \"name\": \"\", \"z\": [354.0, 3736.0, 2703.0, 1270.0, 683.0, 1240.0, 11.0, 819.0, 3018.0, 560.0, 19710.0, 1727.0, 128.0, 5512.0, 10566.0, 1856.0, 1119.0, 6351.0, 9639.0, 0.0, 628.0, 2456.0, 21504.0, 9784.0, 5655.0, 1523.0, 235.0, 1116.0, 514.0, 2793.0, 1686.0, 1209.0, 4042.0, 447.0, 161779.0, 269.0, 16364.0, 11208.0, 15079.0, 2260.0, 865.0, 18941.0, 230.0, 1232.0, 442.0, 49.0, 18300.0, 18283.0, 103.0, 45.0, 568.0, 4634.0, 6185.0, 1341.0, 51027.0, 3432.0, 1321.0, 2886.0], \"type\": \"choropleth\"}], \"name\": \"04-09-2020\"}, {\"data\": [{\"coloraxis\": \"coloraxis\", \"geo\": \"geo\", \"hovertemplate\": \"Date=04-10-2020<br>Code=%{location}<br>Confirmed=%{z}<extra></extra>\", \"locationmode\": \"USA-states\", \"locations\": [\"VT\", \"OR\", \"Guam\", \"CA\", \"UT\", \"WA\", \"MS\", \"MO\", \"MA\", \"IL\", \"WY\", \"CO\", \"Grand Princess\", \"ME\", \"MN\", \"MT\", \"LA\", \"GA\", \"PR\", \"PA\", \"ID\", \"NH\", \"NJ\", \"VA\", \"CT\", \"IA\", \"AR\", \"NV\", \"NM\", \"HI\", \"DE\", \"OK\", \"SD\", \"FL\", \"NC\", \"NE\", \"TN\", \"AK\", \"KS\", \"AL\", \"DC\", \"Northern Mariana Islands\", \"MI\", \"NY\", \"AZ\", \"Recovered\", \"WI\", \"IN\", \"TX\", \"SC\", \"MD\", \"WV\", \"KY\", \"RI\", \"ND\", \"OH\", \"Diamond Princess\", \"Virgin Islands\"], \"name\": \"\", \"z\": [679.0, 1322.0, 130.0, 21081.0, 2103.0, 10119.0, 2469.0, 3897.0, 20974.0, 17887.0, 239.0, 6202.0, 103.0, 586.0, 1336.0, 365.0, 19253.0, 11485.0, 725.0, 20051.0, 1354.0, 819.0, 54588.0, 4509.0, 10538.0, 1388.0, 1171.0, 2722.0, 1081.0, 442.0, 1326.0, 1794.0, 536.0, 17531.0, 3965.0, 635.0, 4891.0, 246.0, 1117.0, 2947.0, 1660.0, 11.0, 22434.0, 172348.0, 3112.0, 0.0, 3068.0, 6907.0, 12105.0, 3067.0, 6968.0, 574.0, 1693.0, 1727.0, 278.0, 5878.0, 49.0, 50.0], \"type\": \"choropleth\"}], \"name\": \"04-10-2020\"}, {\"data\": [{\"coloraxis\": \"coloraxis\", \"geo\": \"geo\", \"hovertemplate\": \"Date=04-11-2020<br>Code=%{location}<br>Confirmed=%{z}<extra></extra>\", \"locationmode\": \"USA-states\", \"locations\": [\"PA\", \"FL\", \"ID\", \"WI\", \"HI\", \"SC\", \"SD\", \"DE\", \"VA\", \"IL\", \"KS\", \"MI\", \"Northern Mariana Islands\", \"NM\", \"MD\", \"LA\", \"MA\", \"ND\", \"Diamond Princess\", \"OR\", \"NJ\", \"Grand Princess\", \"TX\", \"KY\", \"GA\", \"Recovered\", \"CT\", \"NV\", \"IN\", \"WA\", \"WV\", \"TN\", \"UT\", \"AR\", \"OH\", \"CA\", \"RI\", \"Guam\", \"VT\", \"MN\", \"DC\", \"Virgin Islands\", \"AK\", \"IA\", \"WY\", \"CO\", \"MS\", \"NH\", \"NE\", \"AL\", \"ME\", \"NY\", \"MT\", \"OK\", \"PR\", \"NC\", \"AZ\", \"MO\"], \"name\": \"\", \"z\": [21719.0, 18494.0, 1396.0, 3213.0, 465.0, 3211.0, 626.0, 1479.0, 5077.0, 19180.0, 1275.0, 23605.0, 11.0, 1091.0, 7694.0, 20014.0, 22860.0, 293.0, 49.0, 1371.0, 58151.0, 103.0, 13023.0, 1693.0, 12159.0, 0.0, 11510.0, 2702.0, 7435.0, 10434.0, 577.0, 5132.0, 2207.0, 1228.0, 6250.0, 21706.0, 2349.0, 133.0, 711.0, 1427.0, 1778.0, 51.0, 257.0, 1510.0, 261.0, 6513.0, 2642.0, 885.0, 699.0, 3217.0, 616.0, 181026.0, 377.0, 1868.0, 788.0, 4354.0, 3393.0, 4108.0], \"type\": \"choropleth\"}], \"name\": \"04-11-2020\"}, {\"data\": [{\"coloraxis\": \"coloraxis\", \"geo\": \"geo\", \"hovertemplate\": \"Date=04-12-2020<br>Code=%{location}<br>Confirmed=%{z}<extra></extra>\", \"locationmode\": \"USA-states\", \"locations\": [\"VT\", \"CA\", \"Virgin Islands\", \"Northern Mariana Islands\", \"AZ\", \"Diamond Princess\", \"LA\", \"MS\", \"MI\", \"KS\", \"SD\", \"FL\", \"WI\", \"AK\", \"SC\", \"OK\", \"NE\", \"Recovered\", \"NV\", \"MD\", \"IN\", \"Guam\", \"GA\", \"WV\", \"ME\", \"PR\", \"NJ\", \"NH\", \"Grand Princess\", \"IA\", \"PA\", \"IL\", \"WY\", \"RI\", \"ND\", \"MO\", \"OR\", \"ID\", \"MT\", \"CT\", \"WA\", \"UT\", \"NM\", \"VA\", \"AR\", \"OH\", \"DC\", \"CO\", \"NC\", \"NY\", \"MA\", \"AL\", \"TX\", \"KY\", \"HI\", \"DE\", \"TN\", \"MN\"], \"name\": \"\", \"z\": [727.0, 22795.0, 51.0, 11.0, 3542.0, 49.0, 20595.0, 2781.0, 24244.0, 1344.0, 730.0, 19895.0, 3341.0, 272.0, 3320.0, 1970.0, 791.0, 0.0, 2836.0, 8225.0, 7928.0, 133.0, 12452.0, 593.0, 633.0, 897.0, 61850.0, 929.0, 103.0, 1587.0, 22938.0, 20852.0, 270.0, 2665.0, 308.0, 4269.0, 1527.0, 1407.0, 387.0, 12035.0, 10609.0, 2303.0, 1245.0, 5274.0, 1280.0, 6604.0, 1875.0, 7307.0, 4570.0, 189033.0, 25475.0, 3563.0, 13677.0, 1963.0, 499.0, 1625.0, 5508.0, 1621.0], \"type\": \"choropleth\"}], \"name\": \"04-12-2020\"}, {\"data\": [{\"coloraxis\": \"coloraxis\", \"geo\": \"geo\", \"hovertemplate\": \"Date=04-13-2020<br>Code=%{location}<br>Confirmed=%{z}<extra></extra>\", \"locationmode\": \"USA-states\", \"locations\": [\"AR\", \"MA\", \"WY\", \"MN\", \"IA\", \"AZ\", \"WV\", \"NV\", \"WA\", \"NY\", \"AK\", \"WI\", \"AL\", \"MD\", \"ME\", \"MI\", \"OR\", \"RI\", \"IN\", \"Diamond Princess\", \"LA\", \"MO\", \"Recovered\", \"UT\", \"OK\", \"TN\", \"NE\", \"Guam\", \"SC\", \"VA\", \"NM\", \"CT\", \"ND\", \"ID\", \"FL\", \"SD\", \"CO\", \"KS\", \"DC\", \"MS\", \"MT\", \"GA\", \"NC\", \"IL\", \"PA\", \"Virgin Islands\", \"Northern Mariana Islands\", \"Grand Princess\", \"VT\", \"NH\", \"NJ\", \"OH\", \"TX\", \"CA\", \"PR\", \"HI\", \"KY\", \"DE\"], \"name\": \"\", \"z\": [1410.0, 26867.0, 275.0, 1621.0, 1710.0, 3705.0, 611.0, 2990.0, 10635.0, 195749.0, 277.0, 3428.0, 3734.0, 8936.0, 698.0, 25635.0, 1584.0, 2665.0, 8359.0, 49.0, 21016.0, 4515.0, 0.0, 2363.0, 2069.0, 5610.0, 814.0, 133.0, 3391.0, 5747.0, 1262.0, 13381.0, 331.0, 1426.0, 21019.0, 868.0, 7691.0, 1390.0, 1955.0, 2942.0, 394.0, 13315.0, 4886.0, 22025.0, 24292.0, 51.0, 11.0, 103.0, 748.0, 985.0, 64584.0, 6975.0, 14275.0, 23931.0, 903.0, 504.0, 2018.0, 1758.0], \"type\": \"choropleth\"}], \"name\": \"04-13-2020\"}, {\"data\": [{\"coloraxis\": \"coloraxis\", \"geo\": \"geo\", \"hovertemplate\": \"Date=04-14-2020<br>Code=%{location}<br>Confirmed=%{z}<extra></extra>\", \"locationmode\": \"USA-states\", \"locations\": [\"Diamond Princess\", \"DE\", \"NC\", \"ND\", \"AL\", \"NM\", \"TN\", \"KY\", \"TX\", \"HI\", \"MD\", \"MO\", \"SC\", \"KS\", \"WY\", \"OR\", \"Grand Princess\", \"PA\", \"IL\", \"NH\", \"NJ\", \"PR\", \"ME\", \"WV\", \"MI\", \"GA\", \"RI\", \"NV\", \"IN\", \"Recovered\", \"OK\", \"NE\", \"AK\", \"WI\", \"FL\", \"SD\", \"Guam\", \"NY\", \"IA\", \"Virgin Islands\", \"ID\", \"MN\", \"CA\", \"MT\", \"VA\", \"AR\", \"UT\", \"CT\", \"Northern Mariana Islands\", \"WA\", \"AZ\", \"MA\", \"OH\", \"CO\", \"DC\", \"VT\", \"LA\", \"MS\"], \"name\": \"\", \"z\": [49.0, 1926.0, 5113.0, 341.0, 3953.0, 1345.0, 5827.0, 2048.0, 15006.0, 511.0, 9472.0, 4746.0, 3553.0, 1441.0, 282.0, 1633.0, 103.0, 25465.0, 23248.0, 922.0, 68824.0, 923.0, 735.0, 640.0, 27001.0, 14578.0, 3251.0, 3134.0, 8527.0, 0.0, 2184.0, 897.0, 285.0, 3555.0, 21628.0, 988.0, 133.0, 203020.0, 1899.0, 51.0, 1464.0, 1695.0, 25356.0, 399.0, 6182.0, 1498.0, 2417.0, 13989.0, 11.0, 10799.0, 3809.0, 28164.0, 7285.0, 7950.0, 2058.0, 752.0, 21518.0, 3087.0], \"type\": \"choropleth\"}], \"name\": \"04-14-2020\"}, {\"data\": [{\"coloraxis\": \"coloraxis\", \"geo\": \"geo\", \"hovertemplate\": \"Date=04-15-2020<br>Code=%{location}<br>Confirmed=%{z}<extra></extra>\", \"locationmode\": \"USA-states\", \"locations\": [\"MD\", \"ID\", \"GA\", \"FL\", \"MN\", \"WI\", \"VT\", \"CA\", \"AK\", \"SC\", \"MS\", \"AR\", \"ME\", \"RI\", \"LA\", \"NV\", \"NE\", \"DC\", \"NJ\", \"MA\", \"OK\", \"PR\", \"Recovered\", \"IN\", \"VA\", \"Guam\", \"TN\", \"SD\", \"Virgin Islands\", \"DE\", \"AZ\", \"CT\", \"Grand Princess\", \"KY\", \"HI\", \"OH\", \"TX\", \"NM\", \"AL\", \"OR\", \"NC\", \"MO\", \"WY\", \"NY\", \"IA\", \"WA\", \"WV\", \"PA\", \"CO\", \"KS\", \"Northern Mariana Islands\", \"ND\", \"NH\", \"UT\", \"Diamond Princess\", \"IL\", \"MT\", \"MI\"], \"name\": \"\", \"z\": [10032.0, 1473.0, 14987.0, 22511.0, 1809.0, 3721.0, 759.0, 26686.0, 293.0, 3656.0, 3360.0, 1569.0, 770.0, 3251.0, 21951.0, 3211.0, 901.0, 2197.0, 71030.0, 29918.0, 2263.0, 974.0, 0.0, 8960.0, 6500.0, 135.0, 5827.0, 1168.0, 51.0, 2014.0, 3964.0, 14755.0, 103.0, 2210.0, 524.0, 7794.0, 15907.0, 1484.0, 4075.0, 1663.0, 5340.0, 4791.0, 287.0, 214454.0, 1995.0, 10942.0, 702.0, 26753.0, 7956.0, 1504.0, 13.0, 365.0, 1139.0, 2548.0, 49.0, 24593.0, 404.0, 28059.0], \"type\": \"choropleth\"}], \"name\": \"04-15-2020\"}, {\"data\": [{\"coloraxis\": \"coloraxis\", \"geo\": \"geo\", \"hovertemplate\": \"Date=04-16-2020<br>Code=%{location}<br>Confirmed=%{z}<extra></extra>\", \"locationmode\": \"USA-states\", \"locations\": [\"IA\", \"IL\", \"MO\", \"NH\", \"GA\", \"NJ\", \"Grand Princess\", \"WY\", \"OR\", \"AZ\", \"Virgin Islands\", \"MD\", \"PR\", \"CA\", \"ME\", \"PA\", \"Northern Mariana Islands\", \"NV\", \"DC\", \"VT\", \"CO\", \"MI\", \"MT\", \"NM\", \"UT\", \"TN\", \"DE\", \"Diamond Princess\", \"WA\", \"KY\", \"TX\", \"OH\", \"AL\", \"NC\", \"HI\", \"NY\", \"CT\", \"WV\", \"ND\", \"SD\", \"MS\", \"LA\", \"RI\", \"VA\", \"Guam\", \"Recovered\", \"IN\", \"KS\", \"OK\", \"AR\", \"MN\", \"AK\", \"WI\", \"SC\", \"FL\", \"ID\", \"MA\", \"NE\"], \"name\": \"\", \"z\": [2141.0, 25734.0, 5174.0, 1139.0, 15669.0, 75317.0, 103.0, 296.0, 1736.0, 4237.0, 51.0, 10784.0, 1043.0, 27677.0, 796.0, 28258.0, 13.0, 3214.0, 2350.0, 774.0, 8286.0, 28809.0, 415.0, 1484.0, 2683.0, 6375.0, 2070.0, 49.0, 11057.0, 2435.0, 16876.0, 8414.0, 4345.0, 5639.0, 530.0, 223691.0, 15884.0, 728.0, 393.0, 1311.0, 3624.0, 22532.0, 3529.0, 6889.0, 135.0, 0.0, 9542.0, 1615.0, 2357.0, 1620.0, 1809.0, 300.0, 3875.0, 3931.0, 23343.0, 1587.0, 32181.0, 952.0], \"type\": \"choropleth\"}], \"name\": \"04-16-2020\"}]);\n",
       "                        }).then(function(){\n",
       "                            \n",
       "var gd = document.getElementById('bb0d89bb-268a-46b8-bc3f-db3e1f619597');\n",
       "var x = new MutationObserver(function (mutations, observer) {{\n",
       "        var display = window.getComputedStyle(gd).display;\n",
       "        if (!display || display === 'none') {{\n",
       "            console.log([gd, 'removed!']);\n",
       "            Plotly.purge(gd);\n",
       "            observer.disconnect();\n",
       "        }}\n",
       "}});\n",
       "\n",
       "// Listen for the removal of the full notebook cells\n",
       "var notebookContainer = gd.closest('#notebook-container');\n",
       "if (notebookContainer) {{\n",
       "    x.observe(notebookContainer, {childList: true});\n",
       "}}\n",
       "\n",
       "// Listen for the clearing of the current output cell\n",
       "var outputEl = gd.closest('.output');\n",
       "if (outputEl) {{\n",
       "    x.observe(outputEl, {childList: true});\n",
       "}}\n",
       "\n",
       "                        })\n",
       "                };\n",
       "                });\n",
       "            </script>\n",
       "        </div>"
      ]
     },
     "metadata": {},
     "output_type": "display_data"
    }
   ],
   "source": [
    "fig = px.choropleth(df_usa, \n",
    "                    locations=df_usa.Code, \n",
    "                    locationmode = \"USA-states\",\n",
    "                    color=\"Confirmed\", \n",
    "                    color_continuous_scale=\"Peach\",\n",
    "                    animation_frame=\"Date\"\n",
    "                   )\n",
    "\n",
    "fig.update_layout(\n",
    "    title_text = 'US Spread of Coronavirus',\n",
    "    title_x = 0.5,\n",
    "    geo_scope='usa',\n",
    "    geo=dict(\n",
    "        showframe = False,\n",
    "        showcoastlines = False,\n",
    "    ))\n",
    "    \n",
    "fig.show()"
   ]
  },
  {
   "cell_type": "code",
   "execution_count": null,
   "metadata": {},
   "outputs": [],
   "source": []
  }
 ],
 "metadata": {
  "kernelspec": {
   "display_name": "Python 3",
   "language": "python",
   "name": "python3"
  },
  "language_info": {
   "codemirror_mode": {
    "name": "ipython",
    "version": 3
   },
   "file_extension": ".py",
   "mimetype": "text/x-python",
   "name": "python",
   "nbconvert_exporter": "python",
   "pygments_lexer": "ipython3",
   "version": "3.7.7"
  }
 },
 "nbformat": 4,
 "nbformat_minor": 4
}
